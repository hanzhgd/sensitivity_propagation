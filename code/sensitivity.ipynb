{
 "cells": [
  {
   "cell_type": "code",
   "execution_count": 10,
   "metadata": {},
   "outputs": [],
   "source": [
    "using Distributions\n",
    "using Statistics\n",
    "using Roots\n",
    "using Plots"
   ]
  },
  {
   "cell_type": "code",
   "execution_count": 11,
   "metadata": {},
   "outputs": [
    {
     "data": {
      "text/plain": [
       "10000"
      ]
     },
     "execution_count": 11,
     "metadata": {},
     "output_type": "execute_result"
    }
   ],
   "source": [
    "N = 10000 # number of total observations"
   ]
  },
  {
   "cell_type": "code",
   "execution_count": 12,
   "metadata": {},
   "outputs": [
    {
     "data": {
      "text/plain": [
       "1.6487212707001282"
      ]
     },
     "execution_count": 12,
     "metadata": {},
     "output_type": "execute_result"
    }
   ],
   "source": [
    "H = exp(0.1) # external validity param\n",
    "K = exp(0.5) # latent-unconfoundedness param"
   ]
  },
  {
   "cell_type": "code",
   "execution_count": 13,
   "metadata": {},
   "outputs": [],
   "source": [
    "U = rand(Normal(), N);"
   ]
  },
  {
   "cell_type": "code",
   "execution_count": 14,
   "metadata": {},
   "outputs": [],
   "source": [
    "S₁ = 5 * (rand(N) .< (0.5 .- 0.3*(U.>0))) .+ 5;\n",
    "histogram(S₁, leg = false);"
   ]
  },
  {
   "cell_type": "code",
   "execution_count": 15,
   "metadata": {},
   "outputs": [],
   "source": [
    "G = rand(N) .> (1 ./ (1 .+ exp.(-log(H).* (U.>0))));\n",
    "histogram(G); # G = 1 for experimental units"
   ]
  },
  {
   "cell_type": "code",
   "execution_count": 16,
   "metadata": {},
   "outputs": [
    {
     "data": {
      "image/svg+xml": "<?xml version=\"1.0\" encoding=\"utf-8\"?>\n<svg xmlns=\"http://www.w3.org/2000/svg\" xmlns:xlink=\"http://www.w3.org/1999/xlink\" width=\"600\" height=\"400\" viewBox=\"0 0 2400 1600\">\n<defs>\n  <clipPath id=\"clip180\">\n    <rect x=\"0\" y=\"0\" width=\"2400\" height=\"1600\"/>\n  </clipPath>\n</defs>\n<path clip-path=\"url(#clip180)\" d=\"\nM0 1600 L2400 1600 L2400 0 L0 0  Z\n  \" fill=\"#ffffff\" fill-rule=\"evenodd\" fill-opacity=\"1\"/>\n<defs>\n  <clipPath id=\"clip181\">\n    <rect x=\"480\" y=\"0\" width=\"1681\" height=\"1600\"/>\n  </clipPath>\n</defs>\n<path clip-path=\"url(#clip180)\" d=\"\nM201.019 1486.45 L2352.76 1486.45 L2352.76 47.2441 L201.019 47.2441  Z\n  \" fill=\"#ffffff\" fill-rule=\"evenodd\" fill-opacity=\"1\"/>\n<defs>\n  <clipPath id=\"clip182\">\n    <rect x=\"201\" y=\"47\" width=\"2153\" height=\"1440\"/>\n  </clipPath>\n</defs>\n<polyline clip-path=\"url(#clip182)\" style=\"stroke:#000000; stroke-linecap:butt; stroke-linejoin:round; stroke-width:2; stroke-opacity:0.1; fill:none\" points=\"\n  319.369,1486.45 319.369,47.2441 \n  \"/>\n<polyline clip-path=\"url(#clip182)\" style=\"stroke:#000000; stroke-linecap:butt; stroke-linejoin:round; stroke-width:2; stroke-opacity:0.1; fill:none\" points=\"\n  638.542,1486.45 638.542,47.2441 \n  \"/>\n<polyline clip-path=\"url(#clip182)\" style=\"stroke:#000000; stroke-linecap:butt; stroke-linejoin:round; stroke-width:2; stroke-opacity:0.1; fill:none\" points=\"\n  957.715,1486.45 957.715,47.2441 \n  \"/>\n<polyline clip-path=\"url(#clip182)\" style=\"stroke:#000000; stroke-linecap:butt; stroke-linejoin:round; stroke-width:2; stroke-opacity:0.1; fill:none\" points=\"\n  1276.89,1486.45 1276.89,47.2441 \n  \"/>\n<polyline clip-path=\"url(#clip182)\" style=\"stroke:#000000; stroke-linecap:butt; stroke-linejoin:round; stroke-width:2; stroke-opacity:0.1; fill:none\" points=\"\n  1596.06,1486.45 1596.06,47.2441 \n  \"/>\n<polyline clip-path=\"url(#clip182)\" style=\"stroke:#000000; stroke-linecap:butt; stroke-linejoin:round; stroke-width:2; stroke-opacity:0.1; fill:none\" points=\"\n  1915.23,1486.45 1915.23,47.2441 \n  \"/>\n<polyline clip-path=\"url(#clip182)\" style=\"stroke:#000000; stroke-linecap:butt; stroke-linejoin:round; stroke-width:2; stroke-opacity:0.1; fill:none\" points=\"\n  2234.41,1486.45 2234.41,47.2441 \n  \"/>\n<polyline clip-path=\"url(#clip180)\" style=\"stroke:#000000; stroke-linecap:butt; stroke-linejoin:round; stroke-width:4; stroke-opacity:1; fill:none\" points=\"\n  201.019,1486.45 2352.76,1486.45 \n  \"/>\n<polyline clip-path=\"url(#clip180)\" style=\"stroke:#000000; stroke-linecap:butt; stroke-linejoin:round; stroke-width:4; stroke-opacity:1; fill:none\" points=\"\n  319.369,1486.45 319.369,1467.55 \n  \"/>\n<polyline clip-path=\"url(#clip180)\" style=\"stroke:#000000; stroke-linecap:butt; stroke-linejoin:round; stroke-width:4; stroke-opacity:1; fill:none\" points=\"\n  638.542,1486.45 638.542,1467.55 \n  \"/>\n<polyline clip-path=\"url(#clip180)\" style=\"stroke:#000000; stroke-linecap:butt; stroke-linejoin:round; stroke-width:4; stroke-opacity:1; fill:none\" points=\"\n  957.715,1486.45 957.715,1467.55 \n  \"/>\n<polyline clip-path=\"url(#clip180)\" style=\"stroke:#000000; stroke-linecap:butt; stroke-linejoin:round; stroke-width:4; stroke-opacity:1; fill:none\" points=\"\n  1276.89,1486.45 1276.89,1467.55 \n  \"/>\n<polyline clip-path=\"url(#clip180)\" style=\"stroke:#000000; stroke-linecap:butt; stroke-linejoin:round; stroke-width:4; stroke-opacity:1; fill:none\" points=\"\n  1596.06,1486.45 1596.06,1467.55 \n  \"/>\n<polyline clip-path=\"url(#clip180)\" style=\"stroke:#000000; stroke-linecap:butt; stroke-linejoin:round; stroke-width:4; stroke-opacity:1; fill:none\" points=\"\n  1915.23,1486.45 1915.23,1467.55 \n  \"/>\n<polyline clip-path=\"url(#clip180)\" style=\"stroke:#000000; stroke-linecap:butt; stroke-linejoin:round; stroke-width:4; stroke-opacity:1; fill:none\" points=\"\n  2234.41,1486.45 2234.41,1467.55 \n  \"/>\n<path clip-path=\"url(#clip180)\" d=\"M309.646 1514.29 L328.003 1514.29 L328.003 1518.22 L313.929 1518.22 L313.929 1526.7 Q314.947 1526.35 315.966 1526.19 Q316.984 1526 318.003 1526 Q323.79 1526 327.17 1529.17 Q330.549 1532.34 330.549 1537.76 Q330.549 1543.34 327.077 1546.44 Q323.605 1549.52 317.285 1549.52 Q315.109 1549.52 312.841 1549.15 Q310.596 1548.78 308.188 1548.04 L308.188 1543.34 Q310.271 1544.47 312.494 1545.03 Q314.716 1545.58 317.193 1545.58 Q321.197 1545.58 323.535 1543.48 Q325.873 1541.37 325.873 1537.76 Q325.873 1534.15 323.535 1532.04 Q321.197 1529.94 317.193 1529.94 Q315.318 1529.94 313.443 1530.35 Q311.591 1530.77 309.646 1531.65 L309.646 1514.29 Z\" fill=\"#000000\" fill-rule=\"evenodd\" fill-opacity=\"1\" /><path clip-path=\"url(#clip180)\" d=\"M638.947 1529.7 Q635.799 1529.7 633.947 1531.86 Q632.118 1534.01 632.118 1537.76 Q632.118 1541.49 633.947 1543.66 Q635.799 1545.82 638.947 1545.82 Q642.095 1545.82 643.924 1543.66 Q645.775 1541.49 645.775 1537.76 Q645.775 1534.01 643.924 1531.86 Q642.095 1529.7 638.947 1529.7 M648.229 1515.05 L648.229 1519.31 Q646.47 1518.48 644.664 1518.04 Q642.882 1517.6 641.123 1517.6 Q636.493 1517.6 634.039 1520.72 Q631.609 1523.85 631.262 1530.17 Q632.627 1528.15 634.687 1527.09 Q636.748 1526 639.224 1526 Q644.433 1526 647.442 1529.17 Q650.474 1532.32 650.474 1537.76 Q650.474 1543.08 647.326 1546.3 Q644.178 1549.52 638.947 1549.52 Q632.951 1549.52 629.78 1544.94 Q626.609 1540.33 626.609 1531.6 Q626.609 1523.41 630.498 1518.55 Q634.387 1513.66 640.937 1513.66 Q642.697 1513.66 644.479 1514.01 Q646.285 1514.36 648.229 1515.05 Z\" fill=\"#000000\" fill-rule=\"evenodd\" fill-opacity=\"1\" /><path clip-path=\"url(#clip180)\" d=\"M946.604 1514.29 L968.826 1514.29 L968.826 1516.28 L956.279 1548.85 L951.395 1548.85 L963.201 1518.22 L946.604 1518.22 L946.604 1514.29 Z\" fill=\"#000000\" fill-rule=\"evenodd\" fill-opacity=\"1\" /><path clip-path=\"url(#clip180)\" d=\"M1276.89 1532.44 Q1273.55 1532.44 1271.63 1534.22 Q1269.73 1536 1269.73 1539.13 Q1269.73 1542.25 1271.63 1544.03 Q1273.55 1545.82 1276.89 1545.82 Q1280.22 1545.82 1282.14 1544.03 Q1284.06 1542.23 1284.06 1539.13 Q1284.06 1536 1282.14 1534.22 Q1280.24 1532.44 1276.89 1532.44 M1272.21 1530.45 Q1269.2 1529.7 1267.51 1527.64 Q1265.85 1525.58 1265.85 1522.62 Q1265.85 1518.48 1268.79 1516.07 Q1271.75 1513.66 1276.89 1513.66 Q1282.05 1513.66 1284.99 1516.07 Q1287.93 1518.48 1287.93 1522.62 Q1287.93 1525.58 1286.24 1527.64 Q1284.57 1529.7 1281.59 1530.45 Q1284.97 1531.23 1286.84 1533.52 Q1288.74 1535.82 1288.74 1539.13 Q1288.74 1544.15 1285.66 1546.83 Q1282.61 1549.52 1276.89 1549.52 Q1271.17 1549.52 1268.09 1546.83 Q1265.04 1544.15 1265.04 1539.13 Q1265.04 1535.82 1266.93 1533.52 Q1268.83 1531.23 1272.21 1530.45 M1270.5 1523.06 Q1270.5 1525.75 1272.17 1527.25 Q1273.86 1528.76 1276.89 1528.76 Q1279.9 1528.76 1281.59 1527.25 Q1283.3 1525.75 1283.3 1523.06 Q1283.3 1520.38 1281.59 1518.87 Q1279.9 1517.37 1276.89 1517.37 Q1273.86 1517.37 1272.17 1518.87 Q1270.5 1520.38 1270.5 1523.06 Z\" fill=\"#000000\" fill-rule=\"evenodd\" fill-opacity=\"1\" /><path clip-path=\"url(#clip180)\" d=\"M1586.36 1548.13 L1586.36 1543.87 Q1588.12 1544.7 1589.93 1545.14 Q1591.73 1545.58 1593.47 1545.58 Q1598.1 1545.58 1600.53 1542.48 Q1602.98 1539.36 1603.33 1533.01 Q1601.99 1535.01 1599.93 1536.07 Q1597.87 1537.13 1595.37 1537.13 Q1590.18 1537.13 1587.15 1534.01 Q1584.14 1530.86 1584.14 1525.42 Q1584.14 1520.1 1587.29 1516.88 Q1590.44 1513.66 1595.67 1513.66 Q1601.66 1513.66 1604.81 1518.27 Q1607.98 1522.85 1607.98 1531.6 Q1607.98 1539.77 1604.09 1544.66 Q1600.23 1549.52 1593.68 1549.52 Q1591.92 1549.52 1590.11 1549.17 Q1588.31 1548.82 1586.36 1548.13 M1595.67 1533.48 Q1598.82 1533.48 1600.64 1531.32 Q1602.5 1529.17 1602.5 1525.42 Q1602.5 1521.7 1600.64 1519.54 Q1598.82 1517.37 1595.67 1517.37 Q1592.52 1517.37 1590.67 1519.54 Q1588.84 1521.7 1588.84 1525.42 Q1588.84 1529.17 1590.67 1531.32 Q1592.52 1533.48 1595.67 1533.48 Z\" fill=\"#000000\" fill-rule=\"evenodd\" fill-opacity=\"1\" /><path clip-path=\"url(#clip180)\" d=\"M1889.92 1544.91 L1897.56 1544.91 L1897.56 1518.55 L1889.25 1520.21 L1889.25 1515.95 L1897.51 1514.29 L1902.19 1514.29 L1902.19 1544.91 L1909.83 1544.91 L1909.83 1548.85 L1889.92 1548.85 L1889.92 1544.91 Z\" fill=\"#000000\" fill-rule=\"evenodd\" fill-opacity=\"1\" /><path clip-path=\"url(#clip180)\" d=\"M1929.27 1517.37 Q1925.66 1517.37 1923.83 1520.93 Q1922.03 1524.47 1922.03 1531.6 Q1922.03 1538.71 1923.83 1542.27 Q1925.66 1545.82 1929.27 1545.82 Q1932.91 1545.82 1934.71 1542.27 Q1936.54 1538.71 1936.54 1531.6 Q1936.54 1524.47 1934.71 1520.93 Q1932.91 1517.37 1929.27 1517.37 M1929.27 1513.66 Q1935.08 1513.66 1938.14 1518.27 Q1941.22 1522.85 1941.22 1531.6 Q1941.22 1540.33 1938.14 1544.94 Q1935.08 1549.52 1929.27 1549.52 Q1923.46 1549.52 1920.38 1544.94 Q1917.33 1540.33 1917.33 1531.6 Q1917.33 1522.85 1920.38 1518.27 Q1923.46 1513.66 1929.27 1513.66 Z\" fill=\"#000000\" fill-rule=\"evenodd\" fill-opacity=\"1\" /><path clip-path=\"url(#clip180)\" d=\"M2209.71 1544.91 L2217.35 1544.91 L2217.35 1518.55 L2209.04 1520.21 L2209.04 1515.95 L2217.3 1514.29 L2221.98 1514.29 L2221.98 1544.91 L2229.61 1544.91 L2229.61 1548.85 L2209.71 1548.85 L2209.71 1544.91 Z\" fill=\"#000000\" fill-rule=\"evenodd\" fill-opacity=\"1\" /><path clip-path=\"url(#clip180)\" d=\"M2239.87 1544.91 L2247.51 1544.91 L2247.51 1518.55 L2239.2 1520.21 L2239.2 1515.95 L2247.46 1514.29 L2252.14 1514.29 L2252.14 1544.91 L2259.78 1544.91 L2259.78 1548.85 L2239.87 1548.85 L2239.87 1544.91 Z\" fill=\"#000000\" fill-rule=\"evenodd\" fill-opacity=\"1\" /><polyline clip-path=\"url(#clip182)\" style=\"stroke:#000000; stroke-linecap:butt; stroke-linejoin:round; stroke-width:2; stroke-opacity:0.1; fill:none\" points=\"\n  201.019,1445.72 2352.76,1445.72 \n  \"/>\n<polyline clip-path=\"url(#clip182)\" style=\"stroke:#000000; stroke-linecap:butt; stroke-linejoin:round; stroke-width:2; stroke-opacity:0.1; fill:none\" points=\"\n  201.019,1047.43 2352.76,1047.43 \n  \"/>\n<polyline clip-path=\"url(#clip182)\" style=\"stroke:#000000; stroke-linecap:butt; stroke-linejoin:round; stroke-width:2; stroke-opacity:0.1; fill:none\" points=\"\n  201.019,649.154 2352.76,649.154 \n  \"/>\n<polyline clip-path=\"url(#clip182)\" style=\"stroke:#000000; stroke-linecap:butt; stroke-linejoin:round; stroke-width:2; stroke-opacity:0.1; fill:none\" points=\"\n  201.019,250.873 2352.76,250.873 \n  \"/>\n<polyline clip-path=\"url(#clip180)\" style=\"stroke:#000000; stroke-linecap:butt; stroke-linejoin:round; stroke-width:4; stroke-opacity:1; fill:none\" points=\"\n  201.019,1486.45 201.019,47.2441 \n  \"/>\n<polyline clip-path=\"url(#clip180)\" style=\"stroke:#000000; stroke-linecap:butt; stroke-linejoin:round; stroke-width:4; stroke-opacity:1; fill:none\" points=\"\n  201.019,1445.72 219.917,1445.72 \n  \"/>\n<polyline clip-path=\"url(#clip180)\" style=\"stroke:#000000; stroke-linecap:butt; stroke-linejoin:round; stroke-width:4; stroke-opacity:1; fill:none\" points=\"\n  201.019,1047.43 219.917,1047.43 \n  \"/>\n<polyline clip-path=\"url(#clip180)\" style=\"stroke:#000000; stroke-linecap:butt; stroke-linejoin:round; stroke-width:4; stroke-opacity:1; fill:none\" points=\"\n  201.019,649.154 219.917,649.154 \n  \"/>\n<polyline clip-path=\"url(#clip180)\" style=\"stroke:#000000; stroke-linecap:butt; stroke-linejoin:round; stroke-width:4; stroke-opacity:1; fill:none\" points=\"\n  201.019,250.873 219.917,250.873 \n  \"/>\n<path clip-path=\"url(#clip180)\" d=\"M153.075 1431.51 Q149.464 1431.51 147.635 1435.08 Q145.83 1438.62 145.83 1445.75 Q145.83 1452.86 147.635 1456.42 Q149.464 1459.96 153.075 1459.96 Q156.709 1459.96 158.515 1456.42 Q160.343 1452.86 160.343 1445.75 Q160.343 1438.62 158.515 1435.08 Q156.709 1431.51 153.075 1431.51 M153.075 1427.81 Q158.885 1427.81 161.941 1432.42 Q165.019 1437 165.019 1445.75 Q165.019 1454.48 161.941 1459.08 Q158.885 1463.67 153.075 1463.67 Q147.265 1463.67 144.186 1459.08 Q141.131 1454.48 141.131 1445.75 Q141.131 1437 144.186 1432.42 Q147.265 1427.81 153.075 1427.81 Z\" fill=\"#000000\" fill-rule=\"evenodd\" fill-opacity=\"1\" /><path clip-path=\"url(#clip180)\" d=\"M53.3995 1060.78 L61.0384 1060.78 L61.0384 1034.41 L52.7282 1036.08 L52.7282 1031.82 L60.9921 1030.15 L65.668 1030.15 L65.668 1060.78 L73.3068 1060.78 L73.3068 1064.71 L53.3995 1064.71 L53.3995 1060.78 Z\" fill=\"#000000\" fill-rule=\"evenodd\" fill-opacity=\"1\" /><path clip-path=\"url(#clip180)\" d=\"M92.7512 1033.23 Q89.1401 1033.23 87.3114 1036.8 Q85.5058 1040.34 85.5058 1047.47 Q85.5058 1054.58 87.3114 1058.14 Q89.1401 1061.68 92.7512 1061.68 Q96.3854 1061.68 98.1909 1058.14 Q100.02 1054.58 100.02 1047.47 Q100.02 1040.34 98.1909 1036.8 Q96.3854 1033.23 92.7512 1033.23 M92.7512 1029.53 Q98.5613 1029.53 101.617 1034.14 Q104.696 1038.72 104.696 1047.47 Q104.696 1056.2 101.617 1060.8 Q98.5613 1065.39 92.7512 1065.39 Q86.941 1065.39 83.8623 1060.8 Q80.8068 1056.2 80.8068 1047.47 Q80.8068 1038.72 83.8623 1034.14 Q86.941 1029.53 92.7512 1029.53 Z\" fill=\"#000000\" fill-rule=\"evenodd\" fill-opacity=\"1\" /><path clip-path=\"url(#clip180)\" d=\"M122.913 1033.23 Q119.302 1033.23 117.473 1036.8 Q115.668 1040.34 115.668 1047.47 Q115.668 1054.58 117.473 1058.14 Q119.302 1061.68 122.913 1061.68 Q126.547 1061.68 128.353 1058.14 Q130.182 1054.58 130.182 1047.47 Q130.182 1040.34 128.353 1036.8 Q126.547 1033.23 122.913 1033.23 M122.913 1029.53 Q128.723 1029.53 131.779 1034.14 Q134.857 1038.72 134.857 1047.47 Q134.857 1056.2 131.779 1060.8 Q128.723 1065.39 122.913 1065.39 Q117.103 1065.39 114.024 1060.8 Q110.969 1056.2 110.969 1047.47 Q110.969 1038.72 114.024 1034.14 Q117.103 1029.53 122.913 1029.53 Z\" fill=\"#000000\" fill-rule=\"evenodd\" fill-opacity=\"1\" /><path clip-path=\"url(#clip180)\" d=\"M153.075 1033.23 Q149.464 1033.23 147.635 1036.8 Q145.83 1040.34 145.83 1047.47 Q145.83 1054.58 147.635 1058.14 Q149.464 1061.68 153.075 1061.68 Q156.709 1061.68 158.515 1058.14 Q160.343 1054.58 160.343 1047.47 Q160.343 1040.34 158.515 1036.8 Q156.709 1033.23 153.075 1033.23 M153.075 1029.53 Q158.885 1029.53 161.941 1034.14 Q165.019 1038.72 165.019 1047.47 Q165.019 1056.2 161.941 1060.8 Q158.885 1065.39 153.075 1065.39 Q147.265 1065.39 144.186 1060.8 Q141.131 1056.2 141.131 1047.47 Q141.131 1038.72 144.186 1034.14 Q147.265 1029.53 153.075 1029.53 Z\" fill=\"#000000\" fill-rule=\"evenodd\" fill-opacity=\"1\" /><path clip-path=\"url(#clip180)\" d=\"M56.6171 662.499 L72.9365 662.499 L72.9365 666.434 L50.9921 666.434 L50.9921 662.499 Q53.6541 659.744 58.2375 655.115 Q62.8439 650.462 64.0245 649.119 Q66.2698 646.596 67.1494 644.86 Q68.0522 643.101 68.0522 641.411 Q68.0522 638.656 66.1078 636.92 Q64.1865 635.184 61.0847 635.184 Q58.8856 635.184 56.4319 635.948 Q54.0014 636.712 51.2236 638.263 L51.2236 633.541 Q54.0477 632.406 56.5014 631.828 Q58.955 631.249 60.9921 631.249 Q66.3624 631.249 69.5568 633.934 Q72.7513 636.619 72.7513 641.11 Q72.7513 643.24 71.9411 645.161 Q71.1541 647.059 69.0476 649.652 Q68.4689 650.323 65.367 653.541 Q62.2652 656.735 56.6171 662.499 Z\" fill=\"#000000\" fill-rule=\"evenodd\" fill-opacity=\"1\" /><path clip-path=\"url(#clip180)\" d=\"M92.7512 634.953 Q89.1401 634.953 87.3114 638.517 Q85.5058 642.059 85.5058 649.189 Q85.5058 656.295 87.3114 659.86 Q89.1401 663.402 92.7512 663.402 Q96.3854 663.402 98.1909 659.86 Q100.02 656.295 100.02 649.189 Q100.02 642.059 98.1909 638.517 Q96.3854 634.953 92.7512 634.953 M92.7512 631.249 Q98.5613 631.249 101.617 635.855 Q104.696 640.439 104.696 649.189 Q104.696 657.916 101.617 662.522 Q98.5613 667.105 92.7512 667.105 Q86.941 667.105 83.8623 662.522 Q80.8068 657.916 80.8068 649.189 Q80.8068 640.439 83.8623 635.855 Q86.941 631.249 92.7512 631.249 Z\" fill=\"#000000\" fill-rule=\"evenodd\" fill-opacity=\"1\" /><path clip-path=\"url(#clip180)\" d=\"M122.913 634.953 Q119.302 634.953 117.473 638.517 Q115.668 642.059 115.668 649.189 Q115.668 656.295 117.473 659.86 Q119.302 663.402 122.913 663.402 Q126.547 663.402 128.353 659.86 Q130.182 656.295 130.182 649.189 Q130.182 642.059 128.353 638.517 Q126.547 634.953 122.913 634.953 M122.913 631.249 Q128.723 631.249 131.779 635.855 Q134.857 640.439 134.857 649.189 Q134.857 657.916 131.779 662.522 Q128.723 667.105 122.913 667.105 Q117.103 667.105 114.024 662.522 Q110.969 657.916 110.969 649.189 Q110.969 640.439 114.024 635.855 Q117.103 631.249 122.913 631.249 Z\" fill=\"#000000\" fill-rule=\"evenodd\" fill-opacity=\"1\" /><path clip-path=\"url(#clip180)\" d=\"M153.075 634.953 Q149.464 634.953 147.635 638.517 Q145.83 642.059 145.83 649.189 Q145.83 656.295 147.635 659.86 Q149.464 663.402 153.075 663.402 Q156.709 663.402 158.515 659.86 Q160.343 656.295 160.343 649.189 Q160.343 642.059 158.515 638.517 Q156.709 634.953 153.075 634.953 M153.075 631.249 Q158.885 631.249 161.941 635.855 Q165.019 640.439 165.019 649.189 Q165.019 657.916 161.941 662.522 Q158.885 667.105 153.075 667.105 Q147.265 667.105 144.186 662.522 Q141.131 657.916 141.131 649.189 Q141.131 640.439 144.186 635.855 Q147.265 631.249 153.075 631.249 Z\" fill=\"#000000\" fill-rule=\"evenodd\" fill-opacity=\"1\" /><path clip-path=\"url(#clip180)\" d=\"M66.7559 249.519 Q70.1124 250.237 71.9874 252.505 Q73.8855 254.774 73.8855 258.107 Q73.8855 263.223 70.367 266.024 Q66.8485 268.824 60.3671 268.824 Q58.1912 268.824 55.8764 268.385 Q53.5847 267.968 51.131 267.111 L51.131 262.598 Q53.0754 263.732 55.3903 264.311 Q57.7051 264.889 60.2282 264.889 Q64.6263 264.889 66.918 263.153 Q69.2328 261.417 69.2328 258.107 Q69.2328 255.051 67.08 253.338 Q64.9504 251.602 61.131 251.602 L57.1032 251.602 L57.1032 247.76 L61.3161 247.76 Q64.7652 247.76 66.5939 246.394 Q68.4226 245.005 68.4226 242.413 Q68.4226 239.751 66.5245 238.338 Q64.6495 236.903 61.131 236.903 Q59.2097 236.903 57.0106 237.32 Q54.8115 237.737 52.1727 238.616 L52.1727 234.45 Q54.8347 233.709 57.1495 233.339 Q59.4875 232.968 61.5476 232.968 Q66.8717 232.968 69.9735 235.399 Q73.0753 237.806 73.0753 241.926 Q73.0753 244.797 71.4318 246.788 Q69.7883 248.755 66.7559 249.519 Z\" fill=\"#000000\" fill-rule=\"evenodd\" fill-opacity=\"1\" /><path clip-path=\"url(#clip180)\" d=\"M92.7512 236.672 Q89.1401 236.672 87.3114 240.237 Q85.5058 243.778 85.5058 250.908 Q85.5058 258.014 87.3114 261.579 Q89.1401 265.121 92.7512 265.121 Q96.3854 265.121 98.1909 261.579 Q100.02 258.014 100.02 250.908 Q100.02 243.778 98.1909 240.237 Q96.3854 236.672 92.7512 236.672 M92.7512 232.968 Q98.5613 232.968 101.617 237.575 Q104.696 242.158 104.696 250.908 Q104.696 259.635 101.617 264.241 Q98.5613 268.824 92.7512 268.824 Q86.941 268.824 83.8623 264.241 Q80.8068 259.635 80.8068 250.908 Q80.8068 242.158 83.8623 237.575 Q86.941 232.968 92.7512 232.968 Z\" fill=\"#000000\" fill-rule=\"evenodd\" fill-opacity=\"1\" /><path clip-path=\"url(#clip180)\" d=\"M122.913 236.672 Q119.302 236.672 117.473 240.237 Q115.668 243.778 115.668 250.908 Q115.668 258.014 117.473 261.579 Q119.302 265.121 122.913 265.121 Q126.547 265.121 128.353 261.579 Q130.182 258.014 130.182 250.908 Q130.182 243.778 128.353 240.237 Q126.547 236.672 122.913 236.672 M122.913 232.968 Q128.723 232.968 131.779 237.575 Q134.857 242.158 134.857 250.908 Q134.857 259.635 131.779 264.241 Q128.723 268.824 122.913 268.824 Q117.103 268.824 114.024 264.241 Q110.969 259.635 110.969 250.908 Q110.969 242.158 114.024 237.575 Q117.103 232.968 122.913 232.968 Z\" fill=\"#000000\" fill-rule=\"evenodd\" fill-opacity=\"1\" /><path clip-path=\"url(#clip180)\" d=\"M153.075 236.672 Q149.464 236.672 147.635 240.237 Q145.83 243.778 145.83 250.908 Q145.83 258.014 147.635 261.579 Q149.464 265.121 153.075 265.121 Q156.709 265.121 158.515 261.579 Q160.343 258.014 160.343 250.908 Q160.343 243.778 158.515 240.237 Q156.709 236.672 153.075 236.672 M153.075 232.968 Q158.885 232.968 161.941 237.575 Q165.019 242.158 165.019 250.908 Q165.019 259.635 161.941 264.241 Q158.885 268.824 153.075 268.824 Q147.265 268.824 144.186 264.241 Q141.131 259.635 141.131 250.908 Q141.131 242.158 144.186 237.575 Q147.265 232.968 153.075 232.968 Z\" fill=\"#000000\" fill-rule=\"evenodd\" fill-opacity=\"1\" /><path clip-path=\"url(#clip182)\" d=\"\nM319.369 191.928 L319.369 1445.72 L638.542 1445.72 L638.542 191.928 L319.369 191.928 L319.369 191.928  Z\n  \" fill=\"#009af9\" fill-rule=\"evenodd\" fill-opacity=\"0.2\"/>\n<polyline clip-path=\"url(#clip182)\" style=\"stroke:#000000; stroke-linecap:butt; stroke-linejoin:round; stroke-width:4; stroke-opacity:0.2; fill:none\" points=\"\n  319.369,191.928 319.369,1445.72 638.542,1445.72 638.542,191.928 319.369,191.928 \n  \"/>\n<path clip-path=\"url(#clip182)\" d=\"\nM638.542 1445.72 L638.542 1445.72 L957.715 1445.72 L957.715 1445.72 L638.542 1445.72 L638.542 1445.72  Z\n  \" fill=\"#009af9\" fill-rule=\"evenodd\" fill-opacity=\"0.2\"/>\n<polyline clip-path=\"url(#clip182)\" style=\"stroke:#000000; stroke-linecap:butt; stroke-linejoin:round; stroke-width:4; stroke-opacity:0.2; fill:none\" points=\"\n  638.542,1445.72 638.542,1445.72 957.715,1445.72 638.542,1445.72 \n  \"/>\n<path clip-path=\"url(#clip182)\" d=\"\nM957.715 1445.72 L957.715 1445.72 L1276.89 1445.72 L1276.89 1445.72 L957.715 1445.72 L957.715 1445.72  Z\n  \" fill=\"#009af9\" fill-rule=\"evenodd\" fill-opacity=\"0.2\"/>\n<polyline clip-path=\"url(#clip182)\" style=\"stroke:#000000; stroke-linecap:butt; stroke-linejoin:round; stroke-width:4; stroke-opacity:0.2; fill:none\" points=\"\n  957.715,1445.72 957.715,1445.72 1276.89,1445.72 957.715,1445.72 \n  \"/>\n<path clip-path=\"url(#clip182)\" d=\"\nM1276.89 1445.72 L1276.89 1445.72 L1596.06 1445.72 L1596.06 1445.72 L1276.89 1445.72 L1276.89 1445.72  Z\n  \" fill=\"#009af9\" fill-rule=\"evenodd\" fill-opacity=\"0.2\"/>\n<polyline clip-path=\"url(#clip182)\" style=\"stroke:#000000; stroke-linecap:butt; stroke-linejoin:round; stroke-width:4; stroke-opacity:0.2; fill:none\" points=\"\n  1276.89,1445.72 1276.89,1445.72 1596.06,1445.72 1276.89,1445.72 \n  \"/>\n<path clip-path=\"url(#clip182)\" d=\"\nM1596.06 1445.72 L1596.06 1445.72 L1915.23 1445.72 L1915.23 1445.72 L1596.06 1445.72 L1596.06 1445.72  Z\n  \" fill=\"#009af9\" fill-rule=\"evenodd\" fill-opacity=\"0.2\"/>\n<polyline clip-path=\"url(#clip182)\" style=\"stroke:#000000; stroke-linecap:butt; stroke-linejoin:round; stroke-width:4; stroke-opacity:0.2; fill:none\" points=\"\n  1596.06,1445.72 1596.06,1445.72 1915.23,1445.72 1596.06,1445.72 \n  \"/>\n<path clip-path=\"url(#clip182)\" d=\"\nM1915.23 783.773 L1915.23 1445.72 L2234.41 1445.72 L2234.41 783.773 L1915.23 783.773 L1915.23 783.773  Z\n  \" fill=\"#009af9\" fill-rule=\"evenodd\" fill-opacity=\"0.2\"/>\n<polyline clip-path=\"url(#clip182)\" style=\"stroke:#000000; stroke-linecap:butt; stroke-linejoin:round; stroke-width:4; stroke-opacity:0.2; fill:none\" points=\"\n  1915.23,783.773 1915.23,1445.72 2234.41,1445.72 2234.41,783.773 1915.23,783.773 \n  \"/>\n<circle clip-path=\"url(#clip182)\" style=\"fill:#009af9; stroke:none; fill-opacity:0\" cx=\"478.955\" cy=\"191.928\" r=\"2\"/>\n<circle clip-path=\"url(#clip182)\" style=\"fill:#009af9; stroke:none; fill-opacity:0\" cx=\"798.128\" cy=\"1445.72\" r=\"2\"/>\n<circle clip-path=\"url(#clip182)\" style=\"fill:#009af9; stroke:none; fill-opacity:0\" cx=\"1117.3\" cy=\"1445.72\" r=\"2\"/>\n<circle clip-path=\"url(#clip182)\" style=\"fill:#009af9; stroke:none; fill-opacity:0\" cx=\"1436.47\" cy=\"1445.72\" r=\"2\"/>\n<circle clip-path=\"url(#clip182)\" style=\"fill:#009af9; stroke:none; fill-opacity:0\" cx=\"1755.65\" cy=\"1445.72\" r=\"2\"/>\n<circle clip-path=\"url(#clip182)\" style=\"fill:#009af9; stroke:none; fill-opacity:0\" cx=\"2074.82\" cy=\"783.773\" r=\"2\"/>\n<path clip-path=\"url(#clip182)\" d=\"\nM319.369 87.9763 L319.369 1445.72 L638.542 1445.72 L638.542 87.9763 L319.369 87.9763 L319.369 87.9763  Z\n  \" fill=\"#e26f46\" fill-rule=\"evenodd\" fill-opacity=\"0.2\"/>\n<polyline clip-path=\"url(#clip182)\" style=\"stroke:#000000; stroke-linecap:butt; stroke-linejoin:round; stroke-width:4; stroke-opacity:0.2; fill:none\" points=\"\n  319.369,87.9763 319.369,1445.72 638.542,1445.72 638.542,87.9763 319.369,87.9763 \n  \"/>\n<path clip-path=\"url(#clip182)\" d=\"\nM638.542 1445.72 L638.542 1445.72 L957.715 1445.72 L957.715 1445.72 L638.542 1445.72 L638.542 1445.72  Z\n  \" fill=\"#e26f46\" fill-rule=\"evenodd\" fill-opacity=\"0.2\"/>\n<polyline clip-path=\"url(#clip182)\" style=\"stroke:#000000; stroke-linecap:butt; stroke-linejoin:round; stroke-width:4; stroke-opacity:0.2; fill:none\" points=\"\n  638.542,1445.72 638.542,1445.72 957.715,1445.72 638.542,1445.72 \n  \"/>\n<path clip-path=\"url(#clip182)\" d=\"\nM957.715 1445.72 L957.715 1445.72 L1276.89 1445.72 L1276.89 1445.72 L957.715 1445.72 L957.715 1445.72  Z\n  \" fill=\"#e26f46\" fill-rule=\"evenodd\" fill-opacity=\"0.2\"/>\n<polyline clip-path=\"url(#clip182)\" style=\"stroke:#000000; stroke-linecap:butt; stroke-linejoin:round; stroke-width:4; stroke-opacity:0.2; fill:none\" points=\"\n  957.715,1445.72 957.715,1445.72 1276.89,1445.72 957.715,1445.72 \n  \"/>\n<path clip-path=\"url(#clip182)\" d=\"\nM1276.89 1445.72 L1276.89 1445.72 L1596.06 1445.72 L1596.06 1445.72 L1276.89 1445.72 L1276.89 1445.72  Z\n  \" fill=\"#e26f46\" fill-rule=\"evenodd\" fill-opacity=\"0.2\"/>\n<polyline clip-path=\"url(#clip182)\" style=\"stroke:#000000; stroke-linecap:butt; stroke-linejoin:round; stroke-width:4; stroke-opacity:0.2; fill:none\" points=\"\n  1276.89,1445.72 1276.89,1445.72 1596.06,1445.72 1276.89,1445.72 \n  \"/>\n<path clip-path=\"url(#clip182)\" d=\"\nM1596.06 1445.72 L1596.06 1445.72 L1915.23 1445.72 L1915.23 1445.72 L1596.06 1445.72 L1596.06 1445.72  Z\n  \" fill=\"#e26f46\" fill-rule=\"evenodd\" fill-opacity=\"0.2\"/>\n<polyline clip-path=\"url(#clip182)\" style=\"stroke:#000000; stroke-linecap:butt; stroke-linejoin:round; stroke-width:4; stroke-opacity:0.2; fill:none\" points=\"\n  1596.06,1445.72 1596.06,1445.72 1915.23,1445.72 1596.06,1445.72 \n  \"/>\n<path clip-path=\"url(#clip182)\" d=\"\nM1915.23 736.377 L1915.23 1445.72 L2234.41 1445.72 L2234.41 736.377 L1915.23 736.377 L1915.23 736.377  Z\n  \" fill=\"#e26f46\" fill-rule=\"evenodd\" fill-opacity=\"0.2\"/>\n<polyline clip-path=\"url(#clip182)\" style=\"stroke:#000000; stroke-linecap:butt; stroke-linejoin:round; stroke-width:4; stroke-opacity:0.2; fill:none\" points=\"\n  1915.23,736.377 1915.23,1445.72 2234.41,1445.72 2234.41,736.377 1915.23,736.377 \n  \"/>\n<circle clip-path=\"url(#clip182)\" style=\"fill:#e26f46; stroke:none; fill-opacity:0\" cx=\"478.955\" cy=\"87.9763\" r=\"2\"/>\n<circle clip-path=\"url(#clip182)\" style=\"fill:#e26f46; stroke:none; fill-opacity:0\" cx=\"798.128\" cy=\"1445.72\" r=\"2\"/>\n<circle clip-path=\"url(#clip182)\" style=\"fill:#e26f46; stroke:none; fill-opacity:0\" cx=\"1117.3\" cy=\"1445.72\" r=\"2\"/>\n<circle clip-path=\"url(#clip182)\" style=\"fill:#e26f46; stroke:none; fill-opacity:0\" cx=\"1436.47\" cy=\"1445.72\" r=\"2\"/>\n<circle clip-path=\"url(#clip182)\" style=\"fill:#e26f46; stroke:none; fill-opacity:0\" cx=\"1755.65\" cy=\"1445.72\" r=\"2\"/>\n<circle clip-path=\"url(#clip182)\" style=\"fill:#e26f46; stroke:none; fill-opacity:0\" cx=\"2074.82\" cy=\"736.377\" r=\"2\"/>\n<path clip-path=\"url(#clip180)\" d=\"\nM1903.36 250.738 L2281.03 250.738 L2281.03 95.2176 L1903.36 95.2176  Z\n  \" fill=\"#ffffff\" fill-rule=\"evenodd\" fill-opacity=\"1\"/>\n<polyline clip-path=\"url(#clip180)\" style=\"stroke:#000000; stroke-linecap:butt; stroke-linejoin:round; stroke-width:4; stroke-opacity:1; fill:none\" points=\"\n  1903.36,250.738 2281.03,250.738 2281.03,95.2176 1903.36,95.2176 1903.36,250.738 \n  \"/>\n<path clip-path=\"url(#clip180)\" d=\"\nM1927.27 167.794 L2070.72 167.794 L2070.72 126.322 L1927.27 126.322 L1927.27 167.794  Z\n  \" fill=\"#009af9\" fill-rule=\"evenodd\" fill-opacity=\"0.2\"/>\n<polyline clip-path=\"url(#clip180)\" style=\"stroke:#000000; stroke-linecap:butt; stroke-linejoin:round; stroke-width:4; stroke-opacity:1; fill:none\" points=\"\n  1927.27,167.794 2070.72,167.794 2070.72,126.322 1927.27,126.322 1927.27,167.794 \n  \"/>\n<path clip-path=\"url(#clip180)\" d=\"M2120.18 159.407 L2120.18 150.125 L2112.54 150.125 L2112.54 146.282 L2124.81 146.282 L2124.81 161.12 Q2122.1 163.041 2118.84 164.037 Q2115.58 165.009 2111.87 165.009 Q2103.77 165.009 2099.19 160.287 Q2094.63 155.541 2094.63 147.092 Q2094.63 138.62 2099.19 133.898 Q2103.77 129.153 2111.87 129.153 Q2115.25 129.153 2118.29 129.986 Q2121.34 130.819 2123.91 132.44 L2123.91 137.416 Q2121.32 135.217 2118.4 134.106 Q2115.48 132.995 2112.27 132.995 Q2105.92 132.995 2102.73 136.537 Q2099.56 140.078 2099.56 147.092 Q2099.56 154.083 2102.73 157.625 Q2105.92 161.166 2112.27 161.166 Q2114.74 161.166 2116.69 160.75 Q2118.63 160.31 2120.18 159.407 Z\" fill=\"#000000\" fill-rule=\"evenodd\" fill-opacity=\"1\" /><path clip-path=\"url(#clip180)\" d=\"M2148.79 142.81 L2178.47 142.81 L2178.47 146.699 L2148.79 146.699 L2148.79 142.81 M2148.79 152.254 L2178.47 152.254 L2178.47 156.189 L2148.79 156.189 L2148.79 152.254 Z\" fill=\"#000000\" fill-rule=\"evenodd\" fill-opacity=\"1\" /><path clip-path=\"url(#clip180)\" d=\"M2203.22 129.778 L2225.07 129.778 L2225.07 133.713 L2207.89 133.713 L2207.89 143.944 L2224.35 143.944 L2224.35 147.879 L2207.89 147.879 L2207.89 160.402 L2225.48 160.402 L2225.48 164.338 L2203.22 164.338 L2203.22 129.778 Z\" fill=\"#000000\" fill-rule=\"evenodd\" fill-opacity=\"1\" /><path clip-path=\"url(#clip180)\" d=\"\nM1927.27 219.634 L2070.72 219.634 L2070.72 178.162 L1927.27 178.162 L1927.27 219.634  Z\n  \" fill=\"#e26f46\" fill-rule=\"evenodd\" fill-opacity=\"0.2\"/>\n<polyline clip-path=\"url(#clip180)\" style=\"stroke:#000000; stroke-linecap:butt; stroke-linejoin:round; stroke-width:4; stroke-opacity:1; fill:none\" points=\"\n  1927.27,219.634 2070.72,219.634 2070.72,178.162 1927.27,178.162 1927.27,219.634 \n  \"/>\n<path clip-path=\"url(#clip180)\" d=\"M2120.18 211.247 L2120.18 201.965 L2112.54 201.965 L2112.54 198.122 L2124.81 198.122 L2124.81 212.96 Q2122.1 214.881 2118.84 215.877 Q2115.58 216.849 2111.87 216.849 Q2103.77 216.849 2099.19 212.127 Q2094.63 207.381 2094.63 198.932 Q2094.63 190.46 2099.19 185.738 Q2103.77 180.993 2111.87 180.993 Q2115.25 180.993 2118.29 181.826 Q2121.34 182.659 2123.91 184.28 L2123.91 189.256 Q2121.32 187.057 2118.4 185.946 Q2115.48 184.835 2112.27 184.835 Q2105.92 184.835 2102.73 188.377 Q2099.56 191.918 2099.56 198.932 Q2099.56 205.923 2102.73 209.465 Q2105.92 213.006 2112.27 213.006 Q2114.74 213.006 2116.69 212.59 Q2118.63 212.15 2120.18 211.247 Z\" fill=\"#000000\" fill-rule=\"evenodd\" fill-opacity=\"1\" /><path clip-path=\"url(#clip180)\" d=\"M2148.79 194.65 L2178.47 194.65 L2178.47 198.539 L2148.79 198.539 L2148.79 194.65 M2148.79 204.094 L2178.47 204.094 L2178.47 208.029 L2148.79 208.029 L2148.79 204.094 Z\" fill=\"#000000\" fill-rule=\"evenodd\" fill-opacity=\"1\" /><path clip-path=\"url(#clip180)\" d=\"M2217.24 184.789 Q2212.15 184.789 2209.14 188.585 Q2206.15 192.381 2206.15 198.932 Q2206.15 205.46 2209.14 209.256 Q2212.15 213.053 2217.24 213.053 Q2222.34 213.053 2225.3 209.256 Q2228.28 205.46 2228.28 198.932 Q2228.28 192.381 2225.3 188.585 Q2222.34 184.789 2217.24 184.789 M2217.24 180.993 Q2224.51 180.993 2228.86 185.877 Q2233.21 190.738 2233.21 198.932 Q2233.21 207.104 2228.86 211.988 Q2224.51 216.849 2217.24 216.849 Q2209.95 216.849 2205.58 211.988 Q2201.22 207.127 2201.22 198.932 Q2201.22 190.738 2205.58 185.877 Q2209.95 180.993 2217.24 180.993 Z\" fill=\"#000000\" fill-rule=\"evenodd\" fill-opacity=\"1\" /></svg>\n"
     },
     "execution_count": 16,
     "metadata": {},
     "output_type": "execute_result"
    }
   ],
   "source": [
    "histogram(S₁[G .== 1], label = \"G = E\", alpha = 0.2)\n",
    "histogram!(S₁[G .== 0], label = \"G = O\", alpha = 0.2)"
   ]
  },
  {
   "cell_type": "code",
   "execution_count": 17,
   "metadata": {},
   "outputs": [],
   "source": [
    "using DataFrames"
   ]
  },
  {
   "cell_type": "code",
   "execution_count": 18,
   "metadata": {},
   "outputs": [
    {
     "data": {
      "text/html": [
       "<table class=\"data-frame\"><thead><tr><th></th><th>G</th><th>S1_mean</th></tr><tr><th></th><th>Bool</th><th>Float64</th></tr></thead><tbody><p>2 rows × 2 columns</p><tr><th>1</th><td>1</td><td>6.72765</td></tr><tr><th>2</th><td>0</td><td>6.7158</td></tr></tbody></table>"
      ],
      "text/latex": [
       "\\begin{tabular}{r|cc}\n",
       "\t& G & S1\\_mean\\\\\n",
       "\t\\hline\n",
       "\t& Bool & Float64\\\\\n",
       "\t\\hline\n",
       "\t1 & 1 & 6.72765 \\\\\n",
       "\t2 & 0 & 6.7158 \\\\\n",
       "\\end{tabular}\n"
      ],
      "text/plain": [
       "\u001b[1m2×2 DataFrame\u001b[0m\n",
       "\u001b[1m Row \u001b[0m│\u001b[1m G     \u001b[0m\u001b[1m S1_mean \u001b[0m\n",
       "\u001b[1m     \u001b[0m│\u001b[90m Bool  \u001b[0m\u001b[90m Float64 \u001b[0m\n",
       "─────┼────────────────\n",
       "   1 │  true  6.72765\n",
       "   2 │ false  6.7158"
      ]
     },
     "execution_count": 18,
     "metadata": {},
     "output_type": "execute_result"
    }
   ],
   "source": [
    "df = DataFrame(G = G, S1 = S₁);\n",
    "gdf = groupby(df, :G);\n",
    "combine(gdf, :S1 => mean)"
   ]
  },
  {
   "cell_type": "code",
   "execution_count": 19,
   "metadata": {},
   "outputs": [],
   "source": [
    "V = rand(Normal(), N);"
   ]
  },
  {
   "cell_type": "code",
   "execution_count": 20,
   "metadata": {},
   "outputs": [
    {
     "data": {
      "text/plain": [
       "6.74820222886905"
      ]
     },
     "execution_count": 20,
     "metadata": {},
     "output_type": "execute_result"
    }
   ],
   "source": [
    "Y₁ = S₁ + V + randn(N);\n",
    "mean(Y₁)"
   ]
  },
  {
   "cell_type": "code",
   "execution_count": 21,
   "metadata": {},
   "outputs": [],
   "source": [
    "D = similar(G);"
   ]
  },
  {
   "cell_type": "code",
   "execution_count": 22,
   "metadata": {},
   "outputs": [],
   "source": [
    "D[G .== 1] = rand((0,1), sum(G .== 1)); # randomization in the experimental sample\n",
    "D[G .== 0] = rand(sum(G .== 0)) .> (1 ./ (1 .+ exp.(-log(K).* (V[G .== 0].>0) .- 0.1 .*S₁[G .== 0]))); # K-latent-confoundedness"
   ]
  },
  {
   "cell_type": "code",
   "execution_count": 23,
   "metadata": {},
   "outputs": [
    {
     "data": {
      "text/html": [
       "<table class=\"data-frame\"><thead><tr><th></th><th>G</th><th>S1</th><th>D</th><th>Y1</th><th>S</th><th>Y</th></tr><tr><th></th><th>Bool</th><th>Int64</th><th>Bool</th><th>Float64</th><th>Int64</th><th>Float64</th></tr></thead><tbody><p>10,000 rows × 6 columns</p><tr><th>1</th><td>1</td><td>10</td><td>1</td><td>10.8768</td><td>10</td><td>10.8768</td></tr><tr><th>2</th><td>1</td><td>5</td><td>1</td><td>5.89644</td><td>5</td><td>5.89644</td></tr><tr><th>3</th><td>1</td><td>5</td><td>0</td><td>5.59183</td><td>0</td><td>0.0</td></tr><tr><th>4</th><td>1</td><td>5</td><td>1</td><td>2.91205</td><td>5</td><td>2.91205</td></tr><tr><th>5</th><td>1</td><td>5</td><td>1</td><td>7.53401</td><td>5</td><td>7.53401</td></tr><tr><th>6</th><td>0</td><td>5</td><td>0</td><td>5.45602</td><td>0</td><td>0.0</td></tr><tr><th>7</th><td>0</td><td>5</td><td>1</td><td>8.35934</td><td>5</td><td>8.35934</td></tr><tr><th>8</th><td>0</td><td>10</td><td>0</td><td>11.6997</td><td>0</td><td>0.0</td></tr><tr><th>9</th><td>1</td><td>5</td><td>1</td><td>5.00446</td><td>5</td><td>5.00446</td></tr><tr><th>10</th><td>1</td><td>5</td><td>0</td><td>5.64013</td><td>0</td><td>0.0</td></tr><tr><th>11</th><td>1</td><td>5</td><td>0</td><td>6.66685</td><td>0</td><td>0.0</td></tr><tr><th>12</th><td>1</td><td>5</td><td>1</td><td>3.97339</td><td>5</td><td>3.97339</td></tr><tr><th>13</th><td>0</td><td>5</td><td>0</td><td>2.15016</td><td>0</td><td>0.0</td></tr><tr><th>14</th><td>0</td><td>5</td><td>1</td><td>3.96239</td><td>5</td><td>3.96239</td></tr><tr><th>15</th><td>0</td><td>5</td><td>1</td><td>5.35048</td><td>5</td><td>5.35048</td></tr><tr><th>16</th><td>1</td><td>5</td><td>0</td><td>7.22806</td><td>0</td><td>0.0</td></tr><tr><th>17</th><td>0</td><td>5</td><td>0</td><td>4.5867</td><td>0</td><td>0.0</td></tr><tr><th>18</th><td>0</td><td>10</td><td>0</td><td>11.0982</td><td>0</td><td>0.0</td></tr><tr><th>19</th><td>1</td><td>10</td><td>0</td><td>8.36776</td><td>0</td><td>0.0</td></tr><tr><th>20</th><td>0</td><td>5</td><td>0</td><td>4.78698</td><td>0</td><td>0.0</td></tr><tr><th>21</th><td>0</td><td>5</td><td>0</td><td>6.81554</td><td>0</td><td>0.0</td></tr><tr><th>22</th><td>0</td><td>5</td><td>1</td><td>6.74508</td><td>5</td><td>6.74508</td></tr><tr><th>23</th><td>1</td><td>5</td><td>0</td><td>7.43442</td><td>0</td><td>0.0</td></tr><tr><th>24</th><td>1</td><td>10</td><td>0</td><td>8.25448</td><td>0</td><td>0.0</td></tr><tr><th>25</th><td>0</td><td>5</td><td>0</td><td>5.9796</td><td>0</td><td>0.0</td></tr><tr><th>26</th><td>0</td><td>10</td><td>0</td><td>8.80475</td><td>0</td><td>0.0</td></tr><tr><th>27</th><td>1</td><td>5</td><td>0</td><td>2.19436</td><td>0</td><td>0.0</td></tr><tr><th>28</th><td>0</td><td>10</td><td>0</td><td>11.2998</td><td>0</td><td>0.0</td></tr><tr><th>29</th><td>0</td><td>10</td><td>0</td><td>10.9402</td><td>0</td><td>0.0</td></tr><tr><th>30</th><td>1</td><td>5</td><td>0</td><td>5.17769</td><td>0</td><td>0.0</td></tr><tr><th>&vellip;</th><td>&vellip;</td><td>&vellip;</td><td>&vellip;</td><td>&vellip;</td><td>&vellip;</td><td>&vellip;</td></tr></tbody></table>"
      ],
      "text/latex": [
       "\\begin{tabular}{r|cccccc}\n",
       "\t& G & S1 & D & Y1 & S & Y\\\\\n",
       "\t\\hline\n",
       "\t& Bool & Int64 & Bool & Float64 & Int64 & Float64\\\\\n",
       "\t\\hline\n",
       "\t1 & 1 & 10 & 1 & 10.8768 & 10 & 10.8768 \\\\\n",
       "\t2 & 1 & 5 & 1 & 5.89644 & 5 & 5.89644 \\\\\n",
       "\t3 & 1 & 5 & 0 & 5.59183 & 0 & 0.0 \\\\\n",
       "\t4 & 1 & 5 & 1 & 2.91205 & 5 & 2.91205 \\\\\n",
       "\t5 & 1 & 5 & 1 & 7.53401 & 5 & 7.53401 \\\\\n",
       "\t6 & 0 & 5 & 0 & 5.45602 & 0 & 0.0 \\\\\n",
       "\t7 & 0 & 5 & 1 & 8.35934 & 5 & 8.35934 \\\\\n",
       "\t8 & 0 & 10 & 0 & 11.6997 & 0 & 0.0 \\\\\n",
       "\t9 & 1 & 5 & 1 & 5.00446 & 5 & 5.00446 \\\\\n",
       "\t10 & 1 & 5 & 0 & 5.64013 & 0 & 0.0 \\\\\n",
       "\t11 & 1 & 5 & 0 & 6.66685 & 0 & 0.0 \\\\\n",
       "\t12 & 1 & 5 & 1 & 3.97339 & 5 & 3.97339 \\\\\n",
       "\t13 & 0 & 5 & 0 & 2.15016 & 0 & 0.0 \\\\\n",
       "\t14 & 0 & 5 & 1 & 3.96239 & 5 & 3.96239 \\\\\n",
       "\t15 & 0 & 5 & 1 & 5.35048 & 5 & 5.35048 \\\\\n",
       "\t16 & 1 & 5 & 0 & 7.22806 & 0 & 0.0 \\\\\n",
       "\t17 & 0 & 5 & 0 & 4.5867 & 0 & 0.0 \\\\\n",
       "\t18 & 0 & 10 & 0 & 11.0982 & 0 & 0.0 \\\\\n",
       "\t19 & 1 & 10 & 0 & 8.36776 & 0 & 0.0 \\\\\n",
       "\t20 & 0 & 5 & 0 & 4.78698 & 0 & 0.0 \\\\\n",
       "\t21 & 0 & 5 & 0 & 6.81554 & 0 & 0.0 \\\\\n",
       "\t22 & 0 & 5 & 1 & 6.74508 & 5 & 6.74508 \\\\\n",
       "\t23 & 1 & 5 & 0 & 7.43442 & 0 & 0.0 \\\\\n",
       "\t24 & 1 & 10 & 0 & 8.25448 & 0 & 0.0 \\\\\n",
       "\t25 & 0 & 5 & 0 & 5.9796 & 0 & 0.0 \\\\\n",
       "\t26 & 0 & 10 & 0 & 8.80475 & 0 & 0.0 \\\\\n",
       "\t27 & 1 & 5 & 0 & 2.19436 & 0 & 0.0 \\\\\n",
       "\t28 & 0 & 10 & 0 & 11.2998 & 0 & 0.0 \\\\\n",
       "\t29 & 0 & 10 & 0 & 10.9402 & 0 & 0.0 \\\\\n",
       "\t30 & 1 & 5 & 0 & 5.17769 & 0 & 0.0 \\\\\n",
       "\t$\\dots$ & $\\dots$ & $\\dots$ & $\\dots$ & $\\dots$ & $\\dots$ & $\\dots$ \\\\\n",
       "\\end{tabular}\n"
      ],
      "text/plain": [
       "\u001b[1m10000×6 DataFrame\u001b[0m\n",
       "\u001b[1m   Row \u001b[0m│\u001b[1m G     \u001b[0m\u001b[1m S1    \u001b[0m\u001b[1m D     \u001b[0m\u001b[1m Y1       \u001b[0m\u001b[1m S     \u001b[0m\u001b[1m Y        \u001b[0m\n",
       "\u001b[1m       \u001b[0m│\u001b[90m Bool  \u001b[0m\u001b[90m Int64 \u001b[0m\u001b[90m Bool  \u001b[0m\u001b[90m Float64  \u001b[0m\u001b[90m Int64 \u001b[0m\u001b[90m Float64  \u001b[0m\n",
       "───────┼────────────────────────────────────────────────\n",
       "     1 │  true     10   true  10.8768      10  10.8768\n",
       "     2 │  true      5   true   5.89644      5   5.89644\n",
       "     3 │  true      5  false   5.59183      0   0.0\n",
       "     4 │  true      5   true   2.91205      5   2.91205\n",
       "     5 │  true      5   true   7.53401      5   7.53401\n",
       "     6 │ false      5  false   5.45602      0   0.0\n",
       "     7 │ false      5   true   8.35934      5   8.35934\n",
       "     8 │ false     10  false  11.6997       0   0.0\n",
       "     9 │  true      5   true   5.00446      5   5.00446\n",
       "    10 │  true      5  false   5.64013      0   0.0\n",
       "    11 │  true      5  false   6.66685      0   0.0\n",
       "   ⋮   │   ⋮      ⋮      ⋮       ⋮        ⋮       ⋮\n",
       "  9991 │  true      5  false   5.28392      0   0.0\n",
       "  9992 │  true      5  false   4.15908      0   0.0\n",
       "  9993 │  true      5   true   2.57463      5   2.57463\n",
       "  9994 │  true      5  false   2.74415      0   0.0\n",
       "  9995 │ false     10  false  12.0557       0   0.0\n",
       "  9996 │ false      5   true   5.26224      5   5.26224\n",
       "  9997 │ false     10  false   9.23681      0   0.0\n",
       "  9998 │ false     10  false   9.11828      0   0.0\n",
       "  9999 │ false     10  false   9.01369      0   0.0\n",
       " 10000 │ false      5  false   4.52601      0   0.0\n",
       "\u001b[36m                                       9979 rows omitted\u001b[0m"
      ]
     },
     "execution_count": 23,
     "metadata": {},
     "output_type": "execute_result"
    }
   ],
   "source": [
    "df = DataFrame(G = G, S1 = S₁, D=D, Y1 = Y₁, S = D.*S₁, Y = D.*Y₁)"
   ]
  },
  {
   "cell_type": "code",
   "execution_count": 24,
   "metadata": {},
   "outputs": [
    {
     "data": {
      "text/plain": [
       "ϕ′ (generic function with 1 method)"
      ]
     },
     "execution_count": 24,
     "metadata": {},
     "output_type": "execute_result"
    }
   ],
   "source": [
    "ϕ(x, y) = max.(y .- x, 0) .- H .* max.(x .- y, 0)\n",
    "ϕ′(x, y) = max.(x .- y, 0) .- H .* max.(y .- x, 0)"
   ]
  },
  {
   "cell_type": "code",
   "execution_count": 25,
   "metadata": {},
   "outputs": [
    {
     "data": {
      "text/plain": [
       "g (generic function with 1 method)"
      ]
     },
     "execution_count": 25,
     "metadata": {},
     "output_type": "execute_result"
    }
   ],
   "source": [
    "f(m) = mean((df.D .== 1) .* (df.G .== 1) .* ϕ(m, df.S))\n",
    "g(m) = mean((df.D .== 1) .* (df.G .== 1) .* ϕ′(m, df.S))"
   ]
  },
  {
   "cell_type": "code",
   "execution_count": 26,
   "metadata": {},
   "outputs": [
    {
     "data": {
      "text/plain": [
       "6.637921374299191"
      ]
     },
     "execution_count": 26,
     "metadata": {},
     "output_type": "execute_result"
    }
   ],
   "source": [
    "find_zero(f, 2.0)"
   ]
  },
  {
   "cell_type": "code",
   "execution_count": 27,
   "metadata": {},
   "outputs": [
    {
     "data": {
      "text/plain": [
       "6.865276774686964"
      ]
     },
     "execution_count": 27,
     "metadata": {},
     "output_type": "execute_result"
    }
   ],
   "source": [
    "find_zero(g, 2.0)"
   ]
  },
  {
   "cell_type": "code",
   "execution_count": 28,
   "metadata": {},
   "outputs": [
    {
     "data": {
      "text/plain": [
       "ψ′ (generic function with 1 method)"
      ]
     },
     "execution_count": 28,
     "metadata": {},
     "output_type": "execute_result"
    }
   ],
   "source": [
    "ψ(x, y) = max.(y .- x, 0) .- K .* max.(x .- y, 0)\n",
    "ψ′(x, y) = max.(x .- y, 0) .- K .* max.(y .- x, 0)"
   ]
  },
  {
   "cell_type": "code",
   "execution_count": 29,
   "metadata": {},
   "outputs": [
    {
     "data": {
      "text/plain": [
       "g (generic function with 1 method)"
      ]
     },
     "execution_count": 29,
     "metadata": {},
     "output_type": "execute_result"
    }
   ],
   "source": [
    "f(s) = m -> mean((df.D .== 1) .* (df.G .== 0) .* (df.S .≈ s) .* ψ(m, df.Y))\n",
    "g(s) = m -> mean((df.D .== 1) .* (df.G .== 0) .* (df.S .≈ s) .* ψ′(m, df.Y))"
   ]
  },
  {
   "cell_type": "code",
   "execution_count": 30,
   "metadata": {},
   "outputs": [
    {
     "data": {
      "text/plain": [
       "4.574905667208948"
      ]
     },
     "execution_count": 30,
     "metadata": {},
     "output_type": "execute_result"
    }
   ],
   "source": [
    "θ1hat_s1 = find_zero(f(5), 2.0)"
   ]
  },
  {
   "cell_type": "code",
   "execution_count": 31,
   "metadata": {},
   "outputs": [
    {
     "data": {
      "text/plain": [
       "9.530545992998208"
      ]
     },
     "execution_count": 31,
     "metadata": {},
     "output_type": "execute_result"
    }
   ],
   "source": [
    "θ1hat_s2 = find_zero(f(10), 2.0)"
   ]
  },
  {
   "cell_type": "code",
   "execution_count": 32,
   "metadata": {},
   "outputs": [
    {
     "data": {
      "text/plain": [
       "lower (generic function with 1 method)"
      ]
     },
     "execution_count": 32,
     "metadata": {},
     "output_type": "execute_result"
    }
   ],
   "source": [
    "lower(m) = mean((df.D.==1) .* (df.G .== 1) .*\n",
    "    (df.S .== 5) .* ϕ(m, θ1hat_s1)) + mean((df.D.==1) .* (df.G .== 1) .*\n",
    "    (df.S .== 10) .* ϕ(m, θ1hat_s2)) "
   ]
  },
  {
   "cell_type": "code",
   "execution_count": 33,
   "metadata": {},
   "outputs": [
    {
     "data": {
      "text/plain": [
       "6.198295509798796"
      ]
     },
     "execution_count": 33,
     "metadata": {},
     "output_type": "execute_result"
    }
   ],
   "source": [
    "find_zero(lower, 2.0)"
   ]
  },
  {
   "cell_type": "code",
   "execution_count": 34,
   "metadata": {},
   "outputs": [
    {
     "data": {
      "text/plain": [
       "6.732283997929555"
      ]
     },
     "execution_count": 34,
     "metadata": {},
     "output_type": "execute_result"
    }
   ],
   "source": [
    "mean(df[df.G .== 0, :Y1])"
   ]
  },
  {
   "cell_type": "code",
   "execution_count": 35,
   "metadata": {},
   "outputs": [
    {
     "data": {
      "text/plain": [
       "6.1073374831889975"
      ]
     },
     "execution_count": 35,
     "metadata": {},
     "output_type": "execute_result"
    }
   ],
   "source": [
    "mean(df[ (df.G .== 0) .* (df.D .== 1), :Y])"
   ]
  },
  {
   "cell_type": "code",
   "execution_count": null,
   "metadata": {},
   "outputs": [],
   "source": []
  },
  {
   "cell_type": "markdown",
   "metadata": {},
   "source": [
    "## Wrapping things up"
   ]
  },
  {
   "cell_type": "code",
   "execution_count": 36,
   "metadata": {},
   "outputs": [],
   "source": [
    "using Distributions\n",
    "using Statistics\n",
    "using Roots\n",
    "using Plots\n",
    "using DataFrames"
   ]
  },
  {
   "cell_type": "code",
   "execution_count": null,
   "metadata": {},
   "outputs": [],
   "source": []
  },
  {
   "cell_type": "code",
   "execution_count": 37,
   "metadata": {},
   "outputs": [
    {
     "data": {
      "text/plain": [
       "data_generation (generic function with 2 methods)"
      ]
     },
     "execution_count": 37,
     "metadata": {},
     "output_type": "execute_result"
    }
   ],
   "source": [
    "function data_generation(N = 10000; H = exp(0.1), K = exp(0.5))\n",
    "    N = 10000 # number of total observations\n",
    "    \n",
    "    # unobserved confounder for external validity\n",
    "    U = rand(Normal(), N)\n",
    "    \n",
    "    # DGP for S₁ and G. They all depend on U.\n",
    "    S₁ = 5 * (rand(N) .< (0.5 .- 0.3*(U.>0))) .+ 5 \n",
    "    G = rand(N) .> (1 ./ (1 .+ exp.(-log(H).* (U.>0)))); \n",
    "    \n",
    "    # unobserved confounder for latent unconfoundedness\n",
    "    V = rand(Normal(), N);\n",
    "    \n",
    "    # DGP for Y₁ and D. They all depend on V.\n",
    "    Y₁ = S₁ + V + randn(N);\n",
    "    D = similar(G);\n",
    "    \n",
    "    # randomization in the experimental sample\n",
    "    D[G .== 1] = rand((0,1), sum(G .== 1))\n",
    "    \n",
    "    # K-latent-confoundedness\n",
    "    D[G .== 0] = rand(sum(G .== 0)) .> \n",
    "    (1 ./ (1 .+ exp.(-log(K).* (V[G .== 0].>0) .- 0.1 .*S₁[G .== 0])))\n",
    "    \n",
    "    df = DataFrame(G = G, S1 = S₁, D=D, Y1 = Y₁, S = D.*S₁, Y = D.*Y₁)\n",
    "end"
   ]
  },
  {
   "cell_type": "code",
   "execution_count": 38,
   "metadata": {},
   "outputs": [
    {
     "data": {
      "text/html": [
       "<table class=\"data-frame\"><thead><tr><th></th><th>G</th><th>S1</th><th>D</th><th>Y1</th><th>S</th><th>Y</th></tr><tr><th></th><th>Bool</th><th>Int64</th><th>Bool</th><th>Float64</th><th>Int64</th><th>Float64</th></tr></thead><tbody><p>10,000 rows × 6 columns</p><tr><th>1</th><td>1</td><td>5</td><td>0</td><td>5.55773</td><td>0</td><td>0.0</td></tr><tr><th>2</th><td>1</td><td>10</td><td>0</td><td>8.94009</td><td>0</td><td>0.0</td></tr><tr><th>3</th><td>0</td><td>5</td><td>1</td><td>8.16212</td><td>5</td><td>8.16212</td></tr><tr><th>4</th><td>1</td><td>5</td><td>1</td><td>4.5757</td><td>5</td><td>4.5757</td></tr><tr><th>5</th><td>0</td><td>5</td><td>0</td><td>5.8622</td><td>0</td><td>0.0</td></tr><tr><th>6</th><td>1</td><td>5</td><td>1</td><td>4.83542</td><td>5</td><td>4.83542</td></tr><tr><th>7</th><td>1</td><td>5</td><td>1</td><td>5.16341</td><td>5</td><td>5.16341</td></tr><tr><th>8</th><td>0</td><td>5</td><td>0</td><td>3.69773</td><td>0</td><td>0.0</td></tr><tr><th>9</th><td>0</td><td>10</td><td>1</td><td>8.66727</td><td>10</td><td>8.66727</td></tr><tr><th>10</th><td>1</td><td>5</td><td>1</td><td>3.93302</td><td>5</td><td>3.93302</td></tr><tr><th>11</th><td>0</td><td>5</td><td>0</td><td>2.88758</td><td>0</td><td>0.0</td></tr><tr><th>12</th><td>0</td><td>10</td><td>0</td><td>10.5627</td><td>0</td><td>0.0</td></tr><tr><th>13</th><td>0</td><td>10</td><td>0</td><td>12.0225</td><td>0</td><td>0.0</td></tr><tr><th>14</th><td>1</td><td>10</td><td>1</td><td>8.78235</td><td>10</td><td>8.78235</td></tr><tr><th>15</th><td>1</td><td>5</td><td>0</td><td>5.70626</td><td>0</td><td>0.0</td></tr><tr><th>16</th><td>1</td><td>10</td><td>1</td><td>10.9387</td><td>10</td><td>10.9387</td></tr><tr><th>17</th><td>0</td><td>5</td><td>0</td><td>4.84707</td><td>0</td><td>0.0</td></tr><tr><th>18</th><td>0</td><td>5</td><td>1</td><td>3.37985</td><td>5</td><td>3.37985</td></tr><tr><th>19</th><td>0</td><td>5</td><td>1</td><td>3.19066</td><td>5</td><td>3.19066</td></tr><tr><th>20</th><td>1</td><td>5</td><td>0</td><td>2.72275</td><td>0</td><td>0.0</td></tr><tr><th>21</th><td>1</td><td>5</td><td>1</td><td>3.1178</td><td>5</td><td>3.1178</td></tr><tr><th>22</th><td>1</td><td>10</td><td>1</td><td>9.3562</td><td>10</td><td>9.3562</td></tr><tr><th>23</th><td>0</td><td>5</td><td>0</td><td>5.33657</td><td>0</td><td>0.0</td></tr><tr><th>24</th><td>0</td><td>10</td><td>0</td><td>10.5335</td><td>0</td><td>0.0</td></tr><tr><th>25</th><td>0</td><td>5</td><td>0</td><td>6.34707</td><td>0</td><td>0.0</td></tr><tr><th>26</th><td>0</td><td>10</td><td>0</td><td>12.0435</td><td>0</td><td>0.0</td></tr><tr><th>27</th><td>1</td><td>5</td><td>0</td><td>5.76884</td><td>0</td><td>0.0</td></tr><tr><th>28</th><td>0</td><td>10</td><td>0</td><td>10.5379</td><td>0</td><td>0.0</td></tr><tr><th>29</th><td>1</td><td>5</td><td>1</td><td>3.7239</td><td>5</td><td>3.7239</td></tr><tr><th>30</th><td>1</td><td>5</td><td>1</td><td>6.17988</td><td>5</td><td>6.17988</td></tr><tr><th>&vellip;</th><td>&vellip;</td><td>&vellip;</td><td>&vellip;</td><td>&vellip;</td><td>&vellip;</td><td>&vellip;</td></tr></tbody></table>"
      ],
      "text/latex": [
       "\\begin{tabular}{r|cccccc}\n",
       "\t& G & S1 & D & Y1 & S & Y\\\\\n",
       "\t\\hline\n",
       "\t& Bool & Int64 & Bool & Float64 & Int64 & Float64\\\\\n",
       "\t\\hline\n",
       "\t1 & 1 & 5 & 0 & 5.55773 & 0 & 0.0 \\\\\n",
       "\t2 & 1 & 10 & 0 & 8.94009 & 0 & 0.0 \\\\\n",
       "\t3 & 0 & 5 & 1 & 8.16212 & 5 & 8.16212 \\\\\n",
       "\t4 & 1 & 5 & 1 & 4.5757 & 5 & 4.5757 \\\\\n",
       "\t5 & 0 & 5 & 0 & 5.8622 & 0 & 0.0 \\\\\n",
       "\t6 & 1 & 5 & 1 & 4.83542 & 5 & 4.83542 \\\\\n",
       "\t7 & 1 & 5 & 1 & 5.16341 & 5 & 5.16341 \\\\\n",
       "\t8 & 0 & 5 & 0 & 3.69773 & 0 & 0.0 \\\\\n",
       "\t9 & 0 & 10 & 1 & 8.66727 & 10 & 8.66727 \\\\\n",
       "\t10 & 1 & 5 & 1 & 3.93302 & 5 & 3.93302 \\\\\n",
       "\t11 & 0 & 5 & 0 & 2.88758 & 0 & 0.0 \\\\\n",
       "\t12 & 0 & 10 & 0 & 10.5627 & 0 & 0.0 \\\\\n",
       "\t13 & 0 & 10 & 0 & 12.0225 & 0 & 0.0 \\\\\n",
       "\t14 & 1 & 10 & 1 & 8.78235 & 10 & 8.78235 \\\\\n",
       "\t15 & 1 & 5 & 0 & 5.70626 & 0 & 0.0 \\\\\n",
       "\t16 & 1 & 10 & 1 & 10.9387 & 10 & 10.9387 \\\\\n",
       "\t17 & 0 & 5 & 0 & 4.84707 & 0 & 0.0 \\\\\n",
       "\t18 & 0 & 5 & 1 & 3.37985 & 5 & 3.37985 \\\\\n",
       "\t19 & 0 & 5 & 1 & 3.19066 & 5 & 3.19066 \\\\\n",
       "\t20 & 1 & 5 & 0 & 2.72275 & 0 & 0.0 \\\\\n",
       "\t21 & 1 & 5 & 1 & 3.1178 & 5 & 3.1178 \\\\\n",
       "\t22 & 1 & 10 & 1 & 9.3562 & 10 & 9.3562 \\\\\n",
       "\t23 & 0 & 5 & 0 & 5.33657 & 0 & 0.0 \\\\\n",
       "\t24 & 0 & 10 & 0 & 10.5335 & 0 & 0.0 \\\\\n",
       "\t25 & 0 & 5 & 0 & 6.34707 & 0 & 0.0 \\\\\n",
       "\t26 & 0 & 10 & 0 & 12.0435 & 0 & 0.0 \\\\\n",
       "\t27 & 1 & 5 & 0 & 5.76884 & 0 & 0.0 \\\\\n",
       "\t28 & 0 & 10 & 0 & 10.5379 & 0 & 0.0 \\\\\n",
       "\t29 & 1 & 5 & 1 & 3.7239 & 5 & 3.7239 \\\\\n",
       "\t30 & 1 & 5 & 1 & 6.17988 & 5 & 6.17988 \\\\\n",
       "\t$\\dots$ & $\\dots$ & $\\dots$ & $\\dots$ & $\\dots$ & $\\dots$ & $\\dots$ \\\\\n",
       "\\end{tabular}\n"
      ],
      "text/plain": [
       "\u001b[1m10000×6 DataFrame\u001b[0m\n",
       "\u001b[1m   Row \u001b[0m│\u001b[1m G     \u001b[0m\u001b[1m S1    \u001b[0m\u001b[1m D     \u001b[0m\u001b[1m Y1       \u001b[0m\u001b[1m S     \u001b[0m\u001b[1m Y       \u001b[0m\n",
       "\u001b[1m       \u001b[0m│\u001b[90m Bool  \u001b[0m\u001b[90m Int64 \u001b[0m\u001b[90m Bool  \u001b[0m\u001b[90m Float64  \u001b[0m\u001b[90m Int64 \u001b[0m\u001b[90m Float64 \u001b[0m\n",
       "───────┼───────────────────────────────────────────────\n",
       "     1 │  true      5  false   5.55773      0  0.0\n",
       "     2 │  true     10  false   8.94009      0  0.0\n",
       "     3 │ false      5   true   8.16212      5  8.16212\n",
       "     4 │  true      5   true   4.5757       5  4.5757\n",
       "     5 │ false      5  false   5.8622       0  0.0\n",
       "     6 │  true      5   true   4.83542      5  4.83542\n",
       "     7 │  true      5   true   5.16341      5  5.16341\n",
       "     8 │ false      5  false   3.69773      0  0.0\n",
       "     9 │ false     10   true   8.66727     10  8.66727\n",
       "    10 │  true      5   true   3.93302      5  3.93302\n",
       "    11 │ false      5  false   2.88758      0  0.0\n",
       "   ⋮   │   ⋮      ⋮      ⋮       ⋮        ⋮       ⋮\n",
       "  9991 │  true     10  false  12.723        0  0.0\n",
       "  9992 │ false      5  false   3.52436      0  0.0\n",
       "  9993 │  true      5  false   3.52878      0  0.0\n",
       "  9994 │  true     10   true   9.54697     10  9.54697\n",
       "  9995 │  true      5   true   5.65269      5  5.65269\n",
       "  9996 │  true      5   true   6.5447       5  6.5447\n",
       "  9997 │  true      5  false   7.45342      0  0.0\n",
       "  9998 │  true     10   true   9.0015      10  9.0015\n",
       "  9999 │  true      5  false   3.06842      0  0.0\n",
       " 10000 │  true      5  false   4.34644      0  0.0\n",
       "\u001b[36m                                      9979 rows omitted\u001b[0m"
      ]
     },
     "execution_count": 38,
     "metadata": {},
     "output_type": "execute_result"
    }
   ],
   "source": [
    "df = data_generation(10000)"
   ]
  },
  {
   "cell_type": "code",
   "execution_count": 39,
   "metadata": {},
   "outputs": [
    {
     "data": {
      "text/plain": [
       "lower (generic function with 1 method)"
      ]
     },
     "execution_count": 39,
     "metadata": {},
     "output_type": "execute_result"
    }
   ],
   "source": [
    "function lower(m; K=exp(0.5), H=exp(0.1), df = df)\n",
    "    ϕ(x, y) = max.(y .- x, 0) .- H .* max.(x .- y, 0)\n",
    "    ϕ′(x, y) = max.(x .- y, 0) .- H .* max.(y .- x, 0)\n",
    "    ψ(x, y) = max.(y .- x, 0) .- K .* max.(x .- y, 0)\n",
    "    ψ′(x, y) = max.(x .- y, 0) .- K .* max.(y .- x, 0)\n",
    "    \n",
    "    f(s) = m -> mean((df.D .== 1) .* (df.G .== 0) .* (df.S .≈ s) .* ψ(m, df.Y))\n",
    "    g(s) = m -> mean((df.D .== 1) .* (df.G .== 0) .* (df.S .≈ s) .* ψ′(m, df.Y))\n",
    "    \n",
    "    θ1minushat_s1 = find_zero(f(5), 2.0)\n",
    "    θ1minushat_s2 = find_zero(f(10), 2.0)\n",
    "    \n",
    "    return mean((df.D.==1) .* (df.G .== 1) .*\n",
    "    (df.S .== 5) .* ϕ(m, θ1minushat_s1)) + mean((df.D.==1) .* (df.G .== 1) .*\n",
    "    (df.S .== 10) .* ϕ(m, θ1minushat_s2)) \n",
    "end"
   ]
  },
  {
   "cell_type": "code",
   "execution_count": 40,
   "metadata": {},
   "outputs": [
    {
     "data": {
      "text/plain": [
       "upper (generic function with 1 method)"
      ]
     },
     "execution_count": 40,
     "metadata": {},
     "output_type": "execute_result"
    }
   ],
   "source": [
    "function upper(m; K=exp(0.5), H=exp(0.1), df = df)\n",
    "    ϕ(x, y) = max.(y .- x, 0) .- H .* max.(x .- y, 0)\n",
    "    ϕ′(x, y) = max.(x .- y, 0) .- H .* max.(y .- x, 0)\n",
    "    ψ(x, y) = max.(y .- x, 0) .- K .* max.(x .- y, 0)\n",
    "    ψ′(x, y) = max.(x .- y, 0) .- K .* max.(y .- x, 0)\n",
    "    \n",
    "    f(s) = m -> mean((df.D .== 1) .* (df.G .== 0) .* (df.S .≈ s) .* ψ(m, df.Y))\n",
    "    g(s) = m -> mean((df.D .== 1) .* (df.G .== 0) .* (df.S .≈ s) .* ψ′(m, df.Y))\n",
    "    \n",
    "    θ1plushat_s1 = find_zero(g(5), 2.0)\n",
    "    θ1plushat_s2 = find_zero(g(10), 2.0)\n",
    "    \n",
    "    return mean((df.D.==1) .* (df.G .== 1) .*\n",
    "    (df.S .== 5) .* ϕ′(m, θ1plushat_s1)) + mean((df.D.==1) .* (df.G .== 1) .*\n",
    "    (df.S .== 10) .* ϕ′(m, θ1plushat_s2)) \n",
    "end"
   ]
  },
  {
   "cell_type": "code",
   "execution_count": 41,
   "metadata": {},
   "outputs": [
    {
     "data": {
      "text/plain": [
       "ψ′ (generic function with 1 method)"
      ]
     },
     "execution_count": 41,
     "metadata": {},
     "output_type": "execute_result"
    }
   ],
   "source": [
    "ϕ(x, y; H = 1) = max.(y .- x, 0) .- H .* max.(x .- y, 0)\n",
    "ϕ′(x, y; H = 1) = max.(x .- y, 0) .- H .* max.(y .- x, 0)\n",
    "ψ(x, y; K = 1) = max.(y .- x, 0) .- K .* max.(x .- y, 0)\n",
    "ψ′(x, y; K = 1) = max.(x .- y, 0) .- K .* max.(y .- x, 0)"
   ]
  },
  {
   "cell_type": "code",
   "execution_count": 42,
   "metadata": {},
   "outputs": [
    {
     "data": {
      "text/plain": [
       "compute_lower_Y1 (generic function with 1 method)"
      ]
     },
     "execution_count": 42,
     "metadata": {},
     "output_type": "execute_result"
    }
   ],
   "source": [
    "function compute_lower_Y1(df; K=1, H=1)\n",
    "    \n",
    "    f(s; df = df, K = K) = m -> mean((df.D .== 1) .* (df.G .== 0) .* (df.S .≈ s) .* ψ(m, df.Y; K = K))\n",
    "    \n",
    "    θ1minushat_s1 = find_zero(f(5; df = df, K=K), 2.0)\n",
    "    θ1minushat_s2 = find_zero(f(10; df = df, K=K), 2.0)\n",
    "    \n",
    "    μ1minus = find_zero(m -> lower(m; df=df, K=K, H=H), 2.0) / mean(df[df.G .== 0, :D].== 0) - \n",
    "    (θ1minushat_s1 * mean(df[ (df.D.==1) .* (df.G .== 0), :S] .== 5) + \n",
    "    θ1minushat_s2 * mean(df[ (df.D.==1) .* (df.G .== 0), :S] .== 10) ) * \n",
    "    mean(df[df.G .== 0, :D].== 1) /\n",
    "    mean(df[df.G .== 0, :D].== 0)\n",
    "    \n",
    "    lower_Y1 = mean(df[ (df.G .== 0) .* (df.D .== 1 ), :Y]) * \n",
    "        mean(df[df.G .== 0, :D].== 1) +  \n",
    "        μ1minus* \n",
    "        mean(df[df.G .== 0, :D].== 0)\n",
    "end"
   ]
  },
  {
   "cell_type": "code",
   "execution_count": 43,
   "metadata": {},
   "outputs": [
    {
     "data": {
      "text/plain": [
       "6.655590408154372"
      ]
     },
     "execution_count": 43,
     "metadata": {},
     "output_type": "execute_result"
    }
   ],
   "source": [
    "compute_lower_Y1(df)"
   ]
  },
  {
   "cell_type": "code",
   "execution_count": null,
   "metadata": {},
   "outputs": [],
   "source": []
  },
  {
   "cell_type": "code",
   "execution_count": 44,
   "metadata": {},
   "outputs": [
    {
     "data": {
      "text/plain": [
       "compute_upper_Y1 (generic function with 1 method)"
      ]
     },
     "execution_count": 44,
     "metadata": {},
     "output_type": "execute_result"
    }
   ],
   "source": [
    "function compute_upper_Y1(df; K = exp(0.5), H = exp(0.1))\n",
    "    \n",
    "    g(s; df = df, K = K) = m -> mean((df.D .== 1) .* (df.G .== 0) .* (df.S .≈ s) .* ψ′(m, df.Y; K = K))\n",
    "    \n",
    "    θ1plushat_s1 = find_zero(g(5; df = df, K = K), 2.0)\n",
    "    θ1plushat_s2 = find_zero(g(10; df = df, K = K), 2.0)\n",
    "    \n",
    "    μ1plus = find_zero(m -> upper(m; df=df, K=K, H=H), 2.0) / mean(df[df.G .== 0, :D].== 0) - (θ1plushat_s1 * mean(df[ (df.D.==1) .* (df.G .== 0), :S] .== 5) + \n",
    "    θ1plushat_s2 * mean(df[ (df.D.==1) .* (df.G .== 0), :S] .== 10) ) * \n",
    "    mean(df[df.G .== 0, :D].== 1) /\n",
    "    mean(df[df.G .== 0, :D].== 0)\n",
    "    \n",
    "    upper_Y1 = mean(df[ (df.G .== 0) .* (df.D .== 1 ), :Y]) * \n",
    "        mean(df[df.G .== 0, :D].== 1) +  \n",
    "        μ1plus* \n",
    "        mean(df[df.G .== 0, :D].== 0)\n",
    "end"
   ]
  },
  {
   "cell_type": "code",
   "execution_count": 45,
   "metadata": {},
   "outputs": [
    {
     "data": {
      "text/plain": [
       "6.971281562855371"
      ]
     },
     "execution_count": 45,
     "metadata": {},
     "output_type": "execute_result"
    }
   ],
   "source": [
    "compute_upper_Y1(df)"
   ]
  },
  {
   "cell_type": "code",
   "execution_count": 46,
   "metadata": {},
   "outputs": [
    {
     "data": {
      "text/plain": [
       "6.655590408154372"
      ]
     },
     "execution_count": 46,
     "metadata": {},
     "output_type": "execute_result"
    }
   ],
   "source": [
    "naive_mean = compute_lower_Y1(df; K=1, H =1)"
   ]
  },
  {
   "cell_type": "code",
   "execution_count": 47,
   "metadata": {},
   "outputs": [],
   "source": [
    "df = data_generation();"
   ]
  },
  {
   "cell_type": "code",
   "execution_count": 48,
   "metadata": {},
   "outputs": [
    {
     "data": {
      "image/svg+xml": "<?xml version=\"1.0\" encoding=\"utf-8\"?>\n<svg xmlns=\"http://www.w3.org/2000/svg\" xmlns:xlink=\"http://www.w3.org/1999/xlink\" width=\"600\" height=\"400\" viewBox=\"0 0 2400 1600\">\n<defs>\n  <clipPath id=\"clip220\">\n    <rect x=\"0\" y=\"0\" width=\"2400\" height=\"1600\"/>\n  </clipPath>\n</defs>\n<path clip-path=\"url(#clip220)\" d=\"\nM0 1600 L2400 1600 L2400 0 L0 0  Z\n  \" fill=\"#ffffff\" fill-rule=\"evenodd\" fill-opacity=\"1\"/>\n<defs>\n  <clipPath id=\"clip221\">\n    <rect x=\"480\" y=\"0\" width=\"1681\" height=\"1600\"/>\n  </clipPath>\n</defs>\n<path clip-path=\"url(#clip220)\" d=\"\nM155.927 1486.45 L2352.76 1486.45 L2352.76 47.2441 L155.927 47.2441  Z\n  \" fill=\"#ffffff\" fill-rule=\"evenodd\" fill-opacity=\"1\"/>\n<defs>\n  <clipPath id=\"clip222\">\n    <rect x=\"155\" y=\"47\" width=\"2198\" height=\"1440\"/>\n  </clipPath>\n</defs>\n<polyline clip-path=\"url(#clip222)\" style=\"stroke:#000000; stroke-linecap:butt; stroke-linejoin:round; stroke-width:2; stroke-opacity:0.1; fill:none\" points=\"\n  155.927,1486.45 155.927,47.2441 \n  \"/>\n<polyline clip-path=\"url(#clip222)\" style=\"stroke:#000000; stroke-linecap:butt; stroke-linejoin:round; stroke-width:2; stroke-opacity:0.1; fill:none\" points=\"\n  595.293,1486.45 595.293,47.2441 \n  \"/>\n<polyline clip-path=\"url(#clip222)\" style=\"stroke:#000000; stroke-linecap:butt; stroke-linejoin:round; stroke-width:2; stroke-opacity:0.1; fill:none\" points=\"\n  1034.66,1486.45 1034.66,47.2441 \n  \"/>\n<polyline clip-path=\"url(#clip222)\" style=\"stroke:#000000; stroke-linecap:butt; stroke-linejoin:round; stroke-width:2; stroke-opacity:0.1; fill:none\" points=\"\n  1474.02,1486.45 1474.02,47.2441 \n  \"/>\n<polyline clip-path=\"url(#clip222)\" style=\"stroke:#000000; stroke-linecap:butt; stroke-linejoin:round; stroke-width:2; stroke-opacity:0.1; fill:none\" points=\"\n  1913.39,1486.45 1913.39,47.2441 \n  \"/>\n<polyline clip-path=\"url(#clip222)\" style=\"stroke:#000000; stroke-linecap:butt; stroke-linejoin:round; stroke-width:2; stroke-opacity:0.1; fill:none\" points=\"\n  2352.76,1486.45 2352.76,47.2441 \n  \"/>\n<polyline clip-path=\"url(#clip220)\" style=\"stroke:#000000; stroke-linecap:butt; stroke-linejoin:round; stroke-width:4; stroke-opacity:1; fill:none\" points=\"\n  155.927,1486.45 2352.76,1486.45 \n  \"/>\n<polyline clip-path=\"url(#clip220)\" style=\"stroke:#000000; stroke-linecap:butt; stroke-linejoin:round; stroke-width:4; stroke-opacity:1; fill:none\" points=\"\n  155.927,1486.45 155.927,1467.55 \n  \"/>\n<polyline clip-path=\"url(#clip220)\" style=\"stroke:#000000; stroke-linecap:butt; stroke-linejoin:round; stroke-width:4; stroke-opacity:1; fill:none\" points=\"\n  595.293,1486.45 595.293,1467.55 \n  \"/>\n<polyline clip-path=\"url(#clip220)\" style=\"stroke:#000000; stroke-linecap:butt; stroke-linejoin:round; stroke-width:4; stroke-opacity:1; fill:none\" points=\"\n  1034.66,1486.45 1034.66,1467.55 \n  \"/>\n<polyline clip-path=\"url(#clip220)\" style=\"stroke:#000000; stroke-linecap:butt; stroke-linejoin:round; stroke-width:4; stroke-opacity:1; fill:none\" points=\"\n  1474.02,1486.45 1474.02,1467.55 \n  \"/>\n<polyline clip-path=\"url(#clip220)\" style=\"stroke:#000000; stroke-linecap:butt; stroke-linejoin:round; stroke-width:4; stroke-opacity:1; fill:none\" points=\"\n  1913.39,1486.45 1913.39,1467.55 \n  \"/>\n<polyline clip-path=\"url(#clip220)\" style=\"stroke:#000000; stroke-linecap:butt; stroke-linejoin:round; stroke-width:4; stroke-opacity:1; fill:none\" points=\"\n  2352.76,1486.45 2352.76,1467.55 \n  \"/>\n<path clip-path=\"url(#clip220)\" d=\"M146.309 1544.91 L153.948 1544.91 L153.948 1518.55 L145.638 1520.21 L145.638 1515.95 L153.901 1514.29 L158.577 1514.29 L158.577 1544.91 L166.216 1544.91 L166.216 1548.85 L146.309 1548.85 L146.309 1544.91 Z\" fill=\"#000000\" fill-rule=\"evenodd\" fill-opacity=\"1\" /><path clip-path=\"url(#clip220)\" d=\"M589.946 1544.91 L606.265 1544.91 L606.265 1548.85 L584.321 1548.85 L584.321 1544.91 Q586.983 1542.16 591.566 1537.53 Q596.172 1532.88 597.353 1531.53 Q599.598 1529.01 600.478 1527.27 Q601.381 1525.51 601.381 1523.82 Q601.381 1521.07 599.436 1519.33 Q597.515 1517.6 594.413 1517.6 Q592.214 1517.6 589.76 1518.36 Q587.33 1519.13 584.552 1520.68 L584.552 1515.95 Q587.376 1514.82 589.83 1514.24 Q592.283 1513.66 594.321 1513.66 Q599.691 1513.66 602.885 1516.35 Q606.08 1519.03 606.08 1523.52 Q606.08 1525.65 605.27 1527.57 Q604.483 1529.47 602.376 1532.07 Q601.797 1532.74 598.695 1535.95 Q595.594 1539.15 589.946 1544.91 Z\" fill=\"#000000\" fill-rule=\"evenodd\" fill-opacity=\"1\" /><path clip-path=\"url(#clip220)\" d=\"M1038.91 1530.21 Q1042.26 1530.93 1044.14 1533.2 Q1046.04 1535.47 1046.04 1538.8 Q1046.04 1543.92 1042.52 1546.72 Q1039 1549.52 1032.52 1549.52 Q1030.34 1549.52 1028.03 1549.08 Q1025.73 1548.66 1023.28 1547.81 L1023.28 1543.29 Q1025.23 1544.43 1027.54 1545.01 Q1029.86 1545.58 1032.38 1545.58 Q1036.78 1545.58 1039.07 1543.85 Q1041.38 1542.11 1041.38 1538.8 Q1041.38 1535.75 1039.23 1534.03 Q1037.1 1532.3 1033.28 1532.3 L1029.25 1532.3 L1029.25 1528.45 L1033.47 1528.45 Q1036.92 1528.45 1038.74 1527.09 Q1040.57 1525.7 1040.57 1523.11 Q1040.57 1520.45 1038.67 1519.03 Q1036.8 1517.6 1033.28 1517.6 Q1031.36 1517.6 1029.16 1518.01 Q1026.96 1518.43 1024.32 1519.31 L1024.32 1515.14 Q1026.98 1514.4 1029.3 1514.03 Q1031.64 1513.66 1033.7 1513.66 Q1039.02 1513.66 1042.12 1516.09 Q1045.23 1518.5 1045.23 1522.62 Q1045.23 1525.49 1043.58 1527.48 Q1041.94 1529.45 1038.91 1530.21 Z\" fill=\"#000000\" fill-rule=\"evenodd\" fill-opacity=\"1\" /><path clip-path=\"url(#clip220)\" d=\"M1477.03 1518.36 L1465.23 1536.81 L1477.03 1536.81 L1477.03 1518.36 M1475.81 1514.29 L1481.69 1514.29 L1481.69 1536.81 L1486.62 1536.81 L1486.62 1540.7 L1481.69 1540.7 L1481.69 1548.85 L1477.03 1548.85 L1477.03 1540.7 L1461.43 1540.7 L1461.43 1536.19 L1475.81 1514.29 Z\" fill=\"#000000\" fill-rule=\"evenodd\" fill-opacity=\"1\" /><path clip-path=\"url(#clip220)\" d=\"M1903.67 1514.29 L1922.02 1514.29 L1922.02 1518.22 L1907.95 1518.22 L1907.95 1526.7 Q1908.97 1526.35 1909.99 1526.19 Q1911.01 1526 1912.02 1526 Q1917.81 1526 1921.19 1529.17 Q1924.57 1532.34 1924.57 1537.76 Q1924.57 1543.34 1921.1 1546.44 Q1917.63 1549.52 1911.31 1549.52 Q1909.13 1549.52 1906.86 1549.15 Q1904.62 1548.78 1902.21 1548.04 L1902.21 1543.34 Q1904.29 1544.47 1906.52 1545.03 Q1908.74 1545.58 1911.21 1545.58 Q1915.22 1545.58 1917.56 1543.48 Q1919.89 1541.37 1919.89 1537.76 Q1919.89 1534.15 1917.56 1532.04 Q1915.22 1529.94 1911.21 1529.94 Q1909.34 1529.94 1907.46 1530.35 Q1905.61 1530.77 1903.67 1531.65 L1903.67 1514.29 Z\" fill=\"#000000\" fill-rule=\"evenodd\" fill-opacity=\"1\" /><path clip-path=\"url(#clip220)\" d=\"M2353.16 1529.7 Q2350.01 1529.7 2348.16 1531.86 Q2346.33 1534.01 2346.33 1537.76 Q2346.33 1541.49 2348.16 1543.66 Q2350.01 1545.82 2353.16 1545.82 Q2356.31 1545.82 2358.14 1543.66 Q2359.99 1541.49 2359.99 1537.76 Q2359.99 1534.01 2358.14 1531.86 Q2356.31 1529.7 2353.16 1529.7 M2362.44 1515.05 L2362.44 1519.31 Q2360.68 1518.48 2358.88 1518.04 Q2357.1 1517.6 2355.34 1517.6 Q2350.71 1517.6 2348.25 1520.72 Q2345.82 1523.85 2345.48 1530.17 Q2346.84 1528.15 2348.9 1527.09 Q2350.96 1526 2353.44 1526 Q2358.65 1526 2361.66 1529.17 Q2364.69 1532.32 2364.69 1537.76 Q2364.69 1543.08 2361.54 1546.3 Q2358.39 1549.52 2353.16 1549.52 Q2347.17 1549.52 2343.99 1544.94 Q2340.82 1540.33 2340.82 1531.6 Q2340.82 1523.41 2344.71 1518.55 Q2348.6 1513.66 2355.15 1513.66 Q2356.91 1513.66 2358.69 1514.01 Q2360.5 1514.36 2362.44 1515.05 Z\" fill=\"#000000\" fill-rule=\"evenodd\" fill-opacity=\"1\" /><polyline clip-path=\"url(#clip222)\" style=\"stroke:#000000; stroke-linecap:butt; stroke-linejoin:round; stroke-width:2; stroke-opacity:0.1; fill:none\" points=\"\n  155.927,1459.95 2352.76,1459.95 \n  \"/>\n<polyline clip-path=\"url(#clip222)\" style=\"stroke:#000000; stroke-linecap:butt; stroke-linejoin:round; stroke-width:2; stroke-opacity:0.1; fill:none\" points=\"\n  155.927,1173.36 2352.76,1173.36 \n  \"/>\n<polyline clip-path=\"url(#clip222)\" style=\"stroke:#000000; stroke-linecap:butt; stroke-linejoin:round; stroke-width:2; stroke-opacity:0.1; fill:none\" points=\"\n  155.927,886.779 2352.76,886.779 \n  \"/>\n<polyline clip-path=\"url(#clip222)\" style=\"stroke:#000000; stroke-linecap:butt; stroke-linejoin:round; stroke-width:2; stroke-opacity:0.1; fill:none\" points=\"\n  155.927,600.194 2352.76,600.194 \n  \"/>\n<polyline clip-path=\"url(#clip222)\" style=\"stroke:#000000; stroke-linecap:butt; stroke-linejoin:round; stroke-width:2; stroke-opacity:0.1; fill:none\" points=\"\n  155.927,313.61 2352.76,313.61 \n  \"/>\n<polyline clip-path=\"url(#clip220)\" style=\"stroke:#000000; stroke-linecap:butt; stroke-linejoin:round; stroke-width:4; stroke-opacity:1; fill:none\" points=\"\n  155.927,1486.45 155.927,47.2441 \n  \"/>\n<polyline clip-path=\"url(#clip220)\" style=\"stroke:#000000; stroke-linecap:butt; stroke-linejoin:round; stroke-width:4; stroke-opacity:1; fill:none\" points=\"\n  155.927,1459.95 174.825,1459.95 \n  \"/>\n<polyline clip-path=\"url(#clip220)\" style=\"stroke:#000000; stroke-linecap:butt; stroke-linejoin:round; stroke-width:4; stroke-opacity:1; fill:none\" points=\"\n  155.927,1173.36 174.825,1173.36 \n  \"/>\n<polyline clip-path=\"url(#clip220)\" style=\"stroke:#000000; stroke-linecap:butt; stroke-linejoin:round; stroke-width:4; stroke-opacity:1; fill:none\" points=\"\n  155.927,886.779 174.825,886.779 \n  \"/>\n<polyline clip-path=\"url(#clip220)\" style=\"stroke:#000000; stroke-linecap:butt; stroke-linejoin:round; stroke-width:4; stroke-opacity:1; fill:none\" points=\"\n  155.927,600.194 174.825,600.194 \n  \"/>\n<polyline clip-path=\"url(#clip220)\" style=\"stroke:#000000; stroke-linecap:butt; stroke-linejoin:round; stroke-width:4; stroke-opacity:1; fill:none\" points=\"\n  155.927,313.61 174.825,313.61 \n  \"/>\n<path clip-path=\"url(#clip220)\" d=\"M53.793 1442.67 L72.1494 1442.67 L72.1494 1446.6 L58.0754 1446.6 L58.0754 1455.07 Q59.0939 1454.73 60.1124 1454.57 Q61.131 1454.38 62.1495 1454.38 Q67.9365 1454.38 71.3161 1457.55 Q74.6957 1460.72 74.6957 1466.14 Q74.6957 1471.72 71.2235 1474.82 Q67.7513 1477.9 61.4319 1477.9 Q59.256 1477.9 56.9875 1477.53 Q54.7421 1477.16 52.3347 1476.42 L52.3347 1471.72 Q54.418 1472.85 56.6402 1473.41 Q58.8625 1473.96 61.3393 1473.96 Q65.3439 1473.96 67.6819 1471.86 Q70.0198 1469.75 70.0198 1466.14 Q70.0198 1462.53 67.6819 1460.42 Q65.3439 1458.32 61.3393 1458.32 Q59.4643 1458.32 57.5893 1458.73 Q55.7375 1459.15 53.793 1460.03 L53.793 1442.67 Z\" fill=\"#000000\" fill-rule=\"evenodd\" fill-opacity=\"1\" /><path clip-path=\"url(#clip220)\" d=\"M83.9086 1471.35 L88.7928 1471.35 L88.7928 1477.23 L83.9086 1477.23 L83.9086 1471.35 Z\" fill=\"#000000\" fill-rule=\"evenodd\" fill-opacity=\"1\" /><path clip-path=\"url(#clip220)\" d=\"M99.0243 1442.67 L117.381 1442.67 L117.381 1446.6 L103.307 1446.6 L103.307 1455.07 Q104.325 1454.73 105.344 1454.57 Q106.362 1454.38 107.381 1454.38 Q113.168 1454.38 116.547 1457.55 Q119.927 1460.72 119.927 1466.14 Q119.927 1471.72 116.455 1474.82 Q112.983 1477.9 106.663 1477.9 Q104.487 1477.9 102.219 1477.53 Q99.9733 1477.16 97.566 1476.42 L97.566 1471.72 Q99.6493 1472.85 101.871 1473.41 Q104.094 1473.96 106.571 1473.96 Q110.575 1473.96 112.913 1471.86 Q115.251 1469.75 115.251 1466.14 Q115.251 1462.53 112.913 1460.42 Q110.575 1458.32 106.571 1458.32 Q104.696 1458.32 102.821 1458.73 Q100.969 1459.15 99.0243 1460.03 L99.0243 1442.67 Z\" fill=\"#000000\" fill-rule=\"evenodd\" fill-opacity=\"1\" /><path clip-path=\"url(#clip220)\" d=\"M63.33 1171.5 Q60.1819 1171.5 58.33 1173.65 Q56.5014 1175.81 56.5014 1179.56 Q56.5014 1183.28 58.33 1185.46 Q60.1819 1187.61 63.33 1187.61 Q66.4782 1187.61 68.3068 1185.46 Q70.1587 1183.28 70.1587 1179.56 Q70.1587 1175.81 68.3068 1173.65 Q66.4782 1171.5 63.33 1171.5 M72.6124 1156.85 L72.6124 1161.11 Q70.8531 1160.27 69.0476 1159.83 Q67.2652 1159.39 65.5059 1159.39 Q60.8763 1159.39 58.4226 1162.52 Q55.9921 1165.64 55.6449 1171.96 Q57.0106 1169.95 59.0708 1168.88 Q61.131 1167.8 63.6078 1167.8 Q68.8161 1167.8 71.8253 1170.97 Q74.8577 1174.12 74.8577 1179.56 Q74.8577 1184.88 71.7096 1188.1 Q68.5615 1191.31 63.33 1191.31 Q57.3347 1191.31 54.1634 1186.73 Q50.9921 1182.12 50.9921 1173.4 Q50.9921 1165.2 54.881 1160.34 Q58.7699 1155.46 65.3208 1155.46 Q67.08 1155.46 68.8624 1155.81 Q70.6679 1156.15 72.6124 1156.85 Z\" fill=\"#000000\" fill-rule=\"evenodd\" fill-opacity=\"1\" /><path clip-path=\"url(#clip220)\" d=\"M82.9133 1184.76 L87.7975 1184.76 L87.7975 1190.64 L82.9133 1190.64 L82.9133 1184.76 Z\" fill=\"#000000\" fill-rule=\"evenodd\" fill-opacity=\"1\" /><path clip-path=\"url(#clip220)\" d=\"M107.983 1159.16 Q104.371 1159.16 102.543 1162.73 Q100.737 1166.27 100.737 1173.4 Q100.737 1180.5 102.543 1184.07 Q104.371 1187.61 107.983 1187.61 Q111.617 1187.61 113.422 1184.07 Q115.251 1180.5 115.251 1173.4 Q115.251 1166.27 113.422 1162.73 Q111.617 1159.16 107.983 1159.16 M107.983 1155.46 Q113.793 1155.46 116.848 1160.06 Q119.927 1164.65 119.927 1173.4 Q119.927 1182.12 116.848 1186.73 Q113.793 1191.31 107.983 1191.31 Q102.172 1191.31 99.0937 1186.73 Q96.0382 1182.12 96.0382 1173.4 Q96.0382 1164.65 99.0937 1160.06 Q102.172 1155.46 107.983 1155.46 Z\" fill=\"#000000\" fill-rule=\"evenodd\" fill-opacity=\"1\" /><path clip-path=\"url(#clip220)\" d=\"M64.3254 884.915 Q61.1773 884.915 59.3254 887.068 Q57.4967 889.221 57.4967 892.971 Q57.4967 896.698 59.3254 898.873 Q61.1773 901.026 64.3254 901.026 Q67.4735 901.026 69.3022 898.873 Q71.1541 896.698 71.1541 892.971 Q71.1541 889.221 69.3022 887.068 Q67.4735 884.915 64.3254 884.915 M73.6077 870.262 L73.6077 874.522 Q71.8485 873.688 70.0429 873.249 Q68.2606 872.809 66.5013 872.809 Q61.8717 872.809 59.418 875.934 Q56.9875 879.059 56.6402 885.378 Q58.006 883.364 60.0662 882.299 Q62.1263 881.212 64.6032 881.212 Q69.8115 881.212 72.8207 884.383 Q75.8531 887.531 75.8531 892.971 Q75.8531 898.295 72.705 901.512 Q69.5568 904.73 64.3254 904.73 Q58.33 904.73 55.1588 900.147 Q51.9875 895.54 51.9875 886.813 Q51.9875 878.619 55.8764 873.758 Q59.7652 868.874 66.3161 868.874 Q68.0754 868.874 69.8578 869.221 Q71.6633 869.568 73.6077 870.262 Z\" fill=\"#000000\" fill-rule=\"evenodd\" fill-opacity=\"1\" /><path clip-path=\"url(#clip220)\" d=\"M83.9086 898.179 L88.7928 898.179 L88.7928 904.059 L83.9086 904.059 L83.9086 898.179 Z\" fill=\"#000000\" fill-rule=\"evenodd\" fill-opacity=\"1\" /><path clip-path=\"url(#clip220)\" d=\"M99.0243 869.499 L117.381 869.499 L117.381 873.434 L103.307 873.434 L103.307 881.906 Q104.325 881.559 105.344 881.397 Q106.362 881.212 107.381 881.212 Q113.168 881.212 116.547 884.383 Q119.927 887.554 119.927 892.971 Q119.927 898.549 116.455 901.651 Q112.983 904.73 106.663 904.73 Q104.487 904.73 102.219 904.36 Q99.9733 903.989 97.566 903.248 L97.566 898.549 Q99.6493 899.684 101.871 900.239 Q104.094 900.795 106.571 900.795 Q110.575 900.795 112.913 898.688 Q115.251 896.582 115.251 892.971 Q115.251 889.36 112.913 887.253 Q110.575 885.147 106.571 885.147 Q104.696 885.147 102.821 885.563 Q100.969 885.98 99.0243 886.86 L99.0243 869.499 Z\" fill=\"#000000\" fill-rule=\"evenodd\" fill-opacity=\"1\" /><path clip-path=\"url(#clip220)\" d=\"M51.5708 582.914 L73.7929 582.914 L73.7929 584.905 L61.2467 617.474 L56.3625 617.474 L68.168 586.849 L51.5708 586.849 L51.5708 582.914 Z\" fill=\"#000000\" fill-rule=\"evenodd\" fill-opacity=\"1\" /><path clip-path=\"url(#clip220)\" d=\"M82.9133 611.595 L87.7975 611.595 L87.7975 617.474 L82.9133 617.474 L82.9133 611.595 Z\" fill=\"#000000\" fill-rule=\"evenodd\" fill-opacity=\"1\" /><path clip-path=\"url(#clip220)\" d=\"M107.983 585.993 Q104.371 585.993 102.543 589.558 Q100.737 593.099 100.737 600.229 Q100.737 607.335 102.543 610.9 Q104.371 614.442 107.983 614.442 Q111.617 614.442 113.422 610.9 Q115.251 607.335 115.251 600.229 Q115.251 593.099 113.422 589.558 Q111.617 585.993 107.983 585.993 M107.983 582.289 Q113.793 582.289 116.848 586.896 Q119.927 591.479 119.927 600.229 Q119.927 608.956 116.848 613.562 Q113.793 618.145 107.983 618.145 Q102.172 618.145 99.0937 613.562 Q96.0382 608.956 96.0382 600.229 Q96.0382 591.479 99.0937 586.896 Q102.172 582.289 107.983 582.289 Z\" fill=\"#000000\" fill-rule=\"evenodd\" fill-opacity=\"1\" /><path clip-path=\"url(#clip220)\" d=\"M52.5662 296.33 L74.7883 296.33 L74.7883 298.321 L62.2421 330.89 L57.3578 330.89 L69.1633 300.265 L52.5662 300.265 L52.5662 296.33 Z\" fill=\"#000000\" fill-rule=\"evenodd\" fill-opacity=\"1\" /><path clip-path=\"url(#clip220)\" d=\"M83.9086 325.01 L88.7928 325.01 L88.7928 330.89 L83.9086 330.89 L83.9086 325.01 Z\" fill=\"#000000\" fill-rule=\"evenodd\" fill-opacity=\"1\" /><path clip-path=\"url(#clip220)\" d=\"M99.0243 296.33 L117.381 296.33 L117.381 300.265 L103.307 300.265 L103.307 308.737 Q104.325 308.39 105.344 308.228 Q106.362 308.043 107.381 308.043 Q113.168 308.043 116.547 311.214 Q119.927 314.385 119.927 319.802 Q119.927 325.381 116.455 328.482 Q112.983 331.561 106.663 331.561 Q104.487 331.561 102.219 331.191 Q99.9733 330.82 97.566 330.08 L97.566 325.381 Q99.6493 326.515 101.871 327.07 Q104.094 327.626 106.571 327.626 Q110.575 327.626 112.913 325.519 Q115.251 323.413 115.251 319.802 Q115.251 316.191 112.913 314.084 Q110.575 311.978 106.571 311.978 Q104.696 311.978 102.821 312.395 Q100.969 312.811 99.0243 313.691 L99.0243 296.33 Z\" fill=\"#000000\" fill-rule=\"evenodd\" fill-opacity=\"1\" /><polyline clip-path=\"url(#clip222)\" style=\"stroke:#009af9; stroke-linecap:butt; stroke-linejoin:round; stroke-width:12; stroke-opacity:1; fill:none\" points=\"\n  155.927,838.902 223.505,872.562 301.477,906.152 391.441,939.627 495.243,973.051 615.01,1006.43 753.198,1039.7 912.641,1072.77 1096.61,1105.52 1308.87,1137.98 \n  1553.78,1170.21 1836.36,1202.15 2162.4,1233.73 2538.58,1265.02 2972.63,1295.76 3473.44,1326.06 4051.28,1356.26 4717.99,1386.56 5487.25,1416.41 6374.83,1445.72 \n  \n  \"/>\n<polyline clip-path=\"url(#clip222)\" style=\"stroke:#e26f46; stroke-linecap:butt; stroke-linejoin:round; stroke-width:12; stroke-opacity:1; fill:none\" points=\"\n  155.927,708.287 223.505,674.622 301.477,640.913 391.441,607.186 495.243,573.504 615.01,539.845 753.198,506.21 912.641,472.696 1096.61,439.192 1308.87,406.081 \n  1553.78,373.385 1836.36,340.816 2162.4,308.265 2538.58,275.518 2972.63,243.105 3473.44,211 4051.28,179.407 4717.99,148.423 5487.25,117.947 6374.83,87.9763 \n  \n  \"/>\n<polyline clip-path=\"url(#clip222)\" style=\"stroke:#3da44d; stroke-linecap:butt; stroke-linejoin:round; stroke-width:12; stroke-opacity:1; fill:none\" stroke-dasharray=\"6, 12\" points=\"\n  -2040.9,797.599 4549.58,797.599 \n  \"/>\n<polyline clip-path=\"url(#clip222)\" style=\"stroke:#c271d2; stroke-linecap:butt; stroke-linejoin:round; stroke-width:12; stroke-opacity:1; fill:none\" stroke-dasharray=\"6, 12\" points=\"\n  -2040.9,761.051 4549.58,761.051 \n  \"/>\n<path clip-path=\"url(#clip220)\" d=\"\nM1740.53 354.418 L2279.53 354.418 L2279.53 95.2176 L1740.53 95.2176  Z\n  \" fill=\"#ffffff\" fill-rule=\"evenodd\" fill-opacity=\"1\"/>\n<polyline clip-path=\"url(#clip220)\" style=\"stroke:#000000; stroke-linecap:butt; stroke-linejoin:round; stroke-width:4; stroke-opacity:1; fill:none\" points=\"\n  1740.53,354.418 2279.53,354.418 2279.53,95.2176 1740.53,95.2176 1740.53,354.418 \n  \"/>\n<polyline clip-path=\"url(#clip220)\" style=\"stroke:#009af9; stroke-linecap:butt; stroke-linejoin:round; stroke-width:4; stroke-opacity:1; fill:none\" points=\"\n  1764.94,147.058 1911.39,147.058 \n  \"/>\n<path clip-path=\"url(#clip220)\" d=\"M1935.8 128.319 L1940.06 128.319 L1940.06 164.338 L1935.8 164.338 L1935.8 128.319 Z\" fill=\"#000000\" fill-rule=\"evenodd\" fill-opacity=\"1\" /><path clip-path=\"url(#clip220)\" d=\"M1959.02 141.398 Q1955.6 141.398 1953.6 144.083 Q1951.61 146.745 1951.61 151.398 Q1951.61 156.051 1953.58 158.736 Q1955.57 161.398 1959.02 161.398 Q1962.42 161.398 1964.41 158.713 Q1966.41 156.027 1966.41 151.398 Q1966.41 146.791 1964.41 144.106 Q1962.42 141.398 1959.02 141.398 M1959.02 137.787 Q1964.58 137.787 1967.75 141.398 Q1970.92 145.009 1970.92 151.398 Q1970.92 157.764 1967.75 161.398 Q1964.58 165.009 1959.02 165.009 Q1953.44 165.009 1950.27 161.398 Q1947.12 157.764 1947.12 151.398 Q1947.12 145.009 1950.27 141.398 Q1953.44 137.787 1959.02 137.787 Z\" fill=\"#000000\" fill-rule=\"evenodd\" fill-opacity=\"1\" /><path clip-path=\"url(#clip220)\" d=\"M1975.5 138.412 L1979.76 138.412 L1985.09 158.643 L1990.39 138.412 L1995.41 138.412 L2000.73 158.643 L2006.04 138.412 L2010.29 138.412 L2003.51 164.338 L1998.49 164.338 L1992.91 143.088 L1987.31 164.338 L1982.29 164.338 L1975.5 138.412 Z\" fill=\"#000000\" fill-rule=\"evenodd\" fill-opacity=\"1\" /><path clip-path=\"url(#clip220)\" d=\"M2038.93 150.31 L2038.93 152.393 L2019.35 152.393 Q2019.62 156.791 2021.98 159.106 Q2024.37 161.398 2028.6 161.398 Q2031.06 161.398 2033.35 160.796 Q2035.66 160.194 2037.93 158.99 L2037.93 163.018 Q2035.64 163.99 2033.23 164.5 Q2030.83 165.009 2028.35 165.009 Q2022.15 165.009 2018.51 161.398 Q2014.9 157.787 2014.9 151.629 Q2014.9 145.264 2018.33 141.537 Q2021.78 137.787 2027.61 137.787 Q2032.84 137.787 2035.87 141.166 Q2038.93 144.523 2038.93 150.31 M2034.67 149.06 Q2034.62 145.565 2032.7 143.481 Q2030.8 141.398 2027.66 141.398 Q2024.09 141.398 2021.94 143.412 Q2019.81 145.426 2019.48 149.083 L2034.67 149.06 Z\" fill=\"#000000\" fill-rule=\"evenodd\" fill-opacity=\"1\" /><path clip-path=\"url(#clip220)\" d=\"M2060.94 142.393 Q2060.22 141.977 2059.37 141.791 Q2058.53 141.583 2057.52 141.583 Q2053.91 141.583 2051.96 143.944 Q2050.04 146.282 2050.04 150.68 L2050.04 164.338 L2045.76 164.338 L2045.76 138.412 L2050.04 138.412 L2050.04 142.44 Q2051.38 140.078 2053.53 138.944 Q2055.69 137.787 2058.77 137.787 Q2059.21 137.787 2059.74 137.856 Q2060.27 137.903 2060.92 138.018 L2060.94 142.393 Z\" fill=\"#000000\" fill-rule=\"evenodd\" fill-opacity=\"1\" /><path clip-path=\"url(#clip220)\" d=\"M2099.09 151.398 Q2099.09 146.699 2097.15 144.037 Q2095.22 141.352 2091.84 141.352 Q2088.47 141.352 2086.52 144.037 Q2084.6 146.699 2084.6 151.398 Q2084.6 156.097 2086.52 158.782 Q2088.47 161.444 2091.84 161.444 Q2095.22 161.444 2097.15 158.782 Q2099.09 156.097 2099.09 151.398 M2084.6 142.347 Q2085.94 140.032 2087.98 138.921 Q2090.04 137.787 2092.89 137.787 Q2097.61 137.787 2100.55 141.537 Q2103.51 145.287 2103.51 151.398 Q2103.51 157.509 2100.55 161.259 Q2097.61 165.009 2092.89 165.009 Q2090.04 165.009 2087.98 163.898 Q2085.94 162.763 2084.6 160.449 L2084.6 164.338 L2080.32 164.338 L2080.32 128.319 L2084.6 128.319 L2084.6 142.347 Z\" fill=\"#000000\" fill-rule=\"evenodd\" fill-opacity=\"1\" /><path clip-path=\"url(#clip220)\" d=\"M2120.62 141.398 Q2117.19 141.398 2115.2 144.083 Q2113.21 146.745 2113.21 151.398 Q2113.21 156.051 2115.18 158.736 Q2117.17 161.398 2120.62 161.398 Q2124.02 161.398 2126.01 158.713 Q2128 156.027 2128 151.398 Q2128 146.791 2126.01 144.106 Q2124.02 141.398 2120.62 141.398 M2120.62 137.787 Q2126.17 137.787 2129.34 141.398 Q2132.52 145.009 2132.52 151.398 Q2132.52 157.764 2129.34 161.398 Q2126.17 165.009 2120.62 165.009 Q2115.04 165.009 2111.87 161.398 Q2108.72 157.764 2108.72 151.398 Q2108.72 145.009 2111.87 141.398 Q2115.04 137.787 2120.62 137.787 Z\" fill=\"#000000\" fill-rule=\"evenodd\" fill-opacity=\"1\" /><path clip-path=\"url(#clip220)\" d=\"M2139.14 154.106 L2139.14 138.412 L2143.4 138.412 L2143.4 153.944 Q2143.4 157.625 2144.83 159.476 Q2146.27 161.305 2149.14 161.305 Q2152.59 161.305 2154.58 159.106 Q2156.59 156.907 2156.59 153.111 L2156.59 138.412 L2160.85 138.412 L2160.85 164.338 L2156.59 164.338 L2156.59 160.356 Q2155.04 162.717 2152.98 163.875 Q2150.94 165.009 2148.23 165.009 Q2143.77 165.009 2141.45 162.231 Q2139.14 159.453 2139.14 154.106 M2149.85 137.787 L2149.85 137.787 Z\" fill=\"#000000\" fill-rule=\"evenodd\" fill-opacity=\"1\" /><path clip-path=\"url(#clip220)\" d=\"M2191.17 148.689 L2191.17 164.338 L2186.91 164.338 L2186.91 148.828 Q2186.91 145.148 2185.48 143.319 Q2184.04 141.49 2181.17 141.49 Q2177.72 141.49 2175.73 143.69 Q2173.74 145.889 2173.74 149.685 L2173.74 164.338 L2169.46 164.338 L2169.46 138.412 L2173.74 138.412 L2173.74 142.44 Q2175.27 140.102 2177.33 138.944 Q2179.41 137.787 2182.12 137.787 Q2186.59 137.787 2188.88 140.565 Q2191.17 143.319 2191.17 148.689 Z\" fill=\"#000000\" fill-rule=\"evenodd\" fill-opacity=\"1\" /><path clip-path=\"url(#clip220)\" d=\"M2216.73 142.347 L2216.73 128.319 L2220.99 128.319 L2220.99 164.338 L2216.73 164.338 L2216.73 160.449 Q2215.39 162.763 2213.33 163.898 Q2211.29 165.009 2208.42 165.009 Q2203.72 165.009 2200.76 161.259 Q2197.82 157.509 2197.82 151.398 Q2197.82 145.287 2200.76 141.537 Q2203.72 137.787 2208.42 137.787 Q2211.29 137.787 2213.33 138.921 Q2215.39 140.032 2216.73 142.347 M2202.21 151.398 Q2202.21 156.097 2204.14 158.782 Q2206.08 161.444 2209.46 161.444 Q2212.84 161.444 2214.78 158.782 Q2216.73 156.097 2216.73 151.398 Q2216.73 146.699 2214.78 144.037 Q2212.84 141.352 2209.46 141.352 Q2206.08 141.352 2204.14 144.037 Q2202.21 146.699 2202.21 151.398 Z\" fill=\"#000000\" fill-rule=\"evenodd\" fill-opacity=\"1\" /><polyline clip-path=\"url(#clip220)\" style=\"stroke:#e26f46; stroke-linecap:butt; stroke-linejoin:round; stroke-width:4; stroke-opacity:1; fill:none\" points=\"\n  1764.94,198.898 1911.39,198.898 \n  \"/>\n<path clip-path=\"url(#clip220)\" d=\"M1935.8 205.946 L1935.8 190.252 L1940.06 190.252 L1940.06 205.784 Q1940.06 209.465 1941.5 211.316 Q1942.93 213.145 1945.8 213.145 Q1949.25 213.145 1951.24 210.946 Q1953.26 208.747 1953.26 204.951 L1953.26 190.252 L1957.52 190.252 L1957.52 216.178 L1953.26 216.178 L1953.26 212.196 Q1951.71 214.557 1949.65 215.715 Q1947.61 216.849 1944.9 216.849 Q1940.43 216.849 1938.12 214.071 Q1935.8 211.293 1935.8 205.946 M1946.52 189.627 L1946.52 189.627 Z\" fill=\"#000000\" fill-rule=\"evenodd\" fill-opacity=\"1\" /><path clip-path=\"url(#clip220)\" d=\"M1970.41 212.289 L1970.41 226.039 L1966.13 226.039 L1966.13 190.252 L1970.41 190.252 L1970.41 194.187 Q1971.75 191.872 1973.79 190.761 Q1975.85 189.627 1978.7 189.627 Q1983.42 189.627 1986.36 193.377 Q1989.32 197.127 1989.32 203.238 Q1989.32 209.349 1986.36 213.099 Q1983.42 216.849 1978.7 216.849 Q1975.85 216.849 1973.79 215.738 Q1971.75 214.603 1970.41 212.289 M1984.9 203.238 Q1984.9 198.539 1982.96 195.877 Q1981.04 193.192 1977.66 193.192 Q1974.28 193.192 1972.33 195.877 Q1970.41 198.539 1970.41 203.238 Q1970.41 207.937 1972.33 210.622 Q1974.28 213.284 1977.66 213.284 Q1981.04 213.284 1982.96 210.622 Q1984.9 207.937 1984.9 203.238 Z\" fill=\"#000000\" fill-rule=\"evenodd\" fill-opacity=\"1\" /><path clip-path=\"url(#clip220)\" d=\"M2000.5 212.289 L2000.5 226.039 L1996.22 226.039 L1996.22 190.252 L2000.5 190.252 L2000.5 194.187 Q2001.85 191.872 2003.88 190.761 Q2005.94 189.627 2008.79 189.627 Q2013.51 189.627 2016.45 193.377 Q2019.41 197.127 2019.41 203.238 Q2019.41 209.349 2016.45 213.099 Q2013.51 216.849 2008.79 216.849 Q2005.94 216.849 2003.88 215.738 Q2001.85 214.603 2000.5 212.289 M2014.99 203.238 Q2014.99 198.539 2013.05 195.877 Q2011.13 193.192 2007.75 193.192 Q2004.37 193.192 2002.42 195.877 Q2000.5 198.539 2000.5 203.238 Q2000.5 207.937 2002.42 210.622 Q2004.37 213.284 2007.75 213.284 Q2011.13 213.284 2013.05 210.622 Q2014.99 207.937 2014.99 203.238 Z\" fill=\"#000000\" fill-rule=\"evenodd\" fill-opacity=\"1\" /><path clip-path=\"url(#clip220)\" d=\"M2048.65 202.15 L2048.65 204.233 L2029.07 204.233 Q2029.35 208.631 2031.71 210.946 Q2034.09 213.238 2038.33 213.238 Q2040.78 213.238 2043.07 212.636 Q2045.39 212.034 2047.66 210.83 L2047.66 214.858 Q2045.36 215.83 2042.96 216.34 Q2040.55 216.849 2038.07 216.849 Q2031.87 216.849 2028.23 213.238 Q2024.62 209.627 2024.62 203.469 Q2024.62 197.104 2028.05 193.377 Q2031.5 189.627 2037.33 189.627 Q2042.56 189.627 2045.6 193.006 Q2048.65 196.363 2048.65 202.15 M2044.39 200.9 Q2044.35 197.405 2042.42 195.321 Q2040.53 193.238 2037.38 193.238 Q2033.81 193.238 2031.66 195.252 Q2029.53 197.266 2029.21 200.923 L2044.39 200.9 Z\" fill=\"#000000\" fill-rule=\"evenodd\" fill-opacity=\"1\" /><path clip-path=\"url(#clip220)\" d=\"M2070.66 194.233 Q2069.95 193.817 2069.09 193.631 Q2068.26 193.423 2067.24 193.423 Q2063.63 193.423 2061.68 195.784 Q2059.76 198.122 2059.76 202.52 L2059.76 216.178 L2055.48 216.178 L2055.48 190.252 L2059.76 190.252 L2059.76 194.28 Q2061.1 191.918 2063.26 190.784 Q2065.41 189.627 2068.49 189.627 Q2068.93 189.627 2069.46 189.696 Q2069.99 189.743 2070.64 189.858 L2070.66 194.233 Z\" fill=\"#000000\" fill-rule=\"evenodd\" fill-opacity=\"1\" /><path clip-path=\"url(#clip220)\" d=\"M2108.81 203.238 Q2108.81 198.539 2106.87 195.877 Q2104.95 193.192 2101.57 193.192 Q2098.19 193.192 2096.24 195.877 Q2094.32 198.539 2094.32 203.238 Q2094.32 207.937 2096.24 210.622 Q2098.19 213.284 2101.57 213.284 Q2104.95 213.284 2106.87 210.622 Q2108.81 207.937 2108.81 203.238 M2094.32 194.187 Q2095.66 191.872 2097.7 190.761 Q2099.76 189.627 2102.61 189.627 Q2107.33 189.627 2110.27 193.377 Q2113.23 197.127 2113.23 203.238 Q2113.23 209.349 2110.27 213.099 Q2107.33 216.849 2102.61 216.849 Q2099.76 216.849 2097.7 215.738 Q2095.66 214.603 2094.32 212.289 L2094.32 216.178 L2090.04 216.178 L2090.04 180.159 L2094.32 180.159 L2094.32 194.187 Z\" fill=\"#000000\" fill-rule=\"evenodd\" fill-opacity=\"1\" /><path clip-path=\"url(#clip220)\" d=\"M2130.34 193.238 Q2126.91 193.238 2124.92 195.923 Q2122.93 198.585 2122.93 203.238 Q2122.93 207.891 2124.9 210.576 Q2126.89 213.238 2130.34 213.238 Q2133.74 213.238 2135.73 210.553 Q2137.72 207.867 2137.72 203.238 Q2137.72 198.631 2135.73 195.946 Q2133.74 193.238 2130.34 193.238 M2130.34 189.627 Q2135.9 189.627 2139.07 193.238 Q2142.24 196.849 2142.24 203.238 Q2142.24 209.604 2139.07 213.238 Q2135.9 216.849 2130.34 216.849 Q2124.76 216.849 2121.59 213.238 Q2118.44 209.604 2118.44 203.238 Q2118.44 196.849 2121.59 193.238 Q2124.76 189.627 2130.34 189.627 Z\" fill=\"#000000\" fill-rule=\"evenodd\" fill-opacity=\"1\" /><path clip-path=\"url(#clip220)\" d=\"M2148.86 205.946 L2148.86 190.252 L2153.12 190.252 L2153.12 205.784 Q2153.12 209.465 2154.55 211.316 Q2155.99 213.145 2158.86 213.145 Q2162.31 213.145 2164.3 210.946 Q2166.31 208.747 2166.31 204.951 L2166.31 190.252 L2170.57 190.252 L2170.57 216.178 L2166.31 216.178 L2166.31 212.196 Q2164.76 214.557 2162.7 215.715 Q2160.66 216.849 2157.96 216.849 Q2153.49 216.849 2151.17 214.071 Q2148.86 211.293 2148.86 205.946 M2159.58 189.627 L2159.58 189.627 Z\" fill=\"#000000\" fill-rule=\"evenodd\" fill-opacity=\"1\" /><path clip-path=\"url(#clip220)\" d=\"M2200.9 200.529 L2200.9 216.178 L2196.64 216.178 L2196.64 200.668 Q2196.64 196.988 2195.2 195.159 Q2193.77 193.33 2190.9 193.33 Q2187.45 193.33 2185.46 195.53 Q2183.46 197.729 2183.46 201.525 L2183.46 216.178 L2179.18 216.178 L2179.18 190.252 L2183.46 190.252 L2183.46 194.28 Q2184.99 191.942 2187.05 190.784 Q2189.14 189.627 2191.84 189.627 Q2196.31 189.627 2198.6 192.405 Q2200.9 195.159 2200.9 200.529 Z\" fill=\"#000000\" fill-rule=\"evenodd\" fill-opacity=\"1\" /><path clip-path=\"url(#clip220)\" d=\"M2226.45 194.187 L2226.45 180.159 L2230.71 180.159 L2230.71 216.178 L2226.45 216.178 L2226.45 212.289 Q2225.11 214.603 2223.05 215.738 Q2221.01 216.849 2218.14 216.849 Q2213.44 216.849 2210.48 213.099 Q2207.54 209.349 2207.54 203.238 Q2207.54 197.127 2210.48 193.377 Q2213.44 189.627 2218.14 189.627 Q2221.01 189.627 2223.05 190.761 Q2225.11 191.872 2226.45 194.187 M2211.94 203.238 Q2211.94 207.937 2213.86 210.622 Q2215.8 213.284 2219.18 213.284 Q2222.56 213.284 2224.51 210.622 Q2226.45 207.937 2226.45 203.238 Q2226.45 198.539 2224.51 195.877 Q2222.56 193.192 2219.18 193.192 Q2215.8 193.192 2213.86 195.877 Q2211.94 198.539 2211.94 203.238 Z\" fill=\"#000000\" fill-rule=\"evenodd\" fill-opacity=\"1\" /><polyline clip-path=\"url(#clip220)\" style=\"stroke:#3da44d; stroke-linecap:butt; stroke-linejoin:round; stroke-width:4; stroke-opacity:1; fill:none\" stroke-dasharray=\"2, 4\" points=\"\n  1764.94,250.738 1911.39,250.738 \n  \"/>\n<path clip-path=\"url(#clip220)\" d=\"M1957.52 252.369 L1957.52 268.018 L1953.26 268.018 L1953.26 252.508 Q1953.26 248.828 1951.82 246.999 Q1950.39 245.17 1947.52 245.17 Q1944.07 245.17 1942.08 247.37 Q1940.09 249.569 1940.09 253.365 L1940.09 268.018 L1935.8 268.018 L1935.8 242.092 L1940.09 242.092 L1940.09 246.12 Q1941.61 243.782 1943.67 242.624 Q1945.76 241.467 1948.47 241.467 Q1952.93 241.467 1955.23 244.245 Q1957.52 246.999 1957.52 252.369 Z\" fill=\"#000000\" fill-rule=\"evenodd\" fill-opacity=\"1\" /><path clip-path=\"url(#clip220)\" d=\"M1977.79 254.985 Q1972.63 254.985 1970.64 256.166 Q1968.65 257.346 1968.65 260.194 Q1968.65 262.462 1970.13 263.805 Q1971.64 265.124 1974.21 265.124 Q1977.75 265.124 1979.88 262.624 Q1982.03 260.101 1982.03 255.934 L1982.03 254.985 L1977.79 254.985 M1986.29 253.226 L1986.29 268.018 L1982.03 268.018 L1982.03 264.082 Q1980.57 266.443 1978.4 267.578 Q1976.22 268.689 1973.07 268.689 Q1969.09 268.689 1966.73 266.467 Q1964.39 264.221 1964.39 260.471 Q1964.39 256.096 1967.31 253.874 Q1970.25 251.652 1976.06 251.652 L1982.03 251.652 L1982.03 251.235 Q1982.03 248.295 1980.09 246.698 Q1978.16 245.078 1974.67 245.078 Q1972.45 245.078 1970.34 245.61 Q1968.23 246.143 1966.29 247.207 L1966.29 243.272 Q1968.63 242.37 1970.83 241.93 Q1973.03 241.467 1975.11 241.467 Q1980.73 241.467 1983.51 244.383 Q1986.29 247.3 1986.29 253.226 Z\" fill=\"#000000\" fill-rule=\"evenodd\" fill-opacity=\"1\" /><path clip-path=\"url(#clip220)\" d=\"M1995.06 242.092 L1999.32 242.092 L1999.32 268.018 L1995.06 268.018 L1995.06 242.092 M1995.06 231.999 L1999.32 231.999 L1999.32 237.393 L1995.06 237.393 L1995.06 231.999 Z\" fill=\"#000000\" fill-rule=\"evenodd\" fill-opacity=\"1\" /><path clip-path=\"url(#clip220)\" d=\"M2005.18 242.092 L2009.69 242.092 L2017.79 263.851 L2025.9 242.092 L2030.41 242.092 L2020.69 268.018 L2014.9 268.018 L2005.18 242.092 Z\" fill=\"#000000\" fill-rule=\"evenodd\" fill-opacity=\"1\" /><path clip-path=\"url(#clip220)\" d=\"M2058.47 253.99 L2058.47 256.073 L2038.88 256.073 Q2039.16 260.471 2041.52 262.786 Q2043.91 265.078 2048.14 265.078 Q2050.6 265.078 2052.89 264.476 Q2055.2 263.874 2057.47 262.67 L2057.47 266.698 Q2055.18 267.67 2052.77 268.18 Q2050.36 268.689 2047.89 268.689 Q2041.68 268.689 2038.05 265.078 Q2034.44 261.467 2034.44 255.309 Q2034.44 248.944 2037.86 245.217 Q2041.31 241.467 2047.15 241.467 Q2052.38 241.467 2055.41 244.846 Q2058.47 248.203 2058.47 253.99 M2054.21 252.74 Q2054.16 249.245 2052.24 247.161 Q2050.34 245.078 2047.19 245.078 Q2043.63 245.078 2041.47 247.092 Q2039.35 249.106 2039.02 252.763 L2054.21 252.74 Z\" fill=\"#000000\" fill-rule=\"evenodd\" fill-opacity=\"1\" /><path clip-path=\"url(#clip220)\" d=\"M2100.71 247.069 Q2102.31 244.198 2104.53 242.833 Q2106.75 241.467 2109.76 241.467 Q2113.81 241.467 2116.01 244.314 Q2118.21 247.138 2118.21 252.369 L2118.21 268.018 L2113.93 268.018 L2113.93 252.508 Q2113.93 248.782 2112.61 246.976 Q2111.29 245.17 2108.58 245.17 Q2105.27 245.17 2103.35 247.37 Q2101.43 249.569 2101.43 253.365 L2101.43 268.018 L2097.15 268.018 L2097.15 252.508 Q2097.15 248.758 2095.83 246.976 Q2094.51 245.17 2091.75 245.17 Q2088.49 245.17 2086.57 247.393 Q2084.65 249.592 2084.65 253.365 L2084.65 268.018 L2080.36 268.018 L2080.36 242.092 L2084.65 242.092 L2084.65 246.12 Q2086.1 243.735 2088.14 242.601 Q2090.18 241.467 2092.98 241.467 Q2095.8 241.467 2097.77 242.902 Q2099.76 244.337 2100.71 247.069 Z\" fill=\"#000000\" fill-rule=\"evenodd\" fill-opacity=\"1\" /><path clip-path=\"url(#clip220)\" d=\"M2148.88 253.99 L2148.88 256.073 L2129.3 256.073 Q2129.58 260.471 2131.94 262.786 Q2134.32 265.078 2138.56 265.078 Q2141.01 265.078 2143.3 264.476 Q2145.62 263.874 2147.89 262.67 L2147.89 266.698 Q2145.59 267.67 2143.19 268.18 Q2140.78 268.689 2138.3 268.689 Q2132.1 268.689 2128.47 265.078 Q2124.85 261.467 2124.85 255.309 Q2124.85 248.944 2128.28 245.217 Q2131.73 241.467 2137.56 241.467 Q2142.79 241.467 2145.83 244.846 Q2148.88 248.203 2148.88 253.99 M2144.62 252.74 Q2144.58 249.245 2142.65 247.161 Q2140.76 245.078 2137.61 245.078 Q2134.04 245.078 2131.89 247.092 Q2129.76 249.106 2129.44 252.763 L2144.62 252.74 Z\" fill=\"#000000\" fill-rule=\"evenodd\" fill-opacity=\"1\" /><path clip-path=\"url(#clip220)\" d=\"M2167.65 254.985 Q2162.49 254.985 2160.5 256.166 Q2158.51 257.346 2158.51 260.194 Q2158.51 262.462 2159.99 263.805 Q2161.5 265.124 2164.07 265.124 Q2167.61 265.124 2169.74 262.624 Q2171.89 260.101 2171.89 255.934 L2171.89 254.985 L2167.65 254.985 M2176.15 253.226 L2176.15 268.018 L2171.89 268.018 L2171.89 264.082 Q2170.43 266.443 2168.26 267.578 Q2166.08 268.689 2162.93 268.689 Q2158.95 268.689 2156.59 266.467 Q2154.25 264.221 2154.25 260.471 Q2154.25 256.096 2157.17 253.874 Q2160.11 251.652 2165.92 251.652 L2171.89 251.652 L2171.89 251.235 Q2171.89 248.295 2169.95 246.698 Q2168.03 245.078 2164.53 245.078 Q2162.31 245.078 2160.2 245.61 Q2158.09 246.143 2156.15 247.207 L2156.15 243.272 Q2158.49 242.37 2160.69 241.93 Q2162.89 241.467 2164.97 241.467 Q2170.59 241.467 2173.37 244.383 Q2176.15 247.3 2176.15 253.226 Z\" fill=\"#000000\" fill-rule=\"evenodd\" fill-opacity=\"1\" /><path clip-path=\"url(#clip220)\" d=\"M2206.47 252.369 L2206.47 268.018 L2202.21 268.018 L2202.21 252.508 Q2202.21 248.828 2200.78 246.999 Q2199.34 245.17 2196.47 245.17 Q2193.02 245.17 2191.03 247.37 Q2189.04 249.569 2189.04 253.365 L2189.04 268.018 L2184.76 268.018 L2184.76 242.092 L2189.04 242.092 L2189.04 246.12 Q2190.57 243.782 2192.63 242.624 Q2194.71 241.467 2197.42 241.467 Q2201.89 241.467 2204.18 244.245 Q2206.47 246.999 2206.47 252.369 Z\" fill=\"#000000\" fill-rule=\"evenodd\" fill-opacity=\"1\" /><polyline clip-path=\"url(#clip220)\" style=\"stroke:#c271d2; stroke-linecap:butt; stroke-linejoin:round; stroke-width:4; stroke-opacity:1; fill:none\" stroke-dasharray=\"2, 4\" points=\"\n  1764.94,302.578 1911.39,302.578 \n  \"/>\n<path clip-path=\"url(#clip220)\" d=\"M1947.7 296.918 Q1944.28 296.918 1942.29 299.603 Q1940.29 302.265 1940.29 306.918 Q1940.29 311.571 1942.26 314.256 Q1944.25 316.918 1947.7 316.918 Q1951.1 316.918 1953.1 314.233 Q1955.09 311.547 1955.09 306.918 Q1955.09 302.311 1953.1 299.626 Q1951.1 296.918 1947.7 296.918 M1947.7 293.307 Q1953.26 293.307 1956.43 296.918 Q1959.6 300.529 1959.6 306.918 Q1959.6 313.284 1956.43 316.918 Q1953.26 320.529 1947.7 320.529 Q1942.12 320.529 1938.95 316.918 Q1935.8 313.284 1935.8 306.918 Q1935.8 300.529 1938.95 296.918 Q1942.12 293.307 1947.7 293.307 Z\" fill=\"#000000\" fill-rule=\"evenodd\" fill-opacity=\"1\" /><path clip-path=\"url(#clip220)\" d=\"M1981.68 297.913 Q1980.97 297.497 1980.11 297.311 Q1979.28 297.103 1978.26 297.103 Q1974.65 297.103 1972.7 299.464 Q1970.78 301.802 1970.78 306.2 L1970.78 319.858 L1966.5 319.858 L1966.5 293.932 L1970.78 293.932 L1970.78 297.96 Q1972.12 295.598 1974.28 294.464 Q1976.43 293.307 1979.51 293.307 Q1979.95 293.307 1980.48 293.376 Q1981.01 293.423 1981.66 293.538 L1981.68 297.913 Z\" fill=\"#000000\" fill-rule=\"evenodd\" fill-opacity=\"1\" /><path clip-path=\"url(#clip220)\" d=\"M1997.93 306.825 Q1992.77 306.825 1990.78 308.006 Q1988.79 309.186 1988.79 312.034 Q1988.79 314.302 1990.27 315.645 Q1991.78 316.964 1994.35 316.964 Q1997.89 316.964 2000.02 314.464 Q2002.17 311.941 2002.17 307.774 L2002.17 306.825 L1997.93 306.825 M2006.43 305.066 L2006.43 319.858 L2002.17 319.858 L2002.17 315.922 Q2000.71 318.283 1998.54 319.418 Q1996.36 320.529 1993.21 320.529 Q1989.23 320.529 1986.87 318.307 Q1984.53 316.061 1984.53 312.311 Q1984.53 307.936 1987.45 305.714 Q1990.39 303.492 1996.2 303.492 L2002.17 303.492 L2002.17 303.075 Q2002.17 300.135 2000.22 298.538 Q1998.3 296.918 1994.81 296.918 Q1992.59 296.918 1990.48 297.45 Q1988.37 297.983 1986.43 299.047 L1986.43 295.112 Q1988.77 294.21 1990.97 293.77 Q1993.16 293.307 1995.25 293.307 Q2000.87 293.307 2003.65 296.223 Q2006.43 299.14 2006.43 305.066 Z\" fill=\"#000000\" fill-rule=\"evenodd\" fill-opacity=\"1\" /><path clip-path=\"url(#clip220)\" d=\"M2033.86 294.927 L2033.86 298.909 Q2032.05 297.913 2030.22 297.427 Q2028.42 296.918 2026.57 296.918 Q2022.42 296.918 2020.13 299.557 Q2017.84 302.172 2017.84 306.918 Q2017.84 311.663 2020.13 314.302 Q2022.42 316.918 2026.57 316.918 Q2028.42 316.918 2030.22 316.432 Q2032.05 315.922 2033.86 314.927 L2033.86 318.862 Q2032.08 319.696 2030.16 320.112 Q2028.26 320.529 2026.1 320.529 Q2020.25 320.529 2016.8 316.848 Q2013.35 313.168 2013.35 306.918 Q2013.35 300.575 2016.82 296.941 Q2020.32 293.307 2026.38 293.307 Q2028.35 293.307 2030.22 293.723 Q2032.1 294.117 2033.86 294.927 Z\" fill=\"#000000\" fill-rule=\"evenodd\" fill-opacity=\"1\" /><path clip-path=\"url(#clip220)\" d=\"M2041.27 283.839 L2045.53 283.839 L2045.53 319.858 L2041.27 319.858 L2041.27 283.839 Z\" fill=\"#000000\" fill-rule=\"evenodd\" fill-opacity=\"1\" /><path clip-path=\"url(#clip220)\" d=\"M2076.61 305.83 L2076.61 307.913 L2057.03 307.913 Q2057.31 312.311 2059.67 314.626 Q2062.05 316.918 2066.29 316.918 Q2068.74 316.918 2071.03 316.316 Q2073.35 315.714 2075.62 314.51 L2075.62 318.538 Q2073.33 319.51 2070.92 320.02 Q2068.51 320.529 2066.03 320.529 Q2059.83 320.529 2056.2 316.918 Q2052.59 313.307 2052.59 307.149 Q2052.59 300.784 2056.01 297.057 Q2059.46 293.307 2065.29 293.307 Q2070.53 293.307 2073.56 296.686 Q2076.61 300.043 2076.61 305.83 M2072.35 304.58 Q2072.31 301.085 2070.39 299.001 Q2068.49 296.918 2065.34 296.918 Q2061.78 296.918 2059.62 298.932 Q2057.49 300.946 2057.17 304.603 L2072.35 304.58 Z\" fill=\"#000000\" fill-rule=\"evenodd\" fill-opacity=\"1\" /><path clip-path=\"url(#clip220)\" d=\"M2118.86 298.909 Q2120.46 296.038 2122.68 294.673 Q2124.9 293.307 2127.91 293.307 Q2131.96 293.307 2134.16 296.154 Q2136.36 298.978 2136.36 304.209 L2136.36 319.858 L2132.08 319.858 L2132.08 304.348 Q2132.08 300.622 2130.76 298.816 Q2129.44 297.01 2126.73 297.01 Q2123.42 297.01 2121.5 299.21 Q2119.58 301.409 2119.58 305.205 L2119.58 319.858 L2115.29 319.858 L2115.29 304.348 Q2115.29 300.598 2113.97 298.816 Q2112.65 297.01 2109.9 297.01 Q2106.64 297.01 2104.72 299.233 Q2102.79 301.432 2102.79 305.205 L2102.79 319.858 L2098.51 319.858 L2098.51 293.932 L2102.79 293.932 L2102.79 297.96 Q2104.25 295.575 2106.29 294.441 Q2108.33 293.307 2111.13 293.307 Q2113.95 293.307 2115.92 294.742 Q2117.91 296.177 2118.86 298.909 Z\" fill=\"#000000\" fill-rule=\"evenodd\" fill-opacity=\"1\" /><path clip-path=\"url(#clip220)\" d=\"M2167.03 305.83 L2167.03 307.913 L2147.45 307.913 Q2147.72 312.311 2150.09 314.626 Q2152.47 316.918 2156.71 316.918 Q2159.16 316.918 2161.45 316.316 Q2163.77 315.714 2166.03 314.51 L2166.03 318.538 Q2163.74 319.51 2161.34 320.02 Q2158.93 320.529 2156.45 320.529 Q2150.25 320.529 2146.61 316.918 Q2143 313.307 2143 307.149 Q2143 300.784 2146.43 297.057 Q2149.88 293.307 2155.71 293.307 Q2160.94 293.307 2163.97 296.686 Q2167.03 300.043 2167.03 305.83 M2162.77 304.58 Q2162.72 301.085 2160.8 299.001 Q2158.9 296.918 2155.76 296.918 Q2152.19 296.918 2150.04 298.932 Q2147.91 300.946 2147.59 304.603 L2162.77 304.58 Z\" fill=\"#000000\" fill-rule=\"evenodd\" fill-opacity=\"1\" /><path clip-path=\"url(#clip220)\" d=\"M2185.8 306.825 Q2180.64 306.825 2178.65 308.006 Q2176.66 309.186 2176.66 312.034 Q2176.66 314.302 2178.14 315.645 Q2179.65 316.964 2182.21 316.964 Q2185.76 316.964 2187.89 314.464 Q2190.04 311.941 2190.04 307.774 L2190.04 306.825 L2185.8 306.825 M2194.3 305.066 L2194.3 319.858 L2190.04 319.858 L2190.04 315.922 Q2188.58 318.283 2186.4 319.418 Q2184.23 320.529 2181.08 320.529 Q2177.1 320.529 2174.74 318.307 Q2172.4 316.061 2172.4 312.311 Q2172.4 307.936 2175.32 305.714 Q2178.26 303.492 2184.07 303.492 L2190.04 303.492 L2190.04 303.075 Q2190.04 300.135 2188.09 298.538 Q2186.17 296.918 2182.68 296.918 Q2180.46 296.918 2178.35 297.45 Q2176.24 297.983 2174.3 299.047 L2174.3 295.112 Q2176.64 294.21 2178.84 293.77 Q2181.03 293.307 2183.12 293.307 Q2188.74 293.307 2191.52 296.223 Q2194.3 299.14 2194.3 305.066 Z\" fill=\"#000000\" fill-rule=\"evenodd\" fill-opacity=\"1\" /><path clip-path=\"url(#clip220)\" d=\"M2224.62 304.209 L2224.62 319.858 L2220.36 319.858 L2220.36 304.348 Q2220.36 300.668 2218.93 298.839 Q2217.49 297.01 2214.62 297.01 Q2211.17 297.01 2209.18 299.21 Q2207.19 301.409 2207.19 305.205 L2207.19 319.858 L2202.91 319.858 L2202.91 293.932 L2207.19 293.932 L2207.19 297.96 Q2208.72 295.622 2210.78 294.464 Q2212.86 293.307 2215.57 293.307 Q2220.04 293.307 2222.33 296.085 Q2224.62 298.839 2224.62 304.209 Z\" fill=\"#000000\" fill-rule=\"evenodd\" fill-opacity=\"1\" /></svg>\n"
     },
     "execution_count": 48,
     "metadata": {},
     "output_type": "execute_result"
    }
   ],
   "source": [
    "Ks = exp.(LinRange(0.0, exp(1), 20))\n",
    "plot(Ks, [compute_lower_Y1(df; K=K, H =exp(0.1)) for K in Ks], xlim = (1, 6), label = \"lower bound\", lw = 3)\n",
    "plot!(Ks, [compute_upper_Y1(df; K=K, H =exp(0.1)) for K in Ks], label = \"upper bound\", lw = 3)\n",
    "plot!(leg = :best)\n",
    "hline!([naive_mean], label = \"naive mean\", linestyle = :dot, lw = 3)\n",
    "hline!([mean(df[df.G .== 0, :Y1])], label = \"oracle mean\", linestyle = :dot, lw = 3)"
   ]
  },
  {
   "cell_type": "code",
   "execution_count": null,
   "metadata": {},
   "outputs": [],
   "source": []
  },
  {
   "cell_type": "code",
   "execution_count": 49,
   "metadata": {},
   "outputs": [
    {
     "data": {
      "text/plain": [
       "lower2 (generic function with 1 method)"
      ]
     },
     "execution_count": 49,
     "metadata": {},
     "output_type": "execute_result"
    }
   ],
   "source": [
    "function lower2(m; K=exp(0.5), H=exp(0.1), df = df)\n",
    "    ϕ(x, y) = max.(y .- x, 0) .- H .* max.(x .- y, 0)\n",
    "    ϕ′(x, y) = max.(x .- y, 0) .- H .* max.(y .- x, 0)\n",
    "    ψ(x, y) = max.(y .- x, 0) .- K .* max.(x .- y, 0)\n",
    "    ψ′(x, y) = max.(x .- y, 0) .- K .* max.(y .- x, 0)\n",
    "    \n",
    "    f(s) = m -> mean((df.D .== 0) .* (df.G .== 0) .* (df.S .≈ s) .* ψ(m, df.Y))\n",
    "    g(s) = m -> mean((df.D .== 0) .* (df.G .== 0) .* (df.S .≈ s) .* ψ′(m, df.Y))\n",
    "    \n",
    "    θ0minushat_s1 = find_zero(f(5), 0.0)\n",
    "    θ0minushat_s2 = find_zero(f(10), 0.0)\n",
    "    \n",
    "    return mean((df.D.==0) .* (df.G .== 1) .*\n",
    "    (df.S .== 5) .* ϕ(m, θ0minushat_s1)) + mean((df.D.==0) .* (df.G .== 1) .*\n",
    "    (df.S .== 10) .* ϕ(m, θ0minushat_s2)) \n",
    "end"
   ]
  },
  {
   "cell_type": "code",
   "execution_count": 50,
   "metadata": {},
   "outputs": [
    {
     "data": {
      "text/plain": [
       "upper2 (generic function with 1 method)"
      ]
     },
     "execution_count": 50,
     "metadata": {},
     "output_type": "execute_result"
    }
   ],
   "source": [
    "function upper2(m; K=exp(0.5), H=exp(0.1), df = df)\n",
    "    ϕ(x, y) = max.(y .- x, 0) .- H .* max.(x .- y, 0)\n",
    "    ϕ′(x, y) = max.(x .- y, 0) .- H .* max.(y .- x, 0)\n",
    "    ψ(x, y) = max.(y .- x, 0) .- K .* max.(x .- y, 0)\n",
    "    ψ′(x, y) = max.(x .- y, 0) .- K .* max.(y .- x, 0)\n",
    "    \n",
    "    f(s) = m -> mean((df.D .== 0) .* (df.G .== 0) .* (df.S .≈ s) .* ψ(m, df.Y))\n",
    "    g(s) = m -> mean((df.D .== 0) .* (df.G .== 0) .* (df.S .≈ s) .* ψ′(m, df.Y))\n",
    "    \n",
    "    θ0plushat_s1 = find_zero(g(5), 0.0)\n",
    "    θ0plushat_s2 = find_zero(g(10), 0.0)\n",
    "    \n",
    "    return mean((df.D.==0) .* (df.G .== 1) .*\n",
    "    (df.S .== 5) .* ϕ′(m, θ0plushat_s1)) + mean((df.D.==0) .* (df.G .== 1) .*\n",
    "    (df.S .== 10) .* ϕ′(m, θ0plushat_s2)) \n",
    "end"
   ]
  },
  {
   "cell_type": "code",
   "execution_count": 51,
   "metadata": {},
   "outputs": [
    {
     "data": {
      "text/plain": [
       "compute_lower_Y0 (generic function with 1 method)"
      ]
     },
     "execution_count": 51,
     "metadata": {},
     "output_type": "execute_result"
    }
   ],
   "source": [
    "function compute_lower_Y0(df; K=1, H=1)\n",
    "    \n",
    "    f(s; df = df, K = K) = m -> mean((df.D .== 0) .* (df.G .== 0) .* (df.S .≈ s) .* ψ(m, df.Y; K = K))\n",
    "    \n",
    "    θ0minushat_s1 = find_zero(f(5; df = df, K=K), 0.0)\n",
    "    θ0minushat_s2 = find_zero(f(10; df = df, K=K), 0.0)\n",
    "    \n",
    "    μ0minus = find_zero(m -> lower2(m; df=df, K=K, H=H), 0.0) / mean(df[df.G .== 0, :D].== 1) - \n",
    "    (θ0minushat_s1 * mean(df[ (df.D.==0) .* (df.G .== 0), :S] .== 5) + \n",
    "    θ0minushat_s2 * mean(df[ (df.D.==0) .* (df.G .== 0), :S] .== 10) ) * \n",
    "    mean(df[df.G .== 0, :D].== 0) /\n",
    "    mean(df[df.G .== 0, :D].== 1)\n",
    "    \n",
    "    lower_Y0 = mean(df[ (df.G .== 0) .* (df.D .== 0 ), :Y]) * \n",
    "        mean(df[df.G .== 0, :D].== 0) +  \n",
    "        μ0minus* \n",
    "        mean(df[df.G .== 0, :D].== 1)\n",
    "end"
   ]
  },
  {
   "cell_type": "code",
   "execution_count": 52,
   "metadata": {},
   "outputs": [
    {
     "data": {
      "text/plain": [
       "compute_upper_Y0 (generic function with 1 method)"
      ]
     },
     "execution_count": 52,
     "metadata": {},
     "output_type": "execute_result"
    }
   ],
   "source": [
    "function compute_upper_Y0(df; K = exp(0.5), H = exp(0.1))\n",
    "    \n",
    "    g(s; df = df, K = K) = m -> mean((df.D .== 0) .* (df.G .== 0) .* (df.S .≈ s) .* ψ′(m, df.Y; K = K))\n",
    "    \n",
    "    θ0plushat_s1 = find_zero(g(5; df = df, K = K), 0.0)\n",
    "    θ0plushat_s2 = find_zero(g(10; df = df, K = K), 0.0)\n",
    "    \n",
    "    μ0plus = find_zero(m -> upper2(m; df=df, K=K, H=H), 0.0) / mean(df[df.G .== 0, :D].== 1) - \n",
    "    (θ0plushat_s1 * mean(df[ (df.D.==0) .* (df.G .== 0), :S] .== 5) + \n",
    "    θ0plushat_s2 * mean(df[ (df.D.==0) .* (df.G .== 0), :S] .== 10) ) * \n",
    "    mean(df[df.G .== 0, :D].== 0) /\n",
    "    mean(df[df.G .== 0, :D].== 1)\n",
    "    \n",
    "    upper_Y0 = mean(df[ (df.G .== 0) .* (df.D .== 0 ), :Y]) * \n",
    "        mean(df[df.G .== 0, :D].== 0) +  \n",
    "        μ0plus* \n",
    "        mean(df[df.G .== 0, :D].== 1)\n",
    "end"
   ]
  },
  {
   "cell_type": "code",
   "execution_count": 53,
   "metadata": {},
   "outputs": [
    {
     "data": {
      "image/svg+xml": "<?xml version=\"1.0\" encoding=\"utf-8\"?>\n<svg xmlns=\"http://www.w3.org/2000/svg\" xmlns:xlink=\"http://www.w3.org/1999/xlink\" width=\"600\" height=\"400\" viewBox=\"0 0 2400 1600\">\n<defs>\n  <clipPath id=\"clip260\">\n    <rect x=\"0\" y=\"0\" width=\"2400\" height=\"1600\"/>\n  </clipPath>\n</defs>\n<path clip-path=\"url(#clip260)\" d=\"\nM0 1600 L2400 1600 L2400 0 L0 0  Z\n  \" fill=\"#ffffff\" fill-rule=\"evenodd\" fill-opacity=\"1\"/>\n<defs>\n  <clipPath id=\"clip261\">\n    <rect x=\"480\" y=\"0\" width=\"1681\" height=\"1600\"/>\n  </clipPath>\n</defs>\n<path clip-path=\"url(#clip260)\" d=\"\nM186.274 1486.45 L2352.76 1486.45 L2352.76 47.2441 L186.274 47.2441  Z\n  \" fill=\"#ffffff\" fill-rule=\"evenodd\" fill-opacity=\"1\"/>\n<defs>\n  <clipPath id=\"clip262\">\n    <rect x=\"186\" y=\"47\" width=\"2167\" height=\"1440\"/>\n  </clipPath>\n</defs>\n<polyline clip-path=\"url(#clip262)\" style=\"stroke:#000000; stroke-linecap:butt; stroke-linejoin:round; stroke-width:2; stroke-opacity:0.1; fill:none\" points=\"\n  186.274,1486.45 186.274,47.2441 \n  \"/>\n<polyline clip-path=\"url(#clip262)\" style=\"stroke:#000000; stroke-linecap:butt; stroke-linejoin:round; stroke-width:2; stroke-opacity:0.1; fill:none\" points=\"\n  619.57,1486.45 619.57,47.2441 \n  \"/>\n<polyline clip-path=\"url(#clip262)\" style=\"stroke:#000000; stroke-linecap:butt; stroke-linejoin:round; stroke-width:2; stroke-opacity:0.1; fill:none\" points=\"\n  1052.87,1486.45 1052.87,47.2441 \n  \"/>\n<polyline clip-path=\"url(#clip262)\" style=\"stroke:#000000; stroke-linecap:butt; stroke-linejoin:round; stroke-width:2; stroke-opacity:0.1; fill:none\" points=\"\n  1486.16,1486.45 1486.16,47.2441 \n  \"/>\n<polyline clip-path=\"url(#clip262)\" style=\"stroke:#000000; stroke-linecap:butt; stroke-linejoin:round; stroke-width:2; stroke-opacity:0.1; fill:none\" points=\"\n  1919.46,1486.45 1919.46,47.2441 \n  \"/>\n<polyline clip-path=\"url(#clip262)\" style=\"stroke:#000000; stroke-linecap:butt; stroke-linejoin:round; stroke-width:2; stroke-opacity:0.1; fill:none\" points=\"\n  2352.76,1486.45 2352.76,47.2441 \n  \"/>\n<polyline clip-path=\"url(#clip260)\" style=\"stroke:#000000; stroke-linecap:butt; stroke-linejoin:round; stroke-width:4; stroke-opacity:1; fill:none\" points=\"\n  186.274,1486.45 2352.76,1486.45 \n  \"/>\n<polyline clip-path=\"url(#clip260)\" style=\"stroke:#000000; stroke-linecap:butt; stroke-linejoin:round; stroke-width:4; stroke-opacity:1; fill:none\" points=\"\n  186.274,1486.45 186.274,1467.55 \n  \"/>\n<polyline clip-path=\"url(#clip260)\" style=\"stroke:#000000; stroke-linecap:butt; stroke-linejoin:round; stroke-width:4; stroke-opacity:1; fill:none\" points=\"\n  619.57,1486.45 619.57,1467.55 \n  \"/>\n<polyline clip-path=\"url(#clip260)\" style=\"stroke:#000000; stroke-linecap:butt; stroke-linejoin:round; stroke-width:4; stroke-opacity:1; fill:none\" points=\"\n  1052.87,1486.45 1052.87,1467.55 \n  \"/>\n<polyline clip-path=\"url(#clip260)\" style=\"stroke:#000000; stroke-linecap:butt; stroke-linejoin:round; stroke-width:4; stroke-opacity:1; fill:none\" points=\"\n  1486.16,1486.45 1486.16,1467.55 \n  \"/>\n<polyline clip-path=\"url(#clip260)\" style=\"stroke:#000000; stroke-linecap:butt; stroke-linejoin:round; stroke-width:4; stroke-opacity:1; fill:none\" points=\"\n  1919.46,1486.45 1919.46,1467.55 \n  \"/>\n<polyline clip-path=\"url(#clip260)\" style=\"stroke:#000000; stroke-linecap:butt; stroke-linejoin:round; stroke-width:4; stroke-opacity:1; fill:none\" points=\"\n  2352.76,1486.45 2352.76,1467.55 \n  \"/>\n<path clip-path=\"url(#clip260)\" d=\"M176.656 1544.91 L184.295 1544.91 L184.295 1518.55 L175.985 1520.21 L175.985 1515.95 L184.249 1514.29 L188.924 1514.29 L188.924 1544.91 L196.563 1544.91 L196.563 1548.85 L176.656 1548.85 L176.656 1544.91 Z\" fill=\"#000000\" fill-rule=\"evenodd\" fill-opacity=\"1\" /><path clip-path=\"url(#clip260)\" d=\"M614.223 1544.91 L630.543 1544.91 L630.543 1548.85 L608.598 1548.85 L608.598 1544.91 Q611.26 1542.16 615.844 1537.53 Q620.45 1532.88 621.631 1531.53 Q623.876 1529.01 624.756 1527.27 Q625.658 1525.51 625.658 1523.82 Q625.658 1521.07 623.714 1519.33 Q621.793 1517.6 618.691 1517.6 Q616.492 1517.6 614.038 1518.36 Q611.607 1519.13 608.83 1520.68 L608.83 1515.95 Q611.654 1514.82 614.107 1514.24 Q616.561 1513.66 618.598 1513.66 Q623.969 1513.66 627.163 1516.35 Q630.357 1519.03 630.357 1523.52 Q630.357 1525.65 629.547 1527.57 Q628.76 1529.47 626.654 1532.07 Q626.075 1532.74 622.973 1535.95 Q619.871 1539.15 614.223 1544.91 Z\" fill=\"#000000\" fill-rule=\"evenodd\" fill-opacity=\"1\" /><path clip-path=\"url(#clip260)\" d=\"M1057.11 1530.21 Q1060.47 1530.93 1062.35 1533.2 Q1064.24 1535.47 1064.24 1538.8 Q1064.24 1543.92 1060.73 1546.72 Q1057.21 1549.52 1050.73 1549.52 Q1048.55 1549.52 1046.23 1549.08 Q1043.94 1548.66 1041.49 1547.81 L1041.49 1543.29 Q1043.43 1544.43 1045.75 1545.01 Q1048.06 1545.58 1050.59 1545.58 Q1054.98 1545.58 1057.28 1543.85 Q1059.59 1542.11 1059.59 1538.8 Q1059.59 1535.75 1057.44 1534.03 Q1055.31 1532.3 1051.49 1532.3 L1047.46 1532.3 L1047.46 1528.45 L1051.67 1528.45 Q1055.12 1528.45 1056.95 1527.09 Q1058.78 1525.7 1058.78 1523.11 Q1058.78 1520.45 1056.88 1519.03 Q1055.01 1517.6 1051.49 1517.6 Q1049.57 1517.6 1047.37 1518.01 Q1045.17 1518.43 1042.53 1519.31 L1042.53 1515.14 Q1045.19 1514.4 1047.51 1514.03 Q1049.85 1513.66 1051.91 1513.66 Q1057.23 1513.66 1060.33 1516.09 Q1063.43 1518.5 1063.43 1522.62 Q1063.43 1525.49 1061.79 1527.48 Q1060.15 1529.45 1057.11 1530.21 Z\" fill=\"#000000\" fill-rule=\"evenodd\" fill-opacity=\"1\" /><path clip-path=\"url(#clip260)\" d=\"M1489.17 1518.36 L1477.37 1536.81 L1489.17 1536.81 L1489.17 1518.36 M1487.95 1514.29 L1493.83 1514.29 L1493.83 1536.81 L1498.76 1536.81 L1498.76 1540.7 L1493.83 1540.7 L1493.83 1548.85 L1489.17 1548.85 L1489.17 1540.7 L1473.57 1540.7 L1473.57 1536.19 L1487.95 1514.29 Z\" fill=\"#000000\" fill-rule=\"evenodd\" fill-opacity=\"1\" /><path clip-path=\"url(#clip260)\" d=\"M1909.74 1514.29 L1928.09 1514.29 L1928.09 1518.22 L1914.02 1518.22 L1914.02 1526.7 Q1915.04 1526.35 1916.06 1526.19 Q1917.08 1526 1918.09 1526 Q1923.88 1526 1927.26 1529.17 Q1930.64 1532.34 1930.64 1537.76 Q1930.64 1543.34 1927.17 1546.44 Q1923.7 1549.52 1917.38 1549.52 Q1915.2 1549.52 1912.93 1549.15 Q1910.69 1548.78 1908.28 1548.04 L1908.28 1543.34 Q1910.36 1544.47 1912.58 1545.03 Q1914.81 1545.58 1917.28 1545.58 Q1921.29 1545.58 1923.63 1543.48 Q1925.96 1541.37 1925.96 1537.76 Q1925.96 1534.15 1923.63 1532.04 Q1921.29 1529.94 1917.28 1529.94 Q1915.41 1529.94 1913.53 1530.35 Q1911.68 1530.77 1909.74 1531.65 L1909.74 1514.29 Z\" fill=\"#000000\" fill-rule=\"evenodd\" fill-opacity=\"1\" /><path clip-path=\"url(#clip260)\" d=\"M2353.16 1529.7 Q2350.01 1529.7 2348.16 1531.86 Q2346.33 1534.01 2346.33 1537.76 Q2346.33 1541.49 2348.16 1543.66 Q2350.01 1545.82 2353.16 1545.82 Q2356.31 1545.82 2358.14 1543.66 Q2359.99 1541.49 2359.99 1537.76 Q2359.99 1534.01 2358.14 1531.86 Q2356.31 1529.7 2353.16 1529.7 M2362.44 1515.05 L2362.44 1519.31 Q2360.68 1518.48 2358.88 1518.04 Q2357.1 1517.6 2355.34 1517.6 Q2350.71 1517.6 2348.25 1520.72 Q2345.82 1523.85 2345.48 1530.17 Q2346.84 1528.15 2348.9 1527.09 Q2350.96 1526 2353.44 1526 Q2358.65 1526 2361.66 1529.17 Q2364.69 1532.32 2364.69 1537.76 Q2364.69 1543.08 2361.54 1546.3 Q2358.39 1549.52 2353.16 1549.52 Q2347.17 1549.52 2343.99 1544.94 Q2340.82 1540.33 2340.82 1531.6 Q2340.82 1523.41 2344.71 1518.55 Q2348.6 1513.66 2355.15 1513.66 Q2356.91 1513.66 2358.69 1514.01 Q2360.5 1514.36 2362.44 1515.05 Z\" fill=\"#000000\" fill-rule=\"evenodd\" fill-opacity=\"1\" /><polyline clip-path=\"url(#clip262)\" style=\"stroke:#000000; stroke-linecap:butt; stroke-linejoin:round; stroke-width:2; stroke-opacity:0.1; fill:none\" points=\"\n  186.274,1445.72 2352.76,1445.72 \n  \"/>\n<polyline clip-path=\"url(#clip262)\" style=\"stroke:#000000; stroke-linecap:butt; stroke-linejoin:round; stroke-width:2; stroke-opacity:0.1; fill:none\" points=\"\n  186.274,1106.28 2352.76,1106.28 \n  \"/>\n<polyline clip-path=\"url(#clip262)\" style=\"stroke:#000000; stroke-linecap:butt; stroke-linejoin:round; stroke-width:2; stroke-opacity:0.1; fill:none\" points=\"\n  186.274,766.846 2352.76,766.846 \n  \"/>\n<polyline clip-path=\"url(#clip262)\" style=\"stroke:#000000; stroke-linecap:butt; stroke-linejoin:round; stroke-width:2; stroke-opacity:0.1; fill:none\" points=\"\n  186.274,427.411 2352.76,427.411 \n  \"/>\n<polyline clip-path=\"url(#clip262)\" style=\"stroke:#000000; stroke-linecap:butt; stroke-linejoin:round; stroke-width:2; stroke-opacity:0.1; fill:none\" points=\"\n  186.274,87.9763 2352.76,87.9763 \n  \"/>\n<polyline clip-path=\"url(#clip260)\" style=\"stroke:#000000; stroke-linecap:butt; stroke-linejoin:round; stroke-width:4; stroke-opacity:1; fill:none\" points=\"\n  186.274,1486.45 186.274,47.2441 \n  \"/>\n<polyline clip-path=\"url(#clip260)\" style=\"stroke:#000000; stroke-linecap:butt; stroke-linejoin:round; stroke-width:4; stroke-opacity:1; fill:none\" points=\"\n  186.274,1445.72 205.172,1445.72 \n  \"/>\n<polyline clip-path=\"url(#clip260)\" style=\"stroke:#000000; stroke-linecap:butt; stroke-linejoin:round; stroke-width:4; stroke-opacity:1; fill:none\" points=\"\n  186.274,1106.28 205.172,1106.28 \n  \"/>\n<polyline clip-path=\"url(#clip260)\" style=\"stroke:#000000; stroke-linecap:butt; stroke-linejoin:round; stroke-width:4; stroke-opacity:1; fill:none\" points=\"\n  186.274,766.846 205.172,766.846 \n  \"/>\n<polyline clip-path=\"url(#clip260)\" style=\"stroke:#000000; stroke-linecap:butt; stroke-linejoin:round; stroke-width:4; stroke-opacity:1; fill:none\" points=\"\n  186.274,427.411 205.172,427.411 \n  \"/>\n<polyline clip-path=\"url(#clip260)\" style=\"stroke:#000000; stroke-linecap:butt; stroke-linejoin:round; stroke-width:4; stroke-opacity:1; fill:none\" points=\"\n  186.274,87.9763 205.172,87.9763 \n  \"/>\n<path clip-path=\"url(#clip260)\" d=\"M62.9365 1431.51 Q59.3254 1431.51 57.4967 1435.08 Q55.6912 1438.62 55.6912 1445.75 Q55.6912 1452.86 57.4967 1456.42 Q59.3254 1459.96 62.9365 1459.96 Q66.5707 1459.96 68.3763 1456.42 Q70.205 1452.86 70.205 1445.75 Q70.205 1438.62 68.3763 1435.08 Q66.5707 1431.51 62.9365 1431.51 M62.9365 1427.81 Q68.7467 1427.81 71.8022 1432.42 Q74.8809 1437 74.8809 1445.75 Q74.8809 1454.48 71.8022 1459.08 Q68.7467 1463.67 62.9365 1463.67 Q57.1264 1463.67 54.0477 1459.08 Q50.9921 1454.48 50.9921 1445.75 Q50.9921 1437 54.0477 1432.42 Q57.1264 1427.81 62.9365 1427.81 Z\" fill=\"#000000\" fill-rule=\"evenodd\" fill-opacity=\"1\" /><path clip-path=\"url(#clip260)\" d=\"M83.0984 1457.12 L87.9827 1457.12 L87.9827 1463 L83.0984 1463 L83.0984 1457.12 Z\" fill=\"#000000\" fill-rule=\"evenodd\" fill-opacity=\"1\" /><path clip-path=\"url(#clip260)\" d=\"M108.168 1431.51 Q104.557 1431.51 102.728 1435.08 Q100.922 1438.62 100.922 1445.75 Q100.922 1452.86 102.728 1456.42 Q104.557 1459.96 108.168 1459.96 Q111.802 1459.96 113.608 1456.42 Q115.436 1452.86 115.436 1445.75 Q115.436 1438.62 113.608 1435.08 Q111.802 1431.51 108.168 1431.51 M108.168 1427.81 Q113.978 1427.81 117.033 1432.42 Q120.112 1437 120.112 1445.75 Q120.112 1454.48 117.033 1459.08 Q113.978 1463.67 108.168 1463.67 Q102.358 1463.67 99.2789 1459.08 Q96.2234 1454.48 96.2234 1445.75 Q96.2234 1437 99.2789 1432.42 Q102.358 1427.81 108.168 1427.81 Z\" fill=\"#000000\" fill-rule=\"evenodd\" fill-opacity=\"1\" /><path clip-path=\"url(#clip260)\" d=\"M138.33 1431.51 Q134.719 1431.51 132.89 1435.08 Q131.084 1438.62 131.084 1445.75 Q131.084 1452.86 132.89 1456.42 Q134.719 1459.96 138.33 1459.96 Q141.964 1459.96 143.769 1456.42 Q145.598 1452.86 145.598 1445.75 Q145.598 1438.62 143.769 1435.08 Q141.964 1431.51 138.33 1431.51 M138.33 1427.81 Q144.14 1427.81 147.195 1432.42 Q150.274 1437 150.274 1445.75 Q150.274 1454.48 147.195 1459.08 Q144.14 1463.67 138.33 1463.67 Q132.519 1463.67 129.441 1459.08 Q126.385 1454.48 126.385 1445.75 Q126.385 1437 129.441 1432.42 Q132.519 1427.81 138.33 1427.81 Z\" fill=\"#000000\" fill-rule=\"evenodd\" fill-opacity=\"1\" /><path clip-path=\"url(#clip260)\" d=\"M63.9319 1092.08 Q60.3208 1092.08 58.4921 1095.64 Q56.6865 1099.19 56.6865 1106.32 Q56.6865 1113.42 58.4921 1116.99 Q60.3208 1120.53 63.9319 1120.53 Q67.5661 1120.53 69.3717 1116.99 Q71.2004 1113.42 71.2004 1106.32 Q71.2004 1099.19 69.3717 1095.64 Q67.5661 1092.08 63.9319 1092.08 M63.9319 1088.38 Q69.742 1088.38 72.7976 1092.98 Q75.8763 1097.57 75.8763 1106.32 Q75.8763 1115.04 72.7976 1119.65 Q69.742 1124.23 63.9319 1124.23 Q58.1217 1124.23 55.043 1119.65 Q51.9875 1115.04 51.9875 1106.32 Q51.9875 1097.57 55.043 1092.98 Q58.1217 1088.38 63.9319 1088.38 Z\" fill=\"#000000\" fill-rule=\"evenodd\" fill-opacity=\"1\" /><path clip-path=\"url(#clip260)\" d=\"M84.0938 1117.68 L88.978 1117.68 L88.978 1123.56 L84.0938 1123.56 L84.0938 1117.68 Z\" fill=\"#000000\" fill-rule=\"evenodd\" fill-opacity=\"1\" /><path clip-path=\"url(#clip260)\" d=\"M103.191 1119.63 L119.51 1119.63 L119.51 1123.56 L97.566 1123.56 L97.566 1119.63 Q100.228 1116.87 104.811 1112.24 Q109.418 1107.59 110.598 1106.25 Q112.844 1103.72 113.723 1101.99 Q114.626 1100.23 114.626 1098.54 Q114.626 1095.78 112.682 1094.05 Q110.76 1092.31 107.658 1092.31 Q105.459 1092.31 103.006 1093.07 Q100.575 1093.84 97.7974 1095.39 L97.7974 1090.67 Q100.621 1089.53 103.075 1088.95 Q105.529 1088.38 107.566 1088.38 Q112.936 1088.38 116.131 1091.06 Q119.325 1093.75 119.325 1098.24 Q119.325 1100.37 118.515 1102.29 Q117.728 1104.19 115.621 1106.78 Q115.043 1107.45 111.941 1110.67 Q108.839 1113.86 103.191 1119.63 Z\" fill=\"#000000\" fill-rule=\"evenodd\" fill-opacity=\"1\" /><path clip-path=\"url(#clip260)\" d=\"M129.371 1089 L147.728 1089 L147.728 1092.94 L133.654 1092.94 L133.654 1101.41 Q134.672 1101.06 135.691 1100.9 Q136.709 1100.71 137.728 1100.71 Q143.515 1100.71 146.894 1103.89 Q150.274 1107.06 150.274 1112.47 Q150.274 1118.05 146.802 1121.15 Q143.33 1124.23 137.01 1124.23 Q134.834 1124.23 132.566 1123.86 Q130.32 1123.49 127.913 1122.75 L127.913 1118.05 Q129.996 1119.19 132.219 1119.74 Q134.441 1120.3 136.918 1120.3 Q140.922 1120.3 143.26 1118.19 Q145.598 1116.08 145.598 1112.47 Q145.598 1108.86 143.26 1106.76 Q140.922 1104.65 136.918 1104.65 Q135.043 1104.65 133.168 1105.07 Q131.316 1105.48 129.371 1106.36 L129.371 1089 Z\" fill=\"#000000\" fill-rule=\"evenodd\" fill-opacity=\"1\" /><path clip-path=\"url(#clip260)\" d=\"M62.9365 752.645 Q59.3254 752.645 57.4967 756.209 Q55.6912 759.751 55.6912 766.881 Q55.6912 773.987 57.4967 777.552 Q59.3254 781.094 62.9365 781.094 Q66.5707 781.094 68.3763 777.552 Q70.205 773.987 70.205 766.881 Q70.205 759.751 68.3763 756.209 Q66.5707 752.645 62.9365 752.645 M62.9365 748.941 Q68.7467 748.941 71.8022 753.547 Q74.8809 758.131 74.8809 766.881 Q74.8809 775.608 71.8022 780.214 Q68.7467 784.797 62.9365 784.797 Q57.1264 784.797 54.0477 780.214 Q50.9921 775.608 50.9921 766.881 Q50.9921 758.131 54.0477 753.547 Q57.1264 748.941 62.9365 748.941 Z\" fill=\"#000000\" fill-rule=\"evenodd\" fill-opacity=\"1\" /><path clip-path=\"url(#clip260)\" d=\"M83.0984 778.246 L87.9827 778.246 L87.9827 784.126 L83.0984 784.126 L83.0984 778.246 Z\" fill=\"#000000\" fill-rule=\"evenodd\" fill-opacity=\"1\" /><path clip-path=\"url(#clip260)\" d=\"M98.2141 749.566 L116.57 749.566 L116.57 753.501 L102.496 753.501 L102.496 761.973 Q103.515 761.626 104.534 761.464 Q105.552 761.279 106.571 761.279 Q112.358 761.279 115.737 764.45 Q119.117 767.621 119.117 773.038 Q119.117 778.617 115.645 781.719 Q112.172 784.797 105.853 784.797 Q103.677 784.797 101.409 784.427 Q99.1632 784.057 96.7558 783.316 L96.7558 778.617 Q98.8391 779.751 101.061 780.307 Q103.284 780.862 105.76 780.862 Q109.765 780.862 112.103 778.756 Q114.441 776.649 114.441 773.038 Q114.441 769.427 112.103 767.321 Q109.765 765.214 105.76 765.214 Q103.885 765.214 102.01 765.631 Q100.159 766.047 98.2141 766.927 L98.2141 749.566 Z\" fill=\"#000000\" fill-rule=\"evenodd\" fill-opacity=\"1\" /><path clip-path=\"url(#clip260)\" d=\"M138.33 752.645 Q134.719 752.645 132.89 756.209 Q131.084 759.751 131.084 766.881 Q131.084 773.987 132.89 777.552 Q134.719 781.094 138.33 781.094 Q141.964 781.094 143.769 777.552 Q145.598 773.987 145.598 766.881 Q145.598 759.751 143.769 756.209 Q141.964 752.645 138.33 752.645 M138.33 748.941 Q144.14 748.941 147.195 753.547 Q150.274 758.131 150.274 766.881 Q150.274 775.608 147.195 780.214 Q144.14 784.797 138.33 784.797 Q132.519 784.797 129.441 780.214 Q126.385 775.608 126.385 766.881 Q126.385 758.131 129.441 753.547 Q132.519 748.941 138.33 748.941 Z\" fill=\"#000000\" fill-rule=\"evenodd\" fill-opacity=\"1\" /><path clip-path=\"url(#clip260)\" d=\"M63.9319 413.21 Q60.3208 413.21 58.4921 416.775 Q56.6865 420.316 56.6865 427.446 Q56.6865 434.552 58.4921 438.117 Q60.3208 441.659 63.9319 441.659 Q67.5661 441.659 69.3717 438.117 Q71.2004 434.552 71.2004 427.446 Q71.2004 420.316 69.3717 416.775 Q67.5661 413.21 63.9319 413.21 M63.9319 409.506 Q69.742 409.506 72.7976 414.113 Q75.8763 418.696 75.8763 427.446 Q75.8763 436.173 72.7976 440.779 Q69.742 445.362 63.9319 445.362 Q58.1217 445.362 55.043 440.779 Q51.9875 436.173 51.9875 427.446 Q51.9875 418.696 55.043 414.113 Q58.1217 409.506 63.9319 409.506 Z\" fill=\"#000000\" fill-rule=\"evenodd\" fill-opacity=\"1\" /><path clip-path=\"url(#clip260)\" d=\"M84.0938 438.812 L88.978 438.812 L88.978 444.691 L84.0938 444.691 L84.0938 438.812 Z\" fill=\"#000000\" fill-rule=\"evenodd\" fill-opacity=\"1\" /><path clip-path=\"url(#clip260)\" d=\"M97.9826 410.131 L120.205 410.131 L120.205 412.122 L107.658 444.691 L102.774 444.691 L114.58 414.066 L97.9826 414.066 L97.9826 410.131 Z\" fill=\"#000000\" fill-rule=\"evenodd\" fill-opacity=\"1\" /><path clip-path=\"url(#clip260)\" d=\"M129.371 410.131 L147.728 410.131 L147.728 414.066 L133.654 414.066 L133.654 422.538 Q134.672 422.191 135.691 422.029 Q136.709 421.844 137.728 421.844 Q143.515 421.844 146.894 425.015 Q150.274 428.187 150.274 433.603 Q150.274 439.182 146.802 442.284 Q143.33 445.362 137.01 445.362 Q134.834 445.362 132.566 444.992 Q130.32 444.622 127.913 443.881 L127.913 439.182 Q129.996 440.316 132.219 440.872 Q134.441 441.427 136.918 441.427 Q140.922 441.427 143.26 439.321 Q145.598 437.214 145.598 433.603 Q145.598 429.992 143.26 427.886 Q140.922 425.779 136.918 425.779 Q135.043 425.779 133.168 426.196 Q131.316 426.613 129.371 427.492 L129.371 410.131 Z\" fill=\"#000000\" fill-rule=\"evenodd\" fill-opacity=\"1\" /><path clip-path=\"url(#clip260)\" d=\"M53.7467 101.321 L61.3856 101.321 L61.3856 74.9555 L53.0754 76.6222 L53.0754 72.3629 L61.3393 70.6963 L66.0152 70.6963 L66.0152 101.321 L73.654 101.321 L73.654 105.256 L53.7467 105.256 L53.7467 101.321 Z\" fill=\"#000000\" fill-rule=\"evenodd\" fill-opacity=\"1\" /><path clip-path=\"url(#clip260)\" d=\"M83.0984 99.3767 L87.9827 99.3767 L87.9827 105.256 L83.0984 105.256 L83.0984 99.3767 Z\" fill=\"#000000\" fill-rule=\"evenodd\" fill-opacity=\"1\" /><path clip-path=\"url(#clip260)\" d=\"M108.168 73.775 Q104.557 73.775 102.728 77.3398 Q100.922 80.8814 100.922 88.011 Q100.922 95.1174 102.728 98.6822 Q104.557 102.224 108.168 102.224 Q111.802 102.224 113.608 98.6822 Q115.436 95.1174 115.436 88.011 Q115.436 80.8814 113.608 77.3398 Q111.802 73.775 108.168 73.775 M108.168 70.0713 Q113.978 70.0713 117.033 74.6777 Q120.112 79.261 120.112 88.011 Q120.112 96.7378 117.033 101.344 Q113.978 105.928 108.168 105.928 Q102.358 105.928 99.2789 101.344 Q96.2234 96.7378 96.2234 88.011 Q96.2234 79.261 99.2789 74.6777 Q102.358 70.0713 108.168 70.0713 Z\" fill=\"#000000\" fill-rule=\"evenodd\" fill-opacity=\"1\" /><path clip-path=\"url(#clip260)\" d=\"M138.33 73.775 Q134.719 73.775 132.89 77.3398 Q131.084 80.8814 131.084 88.011 Q131.084 95.1174 132.89 98.6822 Q134.719 102.224 138.33 102.224 Q141.964 102.224 143.769 98.6822 Q145.598 95.1174 145.598 88.011 Q145.598 80.8814 143.769 77.3398 Q141.964 73.775 138.33 73.775 M138.33 70.0713 Q144.14 70.0713 147.195 74.6777 Q150.274 79.261 150.274 88.011 Q150.274 96.7378 147.195 101.344 Q144.14 105.928 138.33 105.928 Q132.519 105.928 129.441 101.344 Q126.385 96.7378 126.385 88.011 Q126.385 79.261 129.441 74.6777 Q132.519 70.0713 138.33 70.0713 Z\" fill=\"#000000\" fill-rule=\"evenodd\" fill-opacity=\"1\" /><polyline clip-path=\"url(#clip262)\" style=\"stroke:#009af9; stroke-linecap:butt; stroke-linejoin:round; stroke-width:12; stroke-opacity:1; fill:none\" points=\"\n  186.274,1445.72 252.918,1445.72 329.813,1445.72 418.535,1445.72 520.902,1445.72 639.015,1445.72 775.294,1445.72 932.535,1445.72 1113.96,1445.72 1323.29,1445.72 \n  1564.81,1445.72 1843.49,1445.72 2165.03,1445.72 2536.02,1445.72 2964.07,1445.72 3457.96,1445.72 4027.82,1445.72 4685.32,1445.72 5443.95,1445.72 6319.26,1445.72 \n  \n  \"/>\n<polyline clip-path=\"url(#clip262)\" style=\"stroke:#e26f46; stroke-linecap:butt; stroke-linejoin:round; stroke-width:12; stroke-opacity:1; fill:none\" points=\"\n  186.274,1445.72 252.918,1445.72 329.813,1445.72 418.535,1445.72 520.902,1445.72 639.015,1445.72 775.294,1445.72 932.535,1445.72 1113.96,1445.72 1323.29,1445.72 \n  1564.81,1445.72 1843.49,1445.72 2165.03,1445.72 2536.02,1445.72 2964.07,1445.72 3457.96,1445.72 4027.82,1445.72 4685.32,1445.72 5443.95,1445.72 6319.26,1445.72 \n  \n  \"/>\n<path clip-path=\"url(#clip260)\" d=\"\nM1744.91 250.738 L2280.54 250.738 L2280.54 95.2176 L1744.91 95.2176  Z\n  \" fill=\"#ffffff\" fill-rule=\"evenodd\" fill-opacity=\"1\"/>\n<polyline clip-path=\"url(#clip260)\" style=\"stroke:#000000; stroke-linecap:butt; stroke-linejoin:round; stroke-width:4; stroke-opacity:1; fill:none\" points=\"\n  1744.91,250.738 2280.54,250.738 2280.54,95.2176 1744.91,95.2176 1744.91,250.738 \n  \"/>\n<polyline clip-path=\"url(#clip260)\" style=\"stroke:#009af9; stroke-linecap:butt; stroke-linejoin:round; stroke-width:4; stroke-opacity:1; fill:none\" points=\"\n  1768.99,147.058 1913.42,147.058 \n  \"/>\n<path clip-path=\"url(#clip260)\" d=\"M1937.49 128.319 L1941.75 128.319 L1941.75 164.338 L1937.49 164.338 L1937.49 128.319 Z\" fill=\"#000000\" fill-rule=\"evenodd\" fill-opacity=\"1\" /><path clip-path=\"url(#clip260)\" d=\"M1960.71 141.398 Q1957.28 141.398 1955.29 144.083 Q1953.3 146.745 1953.3 151.398 Q1953.3 156.051 1955.27 158.736 Q1957.26 161.398 1960.71 161.398 Q1964.11 161.398 1966.1 158.713 Q1968.09 156.027 1968.09 151.398 Q1968.09 146.791 1966.1 144.106 Q1964.11 141.398 1960.71 141.398 M1960.71 137.787 Q1966.26 137.787 1969.43 141.398 Q1972.61 145.009 1972.61 151.398 Q1972.61 157.764 1969.43 161.398 Q1966.26 165.009 1960.71 165.009 Q1955.13 165.009 1951.96 161.398 Q1948.81 157.764 1948.81 151.398 Q1948.81 145.009 1951.96 141.398 Q1955.13 137.787 1960.71 137.787 Z\" fill=\"#000000\" fill-rule=\"evenodd\" fill-opacity=\"1\" /><path clip-path=\"url(#clip260)\" d=\"M1977.19 138.412 L1981.45 138.412 L1986.77 158.643 L1992.07 138.412 L1997.1 138.412 L2002.42 158.643 L2007.72 138.412 L2011.98 138.412 L2005.2 164.338 L2000.17 164.338 L1994.6 143.088 L1988.99 164.338 L1983.97 164.338 L1977.19 138.412 Z\" fill=\"#000000\" fill-rule=\"evenodd\" fill-opacity=\"1\" /><path clip-path=\"url(#clip260)\" d=\"M2040.61 150.31 L2040.61 152.393 L2021.03 152.393 Q2021.31 156.791 2023.67 159.106 Q2026.05 161.398 2030.29 161.398 Q2032.74 161.398 2035.04 160.796 Q2037.35 160.194 2039.62 158.99 L2039.62 163.018 Q2037.33 163.99 2034.92 164.5 Q2032.51 165.009 2030.04 165.009 Q2023.83 165.009 2020.2 161.398 Q2016.59 157.787 2016.59 151.629 Q2016.59 145.264 2020.01 141.537 Q2023.46 137.787 2029.3 137.787 Q2034.53 137.787 2037.56 141.166 Q2040.61 144.523 2040.61 150.31 M2036.36 149.06 Q2036.31 145.565 2034.39 143.481 Q2032.49 141.398 2029.34 141.398 Q2025.78 141.398 2023.62 143.412 Q2021.49 145.426 2021.17 149.083 L2036.36 149.06 Z\" fill=\"#000000\" fill-rule=\"evenodd\" fill-opacity=\"1\" /><path clip-path=\"url(#clip260)\" d=\"M2062.63 142.393 Q2061.91 141.977 2061.05 141.791 Q2060.22 141.583 2059.2 141.583 Q2055.59 141.583 2053.65 143.944 Q2051.73 146.282 2051.73 150.68 L2051.73 164.338 L2047.44 164.338 L2047.44 138.412 L2051.73 138.412 L2051.73 142.44 Q2053.07 140.078 2055.22 138.944 Q2057.37 137.787 2060.45 137.787 Q2060.89 137.787 2061.42 137.856 Q2061.96 137.903 2062.61 138.018 L2062.63 142.393 Z\" fill=\"#000000\" fill-rule=\"evenodd\" fill-opacity=\"1\" /><path clip-path=\"url(#clip260)\" d=\"M2100.78 151.398 Q2100.78 146.699 2098.83 144.037 Q2096.91 141.352 2093.53 141.352 Q2090.15 141.352 2088.21 144.037 Q2086.29 146.699 2086.29 151.398 Q2086.29 156.097 2088.21 158.782 Q2090.15 161.444 2093.53 161.444 Q2096.91 161.444 2098.83 158.782 Q2100.78 156.097 2100.78 151.398 M2086.29 142.347 Q2087.63 140.032 2089.67 138.921 Q2091.73 137.787 2094.57 137.787 Q2099.29 137.787 2102.23 141.537 Q2105.2 145.287 2105.2 151.398 Q2105.2 157.509 2102.23 161.259 Q2099.29 165.009 2094.57 165.009 Q2091.73 165.009 2089.67 163.898 Q2087.63 162.763 2086.29 160.449 L2086.29 164.338 L2082 164.338 L2082 128.319 L2086.29 128.319 L2086.29 142.347 Z\" fill=\"#000000\" fill-rule=\"evenodd\" fill-opacity=\"1\" /><path clip-path=\"url(#clip260)\" d=\"M2122.3 141.398 Q2118.88 141.398 2116.89 144.083 Q2114.9 146.745 2114.9 151.398 Q2114.9 156.051 2116.86 158.736 Q2118.85 161.398 2122.3 161.398 Q2125.71 161.398 2127.7 158.713 Q2129.69 156.027 2129.69 151.398 Q2129.69 146.791 2127.7 144.106 Q2125.71 141.398 2122.3 141.398 M2122.3 137.787 Q2127.86 137.787 2131.03 141.398 Q2134.2 145.009 2134.2 151.398 Q2134.2 157.764 2131.03 161.398 Q2127.86 165.009 2122.3 165.009 Q2116.73 165.009 2113.55 161.398 Q2110.41 157.764 2110.41 151.398 Q2110.41 145.009 2113.55 141.398 Q2116.73 137.787 2122.3 137.787 Z\" fill=\"#000000\" fill-rule=\"evenodd\" fill-opacity=\"1\" /><path clip-path=\"url(#clip260)\" d=\"M2140.82 154.106 L2140.82 138.412 L2145.08 138.412 L2145.08 153.944 Q2145.08 157.625 2146.52 159.476 Q2147.95 161.305 2150.82 161.305 Q2154.27 161.305 2156.26 159.106 Q2158.28 156.907 2158.28 153.111 L2158.28 138.412 L2162.54 138.412 L2162.54 164.338 L2158.28 164.338 L2158.28 160.356 Q2156.72 162.717 2154.66 163.875 Q2152.63 165.009 2149.92 165.009 Q2145.45 165.009 2143.14 162.231 Q2140.82 159.453 2140.82 154.106 M2151.54 137.787 L2151.54 137.787 Z\" fill=\"#000000\" fill-rule=\"evenodd\" fill-opacity=\"1\" /><path clip-path=\"url(#clip260)\" d=\"M2192.86 148.689 L2192.86 164.338 L2188.6 164.338 L2188.6 148.828 Q2188.6 145.148 2187.16 143.319 Q2185.73 141.49 2182.86 141.49 Q2179.41 141.49 2177.42 143.69 Q2175.43 145.889 2175.43 149.685 L2175.43 164.338 L2171.15 164.338 L2171.15 138.412 L2175.43 138.412 L2175.43 142.44 Q2176.96 140.102 2179.02 138.944 Q2181.1 137.787 2183.81 137.787 Q2188.28 137.787 2190.57 140.565 Q2192.86 143.319 2192.86 148.689 Z\" fill=\"#000000\" fill-rule=\"evenodd\" fill-opacity=\"1\" /><path clip-path=\"url(#clip260)\" d=\"M2218.41 142.347 L2218.41 128.319 L2222.67 128.319 L2222.67 164.338 L2218.41 164.338 L2218.41 160.449 Q2217.07 162.763 2215.01 163.898 Q2212.97 165.009 2210.1 165.009 Q2205.41 165.009 2202.44 161.259 Q2199.5 157.509 2199.5 151.398 Q2199.5 145.287 2202.44 141.537 Q2205.41 137.787 2210.1 137.787 Q2212.97 137.787 2215.01 138.921 Q2217.07 140.032 2218.41 142.347 M2203.9 151.398 Q2203.9 156.097 2205.82 158.782 Q2207.77 161.444 2211.15 161.444 Q2214.53 161.444 2216.47 158.782 Q2218.41 156.097 2218.41 151.398 Q2218.41 146.699 2216.47 144.037 Q2214.53 141.352 2211.15 141.352 Q2207.77 141.352 2205.82 144.037 Q2203.9 146.699 2203.9 151.398 Z\" fill=\"#000000\" fill-rule=\"evenodd\" fill-opacity=\"1\" /><polyline clip-path=\"url(#clip260)\" style=\"stroke:#e26f46; stroke-linecap:butt; stroke-linejoin:round; stroke-width:4; stroke-opacity:1; fill:none\" points=\"\n  1768.99,198.898 1913.42,198.898 \n  \"/>\n<path clip-path=\"url(#clip260)\" d=\"M1937.49 205.946 L1937.49 190.252 L1941.75 190.252 L1941.75 205.784 Q1941.75 209.465 1943.18 211.316 Q1944.62 213.145 1947.49 213.145 Q1950.94 213.145 1952.93 210.946 Q1954.94 208.747 1954.94 204.951 L1954.94 190.252 L1959.2 190.252 L1959.2 216.178 L1954.94 216.178 L1954.94 212.196 Q1953.39 214.557 1951.33 215.715 Q1949.3 216.849 1946.59 216.849 Q1942.12 216.849 1939.8 214.071 Q1937.49 211.293 1937.49 205.946 M1948.21 189.627 L1948.21 189.627 Z\" fill=\"#000000\" fill-rule=\"evenodd\" fill-opacity=\"1\" /><path clip-path=\"url(#clip260)\" d=\"M1972.1 212.289 L1972.1 226.039 L1967.81 226.039 L1967.81 190.252 L1972.1 190.252 L1972.1 194.187 Q1973.44 191.872 1975.48 190.761 Q1977.54 189.627 1980.38 189.627 Q1985.11 189.627 1988.05 193.377 Q1991.01 197.127 1991.01 203.238 Q1991.01 209.349 1988.05 213.099 Q1985.11 216.849 1980.38 216.849 Q1977.54 216.849 1975.48 215.738 Q1973.44 214.603 1972.1 212.289 M1986.59 203.238 Q1986.59 198.539 1984.64 195.877 Q1982.72 193.192 1979.34 193.192 Q1975.96 193.192 1974.02 195.877 Q1972.1 198.539 1972.1 203.238 Q1972.1 207.937 1974.02 210.622 Q1975.96 213.284 1979.34 213.284 Q1982.72 213.284 1984.64 210.622 Q1986.59 207.937 1986.59 203.238 Z\" fill=\"#000000\" fill-rule=\"evenodd\" fill-opacity=\"1\" /><path clip-path=\"url(#clip260)\" d=\"M2002.19 212.289 L2002.19 226.039 L1997.91 226.039 L1997.91 190.252 L2002.19 190.252 L2002.19 194.187 Q2003.53 191.872 2005.57 190.761 Q2007.63 189.627 2010.48 189.627 Q2015.2 189.627 2018.14 193.377 Q2021.1 197.127 2021.1 203.238 Q2021.1 209.349 2018.14 213.099 Q2015.2 216.849 2010.48 216.849 Q2007.63 216.849 2005.57 215.738 Q2003.53 214.603 2002.19 212.289 M2016.68 203.238 Q2016.68 198.539 2014.73 195.877 Q2012.81 193.192 2009.43 193.192 Q2006.05 193.192 2004.11 195.877 Q2002.19 198.539 2002.19 203.238 Q2002.19 207.937 2004.11 210.622 Q2006.05 213.284 2009.43 213.284 Q2012.81 213.284 2014.73 210.622 Q2016.68 207.937 2016.68 203.238 Z\" fill=\"#000000\" fill-rule=\"evenodd\" fill-opacity=\"1\" /><path clip-path=\"url(#clip260)\" d=\"M2050.34 202.15 L2050.34 204.233 L2030.75 204.233 Q2031.03 208.631 2033.39 210.946 Q2035.78 213.238 2040.01 213.238 Q2042.47 213.238 2044.76 212.636 Q2047.07 212.034 2049.34 210.83 L2049.34 214.858 Q2047.05 215.83 2044.64 216.34 Q2042.23 216.849 2039.76 216.849 Q2033.55 216.849 2029.92 213.238 Q2026.31 209.627 2026.31 203.469 Q2026.31 197.104 2029.73 193.377 Q2033.18 189.627 2039.02 189.627 Q2044.25 189.627 2047.28 193.006 Q2050.34 196.363 2050.34 202.15 M2046.08 200.9 Q2046.03 197.405 2044.11 195.321 Q2042.21 193.238 2039.06 193.238 Q2035.5 193.238 2033.35 195.252 Q2031.22 197.266 2030.89 200.923 L2046.08 200.9 Z\" fill=\"#000000\" fill-rule=\"evenodd\" fill-opacity=\"1\" /><path clip-path=\"url(#clip260)\" d=\"M2072.35 194.233 Q2071.63 193.817 2070.78 193.631 Q2069.94 193.423 2068.92 193.423 Q2065.31 193.423 2063.37 195.784 Q2061.45 198.122 2061.45 202.52 L2061.45 216.178 L2057.17 216.178 L2057.17 190.252 L2061.45 190.252 L2061.45 194.28 Q2062.79 191.918 2064.94 190.784 Q2067.1 189.627 2070.17 189.627 Q2070.61 189.627 2071.15 189.696 Q2071.68 189.743 2072.33 189.858 L2072.35 194.233 Z\" fill=\"#000000\" fill-rule=\"evenodd\" fill-opacity=\"1\" /><path clip-path=\"url(#clip260)\" d=\"M2110.5 203.238 Q2110.5 198.539 2108.55 195.877 Q2106.63 193.192 2103.25 193.192 Q2099.87 193.192 2097.93 195.877 Q2096.01 198.539 2096.01 203.238 Q2096.01 207.937 2097.93 210.622 Q2099.87 213.284 2103.25 213.284 Q2106.63 213.284 2108.55 210.622 Q2110.5 207.937 2110.5 203.238 M2096.01 194.187 Q2097.35 191.872 2099.39 190.761 Q2101.45 189.627 2104.29 189.627 Q2109.02 189.627 2111.96 193.377 Q2114.92 197.127 2114.92 203.238 Q2114.92 209.349 2111.96 213.099 Q2109.02 216.849 2104.29 216.849 Q2101.45 216.849 2099.39 215.738 Q2097.35 214.603 2096.01 212.289 L2096.01 216.178 L2091.73 216.178 L2091.73 180.159 L2096.01 180.159 L2096.01 194.187 Z\" fill=\"#000000\" fill-rule=\"evenodd\" fill-opacity=\"1\" /><path clip-path=\"url(#clip260)\" d=\"M2132.03 193.238 Q2128.6 193.238 2126.61 195.923 Q2124.62 198.585 2124.62 203.238 Q2124.62 207.891 2126.59 210.576 Q2128.58 213.238 2132.03 213.238 Q2135.43 213.238 2137.42 210.553 Q2139.41 207.867 2139.41 203.238 Q2139.41 198.631 2137.42 195.946 Q2135.43 193.238 2132.03 193.238 M2132.03 189.627 Q2137.58 189.627 2140.75 193.238 Q2143.92 196.849 2143.92 203.238 Q2143.92 209.604 2140.75 213.238 Q2137.58 216.849 2132.03 216.849 Q2126.45 216.849 2123.28 213.238 Q2120.13 209.604 2120.13 203.238 Q2120.13 196.849 2123.28 193.238 Q2126.45 189.627 2132.03 189.627 Z\" fill=\"#000000\" fill-rule=\"evenodd\" fill-opacity=\"1\" /><path clip-path=\"url(#clip260)\" d=\"M2150.54 205.946 L2150.54 190.252 L2154.8 190.252 L2154.8 205.784 Q2154.8 209.465 2156.24 211.316 Q2157.67 213.145 2160.54 213.145 Q2163.99 213.145 2165.98 210.946 Q2168 208.747 2168 204.951 L2168 190.252 L2172.26 190.252 L2172.26 216.178 L2168 216.178 L2168 212.196 Q2166.45 214.557 2164.39 215.715 Q2162.35 216.849 2159.64 216.849 Q2155.17 216.849 2152.86 214.071 Q2150.54 211.293 2150.54 205.946 M2161.26 189.627 L2161.26 189.627 Z\" fill=\"#000000\" fill-rule=\"evenodd\" fill-opacity=\"1\" /><path clip-path=\"url(#clip260)\" d=\"M2202.58 200.529 L2202.58 216.178 L2198.32 216.178 L2198.32 200.668 Q2198.32 196.988 2196.89 195.159 Q2195.45 193.33 2192.58 193.33 Q2189.13 193.33 2187.14 195.53 Q2185.15 197.729 2185.15 201.525 L2185.15 216.178 L2180.87 216.178 L2180.87 190.252 L2185.15 190.252 L2185.15 194.28 Q2186.68 191.942 2188.74 190.784 Q2190.82 189.627 2193.53 189.627 Q2198 189.627 2200.29 192.405 Q2202.58 195.159 2202.58 200.529 Z\" fill=\"#000000\" fill-rule=\"evenodd\" fill-opacity=\"1\" /><path clip-path=\"url(#clip260)\" d=\"M2228.14 194.187 L2228.14 180.159 L2232.4 180.159 L2232.4 216.178 L2228.14 216.178 L2228.14 212.289 Q2226.79 214.603 2224.73 215.738 Q2222.7 216.849 2219.83 216.849 Q2215.13 216.849 2212.16 213.099 Q2209.22 209.349 2209.22 203.238 Q2209.22 197.127 2212.16 193.377 Q2215.13 189.627 2219.83 189.627 Q2222.7 189.627 2224.73 190.761 Q2226.79 191.872 2228.14 194.187 M2213.62 203.238 Q2213.62 207.937 2215.54 210.622 Q2217.49 213.284 2220.87 213.284 Q2224.25 213.284 2226.19 210.622 Q2228.14 207.937 2228.14 203.238 Q2228.14 198.539 2226.19 195.877 Q2224.25 193.192 2220.87 193.192 Q2217.49 193.192 2215.54 195.877 Q2213.62 198.539 2213.62 203.238 Z\" fill=\"#000000\" fill-rule=\"evenodd\" fill-opacity=\"1\" /></svg>\n"
     },
     "execution_count": 53,
     "metadata": {},
     "output_type": "execute_result"
    }
   ],
   "source": [
    "Ks = exp.(LinRange(0.0, exp(1), 20))\n",
    "plot(Ks, [compute_lower_Y0(df; K=K, H =1) for K in Ks], xlim = (1, 6), label = \"lower bound\", lw = 3)\n",
    "plot!(Ks, [compute_upper_Y0(df; K=K, H =1) for K in Ks], label = \"upper bound\", lw = 3)\n",
    "plot!(leg = :best)\n",
    "# hline!([mean(df[df.G .== 0, :Y0])], label = \"oracle mean\", linestyle = :dot, lw = 3)"
   ]
  },
  {
   "cell_type": "code",
   "execution_count": 54,
   "metadata": {},
   "outputs": [
    {
     "data": {
      "text/plain": [
       "data_generation2 (generic function with 2 methods)"
      ]
     },
     "execution_count": 54,
     "metadata": {},
     "output_type": "execute_result"
    }
   ],
   "source": [
    "function data_generation2(N = 10000; H = exp(0.1), K = exp(0.5))\n",
    "    N = 10000 # number of total observations\n",
    "    \n",
    "    τ = 1\n",
    "    \n",
    "    # unobserved confounder for external validity\n",
    "    U = rand(Normal(), N)\n",
    "    \n",
    "    # DGP for S₁ and G. They all depend on U.\n",
    "    S₀ = 5 * (rand(N) .< (0.5 .- 0.45*(U.>0))) .+ 5 \n",
    "    S₁ = 5 * (rand(N) .< (0.5 .- 0.3*(U.>0))) .+ 5 \n",
    "    G = rand(N) .> (1 ./ (1 .+ exp.(-log(H).* (U.>0)))); \n",
    "    \n",
    "    # unobserved confounder for latent unconfoundedness\n",
    "    V = rand(Normal(), N);\n",
    "    \n",
    "    # DGP for Y₁ and D. They all depend on V.\n",
    "    Y₀ = S₀ + V + randn(N);\n",
    "    Y₁ = S₁ + V + randn(N) .+ τ;\n",
    "    D = similar(G);\n",
    "    \n",
    "    # randomization in the experimental sample\n",
    "    D[G .== 1] = rand((0,1), sum(G .== 1))\n",
    "    \n",
    "    # K-latent-confoundedness\n",
    "    D[G .== 0] = rand(sum(G .== 0)) .> \n",
    "    (1 ./ (1 .+ exp.(-log(K).* (V[G .== 0].>0) .- 0.1 .*S₁[G .== 0])))\n",
    "    \n",
    "    df = DataFrame(G = G, S1 = S₁, S0 = S₀, D=D, Y1 = Y₁, Y0 = Y₀, \n",
    "        S = D.*S₁ .+ (1 .-D).*S₀, Y = D.*Y₁ .+ (1 .- D).* Y₀)\n",
    "end"
   ]
  },
  {
   "cell_type": "code",
   "execution_count": 55,
   "metadata": {},
   "outputs": [
    {
     "data": {
      "text/html": [
       "<table class=\"data-frame\"><thead><tr><th></th><th>G</th><th>S1</th><th>S0</th><th>D</th><th>Y1</th><th>Y0</th><th>S</th><th>Y</th></tr><tr><th></th><th>Bool</th><th>Int64</th><th>Int64</th><th>Bool</th><th>Float64</th><th>Float64</th><th>Int64</th><th>Float64</th></tr></thead><tbody><p>10,000 rows × 8 columns</p><tr><th>1</th><td>0</td><td>5</td><td>10</td><td>1</td><td>4.39136</td><td>9.8833</td><td>5</td><td>4.39136</td></tr><tr><th>2</th><td>0</td><td>5</td><td>5</td><td>1</td><td>6.41366</td><td>6.03688</td><td>5</td><td>6.41366</td></tr><tr><th>3</th><td>1</td><td>10</td><td>5</td><td>0</td><td>9.14591</td><td>3.22397</td><td>5</td><td>3.22397</td></tr><tr><th>4</th><td>1</td><td>10</td><td>5</td><td>0</td><td>10.3817</td><td>4.51284</td><td>5</td><td>4.51284</td></tr><tr><th>5</th><td>0</td><td>5</td><td>5</td><td>0</td><td>5.91461</td><td>5.70892</td><td>5</td><td>5.70892</td></tr><tr><th>6</th><td>0</td><td>5</td><td>5</td><td>0</td><td>4.32703</td><td>3.66771</td><td>5</td><td>3.66771</td></tr><tr><th>7</th><td>0</td><td>5</td><td>10</td><td>0</td><td>6.02977</td><td>8.82119</td><td>10</td><td>8.82119</td></tr><tr><th>8</th><td>1</td><td>5</td><td>10</td><td>1</td><td>5.90311</td><td>8.14789</td><td>5</td><td>5.90311</td></tr><tr><th>9</th><td>0</td><td>10</td><td>5</td><td>1</td><td>11.1204</td><td>5.15118</td><td>10</td><td>11.1204</td></tr><tr><th>10</th><td>0</td><td>10</td><td>5</td><td>1</td><td>12.12</td><td>6.12888</td><td>10</td><td>12.12</td></tr><tr><th>11</th><td>0</td><td>5</td><td>5</td><td>0</td><td>5.35213</td><td>4.74124</td><td>5</td><td>4.74124</td></tr><tr><th>12</th><td>1</td><td>5</td><td>5</td><td>0</td><td>6.63104</td><td>5.11501</td><td>5</td><td>5.11501</td></tr><tr><th>13</th><td>1</td><td>10</td><td>5</td><td>0</td><td>12.8833</td><td>6.84121</td><td>5</td><td>6.84121</td></tr><tr><th>14</th><td>1</td><td>5</td><td>5</td><td>0</td><td>6.30146</td><td>6.06999</td><td>5</td><td>6.06999</td></tr><tr><th>15</th><td>0</td><td>10</td><td>10</td><td>0</td><td>11.0389</td><td>11.0831</td><td>10</td><td>11.0831</td></tr><tr><th>16</th><td>1</td><td>5</td><td>5</td><td>1</td><td>4.97209</td><td>7.27577</td><td>5</td><td>4.97209</td></tr><tr><th>17</th><td>1</td><td>5</td><td>5</td><td>1</td><td>7.37891</td><td>5.7877</td><td>5</td><td>7.37891</td></tr><tr><th>18</th><td>0</td><td>10</td><td>5</td><td>0</td><td>12.9224</td><td>5.12346</td><td>5</td><td>5.12346</td></tr><tr><th>19</th><td>0</td><td>5</td><td>5</td><td>0</td><td>6.45119</td><td>3.82339</td><td>5</td><td>3.82339</td></tr><tr><th>20</th><td>1</td><td>5</td><td>5</td><td>0</td><td>5.44577</td><td>7.6466</td><td>5</td><td>7.6466</td></tr><tr><th>21</th><td>0</td><td>5</td><td>5</td><td>0</td><td>5.51052</td><td>2.4467</td><td>5</td><td>2.4467</td></tr><tr><th>22</th><td>0</td><td>5</td><td>5</td><td>0</td><td>5.1049</td><td>4.83485</td><td>5</td><td>4.83485</td></tr><tr><th>23</th><td>1</td><td>5</td><td>5</td><td>1</td><td>5.21924</td><td>3.88882</td><td>5</td><td>5.21924</td></tr><tr><th>24</th><td>0</td><td>5</td><td>5</td><td>1</td><td>7.10941</td><td>4.5241</td><td>5</td><td>7.10941</td></tr><tr><th>25</th><td>1</td><td>5</td><td>5</td><td>1</td><td>4.15609</td><td>4.57911</td><td>5</td><td>4.15609</td></tr><tr><th>26</th><td>1</td><td>10</td><td>10</td><td>1</td><td>10.6059</td><td>10.9695</td><td>10</td><td>10.6059</td></tr><tr><th>27</th><td>1</td><td>5</td><td>5</td><td>1</td><td>6.32713</td><td>7.60891</td><td>5</td><td>6.32713</td></tr><tr><th>28</th><td>1</td><td>10</td><td>10</td><td>1</td><td>12.0132</td><td>9.36561</td><td>10</td><td>12.0132</td></tr><tr><th>29</th><td>0</td><td>5</td><td>5</td><td>0</td><td>5.65209</td><td>6.8784</td><td>5</td><td>6.8784</td></tr><tr><th>30</th><td>1</td><td>5</td><td>10</td><td>0</td><td>5.24745</td><td>8.47574</td><td>10</td><td>8.47574</td></tr><tr><th>&vellip;</th><td>&vellip;</td><td>&vellip;</td><td>&vellip;</td><td>&vellip;</td><td>&vellip;</td><td>&vellip;</td><td>&vellip;</td><td>&vellip;</td></tr></tbody></table>"
      ],
      "text/latex": [
       "\\begin{tabular}{r|cccccccc}\n",
       "\t& G & S1 & S0 & D & Y1 & Y0 & S & Y\\\\\n",
       "\t\\hline\n",
       "\t& Bool & Int64 & Int64 & Bool & Float64 & Float64 & Int64 & Float64\\\\\n",
       "\t\\hline\n",
       "\t1 & 0 & 5 & 10 & 1 & 4.39136 & 9.8833 & 5 & 4.39136 \\\\\n",
       "\t2 & 0 & 5 & 5 & 1 & 6.41366 & 6.03688 & 5 & 6.41366 \\\\\n",
       "\t3 & 1 & 10 & 5 & 0 & 9.14591 & 3.22397 & 5 & 3.22397 \\\\\n",
       "\t4 & 1 & 10 & 5 & 0 & 10.3817 & 4.51284 & 5 & 4.51284 \\\\\n",
       "\t5 & 0 & 5 & 5 & 0 & 5.91461 & 5.70892 & 5 & 5.70892 \\\\\n",
       "\t6 & 0 & 5 & 5 & 0 & 4.32703 & 3.66771 & 5 & 3.66771 \\\\\n",
       "\t7 & 0 & 5 & 10 & 0 & 6.02977 & 8.82119 & 10 & 8.82119 \\\\\n",
       "\t8 & 1 & 5 & 10 & 1 & 5.90311 & 8.14789 & 5 & 5.90311 \\\\\n",
       "\t9 & 0 & 10 & 5 & 1 & 11.1204 & 5.15118 & 10 & 11.1204 \\\\\n",
       "\t10 & 0 & 10 & 5 & 1 & 12.12 & 6.12888 & 10 & 12.12 \\\\\n",
       "\t11 & 0 & 5 & 5 & 0 & 5.35213 & 4.74124 & 5 & 4.74124 \\\\\n",
       "\t12 & 1 & 5 & 5 & 0 & 6.63104 & 5.11501 & 5 & 5.11501 \\\\\n",
       "\t13 & 1 & 10 & 5 & 0 & 12.8833 & 6.84121 & 5 & 6.84121 \\\\\n",
       "\t14 & 1 & 5 & 5 & 0 & 6.30146 & 6.06999 & 5 & 6.06999 \\\\\n",
       "\t15 & 0 & 10 & 10 & 0 & 11.0389 & 11.0831 & 10 & 11.0831 \\\\\n",
       "\t16 & 1 & 5 & 5 & 1 & 4.97209 & 7.27577 & 5 & 4.97209 \\\\\n",
       "\t17 & 1 & 5 & 5 & 1 & 7.37891 & 5.7877 & 5 & 7.37891 \\\\\n",
       "\t18 & 0 & 10 & 5 & 0 & 12.9224 & 5.12346 & 5 & 5.12346 \\\\\n",
       "\t19 & 0 & 5 & 5 & 0 & 6.45119 & 3.82339 & 5 & 3.82339 \\\\\n",
       "\t20 & 1 & 5 & 5 & 0 & 5.44577 & 7.6466 & 5 & 7.6466 \\\\\n",
       "\t21 & 0 & 5 & 5 & 0 & 5.51052 & 2.4467 & 5 & 2.4467 \\\\\n",
       "\t22 & 0 & 5 & 5 & 0 & 5.1049 & 4.83485 & 5 & 4.83485 \\\\\n",
       "\t23 & 1 & 5 & 5 & 1 & 5.21924 & 3.88882 & 5 & 5.21924 \\\\\n",
       "\t24 & 0 & 5 & 5 & 1 & 7.10941 & 4.5241 & 5 & 7.10941 \\\\\n",
       "\t25 & 1 & 5 & 5 & 1 & 4.15609 & 4.57911 & 5 & 4.15609 \\\\\n",
       "\t26 & 1 & 10 & 10 & 1 & 10.6059 & 10.9695 & 10 & 10.6059 \\\\\n",
       "\t27 & 1 & 5 & 5 & 1 & 6.32713 & 7.60891 & 5 & 6.32713 \\\\\n",
       "\t28 & 1 & 10 & 10 & 1 & 12.0132 & 9.36561 & 10 & 12.0132 \\\\\n",
       "\t29 & 0 & 5 & 5 & 0 & 5.65209 & 6.8784 & 5 & 6.8784 \\\\\n",
       "\t30 & 1 & 5 & 10 & 0 & 5.24745 & 8.47574 & 10 & 8.47574 \\\\\n",
       "\t$\\dots$ & $\\dots$ & $\\dots$ & $\\dots$ & $\\dots$ & $\\dots$ & $\\dots$ & $\\dots$ & $\\dots$ \\\\\n",
       "\\end{tabular}\n"
      ],
      "text/plain": [
       "\u001b[1m10000×8 DataFrame\u001b[0m\n",
       "\u001b[1m   Row \u001b[0m│\u001b[1m G     \u001b[0m\u001b[1m S1    \u001b[0m\u001b[1m S0    \u001b[0m\u001b[1m D     \u001b[0m\u001b[1m Y1       \u001b[0m\u001b[1m Y0       \u001b[0m\u001b[1m S     \u001b[0m\u001b[1m Y        \u001b[0m\n",
       "\u001b[1m       \u001b[0m│\u001b[90m Bool  \u001b[0m\u001b[90m Int64 \u001b[0m\u001b[90m Int64 \u001b[0m\u001b[90m Bool  \u001b[0m\u001b[90m Float64  \u001b[0m\u001b[90m Float64  \u001b[0m\u001b[90m Int64 \u001b[0m\u001b[90m Float64  \u001b[0m\n",
       "───────┼─────────────────────────────────────────────────────────────────\n",
       "     1 │ false      5     10   true   4.39136   9.8833       5   4.39136\n",
       "     2 │ false      5      5   true   6.41366   6.03688      5   6.41366\n",
       "     3 │  true     10      5  false   9.14591   3.22397      5   3.22397\n",
       "     4 │  true     10      5  false  10.3817    4.51284      5   4.51284\n",
       "     5 │ false      5      5  false   5.91461   5.70892      5   5.70892\n",
       "     6 │ false      5      5  false   4.32703   3.66771      5   3.66771\n",
       "     7 │ false      5     10  false   6.02977   8.82119     10   8.82119\n",
       "     8 │  true      5     10   true   5.90311   8.14789      5   5.90311\n",
       "     9 │ false     10      5   true  11.1204    5.15118     10  11.1204\n",
       "    10 │ false     10      5   true  12.12      6.12888     10  12.12\n",
       "    11 │ false      5      5  false   5.35213   4.74124      5   4.74124\n",
       "   ⋮   │   ⋮      ⋮      ⋮      ⋮       ⋮         ⋮        ⋮       ⋮\n",
       "  9991 │  true      5      5   true   8.79391   6.14935      5   8.79391\n",
       "  9992 │ false      5      5  false   6.05117   7.76978      5   7.76978\n",
       "  9993 │ false     10     10  false  11.687     8.79926     10   8.79926\n",
       "  9994 │ false     10     10  false  10.2683   11.7262      10  11.7262\n",
       "  9995 │ false     10      5  false   8.71107   2.0882       5   2.0882\n",
       "  9996 │  true      5      5  false   5.73523   2.27591      5   2.27591\n",
       "  9997 │ false     10     10  false  11.1682   11.4948      10  11.4948\n",
       "  9998 │ false      5     10  false   5.8764    9.82266     10   9.82266\n",
       "  9999 │  true      5      5   true   3.67238   1.73401      5   3.67238\n",
       " 10000 │  true      5      5  false   5.55032   4.66089      5   4.66089\n",
       "\u001b[36m                                                        9979 rows omitted\u001b[0m"
      ]
     },
     "execution_count": 55,
     "metadata": {},
     "output_type": "execute_result"
    }
   ],
   "source": [
    "df2 = data_generation2(10000; H = 1, K = 1)"
   ]
  },
  {
   "cell_type": "code",
   "execution_count": 56,
   "metadata": {},
   "outputs": [
    {
     "data": {
      "image/svg+xml": "<?xml version=\"1.0\" encoding=\"utf-8\"?>\n<svg xmlns=\"http://www.w3.org/2000/svg\" xmlns:xlink=\"http://www.w3.org/1999/xlink\" width=\"600\" height=\"400\" viewBox=\"0 0 2400 1600\">\n<defs>\n  <clipPath id=\"clip300\">\n    <rect x=\"0\" y=\"0\" width=\"2400\" height=\"1600\"/>\n  </clipPath>\n</defs>\n<path clip-path=\"url(#clip300)\" d=\"\nM0 1600 L2400 1600 L2400 0 L0 0  Z\n  \" fill=\"#ffffff\" fill-rule=\"evenodd\" fill-opacity=\"1\"/>\n<defs>\n  <clipPath id=\"clip301\">\n    <rect x=\"480\" y=\"0\" width=\"1681\" height=\"1600\"/>\n  </clipPath>\n</defs>\n<path clip-path=\"url(#clip300)\" d=\"\nM156.413 1486.45 L2352.76 1486.45 L2352.76 47.2441 L156.413 47.2441  Z\n  \" fill=\"#ffffff\" fill-rule=\"evenodd\" fill-opacity=\"1\"/>\n<defs>\n  <clipPath id=\"clip302\">\n    <rect x=\"156\" y=\"47\" width=\"2197\" height=\"1440\"/>\n  </clipPath>\n</defs>\n<polyline clip-path=\"url(#clip302)\" style=\"stroke:#000000; stroke-linecap:butt; stroke-linejoin:round; stroke-width:2; stroke-opacity:0.1; fill:none\" points=\"\n  156.413,1486.45 156.413,47.2441 \n  \"/>\n<polyline clip-path=\"url(#clip302)\" style=\"stroke:#000000; stroke-linecap:butt; stroke-linejoin:round; stroke-width:2; stroke-opacity:0.1; fill:none\" points=\"\n  595.682,1486.45 595.682,47.2441 \n  \"/>\n<polyline clip-path=\"url(#clip302)\" style=\"stroke:#000000; stroke-linecap:butt; stroke-linejoin:round; stroke-width:2; stroke-opacity:0.1; fill:none\" points=\"\n  1034.95,1486.45 1034.95,47.2441 \n  \"/>\n<polyline clip-path=\"url(#clip302)\" style=\"stroke:#000000; stroke-linecap:butt; stroke-linejoin:round; stroke-width:2; stroke-opacity:0.1; fill:none\" points=\"\n  1474.22,1486.45 1474.22,47.2441 \n  \"/>\n<polyline clip-path=\"url(#clip302)\" style=\"stroke:#000000; stroke-linecap:butt; stroke-linejoin:round; stroke-width:2; stroke-opacity:0.1; fill:none\" points=\"\n  1913.49,1486.45 1913.49,47.2441 \n  \"/>\n<polyline clip-path=\"url(#clip302)\" style=\"stroke:#000000; stroke-linecap:butt; stroke-linejoin:round; stroke-width:2; stroke-opacity:0.1; fill:none\" points=\"\n  2352.76,1486.45 2352.76,47.2441 \n  \"/>\n<polyline clip-path=\"url(#clip300)\" style=\"stroke:#000000; stroke-linecap:butt; stroke-linejoin:round; stroke-width:4; stroke-opacity:1; fill:none\" points=\"\n  156.413,1486.45 2352.76,1486.45 \n  \"/>\n<polyline clip-path=\"url(#clip300)\" style=\"stroke:#000000; stroke-linecap:butt; stroke-linejoin:round; stroke-width:4; stroke-opacity:1; fill:none\" points=\"\n  156.413,1486.45 156.413,1467.55 \n  \"/>\n<polyline clip-path=\"url(#clip300)\" style=\"stroke:#000000; stroke-linecap:butt; stroke-linejoin:round; stroke-width:4; stroke-opacity:1; fill:none\" points=\"\n  595.682,1486.45 595.682,1467.55 \n  \"/>\n<polyline clip-path=\"url(#clip300)\" style=\"stroke:#000000; stroke-linecap:butt; stroke-linejoin:round; stroke-width:4; stroke-opacity:1; fill:none\" points=\"\n  1034.95,1486.45 1034.95,1467.55 \n  \"/>\n<polyline clip-path=\"url(#clip300)\" style=\"stroke:#000000; stroke-linecap:butt; stroke-linejoin:round; stroke-width:4; stroke-opacity:1; fill:none\" points=\"\n  1474.22,1486.45 1474.22,1467.55 \n  \"/>\n<polyline clip-path=\"url(#clip300)\" style=\"stroke:#000000; stroke-linecap:butt; stroke-linejoin:round; stroke-width:4; stroke-opacity:1; fill:none\" points=\"\n  1913.49,1486.45 1913.49,1467.55 \n  \"/>\n<polyline clip-path=\"url(#clip300)\" style=\"stroke:#000000; stroke-linecap:butt; stroke-linejoin:round; stroke-width:4; stroke-opacity:1; fill:none\" points=\"\n  2352.76,1486.45 2352.76,1467.55 \n  \"/>\n<path clip-path=\"url(#clip300)\" d=\"M146.795 1544.91 L154.434 1544.91 L154.434 1518.55 L146.124 1520.21 L146.124 1515.95 L154.388 1514.29 L159.063 1514.29 L159.063 1544.91 L166.702 1544.91 L166.702 1548.85 L146.795 1548.85 L146.795 1544.91 Z\" fill=\"#000000\" fill-rule=\"evenodd\" fill-opacity=\"1\" /><path clip-path=\"url(#clip300)\" d=\"M590.334 1544.91 L606.654 1544.91 L606.654 1548.85 L584.709 1548.85 L584.709 1544.91 Q587.371 1542.16 591.955 1537.53 Q596.561 1532.88 597.742 1531.53 Q599.987 1529.01 600.867 1527.27 Q601.77 1525.51 601.77 1523.82 Q601.77 1521.07 599.825 1519.33 Q597.904 1517.6 594.802 1517.6 Q592.603 1517.6 590.149 1518.36 Q587.719 1519.13 584.941 1520.68 L584.941 1515.95 Q587.765 1514.82 590.219 1514.24 Q592.672 1513.66 594.709 1513.66 Q600.08 1513.66 603.274 1516.35 Q606.469 1519.03 606.469 1523.52 Q606.469 1525.65 605.658 1527.57 Q604.871 1529.47 602.765 1532.07 Q602.186 1532.74 599.084 1535.95 Q595.983 1539.15 590.334 1544.91 Z\" fill=\"#000000\" fill-rule=\"evenodd\" fill-opacity=\"1\" /><path clip-path=\"url(#clip300)\" d=\"M1039.2 1530.21 Q1042.55 1530.93 1044.43 1533.2 Q1046.33 1535.47 1046.33 1538.8 Q1046.33 1543.92 1042.81 1546.72 Q1039.29 1549.52 1032.81 1549.52 Q1030.63 1549.52 1028.32 1549.08 Q1026.03 1548.66 1023.57 1547.81 L1023.57 1543.29 Q1025.52 1544.43 1027.83 1545.01 Q1030.15 1545.58 1032.67 1545.58 Q1037.07 1545.58 1039.36 1543.85 Q1041.67 1542.11 1041.67 1538.8 Q1041.67 1535.75 1039.52 1534.03 Q1037.39 1532.3 1033.57 1532.3 L1029.55 1532.3 L1029.55 1528.45 L1033.76 1528.45 Q1037.21 1528.45 1039.04 1527.09 Q1040.86 1525.7 1040.86 1523.11 Q1040.86 1520.45 1038.97 1519.03 Q1037.09 1517.6 1033.57 1517.6 Q1031.65 1517.6 1029.45 1518.01 Q1027.25 1518.43 1024.61 1519.31 L1024.61 1515.14 Q1027.28 1514.4 1029.59 1514.03 Q1031.93 1513.66 1033.99 1513.66 Q1039.31 1513.66 1042.42 1516.09 Q1045.52 1518.5 1045.52 1522.62 Q1045.52 1525.49 1043.87 1527.48 Q1042.23 1529.45 1039.2 1530.21 Z\" fill=\"#000000\" fill-rule=\"evenodd\" fill-opacity=\"1\" /><path clip-path=\"url(#clip300)\" d=\"M1477.23 1518.36 L1465.42 1536.81 L1477.23 1536.81 L1477.23 1518.36 M1476 1514.29 L1481.88 1514.29 L1481.88 1536.81 L1486.81 1536.81 L1486.81 1540.7 L1481.88 1540.7 L1481.88 1548.85 L1477.23 1548.85 L1477.23 1540.7 L1461.63 1540.7 L1461.63 1536.19 L1476 1514.29 Z\" fill=\"#000000\" fill-rule=\"evenodd\" fill-opacity=\"1\" /><path clip-path=\"url(#clip300)\" d=\"M1903.77 1514.29 L1922.12 1514.29 L1922.12 1518.22 L1908.05 1518.22 L1908.05 1526.7 Q1909.07 1526.35 1910.08 1526.19 Q1911.1 1526 1912.12 1526 Q1917.91 1526 1921.29 1529.17 Q1924.67 1532.34 1924.67 1537.76 Q1924.67 1543.34 1921.2 1546.44 Q1917.72 1549.52 1911.4 1549.52 Q1909.23 1549.52 1906.96 1549.15 Q1904.71 1548.78 1902.31 1548.04 L1902.31 1543.34 Q1904.39 1544.47 1906.61 1545.03 Q1908.83 1545.58 1911.31 1545.58 Q1915.32 1545.58 1917.65 1543.48 Q1919.99 1541.37 1919.99 1537.76 Q1919.99 1534.15 1917.65 1532.04 Q1915.32 1529.94 1911.31 1529.94 Q1909.44 1529.94 1907.56 1530.35 Q1905.71 1530.77 1903.77 1531.65 L1903.77 1514.29 Z\" fill=\"#000000\" fill-rule=\"evenodd\" fill-opacity=\"1\" /><path clip-path=\"url(#clip300)\" d=\"M2353.16 1529.7 Q2350.01 1529.7 2348.16 1531.86 Q2346.33 1534.01 2346.33 1537.76 Q2346.33 1541.49 2348.16 1543.66 Q2350.01 1545.82 2353.16 1545.82 Q2356.31 1545.82 2358.14 1543.66 Q2359.99 1541.49 2359.99 1537.76 Q2359.99 1534.01 2358.14 1531.86 Q2356.31 1529.7 2353.16 1529.7 M2362.44 1515.05 L2362.44 1519.31 Q2360.68 1518.48 2358.88 1518.04 Q2357.1 1517.6 2355.34 1517.6 Q2350.71 1517.6 2348.25 1520.72 Q2345.82 1523.85 2345.48 1530.17 Q2346.84 1528.15 2348.9 1527.09 Q2350.96 1526 2353.44 1526 Q2358.65 1526 2361.66 1529.17 Q2364.69 1532.32 2364.69 1537.76 Q2364.69 1543.08 2361.54 1546.3 Q2358.39 1549.52 2353.16 1549.52 Q2347.17 1549.52 2343.99 1544.94 Q2340.82 1540.33 2340.82 1531.6 Q2340.82 1523.41 2344.71 1518.55 Q2348.6 1513.66 2355.15 1513.66 Q2356.91 1513.66 2358.69 1514.01 Q2360.5 1514.36 2362.44 1515.05 Z\" fill=\"#000000\" fill-rule=\"evenodd\" fill-opacity=\"1\" /><polyline clip-path=\"url(#clip302)\" style=\"stroke:#000000; stroke-linecap:butt; stroke-linejoin:round; stroke-width:2; stroke-opacity:0.1; fill:none\" points=\"\n  156.413,1272.99 2352.76,1272.99 \n  \"/>\n<polyline clip-path=\"url(#clip302)\" style=\"stroke:#000000; stroke-linecap:butt; stroke-linejoin:round; stroke-width:2; stroke-opacity:0.1; fill:none\" points=\"\n  156.413,1003.75 2352.76,1003.75 \n  \"/>\n<polyline clip-path=\"url(#clip302)\" style=\"stroke:#000000; stroke-linecap:butt; stroke-linejoin:round; stroke-width:2; stroke-opacity:0.1; fill:none\" points=\"\n  156.413,734.52 2352.76,734.52 \n  \"/>\n<polyline clip-path=\"url(#clip302)\" style=\"stroke:#000000; stroke-linecap:butt; stroke-linejoin:round; stroke-width:2; stroke-opacity:0.1; fill:none\" points=\"\n  156.413,465.286 2352.76,465.286 \n  \"/>\n<polyline clip-path=\"url(#clip302)\" style=\"stroke:#000000; stroke-linecap:butt; stroke-linejoin:round; stroke-width:2; stroke-opacity:0.1; fill:none\" points=\"\n  156.413,196.052 2352.76,196.052 \n  \"/>\n<polyline clip-path=\"url(#clip300)\" style=\"stroke:#000000; stroke-linecap:butt; stroke-linejoin:round; stroke-width:4; stroke-opacity:1; fill:none\" points=\"\n  156.413,1486.45 156.413,47.2441 \n  \"/>\n<polyline clip-path=\"url(#clip300)\" style=\"stroke:#000000; stroke-linecap:butt; stroke-linejoin:round; stroke-width:4; stroke-opacity:1; fill:none\" points=\"\n  156.413,1272.99 175.311,1272.99 \n  \"/>\n<polyline clip-path=\"url(#clip300)\" style=\"stroke:#000000; stroke-linecap:butt; stroke-linejoin:round; stroke-width:4; stroke-opacity:1; fill:none\" points=\"\n  156.413,1003.75 175.311,1003.75 \n  \"/>\n<polyline clip-path=\"url(#clip300)\" style=\"stroke:#000000; stroke-linecap:butt; stroke-linejoin:round; stroke-width:4; stroke-opacity:1; fill:none\" points=\"\n  156.413,734.52 175.311,734.52 \n  \"/>\n<polyline clip-path=\"url(#clip300)\" style=\"stroke:#000000; stroke-linecap:butt; stroke-linejoin:round; stroke-width:4; stroke-opacity:1; fill:none\" points=\"\n  156.413,465.286 175.311,465.286 \n  \"/>\n<polyline clip-path=\"url(#clip300)\" style=\"stroke:#000000; stroke-linecap:butt; stroke-linejoin:round; stroke-width:4; stroke-opacity:1; fill:none\" points=\"\n  156.413,196.052 175.311,196.052 \n  \"/>\n<path clip-path=\"url(#clip300)\" d=\"M63.8161 1271.12 Q60.668 1271.12 58.8162 1273.28 Q56.9875 1275.43 56.9875 1279.18 Q56.9875 1282.91 58.8162 1285.08 Q60.668 1287.24 63.8161 1287.24 Q66.9643 1287.24 68.793 1285.08 Q70.6448 1282.91 70.6448 1279.18 Q70.6448 1275.43 68.793 1273.28 Q66.9643 1271.12 63.8161 1271.12 M73.0985 1256.47 L73.0985 1260.73 Q71.3392 1259.9 69.5337 1259.46 Q67.7513 1259.02 65.992 1259.02 Q61.3624 1259.02 58.9088 1262.14 Q56.4782 1265.27 56.131 1271.59 Q57.4967 1269.57 59.5569 1268.51 Q61.6171 1267.42 64.0939 1267.42 Q69.3022 1267.42 72.3115 1270.59 Q75.3438 1273.74 75.3438 1279.18 Q75.3438 1284.5 72.1957 1287.72 Q69.0476 1290.94 63.8161 1290.94 Q57.8208 1290.94 54.6495 1286.36 Q51.4782 1281.75 51.4782 1273.02 Q51.4782 1264.83 55.3671 1259.97 Q59.256 1255.08 65.8069 1255.08 Q67.5661 1255.08 69.3485 1255.43 Q71.1541 1255.78 73.0985 1256.47 Z\" fill=\"#000000\" fill-rule=\"evenodd\" fill-opacity=\"1\" /><path clip-path=\"url(#clip300)\" d=\"M83.3994 1284.39 L88.2836 1284.39 L88.2836 1290.27 L83.3994 1290.27 L83.3994 1284.39 Z\" fill=\"#000000\" fill-rule=\"evenodd\" fill-opacity=\"1\" /><path clip-path=\"url(#clip300)\" d=\"M108.469 1258.79 Q104.858 1258.79 103.029 1262.35 Q101.223 1265.89 101.223 1273.02 Q101.223 1280.13 103.029 1283.69 Q104.858 1287.24 108.469 1287.24 Q112.103 1287.24 113.908 1283.69 Q115.737 1280.13 115.737 1273.02 Q115.737 1265.89 113.908 1262.35 Q112.103 1258.79 108.469 1258.79 M108.469 1255.08 Q114.279 1255.08 117.334 1259.69 Q120.413 1264.27 120.413 1273.02 Q120.413 1281.75 117.334 1286.36 Q114.279 1290.94 108.469 1290.94 Q102.659 1290.94 99.5798 1286.36 Q96.5243 1281.75 96.5243 1273.02 Q96.5243 1264.27 99.5798 1259.69 Q102.659 1255.08 108.469 1255.08 Z\" fill=\"#000000\" fill-rule=\"evenodd\" fill-opacity=\"1\" /><path clip-path=\"url(#clip300)\" d=\"M65.4133 1001.89 Q62.2652 1001.89 60.4134 1004.04 Q58.5847 1006.2 58.5847 1009.95 Q58.5847 1013.67 60.4134 1015.85 Q62.2652 1018 65.4133 1018 Q68.5615 1018 70.3902 1015.85 Q72.242 1013.67 72.242 1009.95 Q72.242 1006.2 70.3902 1004.04 Q68.5615 1001.89 65.4133 1001.89 M74.6957 987.238 L74.6957 991.497 Q72.9365 990.664 71.1309 990.224 Q69.3485 989.784 67.5893 989.784 Q62.9597 989.784 60.506 992.909 Q58.0754 996.034 57.7282 1002.35 Q59.0939 1000.34 61.1541 999.275 Q63.2143 998.187 65.6911 998.187 Q70.8994 998.187 73.9087 1001.36 Q76.9411 1004.51 76.9411 1009.95 Q76.9411 1015.27 73.7929 1018.49 Q70.6448 1021.71 65.4133 1021.71 Q59.418 1021.71 56.2467 1017.12 Q53.0754 1012.52 53.0754 1003.79 Q53.0754 995.594 56.9643 990.733 Q60.8532 985.849 67.4041 985.849 Q69.1633 985.849 70.9457 986.196 Q72.7513 986.543 74.6957 987.238 Z\" fill=\"#000000\" fill-rule=\"evenodd\" fill-opacity=\"1\" /><path clip-path=\"url(#clip300)\" d=\"M84.9966 1015.15 L89.8808 1015.15 L89.8808 1021.03 L84.9966 1021.03 L84.9966 1015.15 Z\" fill=\"#000000\" fill-rule=\"evenodd\" fill-opacity=\"1\" /><path clip-path=\"url(#clip300)\" d=\"M104.094 1017.1 L120.413 1017.1 L120.413 1021.03 L98.4687 1021.03 L98.4687 1017.1 Q101.131 1014.34 105.714 1009.71 Q110.321 1005.06 111.501 1003.72 Q113.746 1001.2 114.626 999.46 Q115.529 997.701 115.529 996.011 Q115.529 993.256 113.584 991.52 Q111.663 989.784 108.561 989.784 Q106.362 989.784 103.909 990.548 Q101.478 991.312 98.7002 992.863 L98.7002 988.141 Q101.524 987.006 103.978 986.428 Q106.432 985.849 108.469 985.849 Q113.839 985.849 117.033 988.534 Q120.228 991.219 120.228 995.71 Q120.228 997.84 119.418 999.761 Q118.631 1001.66 116.524 1004.25 Q115.945 1004.92 112.844 1008.14 Q109.742 1011.34 104.094 1017.1 Z\" fill=\"#000000\" fill-rule=\"evenodd\" fill-opacity=\"1\" /><path clip-path=\"url(#clip300)\" d=\"M63.33 732.657 Q60.1819 732.657 58.33 734.809 Q56.5014 736.962 56.5014 740.712 Q56.5014 744.439 58.33 746.615 Q60.1819 748.768 63.33 748.768 Q66.4782 748.768 68.3068 746.615 Q70.1587 744.439 70.1587 740.712 Q70.1587 736.962 68.3068 734.809 Q66.4782 732.657 63.33 732.657 M72.6124 718.004 L72.6124 722.263 Q70.8531 721.43 69.0476 720.99 Q67.2652 720.55 65.5059 720.55 Q60.8763 720.55 58.4226 723.675 Q55.9921 726.8 55.6449 733.12 Q57.0106 731.106 59.0708 730.041 Q61.131 728.953 63.6078 728.953 Q68.8161 728.953 71.8253 732.124 Q74.8577 735.272 74.8577 740.712 Q74.8577 746.036 71.7096 749.254 Q68.5615 752.471 63.33 752.471 Q57.3347 752.471 54.1634 747.888 Q50.9921 743.282 50.9921 734.555 Q50.9921 726.36 54.881 721.499 Q58.7699 716.615 65.3208 716.615 Q67.08 716.615 68.8624 716.962 Q70.6679 717.31 72.6124 718.004 Z\" fill=\"#000000\" fill-rule=\"evenodd\" fill-opacity=\"1\" /><path clip-path=\"url(#clip300)\" d=\"M82.9133 745.921 L87.7975 745.921 L87.7975 751.8 L82.9133 751.8 L82.9133 745.921 Z\" fill=\"#000000\" fill-rule=\"evenodd\" fill-opacity=\"1\" /><path clip-path=\"url(#clip300)\" d=\"M110.83 721.314 L99.0243 739.763 L110.83 739.763 L110.83 721.314 M109.603 717.24 L115.483 717.24 L115.483 739.763 L120.413 739.763 L120.413 743.652 L115.483 743.652 L115.483 751.8 L110.83 751.8 L110.83 743.652 L95.228 743.652 L95.228 739.138 L109.603 717.24 Z\" fill=\"#000000\" fill-rule=\"evenodd\" fill-opacity=\"1\" /><path clip-path=\"url(#clip300)\" d=\"M63.6541 463.423 Q60.506 463.423 58.6541 465.576 Q56.8254 467.728 56.8254 471.478 Q56.8254 475.205 58.6541 477.381 Q60.506 479.534 63.6541 479.534 Q66.8022 479.534 68.6309 477.381 Q70.4828 475.205 70.4828 471.478 Q70.4828 467.728 68.6309 465.576 Q66.8022 463.423 63.6541 463.423 M72.9365 448.77 L72.9365 453.029 Q71.1772 452.196 69.3717 451.756 Q67.5893 451.316 65.83 451.316 Q61.2004 451.316 58.7467 454.441 Q56.3162 457.566 55.969 463.886 Q57.3347 461.872 59.3949 460.807 Q61.455 459.719 63.9319 459.719 Q69.1402 459.719 72.1494 462.89 Q75.1818 466.039 75.1818 471.478 Q75.1818 476.802 72.0337 480.02 Q68.8855 483.238 63.6541 483.238 Q57.6588 483.238 54.4875 478.654 Q51.3162 474.048 51.3162 465.321 Q51.3162 457.127 55.2051 452.265 Q59.0939 447.381 65.6448 447.381 Q67.4041 447.381 69.1865 447.728 Q70.992 448.076 72.9365 448.77 Z\" fill=\"#000000\" fill-rule=\"evenodd\" fill-opacity=\"1\" /><path clip-path=\"url(#clip300)\" d=\"M83.2373 476.687 L88.1216 476.687 L88.1216 482.566 L83.2373 482.566 L83.2373 476.687 Z\" fill=\"#000000\" fill-rule=\"evenodd\" fill-opacity=\"1\" /><path clip-path=\"url(#clip300)\" d=\"M108.885 463.423 Q105.737 463.423 103.885 465.576 Q102.057 467.728 102.057 471.478 Q102.057 475.205 103.885 477.381 Q105.737 479.534 108.885 479.534 Q112.033 479.534 113.862 477.381 Q115.714 475.205 115.714 471.478 Q115.714 467.728 113.862 465.576 Q112.033 463.423 108.885 463.423 M118.168 448.77 L118.168 453.029 Q116.408 452.196 114.603 451.756 Q112.82 451.316 111.061 451.316 Q106.432 451.316 103.978 454.441 Q101.547 457.566 101.2 463.886 Q102.566 461.872 104.626 460.807 Q106.686 459.719 109.163 459.719 Q114.371 459.719 117.381 462.89 Q120.413 466.039 120.413 471.478 Q120.413 476.802 117.265 480.02 Q114.117 483.238 108.885 483.238 Q102.89 483.238 99.7187 478.654 Q96.5474 474.048 96.5474 465.321 Q96.5474 457.127 100.436 452.265 Q104.325 447.381 110.876 447.381 Q112.635 447.381 114.418 447.728 Q116.223 448.076 118.168 448.77 Z\" fill=\"#000000\" fill-rule=\"evenodd\" fill-opacity=\"1\" /><path clip-path=\"url(#clip300)\" d=\"M63.9087 194.189 Q60.7606 194.189 58.9088 196.342 Q57.0801 198.494 57.0801 202.244 Q57.0801 205.971 58.9088 208.147 Q60.7606 210.3 63.9087 210.3 Q67.0569 210.3 68.8855 208.147 Q70.7374 205.971 70.7374 202.244 Q70.7374 198.494 68.8855 196.342 Q67.0569 194.189 63.9087 194.189 M73.1911 179.536 L73.1911 183.795 Q71.4318 182.962 69.6263 182.522 Q67.8439 182.083 66.0846 182.083 Q61.455 182.083 59.0013 185.208 Q56.5708 188.332 56.2236 194.652 Q57.5893 192.638 59.6495 191.573 Q61.7097 190.485 64.1865 190.485 Q69.3948 190.485 72.404 193.657 Q75.4364 196.805 75.4364 202.244 Q75.4364 207.569 72.2883 210.786 Q69.1402 214.004 63.9087 214.004 Q57.9134 214.004 54.7421 209.42 Q51.5708 204.814 51.5708 196.087 Q51.5708 187.893 55.4597 183.032 Q59.3486 178.147 65.8995 178.147 Q67.6587 178.147 69.4411 178.495 Q71.2466 178.842 73.1911 179.536 Z\" fill=\"#000000\" fill-rule=\"evenodd\" fill-opacity=\"1\" /><path clip-path=\"url(#clip300)\" d=\"M83.492 207.453 L88.3762 207.453 L88.3762 213.332 L83.492 213.332 L83.492 207.453 Z\" fill=\"#000000\" fill-rule=\"evenodd\" fill-opacity=\"1\" /><path clip-path=\"url(#clip300)\" d=\"M108.561 196.92 Q105.228 196.92 103.307 198.703 Q101.409 200.485 101.409 203.61 Q101.409 206.735 103.307 208.518 Q105.228 210.3 108.561 210.3 Q111.895 210.3 113.816 208.518 Q115.737 206.712 115.737 203.61 Q115.737 200.485 113.816 198.703 Q111.918 196.92 108.561 196.92 M103.885 194.93 Q100.876 194.189 99.1863 192.129 Q97.5197 190.069 97.5197 187.106 Q97.5197 182.962 100.459 180.555 Q103.422 178.147 108.561 178.147 Q113.723 178.147 116.663 180.555 Q119.603 182.962 119.603 187.106 Q119.603 190.069 117.913 192.129 Q116.246 194.189 113.26 194.93 Q116.64 195.717 118.515 198.008 Q120.413 200.3 120.413 203.61 Q120.413 208.633 117.334 211.318 Q114.279 214.004 108.561 214.004 Q102.844 214.004 99.765 211.318 Q96.7095 208.633 96.7095 203.61 Q96.7095 200.3 98.6076 198.008 Q100.506 195.717 103.885 194.93 M102.172 187.545 Q102.172 190.231 103.839 191.735 Q105.529 193.24 108.561 193.24 Q111.571 193.24 113.26 191.735 Q114.973 190.231 114.973 187.545 Q114.973 184.86 113.26 183.356 Q111.571 181.851 108.561 181.851 Q105.529 181.851 103.839 183.356 Q102.172 184.86 102.172 187.545 Z\" fill=\"#000000\" fill-rule=\"evenodd\" fill-opacity=\"1\" /><polyline clip-path=\"url(#clip302)\" style=\"stroke:#009af9; stroke-linecap:butt; stroke-linejoin:round; stroke-width:12; stroke-opacity:1; fill:none\" points=\"\n  156.413,772.421 223.976,809.237 301.93,846.044 391.875,882.844 495.654,919.568 615.394,956.241 753.552,992.778 912.96,1029.21 1096.88,1065.42 1309.1,1101.41 \n  1553.95,1137.06 1836.47,1172.34 2162.44,1207.4 2538.54,1242.08 2972.5,1276.14 3473.19,1310.13 4050.9,1344.14 4717.47,1378.23 5486.56,1412.21 6373.94,1445.72 \n  \n  \"/>\n<polyline clip-path=\"url(#clip302)\" style=\"stroke:#e26f46; stroke-linecap:butt; stroke-linejoin:round; stroke-width:12; stroke-opacity:1; fill:none\" points=\"\n  156.413,772.421 223.976,735.584 301.93,698.711 391.875,661.846 495.654,624.967 615.394,588.125 753.552,551.431 912.96,514.888 1096.88,478.346 1309.1,441.992 \n  1553.95,405.795 1836.47,369.632 2162.44,333.685 2538.54,298.063 2972.5,262.565 3473.19,227.057 4050.9,191.764 4717.47,156.816 5486.56,122.244 6373.94,87.9763 \n  \n  \"/>\n<path clip-path=\"url(#clip300)\" d=\"\nM1740.6 250.738 L2279.54 250.738 L2279.54 95.2176 L1740.6 95.2176  Z\n  \" fill=\"#ffffff\" fill-rule=\"evenodd\" fill-opacity=\"1\"/>\n<polyline clip-path=\"url(#clip300)\" style=\"stroke:#000000; stroke-linecap:butt; stroke-linejoin:round; stroke-width:4; stroke-opacity:1; fill:none\" points=\"\n  1740.6,250.738 2279.54,250.738 2279.54,95.2176 1740.6,95.2176 1740.6,250.738 \n  \"/>\n<polyline clip-path=\"url(#clip300)\" style=\"stroke:#009af9; stroke-linecap:butt; stroke-linejoin:round; stroke-width:4; stroke-opacity:1; fill:none\" points=\"\n  1765,147.058 1911.43,147.058 \n  \"/>\n<path clip-path=\"url(#clip300)\" d=\"M1935.83 128.319 L1940.09 128.319 L1940.09 164.338 L1935.83 164.338 L1935.83 128.319 Z\" fill=\"#000000\" fill-rule=\"evenodd\" fill-opacity=\"1\" /><path clip-path=\"url(#clip300)\" d=\"M1959.05 141.398 Q1955.62 141.398 1953.63 144.083 Q1951.64 146.745 1951.64 151.398 Q1951.64 156.051 1953.61 158.736 Q1955.6 161.398 1959.05 161.398 Q1962.45 161.398 1964.44 158.713 Q1966.43 156.027 1966.43 151.398 Q1966.43 146.791 1964.44 144.106 Q1962.45 141.398 1959.05 141.398 M1959.05 137.787 Q1964.6 137.787 1967.78 141.398 Q1970.95 145.009 1970.95 151.398 Q1970.95 157.764 1967.78 161.398 Q1964.6 165.009 1959.05 165.009 Q1953.47 165.009 1950.3 161.398 Q1947.15 157.764 1947.15 151.398 Q1947.15 145.009 1950.3 141.398 Q1953.47 137.787 1959.05 137.787 Z\" fill=\"#000000\" fill-rule=\"evenodd\" fill-opacity=\"1\" /><path clip-path=\"url(#clip300)\" d=\"M1975.53 138.412 L1979.79 138.412 L1985.11 158.643 L1990.41 138.412 L1995.44 138.412 L2000.76 158.643 L2006.06 138.412 L2010.32 138.412 L2003.54 164.338 L1998.52 164.338 L1992.94 143.088 L1987.34 164.338 L1982.31 164.338 L1975.53 138.412 Z\" fill=\"#000000\" fill-rule=\"evenodd\" fill-opacity=\"1\" /><path clip-path=\"url(#clip300)\" d=\"M2038.96 150.31 L2038.96 152.393 L2019.37 152.393 Q2019.65 156.791 2022.01 159.106 Q2024.4 161.398 2028.63 161.398 Q2031.09 161.398 2033.38 160.796 Q2035.69 160.194 2037.96 158.99 L2037.96 163.018 Q2035.67 163.99 2033.26 164.5 Q2030.85 165.009 2028.38 165.009 Q2022.17 165.009 2018.54 161.398 Q2014.93 157.787 2014.93 151.629 Q2014.93 145.264 2018.35 141.537 Q2021.8 137.787 2027.64 137.787 Q2032.87 137.787 2035.9 141.166 Q2038.96 144.523 2038.96 150.31 M2034.7 149.06 Q2034.65 145.565 2032.73 143.481 Q2030.83 141.398 2027.68 141.398 Q2024.12 141.398 2021.96 143.412 Q2019.84 145.426 2019.51 149.083 L2034.7 149.06 Z\" fill=\"#000000\" fill-rule=\"evenodd\" fill-opacity=\"1\" /><path clip-path=\"url(#clip300)\" d=\"M2060.97 142.393 Q2060.25 141.977 2059.4 141.791 Q2058.56 141.583 2057.54 141.583 Q2053.93 141.583 2051.99 143.944 Q2050.07 146.282 2050.07 150.68 L2050.07 164.338 L2045.78 164.338 L2045.78 138.412 L2050.07 138.412 L2050.07 142.44 Q2051.41 140.078 2053.56 138.944 Q2055.71 137.787 2058.79 137.787 Q2059.23 137.787 2059.77 137.856 Q2060.3 137.903 2060.95 138.018 L2060.97 142.393 Z\" fill=\"#000000\" fill-rule=\"evenodd\" fill-opacity=\"1\" /><path clip-path=\"url(#clip300)\" d=\"M2099.12 151.398 Q2099.12 146.699 2097.17 144.037 Q2095.25 141.352 2091.87 141.352 Q2088.49 141.352 2086.55 144.037 Q2084.63 146.699 2084.63 151.398 Q2084.63 156.097 2086.55 158.782 Q2088.49 161.444 2091.87 161.444 Q2095.25 161.444 2097.17 158.782 Q2099.12 156.097 2099.12 151.398 M2084.63 142.347 Q2085.97 140.032 2088.01 138.921 Q2090.07 137.787 2092.91 137.787 Q2097.64 137.787 2100.58 141.537 Q2103.54 145.287 2103.54 151.398 Q2103.54 157.509 2100.58 161.259 Q2097.64 165.009 2092.91 165.009 Q2090.07 165.009 2088.01 163.898 Q2085.97 162.763 2084.63 160.449 L2084.63 164.338 L2080.34 164.338 L2080.34 128.319 L2084.63 128.319 L2084.63 142.347 Z\" fill=\"#000000\" fill-rule=\"evenodd\" fill-opacity=\"1\" /><path clip-path=\"url(#clip300)\" d=\"M2120.64 141.398 Q2117.22 141.398 2115.23 144.083 Q2113.24 146.745 2113.24 151.398 Q2113.24 156.051 2115.21 158.736 Q2117.2 161.398 2120.64 161.398 Q2124.05 161.398 2126.04 158.713 Q2128.03 156.027 2128.03 151.398 Q2128.03 146.791 2126.04 144.106 Q2124.05 141.398 2120.64 141.398 M2120.64 137.787 Q2126.2 137.787 2129.37 141.398 Q2132.54 145.009 2132.54 151.398 Q2132.54 157.764 2129.37 161.398 Q2126.2 165.009 2120.64 165.009 Q2115.07 165.009 2111.89 161.398 Q2108.75 157.764 2108.75 151.398 Q2108.75 145.009 2111.89 141.398 Q2115.07 137.787 2120.64 137.787 Z\" fill=\"#000000\" fill-rule=\"evenodd\" fill-opacity=\"1\" /><path clip-path=\"url(#clip300)\" d=\"M2139.16 154.106 L2139.16 138.412 L2143.42 138.412 L2143.42 153.944 Q2143.42 157.625 2144.86 159.476 Q2146.29 161.305 2149.16 161.305 Q2152.61 161.305 2154.6 159.106 Q2156.62 156.907 2156.62 153.111 L2156.62 138.412 L2160.88 138.412 L2160.88 164.338 L2156.62 164.338 L2156.62 160.356 Q2155.07 162.717 2153.01 163.875 Q2150.97 165.009 2148.26 165.009 Q2143.79 165.009 2141.48 162.231 Q2139.16 159.453 2139.16 154.106 M2149.88 137.787 L2149.88 137.787 Z\" fill=\"#000000\" fill-rule=\"evenodd\" fill-opacity=\"1\" /><path clip-path=\"url(#clip300)\" d=\"M2191.2 148.689 L2191.2 164.338 L2186.94 164.338 L2186.94 148.828 Q2186.94 145.148 2185.51 143.319 Q2184.07 141.49 2181.2 141.49 Q2177.75 141.49 2175.76 143.69 Q2173.77 145.889 2173.77 149.685 L2173.77 164.338 L2169.49 164.338 L2169.49 138.412 L2173.77 138.412 L2173.77 142.44 Q2175.3 140.102 2177.36 138.944 Q2179.44 137.787 2182.15 137.787 Q2186.62 137.787 2188.91 140.565 Q2191.2 143.319 2191.2 148.689 Z\" fill=\"#000000\" fill-rule=\"evenodd\" fill-opacity=\"1\" /><path clip-path=\"url(#clip300)\" d=\"M2216.76 142.347 L2216.76 128.319 L2221.01 128.319 L2221.01 164.338 L2216.76 164.338 L2216.76 160.449 Q2215.41 162.763 2213.35 163.898 Q2211.32 165.009 2208.45 165.009 Q2203.75 165.009 2200.78 161.259 Q2197.84 157.509 2197.84 151.398 Q2197.84 145.287 2200.78 141.537 Q2203.75 137.787 2208.45 137.787 Q2211.32 137.787 2213.35 138.921 Q2215.41 140.032 2216.76 142.347 M2202.24 151.398 Q2202.24 156.097 2204.16 158.782 Q2206.11 161.444 2209.49 161.444 Q2212.87 161.444 2214.81 158.782 Q2216.76 156.097 2216.76 151.398 Q2216.76 146.699 2214.81 144.037 Q2212.87 141.352 2209.49 141.352 Q2206.11 141.352 2204.16 144.037 Q2202.24 146.699 2202.24 151.398 Z\" fill=\"#000000\" fill-rule=\"evenodd\" fill-opacity=\"1\" /><polyline clip-path=\"url(#clip300)\" style=\"stroke:#e26f46; stroke-linecap:butt; stroke-linejoin:round; stroke-width:4; stroke-opacity:1; fill:none\" points=\"\n  1765,198.898 1911.43,198.898 \n  \"/>\n<path clip-path=\"url(#clip300)\" d=\"M1935.83 205.946 L1935.83 190.252 L1940.09 190.252 L1940.09 205.784 Q1940.09 209.465 1941.53 211.316 Q1942.96 213.145 1945.83 213.145 Q1949.28 213.145 1951.27 210.946 Q1953.28 208.747 1953.28 204.951 L1953.28 190.252 L1957.54 190.252 L1957.54 216.178 L1953.28 216.178 L1953.28 212.196 Q1951.73 214.557 1949.67 215.715 Q1947.64 216.849 1944.93 216.849 Q1940.46 216.849 1938.15 214.071 Q1935.83 211.293 1935.83 205.946 M1946.55 189.627 L1946.55 189.627 Z\" fill=\"#000000\" fill-rule=\"evenodd\" fill-opacity=\"1\" /><path clip-path=\"url(#clip300)\" d=\"M1970.44 212.289 L1970.44 226.039 L1966.15 226.039 L1966.15 190.252 L1970.44 190.252 L1970.44 194.187 Q1971.78 191.872 1973.82 190.761 Q1975.88 189.627 1978.72 189.627 Q1983.45 189.627 1986.39 193.377 Q1989.35 197.127 1989.35 203.238 Q1989.35 209.349 1986.39 213.099 Q1983.45 216.849 1978.72 216.849 Q1975.88 216.849 1973.82 215.738 Q1971.78 214.603 1970.44 212.289 M1984.93 203.238 Q1984.93 198.539 1982.98 195.877 Q1981.06 193.192 1977.68 193.192 Q1974.3 193.192 1972.36 195.877 Q1970.44 198.539 1970.44 203.238 Q1970.44 207.937 1972.36 210.622 Q1974.3 213.284 1977.68 213.284 Q1981.06 213.284 1982.98 210.622 Q1984.93 207.937 1984.93 203.238 Z\" fill=\"#000000\" fill-rule=\"evenodd\" fill-opacity=\"1\" /><path clip-path=\"url(#clip300)\" d=\"M2000.53 212.289 L2000.53 226.039 L1996.25 226.039 L1996.25 190.252 L2000.53 190.252 L2000.53 194.187 Q2001.87 191.872 2003.91 190.761 Q2005.97 189.627 2008.82 189.627 Q2013.54 189.627 2016.48 193.377 Q2019.44 197.127 2019.44 203.238 Q2019.44 209.349 2016.48 213.099 Q2013.54 216.849 2008.82 216.849 Q2005.97 216.849 2003.91 215.738 Q2001.87 214.603 2000.53 212.289 M2015.02 203.238 Q2015.02 198.539 2013.08 195.877 Q2011.15 193.192 2007.78 193.192 Q2004.4 193.192 2002.45 195.877 Q2000.53 198.539 2000.53 203.238 Q2000.53 207.937 2002.45 210.622 Q2004.4 213.284 2007.78 213.284 Q2011.15 213.284 2013.08 210.622 Q2015.02 207.937 2015.02 203.238 Z\" fill=\"#000000\" fill-rule=\"evenodd\" fill-opacity=\"1\" /><path clip-path=\"url(#clip300)\" d=\"M2048.68 202.15 L2048.68 204.233 L2029.09 204.233 Q2029.37 208.631 2031.73 210.946 Q2034.12 213.238 2038.35 213.238 Q2040.81 213.238 2043.1 212.636 Q2045.41 212.034 2047.68 210.83 L2047.68 214.858 Q2045.39 215.83 2042.98 216.34 Q2040.58 216.849 2038.1 216.849 Q2031.9 216.849 2028.26 213.238 Q2024.65 209.627 2024.65 203.469 Q2024.65 197.104 2028.08 193.377 Q2031.52 189.627 2037.36 189.627 Q2042.59 189.627 2045.62 193.006 Q2048.68 196.363 2048.68 202.15 M2044.42 200.9 Q2044.37 197.405 2042.45 195.321 Q2040.55 193.238 2037.4 193.238 Q2033.84 193.238 2031.69 195.252 Q2029.56 197.266 2029.23 200.923 L2044.42 200.9 Z\" fill=\"#000000\" fill-rule=\"evenodd\" fill-opacity=\"1\" /><path clip-path=\"url(#clip300)\" d=\"M2070.69 194.233 Q2069.97 193.817 2069.12 193.631 Q2068.28 193.423 2067.27 193.423 Q2063.65 193.423 2061.71 195.784 Q2059.79 198.122 2059.79 202.52 L2059.79 216.178 L2055.51 216.178 L2055.51 190.252 L2059.79 190.252 L2059.79 194.28 Q2061.13 191.918 2063.28 190.784 Q2065.44 189.627 2068.52 189.627 Q2068.96 189.627 2069.49 189.696 Q2070.02 189.743 2070.67 189.858 L2070.69 194.233 Z\" fill=\"#000000\" fill-rule=\"evenodd\" fill-opacity=\"1\" /><path clip-path=\"url(#clip300)\" d=\"M2108.84 203.238 Q2108.84 198.539 2106.89 195.877 Q2104.97 193.192 2101.59 193.192 Q2098.21 193.192 2096.27 195.877 Q2094.35 198.539 2094.35 203.238 Q2094.35 207.937 2096.27 210.622 Q2098.21 213.284 2101.59 213.284 Q2104.97 213.284 2106.89 210.622 Q2108.84 207.937 2108.84 203.238 M2094.35 194.187 Q2095.69 191.872 2097.73 190.761 Q2099.79 189.627 2102.64 189.627 Q2107.36 189.627 2110.3 193.377 Q2113.26 197.127 2113.26 203.238 Q2113.26 209.349 2110.3 213.099 Q2107.36 216.849 2102.64 216.849 Q2099.79 216.849 2097.73 215.738 Q2095.69 214.603 2094.35 212.289 L2094.35 216.178 L2090.07 216.178 L2090.07 180.159 L2094.35 180.159 L2094.35 194.187 Z\" fill=\"#000000\" fill-rule=\"evenodd\" fill-opacity=\"1\" /><path clip-path=\"url(#clip300)\" d=\"M2130.37 193.238 Q2126.94 193.238 2124.95 195.923 Q2122.96 198.585 2122.96 203.238 Q2122.96 207.891 2124.93 210.576 Q2126.92 213.238 2130.37 213.238 Q2133.77 213.238 2135.76 210.553 Q2137.75 207.867 2137.75 203.238 Q2137.75 198.631 2135.76 195.946 Q2133.77 193.238 2130.37 193.238 M2130.37 189.627 Q2135.92 189.627 2139.09 193.238 Q2142.27 196.849 2142.27 203.238 Q2142.27 209.604 2139.09 213.238 Q2135.92 216.849 2130.37 216.849 Q2124.79 216.849 2121.62 213.238 Q2118.47 209.604 2118.47 203.238 Q2118.47 196.849 2121.62 193.238 Q2124.79 189.627 2130.37 189.627 Z\" fill=\"#000000\" fill-rule=\"evenodd\" fill-opacity=\"1\" /><path clip-path=\"url(#clip300)\" d=\"M2148.89 205.946 L2148.89 190.252 L2153.14 190.252 L2153.14 205.784 Q2153.14 209.465 2154.58 211.316 Q2156.02 213.145 2158.89 213.145 Q2162.33 213.145 2164.33 210.946 Q2166.34 208.747 2166.34 204.951 L2166.34 190.252 L2170.6 190.252 L2170.6 216.178 L2166.34 216.178 L2166.34 212.196 Q2164.79 214.557 2162.73 215.715 Q2160.69 216.849 2157.98 216.849 Q2153.52 216.849 2151.2 214.071 Q2148.89 211.293 2148.89 205.946 M2159.6 189.627 L2159.6 189.627 Z\" fill=\"#000000\" fill-rule=\"evenodd\" fill-opacity=\"1\" /><path clip-path=\"url(#clip300)\" d=\"M2200.92 200.529 L2200.92 216.178 L2196.66 216.178 L2196.66 200.668 Q2196.66 196.988 2195.23 195.159 Q2193.79 193.33 2190.92 193.33 Q2187.47 193.33 2185.48 195.53 Q2183.49 197.729 2183.49 201.525 L2183.49 216.178 L2179.21 216.178 L2179.21 190.252 L2183.49 190.252 L2183.49 194.28 Q2185.02 191.942 2187.08 190.784 Q2189.16 189.627 2191.87 189.627 Q2196.34 189.627 2198.63 192.405 Q2200.92 195.159 2200.92 200.529 Z\" fill=\"#000000\" fill-rule=\"evenodd\" fill-opacity=\"1\" /><path clip-path=\"url(#clip300)\" d=\"M2226.48 194.187 L2226.48 180.159 L2230.74 180.159 L2230.74 216.178 L2226.48 216.178 L2226.48 212.289 Q2225.14 214.603 2223.07 215.738 Q2221.04 216.849 2218.17 216.849 Q2213.47 216.849 2210.51 213.099 Q2207.57 209.349 2207.57 203.238 Q2207.57 197.127 2210.51 193.377 Q2213.47 189.627 2218.17 189.627 Q2221.04 189.627 2223.07 190.761 Q2225.14 191.872 2226.48 194.187 M2211.96 203.238 Q2211.96 207.937 2213.89 210.622 Q2215.83 213.284 2219.21 213.284 Q2222.59 213.284 2224.53 210.622 Q2226.48 207.937 2226.48 203.238 Q2226.48 198.539 2224.53 195.877 Q2222.59 193.192 2219.21 193.192 Q2215.83 193.192 2213.89 195.877 Q2211.96 198.539 2211.96 203.238 Z\" fill=\"#000000\" fill-rule=\"evenodd\" fill-opacity=\"1\" /></svg>\n"
     },
     "execution_count": 56,
     "metadata": {},
     "output_type": "execute_result"
    }
   ],
   "source": [
    "Ks = exp.(LinRange(0.0, exp(1), 20))\n",
    "plot(Ks, [compute_lower_Y0(df2; K=K, H =1) for K in Ks], xlim = (1, 6), label = \"lower bound\", lw = 3)\n",
    "plot!(Ks, [compute_upper_Y0(df2; K=K, H =1) for K in Ks], label = \"upper bound\", lw = 3)\n",
    "plot!(leg = :best)\n",
    "# hline!([mean(df[df.G .== 0, :Y0])], label = \"oracle mean\", linestyle = :dot, lw = 3)"
   ]
  },
  {
   "cell_type": "code",
   "execution_count": 57,
   "metadata": {},
   "outputs": [
    {
     "data": {
      "image/svg+xml": "<?xml version=\"1.0\" encoding=\"utf-8\"?>\n<svg xmlns=\"http://www.w3.org/2000/svg\" xmlns:xlink=\"http://www.w3.org/1999/xlink\" width=\"600\" height=\"400\" viewBox=\"0 0 2400 1600\">\n<defs>\n  <clipPath id=\"clip340\">\n    <rect x=\"0\" y=\"0\" width=\"2400\" height=\"1600\"/>\n  </clipPath>\n</defs>\n<path clip-path=\"url(#clip340)\" d=\"\nM0 1600 L2400 1600 L2400 0 L0 0  Z\n  \" fill=\"#ffffff\" fill-rule=\"evenodd\" fill-opacity=\"1\"/>\n<defs>\n  <clipPath id=\"clip341\">\n    <rect x=\"480\" y=\"0\" width=\"1681\" height=\"1600\"/>\n  </clipPath>\n</defs>\n<path clip-path=\"url(#clip340)\" d=\"\nM110.881 1486.45 L2352.76 1486.45 L2352.76 47.2441 L110.881 47.2441  Z\n  \" fill=\"#ffffff\" fill-rule=\"evenodd\" fill-opacity=\"1\"/>\n<defs>\n  <clipPath id=\"clip342\">\n    <rect x=\"110\" y=\"47\" width=\"2243\" height=\"1440\"/>\n  </clipPath>\n</defs>\n<polyline clip-path=\"url(#clip342)\" style=\"stroke:#000000; stroke-linecap:butt; stroke-linejoin:round; stroke-width:2; stroke-opacity:0.1; fill:none\" points=\"\n  110.881,1486.45 110.881,47.2441 \n  \"/>\n<polyline clip-path=\"url(#clip342)\" style=\"stroke:#000000; stroke-linecap:butt; stroke-linejoin:round; stroke-width:2; stroke-opacity:0.1; fill:none\" points=\"\n  559.256,1486.45 559.256,47.2441 \n  \"/>\n<polyline clip-path=\"url(#clip342)\" style=\"stroke:#000000; stroke-linecap:butt; stroke-linejoin:round; stroke-width:2; stroke-opacity:0.1; fill:none\" points=\"\n  1007.63,1486.45 1007.63,47.2441 \n  \"/>\n<polyline clip-path=\"url(#clip342)\" style=\"stroke:#000000; stroke-linecap:butt; stroke-linejoin:round; stroke-width:2; stroke-opacity:0.1; fill:none\" points=\"\n  1456.01,1486.45 1456.01,47.2441 \n  \"/>\n<polyline clip-path=\"url(#clip342)\" style=\"stroke:#000000; stroke-linecap:butt; stroke-linejoin:round; stroke-width:2; stroke-opacity:0.1; fill:none\" points=\"\n  1904.38,1486.45 1904.38,47.2441 \n  \"/>\n<polyline clip-path=\"url(#clip342)\" style=\"stroke:#000000; stroke-linecap:butt; stroke-linejoin:round; stroke-width:2; stroke-opacity:0.1; fill:none\" points=\"\n  2352.76,1486.45 2352.76,47.2441 \n  \"/>\n<polyline clip-path=\"url(#clip340)\" style=\"stroke:#000000; stroke-linecap:butt; stroke-linejoin:round; stroke-width:4; stroke-opacity:1; fill:none\" points=\"\n  110.881,1486.45 2352.76,1486.45 \n  \"/>\n<polyline clip-path=\"url(#clip340)\" style=\"stroke:#000000; stroke-linecap:butt; stroke-linejoin:round; stroke-width:4; stroke-opacity:1; fill:none\" points=\"\n  110.881,1486.45 110.881,1467.55 \n  \"/>\n<polyline clip-path=\"url(#clip340)\" style=\"stroke:#000000; stroke-linecap:butt; stroke-linejoin:round; stroke-width:4; stroke-opacity:1; fill:none\" points=\"\n  559.256,1486.45 559.256,1467.55 \n  \"/>\n<polyline clip-path=\"url(#clip340)\" style=\"stroke:#000000; stroke-linecap:butt; stroke-linejoin:round; stroke-width:4; stroke-opacity:1; fill:none\" points=\"\n  1007.63,1486.45 1007.63,1467.55 \n  \"/>\n<polyline clip-path=\"url(#clip340)\" style=\"stroke:#000000; stroke-linecap:butt; stroke-linejoin:round; stroke-width:4; stroke-opacity:1; fill:none\" points=\"\n  1456.01,1486.45 1456.01,1467.55 \n  \"/>\n<polyline clip-path=\"url(#clip340)\" style=\"stroke:#000000; stroke-linecap:butt; stroke-linejoin:round; stroke-width:4; stroke-opacity:1; fill:none\" points=\"\n  1904.38,1486.45 1904.38,1467.55 \n  \"/>\n<polyline clip-path=\"url(#clip340)\" style=\"stroke:#000000; stroke-linecap:butt; stroke-linejoin:round; stroke-width:4; stroke-opacity:1; fill:none\" points=\"\n  2352.76,1486.45 2352.76,1467.55 \n  \"/>\n<path clip-path=\"url(#clip340)\" d=\"M101.263 1544.91 L108.902 1544.91 L108.902 1518.55 L100.592 1520.21 L100.592 1515.95 L108.855 1514.29 L113.531 1514.29 L113.531 1544.91 L121.17 1544.91 L121.17 1548.85 L101.263 1548.85 L101.263 1544.91 Z\" fill=\"#000000\" fill-rule=\"evenodd\" fill-opacity=\"1\" /><path clip-path=\"url(#clip340)\" d=\"M553.909 1544.91 L570.228 1544.91 L570.228 1548.85 L548.284 1548.85 L548.284 1544.91 Q550.946 1542.16 555.529 1537.53 Q560.136 1532.88 561.316 1531.53 Q563.561 1529.01 564.441 1527.27 Q565.344 1525.51 565.344 1523.82 Q565.344 1521.07 563.399 1519.33 Q561.478 1517.6 558.376 1517.6 Q556.177 1517.6 553.724 1518.36 Q551.293 1519.13 548.515 1520.68 L548.515 1515.95 Q551.339 1514.82 553.793 1514.24 Q556.247 1513.66 558.284 1513.66 Q563.654 1513.66 566.848 1516.35 Q570.043 1519.03 570.043 1523.52 Q570.043 1525.65 569.233 1527.57 Q568.446 1529.47 566.339 1532.07 Q565.76 1532.74 562.659 1535.95 Q559.557 1539.15 553.909 1544.91 Z\" fill=\"#000000\" fill-rule=\"evenodd\" fill-opacity=\"1\" /><path clip-path=\"url(#clip340)\" d=\"M1011.88 1530.21 Q1015.24 1530.93 1017.11 1533.2 Q1019.01 1535.47 1019.01 1538.8 Q1019.01 1543.92 1015.49 1546.72 Q1011.97 1549.52 1005.49 1549.52 Q1003.31 1549.52 1001 1549.08 Q998.707 1548.66 996.254 1547.81 L996.254 1543.29 Q998.198 1544.43 1000.51 1545.01 Q1002.83 1545.58 1005.35 1545.58 Q1009.75 1545.58 1012.04 1543.85 Q1014.36 1542.11 1014.36 1538.8 Q1014.36 1535.75 1012.2 1534.03 Q1010.07 1532.3 1006.25 1532.3 L1002.23 1532.3 L1002.23 1528.45 L1006.44 1528.45 Q1009.89 1528.45 1011.72 1527.09 Q1013.55 1525.7 1013.55 1523.11 Q1013.55 1520.45 1011.65 1519.03 Q1009.77 1517.6 1006.25 1517.6 Q1004.33 1517.6 1002.13 1518.01 Q999.934 1518.43 997.295 1519.31 L997.295 1515.14 Q999.957 1514.4 1002.27 1514.03 Q1004.61 1513.66 1006.67 1513.66 Q1011.99 1513.66 1015.1 1516.09 Q1018.2 1518.5 1018.2 1522.62 Q1018.2 1525.49 1016.55 1527.48 Q1014.91 1529.45 1011.88 1530.21 Z\" fill=\"#000000\" fill-rule=\"evenodd\" fill-opacity=\"1\" /><path clip-path=\"url(#clip340)\" d=\"M1459.02 1518.36 L1447.21 1536.81 L1459.02 1536.81 L1459.02 1518.36 M1457.79 1514.29 L1463.67 1514.29 L1463.67 1536.81 L1468.6 1536.81 L1468.6 1540.7 L1463.67 1540.7 L1463.67 1548.85 L1459.02 1548.85 L1459.02 1540.7 L1443.41 1540.7 L1443.41 1536.19 L1457.79 1514.29 Z\" fill=\"#000000\" fill-rule=\"evenodd\" fill-opacity=\"1\" /><path clip-path=\"url(#clip340)\" d=\"M1894.66 1514.29 L1913.02 1514.29 L1913.02 1518.22 L1898.94 1518.22 L1898.94 1526.7 Q1899.96 1526.35 1900.98 1526.19 Q1902 1526 1903.02 1526 Q1908.8 1526 1912.18 1529.17 Q1915.56 1532.34 1915.56 1537.76 Q1915.56 1543.34 1912.09 1546.44 Q1908.62 1549.52 1902.3 1549.52 Q1900.12 1549.52 1897.85 1549.15 Q1895.61 1548.78 1893.2 1548.04 L1893.2 1543.34 Q1895.28 1544.47 1897.51 1545.03 Q1899.73 1545.58 1902.2 1545.58 Q1906.21 1545.58 1908.55 1543.48 Q1910.89 1541.37 1910.89 1537.76 Q1910.89 1534.15 1908.55 1532.04 Q1906.21 1529.94 1902.2 1529.94 Q1900.33 1529.94 1898.46 1530.35 Q1896.6 1530.77 1894.66 1531.65 L1894.66 1514.29 Z\" fill=\"#000000\" fill-rule=\"evenodd\" fill-opacity=\"1\" /><path clip-path=\"url(#clip340)\" d=\"M2353.16 1529.7 Q2350.01 1529.7 2348.16 1531.86 Q2346.33 1534.01 2346.33 1537.76 Q2346.33 1541.49 2348.16 1543.66 Q2350.01 1545.82 2353.16 1545.82 Q2356.31 1545.82 2358.14 1543.66 Q2359.99 1541.49 2359.99 1537.76 Q2359.99 1534.01 2358.14 1531.86 Q2356.31 1529.7 2353.16 1529.7 M2362.44 1515.05 L2362.44 1519.31 Q2360.68 1518.48 2358.88 1518.04 Q2357.1 1517.6 2355.34 1517.6 Q2350.71 1517.6 2348.25 1520.72 Q2345.82 1523.85 2345.48 1530.17 Q2346.84 1528.15 2348.9 1527.09 Q2350.96 1526 2353.44 1526 Q2358.65 1526 2361.66 1529.17 Q2364.69 1532.32 2364.69 1537.76 Q2364.69 1543.08 2361.54 1546.3 Q2358.39 1549.52 2353.16 1549.52 Q2347.17 1549.52 2343.99 1544.94 Q2340.82 1540.33 2340.82 1531.6 Q2340.82 1523.41 2344.71 1518.55 Q2348.6 1513.66 2355.15 1513.66 Q2356.91 1513.66 2358.69 1514.01 Q2360.5 1514.36 2362.44 1515.05 Z\" fill=\"#000000\" fill-rule=\"evenodd\" fill-opacity=\"1\" /><polyline clip-path=\"url(#clip342)\" style=\"stroke:#000000; stroke-linecap:butt; stroke-linejoin:round; stroke-width:2; stroke-opacity:0.1; fill:none\" points=\"\n  110.881,1217 2352.76,1217 \n  \"/>\n<polyline clip-path=\"url(#clip342)\" style=\"stroke:#000000; stroke-linecap:butt; stroke-linejoin:round; stroke-width:2; stroke-opacity:0.1; fill:none\" points=\"\n  110.881,892.557 2352.76,892.557 \n  \"/>\n<polyline clip-path=\"url(#clip342)\" style=\"stroke:#000000; stroke-linecap:butt; stroke-linejoin:round; stroke-width:2; stroke-opacity:0.1; fill:none\" points=\"\n  110.881,568.114 2352.76,568.114 \n  \"/>\n<polyline clip-path=\"url(#clip342)\" style=\"stroke:#000000; stroke-linecap:butt; stroke-linejoin:round; stroke-width:2; stroke-opacity:0.1; fill:none\" points=\"\n  110.881,243.671 2352.76,243.671 \n  \"/>\n<polyline clip-path=\"url(#clip340)\" style=\"stroke:#000000; stroke-linecap:butt; stroke-linejoin:round; stroke-width:4; stroke-opacity:1; fill:none\" points=\"\n  110.881,1486.45 110.881,47.2441 \n  \"/>\n<polyline clip-path=\"url(#clip340)\" style=\"stroke:#000000; stroke-linecap:butt; stroke-linejoin:round; stroke-width:4; stroke-opacity:1; fill:none\" points=\"\n  110.881,1217 129.779,1217 \n  \"/>\n<polyline clip-path=\"url(#clip340)\" style=\"stroke:#000000; stroke-linecap:butt; stroke-linejoin:round; stroke-width:4; stroke-opacity:1; fill:none\" points=\"\n  110.881,892.557 129.779,892.557 \n  \"/>\n<polyline clip-path=\"url(#clip340)\" style=\"stroke:#000000; stroke-linecap:butt; stroke-linejoin:round; stroke-width:4; stroke-opacity:1; fill:none\" points=\"\n  110.881,568.114 129.779,568.114 \n  \"/>\n<polyline clip-path=\"url(#clip340)\" style=\"stroke:#000000; stroke-linecap:butt; stroke-linejoin:round; stroke-width:4; stroke-opacity:1; fill:none\" points=\"\n  110.881,243.671 129.779,243.671 \n  \"/>\n<path clip-path=\"url(#clip340)\" d=\"M62.9365 1202.8 Q59.3254 1202.8 57.4967 1206.36 Q55.6912 1209.9 55.6912 1217.03 Q55.6912 1224.14 57.4967 1227.71 Q59.3254 1231.25 62.9365 1231.25 Q66.5707 1231.25 68.3763 1227.71 Q70.205 1224.14 70.205 1217.03 Q70.205 1209.9 68.3763 1206.36 Q66.5707 1202.8 62.9365 1202.8 M62.9365 1199.09 Q68.7467 1199.09 71.8022 1203.7 Q74.8809 1208.28 74.8809 1217.03 Q74.8809 1225.76 71.8022 1230.37 Q68.7467 1234.95 62.9365 1234.95 Q57.1264 1234.95 54.0477 1230.37 Q50.9921 1225.76 50.9921 1217.03 Q50.9921 1208.28 54.0477 1203.7 Q57.1264 1199.09 62.9365 1199.09 Z\" fill=\"#000000\" fill-rule=\"evenodd\" fill-opacity=\"1\" /><path clip-path=\"url(#clip340)\" d=\"M54.9736 905.902 L62.6124 905.902 L62.6124 879.536 L54.3023 881.203 L54.3023 876.943 L62.5661 875.277 L67.242 875.277 L67.242 905.902 L74.8809 905.902 L74.8809 909.837 L54.9736 909.837 L54.9736 905.902 Z\" fill=\"#000000\" fill-rule=\"evenodd\" fill-opacity=\"1\" /><path clip-path=\"url(#clip340)\" d=\"M58.5615 581.459 L74.8809 581.459 L74.8809 585.394 L52.9366 585.394 L52.9366 581.459 Q55.5986 578.704 60.1819 574.074 Q64.7883 569.422 65.9689 568.079 Q68.2143 565.556 69.0939 563.82 Q69.9967 562.061 69.9967 560.371 Q69.9967 557.616 68.0522 555.88 Q66.1309 554.144 63.0291 554.144 Q60.83 554.144 58.3763 554.908 Q55.9458 555.672 53.168 557.223 L53.168 552.501 Q55.9921 551.366 58.4458 550.788 Q60.8995 550.209 62.9365 550.209 Q68.3068 550.209 71.5013 552.894 Q74.6957 555.579 74.6957 560.07 Q74.6957 562.2 73.8855 564.121 Q73.0985 566.019 70.992 568.612 Q70.4133 569.283 67.3115 572.5 Q64.2096 575.695 58.5615 581.459 Z\" fill=\"#000000\" fill-rule=\"evenodd\" fill-opacity=\"1\" /><path clip-path=\"url(#clip340)\" d=\"M67.7513 242.317 Q71.1078 243.034 72.9827 245.303 Q74.8809 247.572 74.8809 250.905 Q74.8809 256.021 71.3624 258.821 Q67.8439 261.622 61.3624 261.622 Q59.1865 261.622 56.8717 261.183 Q54.5801 260.766 52.1264 259.909 L52.1264 255.396 Q54.0708 256.53 56.3856 257.108 Q58.7004 257.687 61.2236 257.687 Q65.6217 257.687 67.9133 255.951 Q70.2281 254.215 70.2281 250.905 Q70.2281 247.849 68.0754 246.136 Q65.9457 244.4 62.1263 244.4 L58.0986 244.4 L58.0986 240.558 L62.3115 240.558 Q65.7606 240.558 67.5893 239.192 Q69.418 237.803 69.418 235.21 Q69.418 232.548 67.5198 231.136 Q65.6448 229.701 62.1263 229.701 Q60.205 229.701 58.006 230.118 Q55.8069 230.535 53.168 231.414 L53.168 227.248 Q55.8301 226.507 58.1449 226.136 Q60.4828 225.766 62.543 225.766 Q67.867 225.766 70.9689 228.197 Q74.0707 230.604 74.0707 234.724 Q74.0707 237.595 72.4272 239.585 Q70.7837 241.553 67.7513 242.317 Z\" fill=\"#000000\" fill-rule=\"evenodd\" fill-opacity=\"1\" /><polyline clip-path=\"url(#clip342)\" style=\"stroke:#009af9; stroke-linecap:butt; stroke-linejoin:round; stroke-width:12; stroke-opacity:1; fill:none\" points=\"\n  110.881,760.198 215.947,722.888 345.634,685.84 505.71,649.002 703.296,612.406 947.181,576.064 1248.22,539.946 1619.79,504.267 2078.44,468.816 2644.56,433.589 \n  3343.33,398.946 4205.85,364.514 5270.49,330.195 6584.59,295.878 8206.62,261.558 10208.7,227.439 12680,193.395 15730.4,158.897 19495.5,123.775 24143,87.9763 \n  \n  \"/>\n<polyline clip-path=\"url(#clip342)\" style=\"stroke:#e26f46; stroke-linecap:butt; stroke-linejoin:round; stroke-width:12; stroke-opacity:1; fill:none\" points=\"\n  110.881,760.198 215.947,797.755 345.634,835.476 505.71,873.374 703.296,911.209 947.181,948.817 1248.22,986.313 1619.79,1023.67 2078.44,1061.01 2644.56,1097.82 \n  3343.33,1134.38 4205.85,1170.74 5270.49,1206.63 6584.59,1241.77 8206.62,1276.51 10208.7,1310.94 12680,1345.45 15730.4,1379.27 19495.5,1412.7 24143,1445.72 \n  \n  \"/>\n<polyline clip-path=\"url(#clip342)\" style=\"stroke:#3da44d; stroke-linecap:butt; stroke-linejoin:round; stroke-width:4; stroke-opacity:1; fill:none\" points=\"\n  -2130.99,766.956 4594.63,766.956 \n  \"/>\n<path clip-path=\"url(#clip340)\" d=\"\nM1734.02 302.578 L2278.03 302.578 L2278.03 95.2176 L1734.02 95.2176  Z\n  \" fill=\"#ffffff\" fill-rule=\"evenodd\" fill-opacity=\"1\"/>\n<polyline clip-path=\"url(#clip340)\" style=\"stroke:#000000; stroke-linecap:butt; stroke-linejoin:round; stroke-width:4; stroke-opacity:1; fill:none\" points=\"\n  1734.02,302.578 2278.03,302.578 2278.03,95.2176 1734.02,95.2176 1734.02,302.578 \n  \"/>\n<polyline clip-path=\"url(#clip340)\" style=\"stroke:#009af9; stroke-linecap:butt; stroke-linejoin:round; stroke-width:4; stroke-opacity:1; fill:none\" points=\"\n  1758.93,147.058 1908.39,147.058 \n  \"/>\n<path clip-path=\"url(#clip340)\" d=\"M1933.3 128.319 L1937.56 128.319 L1937.56 164.338 L1933.3 164.338 L1933.3 128.319 Z\" fill=\"#000000\" fill-rule=\"evenodd\" fill-opacity=\"1\" /><path clip-path=\"url(#clip340)\" d=\"M1956.52 141.398 Q1953.09 141.398 1951.1 144.083 Q1949.11 146.745 1949.11 151.398 Q1949.11 156.051 1951.08 158.736 Q1953.07 161.398 1956.52 161.398 Q1959.92 161.398 1961.91 158.713 Q1963.9 156.027 1963.9 151.398 Q1963.9 146.791 1961.91 144.106 Q1959.92 141.398 1956.52 141.398 M1956.52 137.787 Q1962.07 137.787 1965.25 141.398 Q1968.42 145.009 1968.42 151.398 Q1968.42 157.764 1965.25 161.398 Q1962.07 165.009 1956.52 165.009 Q1950.94 165.009 1947.77 161.398 Q1944.62 157.764 1944.62 151.398 Q1944.62 145.009 1947.77 141.398 Q1950.94 137.787 1956.52 137.787 Z\" fill=\"#000000\" fill-rule=\"evenodd\" fill-opacity=\"1\" /><path clip-path=\"url(#clip340)\" d=\"M1973 138.412 L1977.26 138.412 L1982.58 158.643 L1987.88 138.412 L1992.91 138.412 L1998.23 158.643 L2003.53 138.412 L2007.79 138.412 L2001.01 164.338 L1995.99 164.338 L1990.41 143.088 L1984.81 164.338 L1979.78 164.338 L1973 138.412 Z\" fill=\"#000000\" fill-rule=\"evenodd\" fill-opacity=\"1\" /><path clip-path=\"url(#clip340)\" d=\"M2036.43 150.31 L2036.43 152.393 L2016.84 152.393 Q2017.12 156.791 2019.48 159.106 Q2021.87 161.398 2026.1 161.398 Q2028.56 161.398 2030.85 160.796 Q2033.16 160.194 2035.43 158.99 L2035.43 163.018 Q2033.14 163.99 2030.73 164.5 Q2028.32 165.009 2025.85 165.009 Q2019.64 165.009 2016.01 161.398 Q2012.4 157.787 2012.4 151.629 Q2012.4 145.264 2015.82 141.537 Q2019.27 137.787 2025.11 137.787 Q2030.34 137.787 2033.37 141.166 Q2036.43 144.523 2036.43 150.31 M2032.17 149.06 Q2032.12 145.565 2030.2 143.481 Q2028.3 141.398 2025.15 141.398 Q2021.59 141.398 2019.44 143.412 Q2017.31 145.426 2016.98 149.083 L2032.17 149.06 Z\" fill=\"#000000\" fill-rule=\"evenodd\" fill-opacity=\"1\" /><path clip-path=\"url(#clip340)\" d=\"M2058.44 142.393 Q2057.72 141.977 2056.87 141.791 Q2056.03 141.583 2055.01 141.583 Q2051.4 141.583 2049.46 143.944 Q2047.54 146.282 2047.54 150.68 L2047.54 164.338 L2043.25 164.338 L2043.25 138.412 L2047.54 138.412 L2047.54 142.44 Q2048.88 140.078 2051.03 138.944 Q2053.19 137.787 2056.26 137.787 Q2056.7 137.787 2057.24 137.856 Q2057.77 137.903 2058.42 138.018 L2058.44 142.393 Z\" fill=\"#000000\" fill-rule=\"evenodd\" fill-opacity=\"1\" /><path clip-path=\"url(#clip340)\" d=\"M2096.59 151.398 Q2096.59 146.699 2094.64 144.037 Q2092.72 141.352 2089.34 141.352 Q2085.96 141.352 2084.02 144.037 Q2082.1 146.699 2082.1 151.398 Q2082.1 156.097 2084.02 158.782 Q2085.96 161.444 2089.34 161.444 Q2092.72 161.444 2094.64 158.782 Q2096.59 156.097 2096.59 151.398 M2082.1 142.347 Q2083.44 140.032 2085.48 138.921 Q2087.54 137.787 2090.38 137.787 Q2095.11 137.787 2098.05 141.537 Q2101.01 145.287 2101.01 151.398 Q2101.01 157.509 2098.05 161.259 Q2095.11 165.009 2090.38 165.009 Q2087.54 165.009 2085.48 163.898 Q2083.44 162.763 2082.1 160.449 L2082.1 164.338 L2077.81 164.338 L2077.81 128.319 L2082.1 128.319 L2082.1 142.347 Z\" fill=\"#000000\" fill-rule=\"evenodd\" fill-opacity=\"1\" /><path clip-path=\"url(#clip340)\" d=\"M2118.12 141.398 Q2114.69 141.398 2112.7 144.083 Q2110.71 146.745 2110.71 151.398 Q2110.71 156.051 2112.68 158.736 Q2114.67 161.398 2118.12 161.398 Q2121.52 161.398 2123.51 158.713 Q2125.5 156.027 2125.5 151.398 Q2125.5 146.791 2123.51 144.106 Q2121.52 141.398 2118.12 141.398 M2118.12 137.787 Q2123.67 137.787 2126.84 141.398 Q2130.01 145.009 2130.01 151.398 Q2130.01 157.764 2126.84 161.398 Q2123.67 165.009 2118.12 165.009 Q2112.54 165.009 2109.37 161.398 Q2106.22 157.764 2106.22 151.398 Q2106.22 145.009 2109.37 141.398 Q2112.54 137.787 2118.12 137.787 Z\" fill=\"#000000\" fill-rule=\"evenodd\" fill-opacity=\"1\" /><path clip-path=\"url(#clip340)\" d=\"M2136.63 154.106 L2136.63 138.412 L2140.89 138.412 L2140.89 153.944 Q2140.89 157.625 2142.33 159.476 Q2143.76 161.305 2146.63 161.305 Q2150.08 161.305 2152.07 159.106 Q2154.09 156.907 2154.09 153.111 L2154.09 138.412 L2158.35 138.412 L2158.35 164.338 L2154.09 164.338 L2154.09 160.356 Q2152.54 162.717 2150.48 163.875 Q2148.44 165.009 2145.73 165.009 Q2141.26 165.009 2138.95 162.231 Q2136.63 159.453 2136.63 154.106 M2147.35 137.787 L2147.35 137.787 Z\" fill=\"#000000\" fill-rule=\"evenodd\" fill-opacity=\"1\" /><path clip-path=\"url(#clip340)\" d=\"M2188.67 148.689 L2188.67 164.338 L2184.41 164.338 L2184.41 148.828 Q2184.41 145.148 2182.98 143.319 Q2181.54 141.49 2178.67 141.49 Q2175.22 141.49 2173.23 143.69 Q2171.24 145.889 2171.24 149.685 L2171.24 164.338 L2166.96 164.338 L2166.96 138.412 L2171.24 138.412 L2171.24 142.44 Q2172.77 140.102 2174.83 138.944 Q2176.91 137.787 2179.62 137.787 Q2184.09 137.787 2186.38 140.565 Q2188.67 143.319 2188.67 148.689 Z\" fill=\"#000000\" fill-rule=\"evenodd\" fill-opacity=\"1\" /><path clip-path=\"url(#clip340)\" d=\"M2214.23 142.347 L2214.23 128.319 L2218.49 128.319 L2218.49 164.338 L2214.23 164.338 L2214.23 160.449 Q2212.88 162.763 2210.82 163.898 Q2208.79 165.009 2205.92 165.009 Q2201.22 165.009 2198.25 161.259 Q2195.31 157.509 2195.31 151.398 Q2195.31 145.287 2198.25 141.537 Q2201.22 137.787 2205.92 137.787 Q2208.79 137.787 2210.82 138.921 Q2212.88 140.032 2214.23 142.347 M2199.71 151.398 Q2199.71 156.097 2201.63 158.782 Q2203.58 161.444 2206.96 161.444 Q2210.34 161.444 2212.28 158.782 Q2214.23 156.097 2214.23 151.398 Q2214.23 146.699 2212.28 144.037 Q2210.34 141.352 2206.96 141.352 Q2203.58 141.352 2201.63 144.037 Q2199.71 146.699 2199.71 151.398 Z\" fill=\"#000000\" fill-rule=\"evenodd\" fill-opacity=\"1\" /><polyline clip-path=\"url(#clip340)\" style=\"stroke:#e26f46; stroke-linecap:butt; stroke-linejoin:round; stroke-width:4; stroke-opacity:1; fill:none\" points=\"\n  1758.93,198.898 1908.39,198.898 \n  \"/>\n<path clip-path=\"url(#clip340)\" d=\"M1933.3 205.946 L1933.3 190.252 L1937.56 190.252 L1937.56 205.784 Q1937.56 209.465 1939 211.316 Q1940.43 213.145 1943.3 213.145 Q1946.75 213.145 1948.74 210.946 Q1950.76 208.747 1950.76 204.951 L1950.76 190.252 L1955.01 190.252 L1955.01 216.178 L1950.76 216.178 L1950.76 212.196 Q1949.2 214.557 1947.14 215.715 Q1945.11 216.849 1942.4 216.849 Q1937.93 216.849 1935.62 214.071 Q1933.3 211.293 1933.3 205.946 M1944.02 189.627 L1944.02 189.627 Z\" fill=\"#000000\" fill-rule=\"evenodd\" fill-opacity=\"1\" /><path clip-path=\"url(#clip340)\" d=\"M1967.91 212.289 L1967.91 226.039 L1963.63 226.039 L1963.63 190.252 L1967.91 190.252 L1967.91 194.187 Q1969.25 191.872 1971.29 190.761 Q1973.35 189.627 1976.19 189.627 Q1980.92 189.627 1983.86 193.377 Q1986.82 197.127 1986.82 203.238 Q1986.82 209.349 1983.86 213.099 Q1980.92 216.849 1976.19 216.849 Q1973.35 216.849 1971.29 215.738 Q1969.25 214.603 1967.91 212.289 M1982.4 203.238 Q1982.4 198.539 1980.45 195.877 Q1978.53 193.192 1975.15 193.192 Q1971.77 193.192 1969.83 195.877 Q1967.91 198.539 1967.91 203.238 Q1967.91 207.937 1969.83 210.622 Q1971.77 213.284 1975.15 213.284 Q1978.53 213.284 1980.45 210.622 Q1982.4 207.937 1982.4 203.238 Z\" fill=\"#000000\" fill-rule=\"evenodd\" fill-opacity=\"1\" /><path clip-path=\"url(#clip340)\" d=\"M1998 212.289 L1998 226.039 L1993.72 226.039 L1993.72 190.252 L1998 190.252 L1998 194.187 Q1999.34 191.872 2001.38 190.761 Q2003.44 189.627 2006.29 189.627 Q2011.01 189.627 2013.95 193.377 Q2016.91 197.127 2016.91 203.238 Q2016.91 209.349 2013.95 213.099 Q2011.01 216.849 2006.29 216.849 Q2003.44 216.849 2001.38 215.738 Q1999.34 214.603 1998 212.289 M2012.49 203.238 Q2012.49 198.539 2010.55 195.877 Q2008.63 193.192 2005.25 193.192 Q2001.87 193.192 1999.92 195.877 Q1998 198.539 1998 203.238 Q1998 207.937 1999.92 210.622 Q2001.87 213.284 2005.25 213.284 Q2008.63 213.284 2010.55 210.622 Q2012.49 207.937 2012.49 203.238 Z\" fill=\"#000000\" fill-rule=\"evenodd\" fill-opacity=\"1\" /><path clip-path=\"url(#clip340)\" d=\"M2046.15 202.15 L2046.15 204.233 L2026.56 204.233 Q2026.84 208.631 2029.2 210.946 Q2031.59 213.238 2035.82 213.238 Q2038.28 213.238 2040.57 212.636 Q2042.88 212.034 2045.15 210.83 L2045.15 214.858 Q2042.86 215.83 2040.45 216.34 Q2038.05 216.849 2035.57 216.849 Q2029.37 216.849 2025.73 213.238 Q2022.12 209.627 2022.12 203.469 Q2022.12 197.104 2025.55 193.377 Q2029 189.627 2034.83 189.627 Q2040.06 189.627 2043.09 193.006 Q2046.15 196.363 2046.15 202.15 M2041.89 200.9 Q2041.84 197.405 2039.92 195.321 Q2038.02 193.238 2034.87 193.238 Q2031.31 193.238 2029.16 195.252 Q2027.03 197.266 2026.7 200.923 L2041.89 200.9 Z\" fill=\"#000000\" fill-rule=\"evenodd\" fill-opacity=\"1\" /><path clip-path=\"url(#clip340)\" d=\"M2068.16 194.233 Q2067.44 193.817 2066.59 193.631 Q2065.75 193.423 2064.74 193.423 Q2061.12 193.423 2059.18 195.784 Q2057.26 198.122 2057.26 202.52 L2057.26 216.178 L2052.98 216.178 L2052.98 190.252 L2057.26 190.252 L2057.26 194.28 Q2058.6 191.918 2060.75 190.784 Q2062.91 189.627 2065.99 189.627 Q2066.43 189.627 2066.96 189.696 Q2067.49 189.743 2068.14 189.858 L2068.16 194.233 Z\" fill=\"#000000\" fill-rule=\"evenodd\" fill-opacity=\"1\" /><path clip-path=\"url(#clip340)\" d=\"M2106.31 203.238 Q2106.31 198.539 2104.37 195.877 Q2102.44 193.192 2099.06 193.192 Q2095.68 193.192 2093.74 195.877 Q2091.82 198.539 2091.82 203.238 Q2091.82 207.937 2093.74 210.622 Q2095.68 213.284 2099.06 213.284 Q2102.44 213.284 2104.37 210.622 Q2106.31 207.937 2106.31 203.238 M2091.82 194.187 Q2093.16 191.872 2095.2 190.761 Q2097.26 189.627 2100.11 189.627 Q2104.83 189.627 2107.77 193.377 Q2110.73 197.127 2110.73 203.238 Q2110.73 209.349 2107.77 213.099 Q2104.83 216.849 2100.11 216.849 Q2097.26 216.849 2095.2 215.738 Q2093.16 214.603 2091.82 212.289 L2091.82 216.178 L2087.54 216.178 L2087.54 180.159 L2091.82 180.159 L2091.82 194.187 Z\" fill=\"#000000\" fill-rule=\"evenodd\" fill-opacity=\"1\" /><path clip-path=\"url(#clip340)\" d=\"M2127.84 193.238 Q2124.41 193.238 2122.42 195.923 Q2120.43 198.585 2120.43 203.238 Q2120.43 207.891 2122.4 210.576 Q2124.39 213.238 2127.84 213.238 Q2131.24 213.238 2133.23 210.553 Q2135.22 207.867 2135.22 203.238 Q2135.22 198.631 2133.23 195.946 Q2131.24 193.238 2127.84 193.238 M2127.84 189.627 Q2133.39 189.627 2136.56 193.238 Q2139.74 196.849 2139.74 203.238 Q2139.74 209.604 2136.56 213.238 Q2133.39 216.849 2127.84 216.849 Q2122.26 216.849 2119.09 213.238 Q2115.94 209.604 2115.94 203.238 Q2115.94 196.849 2119.09 193.238 Q2122.26 189.627 2127.84 189.627 Z\" fill=\"#000000\" fill-rule=\"evenodd\" fill-opacity=\"1\" /><path clip-path=\"url(#clip340)\" d=\"M2146.36 205.946 L2146.36 190.252 L2150.62 190.252 L2150.62 205.784 Q2150.62 209.465 2152.05 211.316 Q2153.49 213.145 2156.36 213.145 Q2159.8 213.145 2161.8 210.946 Q2163.81 208.747 2163.81 204.951 L2163.81 190.252 L2168.07 190.252 L2168.07 216.178 L2163.81 216.178 L2163.81 212.196 Q2162.26 214.557 2160.2 215.715 Q2158.16 216.849 2155.45 216.849 Q2150.99 216.849 2148.67 214.071 Q2146.36 211.293 2146.36 205.946 M2157.07 189.627 L2157.07 189.627 Z\" fill=\"#000000\" fill-rule=\"evenodd\" fill-opacity=\"1\" /><path clip-path=\"url(#clip340)\" d=\"M2198.39 200.529 L2198.39 216.178 L2194.13 216.178 L2194.13 200.668 Q2194.13 196.988 2192.7 195.159 Q2191.26 193.33 2188.39 193.33 Q2184.94 193.33 2182.95 195.53 Q2180.96 197.729 2180.96 201.525 L2180.96 216.178 L2176.68 216.178 L2176.68 190.252 L2180.96 190.252 L2180.96 194.28 Q2182.49 191.942 2184.55 190.784 Q2186.63 189.627 2189.34 189.627 Q2193.81 189.627 2196.1 192.405 Q2198.39 195.159 2198.39 200.529 Z\" fill=\"#000000\" fill-rule=\"evenodd\" fill-opacity=\"1\" /><path clip-path=\"url(#clip340)\" d=\"M2223.95 194.187 L2223.95 180.159 L2228.21 180.159 L2228.21 216.178 L2223.95 216.178 L2223.95 212.289 Q2222.61 214.603 2220.55 215.738 Q2218.51 216.849 2215.64 216.849 Q2210.94 216.849 2207.98 213.099 Q2205.04 209.349 2205.04 203.238 Q2205.04 197.127 2207.98 193.377 Q2210.94 189.627 2215.64 189.627 Q2218.51 189.627 2220.55 190.761 Q2222.61 191.872 2223.95 194.187 M2209.43 203.238 Q2209.43 207.937 2211.36 210.622 Q2213.3 213.284 2216.68 213.284 Q2220.06 213.284 2222 210.622 Q2223.95 207.937 2223.95 203.238 Q2223.95 198.539 2222 195.877 Q2220.06 193.192 2216.68 193.192 Q2213.3 193.192 2211.36 195.877 Q2209.43 198.539 2209.43 203.238 Z\" fill=\"#000000\" fill-rule=\"evenodd\" fill-opacity=\"1\" /><polyline clip-path=\"url(#clip340)\" style=\"stroke:#3da44d; stroke-linecap:butt; stroke-linejoin:round; stroke-width:4; stroke-opacity:1; fill:none\" points=\"\n  1758.93,250.738 1908.39,250.738 \n  \"/>\n<path clip-path=\"url(#clip340)\" d=\"M1949.13 238.064 L1942.79 255.263 L1955.5 255.263 L1949.13 238.064 M1946.5 233.458 L1951.8 233.458 L1964.97 268.018 L1960.11 268.018 L1956.96 259.152 L1941.38 259.152 L1938.23 268.018 L1933.3 268.018 L1946.5 233.458 Z\" fill=\"#000000\" fill-rule=\"evenodd\" fill-opacity=\"1\" /><path clip-path=\"url(#clip340)\" d=\"M1961.54 233.458 L1990.78 233.458 L1990.78 237.393 L1978.51 237.393 L1978.51 268.018 L1973.81 268.018 L1973.81 237.393 L1961.54 237.393 L1961.54 233.458 Z\" fill=\"#000000\" fill-rule=\"evenodd\" fill-opacity=\"1\" /><path clip-path=\"url(#clip340)\" d=\"M1995.29 233.458 L2017.14 233.458 L2017.14 237.393 L1999.97 237.393 L1999.97 247.624 L2016.43 247.624 L2016.43 251.559 L1999.97 251.559 L1999.97 264.082 L2017.56 264.082 L2017.56 268.018 L1995.29 268.018 L1995.29 233.458 Z\" fill=\"#000000\" fill-rule=\"evenodd\" fill-opacity=\"1\" /></svg>\n"
     },
     "execution_count": 57,
     "metadata": {},
     "output_type": "execute_result"
    }
   ],
   "source": [
    "Ks = exp.(LinRange(0.0, 4, 20))\n",
    "plot(Ks, [compute_upper_Y1(df2; K=K, H =1) - compute_lower_Y0(df2; K=K, H =1) for K in Ks], xlim = (1, 6), label = \"lower bound\", lw = 3)\n",
    "plot!(Ks, [compute_lower_Y1(df2; K=K, H =1) - compute_upper_Y0(df2; K=K, H =1) for K in Ks], label = \"upper bound\", lw = 3)\n",
    "plot!(leg = :best)\n",
    "hline!([ mean(df2[df2.G .== 1, :Y1] - df2[df2.G .== 1, :Y0])], label = \"ATE\")"
   ]
  },
  {
   "cell_type": "code",
   "execution_count": null,
   "metadata": {},
   "outputs": [],
   "source": []
  },
  {
   "cell_type": "code",
   "execution_count": 193,
   "metadata": {},
   "outputs": [],
   "source": [
    "upper_bound_τ = []\n",
    "oracle_τ = []\n",
    "lower_bound_τ = []\n",
    "\n",
    "for i in 1:100\n",
    "    df2 = data_generation2(1000; K = 1, H = 1)\n",
    "    push!(upper_bound_τ, compute_upper_Y1(df2; K = 1, H = 1) - compute_lower_Y0(df2; K = 1, H = 1))\n",
    "    push!(lower_bound_τ, compute_lower_Y1(df2; K = 1, H = 1) - compute_upper_Y0(df2; K = 1, H = 1))\n",
    "    push!(oracle_τ, mean(df2[df.G.==0, :Y1] - df2[df.G.==0, :Y0]))\n",
    "end"
   ]
  },
  {
   "cell_type": "code",
   "execution_count": 194,
   "metadata": {},
   "outputs": [
    {
     "data": {
      "image/svg+xml": "<?xml version=\"1.0\" encoding=\"utf-8\"?>\n<svg xmlns=\"http://www.w3.org/2000/svg\" xmlns:xlink=\"http://www.w3.org/1999/xlink\" width=\"600\" height=\"400\" viewBox=\"0 0 2400 1600\">\n<defs>\n  <clipPath id=\"clip500\">\n    <rect x=\"0\" y=\"0\" width=\"2400\" height=\"1600\"/>\n  </clipPath>\n</defs>\n<path clip-path=\"url(#clip500)\" d=\"\nM0 1600 L2400 1600 L2400 0 L0 0  Z\n  \" fill=\"#ffffff\" fill-rule=\"evenodd\" fill-opacity=\"1\"/>\n<defs>\n  <clipPath id=\"clip501\">\n    <rect x=\"480\" y=\"0\" width=\"1681\" height=\"1600\"/>\n  </clipPath>\n</defs>\n<path clip-path=\"url(#clip500)\" d=\"\nM184.191 1486.45 L2352.76 1486.45 L2352.76 47.2441 L184.191 47.2441  Z\n  \" fill=\"#ffffff\" fill-rule=\"evenodd\" fill-opacity=\"1\"/>\n<defs>\n  <clipPath id=\"clip502\">\n    <rect x=\"184\" y=\"47\" width=\"2170\" height=\"1440\"/>\n  </clipPath>\n</defs>\n<polyline clip-path=\"url(#clip502)\" style=\"stroke:#000000; stroke-linecap:butt; stroke-linejoin:round; stroke-width:2; stroke-opacity:0.1; fill:none\" points=\"\n  496.467,1486.45 496.467,47.2441 \n  \"/>\n<polyline clip-path=\"url(#clip502)\" style=\"stroke:#000000; stroke-linecap:butt; stroke-linejoin:round; stroke-width:2; stroke-opacity:0.1; fill:none\" points=\"\n  978.971,1486.45 978.971,47.2441 \n  \"/>\n<polyline clip-path=\"url(#clip502)\" style=\"stroke:#000000; stroke-linecap:butt; stroke-linejoin:round; stroke-width:2; stroke-opacity:0.1; fill:none\" points=\"\n  1461.47,1486.45 1461.47,47.2441 \n  \"/>\n<polyline clip-path=\"url(#clip502)\" style=\"stroke:#000000; stroke-linecap:butt; stroke-linejoin:round; stroke-width:2; stroke-opacity:0.1; fill:none\" points=\"\n  1943.98,1486.45 1943.98,47.2441 \n  \"/>\n<polyline clip-path=\"url(#clip500)\" style=\"stroke:#000000; stroke-linecap:butt; stroke-linejoin:round; stroke-width:4; stroke-opacity:1; fill:none\" points=\"\n  184.191,1486.45 2352.76,1486.45 \n  \"/>\n<polyline clip-path=\"url(#clip500)\" style=\"stroke:#000000; stroke-linecap:butt; stroke-linejoin:round; stroke-width:4; stroke-opacity:1; fill:none\" points=\"\n  496.467,1486.45 496.467,1467.55 \n  \"/>\n<polyline clip-path=\"url(#clip500)\" style=\"stroke:#000000; stroke-linecap:butt; stroke-linejoin:round; stroke-width:4; stroke-opacity:1; fill:none\" points=\"\n  978.971,1486.45 978.971,1467.55 \n  \"/>\n<polyline clip-path=\"url(#clip500)\" style=\"stroke:#000000; stroke-linecap:butt; stroke-linejoin:round; stroke-width:4; stroke-opacity:1; fill:none\" points=\"\n  1461.47,1486.45 1461.47,1467.55 \n  \"/>\n<polyline clip-path=\"url(#clip500)\" style=\"stroke:#000000; stroke-linecap:butt; stroke-linejoin:round; stroke-width:4; stroke-opacity:1; fill:none\" points=\"\n  1943.98,1486.45 1943.98,1467.55 \n  \"/>\n<path clip-path=\"url(#clip500)\" d=\"M464.419 1544.91 L472.058 1544.91 L472.058 1518.55 L463.747 1520.21 L463.747 1515.95 L472.011 1514.29 L476.687 1514.29 L476.687 1544.91 L484.326 1544.91 L484.326 1548.85 L464.419 1548.85 L464.419 1544.91 Z\" fill=\"#000000\" fill-rule=\"evenodd\" fill-opacity=\"1\" /><path clip-path=\"url(#clip500)\" d=\"M493.77 1542.97 L498.655 1542.97 L498.655 1548.85 L493.77 1548.85 L493.77 1542.97 Z\" fill=\"#000000\" fill-rule=\"evenodd\" fill-opacity=\"1\" /><path clip-path=\"url(#clip500)\" d=\"M512.868 1544.91 L529.187 1544.91 L529.187 1548.85 L507.243 1548.85 L507.243 1544.91 Q509.905 1542.16 514.488 1537.53 Q519.094 1532.88 520.275 1531.53 Q522.52 1529.01 523.4 1527.27 Q524.303 1525.51 524.303 1523.82 Q524.303 1521.07 522.358 1519.33 Q520.437 1517.6 517.335 1517.6 Q515.136 1517.6 512.682 1518.36 Q510.252 1519.13 507.474 1520.68 L507.474 1515.95 Q510.298 1514.82 512.752 1514.24 Q515.205 1513.66 517.243 1513.66 Q522.613 1513.66 525.807 1516.35 Q529.002 1519.03 529.002 1523.52 Q529.002 1525.65 528.192 1527.57 Q527.404 1529.47 525.298 1532.07 Q524.719 1532.74 521.617 1535.95 Q518.516 1539.15 512.868 1544.91 Z\" fill=\"#000000\" fill-rule=\"evenodd\" fill-opacity=\"1\" /><path clip-path=\"url(#clip500)\" d=\"M946.448 1544.91 L954.087 1544.91 L954.087 1518.55 L945.777 1520.21 L945.777 1515.95 L954.041 1514.29 L958.716 1514.29 L958.716 1544.91 L966.355 1544.91 L966.355 1548.85 L946.448 1548.85 L946.448 1544.91 Z\" fill=\"#000000\" fill-rule=\"evenodd\" fill-opacity=\"1\" /><path clip-path=\"url(#clip500)\" d=\"M975.8 1542.97 L980.684 1542.97 L980.684 1548.85 L975.8 1548.85 L975.8 1542.97 Z\" fill=\"#000000\" fill-rule=\"evenodd\" fill-opacity=\"1\" /><path clip-path=\"url(#clip500)\" d=\"M1005.04 1530.21 Q1008.39 1530.93 1010.27 1533.2 Q1012.17 1535.47 1012.17 1538.8 Q1012.17 1543.92 1008.65 1546.72 Q1005.13 1549.52 998.647 1549.52 Q996.471 1549.52 994.156 1549.08 Q991.864 1548.66 989.411 1547.81 L989.411 1543.29 Q991.355 1544.43 993.67 1545.01 Q995.985 1545.58 998.508 1545.58 Q1002.91 1545.58 1005.2 1543.85 Q1007.51 1542.11 1007.51 1538.8 Q1007.51 1535.75 1005.36 1534.03 Q1003.23 1532.3 999.411 1532.3 L995.383 1532.3 L995.383 1528.45 L999.596 1528.45 Q1003.04 1528.45 1004.87 1527.09 Q1006.7 1525.7 1006.7 1523.11 Q1006.7 1520.45 1004.8 1519.03 Q1002.93 1517.6 999.411 1517.6 Q997.489 1517.6 995.29 1518.01 Q993.091 1518.43 990.452 1519.31 L990.452 1515.14 Q993.114 1514.4 995.429 1514.03 Q997.767 1513.66 999.827 1513.66 Q1005.15 1513.66 1008.25 1516.09 Q1011.36 1518.5 1011.36 1522.62 Q1011.36 1525.49 1009.71 1527.48 Q1008.07 1529.45 1005.04 1530.21 Z\" fill=\"#000000\" fill-rule=\"evenodd\" fill-opacity=\"1\" /><path clip-path=\"url(#clip500)\" d=\"M1428.38 1544.91 L1436.02 1544.91 L1436.02 1518.55 L1427.71 1520.21 L1427.71 1515.95 L1435.98 1514.29 L1440.65 1514.29 L1440.65 1544.91 L1448.29 1544.91 L1448.29 1548.85 L1428.38 1548.85 L1428.38 1544.91 Z\" fill=\"#000000\" fill-rule=\"evenodd\" fill-opacity=\"1\" /><path clip-path=\"url(#clip500)\" d=\"M1457.74 1542.97 L1462.62 1542.97 L1462.62 1548.85 L1457.74 1548.85 L1457.74 1542.97 Z\" fill=\"#000000\" fill-rule=\"evenodd\" fill-opacity=\"1\" /><path clip-path=\"url(#clip500)\" d=\"M1485.65 1518.36 L1473.85 1536.81 L1485.65 1536.81 L1485.65 1518.36 M1484.43 1514.29 L1490.31 1514.29 L1490.31 1536.81 L1495.24 1536.81 L1495.24 1540.7 L1490.31 1540.7 L1490.31 1548.85 L1485.65 1548.85 L1485.65 1540.7 L1470.05 1540.7 L1470.05 1536.19 L1484.43 1514.29 Z\" fill=\"#000000\" fill-rule=\"evenodd\" fill-opacity=\"1\" /><path clip-path=\"url(#clip500)\" d=\"M1911.63 1544.91 L1919.27 1544.91 L1919.27 1518.55 L1910.96 1520.21 L1910.96 1515.95 L1919.22 1514.29 L1923.9 1514.29 L1923.9 1544.91 L1931.54 1544.91 L1931.54 1548.85 L1911.63 1548.85 L1911.63 1544.91 Z\" fill=\"#000000\" fill-rule=\"evenodd\" fill-opacity=\"1\" /><path clip-path=\"url(#clip500)\" d=\"M1940.98 1542.97 L1945.87 1542.97 L1945.87 1548.85 L1940.98 1548.85 L1940.98 1542.97 Z\" fill=\"#000000\" fill-rule=\"evenodd\" fill-opacity=\"1\" /><path clip-path=\"url(#clip500)\" d=\"M1956.1 1514.29 L1974.45 1514.29 L1974.45 1518.22 L1960.38 1518.22 L1960.38 1526.7 Q1961.4 1526.35 1962.42 1526.19 Q1963.43 1526 1964.45 1526 Q1970.24 1526 1973.62 1529.17 Q1977 1532.34 1977 1537.76 Q1977 1543.34 1973.53 1546.44 Q1970.05 1549.52 1963.74 1549.52 Q1961.56 1549.52 1959.29 1549.15 Q1957.05 1548.78 1954.64 1548.04 L1954.64 1543.34 Q1956.72 1544.47 1958.94 1545.03 Q1961.17 1545.58 1963.64 1545.58 Q1967.65 1545.58 1969.99 1543.48 Q1972.32 1541.37 1972.32 1537.76 Q1972.32 1534.15 1969.99 1532.04 Q1967.65 1529.94 1963.64 1529.94 Q1961.77 1529.94 1959.89 1530.35 Q1958.04 1530.77 1956.1 1531.65 L1956.1 1514.29 Z\" fill=\"#000000\" fill-rule=\"evenodd\" fill-opacity=\"1\" /><polyline clip-path=\"url(#clip502)\" style=\"stroke:#000000; stroke-linecap:butt; stroke-linejoin:round; stroke-width:2; stroke-opacity:0.1; fill:none\" points=\"\n  184.191,1445.72 2352.76,1445.72 \n  \"/>\n<polyline clip-path=\"url(#clip502)\" style=\"stroke:#000000; stroke-linecap:butt; stroke-linejoin:round; stroke-width:2; stroke-opacity:0.1; fill:none\" points=\"\n  184.191,1137.14 2352.76,1137.14 \n  \"/>\n<polyline clip-path=\"url(#clip502)\" style=\"stroke:#000000; stroke-linecap:butt; stroke-linejoin:round; stroke-width:2; stroke-opacity:0.1; fill:none\" points=\"\n  184.191,828.561 2352.76,828.561 \n  \"/>\n<polyline clip-path=\"url(#clip502)\" style=\"stroke:#000000; stroke-linecap:butt; stroke-linejoin:round; stroke-width:2; stroke-opacity:0.1; fill:none\" points=\"\n  184.191,519.984 2352.76,519.984 \n  \"/>\n<polyline clip-path=\"url(#clip502)\" style=\"stroke:#000000; stroke-linecap:butt; stroke-linejoin:round; stroke-width:2; stroke-opacity:0.1; fill:none\" points=\"\n  184.191,211.407 2352.76,211.407 \n  \"/>\n<polyline clip-path=\"url(#clip500)\" style=\"stroke:#000000; stroke-linecap:butt; stroke-linejoin:round; stroke-width:4; stroke-opacity:1; fill:none\" points=\"\n  184.191,1486.45 184.191,47.2441 \n  \"/>\n<polyline clip-path=\"url(#clip500)\" style=\"stroke:#000000; stroke-linecap:butt; stroke-linejoin:round; stroke-width:4; stroke-opacity:1; fill:none\" points=\"\n  184.191,1445.72 203.088,1445.72 \n  \"/>\n<polyline clip-path=\"url(#clip500)\" style=\"stroke:#000000; stroke-linecap:butt; stroke-linejoin:round; stroke-width:4; stroke-opacity:1; fill:none\" points=\"\n  184.191,1137.14 203.088,1137.14 \n  \"/>\n<polyline clip-path=\"url(#clip500)\" style=\"stroke:#000000; stroke-linecap:butt; stroke-linejoin:round; stroke-width:4; stroke-opacity:1; fill:none\" points=\"\n  184.191,828.561 203.088,828.561 \n  \"/>\n<polyline clip-path=\"url(#clip500)\" style=\"stroke:#000000; stroke-linecap:butt; stroke-linejoin:round; stroke-width:4; stroke-opacity:1; fill:none\" points=\"\n  184.191,519.984 203.088,519.984 \n  \"/>\n<polyline clip-path=\"url(#clip500)\" style=\"stroke:#000000; stroke-linecap:butt; stroke-linejoin:round; stroke-width:4; stroke-opacity:1; fill:none\" points=\"\n  184.191,211.407 203.088,211.407 \n  \"/>\n<path clip-path=\"url(#clip500)\" d=\"M91.0151 1431.51 Q87.404 1431.51 85.5753 1435.08 Q83.7697 1438.62 83.7697 1445.75 Q83.7697 1452.86 85.5753 1456.42 Q87.404 1459.96 91.0151 1459.96 Q94.6493 1459.96 96.4548 1456.42 Q98.2835 1452.86 98.2835 1445.75 Q98.2835 1438.62 96.4548 1435.08 Q94.6493 1431.51 91.0151 1431.51 M91.0151 1427.81 Q96.8252 1427.81 99.8808 1432.42 Q102.959 1437 102.959 1445.75 Q102.959 1454.48 99.8808 1459.08 Q96.8252 1463.67 91.0151 1463.67 Q85.2049 1463.67 82.1262 1459.08 Q79.0707 1454.48 79.0707 1445.75 Q79.0707 1437 82.1262 1432.42 Q85.2049 1427.81 91.0151 1427.81 Z\" fill=\"#000000\" fill-rule=\"evenodd\" fill-opacity=\"1\" /><path clip-path=\"url(#clip500)\" d=\"M111.177 1457.12 L116.061 1457.12 L116.061 1463 L111.177 1463 L111.177 1457.12 Z\" fill=\"#000000\" fill-rule=\"evenodd\" fill-opacity=\"1\" /><path clip-path=\"url(#clip500)\" d=\"M136.246 1431.51 Q132.635 1431.51 130.807 1435.08 Q129.001 1438.62 129.001 1445.75 Q129.001 1452.86 130.807 1456.42 Q132.635 1459.96 136.246 1459.96 Q139.881 1459.96 141.686 1456.42 Q143.515 1452.86 143.515 1445.75 Q143.515 1438.62 141.686 1435.08 Q139.881 1431.51 136.246 1431.51 M136.246 1427.81 Q142.056 1427.81 145.112 1432.42 Q148.191 1437 148.191 1445.75 Q148.191 1454.48 145.112 1459.08 Q142.056 1463.67 136.246 1463.67 Q130.436 1463.67 127.357 1459.08 Q124.302 1454.48 124.302 1445.75 Q124.302 1437 127.357 1432.42 Q130.436 1427.81 136.246 1427.81 Z\" fill=\"#000000\" fill-rule=\"evenodd\" fill-opacity=\"1\" /><path clip-path=\"url(#clip500)\" d=\"M86.0382 1150.48 L102.358 1150.48 L102.358 1154.42 L80.4133 1154.42 L80.4133 1150.48 Q83.0753 1147.73 87.6586 1143.1 Q92.2651 1138.45 93.4456 1137.1 Q95.691 1134.58 96.5706 1132.84 Q97.4734 1131.09 97.4734 1129.4 Q97.4734 1126.64 95.5289 1124.9 Q93.6076 1123.17 90.5058 1123.17 Q88.3067 1123.17 85.8531 1123.93 Q83.4225 1124.7 80.6447 1126.25 L80.6447 1121.53 Q83.4688 1120.39 85.9225 1119.81 Q88.3762 1119.23 90.4132 1119.23 Q95.7836 1119.23 98.978 1121.92 Q102.172 1124.6 102.172 1129.09 Q102.172 1131.22 101.362 1133.15 Q100.575 1135.04 98.4687 1137.64 Q97.89 1138.31 94.7882 1141.53 Q91.6864 1144.72 86.0382 1150.48 Z\" fill=\"#000000\" fill-rule=\"evenodd\" fill-opacity=\"1\" /><path clip-path=\"url(#clip500)\" d=\"M112.172 1148.54 L117.057 1148.54 L117.057 1154.42 L112.172 1154.42 L112.172 1148.54 Z\" fill=\"#000000\" fill-rule=\"evenodd\" fill-opacity=\"1\" /><path clip-path=\"url(#clip500)\" d=\"M127.288 1119.86 L145.644 1119.86 L145.644 1123.79 L131.57 1123.79 L131.57 1132.27 Q132.589 1131.92 133.607 1131.76 Q134.626 1131.57 135.644 1131.57 Q141.431 1131.57 144.811 1134.74 Q148.191 1137.91 148.191 1143.33 Q148.191 1148.91 144.718 1152.01 Q141.246 1155.09 134.927 1155.09 Q132.751 1155.09 130.482 1154.72 Q128.237 1154.35 125.83 1153.61 L125.83 1148.91 Q127.913 1150.04 130.135 1150.6 Q132.357 1151.15 134.834 1151.15 Q138.839 1151.15 141.177 1149.05 Q143.515 1146.94 143.515 1143.33 Q143.515 1139.72 141.177 1137.61 Q138.839 1135.51 134.834 1135.51 Q132.959 1135.51 131.084 1135.92 Q129.232 1136.34 127.288 1137.22 L127.288 1119.86 Z\" fill=\"#000000\" fill-rule=\"evenodd\" fill-opacity=\"1\" /><path clip-path=\"url(#clip500)\" d=\"M81.0614 811.281 L99.4178 811.281 L99.4178 815.217 L85.3438 815.217 L85.3438 823.689 Q86.3623 823.342 87.3808 823.179 Q88.3993 822.994 89.4178 822.994 Q95.2049 822.994 98.5845 826.166 Q101.964 829.337 101.964 834.754 Q101.964 840.332 98.4919 843.434 Q95.0197 846.513 88.7003 846.513 Q86.5243 846.513 84.2558 846.142 Q82.0105 845.772 79.6031 845.031 L79.6031 840.332 Q81.6864 841.466 83.9086 842.022 Q86.1308 842.578 88.6077 842.578 Q92.6123 842.578 94.9502 840.471 Q97.2882 838.365 97.2882 834.754 Q97.2882 831.142 94.9502 829.036 Q92.6123 826.929 88.6077 826.929 Q86.7327 826.929 84.8577 827.346 Q83.0058 827.763 81.0614 828.642 L81.0614 811.281 Z\" fill=\"#000000\" fill-rule=\"evenodd\" fill-opacity=\"1\" /><path clip-path=\"url(#clip500)\" d=\"M111.177 839.962 L116.061 839.962 L116.061 845.841 L111.177 845.841 L111.177 839.962 Z\" fill=\"#000000\" fill-rule=\"evenodd\" fill-opacity=\"1\" /><path clip-path=\"url(#clip500)\" d=\"M136.246 814.36 Q132.635 814.36 130.807 817.925 Q129.001 821.467 129.001 828.596 Q129.001 835.703 130.807 839.267 Q132.635 842.809 136.246 842.809 Q139.881 842.809 141.686 839.267 Q143.515 835.703 143.515 828.596 Q143.515 821.467 141.686 817.925 Q139.881 814.36 136.246 814.36 M136.246 810.656 Q142.056 810.656 145.112 815.263 Q148.191 819.846 148.191 828.596 Q148.191 837.323 145.112 841.929 Q142.056 846.513 136.246 846.513 Q130.436 846.513 127.357 841.929 Q124.302 837.323 124.302 828.596 Q124.302 819.846 127.357 815.263 Q130.436 810.656 136.246 810.656 Z\" fill=\"#000000\" fill-rule=\"evenodd\" fill-opacity=\"1\" /><path clip-path=\"url(#clip500)\" d=\"M80.8299 502.704 L103.052 502.704 L103.052 504.695 L90.5058 537.264 L85.6216 537.264 L97.4271 506.639 L80.8299 506.639 L80.8299 502.704 Z\" fill=\"#000000\" fill-rule=\"evenodd\" fill-opacity=\"1\" /><path clip-path=\"url(#clip500)\" d=\"M112.172 531.385 L117.057 531.385 L117.057 537.264 L112.172 537.264 L112.172 531.385 Z\" fill=\"#000000\" fill-rule=\"evenodd\" fill-opacity=\"1\" /><path clip-path=\"url(#clip500)\" d=\"M127.288 502.704 L145.644 502.704 L145.644 506.639 L131.57 506.639 L131.57 515.112 Q132.589 514.764 133.607 514.602 Q134.626 514.417 135.644 514.417 Q141.431 514.417 144.811 517.588 Q148.191 520.76 148.191 526.176 Q148.191 531.755 144.718 534.857 Q141.246 537.936 134.927 537.936 Q132.751 537.936 130.482 537.565 Q128.237 537.195 125.83 536.454 L125.83 531.755 Q127.913 532.889 130.135 533.445 Q132.357 534 134.834 534 Q138.839 534 141.177 531.894 Q143.515 529.787 143.515 526.176 Q143.515 522.565 141.177 520.459 Q138.839 518.352 134.834 518.352 Q132.959 518.352 131.084 518.769 Q129.232 519.186 127.288 520.065 L127.288 502.704 Z\" fill=\"#000000\" fill-rule=\"evenodd\" fill-opacity=\"1\" /><path clip-path=\"url(#clip500)\" d=\"M51.6634 224.752 L59.3023 224.752 L59.3023 198.386 L50.9921 200.053 L50.9921 195.794 L59.256 194.127 L63.9319 194.127 L63.9319 224.752 L71.5707 224.752 L71.5707 228.687 L51.6634 228.687 L51.6634 224.752 Z\" fill=\"#000000\" fill-rule=\"evenodd\" fill-opacity=\"1\" /><path clip-path=\"url(#clip500)\" d=\"M91.0151 197.206 Q87.404 197.206 85.5753 200.771 Q83.7697 204.312 83.7697 211.442 Q83.7697 218.548 85.5753 222.113 Q87.404 225.655 91.0151 225.655 Q94.6493 225.655 96.4548 222.113 Q98.2835 218.548 98.2835 211.442 Q98.2835 204.312 96.4548 200.771 Q94.6493 197.206 91.0151 197.206 M91.0151 193.502 Q96.8252 193.502 99.8808 198.109 Q102.959 202.692 102.959 211.442 Q102.959 220.169 99.8808 224.775 Q96.8252 229.358 91.0151 229.358 Q85.2049 229.358 82.1262 224.775 Q79.0707 220.169 79.0707 211.442 Q79.0707 202.692 82.1262 198.109 Q85.2049 193.502 91.0151 193.502 Z\" fill=\"#000000\" fill-rule=\"evenodd\" fill-opacity=\"1\" /><path clip-path=\"url(#clip500)\" d=\"M111.177 222.808 L116.061 222.808 L116.061 228.687 L111.177 228.687 L111.177 222.808 Z\" fill=\"#000000\" fill-rule=\"evenodd\" fill-opacity=\"1\" /><path clip-path=\"url(#clip500)\" d=\"M136.246 197.206 Q132.635 197.206 130.807 200.771 Q129.001 204.312 129.001 211.442 Q129.001 218.548 130.807 222.113 Q132.635 225.655 136.246 225.655 Q139.881 225.655 141.686 222.113 Q143.515 218.548 143.515 211.442 Q143.515 204.312 141.686 200.771 Q139.881 197.206 136.246 197.206 M136.246 193.502 Q142.056 193.502 145.112 198.109 Q148.191 202.692 148.191 211.442 Q148.191 220.169 145.112 224.775 Q142.056 229.358 136.246 229.358 Q130.436 229.358 127.357 224.775 Q124.302 220.169 124.302 211.442 Q124.302 202.692 127.357 198.109 Q130.436 193.502 136.246 193.502 Z\" fill=\"#000000\" fill-rule=\"evenodd\" fill-opacity=\"1\" /><path clip-path=\"url(#clip502)\" d=\"\nM303.466 1322.28 L303.466 1445.72 L399.966 1445.72 L399.966 1322.28 L303.466 1322.28 L303.466 1322.28  Z\n  \" fill=\"#009af9\" fill-rule=\"evenodd\" fill-opacity=\"0.1\"/>\n<polyline clip-path=\"url(#clip502)\" style=\"stroke:#000000; stroke-linecap:butt; stroke-linejoin:round; stroke-width:4; stroke-opacity:0.1; fill:none\" points=\"\n  303.466,1322.28 303.466,1445.72 399.966,1445.72 399.966,1322.28 303.466,1322.28 \n  \"/>\n<path clip-path=\"url(#clip502)\" d=\"\nM399.966 1322.28 L399.966 1445.72 L496.467 1445.72 L496.467 1322.28 L399.966 1322.28 L399.966 1322.28  Z\n  \" fill=\"#009af9\" fill-rule=\"evenodd\" fill-opacity=\"0.1\"/>\n<polyline clip-path=\"url(#clip502)\" style=\"stroke:#000000; stroke-linecap:butt; stroke-linejoin:round; stroke-width:4; stroke-opacity:0.1; fill:none\" points=\"\n  399.966,1322.28 399.966,1445.72 496.467,1445.72 496.467,1322.28 399.966,1322.28 \n  \"/>\n<path clip-path=\"url(#clip502)\" d=\"\nM496.467 1445.72 L496.467 1445.72 L592.968 1445.72 L592.968 1445.72 L496.467 1445.72 L496.467 1445.72  Z\n  \" fill=\"#009af9\" fill-rule=\"evenodd\" fill-opacity=\"0.1\"/>\n<polyline clip-path=\"url(#clip502)\" style=\"stroke:#000000; stroke-linecap:butt; stroke-linejoin:round; stroke-width:4; stroke-opacity:0.1; fill:none\" points=\"\n  496.467,1445.72 496.467,1445.72 592.968,1445.72 496.467,1445.72 \n  \"/>\n<path clip-path=\"url(#clip502)\" d=\"\nM592.968 1322.28 L592.968 1445.72 L689.469 1445.72 L689.469 1322.28 L592.968 1322.28 L592.968 1322.28  Z\n  \" fill=\"#009af9\" fill-rule=\"evenodd\" fill-opacity=\"0.1\"/>\n<polyline clip-path=\"url(#clip502)\" style=\"stroke:#000000; stroke-linecap:butt; stroke-linejoin:round; stroke-width:4; stroke-opacity:0.1; fill:none\" points=\"\n  592.968,1322.28 592.968,1445.72 689.469,1445.72 689.469,1322.28 592.968,1322.28 \n  \"/>\n<path clip-path=\"url(#clip502)\" d=\"\nM689.469 1075.42 L689.469 1445.72 L785.969 1445.72 L785.969 1075.42 L689.469 1075.42 L689.469 1075.42  Z\n  \" fill=\"#009af9\" fill-rule=\"evenodd\" fill-opacity=\"0.1\"/>\n<polyline clip-path=\"url(#clip502)\" style=\"stroke:#000000; stroke-linecap:butt; stroke-linejoin:round; stroke-width:4; stroke-opacity:0.1; fill:none\" points=\"\n  689.469,1075.42 689.469,1445.72 785.969,1445.72 785.969,1075.42 689.469,1075.42 \n  \"/>\n<path clip-path=\"url(#clip502)\" d=\"\nM785.969 1075.42 L785.969 1445.72 L882.47 1445.72 L882.47 1075.42 L785.969 1075.42 L785.969 1075.42  Z\n  \" fill=\"#009af9\" fill-rule=\"evenodd\" fill-opacity=\"0.1\"/>\n<polyline clip-path=\"url(#clip502)\" style=\"stroke:#000000; stroke-linecap:butt; stroke-linejoin:round; stroke-width:4; stroke-opacity:0.1; fill:none\" points=\"\n  785.969,1075.42 785.969,1445.72 882.47,1445.72 882.47,1075.42 785.969,1075.42 \n  \"/>\n<path clip-path=\"url(#clip502)\" d=\"\nM882.47 705.131 L882.47 1445.72 L978.971 1445.72 L978.971 705.131 L882.47 705.131 L882.47 705.131  Z\n  \" fill=\"#009af9\" fill-rule=\"evenodd\" fill-opacity=\"0.1\"/>\n<polyline clip-path=\"url(#clip502)\" style=\"stroke:#000000; stroke-linecap:butt; stroke-linejoin:round; stroke-width:4; stroke-opacity:0.1; fill:none\" points=\"\n  882.47,705.131 882.47,1445.72 978.971,1445.72 978.971,705.131 882.47,705.131 \n  \"/>\n<path clip-path=\"url(#clip502)\" d=\"\nM978.971 828.561 L978.971 1445.72 L1075.47 1445.72 L1075.47 828.561 L978.971 828.561 L978.971 828.561  Z\n  \" fill=\"#009af9\" fill-rule=\"evenodd\" fill-opacity=\"0.1\"/>\n<polyline clip-path=\"url(#clip502)\" style=\"stroke:#000000; stroke-linecap:butt; stroke-linejoin:round; stroke-width:4; stroke-opacity:0.1; fill:none\" points=\"\n  978.971,828.561 978.971,1445.72 1075.47,1445.72 1075.47,828.561 978.971,828.561 \n  \"/>\n<path clip-path=\"url(#clip502)\" d=\"\nM1075.47 211.407 L1075.47 1445.72 L1171.97 1445.72 L1171.97 211.407 L1075.47 211.407 L1075.47 211.407  Z\n  \" fill=\"#009af9\" fill-rule=\"evenodd\" fill-opacity=\"0.1\"/>\n<polyline clip-path=\"url(#clip502)\" style=\"stroke:#000000; stroke-linecap:butt; stroke-linejoin:round; stroke-width:4; stroke-opacity:0.1; fill:none\" points=\"\n  1075.47,211.407 1075.47,1445.72 1171.97,1445.72 1171.97,211.407 1075.47,211.407 \n  \"/>\n<path clip-path=\"url(#clip502)\" d=\"\nM1171.97 87.9763 L1171.97 1445.72 L1268.47 1445.72 L1268.47 87.9763 L1171.97 87.9763 L1171.97 87.9763  Z\n  \" fill=\"#009af9\" fill-rule=\"evenodd\" fill-opacity=\"0.1\"/>\n<polyline clip-path=\"url(#clip502)\" style=\"stroke:#000000; stroke-linecap:butt; stroke-linejoin:round; stroke-width:4; stroke-opacity:0.1; fill:none\" points=\"\n  1171.97,87.9763 1171.97,1445.72 1268.47,1445.72 1268.47,87.9763 1171.97,87.9763 \n  \"/>\n<path clip-path=\"url(#clip502)\" d=\"\nM1268.47 828.561 L1268.47 1445.72 L1364.97 1445.72 L1364.97 828.561 L1268.47 828.561 L1268.47 828.561  Z\n  \" fill=\"#009af9\" fill-rule=\"evenodd\" fill-opacity=\"0.1\"/>\n<polyline clip-path=\"url(#clip502)\" style=\"stroke:#000000; stroke-linecap:butt; stroke-linejoin:round; stroke-width:4; stroke-opacity:0.1; fill:none\" points=\"\n  1268.47,828.561 1268.47,1445.72 1364.97,1445.72 1364.97,828.561 1268.47,828.561 \n  \"/>\n<path clip-path=\"url(#clip502)\" d=\"\nM1364.97 211.407 L1364.97 1445.72 L1461.47 1445.72 L1461.47 211.407 L1364.97 211.407 L1364.97 211.407  Z\n  \" fill=\"#009af9\" fill-rule=\"evenodd\" fill-opacity=\"0.1\"/>\n<polyline clip-path=\"url(#clip502)\" style=\"stroke:#000000; stroke-linecap:butt; stroke-linejoin:round; stroke-width:4; stroke-opacity:0.1; fill:none\" points=\"\n  1364.97,211.407 1364.97,1445.72 1461.47,1445.72 1461.47,211.407 1364.97,211.407 \n  \"/>\n<path clip-path=\"url(#clip502)\" d=\"\nM1461.47 87.9763 L1461.47 1445.72 L1557.98 1445.72 L1557.98 87.9763 L1461.47 87.9763 L1461.47 87.9763  Z\n  \" fill=\"#009af9\" fill-rule=\"evenodd\" fill-opacity=\"0.1\"/>\n<polyline clip-path=\"url(#clip502)\" style=\"stroke:#000000; stroke-linecap:butt; stroke-linejoin:round; stroke-width:4; stroke-opacity:0.1; fill:none\" points=\"\n  1461.47,87.9763 1461.47,1445.72 1557.98,1445.72 1557.98,87.9763 1461.47,87.9763 \n  \"/>\n<path clip-path=\"url(#clip502)\" d=\"\nM1557.98 334.838 L1557.98 1445.72 L1654.48 1445.72 L1654.48 334.838 L1557.98 334.838 L1557.98 334.838  Z\n  \" fill=\"#009af9\" fill-rule=\"evenodd\" fill-opacity=\"0.1\"/>\n<polyline clip-path=\"url(#clip502)\" style=\"stroke:#000000; stroke-linecap:butt; stroke-linejoin:round; stroke-width:4; stroke-opacity:0.1; fill:none\" points=\"\n  1557.98,334.838 1557.98,1445.72 1654.48,1445.72 1654.48,334.838 1557.98,334.838 \n  \"/>\n<path clip-path=\"url(#clip502)\" d=\"\nM1654.48 334.838 L1654.48 1445.72 L1750.98 1445.72 L1750.98 334.838 L1654.48 334.838 L1654.48 334.838  Z\n  \" fill=\"#009af9\" fill-rule=\"evenodd\" fill-opacity=\"0.1\"/>\n<polyline clip-path=\"url(#clip502)\" style=\"stroke:#000000; stroke-linecap:butt; stroke-linejoin:round; stroke-width:4; stroke-opacity:0.1; fill:none\" points=\"\n  1654.48,334.838 1654.48,1445.72 1750.98,1445.72 1750.98,334.838 1654.48,334.838 \n  \"/>\n<path clip-path=\"url(#clip502)\" d=\"\nM1750.98 951.992 L1750.98 1445.72 L1847.48 1445.72 L1847.48 951.992 L1750.98 951.992 L1750.98 951.992  Z\n  \" fill=\"#009af9\" fill-rule=\"evenodd\" fill-opacity=\"0.1\"/>\n<polyline clip-path=\"url(#clip502)\" style=\"stroke:#000000; stroke-linecap:butt; stroke-linejoin:round; stroke-width:4; stroke-opacity:0.1; fill:none\" points=\"\n  1750.98,951.992 1750.98,1445.72 1847.48,1445.72 1847.48,951.992 1750.98,951.992 \n  \"/>\n<path clip-path=\"url(#clip502)\" d=\"\nM1847.48 705.131 L1847.48 1445.72 L1943.98 1445.72 L1943.98 705.131 L1847.48 705.131 L1847.48 705.131  Z\n  \" fill=\"#009af9\" fill-rule=\"evenodd\" fill-opacity=\"0.1\"/>\n<polyline clip-path=\"url(#clip502)\" style=\"stroke:#000000; stroke-linecap:butt; stroke-linejoin:round; stroke-width:4; stroke-opacity:0.1; fill:none\" points=\"\n  1847.48,705.131 1847.48,1445.72 1943.98,1445.72 1943.98,705.131 1847.48,705.131 \n  \"/>\n<path clip-path=\"url(#clip502)\" d=\"\nM1943.98 1198.85 L1943.98 1445.72 L2040.48 1445.72 L2040.48 1198.85 L1943.98 1198.85 L1943.98 1198.85  Z\n  \" fill=\"#009af9\" fill-rule=\"evenodd\" fill-opacity=\"0.1\"/>\n<polyline clip-path=\"url(#clip502)\" style=\"stroke:#000000; stroke-linecap:butt; stroke-linejoin:round; stroke-width:4; stroke-opacity:0.1; fill:none\" points=\"\n  1943.98,1198.85 1943.98,1445.72 2040.48,1445.72 2040.48,1198.85 1943.98,1198.85 \n  \"/>\n<path clip-path=\"url(#clip502)\" d=\"\nM2040.48 1322.28 L2040.48 1445.72 L2136.98 1445.72 L2136.98 1322.28 L2040.48 1322.28 L2040.48 1322.28  Z\n  \" fill=\"#009af9\" fill-rule=\"evenodd\" fill-opacity=\"0.1\"/>\n<polyline clip-path=\"url(#clip502)\" style=\"stroke:#000000; stroke-linecap:butt; stroke-linejoin:round; stroke-width:4; stroke-opacity:0.1; fill:none\" points=\"\n  2040.48,1322.28 2040.48,1445.72 2136.98,1445.72 2136.98,1322.28 2040.48,1322.28 \n  \"/>\n<path clip-path=\"url(#clip502)\" d=\"\nM2136.98 1198.85 L2136.98 1445.72 L2233.48 1445.72 L2233.48 1198.85 L2136.98 1198.85 L2136.98 1198.85  Z\n  \" fill=\"#009af9\" fill-rule=\"evenodd\" fill-opacity=\"0.1\"/>\n<polyline clip-path=\"url(#clip502)\" style=\"stroke:#000000; stroke-linecap:butt; stroke-linejoin:round; stroke-width:4; stroke-opacity:0.1; fill:none\" points=\"\n  2136.98,1198.85 2136.98,1445.72 2233.48,1445.72 2233.48,1198.85 2136.98,1198.85 \n  \"/>\n<circle clip-path=\"url(#clip502)\" style=\"fill:#009af9; stroke:none; fill-opacity:0\" cx=\"351.716\" cy=\"1322.28\" r=\"2\"/>\n<circle clip-path=\"url(#clip502)\" style=\"fill:#009af9; stroke:none; fill-opacity:0\" cx=\"448.217\" cy=\"1322.28\" r=\"2\"/>\n<circle clip-path=\"url(#clip502)\" style=\"fill:#009af9; stroke:none; fill-opacity:0\" cx=\"544.718\" cy=\"1445.72\" r=\"2\"/>\n<circle clip-path=\"url(#clip502)\" style=\"fill:#009af9; stroke:none; fill-opacity:0\" cx=\"641.218\" cy=\"1322.28\" r=\"2\"/>\n<circle clip-path=\"url(#clip502)\" style=\"fill:#009af9; stroke:none; fill-opacity:0\" cx=\"737.719\" cy=\"1075.42\" r=\"2\"/>\n<circle clip-path=\"url(#clip502)\" style=\"fill:#009af9; stroke:none; fill-opacity:0\" cx=\"834.22\" cy=\"1075.42\" r=\"2\"/>\n<circle clip-path=\"url(#clip502)\" style=\"fill:#009af9; stroke:none; fill-opacity:0\" cx=\"930.721\" cy=\"705.131\" r=\"2\"/>\n<circle clip-path=\"url(#clip502)\" style=\"fill:#009af9; stroke:none; fill-opacity:0\" cx=\"1027.22\" cy=\"828.561\" r=\"2\"/>\n<circle clip-path=\"url(#clip502)\" style=\"fill:#009af9; stroke:none; fill-opacity:0\" cx=\"1123.72\" cy=\"211.407\" r=\"2\"/>\n<circle clip-path=\"url(#clip502)\" style=\"fill:#009af9; stroke:none; fill-opacity:0\" cx=\"1220.22\" cy=\"87.9763\" r=\"2\"/>\n<circle clip-path=\"url(#clip502)\" style=\"fill:#009af9; stroke:none; fill-opacity:0\" cx=\"1316.72\" cy=\"828.561\" r=\"2\"/>\n<circle clip-path=\"url(#clip502)\" style=\"fill:#009af9; stroke:none; fill-opacity:0\" cx=\"1413.22\" cy=\"211.407\" r=\"2\"/>\n<circle clip-path=\"url(#clip502)\" style=\"fill:#009af9; stroke:none; fill-opacity:0\" cx=\"1509.73\" cy=\"87.9763\" r=\"2\"/>\n<circle clip-path=\"url(#clip502)\" style=\"fill:#009af9; stroke:none; fill-opacity:0\" cx=\"1606.23\" cy=\"334.838\" r=\"2\"/>\n<circle clip-path=\"url(#clip502)\" style=\"fill:#009af9; stroke:none; fill-opacity:0\" cx=\"1702.73\" cy=\"334.838\" r=\"2\"/>\n<circle clip-path=\"url(#clip502)\" style=\"fill:#009af9; stroke:none; fill-opacity:0\" cx=\"1799.23\" cy=\"951.992\" r=\"2\"/>\n<circle clip-path=\"url(#clip502)\" style=\"fill:#009af9; stroke:none; fill-opacity:0\" cx=\"1895.73\" cy=\"705.131\" r=\"2\"/>\n<circle clip-path=\"url(#clip502)\" style=\"fill:#009af9; stroke:none; fill-opacity:0\" cx=\"1992.23\" cy=\"1198.85\" r=\"2\"/>\n<circle clip-path=\"url(#clip502)\" style=\"fill:#009af9; stroke:none; fill-opacity:0\" cx=\"2088.73\" cy=\"1322.28\" r=\"2\"/>\n<circle clip-path=\"url(#clip502)\" style=\"fill:#009af9; stroke:none; fill-opacity:0\" cx=\"2185.23\" cy=\"1198.85\" r=\"2\"/>\n<path clip-path=\"url(#clip500)\" d=\"\nM1744.61 198.898 L2280.47 198.898 L2280.47 95.2176 L1744.61 95.2176  Z\n  \" fill=\"#ffffff\" fill-rule=\"evenodd\" fill-opacity=\"1\"/>\n<polyline clip-path=\"url(#clip500)\" style=\"stroke:#000000; stroke-linecap:butt; stroke-linejoin:round; stroke-width:4; stroke-opacity:1; fill:none\" points=\"\n  1744.61,198.898 2280.47,198.898 2280.47,95.2176 1744.61,95.2176 1744.61,198.898 \n  \"/>\n<path clip-path=\"url(#clip500)\" d=\"\nM1768.71 167.794 L1913.28 167.794 L1913.28 126.322 L1768.71 126.322 L1768.71 167.794  Z\n  \" fill=\"#009af9\" fill-rule=\"evenodd\" fill-opacity=\"0.1\"/>\n<polyline clip-path=\"url(#clip500)\" style=\"stroke:#000000; stroke-linecap:butt; stroke-linejoin:round; stroke-width:4; stroke-opacity:1; fill:none\" points=\"\n  1768.71,167.794 1913.28,167.794 1913.28,126.322 1768.71,126.322 1768.71,167.794 \n  \"/>\n<path clip-path=\"url(#clip500)\" d=\"M1937.37 154.106 L1937.37 138.412 L1941.63 138.412 L1941.63 153.944 Q1941.63 157.625 1943.07 159.476 Q1944.5 161.305 1947.37 161.305 Q1950.82 161.305 1952.81 159.106 Q1954.83 156.907 1954.83 153.111 L1954.83 138.412 L1959.09 138.412 L1959.09 164.338 L1954.83 164.338 L1954.83 160.356 Q1953.28 162.717 1951.22 163.875 Q1949.18 165.009 1946.47 165.009 Q1942 165.009 1939.69 162.231 Q1937.37 159.453 1937.37 154.106 M1948.09 137.787 L1948.09 137.787 Z\" fill=\"#000000\" fill-rule=\"evenodd\" fill-opacity=\"1\" /><path clip-path=\"url(#clip500)\" d=\"M1971.98 160.449 L1971.98 174.199 L1967.7 174.199 L1967.7 138.412 L1971.98 138.412 L1971.98 142.347 Q1973.32 140.032 1975.36 138.921 Q1977.42 137.787 1980.27 137.787 Q1984.99 137.787 1987.93 141.537 Q1990.89 145.287 1990.89 151.398 Q1990.89 157.509 1987.93 161.259 Q1984.99 165.009 1980.27 165.009 Q1977.42 165.009 1975.36 163.898 Q1973.32 162.763 1971.98 160.449 M1986.47 151.398 Q1986.47 146.699 1984.53 144.037 Q1982.61 141.352 1979.23 141.352 Q1975.85 141.352 1973.9 144.037 Q1971.98 146.699 1971.98 151.398 Q1971.98 156.097 1973.9 158.782 Q1975.85 161.444 1979.23 161.444 Q1982.61 161.444 1984.53 158.782 Q1986.47 156.097 1986.47 151.398 Z\" fill=\"#000000\" fill-rule=\"evenodd\" fill-opacity=\"1\" /><path clip-path=\"url(#clip500)\" d=\"M2002.07 160.449 L2002.07 174.199 L1997.79 174.199 L1997.79 138.412 L2002.07 138.412 L2002.07 142.347 Q2003.42 140.032 2005.45 138.921 Q2007.51 137.787 2010.36 137.787 Q2015.08 137.787 2018.02 141.537 Q2020.98 145.287 2020.98 151.398 Q2020.98 157.509 2018.02 161.259 Q2015.08 165.009 2010.36 165.009 Q2007.51 165.009 2005.45 163.898 Q2003.42 162.763 2002.07 160.449 M2016.56 151.398 Q2016.56 146.699 2014.62 144.037 Q2012.7 141.352 2009.32 141.352 Q2005.94 141.352 2003.99 144.037 Q2002.07 146.699 2002.07 151.398 Q2002.07 156.097 2003.99 158.782 Q2005.94 161.444 2009.32 161.444 Q2012.7 161.444 2014.62 158.782 Q2016.56 156.097 2016.56 151.398 Z\" fill=\"#000000\" fill-rule=\"evenodd\" fill-opacity=\"1\" /><path clip-path=\"url(#clip500)\" d=\"M2050.22 150.31 L2050.22 152.393 L2030.64 152.393 Q2030.92 156.791 2033.28 159.106 Q2035.66 161.398 2039.9 161.398 Q2042.35 161.398 2044.64 160.796 Q2046.96 160.194 2049.23 158.99 L2049.23 163.018 Q2046.93 163.99 2044.53 164.5 Q2042.12 165.009 2039.64 165.009 Q2033.44 165.009 2029.8 161.398 Q2026.19 157.787 2026.19 151.629 Q2026.19 145.264 2029.62 141.537 Q2033.07 137.787 2038.9 137.787 Q2044.13 137.787 2047.17 141.166 Q2050.22 144.523 2050.22 150.31 M2045.96 149.06 Q2045.92 145.565 2043.99 143.481 Q2042.1 141.398 2038.95 141.398 Q2035.38 141.398 2033.23 143.412 Q2031.1 145.426 2030.78 149.083 L2045.96 149.06 Z\" fill=\"#000000\" fill-rule=\"evenodd\" fill-opacity=\"1\" /><path clip-path=\"url(#clip500)\" d=\"M2072.23 142.393 Q2071.52 141.977 2070.66 141.791 Q2069.83 141.583 2068.81 141.583 Q2065.2 141.583 2063.25 143.944 Q2061.33 146.282 2061.33 150.68 L2061.33 164.338 L2057.05 164.338 L2057.05 138.412 L2061.33 138.412 L2061.33 142.44 Q2062.67 140.078 2064.83 138.944 Q2066.98 137.787 2070.06 137.787 Q2070.5 137.787 2071.03 137.856 Q2071.56 137.903 2072.21 138.018 L2072.23 142.393 Z\" fill=\"#000000\" fill-rule=\"evenodd\" fill-opacity=\"1\" /><path clip-path=\"url(#clip500)\" d=\"M2110.38 151.398 Q2110.38 146.699 2108.44 144.037 Q2106.52 141.352 2103.14 141.352 Q2099.76 141.352 2097.81 144.037 Q2095.89 146.699 2095.89 151.398 Q2095.89 156.097 2097.81 158.782 Q2099.76 161.444 2103.14 161.444 Q2106.52 161.444 2108.44 158.782 Q2110.38 156.097 2110.38 151.398 M2095.89 142.347 Q2097.23 140.032 2099.27 138.921 Q2101.33 137.787 2104.18 137.787 Q2108.9 137.787 2111.84 141.537 Q2114.8 145.287 2114.8 151.398 Q2114.8 157.509 2111.84 161.259 Q2108.9 165.009 2104.18 165.009 Q2101.33 165.009 2099.27 163.898 Q2097.23 162.763 2095.89 160.449 L2095.89 164.338 L2091.61 164.338 L2091.61 128.319 L2095.89 128.319 L2095.89 142.347 Z\" fill=\"#000000\" fill-rule=\"evenodd\" fill-opacity=\"1\" /><path clip-path=\"url(#clip500)\" d=\"M2131.91 141.398 Q2128.48 141.398 2126.49 144.083 Q2124.5 146.745 2124.5 151.398 Q2124.5 156.051 2126.47 158.736 Q2128.46 161.398 2131.91 161.398 Q2135.31 161.398 2137.3 158.713 Q2139.29 156.027 2139.29 151.398 Q2139.29 146.791 2137.3 144.106 Q2135.31 141.398 2131.91 141.398 M2131.91 137.787 Q2137.47 137.787 2140.64 141.398 Q2143.81 145.009 2143.81 151.398 Q2143.81 157.764 2140.64 161.398 Q2137.47 165.009 2131.91 165.009 Q2126.33 165.009 2123.16 161.398 Q2120.01 157.764 2120.01 151.398 Q2120.01 145.009 2123.16 141.398 Q2126.33 137.787 2131.91 137.787 Z\" fill=\"#000000\" fill-rule=\"evenodd\" fill-opacity=\"1\" /><path clip-path=\"url(#clip500)\" d=\"M2150.43 154.106 L2150.43 138.412 L2154.69 138.412 L2154.69 153.944 Q2154.69 157.625 2156.12 159.476 Q2157.56 161.305 2160.43 161.305 Q2163.88 161.305 2165.87 159.106 Q2167.88 156.907 2167.88 153.111 L2167.88 138.412 L2172.14 138.412 L2172.14 164.338 L2167.88 164.338 L2167.88 160.356 Q2166.33 162.717 2164.27 163.875 Q2162.23 165.009 2159.53 165.009 Q2155.06 165.009 2152.74 162.231 Q2150.43 159.453 2150.43 154.106 M2161.15 137.787 L2161.15 137.787 Z\" fill=\"#000000\" fill-rule=\"evenodd\" fill-opacity=\"1\" /><path clip-path=\"url(#clip500)\" d=\"M2202.47 148.689 L2202.47 164.338 L2198.21 164.338 L2198.21 148.828 Q2198.21 145.148 2196.77 143.319 Q2195.34 141.49 2192.47 141.49 Q2189.02 141.49 2187.03 143.69 Q2185.03 145.889 2185.03 149.685 L2185.03 164.338 L2180.75 164.338 L2180.75 138.412 L2185.03 138.412 L2185.03 142.44 Q2186.56 140.102 2188.62 138.944 Q2190.71 137.787 2193.41 137.787 Q2197.88 137.787 2200.17 140.565 Q2202.47 143.319 2202.47 148.689 Z\" fill=\"#000000\" fill-rule=\"evenodd\" fill-opacity=\"1\" /><path clip-path=\"url(#clip500)\" d=\"M2228.02 142.347 L2228.02 128.319 L2232.28 128.319 L2232.28 164.338 L2228.02 164.338 L2228.02 160.449 Q2226.68 162.763 2224.62 163.898 Q2222.58 165.009 2219.71 165.009 Q2215.01 165.009 2212.05 161.259 Q2209.11 157.509 2209.11 151.398 Q2209.11 145.287 2212.05 141.537 Q2215.01 137.787 2219.71 137.787 Q2222.58 137.787 2224.62 138.921 Q2226.68 140.032 2228.02 142.347 M2213.51 151.398 Q2213.51 156.097 2215.43 158.782 Q2217.37 161.444 2220.75 161.444 Q2224.13 161.444 2226.08 158.782 Q2228.02 156.097 2228.02 151.398 Q2228.02 146.699 2226.08 144.037 Q2224.13 141.352 2220.75 141.352 Q2217.37 141.352 2215.43 144.037 Q2213.51 146.699 2213.51 151.398 Z\" fill=\"#000000\" fill-rule=\"evenodd\" fill-opacity=\"1\" /></svg>\n"
     },
     "execution_count": 194,
     "metadata": {},
     "output_type": "execute_result"
    }
   ],
   "source": [
    "histogram(upper_bound_τ, bins = 20, alpha = 0.1, label = \"upper bound\")"
   ]
  },
  {
   "cell_type": "code",
   "execution_count": 195,
   "metadata": {},
   "outputs": [
    {
     "data": {
      "image/svg+xml": "<?xml version=\"1.0\" encoding=\"utf-8\"?>\n<svg xmlns=\"http://www.w3.org/2000/svg\" xmlns:xlink=\"http://www.w3.org/1999/xlink\" width=\"600\" height=\"400\" viewBox=\"0 0 2400 1600\">\n<defs>\n  <clipPath id=\"clip540\">\n    <rect x=\"0\" y=\"0\" width=\"2400\" height=\"1600\"/>\n  </clipPath>\n</defs>\n<path clip-path=\"url(#clip540)\" d=\"\nM0 1600 L2400 1600 L2400 0 L0 0  Z\n  \" fill=\"#ffffff\" fill-rule=\"evenodd\" fill-opacity=\"1\"/>\n<defs>\n  <clipPath id=\"clip541\">\n    <rect x=\"480\" y=\"0\" width=\"1681\" height=\"1600\"/>\n  </clipPath>\n</defs>\n<path clip-path=\"url(#clip540)\" d=\"\nM184.191 1486.45 L2352.76 1486.45 L2352.76 47.2441 L184.191 47.2441  Z\n  \" fill=\"#ffffff\" fill-rule=\"evenodd\" fill-opacity=\"1\"/>\n<defs>\n  <clipPath id=\"clip542\">\n    <rect x=\"184\" y=\"47\" width=\"2170\" height=\"1440\"/>\n  </clipPath>\n</defs>\n<polyline clip-path=\"url(#clip542)\" style=\"stroke:#000000; stroke-linecap:butt; stroke-linejoin:round; stroke-width:2; stroke-opacity:0.1; fill:none\" points=\"\n  496.467,1486.45 496.467,47.2441 \n  \"/>\n<polyline clip-path=\"url(#clip542)\" style=\"stroke:#000000; stroke-linecap:butt; stroke-linejoin:round; stroke-width:2; stroke-opacity:0.1; fill:none\" points=\"\n  978.971,1486.45 978.971,47.2441 \n  \"/>\n<polyline clip-path=\"url(#clip542)\" style=\"stroke:#000000; stroke-linecap:butt; stroke-linejoin:round; stroke-width:2; stroke-opacity:0.1; fill:none\" points=\"\n  1461.47,1486.45 1461.47,47.2441 \n  \"/>\n<polyline clip-path=\"url(#clip542)\" style=\"stroke:#000000; stroke-linecap:butt; stroke-linejoin:round; stroke-width:2; stroke-opacity:0.1; fill:none\" points=\"\n  1943.98,1486.45 1943.98,47.2441 \n  \"/>\n<polyline clip-path=\"url(#clip540)\" style=\"stroke:#000000; stroke-linecap:butt; stroke-linejoin:round; stroke-width:4; stroke-opacity:1; fill:none\" points=\"\n  184.191,1486.45 2352.76,1486.45 \n  \"/>\n<polyline clip-path=\"url(#clip540)\" style=\"stroke:#000000; stroke-linecap:butt; stroke-linejoin:round; stroke-width:4; stroke-opacity:1; fill:none\" points=\"\n  496.467,1486.45 496.467,1467.55 \n  \"/>\n<polyline clip-path=\"url(#clip540)\" style=\"stroke:#000000; stroke-linecap:butt; stroke-linejoin:round; stroke-width:4; stroke-opacity:1; fill:none\" points=\"\n  978.971,1486.45 978.971,1467.55 \n  \"/>\n<polyline clip-path=\"url(#clip540)\" style=\"stroke:#000000; stroke-linecap:butt; stroke-linejoin:round; stroke-width:4; stroke-opacity:1; fill:none\" points=\"\n  1461.47,1486.45 1461.47,1467.55 \n  \"/>\n<polyline clip-path=\"url(#clip540)\" style=\"stroke:#000000; stroke-linecap:butt; stroke-linejoin:round; stroke-width:4; stroke-opacity:1; fill:none\" points=\"\n  1943.98,1486.45 1943.98,1467.55 \n  \"/>\n<path clip-path=\"url(#clip540)\" d=\"M464.419 1544.91 L472.058 1544.91 L472.058 1518.55 L463.747 1520.21 L463.747 1515.95 L472.011 1514.29 L476.687 1514.29 L476.687 1544.91 L484.326 1544.91 L484.326 1548.85 L464.419 1548.85 L464.419 1544.91 Z\" fill=\"#000000\" fill-rule=\"evenodd\" fill-opacity=\"1\" /><path clip-path=\"url(#clip540)\" d=\"M493.77 1542.97 L498.655 1542.97 L498.655 1548.85 L493.77 1548.85 L493.77 1542.97 Z\" fill=\"#000000\" fill-rule=\"evenodd\" fill-opacity=\"1\" /><path clip-path=\"url(#clip540)\" d=\"M512.868 1544.91 L529.187 1544.91 L529.187 1548.85 L507.243 1548.85 L507.243 1544.91 Q509.905 1542.16 514.488 1537.53 Q519.094 1532.88 520.275 1531.53 Q522.52 1529.01 523.4 1527.27 Q524.303 1525.51 524.303 1523.82 Q524.303 1521.07 522.358 1519.33 Q520.437 1517.6 517.335 1517.6 Q515.136 1517.6 512.682 1518.36 Q510.252 1519.13 507.474 1520.68 L507.474 1515.95 Q510.298 1514.82 512.752 1514.24 Q515.205 1513.66 517.243 1513.66 Q522.613 1513.66 525.807 1516.35 Q529.002 1519.03 529.002 1523.52 Q529.002 1525.65 528.192 1527.57 Q527.404 1529.47 525.298 1532.07 Q524.719 1532.74 521.617 1535.95 Q518.516 1539.15 512.868 1544.91 Z\" fill=\"#000000\" fill-rule=\"evenodd\" fill-opacity=\"1\" /><path clip-path=\"url(#clip540)\" d=\"M946.448 1544.91 L954.087 1544.91 L954.087 1518.55 L945.777 1520.21 L945.777 1515.95 L954.041 1514.29 L958.716 1514.29 L958.716 1544.91 L966.355 1544.91 L966.355 1548.85 L946.448 1548.85 L946.448 1544.91 Z\" fill=\"#000000\" fill-rule=\"evenodd\" fill-opacity=\"1\" /><path clip-path=\"url(#clip540)\" d=\"M975.8 1542.97 L980.684 1542.97 L980.684 1548.85 L975.8 1548.85 L975.8 1542.97 Z\" fill=\"#000000\" fill-rule=\"evenodd\" fill-opacity=\"1\" /><path clip-path=\"url(#clip540)\" d=\"M1005.04 1530.21 Q1008.39 1530.93 1010.27 1533.2 Q1012.17 1535.47 1012.17 1538.8 Q1012.17 1543.92 1008.65 1546.72 Q1005.13 1549.52 998.647 1549.52 Q996.471 1549.52 994.156 1549.08 Q991.864 1548.66 989.411 1547.81 L989.411 1543.29 Q991.355 1544.43 993.67 1545.01 Q995.985 1545.58 998.508 1545.58 Q1002.91 1545.58 1005.2 1543.85 Q1007.51 1542.11 1007.51 1538.8 Q1007.51 1535.75 1005.36 1534.03 Q1003.23 1532.3 999.411 1532.3 L995.383 1532.3 L995.383 1528.45 L999.596 1528.45 Q1003.04 1528.45 1004.87 1527.09 Q1006.7 1525.7 1006.7 1523.11 Q1006.7 1520.45 1004.8 1519.03 Q1002.93 1517.6 999.411 1517.6 Q997.489 1517.6 995.29 1518.01 Q993.091 1518.43 990.452 1519.31 L990.452 1515.14 Q993.114 1514.4 995.429 1514.03 Q997.767 1513.66 999.827 1513.66 Q1005.15 1513.66 1008.25 1516.09 Q1011.36 1518.5 1011.36 1522.62 Q1011.36 1525.49 1009.71 1527.48 Q1008.07 1529.45 1005.04 1530.21 Z\" fill=\"#000000\" fill-rule=\"evenodd\" fill-opacity=\"1\" /><path clip-path=\"url(#clip540)\" d=\"M1428.38 1544.91 L1436.02 1544.91 L1436.02 1518.55 L1427.71 1520.21 L1427.71 1515.95 L1435.98 1514.29 L1440.65 1514.29 L1440.65 1544.91 L1448.29 1544.91 L1448.29 1548.85 L1428.38 1548.85 L1428.38 1544.91 Z\" fill=\"#000000\" fill-rule=\"evenodd\" fill-opacity=\"1\" /><path clip-path=\"url(#clip540)\" d=\"M1457.74 1542.97 L1462.62 1542.97 L1462.62 1548.85 L1457.74 1548.85 L1457.74 1542.97 Z\" fill=\"#000000\" fill-rule=\"evenodd\" fill-opacity=\"1\" /><path clip-path=\"url(#clip540)\" d=\"M1485.65 1518.36 L1473.85 1536.81 L1485.65 1536.81 L1485.65 1518.36 M1484.43 1514.29 L1490.31 1514.29 L1490.31 1536.81 L1495.24 1536.81 L1495.24 1540.7 L1490.31 1540.7 L1490.31 1548.85 L1485.65 1548.85 L1485.65 1540.7 L1470.05 1540.7 L1470.05 1536.19 L1484.43 1514.29 Z\" fill=\"#000000\" fill-rule=\"evenodd\" fill-opacity=\"1\" /><path clip-path=\"url(#clip540)\" d=\"M1911.63 1544.91 L1919.27 1544.91 L1919.27 1518.55 L1910.96 1520.21 L1910.96 1515.95 L1919.22 1514.29 L1923.9 1514.29 L1923.9 1544.91 L1931.54 1544.91 L1931.54 1548.85 L1911.63 1548.85 L1911.63 1544.91 Z\" fill=\"#000000\" fill-rule=\"evenodd\" fill-opacity=\"1\" /><path clip-path=\"url(#clip540)\" d=\"M1940.98 1542.97 L1945.87 1542.97 L1945.87 1548.85 L1940.98 1548.85 L1940.98 1542.97 Z\" fill=\"#000000\" fill-rule=\"evenodd\" fill-opacity=\"1\" /><path clip-path=\"url(#clip540)\" d=\"M1956.1 1514.29 L1974.45 1514.29 L1974.45 1518.22 L1960.38 1518.22 L1960.38 1526.7 Q1961.4 1526.35 1962.42 1526.19 Q1963.43 1526 1964.45 1526 Q1970.24 1526 1973.62 1529.17 Q1977 1532.34 1977 1537.76 Q1977 1543.34 1973.53 1546.44 Q1970.05 1549.52 1963.74 1549.52 Q1961.56 1549.52 1959.29 1549.15 Q1957.05 1548.78 1954.64 1548.04 L1954.64 1543.34 Q1956.72 1544.47 1958.94 1545.03 Q1961.17 1545.58 1963.64 1545.58 Q1967.65 1545.58 1969.99 1543.48 Q1972.32 1541.37 1972.32 1537.76 Q1972.32 1534.15 1969.99 1532.04 Q1967.65 1529.94 1963.64 1529.94 Q1961.77 1529.94 1959.89 1530.35 Q1958.04 1530.77 1956.1 1531.65 L1956.1 1514.29 Z\" fill=\"#000000\" fill-rule=\"evenodd\" fill-opacity=\"1\" /><polyline clip-path=\"url(#clip542)\" style=\"stroke:#000000; stroke-linecap:butt; stroke-linejoin:round; stroke-width:2; stroke-opacity:0.1; fill:none\" points=\"\n  184.191,1445.72 2352.76,1445.72 \n  \"/>\n<polyline clip-path=\"url(#clip542)\" style=\"stroke:#000000; stroke-linecap:butt; stroke-linejoin:round; stroke-width:2; stroke-opacity:0.1; fill:none\" points=\"\n  184.191,1137.14 2352.76,1137.14 \n  \"/>\n<polyline clip-path=\"url(#clip542)\" style=\"stroke:#000000; stroke-linecap:butt; stroke-linejoin:round; stroke-width:2; stroke-opacity:0.1; fill:none\" points=\"\n  184.191,828.561 2352.76,828.561 \n  \"/>\n<polyline clip-path=\"url(#clip542)\" style=\"stroke:#000000; stroke-linecap:butt; stroke-linejoin:round; stroke-width:2; stroke-opacity:0.1; fill:none\" points=\"\n  184.191,519.984 2352.76,519.984 \n  \"/>\n<polyline clip-path=\"url(#clip542)\" style=\"stroke:#000000; stroke-linecap:butt; stroke-linejoin:round; stroke-width:2; stroke-opacity:0.1; fill:none\" points=\"\n  184.191,211.407 2352.76,211.407 \n  \"/>\n<polyline clip-path=\"url(#clip540)\" style=\"stroke:#000000; stroke-linecap:butt; stroke-linejoin:round; stroke-width:4; stroke-opacity:1; fill:none\" points=\"\n  184.191,1486.45 184.191,47.2441 \n  \"/>\n<polyline clip-path=\"url(#clip540)\" style=\"stroke:#000000; stroke-linecap:butt; stroke-linejoin:round; stroke-width:4; stroke-opacity:1; fill:none\" points=\"\n  184.191,1445.72 203.088,1445.72 \n  \"/>\n<polyline clip-path=\"url(#clip540)\" style=\"stroke:#000000; stroke-linecap:butt; stroke-linejoin:round; stroke-width:4; stroke-opacity:1; fill:none\" points=\"\n  184.191,1137.14 203.088,1137.14 \n  \"/>\n<polyline clip-path=\"url(#clip540)\" style=\"stroke:#000000; stroke-linecap:butt; stroke-linejoin:round; stroke-width:4; stroke-opacity:1; fill:none\" points=\"\n  184.191,828.561 203.088,828.561 \n  \"/>\n<polyline clip-path=\"url(#clip540)\" style=\"stroke:#000000; stroke-linecap:butt; stroke-linejoin:round; stroke-width:4; stroke-opacity:1; fill:none\" points=\"\n  184.191,519.984 203.088,519.984 \n  \"/>\n<polyline clip-path=\"url(#clip540)\" style=\"stroke:#000000; stroke-linecap:butt; stroke-linejoin:round; stroke-width:4; stroke-opacity:1; fill:none\" points=\"\n  184.191,211.407 203.088,211.407 \n  \"/>\n<path clip-path=\"url(#clip540)\" d=\"M91.0151 1431.51 Q87.404 1431.51 85.5753 1435.08 Q83.7697 1438.62 83.7697 1445.75 Q83.7697 1452.86 85.5753 1456.42 Q87.404 1459.96 91.0151 1459.96 Q94.6493 1459.96 96.4548 1456.42 Q98.2835 1452.86 98.2835 1445.75 Q98.2835 1438.62 96.4548 1435.08 Q94.6493 1431.51 91.0151 1431.51 M91.0151 1427.81 Q96.8252 1427.81 99.8808 1432.42 Q102.959 1437 102.959 1445.75 Q102.959 1454.48 99.8808 1459.08 Q96.8252 1463.67 91.0151 1463.67 Q85.2049 1463.67 82.1262 1459.08 Q79.0707 1454.48 79.0707 1445.75 Q79.0707 1437 82.1262 1432.42 Q85.2049 1427.81 91.0151 1427.81 Z\" fill=\"#000000\" fill-rule=\"evenodd\" fill-opacity=\"1\" /><path clip-path=\"url(#clip540)\" d=\"M111.177 1457.12 L116.061 1457.12 L116.061 1463 L111.177 1463 L111.177 1457.12 Z\" fill=\"#000000\" fill-rule=\"evenodd\" fill-opacity=\"1\" /><path clip-path=\"url(#clip540)\" d=\"M136.246 1431.51 Q132.635 1431.51 130.807 1435.08 Q129.001 1438.62 129.001 1445.75 Q129.001 1452.86 130.807 1456.42 Q132.635 1459.96 136.246 1459.96 Q139.881 1459.96 141.686 1456.42 Q143.515 1452.86 143.515 1445.75 Q143.515 1438.62 141.686 1435.08 Q139.881 1431.51 136.246 1431.51 M136.246 1427.81 Q142.056 1427.81 145.112 1432.42 Q148.191 1437 148.191 1445.75 Q148.191 1454.48 145.112 1459.08 Q142.056 1463.67 136.246 1463.67 Q130.436 1463.67 127.357 1459.08 Q124.302 1454.48 124.302 1445.75 Q124.302 1437 127.357 1432.42 Q130.436 1427.81 136.246 1427.81 Z\" fill=\"#000000\" fill-rule=\"evenodd\" fill-opacity=\"1\" /><path clip-path=\"url(#clip540)\" d=\"M86.0382 1150.48 L102.358 1150.48 L102.358 1154.42 L80.4133 1154.42 L80.4133 1150.48 Q83.0753 1147.73 87.6586 1143.1 Q92.2651 1138.45 93.4456 1137.1 Q95.691 1134.58 96.5706 1132.84 Q97.4734 1131.09 97.4734 1129.4 Q97.4734 1126.64 95.5289 1124.9 Q93.6076 1123.17 90.5058 1123.17 Q88.3067 1123.17 85.8531 1123.93 Q83.4225 1124.7 80.6447 1126.25 L80.6447 1121.53 Q83.4688 1120.39 85.9225 1119.81 Q88.3762 1119.23 90.4132 1119.23 Q95.7836 1119.23 98.978 1121.92 Q102.172 1124.6 102.172 1129.09 Q102.172 1131.22 101.362 1133.15 Q100.575 1135.04 98.4687 1137.64 Q97.89 1138.31 94.7882 1141.53 Q91.6864 1144.72 86.0382 1150.48 Z\" fill=\"#000000\" fill-rule=\"evenodd\" fill-opacity=\"1\" /><path clip-path=\"url(#clip540)\" d=\"M112.172 1148.54 L117.057 1148.54 L117.057 1154.42 L112.172 1154.42 L112.172 1148.54 Z\" fill=\"#000000\" fill-rule=\"evenodd\" fill-opacity=\"1\" /><path clip-path=\"url(#clip540)\" d=\"M127.288 1119.86 L145.644 1119.86 L145.644 1123.79 L131.57 1123.79 L131.57 1132.27 Q132.589 1131.92 133.607 1131.76 Q134.626 1131.57 135.644 1131.57 Q141.431 1131.57 144.811 1134.74 Q148.191 1137.91 148.191 1143.33 Q148.191 1148.91 144.718 1152.01 Q141.246 1155.09 134.927 1155.09 Q132.751 1155.09 130.482 1154.72 Q128.237 1154.35 125.83 1153.61 L125.83 1148.91 Q127.913 1150.04 130.135 1150.6 Q132.357 1151.15 134.834 1151.15 Q138.839 1151.15 141.177 1149.05 Q143.515 1146.94 143.515 1143.33 Q143.515 1139.72 141.177 1137.61 Q138.839 1135.51 134.834 1135.51 Q132.959 1135.51 131.084 1135.92 Q129.232 1136.34 127.288 1137.22 L127.288 1119.86 Z\" fill=\"#000000\" fill-rule=\"evenodd\" fill-opacity=\"1\" /><path clip-path=\"url(#clip540)\" d=\"M81.0614 811.281 L99.4178 811.281 L99.4178 815.217 L85.3438 815.217 L85.3438 823.689 Q86.3623 823.342 87.3808 823.179 Q88.3993 822.994 89.4178 822.994 Q95.2049 822.994 98.5845 826.166 Q101.964 829.337 101.964 834.754 Q101.964 840.332 98.4919 843.434 Q95.0197 846.513 88.7003 846.513 Q86.5243 846.513 84.2558 846.142 Q82.0105 845.772 79.6031 845.031 L79.6031 840.332 Q81.6864 841.466 83.9086 842.022 Q86.1308 842.578 88.6077 842.578 Q92.6123 842.578 94.9502 840.471 Q97.2882 838.365 97.2882 834.754 Q97.2882 831.142 94.9502 829.036 Q92.6123 826.929 88.6077 826.929 Q86.7327 826.929 84.8577 827.346 Q83.0058 827.763 81.0614 828.642 L81.0614 811.281 Z\" fill=\"#000000\" fill-rule=\"evenodd\" fill-opacity=\"1\" /><path clip-path=\"url(#clip540)\" d=\"M111.177 839.962 L116.061 839.962 L116.061 845.841 L111.177 845.841 L111.177 839.962 Z\" fill=\"#000000\" fill-rule=\"evenodd\" fill-opacity=\"1\" /><path clip-path=\"url(#clip540)\" d=\"M136.246 814.36 Q132.635 814.36 130.807 817.925 Q129.001 821.467 129.001 828.596 Q129.001 835.703 130.807 839.267 Q132.635 842.809 136.246 842.809 Q139.881 842.809 141.686 839.267 Q143.515 835.703 143.515 828.596 Q143.515 821.467 141.686 817.925 Q139.881 814.36 136.246 814.36 M136.246 810.656 Q142.056 810.656 145.112 815.263 Q148.191 819.846 148.191 828.596 Q148.191 837.323 145.112 841.929 Q142.056 846.513 136.246 846.513 Q130.436 846.513 127.357 841.929 Q124.302 837.323 124.302 828.596 Q124.302 819.846 127.357 815.263 Q130.436 810.656 136.246 810.656 Z\" fill=\"#000000\" fill-rule=\"evenodd\" fill-opacity=\"1\" /><path clip-path=\"url(#clip540)\" d=\"M80.8299 502.704 L103.052 502.704 L103.052 504.695 L90.5058 537.264 L85.6216 537.264 L97.4271 506.639 L80.8299 506.639 L80.8299 502.704 Z\" fill=\"#000000\" fill-rule=\"evenodd\" fill-opacity=\"1\" /><path clip-path=\"url(#clip540)\" d=\"M112.172 531.385 L117.057 531.385 L117.057 537.264 L112.172 537.264 L112.172 531.385 Z\" fill=\"#000000\" fill-rule=\"evenodd\" fill-opacity=\"1\" /><path clip-path=\"url(#clip540)\" d=\"M127.288 502.704 L145.644 502.704 L145.644 506.639 L131.57 506.639 L131.57 515.112 Q132.589 514.764 133.607 514.602 Q134.626 514.417 135.644 514.417 Q141.431 514.417 144.811 517.588 Q148.191 520.76 148.191 526.176 Q148.191 531.755 144.718 534.857 Q141.246 537.936 134.927 537.936 Q132.751 537.936 130.482 537.565 Q128.237 537.195 125.83 536.454 L125.83 531.755 Q127.913 532.889 130.135 533.445 Q132.357 534 134.834 534 Q138.839 534 141.177 531.894 Q143.515 529.787 143.515 526.176 Q143.515 522.565 141.177 520.459 Q138.839 518.352 134.834 518.352 Q132.959 518.352 131.084 518.769 Q129.232 519.186 127.288 520.065 L127.288 502.704 Z\" fill=\"#000000\" fill-rule=\"evenodd\" fill-opacity=\"1\" /><path clip-path=\"url(#clip540)\" d=\"M51.6634 224.752 L59.3023 224.752 L59.3023 198.386 L50.9921 200.053 L50.9921 195.794 L59.256 194.127 L63.9319 194.127 L63.9319 224.752 L71.5707 224.752 L71.5707 228.687 L51.6634 228.687 L51.6634 224.752 Z\" fill=\"#000000\" fill-rule=\"evenodd\" fill-opacity=\"1\" /><path clip-path=\"url(#clip540)\" d=\"M91.0151 197.206 Q87.404 197.206 85.5753 200.771 Q83.7697 204.312 83.7697 211.442 Q83.7697 218.548 85.5753 222.113 Q87.404 225.655 91.0151 225.655 Q94.6493 225.655 96.4548 222.113 Q98.2835 218.548 98.2835 211.442 Q98.2835 204.312 96.4548 200.771 Q94.6493 197.206 91.0151 197.206 M91.0151 193.502 Q96.8252 193.502 99.8808 198.109 Q102.959 202.692 102.959 211.442 Q102.959 220.169 99.8808 224.775 Q96.8252 229.358 91.0151 229.358 Q85.2049 229.358 82.1262 224.775 Q79.0707 220.169 79.0707 211.442 Q79.0707 202.692 82.1262 198.109 Q85.2049 193.502 91.0151 193.502 Z\" fill=\"#000000\" fill-rule=\"evenodd\" fill-opacity=\"1\" /><path clip-path=\"url(#clip540)\" d=\"M111.177 222.808 L116.061 222.808 L116.061 228.687 L111.177 228.687 L111.177 222.808 Z\" fill=\"#000000\" fill-rule=\"evenodd\" fill-opacity=\"1\" /><path clip-path=\"url(#clip540)\" d=\"M136.246 197.206 Q132.635 197.206 130.807 200.771 Q129.001 204.312 129.001 211.442 Q129.001 218.548 130.807 222.113 Q132.635 225.655 136.246 225.655 Q139.881 225.655 141.686 222.113 Q143.515 218.548 143.515 211.442 Q143.515 204.312 141.686 200.771 Q139.881 197.206 136.246 197.206 M136.246 193.502 Q142.056 193.502 145.112 198.109 Q148.191 202.692 148.191 211.442 Q148.191 220.169 145.112 224.775 Q142.056 229.358 136.246 229.358 Q130.436 229.358 127.357 224.775 Q124.302 220.169 124.302 211.442 Q124.302 202.692 127.357 198.109 Q130.436 193.502 136.246 193.502 Z\" fill=\"#000000\" fill-rule=\"evenodd\" fill-opacity=\"1\" /><path clip-path=\"url(#clip542)\" d=\"\nM303.466 1322.28 L303.466 1445.72 L399.966 1445.72 L399.966 1322.28 L303.466 1322.28 L303.466 1322.28  Z\n  \" fill=\"#009af9\" fill-rule=\"evenodd\" fill-opacity=\"0.1\"/>\n<polyline clip-path=\"url(#clip542)\" style=\"stroke:#000000; stroke-linecap:butt; stroke-linejoin:round; stroke-width:4; stroke-opacity:0.1; fill:none\" points=\"\n  303.466,1322.28 303.466,1445.72 399.966,1445.72 399.966,1322.28 303.466,1322.28 \n  \"/>\n<path clip-path=\"url(#clip542)\" d=\"\nM399.966 1322.28 L399.966 1445.72 L496.467 1445.72 L496.467 1322.28 L399.966 1322.28 L399.966 1322.28  Z\n  \" fill=\"#009af9\" fill-rule=\"evenodd\" fill-opacity=\"0.1\"/>\n<polyline clip-path=\"url(#clip542)\" style=\"stroke:#000000; stroke-linecap:butt; stroke-linejoin:round; stroke-width:4; stroke-opacity:0.1; fill:none\" points=\"\n  399.966,1322.28 399.966,1445.72 496.467,1445.72 496.467,1322.28 399.966,1322.28 \n  \"/>\n<path clip-path=\"url(#clip542)\" d=\"\nM496.467 1445.72 L496.467 1445.72 L592.968 1445.72 L592.968 1445.72 L496.467 1445.72 L496.467 1445.72  Z\n  \" fill=\"#009af9\" fill-rule=\"evenodd\" fill-opacity=\"0.1\"/>\n<polyline clip-path=\"url(#clip542)\" style=\"stroke:#000000; stroke-linecap:butt; stroke-linejoin:round; stroke-width:4; stroke-opacity:0.1; fill:none\" points=\"\n  496.467,1445.72 496.467,1445.72 592.968,1445.72 496.467,1445.72 \n  \"/>\n<path clip-path=\"url(#clip542)\" d=\"\nM592.968 1322.28 L592.968 1445.72 L689.469 1445.72 L689.469 1322.28 L592.968 1322.28 L592.968 1322.28  Z\n  \" fill=\"#009af9\" fill-rule=\"evenodd\" fill-opacity=\"0.1\"/>\n<polyline clip-path=\"url(#clip542)\" style=\"stroke:#000000; stroke-linecap:butt; stroke-linejoin:round; stroke-width:4; stroke-opacity:0.1; fill:none\" points=\"\n  592.968,1322.28 592.968,1445.72 689.469,1445.72 689.469,1322.28 592.968,1322.28 \n  \"/>\n<path clip-path=\"url(#clip542)\" d=\"\nM689.469 1075.42 L689.469 1445.72 L785.969 1445.72 L785.969 1075.42 L689.469 1075.42 L689.469 1075.42  Z\n  \" fill=\"#009af9\" fill-rule=\"evenodd\" fill-opacity=\"0.1\"/>\n<polyline clip-path=\"url(#clip542)\" style=\"stroke:#000000; stroke-linecap:butt; stroke-linejoin:round; stroke-width:4; stroke-opacity:0.1; fill:none\" points=\"\n  689.469,1075.42 689.469,1445.72 785.969,1445.72 785.969,1075.42 689.469,1075.42 \n  \"/>\n<path clip-path=\"url(#clip542)\" d=\"\nM785.969 1075.42 L785.969 1445.72 L882.47 1445.72 L882.47 1075.42 L785.969 1075.42 L785.969 1075.42  Z\n  \" fill=\"#009af9\" fill-rule=\"evenodd\" fill-opacity=\"0.1\"/>\n<polyline clip-path=\"url(#clip542)\" style=\"stroke:#000000; stroke-linecap:butt; stroke-linejoin:round; stroke-width:4; stroke-opacity:0.1; fill:none\" points=\"\n  785.969,1075.42 785.969,1445.72 882.47,1445.72 882.47,1075.42 785.969,1075.42 \n  \"/>\n<path clip-path=\"url(#clip542)\" d=\"\nM882.47 705.131 L882.47 1445.72 L978.971 1445.72 L978.971 705.131 L882.47 705.131 L882.47 705.131  Z\n  \" fill=\"#009af9\" fill-rule=\"evenodd\" fill-opacity=\"0.1\"/>\n<polyline clip-path=\"url(#clip542)\" style=\"stroke:#000000; stroke-linecap:butt; stroke-linejoin:round; stroke-width:4; stroke-opacity:0.1; fill:none\" points=\"\n  882.47,705.131 882.47,1445.72 978.971,1445.72 978.971,705.131 882.47,705.131 \n  \"/>\n<path clip-path=\"url(#clip542)\" d=\"\nM978.971 828.561 L978.971 1445.72 L1075.47 1445.72 L1075.47 828.561 L978.971 828.561 L978.971 828.561  Z\n  \" fill=\"#009af9\" fill-rule=\"evenodd\" fill-opacity=\"0.1\"/>\n<polyline clip-path=\"url(#clip542)\" style=\"stroke:#000000; stroke-linecap:butt; stroke-linejoin:round; stroke-width:4; stroke-opacity:0.1; fill:none\" points=\"\n  978.971,828.561 978.971,1445.72 1075.47,1445.72 1075.47,828.561 978.971,828.561 \n  \"/>\n<path clip-path=\"url(#clip542)\" d=\"\nM1075.47 211.407 L1075.47 1445.72 L1171.97 1445.72 L1171.97 211.407 L1075.47 211.407 L1075.47 211.407  Z\n  \" fill=\"#009af9\" fill-rule=\"evenodd\" fill-opacity=\"0.1\"/>\n<polyline clip-path=\"url(#clip542)\" style=\"stroke:#000000; stroke-linecap:butt; stroke-linejoin:round; stroke-width:4; stroke-opacity:0.1; fill:none\" points=\"\n  1075.47,211.407 1075.47,1445.72 1171.97,1445.72 1171.97,211.407 1075.47,211.407 \n  \"/>\n<path clip-path=\"url(#clip542)\" d=\"\nM1171.97 87.9763 L1171.97 1445.72 L1268.47 1445.72 L1268.47 87.9763 L1171.97 87.9763 L1171.97 87.9763  Z\n  \" fill=\"#009af9\" fill-rule=\"evenodd\" fill-opacity=\"0.1\"/>\n<polyline clip-path=\"url(#clip542)\" style=\"stroke:#000000; stroke-linecap:butt; stroke-linejoin:round; stroke-width:4; stroke-opacity:0.1; fill:none\" points=\"\n  1171.97,87.9763 1171.97,1445.72 1268.47,1445.72 1268.47,87.9763 1171.97,87.9763 \n  \"/>\n<path clip-path=\"url(#clip542)\" d=\"\nM1268.47 828.561 L1268.47 1445.72 L1364.97 1445.72 L1364.97 828.561 L1268.47 828.561 L1268.47 828.561  Z\n  \" fill=\"#009af9\" fill-rule=\"evenodd\" fill-opacity=\"0.1\"/>\n<polyline clip-path=\"url(#clip542)\" style=\"stroke:#000000; stroke-linecap:butt; stroke-linejoin:round; stroke-width:4; stroke-opacity:0.1; fill:none\" points=\"\n  1268.47,828.561 1268.47,1445.72 1364.97,1445.72 1364.97,828.561 1268.47,828.561 \n  \"/>\n<path clip-path=\"url(#clip542)\" d=\"\nM1364.97 211.407 L1364.97 1445.72 L1461.47 1445.72 L1461.47 211.407 L1364.97 211.407 L1364.97 211.407  Z\n  \" fill=\"#009af9\" fill-rule=\"evenodd\" fill-opacity=\"0.1\"/>\n<polyline clip-path=\"url(#clip542)\" style=\"stroke:#000000; stroke-linecap:butt; stroke-linejoin:round; stroke-width:4; stroke-opacity:0.1; fill:none\" points=\"\n  1364.97,211.407 1364.97,1445.72 1461.47,1445.72 1461.47,211.407 1364.97,211.407 \n  \"/>\n<path clip-path=\"url(#clip542)\" d=\"\nM1461.47 87.9763 L1461.47 1445.72 L1557.98 1445.72 L1557.98 87.9763 L1461.47 87.9763 L1461.47 87.9763  Z\n  \" fill=\"#009af9\" fill-rule=\"evenodd\" fill-opacity=\"0.1\"/>\n<polyline clip-path=\"url(#clip542)\" style=\"stroke:#000000; stroke-linecap:butt; stroke-linejoin:round; stroke-width:4; stroke-opacity:0.1; fill:none\" points=\"\n  1461.47,87.9763 1461.47,1445.72 1557.98,1445.72 1557.98,87.9763 1461.47,87.9763 \n  \"/>\n<path clip-path=\"url(#clip542)\" d=\"\nM1557.98 334.838 L1557.98 1445.72 L1654.48 1445.72 L1654.48 334.838 L1557.98 334.838 L1557.98 334.838  Z\n  \" fill=\"#009af9\" fill-rule=\"evenodd\" fill-opacity=\"0.1\"/>\n<polyline clip-path=\"url(#clip542)\" style=\"stroke:#000000; stroke-linecap:butt; stroke-linejoin:round; stroke-width:4; stroke-opacity:0.1; fill:none\" points=\"\n  1557.98,334.838 1557.98,1445.72 1654.48,1445.72 1654.48,334.838 1557.98,334.838 \n  \"/>\n<path clip-path=\"url(#clip542)\" d=\"\nM1654.48 334.838 L1654.48 1445.72 L1750.98 1445.72 L1750.98 334.838 L1654.48 334.838 L1654.48 334.838  Z\n  \" fill=\"#009af9\" fill-rule=\"evenodd\" fill-opacity=\"0.1\"/>\n<polyline clip-path=\"url(#clip542)\" style=\"stroke:#000000; stroke-linecap:butt; stroke-linejoin:round; stroke-width:4; stroke-opacity:0.1; fill:none\" points=\"\n  1654.48,334.838 1654.48,1445.72 1750.98,1445.72 1750.98,334.838 1654.48,334.838 \n  \"/>\n<path clip-path=\"url(#clip542)\" d=\"\nM1750.98 951.992 L1750.98 1445.72 L1847.48 1445.72 L1847.48 951.992 L1750.98 951.992 L1750.98 951.992  Z\n  \" fill=\"#009af9\" fill-rule=\"evenodd\" fill-opacity=\"0.1\"/>\n<polyline clip-path=\"url(#clip542)\" style=\"stroke:#000000; stroke-linecap:butt; stroke-linejoin:round; stroke-width:4; stroke-opacity:0.1; fill:none\" points=\"\n  1750.98,951.992 1750.98,1445.72 1847.48,1445.72 1847.48,951.992 1750.98,951.992 \n  \"/>\n<path clip-path=\"url(#clip542)\" d=\"\nM1847.48 705.131 L1847.48 1445.72 L1943.98 1445.72 L1943.98 705.131 L1847.48 705.131 L1847.48 705.131  Z\n  \" fill=\"#009af9\" fill-rule=\"evenodd\" fill-opacity=\"0.1\"/>\n<polyline clip-path=\"url(#clip542)\" style=\"stroke:#000000; stroke-linecap:butt; stroke-linejoin:round; stroke-width:4; stroke-opacity:0.1; fill:none\" points=\"\n  1847.48,705.131 1847.48,1445.72 1943.98,1445.72 1943.98,705.131 1847.48,705.131 \n  \"/>\n<path clip-path=\"url(#clip542)\" d=\"\nM1943.98 1198.85 L1943.98 1445.72 L2040.48 1445.72 L2040.48 1198.85 L1943.98 1198.85 L1943.98 1198.85  Z\n  \" fill=\"#009af9\" fill-rule=\"evenodd\" fill-opacity=\"0.1\"/>\n<polyline clip-path=\"url(#clip542)\" style=\"stroke:#000000; stroke-linecap:butt; stroke-linejoin:round; stroke-width:4; stroke-opacity:0.1; fill:none\" points=\"\n  1943.98,1198.85 1943.98,1445.72 2040.48,1445.72 2040.48,1198.85 1943.98,1198.85 \n  \"/>\n<path clip-path=\"url(#clip542)\" d=\"\nM2040.48 1322.28 L2040.48 1445.72 L2136.98 1445.72 L2136.98 1322.28 L2040.48 1322.28 L2040.48 1322.28  Z\n  \" fill=\"#009af9\" fill-rule=\"evenodd\" fill-opacity=\"0.1\"/>\n<polyline clip-path=\"url(#clip542)\" style=\"stroke:#000000; stroke-linecap:butt; stroke-linejoin:round; stroke-width:4; stroke-opacity:0.1; fill:none\" points=\"\n  2040.48,1322.28 2040.48,1445.72 2136.98,1445.72 2136.98,1322.28 2040.48,1322.28 \n  \"/>\n<path clip-path=\"url(#clip542)\" d=\"\nM2136.98 1198.85 L2136.98 1445.72 L2233.48 1445.72 L2233.48 1198.85 L2136.98 1198.85 L2136.98 1198.85  Z\n  \" fill=\"#009af9\" fill-rule=\"evenodd\" fill-opacity=\"0.1\"/>\n<polyline clip-path=\"url(#clip542)\" style=\"stroke:#000000; stroke-linecap:butt; stroke-linejoin:round; stroke-width:4; stroke-opacity:0.1; fill:none\" points=\"\n  2136.98,1198.85 2136.98,1445.72 2233.48,1445.72 2233.48,1198.85 2136.98,1198.85 \n  \"/>\n<circle clip-path=\"url(#clip542)\" style=\"fill:#009af9; stroke:none; fill-opacity:0\" cx=\"351.716\" cy=\"1322.28\" r=\"2\"/>\n<circle clip-path=\"url(#clip542)\" style=\"fill:#009af9; stroke:none; fill-opacity:0\" cx=\"448.217\" cy=\"1322.28\" r=\"2\"/>\n<circle clip-path=\"url(#clip542)\" style=\"fill:#009af9; stroke:none; fill-opacity:0\" cx=\"544.718\" cy=\"1445.72\" r=\"2\"/>\n<circle clip-path=\"url(#clip542)\" style=\"fill:#009af9; stroke:none; fill-opacity:0\" cx=\"641.218\" cy=\"1322.28\" r=\"2\"/>\n<circle clip-path=\"url(#clip542)\" style=\"fill:#009af9; stroke:none; fill-opacity:0\" cx=\"737.719\" cy=\"1075.42\" r=\"2\"/>\n<circle clip-path=\"url(#clip542)\" style=\"fill:#009af9; stroke:none; fill-opacity:0\" cx=\"834.22\" cy=\"1075.42\" r=\"2\"/>\n<circle clip-path=\"url(#clip542)\" style=\"fill:#009af9; stroke:none; fill-opacity:0\" cx=\"930.721\" cy=\"705.131\" r=\"2\"/>\n<circle clip-path=\"url(#clip542)\" style=\"fill:#009af9; stroke:none; fill-opacity:0\" cx=\"1027.22\" cy=\"828.561\" r=\"2\"/>\n<circle clip-path=\"url(#clip542)\" style=\"fill:#009af9; stroke:none; fill-opacity:0\" cx=\"1123.72\" cy=\"211.407\" r=\"2\"/>\n<circle clip-path=\"url(#clip542)\" style=\"fill:#009af9; stroke:none; fill-opacity:0\" cx=\"1220.22\" cy=\"87.9763\" r=\"2\"/>\n<circle clip-path=\"url(#clip542)\" style=\"fill:#009af9; stroke:none; fill-opacity:0\" cx=\"1316.72\" cy=\"828.561\" r=\"2\"/>\n<circle clip-path=\"url(#clip542)\" style=\"fill:#009af9; stroke:none; fill-opacity:0\" cx=\"1413.22\" cy=\"211.407\" r=\"2\"/>\n<circle clip-path=\"url(#clip542)\" style=\"fill:#009af9; stroke:none; fill-opacity:0\" cx=\"1509.73\" cy=\"87.9763\" r=\"2\"/>\n<circle clip-path=\"url(#clip542)\" style=\"fill:#009af9; stroke:none; fill-opacity:0\" cx=\"1606.23\" cy=\"334.838\" r=\"2\"/>\n<circle clip-path=\"url(#clip542)\" style=\"fill:#009af9; stroke:none; fill-opacity:0\" cx=\"1702.73\" cy=\"334.838\" r=\"2\"/>\n<circle clip-path=\"url(#clip542)\" style=\"fill:#009af9; stroke:none; fill-opacity:0\" cx=\"1799.23\" cy=\"951.992\" r=\"2\"/>\n<circle clip-path=\"url(#clip542)\" style=\"fill:#009af9; stroke:none; fill-opacity:0\" cx=\"1895.73\" cy=\"705.131\" r=\"2\"/>\n<circle clip-path=\"url(#clip542)\" style=\"fill:#009af9; stroke:none; fill-opacity:0\" cx=\"1992.23\" cy=\"1198.85\" r=\"2\"/>\n<circle clip-path=\"url(#clip542)\" style=\"fill:#009af9; stroke:none; fill-opacity:0\" cx=\"2088.73\" cy=\"1322.28\" r=\"2\"/>\n<circle clip-path=\"url(#clip542)\" style=\"fill:#009af9; stroke:none; fill-opacity:0\" cx=\"2185.23\" cy=\"1198.85\" r=\"2\"/>\n<path clip-path=\"url(#clip542)\" d=\"\nM303.466 1322.28 L303.466 1445.72 L399.966 1445.72 L399.966 1322.28 L303.466 1322.28 L303.466 1322.28  Z\n  \" fill=\"#e26f46\" fill-rule=\"evenodd\" fill-opacity=\"0.1\"/>\n<polyline clip-path=\"url(#clip542)\" style=\"stroke:#000000; stroke-linecap:butt; stroke-linejoin:round; stroke-width:4; stroke-opacity:0.1; fill:none\" points=\"\n  303.466,1322.28 303.466,1445.72 399.966,1445.72 399.966,1322.28 303.466,1322.28 \n  \"/>\n<path clip-path=\"url(#clip542)\" d=\"\nM399.966 1322.28 L399.966 1445.72 L496.467 1445.72 L496.467 1322.28 L399.966 1322.28 L399.966 1322.28  Z\n  \" fill=\"#e26f46\" fill-rule=\"evenodd\" fill-opacity=\"0.1\"/>\n<polyline clip-path=\"url(#clip542)\" style=\"stroke:#000000; stroke-linecap:butt; stroke-linejoin:round; stroke-width:4; stroke-opacity:0.1; fill:none\" points=\"\n  399.966,1322.28 399.966,1445.72 496.467,1445.72 496.467,1322.28 399.966,1322.28 \n  \"/>\n<path clip-path=\"url(#clip542)\" d=\"\nM496.467 1445.72 L496.467 1445.72 L592.968 1445.72 L592.968 1445.72 L496.467 1445.72 L496.467 1445.72  Z\n  \" fill=\"#e26f46\" fill-rule=\"evenodd\" fill-opacity=\"0.1\"/>\n<polyline clip-path=\"url(#clip542)\" style=\"stroke:#000000; stroke-linecap:butt; stroke-linejoin:round; stroke-width:4; stroke-opacity:0.1; fill:none\" points=\"\n  496.467,1445.72 496.467,1445.72 592.968,1445.72 496.467,1445.72 \n  \"/>\n<path clip-path=\"url(#clip542)\" d=\"\nM592.968 1322.28 L592.968 1445.72 L689.469 1445.72 L689.469 1322.28 L592.968 1322.28 L592.968 1322.28  Z\n  \" fill=\"#e26f46\" fill-rule=\"evenodd\" fill-opacity=\"0.1\"/>\n<polyline clip-path=\"url(#clip542)\" style=\"stroke:#000000; stroke-linecap:butt; stroke-linejoin:round; stroke-width:4; stroke-opacity:0.1; fill:none\" points=\"\n  592.968,1322.28 592.968,1445.72 689.469,1445.72 689.469,1322.28 592.968,1322.28 \n  \"/>\n<path clip-path=\"url(#clip542)\" d=\"\nM689.469 1075.42 L689.469 1445.72 L785.969 1445.72 L785.969 1075.42 L689.469 1075.42 L689.469 1075.42  Z\n  \" fill=\"#e26f46\" fill-rule=\"evenodd\" fill-opacity=\"0.1\"/>\n<polyline clip-path=\"url(#clip542)\" style=\"stroke:#000000; stroke-linecap:butt; stroke-linejoin:round; stroke-width:4; stroke-opacity:0.1; fill:none\" points=\"\n  689.469,1075.42 689.469,1445.72 785.969,1445.72 785.969,1075.42 689.469,1075.42 \n  \"/>\n<path clip-path=\"url(#clip542)\" d=\"\nM785.969 1075.42 L785.969 1445.72 L882.47 1445.72 L882.47 1075.42 L785.969 1075.42 L785.969 1075.42  Z\n  \" fill=\"#e26f46\" fill-rule=\"evenodd\" fill-opacity=\"0.1\"/>\n<polyline clip-path=\"url(#clip542)\" style=\"stroke:#000000; stroke-linecap:butt; stroke-linejoin:round; stroke-width:4; stroke-opacity:0.1; fill:none\" points=\"\n  785.969,1075.42 785.969,1445.72 882.47,1445.72 882.47,1075.42 785.969,1075.42 \n  \"/>\n<path clip-path=\"url(#clip542)\" d=\"\nM882.47 705.131 L882.47 1445.72 L978.971 1445.72 L978.971 705.131 L882.47 705.131 L882.47 705.131  Z\n  \" fill=\"#e26f46\" fill-rule=\"evenodd\" fill-opacity=\"0.1\"/>\n<polyline clip-path=\"url(#clip542)\" style=\"stroke:#000000; stroke-linecap:butt; stroke-linejoin:round; stroke-width:4; stroke-opacity:0.1; fill:none\" points=\"\n  882.47,705.131 882.47,1445.72 978.971,1445.72 978.971,705.131 882.47,705.131 \n  \"/>\n<path clip-path=\"url(#clip542)\" d=\"\nM978.971 828.561 L978.971 1445.72 L1075.47 1445.72 L1075.47 828.561 L978.971 828.561 L978.971 828.561  Z\n  \" fill=\"#e26f46\" fill-rule=\"evenodd\" fill-opacity=\"0.1\"/>\n<polyline clip-path=\"url(#clip542)\" style=\"stroke:#000000; stroke-linecap:butt; stroke-linejoin:round; stroke-width:4; stroke-opacity:0.1; fill:none\" points=\"\n  978.971,828.561 978.971,1445.72 1075.47,1445.72 1075.47,828.561 978.971,828.561 \n  \"/>\n<path clip-path=\"url(#clip542)\" d=\"\nM1075.47 211.407 L1075.47 1445.72 L1171.97 1445.72 L1171.97 211.407 L1075.47 211.407 L1075.47 211.407  Z\n  \" fill=\"#e26f46\" fill-rule=\"evenodd\" fill-opacity=\"0.1\"/>\n<polyline clip-path=\"url(#clip542)\" style=\"stroke:#000000; stroke-linecap:butt; stroke-linejoin:round; stroke-width:4; stroke-opacity:0.1; fill:none\" points=\"\n  1075.47,211.407 1075.47,1445.72 1171.97,1445.72 1171.97,211.407 1075.47,211.407 \n  \"/>\n<path clip-path=\"url(#clip542)\" d=\"\nM1171.97 87.9763 L1171.97 1445.72 L1268.47 1445.72 L1268.47 87.9763 L1171.97 87.9763 L1171.97 87.9763  Z\n  \" fill=\"#e26f46\" fill-rule=\"evenodd\" fill-opacity=\"0.1\"/>\n<polyline clip-path=\"url(#clip542)\" style=\"stroke:#000000; stroke-linecap:butt; stroke-linejoin:round; stroke-width:4; stroke-opacity:0.1; fill:none\" points=\"\n  1171.97,87.9763 1171.97,1445.72 1268.47,1445.72 1268.47,87.9763 1171.97,87.9763 \n  \"/>\n<path clip-path=\"url(#clip542)\" d=\"\nM1268.47 828.561 L1268.47 1445.72 L1364.97 1445.72 L1364.97 828.561 L1268.47 828.561 L1268.47 828.561  Z\n  \" fill=\"#e26f46\" fill-rule=\"evenodd\" fill-opacity=\"0.1\"/>\n<polyline clip-path=\"url(#clip542)\" style=\"stroke:#000000; stroke-linecap:butt; stroke-linejoin:round; stroke-width:4; stroke-opacity:0.1; fill:none\" points=\"\n  1268.47,828.561 1268.47,1445.72 1364.97,1445.72 1364.97,828.561 1268.47,828.561 \n  \"/>\n<path clip-path=\"url(#clip542)\" d=\"\nM1364.97 211.407 L1364.97 1445.72 L1461.47 1445.72 L1461.47 211.407 L1364.97 211.407 L1364.97 211.407  Z\n  \" fill=\"#e26f46\" fill-rule=\"evenodd\" fill-opacity=\"0.1\"/>\n<polyline clip-path=\"url(#clip542)\" style=\"stroke:#000000; stroke-linecap:butt; stroke-linejoin:round; stroke-width:4; stroke-opacity:0.1; fill:none\" points=\"\n  1364.97,211.407 1364.97,1445.72 1461.47,1445.72 1461.47,211.407 1364.97,211.407 \n  \"/>\n<path clip-path=\"url(#clip542)\" d=\"\nM1461.47 87.9763 L1461.47 1445.72 L1557.98 1445.72 L1557.98 87.9763 L1461.47 87.9763 L1461.47 87.9763  Z\n  \" fill=\"#e26f46\" fill-rule=\"evenodd\" fill-opacity=\"0.1\"/>\n<polyline clip-path=\"url(#clip542)\" style=\"stroke:#000000; stroke-linecap:butt; stroke-linejoin:round; stroke-width:4; stroke-opacity:0.1; fill:none\" points=\"\n  1461.47,87.9763 1461.47,1445.72 1557.98,1445.72 1557.98,87.9763 1461.47,87.9763 \n  \"/>\n<path clip-path=\"url(#clip542)\" d=\"\nM1557.98 334.838 L1557.98 1445.72 L1654.48 1445.72 L1654.48 334.838 L1557.98 334.838 L1557.98 334.838  Z\n  \" fill=\"#e26f46\" fill-rule=\"evenodd\" fill-opacity=\"0.1\"/>\n<polyline clip-path=\"url(#clip542)\" style=\"stroke:#000000; stroke-linecap:butt; stroke-linejoin:round; stroke-width:4; stroke-opacity:0.1; fill:none\" points=\"\n  1557.98,334.838 1557.98,1445.72 1654.48,1445.72 1654.48,334.838 1557.98,334.838 \n  \"/>\n<path clip-path=\"url(#clip542)\" d=\"\nM1654.48 334.838 L1654.48 1445.72 L1750.98 1445.72 L1750.98 334.838 L1654.48 334.838 L1654.48 334.838  Z\n  \" fill=\"#e26f46\" fill-rule=\"evenodd\" fill-opacity=\"0.1\"/>\n<polyline clip-path=\"url(#clip542)\" style=\"stroke:#000000; stroke-linecap:butt; stroke-linejoin:round; stroke-width:4; stroke-opacity:0.1; fill:none\" points=\"\n  1654.48,334.838 1654.48,1445.72 1750.98,1445.72 1750.98,334.838 1654.48,334.838 \n  \"/>\n<path clip-path=\"url(#clip542)\" d=\"\nM1750.98 951.992 L1750.98 1445.72 L1847.48 1445.72 L1847.48 951.992 L1750.98 951.992 L1750.98 951.992  Z\n  \" fill=\"#e26f46\" fill-rule=\"evenodd\" fill-opacity=\"0.1\"/>\n<polyline clip-path=\"url(#clip542)\" style=\"stroke:#000000; stroke-linecap:butt; stroke-linejoin:round; stroke-width:4; stroke-opacity:0.1; fill:none\" points=\"\n  1750.98,951.992 1750.98,1445.72 1847.48,1445.72 1847.48,951.992 1750.98,951.992 \n  \"/>\n<path clip-path=\"url(#clip542)\" d=\"\nM1847.48 705.131 L1847.48 1445.72 L1943.98 1445.72 L1943.98 705.131 L1847.48 705.131 L1847.48 705.131  Z\n  \" fill=\"#e26f46\" fill-rule=\"evenodd\" fill-opacity=\"0.1\"/>\n<polyline clip-path=\"url(#clip542)\" style=\"stroke:#000000; stroke-linecap:butt; stroke-linejoin:round; stroke-width:4; stroke-opacity:0.1; fill:none\" points=\"\n  1847.48,705.131 1847.48,1445.72 1943.98,1445.72 1943.98,705.131 1847.48,705.131 \n  \"/>\n<path clip-path=\"url(#clip542)\" d=\"\nM1943.98 1198.85 L1943.98 1445.72 L2040.48 1445.72 L2040.48 1198.85 L1943.98 1198.85 L1943.98 1198.85  Z\n  \" fill=\"#e26f46\" fill-rule=\"evenodd\" fill-opacity=\"0.1\"/>\n<polyline clip-path=\"url(#clip542)\" style=\"stroke:#000000; stroke-linecap:butt; stroke-linejoin:round; stroke-width:4; stroke-opacity:0.1; fill:none\" points=\"\n  1943.98,1198.85 1943.98,1445.72 2040.48,1445.72 2040.48,1198.85 1943.98,1198.85 \n  \"/>\n<path clip-path=\"url(#clip542)\" d=\"\nM2040.48 1322.28 L2040.48 1445.72 L2136.98 1445.72 L2136.98 1322.28 L2040.48 1322.28 L2040.48 1322.28  Z\n  \" fill=\"#e26f46\" fill-rule=\"evenodd\" fill-opacity=\"0.1\"/>\n<polyline clip-path=\"url(#clip542)\" style=\"stroke:#000000; stroke-linecap:butt; stroke-linejoin:round; stroke-width:4; stroke-opacity:0.1; fill:none\" points=\"\n  2040.48,1322.28 2040.48,1445.72 2136.98,1445.72 2136.98,1322.28 2040.48,1322.28 \n  \"/>\n<path clip-path=\"url(#clip542)\" d=\"\nM2136.98 1198.85 L2136.98 1445.72 L2233.48 1445.72 L2233.48 1198.85 L2136.98 1198.85 L2136.98 1198.85  Z\n  \" fill=\"#e26f46\" fill-rule=\"evenodd\" fill-opacity=\"0.1\"/>\n<polyline clip-path=\"url(#clip542)\" style=\"stroke:#000000; stroke-linecap:butt; stroke-linejoin:round; stroke-width:4; stroke-opacity:0.1; fill:none\" points=\"\n  2136.98,1198.85 2136.98,1445.72 2233.48,1445.72 2233.48,1198.85 2136.98,1198.85 \n  \"/>\n<circle clip-path=\"url(#clip542)\" style=\"fill:#e26f46; stroke:none; fill-opacity:0\" cx=\"351.716\" cy=\"1322.28\" r=\"2\"/>\n<circle clip-path=\"url(#clip542)\" style=\"fill:#e26f46; stroke:none; fill-opacity:0\" cx=\"448.217\" cy=\"1322.28\" r=\"2\"/>\n<circle clip-path=\"url(#clip542)\" style=\"fill:#e26f46; stroke:none; fill-opacity:0\" cx=\"544.718\" cy=\"1445.72\" r=\"2\"/>\n<circle clip-path=\"url(#clip542)\" style=\"fill:#e26f46; stroke:none; fill-opacity:0\" cx=\"641.218\" cy=\"1322.28\" r=\"2\"/>\n<circle clip-path=\"url(#clip542)\" style=\"fill:#e26f46; stroke:none; fill-opacity:0\" cx=\"737.719\" cy=\"1075.42\" r=\"2\"/>\n<circle clip-path=\"url(#clip542)\" style=\"fill:#e26f46; stroke:none; fill-opacity:0\" cx=\"834.22\" cy=\"1075.42\" r=\"2\"/>\n<circle clip-path=\"url(#clip542)\" style=\"fill:#e26f46; stroke:none; fill-opacity:0\" cx=\"930.721\" cy=\"705.131\" r=\"2\"/>\n<circle clip-path=\"url(#clip542)\" style=\"fill:#e26f46; stroke:none; fill-opacity:0\" cx=\"1027.22\" cy=\"828.561\" r=\"2\"/>\n<circle clip-path=\"url(#clip542)\" style=\"fill:#e26f46; stroke:none; fill-opacity:0\" cx=\"1123.72\" cy=\"211.407\" r=\"2\"/>\n<circle clip-path=\"url(#clip542)\" style=\"fill:#e26f46; stroke:none; fill-opacity:0\" cx=\"1220.22\" cy=\"87.9763\" r=\"2\"/>\n<circle clip-path=\"url(#clip542)\" style=\"fill:#e26f46; stroke:none; fill-opacity:0\" cx=\"1316.72\" cy=\"828.561\" r=\"2\"/>\n<circle clip-path=\"url(#clip542)\" style=\"fill:#e26f46; stroke:none; fill-opacity:0\" cx=\"1413.22\" cy=\"211.407\" r=\"2\"/>\n<circle clip-path=\"url(#clip542)\" style=\"fill:#e26f46; stroke:none; fill-opacity:0\" cx=\"1509.73\" cy=\"87.9763\" r=\"2\"/>\n<circle clip-path=\"url(#clip542)\" style=\"fill:#e26f46; stroke:none; fill-opacity:0\" cx=\"1606.23\" cy=\"334.838\" r=\"2\"/>\n<circle clip-path=\"url(#clip542)\" style=\"fill:#e26f46; stroke:none; fill-opacity:0\" cx=\"1702.73\" cy=\"334.838\" r=\"2\"/>\n<circle clip-path=\"url(#clip542)\" style=\"fill:#e26f46; stroke:none; fill-opacity:0\" cx=\"1799.23\" cy=\"951.992\" r=\"2\"/>\n<circle clip-path=\"url(#clip542)\" style=\"fill:#e26f46; stroke:none; fill-opacity:0\" cx=\"1895.73\" cy=\"705.131\" r=\"2\"/>\n<circle clip-path=\"url(#clip542)\" style=\"fill:#e26f46; stroke:none; fill-opacity:0\" cx=\"1992.23\" cy=\"1198.85\" r=\"2\"/>\n<circle clip-path=\"url(#clip542)\" style=\"fill:#e26f46; stroke:none; fill-opacity:0\" cx=\"2088.73\" cy=\"1322.28\" r=\"2\"/>\n<circle clip-path=\"url(#clip542)\" style=\"fill:#e26f46; stroke:none; fill-opacity:0\" cx=\"2185.23\" cy=\"1198.85\" r=\"2\"/>\n<path clip-path=\"url(#clip540)\" d=\"\nM1744.61 250.738 L2280.47 250.738 L2280.47 95.2176 L1744.61 95.2176  Z\n  \" fill=\"#ffffff\" fill-rule=\"evenodd\" fill-opacity=\"1\"/>\n<polyline clip-path=\"url(#clip540)\" style=\"stroke:#000000; stroke-linecap:butt; stroke-linejoin:round; stroke-width:4; stroke-opacity:1; fill:none\" points=\"\n  1744.61,250.738 2280.47,250.738 2280.47,95.2176 1744.61,95.2176 1744.61,250.738 \n  \"/>\n<path clip-path=\"url(#clip540)\" d=\"\nM1768.71 167.794 L1913.28 167.794 L1913.28 126.322 L1768.71 126.322 L1768.71 167.794  Z\n  \" fill=\"#009af9\" fill-rule=\"evenodd\" fill-opacity=\"0.1\"/>\n<polyline clip-path=\"url(#clip540)\" style=\"stroke:#000000; stroke-linecap:butt; stroke-linejoin:round; stroke-width:4; stroke-opacity:1; fill:none\" points=\"\n  1768.71,167.794 1913.28,167.794 1913.28,126.322 1768.71,126.322 1768.71,167.794 \n  \"/>\n<path clip-path=\"url(#clip540)\" d=\"M1937.37 154.106 L1937.37 138.412 L1941.63 138.412 L1941.63 153.944 Q1941.63 157.625 1943.07 159.476 Q1944.5 161.305 1947.37 161.305 Q1950.82 161.305 1952.81 159.106 Q1954.83 156.907 1954.83 153.111 L1954.83 138.412 L1959.09 138.412 L1959.09 164.338 L1954.83 164.338 L1954.83 160.356 Q1953.28 162.717 1951.22 163.875 Q1949.18 165.009 1946.47 165.009 Q1942 165.009 1939.69 162.231 Q1937.37 159.453 1937.37 154.106 M1948.09 137.787 L1948.09 137.787 Z\" fill=\"#000000\" fill-rule=\"evenodd\" fill-opacity=\"1\" /><path clip-path=\"url(#clip540)\" d=\"M1971.98 160.449 L1971.98 174.199 L1967.7 174.199 L1967.7 138.412 L1971.98 138.412 L1971.98 142.347 Q1973.32 140.032 1975.36 138.921 Q1977.42 137.787 1980.27 137.787 Q1984.99 137.787 1987.93 141.537 Q1990.89 145.287 1990.89 151.398 Q1990.89 157.509 1987.93 161.259 Q1984.99 165.009 1980.27 165.009 Q1977.42 165.009 1975.36 163.898 Q1973.32 162.763 1971.98 160.449 M1986.47 151.398 Q1986.47 146.699 1984.53 144.037 Q1982.61 141.352 1979.23 141.352 Q1975.85 141.352 1973.9 144.037 Q1971.98 146.699 1971.98 151.398 Q1971.98 156.097 1973.9 158.782 Q1975.85 161.444 1979.23 161.444 Q1982.61 161.444 1984.53 158.782 Q1986.47 156.097 1986.47 151.398 Z\" fill=\"#000000\" fill-rule=\"evenodd\" fill-opacity=\"1\" /><path clip-path=\"url(#clip540)\" d=\"M2002.07 160.449 L2002.07 174.199 L1997.79 174.199 L1997.79 138.412 L2002.07 138.412 L2002.07 142.347 Q2003.42 140.032 2005.45 138.921 Q2007.51 137.787 2010.36 137.787 Q2015.08 137.787 2018.02 141.537 Q2020.98 145.287 2020.98 151.398 Q2020.98 157.509 2018.02 161.259 Q2015.08 165.009 2010.36 165.009 Q2007.51 165.009 2005.45 163.898 Q2003.42 162.763 2002.07 160.449 M2016.56 151.398 Q2016.56 146.699 2014.62 144.037 Q2012.7 141.352 2009.32 141.352 Q2005.94 141.352 2003.99 144.037 Q2002.07 146.699 2002.07 151.398 Q2002.07 156.097 2003.99 158.782 Q2005.94 161.444 2009.32 161.444 Q2012.7 161.444 2014.62 158.782 Q2016.56 156.097 2016.56 151.398 Z\" fill=\"#000000\" fill-rule=\"evenodd\" fill-opacity=\"1\" /><path clip-path=\"url(#clip540)\" d=\"M2050.22 150.31 L2050.22 152.393 L2030.64 152.393 Q2030.92 156.791 2033.28 159.106 Q2035.66 161.398 2039.9 161.398 Q2042.35 161.398 2044.64 160.796 Q2046.96 160.194 2049.23 158.99 L2049.23 163.018 Q2046.93 163.99 2044.53 164.5 Q2042.12 165.009 2039.64 165.009 Q2033.44 165.009 2029.8 161.398 Q2026.19 157.787 2026.19 151.629 Q2026.19 145.264 2029.62 141.537 Q2033.07 137.787 2038.9 137.787 Q2044.13 137.787 2047.17 141.166 Q2050.22 144.523 2050.22 150.31 M2045.96 149.06 Q2045.92 145.565 2043.99 143.481 Q2042.1 141.398 2038.95 141.398 Q2035.38 141.398 2033.23 143.412 Q2031.1 145.426 2030.78 149.083 L2045.96 149.06 Z\" fill=\"#000000\" fill-rule=\"evenodd\" fill-opacity=\"1\" /><path clip-path=\"url(#clip540)\" d=\"M2072.23 142.393 Q2071.52 141.977 2070.66 141.791 Q2069.83 141.583 2068.81 141.583 Q2065.2 141.583 2063.25 143.944 Q2061.33 146.282 2061.33 150.68 L2061.33 164.338 L2057.05 164.338 L2057.05 138.412 L2061.33 138.412 L2061.33 142.44 Q2062.67 140.078 2064.83 138.944 Q2066.98 137.787 2070.06 137.787 Q2070.5 137.787 2071.03 137.856 Q2071.56 137.903 2072.21 138.018 L2072.23 142.393 Z\" fill=\"#000000\" fill-rule=\"evenodd\" fill-opacity=\"1\" /><path clip-path=\"url(#clip540)\" d=\"M2110.38 151.398 Q2110.38 146.699 2108.44 144.037 Q2106.52 141.352 2103.14 141.352 Q2099.76 141.352 2097.81 144.037 Q2095.89 146.699 2095.89 151.398 Q2095.89 156.097 2097.81 158.782 Q2099.76 161.444 2103.14 161.444 Q2106.52 161.444 2108.44 158.782 Q2110.38 156.097 2110.38 151.398 M2095.89 142.347 Q2097.23 140.032 2099.27 138.921 Q2101.33 137.787 2104.18 137.787 Q2108.9 137.787 2111.84 141.537 Q2114.8 145.287 2114.8 151.398 Q2114.8 157.509 2111.84 161.259 Q2108.9 165.009 2104.18 165.009 Q2101.33 165.009 2099.27 163.898 Q2097.23 162.763 2095.89 160.449 L2095.89 164.338 L2091.61 164.338 L2091.61 128.319 L2095.89 128.319 L2095.89 142.347 Z\" fill=\"#000000\" fill-rule=\"evenodd\" fill-opacity=\"1\" /><path clip-path=\"url(#clip540)\" d=\"M2131.91 141.398 Q2128.48 141.398 2126.49 144.083 Q2124.5 146.745 2124.5 151.398 Q2124.5 156.051 2126.47 158.736 Q2128.46 161.398 2131.91 161.398 Q2135.31 161.398 2137.3 158.713 Q2139.29 156.027 2139.29 151.398 Q2139.29 146.791 2137.3 144.106 Q2135.31 141.398 2131.91 141.398 M2131.91 137.787 Q2137.47 137.787 2140.64 141.398 Q2143.81 145.009 2143.81 151.398 Q2143.81 157.764 2140.64 161.398 Q2137.47 165.009 2131.91 165.009 Q2126.33 165.009 2123.16 161.398 Q2120.01 157.764 2120.01 151.398 Q2120.01 145.009 2123.16 141.398 Q2126.33 137.787 2131.91 137.787 Z\" fill=\"#000000\" fill-rule=\"evenodd\" fill-opacity=\"1\" /><path clip-path=\"url(#clip540)\" d=\"M2150.43 154.106 L2150.43 138.412 L2154.69 138.412 L2154.69 153.944 Q2154.69 157.625 2156.12 159.476 Q2157.56 161.305 2160.43 161.305 Q2163.88 161.305 2165.87 159.106 Q2167.88 156.907 2167.88 153.111 L2167.88 138.412 L2172.14 138.412 L2172.14 164.338 L2167.88 164.338 L2167.88 160.356 Q2166.33 162.717 2164.27 163.875 Q2162.23 165.009 2159.53 165.009 Q2155.06 165.009 2152.74 162.231 Q2150.43 159.453 2150.43 154.106 M2161.15 137.787 L2161.15 137.787 Z\" fill=\"#000000\" fill-rule=\"evenodd\" fill-opacity=\"1\" /><path clip-path=\"url(#clip540)\" d=\"M2202.47 148.689 L2202.47 164.338 L2198.21 164.338 L2198.21 148.828 Q2198.21 145.148 2196.77 143.319 Q2195.34 141.49 2192.47 141.49 Q2189.02 141.49 2187.03 143.69 Q2185.03 145.889 2185.03 149.685 L2185.03 164.338 L2180.75 164.338 L2180.75 138.412 L2185.03 138.412 L2185.03 142.44 Q2186.56 140.102 2188.62 138.944 Q2190.71 137.787 2193.41 137.787 Q2197.88 137.787 2200.17 140.565 Q2202.47 143.319 2202.47 148.689 Z\" fill=\"#000000\" fill-rule=\"evenodd\" fill-opacity=\"1\" /><path clip-path=\"url(#clip540)\" d=\"M2228.02 142.347 L2228.02 128.319 L2232.28 128.319 L2232.28 164.338 L2228.02 164.338 L2228.02 160.449 Q2226.68 162.763 2224.62 163.898 Q2222.58 165.009 2219.71 165.009 Q2215.01 165.009 2212.05 161.259 Q2209.11 157.509 2209.11 151.398 Q2209.11 145.287 2212.05 141.537 Q2215.01 137.787 2219.71 137.787 Q2222.58 137.787 2224.62 138.921 Q2226.68 140.032 2228.02 142.347 M2213.51 151.398 Q2213.51 156.097 2215.43 158.782 Q2217.37 161.444 2220.75 161.444 Q2224.13 161.444 2226.08 158.782 Q2228.02 156.097 2228.02 151.398 Q2228.02 146.699 2226.08 144.037 Q2224.13 141.352 2220.75 141.352 Q2217.37 141.352 2215.43 144.037 Q2213.51 146.699 2213.51 151.398 Z\" fill=\"#000000\" fill-rule=\"evenodd\" fill-opacity=\"1\" /><path clip-path=\"url(#clip540)\" d=\"\nM1768.71 219.634 L1913.28 219.634 L1913.28 178.162 L1768.71 178.162 L1768.71 219.634  Z\n  \" fill=\"#e26f46\" fill-rule=\"evenodd\" fill-opacity=\"0.1\"/>\n<polyline clip-path=\"url(#clip540)\" style=\"stroke:#000000; stroke-linecap:butt; stroke-linejoin:round; stroke-width:4; stroke-opacity:1; fill:none\" points=\"\n  1768.71,219.634 1913.28,219.634 1913.28,178.162 1768.71,178.162 1768.71,219.634 \n  \"/>\n<path clip-path=\"url(#clip540)\" d=\"M1937.37 205.946 L1937.37 190.252 L1941.63 190.252 L1941.63 205.784 Q1941.63 209.465 1943.07 211.316 Q1944.5 213.145 1947.37 213.145 Q1950.82 213.145 1952.81 210.946 Q1954.83 208.747 1954.83 204.951 L1954.83 190.252 L1959.09 190.252 L1959.09 216.178 L1954.83 216.178 L1954.83 212.196 Q1953.28 214.557 1951.22 215.715 Q1949.18 216.849 1946.47 216.849 Q1942 216.849 1939.69 214.071 Q1937.37 211.293 1937.37 205.946 M1948.09 189.627 L1948.09 189.627 Z\" fill=\"#000000\" fill-rule=\"evenodd\" fill-opacity=\"1\" /><path clip-path=\"url(#clip540)\" d=\"M1971.98 212.289 L1971.98 226.039 L1967.7 226.039 L1967.7 190.252 L1971.98 190.252 L1971.98 194.187 Q1973.32 191.872 1975.36 190.761 Q1977.42 189.627 1980.27 189.627 Q1984.99 189.627 1987.93 193.377 Q1990.89 197.127 1990.89 203.238 Q1990.89 209.349 1987.93 213.099 Q1984.99 216.849 1980.27 216.849 Q1977.42 216.849 1975.36 215.738 Q1973.32 214.603 1971.98 212.289 M1986.47 203.238 Q1986.47 198.539 1984.53 195.877 Q1982.61 193.192 1979.23 193.192 Q1975.85 193.192 1973.9 195.877 Q1971.98 198.539 1971.98 203.238 Q1971.98 207.937 1973.9 210.622 Q1975.85 213.284 1979.23 213.284 Q1982.61 213.284 1984.53 210.622 Q1986.47 207.937 1986.47 203.238 Z\" fill=\"#000000\" fill-rule=\"evenodd\" fill-opacity=\"1\" /><path clip-path=\"url(#clip540)\" d=\"M2002.07 212.289 L2002.07 226.039 L1997.79 226.039 L1997.79 190.252 L2002.07 190.252 L2002.07 194.187 Q2003.42 191.872 2005.45 190.761 Q2007.51 189.627 2010.36 189.627 Q2015.08 189.627 2018.02 193.377 Q2020.98 197.127 2020.98 203.238 Q2020.98 209.349 2018.02 213.099 Q2015.08 216.849 2010.36 216.849 Q2007.51 216.849 2005.45 215.738 Q2003.42 214.603 2002.07 212.289 M2016.56 203.238 Q2016.56 198.539 2014.62 195.877 Q2012.7 193.192 2009.32 193.192 Q2005.94 193.192 2003.99 195.877 Q2002.07 198.539 2002.07 203.238 Q2002.07 207.937 2003.99 210.622 Q2005.94 213.284 2009.32 213.284 Q2012.7 213.284 2014.62 210.622 Q2016.56 207.937 2016.56 203.238 Z\" fill=\"#000000\" fill-rule=\"evenodd\" fill-opacity=\"1\" /><path clip-path=\"url(#clip540)\" d=\"M2050.22 202.15 L2050.22 204.233 L2030.64 204.233 Q2030.92 208.631 2033.28 210.946 Q2035.66 213.238 2039.9 213.238 Q2042.35 213.238 2044.64 212.636 Q2046.96 212.034 2049.23 210.83 L2049.23 214.858 Q2046.93 215.83 2044.53 216.34 Q2042.12 216.849 2039.64 216.849 Q2033.44 216.849 2029.8 213.238 Q2026.19 209.627 2026.19 203.469 Q2026.19 197.104 2029.62 193.377 Q2033.07 189.627 2038.9 189.627 Q2044.13 189.627 2047.17 193.006 Q2050.22 196.363 2050.22 202.15 M2045.96 200.9 Q2045.92 197.405 2043.99 195.321 Q2042.1 193.238 2038.95 193.238 Q2035.38 193.238 2033.23 195.252 Q2031.1 197.266 2030.78 200.923 L2045.96 200.9 Z\" fill=\"#000000\" fill-rule=\"evenodd\" fill-opacity=\"1\" /><path clip-path=\"url(#clip540)\" d=\"M2072.23 194.233 Q2071.52 193.817 2070.66 193.631 Q2069.83 193.423 2068.81 193.423 Q2065.2 193.423 2063.25 195.784 Q2061.33 198.122 2061.33 202.52 L2061.33 216.178 L2057.05 216.178 L2057.05 190.252 L2061.33 190.252 L2061.33 194.28 Q2062.67 191.918 2064.83 190.784 Q2066.98 189.627 2070.06 189.627 Q2070.5 189.627 2071.03 189.696 Q2071.56 189.743 2072.21 189.858 L2072.23 194.233 Z\" fill=\"#000000\" fill-rule=\"evenodd\" fill-opacity=\"1\" /><path clip-path=\"url(#clip540)\" d=\"M2110.38 203.238 Q2110.38 198.539 2108.44 195.877 Q2106.52 193.192 2103.14 193.192 Q2099.76 193.192 2097.81 195.877 Q2095.89 198.539 2095.89 203.238 Q2095.89 207.937 2097.81 210.622 Q2099.76 213.284 2103.14 213.284 Q2106.52 213.284 2108.44 210.622 Q2110.38 207.937 2110.38 203.238 M2095.89 194.187 Q2097.23 191.872 2099.27 190.761 Q2101.33 189.627 2104.18 189.627 Q2108.9 189.627 2111.84 193.377 Q2114.8 197.127 2114.8 203.238 Q2114.8 209.349 2111.84 213.099 Q2108.9 216.849 2104.18 216.849 Q2101.33 216.849 2099.27 215.738 Q2097.23 214.603 2095.89 212.289 L2095.89 216.178 L2091.61 216.178 L2091.61 180.159 L2095.89 180.159 L2095.89 194.187 Z\" fill=\"#000000\" fill-rule=\"evenodd\" fill-opacity=\"1\" /><path clip-path=\"url(#clip540)\" d=\"M2131.91 193.238 Q2128.48 193.238 2126.49 195.923 Q2124.5 198.585 2124.5 203.238 Q2124.5 207.891 2126.47 210.576 Q2128.46 213.238 2131.91 213.238 Q2135.31 213.238 2137.3 210.553 Q2139.29 207.867 2139.29 203.238 Q2139.29 198.631 2137.3 195.946 Q2135.31 193.238 2131.91 193.238 M2131.91 189.627 Q2137.47 189.627 2140.64 193.238 Q2143.81 196.849 2143.81 203.238 Q2143.81 209.604 2140.64 213.238 Q2137.47 216.849 2131.91 216.849 Q2126.33 216.849 2123.16 213.238 Q2120.01 209.604 2120.01 203.238 Q2120.01 196.849 2123.16 193.238 Q2126.33 189.627 2131.91 189.627 Z\" fill=\"#000000\" fill-rule=\"evenodd\" fill-opacity=\"1\" /><path clip-path=\"url(#clip540)\" d=\"M2150.43 205.946 L2150.43 190.252 L2154.69 190.252 L2154.69 205.784 Q2154.69 209.465 2156.12 211.316 Q2157.56 213.145 2160.43 213.145 Q2163.88 213.145 2165.87 210.946 Q2167.88 208.747 2167.88 204.951 L2167.88 190.252 L2172.14 190.252 L2172.14 216.178 L2167.88 216.178 L2167.88 212.196 Q2166.33 214.557 2164.27 215.715 Q2162.23 216.849 2159.53 216.849 Q2155.06 216.849 2152.74 214.071 Q2150.43 211.293 2150.43 205.946 M2161.15 189.627 L2161.15 189.627 Z\" fill=\"#000000\" fill-rule=\"evenodd\" fill-opacity=\"1\" /><path clip-path=\"url(#clip540)\" d=\"M2202.47 200.529 L2202.47 216.178 L2198.21 216.178 L2198.21 200.668 Q2198.21 196.988 2196.77 195.159 Q2195.34 193.33 2192.47 193.33 Q2189.02 193.33 2187.03 195.53 Q2185.03 197.729 2185.03 201.525 L2185.03 216.178 L2180.75 216.178 L2180.75 190.252 L2185.03 190.252 L2185.03 194.28 Q2186.56 191.942 2188.62 190.784 Q2190.71 189.627 2193.41 189.627 Q2197.88 189.627 2200.17 192.405 Q2202.47 195.159 2202.47 200.529 Z\" fill=\"#000000\" fill-rule=\"evenodd\" fill-opacity=\"1\" /><path clip-path=\"url(#clip540)\" d=\"M2228.02 194.187 L2228.02 180.159 L2232.28 180.159 L2232.28 216.178 L2228.02 216.178 L2228.02 212.289 Q2226.68 214.603 2224.62 215.738 Q2222.58 216.849 2219.71 216.849 Q2215.01 216.849 2212.05 213.099 Q2209.11 209.349 2209.11 203.238 Q2209.11 197.127 2212.05 193.377 Q2215.01 189.627 2219.71 189.627 Q2222.58 189.627 2224.62 190.761 Q2226.68 191.872 2228.02 194.187 M2213.51 203.238 Q2213.51 207.937 2215.43 210.622 Q2217.37 213.284 2220.75 213.284 Q2224.13 213.284 2226.08 210.622 Q2228.02 207.937 2228.02 203.238 Q2228.02 198.539 2226.08 195.877 Q2224.13 193.192 2220.75 193.192 Q2217.37 193.192 2215.43 195.877 Q2213.51 198.539 2213.51 203.238 Z\" fill=\"#000000\" fill-rule=\"evenodd\" fill-opacity=\"1\" /></svg>\n"
     },
     "execution_count": 195,
     "metadata": {},
     "output_type": "execute_result"
    }
   ],
   "source": [
    "histogram!(lower_bound_τ, bins = 20, alpha = 0.1, label = \"upper bound\")"
   ]
  },
  {
   "cell_type": "code",
   "execution_count": 196,
   "metadata": {},
   "outputs": [
    {
     "data": {
      "image/svg+xml": "<?xml version=\"1.0\" encoding=\"utf-8\"?>\n<svg xmlns=\"http://www.w3.org/2000/svg\" xmlns:xlink=\"http://www.w3.org/1999/xlink\" width=\"600\" height=\"400\" viewBox=\"0 0 2400 1600\">\n<defs>\n  <clipPath id=\"clip580\">\n    <rect x=\"0\" y=\"0\" width=\"2400\" height=\"1600\"/>\n  </clipPath>\n</defs>\n<path clip-path=\"url(#clip580)\" d=\"\nM0 1600 L2400 1600 L2400 0 L0 0  Z\n  \" fill=\"#ffffff\" fill-rule=\"evenodd\" fill-opacity=\"1\"/>\n<defs>\n  <clipPath id=\"clip581\">\n    <rect x=\"480\" y=\"0\" width=\"1681\" height=\"1600\"/>\n  </clipPath>\n</defs>\n<path clip-path=\"url(#clip580)\" d=\"\nM138.959 1486.45 L2352.76 1486.45 L2352.76 47.2441 L138.959 47.2441  Z\n  \" fill=\"#ffffff\" fill-rule=\"evenodd\" fill-opacity=\"1\"/>\n<defs>\n  <clipPath id=\"clip582\">\n    <rect x=\"138\" y=\"47\" width=\"2215\" height=\"1440\"/>\n  </clipPath>\n</defs>\n<polyline clip-path=\"url(#clip582)\" style=\"stroke:#000000; stroke-linecap:butt; stroke-linejoin:round; stroke-width:2; stroke-opacity:0.1; fill:none\" points=\"\n  457.749,1486.45 457.749,47.2441 \n  \"/>\n<polyline clip-path=\"url(#clip582)\" style=\"stroke:#000000; stroke-linecap:butt; stroke-linejoin:round; stroke-width:2; stroke-opacity:0.1; fill:none\" points=\"\n  950.317,1486.45 950.317,47.2441 \n  \"/>\n<polyline clip-path=\"url(#clip582)\" style=\"stroke:#000000; stroke-linecap:butt; stroke-linejoin:round; stroke-width:2; stroke-opacity:0.1; fill:none\" points=\"\n  1442.88,1486.45 1442.88,47.2441 \n  \"/>\n<polyline clip-path=\"url(#clip582)\" style=\"stroke:#000000; stroke-linecap:butt; stroke-linejoin:round; stroke-width:2; stroke-opacity:0.1; fill:none\" points=\"\n  1935.45,1486.45 1935.45,47.2441 \n  \"/>\n<polyline clip-path=\"url(#clip580)\" style=\"stroke:#000000; stroke-linecap:butt; stroke-linejoin:round; stroke-width:4; stroke-opacity:1; fill:none\" points=\"\n  138.959,1486.45 2352.76,1486.45 \n  \"/>\n<polyline clip-path=\"url(#clip580)\" style=\"stroke:#000000; stroke-linecap:butt; stroke-linejoin:round; stroke-width:4; stroke-opacity:1; fill:none\" points=\"\n  457.749,1486.45 457.749,1467.55 \n  \"/>\n<polyline clip-path=\"url(#clip580)\" style=\"stroke:#000000; stroke-linecap:butt; stroke-linejoin:round; stroke-width:4; stroke-opacity:1; fill:none\" points=\"\n  950.317,1486.45 950.317,1467.55 \n  \"/>\n<polyline clip-path=\"url(#clip580)\" style=\"stroke:#000000; stroke-linecap:butt; stroke-linejoin:round; stroke-width:4; stroke-opacity:1; fill:none\" points=\"\n  1442.88,1486.45 1442.88,1467.55 \n  \"/>\n<polyline clip-path=\"url(#clip580)\" style=\"stroke:#000000; stroke-linecap:butt; stroke-linejoin:round; stroke-width:4; stroke-opacity:1; fill:none\" points=\"\n  1935.45,1486.45 1935.45,1467.55 \n  \"/>\n<path clip-path=\"url(#clip580)\" d=\"M425.701 1544.91 L433.34 1544.91 L433.34 1518.55 L425.03 1520.21 L425.03 1515.95 L433.293 1514.29 L437.969 1514.29 L437.969 1544.91 L445.608 1544.91 L445.608 1548.85 L425.701 1548.85 L425.701 1544.91 Z\" fill=\"#000000\" fill-rule=\"evenodd\" fill-opacity=\"1\" /><path clip-path=\"url(#clip580)\" d=\"M455.053 1542.97 L459.937 1542.97 L459.937 1548.85 L455.053 1548.85 L455.053 1542.97 Z\" fill=\"#000000\" fill-rule=\"evenodd\" fill-opacity=\"1\" /><path clip-path=\"url(#clip580)\" d=\"M474.15 1544.91 L490.469 1544.91 L490.469 1548.85 L468.525 1548.85 L468.525 1544.91 Q471.187 1542.16 475.77 1537.53 Q480.376 1532.88 481.557 1531.53 Q483.802 1529.01 484.682 1527.27 Q485.585 1525.51 485.585 1523.82 Q485.585 1521.07 483.64 1519.33 Q481.719 1517.6 478.617 1517.6 Q476.418 1517.6 473.964 1518.36 Q471.534 1519.13 468.756 1520.68 L468.756 1515.95 Q471.58 1514.82 474.034 1514.24 Q476.488 1513.66 478.525 1513.66 Q483.895 1513.66 487.089 1516.35 Q490.284 1519.03 490.284 1523.52 Q490.284 1525.65 489.474 1527.57 Q488.687 1529.47 486.58 1532.07 Q486.001 1532.74 482.9 1535.95 Q479.798 1539.15 474.15 1544.91 Z\" fill=\"#000000\" fill-rule=\"evenodd\" fill-opacity=\"1\" /><path clip-path=\"url(#clip580)\" d=\"M917.794 1544.91 L925.433 1544.91 L925.433 1518.55 L917.123 1520.21 L917.123 1515.95 L925.387 1514.29 L930.063 1514.29 L930.063 1544.91 L937.701 1544.91 L937.701 1548.85 L917.794 1548.85 L917.794 1544.91 Z\" fill=\"#000000\" fill-rule=\"evenodd\" fill-opacity=\"1\" /><path clip-path=\"url(#clip580)\" d=\"M947.146 1542.97 L952.03 1542.97 L952.03 1548.85 L947.146 1548.85 L947.146 1542.97 Z\" fill=\"#000000\" fill-rule=\"evenodd\" fill-opacity=\"1\" /><path clip-path=\"url(#clip580)\" d=\"M976.382 1530.21 Q979.738 1530.93 981.613 1533.2 Q983.511 1535.47 983.511 1538.8 Q983.511 1543.92 979.993 1546.72 Q976.474 1549.52 969.993 1549.52 Q967.817 1549.52 965.502 1549.08 Q963.21 1548.66 960.757 1547.81 L960.757 1543.29 Q962.701 1544.43 965.016 1545.01 Q967.331 1545.58 969.854 1545.58 Q974.252 1545.58 976.544 1543.85 Q978.859 1542.11 978.859 1538.8 Q978.859 1535.75 976.706 1534.03 Q974.576 1532.3 970.757 1532.3 L966.729 1532.3 L966.729 1528.45 L970.942 1528.45 Q974.391 1528.45 976.22 1527.09 Q978.048 1525.7 978.048 1523.11 Q978.048 1520.45 976.15 1519.03 Q974.275 1517.6 970.757 1517.6 Q968.835 1517.6 966.636 1518.01 Q964.437 1518.43 961.798 1519.31 L961.798 1515.14 Q964.46 1514.4 966.775 1514.03 Q969.113 1513.66 971.173 1513.66 Q976.497 1513.66 979.599 1516.09 Q982.701 1518.5 982.701 1522.62 Q982.701 1525.49 981.058 1527.48 Q979.414 1529.45 976.382 1530.21 Z\" fill=\"#000000\" fill-rule=\"evenodd\" fill-opacity=\"1\" /><path clip-path=\"url(#clip580)\" d=\"M1409.79 1544.91 L1417.43 1544.91 L1417.43 1518.55 L1409.12 1520.21 L1409.12 1515.95 L1417.39 1514.29 L1422.06 1514.29 L1422.06 1544.91 L1429.7 1544.91 L1429.7 1548.85 L1409.79 1548.85 L1409.79 1544.91 Z\" fill=\"#000000\" fill-rule=\"evenodd\" fill-opacity=\"1\" /><path clip-path=\"url(#clip580)\" d=\"M1439.15 1542.97 L1444.03 1542.97 L1444.03 1548.85 L1439.15 1548.85 L1439.15 1542.97 Z\" fill=\"#000000\" fill-rule=\"evenodd\" fill-opacity=\"1\" /><path clip-path=\"url(#clip580)\" d=\"M1467.06 1518.36 L1455.26 1536.81 L1467.06 1536.81 L1467.06 1518.36 M1465.84 1514.29 L1471.72 1514.29 L1471.72 1536.81 L1476.65 1536.81 L1476.65 1540.7 L1471.72 1540.7 L1471.72 1548.85 L1467.06 1548.85 L1467.06 1540.7 L1451.46 1540.7 L1451.46 1536.19 L1465.84 1514.29 Z\" fill=\"#000000\" fill-rule=\"evenodd\" fill-opacity=\"1\" /><path clip-path=\"url(#clip580)\" d=\"M1903.1 1544.91 L1910.74 1544.91 L1910.74 1518.55 L1902.43 1520.21 L1902.43 1515.95 L1910.7 1514.29 L1915.37 1514.29 L1915.37 1544.91 L1923.01 1544.91 L1923.01 1548.85 L1903.1 1548.85 L1903.1 1544.91 Z\" fill=\"#000000\" fill-rule=\"evenodd\" fill-opacity=\"1\" /><path clip-path=\"url(#clip580)\" d=\"M1932.45 1542.97 L1937.34 1542.97 L1937.34 1548.85 L1932.45 1548.85 L1932.45 1542.97 Z\" fill=\"#000000\" fill-rule=\"evenodd\" fill-opacity=\"1\" /><path clip-path=\"url(#clip580)\" d=\"M1947.57 1514.29 L1965.93 1514.29 L1965.93 1518.22 L1951.85 1518.22 L1951.85 1526.7 Q1952.87 1526.35 1953.89 1526.19 Q1954.91 1526 1955.93 1526 Q1961.71 1526 1965.09 1529.17 Q1968.47 1532.34 1968.47 1537.76 Q1968.47 1543.34 1965 1546.44 Q1961.53 1549.52 1955.21 1549.52 Q1953.03 1549.52 1950.76 1549.15 Q1948.52 1548.78 1946.11 1548.04 L1946.11 1543.34 Q1948.2 1544.47 1950.42 1545.03 Q1952.64 1545.58 1955.12 1545.58 Q1959.12 1545.58 1961.46 1543.48 Q1963.8 1541.37 1963.8 1537.76 Q1963.8 1534.15 1961.46 1532.04 Q1959.12 1529.94 1955.12 1529.94 Q1953.24 1529.94 1951.37 1530.35 Q1949.51 1530.77 1947.57 1531.65 L1947.57 1514.29 Z\" fill=\"#000000\" fill-rule=\"evenodd\" fill-opacity=\"1\" /><polyline clip-path=\"url(#clip582)\" style=\"stroke:#000000; stroke-linecap:butt; stroke-linejoin:round; stroke-width:2; stroke-opacity:0.1; fill:none\" points=\"\n  138.959,1445.72 2352.76,1445.72 \n  \"/>\n<polyline clip-path=\"url(#clip582)\" style=\"stroke:#000000; stroke-linecap:butt; stroke-linejoin:round; stroke-width:2; stroke-opacity:0.1; fill:none\" points=\"\n  138.959,1046.38 2352.76,1046.38 \n  \"/>\n<polyline clip-path=\"url(#clip582)\" style=\"stroke:#000000; stroke-linecap:butt; stroke-linejoin:round; stroke-width:2; stroke-opacity:0.1; fill:none\" points=\"\n  138.959,647.045 2352.76,647.045 \n  \"/>\n<polyline clip-path=\"url(#clip582)\" style=\"stroke:#000000; stroke-linecap:butt; stroke-linejoin:round; stroke-width:2; stroke-opacity:0.1; fill:none\" points=\"\n  138.959,247.71 2352.76,247.71 \n  \"/>\n<polyline clip-path=\"url(#clip580)\" style=\"stroke:#000000; stroke-linecap:butt; stroke-linejoin:round; stroke-width:4; stroke-opacity:1; fill:none\" points=\"\n  138.959,1486.45 138.959,47.2441 \n  \"/>\n<polyline clip-path=\"url(#clip580)\" style=\"stroke:#000000; stroke-linecap:butt; stroke-linejoin:round; stroke-width:4; stroke-opacity:1; fill:none\" points=\"\n  138.959,1445.72 157.857,1445.72 \n  \"/>\n<polyline clip-path=\"url(#clip580)\" style=\"stroke:#000000; stroke-linecap:butt; stroke-linejoin:round; stroke-width:4; stroke-opacity:1; fill:none\" points=\"\n  138.959,1046.38 157.857,1046.38 \n  \"/>\n<polyline clip-path=\"url(#clip580)\" style=\"stroke:#000000; stroke-linecap:butt; stroke-linejoin:round; stroke-width:4; stroke-opacity:1; fill:none\" points=\"\n  138.959,647.045 157.857,647.045 \n  \"/>\n<polyline clip-path=\"url(#clip580)\" style=\"stroke:#000000; stroke-linecap:butt; stroke-linejoin:round; stroke-width:4; stroke-opacity:1; fill:none\" points=\"\n  138.959,247.71 157.857,247.71 \n  \"/>\n<path clip-path=\"url(#clip580)\" d=\"M91.0151 1431.51 Q87.404 1431.51 85.5753 1435.08 Q83.7697 1438.62 83.7697 1445.75 Q83.7697 1452.86 85.5753 1456.42 Q87.404 1459.96 91.0151 1459.96 Q94.6493 1459.96 96.4548 1456.42 Q98.2835 1452.86 98.2835 1445.75 Q98.2835 1438.62 96.4548 1435.08 Q94.6493 1431.51 91.0151 1431.51 M91.0151 1427.81 Q96.8252 1427.81 99.8808 1432.42 Q102.959 1437 102.959 1445.75 Q102.959 1454.48 99.8808 1459.08 Q96.8252 1463.67 91.0151 1463.67 Q85.2049 1463.67 82.1262 1459.08 Q79.0707 1454.48 79.0707 1445.75 Q79.0707 1437 82.1262 1432.42 Q85.2049 1427.81 91.0151 1427.81 Z\" fill=\"#000000\" fill-rule=\"evenodd\" fill-opacity=\"1\" /><path clip-path=\"url(#clip580)\" d=\"M82.0568 1029.1 L100.413 1029.1 L100.413 1033.04 L86.3392 1033.04 L86.3392 1041.51 Q87.3577 1041.16 88.3762 1041 Q89.3947 1040.81 90.4132 1040.81 Q96.2002 1040.81 99.5798 1043.98 Q102.959 1047.16 102.959 1052.57 Q102.959 1058.15 99.4872 1061.25 Q96.015 1064.33 89.6956 1064.33 Q87.5197 1064.33 85.2512 1063.96 Q83.0058 1063.59 80.5984 1062.85 L80.5984 1058.15 Q82.6818 1059.29 84.904 1059.84 Q87.1262 1060.4 89.603 1060.4 Q93.6076 1060.4 95.9456 1058.29 Q98.2835 1056.18 98.2835 1052.57 Q98.2835 1048.96 95.9456 1046.86 Q93.6076 1044.75 89.603 1044.75 Q87.728 1044.75 85.8531 1045.17 Q84.0012 1045.58 82.0568 1046.46 L82.0568 1029.1 Z\" fill=\"#000000\" fill-rule=\"evenodd\" fill-opacity=\"1\" /><path clip-path=\"url(#clip580)\" d=\"M51.6634 660.39 L59.3023 660.39 L59.3023 634.025 L50.9921 635.691 L50.9921 631.432 L59.256 629.765 L63.9319 629.765 L63.9319 660.39 L71.5707 660.39 L71.5707 664.325 L51.6634 664.325 L51.6634 660.39 Z\" fill=\"#000000\" fill-rule=\"evenodd\" fill-opacity=\"1\" /><path clip-path=\"url(#clip580)\" d=\"M91.0151 632.844 Q87.404 632.844 85.5753 636.409 Q83.7697 639.951 83.7697 647.08 Q83.7697 654.187 85.5753 657.751 Q87.404 661.293 91.0151 661.293 Q94.6493 661.293 96.4548 657.751 Q98.2835 654.187 98.2835 647.08 Q98.2835 639.951 96.4548 636.409 Q94.6493 632.844 91.0151 632.844 M91.0151 629.14 Q96.8252 629.14 99.8808 633.747 Q102.959 638.33 102.959 647.08 Q102.959 655.807 99.8808 660.413 Q96.8252 664.997 91.0151 664.997 Q85.2049 664.997 82.1262 660.413 Q79.0707 655.807 79.0707 647.08 Q79.0707 638.33 82.1262 633.747 Q85.2049 629.14 91.0151 629.14 Z\" fill=\"#000000\" fill-rule=\"evenodd\" fill-opacity=\"1\" /><path clip-path=\"url(#clip580)\" d=\"M52.6588 261.055 L60.2976 261.055 L60.2976 234.69 L51.9875 236.356 L51.9875 232.097 L60.2513 230.43 L64.9272 230.43 L64.9272 261.055 L72.5661 261.055 L72.5661 264.99 L52.6588 264.99 L52.6588 261.055 Z\" fill=\"#000000\" fill-rule=\"evenodd\" fill-opacity=\"1\" /><path clip-path=\"url(#clip580)\" d=\"M82.0568 230.43 L100.413 230.43 L100.413 234.365 L86.3392 234.365 L86.3392 242.838 Q87.3577 242.49 88.3762 242.328 Q89.3947 242.143 90.4132 242.143 Q96.2002 242.143 99.5798 245.315 Q102.959 248.486 102.959 253.902 Q102.959 259.481 99.4872 262.583 Q96.015 265.662 89.6956 265.662 Q87.5197 265.662 85.2512 265.291 Q83.0058 264.921 80.5984 264.18 L80.5984 259.481 Q82.6818 260.615 84.904 261.171 Q87.1262 261.726 89.603 261.726 Q93.6076 261.726 95.9456 259.62 Q98.2835 257.514 98.2835 253.902 Q98.2835 250.291 95.9456 248.185 Q93.6076 246.078 89.603 246.078 Q87.728 246.078 85.8531 246.495 Q84.0012 246.912 82.0568 247.791 L82.0568 230.43 Z\" fill=\"#000000\" fill-rule=\"evenodd\" fill-opacity=\"1\" /><path clip-path=\"url(#clip582)\" d=\"\nM260.722 1365.85 L260.722 1445.72 L359.236 1445.72 L359.236 1365.85 L260.722 1365.85 L260.722 1365.85  Z\n  \" fill=\"#009af9\" fill-rule=\"evenodd\" fill-opacity=\"0.1\"/>\n<polyline clip-path=\"url(#clip582)\" style=\"stroke:#000000; stroke-linecap:butt; stroke-linejoin:round; stroke-width:4; stroke-opacity:0.1; fill:none\" points=\"\n  260.722,1365.85 260.722,1445.72 359.236,1445.72 359.236,1365.85 260.722,1365.85 \n  \"/>\n<path clip-path=\"url(#clip582)\" d=\"\nM359.236 1365.85 L359.236 1445.72 L457.749 1445.72 L457.749 1365.85 L359.236 1365.85 L359.236 1365.85  Z\n  \" fill=\"#009af9\" fill-rule=\"evenodd\" fill-opacity=\"0.1\"/>\n<polyline clip-path=\"url(#clip582)\" style=\"stroke:#000000; stroke-linecap:butt; stroke-linejoin:round; stroke-width:4; stroke-opacity:0.1; fill:none\" points=\"\n  359.236,1365.85 359.236,1445.72 457.749,1445.72 457.749,1365.85 359.236,1365.85 \n  \"/>\n<path clip-path=\"url(#clip582)\" d=\"\nM457.749 1445.72 L457.749 1445.72 L556.263 1445.72 L556.263 1445.72 L457.749 1445.72 L457.749 1445.72  Z\n  \" fill=\"#009af9\" fill-rule=\"evenodd\" fill-opacity=\"0.1\"/>\n<polyline clip-path=\"url(#clip582)\" style=\"stroke:#000000; stroke-linecap:butt; stroke-linejoin:round; stroke-width:4; stroke-opacity:0.1; fill:none\" points=\"\n  457.749,1445.72 457.749,1445.72 556.263,1445.72 457.749,1445.72 \n  \"/>\n<path clip-path=\"url(#clip582)\" d=\"\nM556.263 1365.85 L556.263 1445.72 L654.776 1445.72 L654.776 1365.85 L556.263 1365.85 L556.263 1365.85  Z\n  \" fill=\"#009af9\" fill-rule=\"evenodd\" fill-opacity=\"0.1\"/>\n<polyline clip-path=\"url(#clip582)\" style=\"stroke:#000000; stroke-linecap:butt; stroke-linejoin:round; stroke-width:4; stroke-opacity:0.1; fill:none\" points=\"\n  556.263,1365.85 556.263,1445.72 654.776,1445.72 654.776,1365.85 556.263,1365.85 \n  \"/>\n<path clip-path=\"url(#clip582)\" d=\"\nM654.776 1206.11 L654.776 1445.72 L753.29 1445.72 L753.29 1206.11 L654.776 1206.11 L654.776 1206.11  Z\n  \" fill=\"#009af9\" fill-rule=\"evenodd\" fill-opacity=\"0.1\"/>\n<polyline clip-path=\"url(#clip582)\" style=\"stroke:#000000; stroke-linecap:butt; stroke-linejoin:round; stroke-width:4; stroke-opacity:0.1; fill:none\" points=\"\n  654.776,1206.11 654.776,1445.72 753.29,1445.72 753.29,1206.11 654.776,1206.11 \n  \"/>\n<path clip-path=\"url(#clip582)\" d=\"\nM753.29 1206.11 L753.29 1445.72 L851.803 1445.72 L851.803 1206.11 L753.29 1206.11 L753.29 1206.11  Z\n  \" fill=\"#009af9\" fill-rule=\"evenodd\" fill-opacity=\"0.1\"/>\n<polyline clip-path=\"url(#clip582)\" style=\"stroke:#000000; stroke-linecap:butt; stroke-linejoin:round; stroke-width:4; stroke-opacity:0.1; fill:none\" points=\"\n  753.29,1206.11 753.29,1445.72 851.803,1445.72 851.803,1206.11 753.29,1206.11 \n  \"/>\n<path clip-path=\"url(#clip582)\" d=\"\nM851.803 966.514 L851.803 1445.72 L950.317 1445.72 L950.317 966.514 L851.803 966.514 L851.803 966.514  Z\n  \" fill=\"#009af9\" fill-rule=\"evenodd\" fill-opacity=\"0.1\"/>\n<polyline clip-path=\"url(#clip582)\" style=\"stroke:#000000; stroke-linecap:butt; stroke-linejoin:round; stroke-width:4; stroke-opacity:0.1; fill:none\" points=\"\n  851.803,966.514 851.803,1445.72 950.317,1445.72 950.317,966.514 851.803,966.514 \n  \"/>\n<path clip-path=\"url(#clip582)\" d=\"\nM950.317 1046.38 L950.317 1445.72 L1048.83 1445.72 L1048.83 1046.38 L950.317 1046.38 L950.317 1046.38  Z\n  \" fill=\"#009af9\" fill-rule=\"evenodd\" fill-opacity=\"0.1\"/>\n<polyline clip-path=\"url(#clip582)\" style=\"stroke:#000000; stroke-linecap:butt; stroke-linejoin:round; stroke-width:4; stroke-opacity:0.1; fill:none\" points=\"\n  950.317,1046.38 950.317,1445.72 1048.83,1445.72 1048.83,1046.38 950.317,1046.38 \n  \"/>\n<path clip-path=\"url(#clip582)\" d=\"\nM1048.83 647.045 L1048.83 1445.72 L1147.34 1445.72 L1147.34 647.045 L1048.83 647.045 L1048.83 647.045  Z\n  \" fill=\"#009af9\" fill-rule=\"evenodd\" fill-opacity=\"0.1\"/>\n<polyline clip-path=\"url(#clip582)\" style=\"stroke:#000000; stroke-linecap:butt; stroke-linejoin:round; stroke-width:4; stroke-opacity:0.1; fill:none\" points=\"\n  1048.83,647.045 1048.83,1445.72 1147.34,1445.72 1147.34,647.045 1048.83,647.045 \n  \"/>\n<path clip-path=\"url(#clip582)\" d=\"\nM1147.34 567.178 L1147.34 1445.72 L1245.86 1445.72 L1245.86 567.178 L1147.34 567.178 L1147.34 567.178  Z\n  \" fill=\"#009af9\" fill-rule=\"evenodd\" fill-opacity=\"0.1\"/>\n<polyline clip-path=\"url(#clip582)\" style=\"stroke:#000000; stroke-linecap:butt; stroke-linejoin:round; stroke-width:4; stroke-opacity:0.1; fill:none\" points=\"\n  1147.34,567.178 1147.34,1445.72 1245.86,1445.72 1245.86,567.178 1147.34,567.178 \n  \"/>\n<path clip-path=\"url(#clip582)\" d=\"\nM1245.86 1046.38 L1245.86 1445.72 L1344.37 1445.72 L1344.37 1046.38 L1245.86 1046.38 L1245.86 1046.38  Z\n  \" fill=\"#009af9\" fill-rule=\"evenodd\" fill-opacity=\"0.1\"/>\n<polyline clip-path=\"url(#clip582)\" style=\"stroke:#000000; stroke-linecap:butt; stroke-linejoin:round; stroke-width:4; stroke-opacity:0.1; fill:none\" points=\"\n  1245.86,1046.38 1245.86,1445.72 1344.37,1445.72 1344.37,1046.38 1245.86,1046.38 \n  \"/>\n<path clip-path=\"url(#clip582)\" d=\"\nM1344.37 647.045 L1344.37 1445.72 L1442.88 1445.72 L1442.88 647.045 L1344.37 647.045 L1344.37 647.045  Z\n  \" fill=\"#009af9\" fill-rule=\"evenodd\" fill-opacity=\"0.1\"/>\n<polyline clip-path=\"url(#clip582)\" style=\"stroke:#000000; stroke-linecap:butt; stroke-linejoin:round; stroke-width:4; stroke-opacity:0.1; fill:none\" points=\"\n  1344.37,647.045 1344.37,1445.72 1442.88,1445.72 1442.88,647.045 1344.37,647.045 \n  \"/>\n<path clip-path=\"url(#clip582)\" d=\"\nM1442.88 567.178 L1442.88 1445.72 L1541.4 1445.72 L1541.4 567.178 L1442.88 567.178 L1442.88 567.178  Z\n  \" fill=\"#009af9\" fill-rule=\"evenodd\" fill-opacity=\"0.1\"/>\n<polyline clip-path=\"url(#clip582)\" style=\"stroke:#000000; stroke-linecap:butt; stroke-linejoin:round; stroke-width:4; stroke-opacity:0.1; fill:none\" points=\"\n  1442.88,567.178 1442.88,1445.72 1541.4,1445.72 1541.4,567.178 1442.88,567.178 \n  \"/>\n<path clip-path=\"url(#clip582)\" d=\"\nM1541.4 726.912 L1541.4 1445.72 L1639.91 1445.72 L1639.91 726.912 L1541.4 726.912 L1541.4 726.912  Z\n  \" fill=\"#009af9\" fill-rule=\"evenodd\" fill-opacity=\"0.1\"/>\n<polyline clip-path=\"url(#clip582)\" style=\"stroke:#000000; stroke-linecap:butt; stroke-linejoin:round; stroke-width:4; stroke-opacity:0.1; fill:none\" points=\"\n  1541.4,726.912 1541.4,1445.72 1639.91,1445.72 1639.91,726.912 1541.4,726.912 \n  \"/>\n<path clip-path=\"url(#clip582)\" d=\"\nM1639.91 726.912 L1639.91 1445.72 L1738.43 1445.72 L1738.43 726.912 L1639.91 726.912 L1639.91 726.912  Z\n  \" fill=\"#009af9\" fill-rule=\"evenodd\" fill-opacity=\"0.1\"/>\n<polyline clip-path=\"url(#clip582)\" style=\"stroke:#000000; stroke-linecap:butt; stroke-linejoin:round; stroke-width:4; stroke-opacity:0.1; fill:none\" points=\"\n  1639.91,726.912 1639.91,1445.72 1738.43,1445.72 1738.43,726.912 1639.91,726.912 \n  \"/>\n<path clip-path=\"url(#clip582)\" d=\"\nM1738.43 1126.25 L1738.43 1445.72 L1836.94 1445.72 L1836.94 1126.25 L1738.43 1126.25 L1738.43 1126.25  Z\n  \" fill=\"#009af9\" fill-rule=\"evenodd\" fill-opacity=\"0.1\"/>\n<polyline clip-path=\"url(#clip582)\" style=\"stroke:#000000; stroke-linecap:butt; stroke-linejoin:round; stroke-width:4; stroke-opacity:0.1; fill:none\" points=\"\n  1738.43,1126.25 1738.43,1445.72 1836.94,1445.72 1836.94,1126.25 1738.43,1126.25 \n  \"/>\n<path clip-path=\"url(#clip582)\" d=\"\nM1836.94 966.514 L1836.94 1445.72 L1935.45 1445.72 L1935.45 966.514 L1836.94 966.514 L1836.94 966.514  Z\n  \" fill=\"#009af9\" fill-rule=\"evenodd\" fill-opacity=\"0.1\"/>\n<polyline clip-path=\"url(#clip582)\" style=\"stroke:#000000; stroke-linecap:butt; stroke-linejoin:round; stroke-width:4; stroke-opacity:0.1; fill:none\" points=\"\n  1836.94,966.514 1836.94,1445.72 1935.45,1445.72 1935.45,966.514 1836.94,966.514 \n  \"/>\n<path clip-path=\"url(#clip582)\" d=\"\nM1935.45 1285.98 L1935.45 1445.72 L2033.97 1445.72 L2033.97 1285.98 L1935.45 1285.98 L1935.45 1285.98  Z\n  \" fill=\"#009af9\" fill-rule=\"evenodd\" fill-opacity=\"0.1\"/>\n<polyline clip-path=\"url(#clip582)\" style=\"stroke:#000000; stroke-linecap:butt; stroke-linejoin:round; stroke-width:4; stroke-opacity:0.1; fill:none\" points=\"\n  1935.45,1285.98 1935.45,1445.72 2033.97,1445.72 2033.97,1285.98 1935.45,1285.98 \n  \"/>\n<path clip-path=\"url(#clip582)\" d=\"\nM2033.97 1365.85 L2033.97 1445.72 L2132.48 1445.72 L2132.48 1365.85 L2033.97 1365.85 L2033.97 1365.85  Z\n  \" fill=\"#009af9\" fill-rule=\"evenodd\" fill-opacity=\"0.1\"/>\n<polyline clip-path=\"url(#clip582)\" style=\"stroke:#000000; stroke-linecap:butt; stroke-linejoin:round; stroke-width:4; stroke-opacity:0.1; fill:none\" points=\"\n  2033.97,1365.85 2033.97,1445.72 2132.48,1445.72 2132.48,1365.85 2033.97,1365.85 \n  \"/>\n<path clip-path=\"url(#clip582)\" d=\"\nM2132.48 1285.98 L2132.48 1445.72 L2230.99 1445.72 L2230.99 1285.98 L2132.48 1285.98 L2132.48 1285.98  Z\n  \" fill=\"#009af9\" fill-rule=\"evenodd\" fill-opacity=\"0.1\"/>\n<polyline clip-path=\"url(#clip582)\" style=\"stroke:#000000; stroke-linecap:butt; stroke-linejoin:round; stroke-width:4; stroke-opacity:0.1; fill:none\" points=\"\n  2132.48,1285.98 2132.48,1445.72 2230.99,1445.72 2230.99,1285.98 2132.48,1285.98 \n  \"/>\n<circle clip-path=\"url(#clip582)\" style=\"fill:#009af9; stroke:none; fill-opacity:0\" cx=\"309.979\" cy=\"1365.85\" r=\"2\"/>\n<circle clip-path=\"url(#clip582)\" style=\"fill:#009af9; stroke:none; fill-opacity:0\" cx=\"408.493\" cy=\"1365.85\" r=\"2\"/>\n<circle clip-path=\"url(#clip582)\" style=\"fill:#009af9; stroke:none; fill-opacity:0\" cx=\"507.006\" cy=\"1445.72\" r=\"2\"/>\n<circle clip-path=\"url(#clip582)\" style=\"fill:#009af9; stroke:none; fill-opacity:0\" cx=\"605.52\" cy=\"1365.85\" r=\"2\"/>\n<circle clip-path=\"url(#clip582)\" style=\"fill:#009af9; stroke:none; fill-opacity:0\" cx=\"704.033\" cy=\"1206.11\" r=\"2\"/>\n<circle clip-path=\"url(#clip582)\" style=\"fill:#009af9; stroke:none; fill-opacity:0\" cx=\"802.547\" cy=\"1206.11\" r=\"2\"/>\n<circle clip-path=\"url(#clip582)\" style=\"fill:#009af9; stroke:none; fill-opacity:0\" cx=\"901.06\" cy=\"966.514\" r=\"2\"/>\n<circle clip-path=\"url(#clip582)\" style=\"fill:#009af9; stroke:none; fill-opacity:0\" cx=\"999.574\" cy=\"1046.38\" r=\"2\"/>\n<circle clip-path=\"url(#clip582)\" style=\"fill:#009af9; stroke:none; fill-opacity:0\" cx=\"1098.09\" cy=\"647.045\" r=\"2\"/>\n<circle clip-path=\"url(#clip582)\" style=\"fill:#009af9; stroke:none; fill-opacity:0\" cx=\"1196.6\" cy=\"567.178\" r=\"2\"/>\n<circle clip-path=\"url(#clip582)\" style=\"fill:#009af9; stroke:none; fill-opacity:0\" cx=\"1295.11\" cy=\"1046.38\" r=\"2\"/>\n<circle clip-path=\"url(#clip582)\" style=\"fill:#009af9; stroke:none; fill-opacity:0\" cx=\"1393.63\" cy=\"647.045\" r=\"2\"/>\n<circle clip-path=\"url(#clip582)\" style=\"fill:#009af9; stroke:none; fill-opacity:0\" cx=\"1492.14\" cy=\"567.178\" r=\"2\"/>\n<circle clip-path=\"url(#clip582)\" style=\"fill:#009af9; stroke:none; fill-opacity:0\" cx=\"1590.66\" cy=\"726.912\" r=\"2\"/>\n<circle clip-path=\"url(#clip582)\" style=\"fill:#009af9; stroke:none; fill-opacity:0\" cx=\"1689.17\" cy=\"726.912\" r=\"2\"/>\n<circle clip-path=\"url(#clip582)\" style=\"fill:#009af9; stroke:none; fill-opacity:0\" cx=\"1787.68\" cy=\"1126.25\" r=\"2\"/>\n<circle clip-path=\"url(#clip582)\" style=\"fill:#009af9; stroke:none; fill-opacity:0\" cx=\"1886.2\" cy=\"966.514\" r=\"2\"/>\n<circle clip-path=\"url(#clip582)\" style=\"fill:#009af9; stroke:none; fill-opacity:0\" cx=\"1984.71\" cy=\"1285.98\" r=\"2\"/>\n<circle clip-path=\"url(#clip582)\" style=\"fill:#009af9; stroke:none; fill-opacity:0\" cx=\"2083.22\" cy=\"1365.85\" r=\"2\"/>\n<circle clip-path=\"url(#clip582)\" style=\"fill:#009af9; stroke:none; fill-opacity:0\" cx=\"2181.74\" cy=\"1285.98\" r=\"2\"/>\n<path clip-path=\"url(#clip582)\" d=\"\nM260.722 1365.85 L260.722 1445.72 L359.236 1445.72 L359.236 1365.85 L260.722 1365.85 L260.722 1365.85  Z\n  \" fill=\"#e26f46\" fill-rule=\"evenodd\" fill-opacity=\"0.1\"/>\n<polyline clip-path=\"url(#clip582)\" style=\"stroke:#000000; stroke-linecap:butt; stroke-linejoin:round; stroke-width:4; stroke-opacity:0.1; fill:none\" points=\"\n  260.722,1365.85 260.722,1445.72 359.236,1445.72 359.236,1365.85 260.722,1365.85 \n  \"/>\n<path clip-path=\"url(#clip582)\" d=\"\nM359.236 1365.85 L359.236 1445.72 L457.749 1445.72 L457.749 1365.85 L359.236 1365.85 L359.236 1365.85  Z\n  \" fill=\"#e26f46\" fill-rule=\"evenodd\" fill-opacity=\"0.1\"/>\n<polyline clip-path=\"url(#clip582)\" style=\"stroke:#000000; stroke-linecap:butt; stroke-linejoin:round; stroke-width:4; stroke-opacity:0.1; fill:none\" points=\"\n  359.236,1365.85 359.236,1445.72 457.749,1445.72 457.749,1365.85 359.236,1365.85 \n  \"/>\n<path clip-path=\"url(#clip582)\" d=\"\nM457.749 1445.72 L457.749 1445.72 L556.263 1445.72 L556.263 1445.72 L457.749 1445.72 L457.749 1445.72  Z\n  \" fill=\"#e26f46\" fill-rule=\"evenodd\" fill-opacity=\"0.1\"/>\n<polyline clip-path=\"url(#clip582)\" style=\"stroke:#000000; stroke-linecap:butt; stroke-linejoin:round; stroke-width:4; stroke-opacity:0.1; fill:none\" points=\"\n  457.749,1445.72 457.749,1445.72 556.263,1445.72 457.749,1445.72 \n  \"/>\n<path clip-path=\"url(#clip582)\" d=\"\nM556.263 1365.85 L556.263 1445.72 L654.776 1445.72 L654.776 1365.85 L556.263 1365.85 L556.263 1365.85  Z\n  \" fill=\"#e26f46\" fill-rule=\"evenodd\" fill-opacity=\"0.1\"/>\n<polyline clip-path=\"url(#clip582)\" style=\"stroke:#000000; stroke-linecap:butt; stroke-linejoin:round; stroke-width:4; stroke-opacity:0.1; fill:none\" points=\"\n  556.263,1365.85 556.263,1445.72 654.776,1445.72 654.776,1365.85 556.263,1365.85 \n  \"/>\n<path clip-path=\"url(#clip582)\" d=\"\nM654.776 1206.11 L654.776 1445.72 L753.29 1445.72 L753.29 1206.11 L654.776 1206.11 L654.776 1206.11  Z\n  \" fill=\"#e26f46\" fill-rule=\"evenodd\" fill-opacity=\"0.1\"/>\n<polyline clip-path=\"url(#clip582)\" style=\"stroke:#000000; stroke-linecap:butt; stroke-linejoin:round; stroke-width:4; stroke-opacity:0.1; fill:none\" points=\"\n  654.776,1206.11 654.776,1445.72 753.29,1445.72 753.29,1206.11 654.776,1206.11 \n  \"/>\n<path clip-path=\"url(#clip582)\" d=\"\nM753.29 1206.11 L753.29 1445.72 L851.803 1445.72 L851.803 1206.11 L753.29 1206.11 L753.29 1206.11  Z\n  \" fill=\"#e26f46\" fill-rule=\"evenodd\" fill-opacity=\"0.1\"/>\n<polyline clip-path=\"url(#clip582)\" style=\"stroke:#000000; stroke-linecap:butt; stroke-linejoin:round; stroke-width:4; stroke-opacity:0.1; fill:none\" points=\"\n  753.29,1206.11 753.29,1445.72 851.803,1445.72 851.803,1206.11 753.29,1206.11 \n  \"/>\n<path clip-path=\"url(#clip582)\" d=\"\nM851.803 966.514 L851.803 1445.72 L950.317 1445.72 L950.317 966.514 L851.803 966.514 L851.803 966.514  Z\n  \" fill=\"#e26f46\" fill-rule=\"evenodd\" fill-opacity=\"0.1\"/>\n<polyline clip-path=\"url(#clip582)\" style=\"stroke:#000000; stroke-linecap:butt; stroke-linejoin:round; stroke-width:4; stroke-opacity:0.1; fill:none\" points=\"\n  851.803,966.514 851.803,1445.72 950.317,1445.72 950.317,966.514 851.803,966.514 \n  \"/>\n<path clip-path=\"url(#clip582)\" d=\"\nM950.317 1046.38 L950.317 1445.72 L1048.83 1445.72 L1048.83 1046.38 L950.317 1046.38 L950.317 1046.38  Z\n  \" fill=\"#e26f46\" fill-rule=\"evenodd\" fill-opacity=\"0.1\"/>\n<polyline clip-path=\"url(#clip582)\" style=\"stroke:#000000; stroke-linecap:butt; stroke-linejoin:round; stroke-width:4; stroke-opacity:0.1; fill:none\" points=\"\n  950.317,1046.38 950.317,1445.72 1048.83,1445.72 1048.83,1046.38 950.317,1046.38 \n  \"/>\n<path clip-path=\"url(#clip582)\" d=\"\nM1048.83 647.045 L1048.83 1445.72 L1147.34 1445.72 L1147.34 647.045 L1048.83 647.045 L1048.83 647.045  Z\n  \" fill=\"#e26f46\" fill-rule=\"evenodd\" fill-opacity=\"0.1\"/>\n<polyline clip-path=\"url(#clip582)\" style=\"stroke:#000000; stroke-linecap:butt; stroke-linejoin:round; stroke-width:4; stroke-opacity:0.1; fill:none\" points=\"\n  1048.83,647.045 1048.83,1445.72 1147.34,1445.72 1147.34,647.045 1048.83,647.045 \n  \"/>\n<path clip-path=\"url(#clip582)\" d=\"\nM1147.34 567.178 L1147.34 1445.72 L1245.86 1445.72 L1245.86 567.178 L1147.34 567.178 L1147.34 567.178  Z\n  \" fill=\"#e26f46\" fill-rule=\"evenodd\" fill-opacity=\"0.1\"/>\n<polyline clip-path=\"url(#clip582)\" style=\"stroke:#000000; stroke-linecap:butt; stroke-linejoin:round; stroke-width:4; stroke-opacity:0.1; fill:none\" points=\"\n  1147.34,567.178 1147.34,1445.72 1245.86,1445.72 1245.86,567.178 1147.34,567.178 \n  \"/>\n<path clip-path=\"url(#clip582)\" d=\"\nM1245.86 1046.38 L1245.86 1445.72 L1344.37 1445.72 L1344.37 1046.38 L1245.86 1046.38 L1245.86 1046.38  Z\n  \" fill=\"#e26f46\" fill-rule=\"evenodd\" fill-opacity=\"0.1\"/>\n<polyline clip-path=\"url(#clip582)\" style=\"stroke:#000000; stroke-linecap:butt; stroke-linejoin:round; stroke-width:4; stroke-opacity:0.1; fill:none\" points=\"\n  1245.86,1046.38 1245.86,1445.72 1344.37,1445.72 1344.37,1046.38 1245.86,1046.38 \n  \"/>\n<path clip-path=\"url(#clip582)\" d=\"\nM1344.37 647.045 L1344.37 1445.72 L1442.88 1445.72 L1442.88 647.045 L1344.37 647.045 L1344.37 647.045  Z\n  \" fill=\"#e26f46\" fill-rule=\"evenodd\" fill-opacity=\"0.1\"/>\n<polyline clip-path=\"url(#clip582)\" style=\"stroke:#000000; stroke-linecap:butt; stroke-linejoin:round; stroke-width:4; stroke-opacity:0.1; fill:none\" points=\"\n  1344.37,647.045 1344.37,1445.72 1442.88,1445.72 1442.88,647.045 1344.37,647.045 \n  \"/>\n<path clip-path=\"url(#clip582)\" d=\"\nM1442.88 567.178 L1442.88 1445.72 L1541.4 1445.72 L1541.4 567.178 L1442.88 567.178 L1442.88 567.178  Z\n  \" fill=\"#e26f46\" fill-rule=\"evenodd\" fill-opacity=\"0.1\"/>\n<polyline clip-path=\"url(#clip582)\" style=\"stroke:#000000; stroke-linecap:butt; stroke-linejoin:round; stroke-width:4; stroke-opacity:0.1; fill:none\" points=\"\n  1442.88,567.178 1442.88,1445.72 1541.4,1445.72 1541.4,567.178 1442.88,567.178 \n  \"/>\n<path clip-path=\"url(#clip582)\" d=\"\nM1541.4 726.912 L1541.4 1445.72 L1639.91 1445.72 L1639.91 726.912 L1541.4 726.912 L1541.4 726.912  Z\n  \" fill=\"#e26f46\" fill-rule=\"evenodd\" fill-opacity=\"0.1\"/>\n<polyline clip-path=\"url(#clip582)\" style=\"stroke:#000000; stroke-linecap:butt; stroke-linejoin:round; stroke-width:4; stroke-opacity:0.1; fill:none\" points=\"\n  1541.4,726.912 1541.4,1445.72 1639.91,1445.72 1639.91,726.912 1541.4,726.912 \n  \"/>\n<path clip-path=\"url(#clip582)\" d=\"\nM1639.91 726.912 L1639.91 1445.72 L1738.43 1445.72 L1738.43 726.912 L1639.91 726.912 L1639.91 726.912  Z\n  \" fill=\"#e26f46\" fill-rule=\"evenodd\" fill-opacity=\"0.1\"/>\n<polyline clip-path=\"url(#clip582)\" style=\"stroke:#000000; stroke-linecap:butt; stroke-linejoin:round; stroke-width:4; stroke-opacity:0.1; fill:none\" points=\"\n  1639.91,726.912 1639.91,1445.72 1738.43,1445.72 1738.43,726.912 1639.91,726.912 \n  \"/>\n<path clip-path=\"url(#clip582)\" d=\"\nM1738.43 1126.25 L1738.43 1445.72 L1836.94 1445.72 L1836.94 1126.25 L1738.43 1126.25 L1738.43 1126.25  Z\n  \" fill=\"#e26f46\" fill-rule=\"evenodd\" fill-opacity=\"0.1\"/>\n<polyline clip-path=\"url(#clip582)\" style=\"stroke:#000000; stroke-linecap:butt; stroke-linejoin:round; stroke-width:4; stroke-opacity:0.1; fill:none\" points=\"\n  1738.43,1126.25 1738.43,1445.72 1836.94,1445.72 1836.94,1126.25 1738.43,1126.25 \n  \"/>\n<path clip-path=\"url(#clip582)\" d=\"\nM1836.94 966.514 L1836.94 1445.72 L1935.45 1445.72 L1935.45 966.514 L1836.94 966.514 L1836.94 966.514  Z\n  \" fill=\"#e26f46\" fill-rule=\"evenodd\" fill-opacity=\"0.1\"/>\n<polyline clip-path=\"url(#clip582)\" style=\"stroke:#000000; stroke-linecap:butt; stroke-linejoin:round; stroke-width:4; stroke-opacity:0.1; fill:none\" points=\"\n  1836.94,966.514 1836.94,1445.72 1935.45,1445.72 1935.45,966.514 1836.94,966.514 \n  \"/>\n<path clip-path=\"url(#clip582)\" d=\"\nM1935.45 1285.98 L1935.45 1445.72 L2033.97 1445.72 L2033.97 1285.98 L1935.45 1285.98 L1935.45 1285.98  Z\n  \" fill=\"#e26f46\" fill-rule=\"evenodd\" fill-opacity=\"0.1\"/>\n<polyline clip-path=\"url(#clip582)\" style=\"stroke:#000000; stroke-linecap:butt; stroke-linejoin:round; stroke-width:4; stroke-opacity:0.1; fill:none\" points=\"\n  1935.45,1285.98 1935.45,1445.72 2033.97,1445.72 2033.97,1285.98 1935.45,1285.98 \n  \"/>\n<path clip-path=\"url(#clip582)\" d=\"\nM2033.97 1365.85 L2033.97 1445.72 L2132.48 1445.72 L2132.48 1365.85 L2033.97 1365.85 L2033.97 1365.85  Z\n  \" fill=\"#e26f46\" fill-rule=\"evenodd\" fill-opacity=\"0.1\"/>\n<polyline clip-path=\"url(#clip582)\" style=\"stroke:#000000; stroke-linecap:butt; stroke-linejoin:round; stroke-width:4; stroke-opacity:0.1; fill:none\" points=\"\n  2033.97,1365.85 2033.97,1445.72 2132.48,1445.72 2132.48,1365.85 2033.97,1365.85 \n  \"/>\n<path clip-path=\"url(#clip582)\" d=\"\nM2132.48 1285.98 L2132.48 1445.72 L2230.99 1445.72 L2230.99 1285.98 L2132.48 1285.98 L2132.48 1285.98  Z\n  \" fill=\"#e26f46\" fill-rule=\"evenodd\" fill-opacity=\"0.1\"/>\n<polyline clip-path=\"url(#clip582)\" style=\"stroke:#000000; stroke-linecap:butt; stroke-linejoin:round; stroke-width:4; stroke-opacity:0.1; fill:none\" points=\"\n  2132.48,1285.98 2132.48,1445.72 2230.99,1445.72 2230.99,1285.98 2132.48,1285.98 \n  \"/>\n<circle clip-path=\"url(#clip582)\" style=\"fill:#e26f46; stroke:none; fill-opacity:0\" cx=\"309.979\" cy=\"1365.85\" r=\"2\"/>\n<circle clip-path=\"url(#clip582)\" style=\"fill:#e26f46; stroke:none; fill-opacity:0\" cx=\"408.493\" cy=\"1365.85\" r=\"2\"/>\n<circle clip-path=\"url(#clip582)\" style=\"fill:#e26f46; stroke:none; fill-opacity:0\" cx=\"507.006\" cy=\"1445.72\" r=\"2\"/>\n<circle clip-path=\"url(#clip582)\" style=\"fill:#e26f46; stroke:none; fill-opacity:0\" cx=\"605.52\" cy=\"1365.85\" r=\"2\"/>\n<circle clip-path=\"url(#clip582)\" style=\"fill:#e26f46; stroke:none; fill-opacity:0\" cx=\"704.033\" cy=\"1206.11\" r=\"2\"/>\n<circle clip-path=\"url(#clip582)\" style=\"fill:#e26f46; stroke:none; fill-opacity:0\" cx=\"802.547\" cy=\"1206.11\" r=\"2\"/>\n<circle clip-path=\"url(#clip582)\" style=\"fill:#e26f46; stroke:none; fill-opacity:0\" cx=\"901.06\" cy=\"966.514\" r=\"2\"/>\n<circle clip-path=\"url(#clip582)\" style=\"fill:#e26f46; stroke:none; fill-opacity:0\" cx=\"999.574\" cy=\"1046.38\" r=\"2\"/>\n<circle clip-path=\"url(#clip582)\" style=\"fill:#e26f46; stroke:none; fill-opacity:0\" cx=\"1098.09\" cy=\"647.045\" r=\"2\"/>\n<circle clip-path=\"url(#clip582)\" style=\"fill:#e26f46; stroke:none; fill-opacity:0\" cx=\"1196.6\" cy=\"567.178\" r=\"2\"/>\n<circle clip-path=\"url(#clip582)\" style=\"fill:#e26f46; stroke:none; fill-opacity:0\" cx=\"1295.11\" cy=\"1046.38\" r=\"2\"/>\n<circle clip-path=\"url(#clip582)\" style=\"fill:#e26f46; stroke:none; fill-opacity:0\" cx=\"1393.63\" cy=\"647.045\" r=\"2\"/>\n<circle clip-path=\"url(#clip582)\" style=\"fill:#e26f46; stroke:none; fill-opacity:0\" cx=\"1492.14\" cy=\"567.178\" r=\"2\"/>\n<circle clip-path=\"url(#clip582)\" style=\"fill:#e26f46; stroke:none; fill-opacity:0\" cx=\"1590.66\" cy=\"726.912\" r=\"2\"/>\n<circle clip-path=\"url(#clip582)\" style=\"fill:#e26f46; stroke:none; fill-opacity:0\" cx=\"1689.17\" cy=\"726.912\" r=\"2\"/>\n<circle clip-path=\"url(#clip582)\" style=\"fill:#e26f46; stroke:none; fill-opacity:0\" cx=\"1787.68\" cy=\"1126.25\" r=\"2\"/>\n<circle clip-path=\"url(#clip582)\" style=\"fill:#e26f46; stroke:none; fill-opacity:0\" cx=\"1886.2\" cy=\"966.514\" r=\"2\"/>\n<circle clip-path=\"url(#clip582)\" style=\"fill:#e26f46; stroke:none; fill-opacity:0\" cx=\"1984.71\" cy=\"1285.98\" r=\"2\"/>\n<circle clip-path=\"url(#clip582)\" style=\"fill:#e26f46; stroke:none; fill-opacity:0\" cx=\"2083.22\" cy=\"1365.85\" r=\"2\"/>\n<circle clip-path=\"url(#clip582)\" style=\"fill:#e26f46; stroke:none; fill-opacity:0\" cx=\"2181.74\" cy=\"1285.98\" r=\"2\"/>\n<path clip-path=\"url(#clip582)\" d=\"\nM556.263 1365.85 L556.263 1445.72 L654.776 1445.72 L654.776 1365.85 L556.263 1365.85 L556.263 1365.85  Z\n  \" fill=\"#3da44d\" fill-rule=\"evenodd\" fill-opacity=\"0.1\"/>\n<polyline clip-path=\"url(#clip582)\" style=\"stroke:#000000; stroke-linecap:butt; stroke-linejoin:round; stroke-width:4; stroke-opacity:0.1; fill:none\" points=\"\n  556.263,1365.85 556.263,1445.72 654.776,1445.72 654.776,1365.85 556.263,1365.85 \n  \"/>\n<path clip-path=\"url(#clip582)\" d=\"\nM654.776 1365.85 L654.776 1445.72 L753.29 1445.72 L753.29 1365.85 L654.776 1365.85 L654.776 1365.85  Z\n  \" fill=\"#3da44d\" fill-rule=\"evenodd\" fill-opacity=\"0.1\"/>\n<polyline clip-path=\"url(#clip582)\" style=\"stroke:#000000; stroke-linecap:butt; stroke-linejoin:round; stroke-width:4; stroke-opacity:0.1; fill:none\" points=\"\n  654.776,1365.85 654.776,1445.72 753.29,1445.72 753.29,1365.85 654.776,1365.85 \n  \"/>\n<path clip-path=\"url(#clip582)\" d=\"\nM753.29 1206.11 L753.29 1445.72 L851.803 1445.72 L851.803 1206.11 L753.29 1206.11 L753.29 1206.11  Z\n  \" fill=\"#3da44d\" fill-rule=\"evenodd\" fill-opacity=\"0.1\"/>\n<polyline clip-path=\"url(#clip582)\" style=\"stroke:#000000; stroke-linecap:butt; stroke-linejoin:round; stroke-width:4; stroke-opacity:0.1; fill:none\" points=\"\n  753.29,1206.11 753.29,1445.72 851.803,1445.72 851.803,1206.11 753.29,1206.11 \n  \"/>\n<path clip-path=\"url(#clip582)\" d=\"\nM851.803 1365.85 L851.803 1445.72 L950.317 1445.72 L950.317 1365.85 L851.803 1365.85 L851.803 1365.85  Z\n  \" fill=\"#3da44d\" fill-rule=\"evenodd\" fill-opacity=\"0.1\"/>\n<polyline clip-path=\"url(#clip582)\" style=\"stroke:#000000; stroke-linecap:butt; stroke-linejoin:round; stroke-width:4; stroke-opacity:0.1; fill:none\" points=\"\n  851.803,1365.85 851.803,1445.72 950.317,1445.72 950.317,1365.85 851.803,1365.85 \n  \"/>\n<path clip-path=\"url(#clip582)\" d=\"\nM950.317 567.178 L950.317 1445.72 L1048.83 1445.72 L1048.83 567.178 L950.317 567.178 L950.317 567.178  Z\n  \" fill=\"#3da44d\" fill-rule=\"evenodd\" fill-opacity=\"0.1\"/>\n<polyline clip-path=\"url(#clip582)\" style=\"stroke:#000000; stroke-linecap:butt; stroke-linejoin:round; stroke-width:4; stroke-opacity:0.1; fill:none\" points=\"\n  950.317,567.178 950.317,1445.72 1048.83,1445.72 1048.83,567.178 950.317,567.178 \n  \"/>\n<path clip-path=\"url(#clip582)\" d=\"\nM1048.83 567.178 L1048.83 1445.72 L1147.34 1445.72 L1147.34 567.178 L1048.83 567.178 L1048.83 567.178  Z\n  \" fill=\"#3da44d\" fill-rule=\"evenodd\" fill-opacity=\"0.1\"/>\n<polyline clip-path=\"url(#clip582)\" style=\"stroke:#000000; stroke-linecap:butt; stroke-linejoin:round; stroke-width:4; stroke-opacity:0.1; fill:none\" points=\"\n  1048.83,567.178 1048.83,1445.72 1147.34,1445.72 1147.34,567.178 1048.83,567.178 \n  \"/>\n<path clip-path=\"url(#clip582)\" d=\"\nM1147.34 487.311 L1147.34 1445.72 L1245.86 1445.72 L1245.86 487.311 L1147.34 487.311 L1147.34 487.311  Z\n  \" fill=\"#3da44d\" fill-rule=\"evenodd\" fill-opacity=\"0.1\"/>\n<polyline clip-path=\"url(#clip582)\" style=\"stroke:#000000; stroke-linecap:butt; stroke-linejoin:round; stroke-width:4; stroke-opacity:0.1; fill:none\" points=\"\n  1147.34,487.311 1147.34,1445.72 1245.86,1445.72 1245.86,487.311 1147.34,487.311 \n  \"/>\n<path clip-path=\"url(#clip582)\" d=\"\nM1245.86 327.577 L1245.86 1445.72 L1344.37 1445.72 L1344.37 327.577 L1245.86 327.577 L1245.86 327.577  Z\n  \" fill=\"#3da44d\" fill-rule=\"evenodd\" fill-opacity=\"0.1\"/>\n<polyline clip-path=\"url(#clip582)\" style=\"stroke:#000000; stroke-linecap:butt; stroke-linejoin:round; stroke-width:4; stroke-opacity:0.1; fill:none\" points=\"\n  1245.86,327.577 1245.86,1445.72 1344.37,1445.72 1344.37,327.577 1245.86,327.577 \n  \"/>\n<path clip-path=\"url(#clip582)\" d=\"\nM1344.37 87.9763 L1344.37 1445.72 L1442.88 1445.72 L1442.88 87.9763 L1344.37 87.9763 L1344.37 87.9763  Z\n  \" fill=\"#3da44d\" fill-rule=\"evenodd\" fill-opacity=\"0.1\"/>\n<polyline clip-path=\"url(#clip582)\" style=\"stroke:#000000; stroke-linecap:butt; stroke-linejoin:round; stroke-width:4; stroke-opacity:0.1; fill:none\" points=\"\n  1344.37,87.9763 1344.37,1445.72 1442.88,1445.72 1442.88,87.9763 1344.37,87.9763 \n  \"/>\n<path clip-path=\"url(#clip582)\" d=\"\nM1442.88 487.311 L1442.88 1445.72 L1541.4 1445.72 L1541.4 487.311 L1442.88 487.311 L1442.88 487.311  Z\n  \" fill=\"#3da44d\" fill-rule=\"evenodd\" fill-opacity=\"0.1\"/>\n<polyline clip-path=\"url(#clip582)\" style=\"stroke:#000000; stroke-linecap:butt; stroke-linejoin:round; stroke-width:4; stroke-opacity:0.1; fill:none\" points=\"\n  1442.88,487.311 1442.88,1445.72 1541.4,1445.72 1541.4,487.311 1442.88,487.311 \n  \"/>\n<path clip-path=\"url(#clip582)\" d=\"\nM1541.4 647.045 L1541.4 1445.72 L1639.91 1445.72 L1639.91 647.045 L1541.4 647.045 L1541.4 647.045  Z\n  \" fill=\"#3da44d\" fill-rule=\"evenodd\" fill-opacity=\"0.1\"/>\n<polyline clip-path=\"url(#clip582)\" style=\"stroke:#000000; stroke-linecap:butt; stroke-linejoin:round; stroke-width:4; stroke-opacity:0.1; fill:none\" points=\"\n  1541.4,647.045 1541.4,1445.72 1639.91,1445.72 1639.91,647.045 1541.4,647.045 \n  \"/>\n<path clip-path=\"url(#clip582)\" d=\"\nM1639.91 1046.38 L1639.91 1445.72 L1738.43 1445.72 L1738.43 1046.38 L1639.91 1046.38 L1639.91 1046.38  Z\n  \" fill=\"#3da44d\" fill-rule=\"evenodd\" fill-opacity=\"0.1\"/>\n<polyline clip-path=\"url(#clip582)\" style=\"stroke:#000000; stroke-linecap:butt; stroke-linejoin:round; stroke-width:4; stroke-opacity:0.1; fill:none\" points=\"\n  1639.91,1046.38 1639.91,1445.72 1738.43,1445.72 1738.43,1046.38 1639.91,1046.38 \n  \"/>\n<path clip-path=\"url(#clip582)\" d=\"\nM1738.43 1285.98 L1738.43 1445.72 L1836.94 1445.72 L1836.94 1285.98 L1738.43 1285.98 L1738.43 1285.98  Z\n  \" fill=\"#3da44d\" fill-rule=\"evenodd\" fill-opacity=\"0.1\"/>\n<polyline clip-path=\"url(#clip582)\" style=\"stroke:#000000; stroke-linecap:butt; stroke-linejoin:round; stroke-width:4; stroke-opacity:0.1; fill:none\" points=\"\n  1738.43,1285.98 1738.43,1445.72 1836.94,1445.72 1836.94,1285.98 1738.43,1285.98 \n  \"/>\n<circle clip-path=\"url(#clip582)\" style=\"fill:#3da44d; stroke:none; fill-opacity:0\" cx=\"605.52\" cy=\"1365.85\" r=\"2\"/>\n<circle clip-path=\"url(#clip582)\" style=\"fill:#3da44d; stroke:none; fill-opacity:0\" cx=\"704.033\" cy=\"1365.85\" r=\"2\"/>\n<circle clip-path=\"url(#clip582)\" style=\"fill:#3da44d; stroke:none; fill-opacity:0\" cx=\"802.547\" cy=\"1206.11\" r=\"2\"/>\n<circle clip-path=\"url(#clip582)\" style=\"fill:#3da44d; stroke:none; fill-opacity:0\" cx=\"901.06\" cy=\"1365.85\" r=\"2\"/>\n<circle clip-path=\"url(#clip582)\" style=\"fill:#3da44d; stroke:none; fill-opacity:0\" cx=\"999.574\" cy=\"567.178\" r=\"2\"/>\n<circle clip-path=\"url(#clip582)\" style=\"fill:#3da44d; stroke:none; fill-opacity:0\" cx=\"1098.09\" cy=\"567.178\" r=\"2\"/>\n<circle clip-path=\"url(#clip582)\" style=\"fill:#3da44d; stroke:none; fill-opacity:0\" cx=\"1196.6\" cy=\"487.311\" r=\"2\"/>\n<circle clip-path=\"url(#clip582)\" style=\"fill:#3da44d; stroke:none; fill-opacity:0\" cx=\"1295.11\" cy=\"327.577\" r=\"2\"/>\n<circle clip-path=\"url(#clip582)\" style=\"fill:#3da44d; stroke:none; fill-opacity:0\" cx=\"1393.63\" cy=\"87.9763\" r=\"2\"/>\n<circle clip-path=\"url(#clip582)\" style=\"fill:#3da44d; stroke:none; fill-opacity:0\" cx=\"1492.14\" cy=\"487.311\" r=\"2\"/>\n<circle clip-path=\"url(#clip582)\" style=\"fill:#3da44d; stroke:none; fill-opacity:0\" cx=\"1590.66\" cy=\"647.045\" r=\"2\"/>\n<circle clip-path=\"url(#clip582)\" style=\"fill:#3da44d; stroke:none; fill-opacity:0\" cx=\"1689.17\" cy=\"1046.38\" r=\"2\"/>\n<circle clip-path=\"url(#clip582)\" style=\"fill:#3da44d; stroke:none; fill-opacity:0\" cx=\"1787.68\" cy=\"1285.98\" r=\"2\"/>\n<path clip-path=\"url(#clip580)\" d=\"\nM1738.08 302.578 L2278.96 302.578 L2278.96 95.2176 L1738.08 95.2176  Z\n  \" fill=\"#ffffff\" fill-rule=\"evenodd\" fill-opacity=\"1\"/>\n<polyline clip-path=\"url(#clip580)\" style=\"stroke:#000000; stroke-linecap:butt; stroke-linejoin:round; stroke-width:4; stroke-opacity:1; fill:none\" points=\"\n  1738.08,302.578 2278.96,302.578 2278.96,95.2176 1738.08,95.2176 1738.08,302.578 \n  \"/>\n<path clip-path=\"url(#clip580)\" d=\"\nM1762.68 167.794 L1910.26 167.794 L1910.26 126.322 L1762.68 126.322 L1762.68 167.794  Z\n  \" fill=\"#009af9\" fill-rule=\"evenodd\" fill-opacity=\"0.1\"/>\n<polyline clip-path=\"url(#clip580)\" style=\"stroke:#000000; stroke-linecap:butt; stroke-linejoin:round; stroke-width:4; stroke-opacity:1; fill:none\" points=\"\n  1762.68,167.794 1910.26,167.794 1910.26,126.322 1762.68,126.322 1762.68,167.794 \n  \"/>\n<path clip-path=\"url(#clip580)\" d=\"M1934.86 154.106 L1934.86 138.412 L1939.12 138.412 L1939.12 153.944 Q1939.12 157.625 1940.56 159.476 Q1941.99 161.305 1944.86 161.305 Q1948.31 161.305 1950.3 159.106 Q1952.31 156.907 1952.31 153.111 L1952.31 138.412 L1956.57 138.412 L1956.57 164.338 L1952.31 164.338 L1952.31 160.356 Q1950.76 162.717 1948.7 163.875 Q1946.67 165.009 1943.96 165.009 Q1939.49 165.009 1937.18 162.231 Q1934.86 159.453 1934.86 154.106 M1945.58 137.787 L1945.58 137.787 Z\" fill=\"#000000\" fill-rule=\"evenodd\" fill-opacity=\"1\" /><path clip-path=\"url(#clip580)\" d=\"M1969.47 160.449 L1969.47 174.199 L1965.19 174.199 L1965.19 138.412 L1969.47 138.412 L1969.47 142.347 Q1970.81 140.032 1972.85 138.921 Q1974.91 137.787 1977.75 137.787 Q1982.48 137.787 1985.42 141.537 Q1988.38 145.287 1988.38 151.398 Q1988.38 157.509 1985.42 161.259 Q1982.48 165.009 1977.75 165.009 Q1974.91 165.009 1972.85 163.898 Q1970.81 162.763 1969.47 160.449 M1983.96 151.398 Q1983.96 146.699 1982.01 144.037 Q1980.09 141.352 1976.71 141.352 Q1973.33 141.352 1971.39 144.037 Q1969.47 146.699 1969.47 151.398 Q1969.47 156.097 1971.39 158.782 Q1973.33 161.444 1976.71 161.444 Q1980.09 161.444 1982.01 158.782 Q1983.96 156.097 1983.96 151.398 Z\" fill=\"#000000\" fill-rule=\"evenodd\" fill-opacity=\"1\" /><path clip-path=\"url(#clip580)\" d=\"M1999.56 160.449 L1999.56 174.199 L1995.28 174.199 L1995.28 138.412 L1999.56 138.412 L1999.56 142.347 Q2000.9 140.032 2002.94 138.921 Q2005 137.787 2007.85 137.787 Q2012.57 137.787 2015.51 141.537 Q2018.47 145.287 2018.47 151.398 Q2018.47 157.509 2015.51 161.259 Q2012.57 165.009 2007.85 165.009 Q2005 165.009 2002.94 163.898 Q2000.9 162.763 1999.56 160.449 M2014.05 151.398 Q2014.05 146.699 2012.11 144.037 Q2010.19 141.352 2006.81 141.352 Q2003.43 141.352 2001.48 144.037 Q1999.56 146.699 1999.56 151.398 Q1999.56 156.097 2001.48 158.782 Q2003.43 161.444 2006.81 161.444 Q2010.19 161.444 2012.11 158.782 Q2014.05 156.097 2014.05 151.398 Z\" fill=\"#000000\" fill-rule=\"evenodd\" fill-opacity=\"1\" /><path clip-path=\"url(#clip580)\" d=\"M2047.71 150.31 L2047.71 152.393 L2028.12 152.393 Q2028.4 156.791 2030.76 159.106 Q2033.15 161.398 2037.38 161.398 Q2039.84 161.398 2042.13 160.796 Q2044.44 160.194 2046.71 158.99 L2046.71 163.018 Q2044.42 163.99 2042.01 164.5 Q2039.61 165.009 2037.13 165.009 Q2030.93 165.009 2027.29 161.398 Q2023.68 157.787 2023.68 151.629 Q2023.68 145.264 2027.11 141.537 Q2030.56 137.787 2036.39 137.787 Q2041.62 137.787 2044.65 141.166 Q2047.71 144.523 2047.71 150.31 M2043.45 149.06 Q2043.4 145.565 2041.48 143.481 Q2039.58 141.398 2036.43 141.398 Q2032.87 141.398 2030.72 143.412 Q2028.59 145.426 2028.26 149.083 L2043.45 149.06 Z\" fill=\"#000000\" fill-rule=\"evenodd\" fill-opacity=\"1\" /><path clip-path=\"url(#clip580)\" d=\"M2069.72 142.393 Q2069 141.977 2068.15 141.791 Q2067.31 141.583 2066.3 141.583 Q2062.68 141.583 2060.74 143.944 Q2058.82 146.282 2058.82 150.68 L2058.82 164.338 L2054.54 164.338 L2054.54 138.412 L2058.82 138.412 L2058.82 142.44 Q2060.16 140.078 2062.31 138.944 Q2064.47 137.787 2067.55 137.787 Q2067.99 137.787 2068.52 137.856 Q2069.05 137.903 2069.7 138.018 L2069.72 142.393 Z\" fill=\"#000000\" fill-rule=\"evenodd\" fill-opacity=\"1\" /><path clip-path=\"url(#clip580)\" d=\"M2107.87 151.398 Q2107.87 146.699 2105.93 144.037 Q2104 141.352 2100.62 141.352 Q2097.24 141.352 2095.3 144.037 Q2093.38 146.699 2093.38 151.398 Q2093.38 156.097 2095.3 158.782 Q2097.24 161.444 2100.62 161.444 Q2104 161.444 2105.93 158.782 Q2107.87 156.097 2107.87 151.398 M2093.38 142.347 Q2094.72 140.032 2096.76 138.921 Q2098.82 137.787 2101.67 137.787 Q2106.39 137.787 2109.33 141.537 Q2112.29 145.287 2112.29 151.398 Q2112.29 157.509 2109.33 161.259 Q2106.39 165.009 2101.67 165.009 Q2098.82 165.009 2096.76 163.898 Q2094.72 162.763 2093.38 160.449 L2093.38 164.338 L2089.1 164.338 L2089.1 128.319 L2093.38 128.319 L2093.38 142.347 Z\" fill=\"#000000\" fill-rule=\"evenodd\" fill-opacity=\"1\" /><path clip-path=\"url(#clip580)\" d=\"M2129.4 141.398 Q2125.97 141.398 2123.98 144.083 Q2121.99 146.745 2121.99 151.398 Q2121.99 156.051 2123.96 158.736 Q2125.95 161.398 2129.4 161.398 Q2132.8 161.398 2134.79 158.713 Q2136.78 156.027 2136.78 151.398 Q2136.78 146.791 2134.79 144.106 Q2132.8 141.398 2129.4 141.398 M2129.4 137.787 Q2134.95 137.787 2138.12 141.398 Q2141.3 145.009 2141.3 151.398 Q2141.3 157.764 2138.12 161.398 Q2134.95 165.009 2129.4 165.009 Q2123.82 165.009 2120.65 161.398 Q2117.5 157.764 2117.5 151.398 Q2117.5 145.009 2120.65 141.398 Q2123.82 137.787 2129.4 137.787 Z\" fill=\"#000000\" fill-rule=\"evenodd\" fill-opacity=\"1\" /><path clip-path=\"url(#clip580)\" d=\"M2147.92 154.106 L2147.92 138.412 L2152.18 138.412 L2152.18 153.944 Q2152.18 157.625 2153.61 159.476 Q2155.05 161.305 2157.92 161.305 Q2161.36 161.305 2163.36 159.106 Q2165.37 156.907 2165.37 153.111 L2165.37 138.412 L2169.63 138.412 L2169.63 164.338 L2165.37 164.338 L2165.37 160.356 Q2163.82 162.717 2161.76 163.875 Q2159.72 165.009 2157.01 165.009 Q2152.55 165.009 2150.23 162.231 Q2147.92 159.453 2147.92 154.106 M2158.63 137.787 L2158.63 137.787 Z\" fill=\"#000000\" fill-rule=\"evenodd\" fill-opacity=\"1\" /><path clip-path=\"url(#clip580)\" d=\"M2199.95 148.689 L2199.95 164.338 L2195.69 164.338 L2195.69 148.828 Q2195.69 145.148 2194.26 143.319 Q2192.82 141.49 2189.95 141.49 Q2186.5 141.49 2184.51 143.69 Q2182.52 145.889 2182.52 149.685 L2182.52 164.338 L2178.24 164.338 L2178.24 138.412 L2182.52 138.412 L2182.52 142.44 Q2184.05 140.102 2186.11 138.944 Q2188.19 137.787 2190.9 137.787 Q2195.37 137.787 2197.66 140.565 Q2199.95 143.319 2199.95 148.689 Z\" fill=\"#000000\" fill-rule=\"evenodd\" fill-opacity=\"1\" /><path clip-path=\"url(#clip580)\" d=\"M2225.51 142.347 L2225.51 128.319 L2229.77 128.319 L2229.77 164.338 L2225.51 164.338 L2225.51 160.449 Q2224.17 162.763 2222.11 163.898 Q2220.07 165.009 2217.2 165.009 Q2212.5 165.009 2209.54 161.259 Q2206.6 157.509 2206.6 151.398 Q2206.6 145.287 2209.54 141.537 Q2212.5 137.787 2217.2 137.787 Q2220.07 137.787 2222.11 138.921 Q2224.17 140.032 2225.51 142.347 M2210.99 151.398 Q2210.99 156.097 2212.92 158.782 Q2214.86 161.444 2218.24 161.444 Q2221.62 161.444 2223.56 158.782 Q2225.51 156.097 2225.51 151.398 Q2225.51 146.699 2223.56 144.037 Q2221.62 141.352 2218.24 141.352 Q2214.86 141.352 2212.92 144.037 Q2210.99 146.699 2210.99 151.398 Z\" fill=\"#000000\" fill-rule=\"evenodd\" fill-opacity=\"1\" /><path clip-path=\"url(#clip580)\" d=\"\nM1762.68 219.634 L1910.26 219.634 L1910.26 178.162 L1762.68 178.162 L1762.68 219.634  Z\n  \" fill=\"#e26f46\" fill-rule=\"evenodd\" fill-opacity=\"0.1\"/>\n<polyline clip-path=\"url(#clip580)\" style=\"stroke:#000000; stroke-linecap:butt; stroke-linejoin:round; stroke-width:4; stroke-opacity:1; fill:none\" points=\"\n  1762.68,219.634 1910.26,219.634 1910.26,178.162 1762.68,178.162 1762.68,219.634 \n  \"/>\n<path clip-path=\"url(#clip580)\" d=\"M1934.86 205.946 L1934.86 190.252 L1939.12 190.252 L1939.12 205.784 Q1939.12 209.465 1940.56 211.316 Q1941.99 213.145 1944.86 213.145 Q1948.31 213.145 1950.3 210.946 Q1952.31 208.747 1952.31 204.951 L1952.31 190.252 L1956.57 190.252 L1956.57 216.178 L1952.31 216.178 L1952.31 212.196 Q1950.76 214.557 1948.7 215.715 Q1946.67 216.849 1943.96 216.849 Q1939.49 216.849 1937.18 214.071 Q1934.86 211.293 1934.86 205.946 M1945.58 189.627 L1945.58 189.627 Z\" fill=\"#000000\" fill-rule=\"evenodd\" fill-opacity=\"1\" /><path clip-path=\"url(#clip580)\" d=\"M1969.47 212.289 L1969.47 226.039 L1965.19 226.039 L1965.19 190.252 L1969.47 190.252 L1969.47 194.187 Q1970.81 191.872 1972.85 190.761 Q1974.91 189.627 1977.75 189.627 Q1982.48 189.627 1985.42 193.377 Q1988.38 197.127 1988.38 203.238 Q1988.38 209.349 1985.42 213.099 Q1982.48 216.849 1977.75 216.849 Q1974.91 216.849 1972.85 215.738 Q1970.81 214.603 1969.47 212.289 M1983.96 203.238 Q1983.96 198.539 1982.01 195.877 Q1980.09 193.192 1976.71 193.192 Q1973.33 193.192 1971.39 195.877 Q1969.47 198.539 1969.47 203.238 Q1969.47 207.937 1971.39 210.622 Q1973.33 213.284 1976.71 213.284 Q1980.09 213.284 1982.01 210.622 Q1983.96 207.937 1983.96 203.238 Z\" fill=\"#000000\" fill-rule=\"evenodd\" fill-opacity=\"1\" /><path clip-path=\"url(#clip580)\" d=\"M1999.56 212.289 L1999.56 226.039 L1995.28 226.039 L1995.28 190.252 L1999.56 190.252 L1999.56 194.187 Q2000.9 191.872 2002.94 190.761 Q2005 189.627 2007.85 189.627 Q2012.57 189.627 2015.51 193.377 Q2018.47 197.127 2018.47 203.238 Q2018.47 209.349 2015.51 213.099 Q2012.57 216.849 2007.85 216.849 Q2005 216.849 2002.94 215.738 Q2000.9 214.603 1999.56 212.289 M2014.05 203.238 Q2014.05 198.539 2012.11 195.877 Q2010.19 193.192 2006.81 193.192 Q2003.43 193.192 2001.48 195.877 Q1999.56 198.539 1999.56 203.238 Q1999.56 207.937 2001.48 210.622 Q2003.43 213.284 2006.81 213.284 Q2010.19 213.284 2012.11 210.622 Q2014.05 207.937 2014.05 203.238 Z\" fill=\"#000000\" fill-rule=\"evenodd\" fill-opacity=\"1\" /><path clip-path=\"url(#clip580)\" d=\"M2047.71 202.15 L2047.71 204.233 L2028.12 204.233 Q2028.4 208.631 2030.76 210.946 Q2033.15 213.238 2037.38 213.238 Q2039.84 213.238 2042.13 212.636 Q2044.44 212.034 2046.71 210.83 L2046.71 214.858 Q2044.42 215.83 2042.01 216.34 Q2039.61 216.849 2037.13 216.849 Q2030.93 216.849 2027.29 213.238 Q2023.68 209.627 2023.68 203.469 Q2023.68 197.104 2027.11 193.377 Q2030.56 189.627 2036.39 189.627 Q2041.62 189.627 2044.65 193.006 Q2047.71 196.363 2047.71 202.15 M2043.45 200.9 Q2043.4 197.405 2041.48 195.321 Q2039.58 193.238 2036.43 193.238 Q2032.87 193.238 2030.72 195.252 Q2028.59 197.266 2028.26 200.923 L2043.45 200.9 Z\" fill=\"#000000\" fill-rule=\"evenodd\" fill-opacity=\"1\" /><path clip-path=\"url(#clip580)\" d=\"M2069.72 194.233 Q2069 193.817 2068.15 193.631 Q2067.31 193.423 2066.3 193.423 Q2062.68 193.423 2060.74 195.784 Q2058.82 198.122 2058.82 202.52 L2058.82 216.178 L2054.54 216.178 L2054.54 190.252 L2058.82 190.252 L2058.82 194.28 Q2060.16 191.918 2062.31 190.784 Q2064.47 189.627 2067.55 189.627 Q2067.99 189.627 2068.52 189.696 Q2069.05 189.743 2069.7 189.858 L2069.72 194.233 Z\" fill=\"#000000\" fill-rule=\"evenodd\" fill-opacity=\"1\" /><path clip-path=\"url(#clip580)\" d=\"M2107.87 203.238 Q2107.87 198.539 2105.93 195.877 Q2104 193.192 2100.62 193.192 Q2097.24 193.192 2095.3 195.877 Q2093.38 198.539 2093.38 203.238 Q2093.38 207.937 2095.3 210.622 Q2097.24 213.284 2100.62 213.284 Q2104 213.284 2105.93 210.622 Q2107.87 207.937 2107.87 203.238 M2093.38 194.187 Q2094.72 191.872 2096.76 190.761 Q2098.82 189.627 2101.67 189.627 Q2106.39 189.627 2109.33 193.377 Q2112.29 197.127 2112.29 203.238 Q2112.29 209.349 2109.33 213.099 Q2106.39 216.849 2101.67 216.849 Q2098.82 216.849 2096.76 215.738 Q2094.72 214.603 2093.38 212.289 L2093.38 216.178 L2089.1 216.178 L2089.1 180.159 L2093.38 180.159 L2093.38 194.187 Z\" fill=\"#000000\" fill-rule=\"evenodd\" fill-opacity=\"1\" /><path clip-path=\"url(#clip580)\" d=\"M2129.4 193.238 Q2125.97 193.238 2123.98 195.923 Q2121.99 198.585 2121.99 203.238 Q2121.99 207.891 2123.96 210.576 Q2125.95 213.238 2129.4 213.238 Q2132.8 213.238 2134.79 210.553 Q2136.78 207.867 2136.78 203.238 Q2136.78 198.631 2134.79 195.946 Q2132.8 193.238 2129.4 193.238 M2129.4 189.627 Q2134.95 189.627 2138.12 193.238 Q2141.3 196.849 2141.3 203.238 Q2141.3 209.604 2138.12 213.238 Q2134.95 216.849 2129.4 216.849 Q2123.82 216.849 2120.65 213.238 Q2117.5 209.604 2117.5 203.238 Q2117.5 196.849 2120.65 193.238 Q2123.82 189.627 2129.4 189.627 Z\" fill=\"#000000\" fill-rule=\"evenodd\" fill-opacity=\"1\" /><path clip-path=\"url(#clip580)\" d=\"M2147.92 205.946 L2147.92 190.252 L2152.18 190.252 L2152.18 205.784 Q2152.18 209.465 2153.61 211.316 Q2155.05 213.145 2157.92 213.145 Q2161.36 213.145 2163.36 210.946 Q2165.37 208.747 2165.37 204.951 L2165.37 190.252 L2169.63 190.252 L2169.63 216.178 L2165.37 216.178 L2165.37 212.196 Q2163.82 214.557 2161.76 215.715 Q2159.72 216.849 2157.01 216.849 Q2152.55 216.849 2150.23 214.071 Q2147.92 211.293 2147.92 205.946 M2158.63 189.627 L2158.63 189.627 Z\" fill=\"#000000\" fill-rule=\"evenodd\" fill-opacity=\"1\" /><path clip-path=\"url(#clip580)\" d=\"M2199.95 200.529 L2199.95 216.178 L2195.69 216.178 L2195.69 200.668 Q2195.69 196.988 2194.26 195.159 Q2192.82 193.33 2189.95 193.33 Q2186.5 193.33 2184.51 195.53 Q2182.52 197.729 2182.52 201.525 L2182.52 216.178 L2178.24 216.178 L2178.24 190.252 L2182.52 190.252 L2182.52 194.28 Q2184.05 191.942 2186.11 190.784 Q2188.19 189.627 2190.9 189.627 Q2195.37 189.627 2197.66 192.405 Q2199.95 195.159 2199.95 200.529 Z\" fill=\"#000000\" fill-rule=\"evenodd\" fill-opacity=\"1\" /><path clip-path=\"url(#clip580)\" d=\"M2225.51 194.187 L2225.51 180.159 L2229.77 180.159 L2229.77 216.178 L2225.51 216.178 L2225.51 212.289 Q2224.17 214.603 2222.11 215.738 Q2220.07 216.849 2217.2 216.849 Q2212.5 216.849 2209.54 213.099 Q2206.6 209.349 2206.6 203.238 Q2206.6 197.127 2209.54 193.377 Q2212.5 189.627 2217.2 189.627 Q2220.07 189.627 2222.11 190.761 Q2224.17 191.872 2225.51 194.187 M2210.99 203.238 Q2210.99 207.937 2212.92 210.622 Q2214.86 213.284 2218.24 213.284 Q2221.62 213.284 2223.56 210.622 Q2225.51 207.937 2225.51 203.238 Q2225.51 198.539 2223.56 195.877 Q2221.62 193.192 2218.24 193.192 Q2214.86 193.192 2212.92 195.877 Q2210.99 198.539 2210.99 203.238 Z\" fill=\"#000000\" fill-rule=\"evenodd\" fill-opacity=\"1\" /><path clip-path=\"url(#clip580)\" d=\"\nM1762.68 271.474 L1910.26 271.474 L1910.26 230.002 L1762.68 230.002 L1762.68 271.474  Z\n  \" fill=\"#3da44d\" fill-rule=\"evenodd\" fill-opacity=\"0.1\"/>\n<polyline clip-path=\"url(#clip580)\" style=\"stroke:#000000; stroke-linecap:butt; stroke-linejoin:round; stroke-width:4; stroke-opacity:1; fill:none\" points=\"\n  1762.68,271.474 1910.26,271.474 1910.26,230.002 1762.68,230.002 1762.68,271.474 \n  \"/>\n<path clip-path=\"url(#clip580)\" d=\"M1946.76 245.078 Q1943.33 245.078 1941.34 247.763 Q1939.35 250.425 1939.35 255.078 Q1939.35 259.731 1941.32 262.416 Q1943.31 265.078 1946.76 265.078 Q1950.16 265.078 1952.15 262.393 Q1954.14 259.707 1954.14 255.078 Q1954.14 250.471 1952.15 247.786 Q1950.16 245.078 1946.76 245.078 M1946.76 241.467 Q1952.31 241.467 1955.49 245.078 Q1958.66 248.689 1958.66 255.078 Q1958.66 261.444 1955.49 265.078 Q1952.31 268.689 1946.76 268.689 Q1941.18 268.689 1938.01 265.078 Q1934.86 261.444 1934.86 255.078 Q1934.86 248.689 1938.01 245.078 Q1941.18 241.467 1946.76 241.467 Z\" fill=\"#000000\" fill-rule=\"evenodd\" fill-opacity=\"1\" /><path clip-path=\"url(#clip580)\" d=\"M1980.74 246.073 Q1980.02 245.657 1979.17 245.471 Q1978.33 245.263 1977.31 245.263 Q1973.7 245.263 1971.76 247.624 Q1969.84 249.962 1969.84 254.36 L1969.84 268.018 L1965.56 268.018 L1965.56 242.092 L1969.84 242.092 L1969.84 246.12 Q1971.18 243.758 1973.33 242.624 Q1975.49 241.467 1978.56 241.467 Q1979 241.467 1979.54 241.536 Q1980.07 241.583 1980.72 241.698 L1980.74 246.073 Z\" fill=\"#000000\" fill-rule=\"evenodd\" fill-opacity=\"1\" /><path clip-path=\"url(#clip580)\" d=\"M1996.99 254.985 Q1991.83 254.985 1989.84 256.166 Q1987.85 257.346 1987.85 260.194 Q1987.85 262.462 1989.33 263.805 Q1990.83 265.124 1993.4 265.124 Q1996.94 265.124 1999.07 262.624 Q2001.23 260.101 2001.23 255.934 L2001.23 254.985 L1996.99 254.985 M2005.49 253.226 L2005.49 268.018 L2001.23 268.018 L2001.23 264.082 Q1999.77 266.443 1997.59 267.578 Q1995.42 268.689 1992.27 268.689 Q1988.29 268.689 1985.93 266.467 Q1983.59 264.221 1983.59 260.471 Q1983.59 256.096 1986.5 253.874 Q1989.44 251.652 1995.25 251.652 L2001.23 251.652 L2001.23 251.235 Q2001.23 248.295 1999.28 246.698 Q1997.36 245.078 1993.87 245.078 Q1991.64 245.078 1989.54 245.61 Q1987.43 246.143 1985.49 247.207 L1985.49 243.272 Q1987.82 242.37 1990.02 241.93 Q1992.22 241.467 1994.31 241.467 Q1999.93 241.467 2002.71 244.383 Q2005.49 247.3 2005.49 253.226 Z\" fill=\"#000000\" fill-rule=\"evenodd\" fill-opacity=\"1\" /><path clip-path=\"url(#clip580)\" d=\"M2032.92 243.087 L2032.92 247.069 Q2031.11 246.073 2029.28 245.587 Q2027.48 245.078 2025.62 245.078 Q2021.48 245.078 2019.19 247.717 Q2016.9 250.332 2016.9 255.078 Q2016.9 259.823 2019.19 262.462 Q2021.48 265.078 2025.62 265.078 Q2027.48 265.078 2029.28 264.592 Q2031.11 264.082 2032.92 263.087 L2032.92 267.022 Q2031.13 267.856 2029.21 268.272 Q2027.31 268.689 2025.16 268.689 Q2019.31 268.689 2015.86 265.008 Q2012.41 261.328 2012.41 255.078 Q2012.41 248.735 2015.88 245.101 Q2019.37 241.467 2025.44 241.467 Q2027.41 241.467 2029.28 241.883 Q2031.16 242.277 2032.92 243.087 Z\" fill=\"#000000\" fill-rule=\"evenodd\" fill-opacity=\"1\" /><path clip-path=\"url(#clip580)\" d=\"M2040.32 231.999 L2044.58 231.999 L2044.58 268.018 L2040.32 268.018 L2040.32 231.999 Z\" fill=\"#000000\" fill-rule=\"evenodd\" fill-opacity=\"1\" /><path clip-path=\"url(#clip580)\" d=\"M2075.67 253.99 L2075.67 256.073 L2056.09 256.073 Q2056.37 260.471 2058.73 262.786 Q2061.11 265.078 2065.35 265.078 Q2067.8 265.078 2070.09 264.476 Q2072.41 263.874 2074.68 262.67 L2074.68 266.698 Q2072.38 267.67 2069.98 268.18 Q2067.57 268.689 2065.09 268.689 Q2058.89 268.689 2055.25 265.078 Q2051.64 261.467 2051.64 255.309 Q2051.64 248.944 2055.07 245.217 Q2058.52 241.467 2064.35 241.467 Q2069.58 241.467 2072.62 244.846 Q2075.67 248.203 2075.67 253.99 M2071.41 252.74 Q2071.37 249.245 2069.44 247.161 Q2067.55 245.078 2064.4 245.078 Q2060.83 245.078 2058.68 247.092 Q2056.55 249.106 2056.23 252.763 L2071.41 252.74 Z\" fill=\"#000000\" fill-rule=\"evenodd\" fill-opacity=\"1\" /></svg>\n"
     },
     "execution_count": 196,
     "metadata": {},
     "output_type": "execute_result"
    }
   ],
   "source": [
    "histogram!(oracle_τ, bins = 20, alpha = 0.1, label = \"oracle\")"
   ]
  },
  {
   "cell_type": "markdown",
   "metadata": {},
   "source": [
    "# Inference"
   ]
  },
  {
   "cell_type": "markdown",
   "metadata": {},
   "source": [
    "The asymptotic distribution of $\\hat{\\tau}^-$ could be given by the following expansion:\n",
    "$$\\hat{\\tau}^{-} - \\tau = \\tilde{p}_1 (m_1 + m_0 - \\mu_1^- - \\mu_0^+) + (1- p_1)(\\tilde{\\mu}_1^- - \\tilde{m}_0) + p_1 (\\tilde{m}_1 - \\tilde{\\mu}_0^+) + o_p(\\frac{1}{\\sqrt{n}})$$\n",
    "where $p_1 = P(D =1 \\mid G = O)$, $\\mu_1^- = \\text{lower bound of } \\mathbb{E}[Y(1) \\mid D = 0, G = O]$, and $\\mu_0^+ = \\text{upper bound of } \\mathbb{E}[Y(0) \\mid D = 1, G = O]$. All the tilde terms are just estimator minus true value.\n",
    "\n",
    "To apply delta method, we need to get the asymptotic distribution of $(\\tilde{p}_1, \\tilde{m}_0, \\tilde{m}_1, \\tilde{\\mu}_0^+, \\tilde{\\mu}_1^-)$. The first three are easy. For the latter two, we need to first deduce the asymptotic behavior of $\\hat{\\theta}_1(s)$.\n",
    "\n",
    "  "
   ]
  },
  {
   "cell_type": "markdown",
   "metadata": {},
   "source": [
    "$\\mathbb{E}_n\\left[(Y-\\hat{\\theta}_1(s))_{+}-\\Gamma(Y-\\hat{\\theta}_1(s))_{-} \\mid S=s, D=1, G = O\\right]  = 0$"
   ]
  },
  {
   "cell_type": "markdown",
   "metadata": {},
   "source": [
    "What's the moment condition?\n",
    "\n",
    "- $p_1 = P(D = 1 \\mid G = O)$\n",
    "- $\\mathbb{E}\\left[\\mathbb{I}(S=s_1, D=1, G = O) \\left((Y-\\theta_1(s_1))_{+}-\\Gamma(Y-\\theta_1(s_1))_{-} \\right)\\right]  = 0$\n",
    "- $\\mathbb{E}\\left[\\mathbb{I}(S=s_2, D=1, G = O) \\left((Y-\\theta_1(s_2))_{+}-\\Gamma(Y-\\theta_1(s_2))_{-} \\right)\\right]  = 0$\n",
    "- $\\mathbb{E}\\left[\\mathbb{I}(D=1, G = E, S=s_1) \\left((\\theta_1(s_1)-\\zeta_1^-))_{+} - H(\\theta_1(s_1)-\\zeta_1^-)_{-} \\right) + \\mathbb{I}(D=1, G = E, S=s_2) \\left((\\theta_1(s_2)-\\zeta_1^-))_{+} - H(\\theta_1(s_2)-\\zeta_1^-)_{-} \\right)\\right]  = 0$\n",
    "- $q_1 = P(S=s_1 \\mid D=1, G=O)$\n",
    "- $q_2 = P(S=s_2 \\mid D=1, G=O)$\n",
    "- $\\mu_1^- (1-p_1) = \\zeta_1^- - (\\theta_1(s_1) q_1 + \\theta_1(s_2) q_2) \\times p_1$"
   ]
  },
  {
   "cell_type": "markdown",
   "metadata": {},
   "source": [
    "## Primer on GMM"
   ]
  },
  {
   "cell_type": "code",
   "execution_count": 62,
   "metadata": {},
   "outputs": [],
   "source": [
    "N = 10000\n",
    "X = [ones(N) randn(N,2)]\n",
    "ε = randn(N)\n",
    "\n",
    "β₀ = [1, 2, 3]\n",
    "\n",
    "Y = X * β₀ + ε;\n",
    "\n",
    "data = [X Y];"
   ]
  },
  {
   "cell_type": "code",
   "execution_count": 63,
   "metadata": {},
   "outputs": [
    {
     "data": {
      "text/plain": [
       "moment (generic function with 1 method)"
      ]
     },
     "execution_count": 63,
     "metadata": {},
     "output_type": "execute_result"
    }
   ],
   "source": [
    "function moment(param, data)\n",
    "    X = data[:,1:end-1]\n",
    "    Y = data[:,end]\n",
    "    n = size(X, 1)\n",
    "\n",
    "    β = param\n",
    "\n",
    "    1/n * X' * (Y - X * β)\n",
    "end"
   ]
  },
  {
   "cell_type": "code",
   "execution_count": 64,
   "metadata": {},
   "outputs": [
    {
     "data": {
      "text/plain": [
       "cov_moment (generic function with 1 method)"
      ]
     },
     "execution_count": 64,
     "metadata": {},
     "output_type": "execute_result"
    }
   ],
   "source": [
    "function cov_moment(param, data)\n",
    "    X = data[:,1:end-1]\n",
    "    Y = data[:,end]\n",
    "    n = size(X, 1)\n",
    "\n",
    "    β = param\n",
    "\n",
    "    result = zeros(3,3)\n",
    "    for i in 1:n\n",
    "        x = X[i,:]\n",
    "        y = Y[i]\n",
    "        mom = x * (y - x' * β)\n",
    "        result += 1/n * mom * mom'\n",
    "    end\n",
    "    result\n",
    "\n",
    "end"
   ]
  },
  {
   "cell_type": "code",
   "execution_count": 65,
   "metadata": {},
   "outputs": [
    {
     "data": {
      "text/plain": [
       "3×3 Matrix{Float64}:\n",
       "  1.00172      0.0204351   -0.00567254\n",
       "  0.0204351    0.99191     -0.00875254\n",
       " -0.00567254  -0.00875254   0.99341"
      ]
     },
     "execution_count": 65,
     "metadata": {},
     "output_type": "execute_result"
    }
   ],
   "source": [
    "cov_moment([1,2,3], data)"
   ]
  },
  {
   "cell_type": "code",
   "execution_count": 66,
   "metadata": {},
   "outputs": [
    {
     "data": {
      "text/plain": [
       "3×3 Matrix{Float64}:\n",
       "  0.747787   -0.264968    0.0520262\n",
       " -0.264968    0.0938881  -0.0184348\n",
       "  0.0520262  -0.0184348   0.00361965"
      ]
     },
     "execution_count": 66,
     "metadata": {},
     "output_type": "execute_result"
    }
   ],
   "source": [
    "N * moment([1, 2, 3], data) * moment([1, 2, 3], data)'"
   ]
  },
  {
   "cell_type": "code",
   "execution_count": 67,
   "metadata": {},
   "outputs": [],
   "source": [
    "using LinearAlgebra\n",
    "using Optim\n",
    "using ForwardDiff"
   ]
  },
  {
   "cell_type": "code",
   "execution_count": 68,
   "metadata": {},
   "outputs": [
    {
     "data": {
      "text/plain": [
       "3-element Vector{Float64}:\n",
       " 1.0086722195174196\n",
       " 1.9968080424775394\n",
       " 3.00053315809228"
      ]
     },
     "execution_count": 68,
     "metadata": {},
     "output_type": "execute_result"
    }
   ],
   "source": [
    "loss(β) = norm(moment(β, data))\n",
    "\n",
    "result = Optim.optimize(loss, [1.0,1.0,1.0])\n",
    "β̂ = result.minimizer"
   ]
  },
  {
   "cell_type": "code",
   "execution_count": 69,
   "metadata": {},
   "outputs": [
    {
     "data": {
      "text/plain": [
       "3×3 Matrix{Float64}:\n",
       "  1.00151     0.0045783  -0.00678135\n",
       "  0.0045783   1.03718     0.028444\n",
       " -0.00678135  0.028444    0.978265"
      ]
     },
     "execution_count": 69,
     "metadata": {},
     "output_type": "execute_result"
    }
   ],
   "source": [
    "G = ForwardDiff.jacobian(x -> moment(x, data), β̂)\n",
    "V = cov_moment(β̂, data)\n",
    "\n",
    "inv(G' * inv(V) * G)"
   ]
  },
  {
   "cell_type": "markdown",
   "metadata": {},
   "source": [
    "## Back to our case"
   ]
  },
  {
   "cell_type": "markdown",
   "metadata": {},
   "source": [
    "For lower bound of $\\mathbb{E}[Y(1) \\mid G = O]$: parameter = $(p_1, \\theta_{1,1}, \\theta_{1,2}, \\zeta_1^-, q_1, q_2, m_1, \\mu_1^-)$\n",
    "\n",
    "- $p_1 = P(D = 1 \\mid G = O)$\n",
    "- $\\mathbb{E}\\left[\\mathbb{I}(S=s_1, D=1, G = O) \\left((Y-\\theta_1(s_1))_{+}-\\Gamma(Y-\\theta_1(s_1))_{-} \\right)\\right]  = 0$\n",
    "- $\\mathbb{E}\\left[\\mathbb{I}(S=s_2, D=1, G = O) \\left((Y-\\theta_1(s_2))_{+}-\\Gamma(Y-\\theta_1(s_2))_{-} \\right)\\right]  = 0$\n",
    "- $\\mathbb{E}\\left[\\mathbb{I}(D=1, G = E, S=s_1) \\left((\\theta_1(s_1)-\\zeta_1^-))_{+} - H(\\theta_1(s_1)-\\zeta_1^-)_{-} \\right) + \\mathbb{I}(D=1, G = E, S=s_2) \\left((\\theta_1(s_2)-\\zeta_1^-))_{+} - H(\\theta_1(s_2)-\\zeta_1^-)_{-} \\right)\\right]  = 0$\n",
    "- $q_1 = P(S=s_1 \\mid D=1, G=O)$\n",
    "- $q_2 = P(S=s_2 \\mid D=1, G=O)$\n",
    "- $m_1 = \\mathbb{E}[Y \\mid D = 1, G = O]$\n",
    "- $\\mu_1^- (1-p_1) = \\zeta_1^- - (\\theta_1(s_1) q_1 + \\theta_1(s_2) q_2) \\times p_1$"
   ]
  },
  {
   "cell_type": "code",
   "execution_count": 161,
   "metadata": {},
   "outputs": [
    {
     "data": {
      "text/html": [
       "<table class=\"data-frame\"><thead><tr><th></th><th>G</th><th>S1</th><th>S0</th><th>D</th><th>Y1</th><th>Y0</th><th>S</th><th>Y</th></tr><tr><th></th><th>Bool</th><th>Int64</th><th>Int64</th><th>Bool</th><th>Float64</th><th>Float64</th><th>Int64</th><th>Float64</th></tr></thead><tbody><p>10,000 rows × 8 columns</p><tr><th>1</th><td>0</td><td>5</td><td>5</td><td>0</td><td>7.05618</td><td>4.53385</td><td>5</td><td>4.53385</td></tr><tr><th>2</th><td>0</td><td>5</td><td>5</td><td>1</td><td>5.34139</td><td>4.86849</td><td>5</td><td>5.34139</td></tr><tr><th>3</th><td>0</td><td>5</td><td>10</td><td>0</td><td>5.40829</td><td>8.44037</td><td>10</td><td>8.44037</td></tr><tr><th>4</th><td>0</td><td>10</td><td>5</td><td>0</td><td>12.5298</td><td>7.06678</td><td>5</td><td>7.06678</td></tr><tr><th>5</th><td>1</td><td>5</td><td>10</td><td>1</td><td>5.45006</td><td>11.3561</td><td>5</td><td>5.45006</td></tr><tr><th>6</th><td>0</td><td>10</td><td>10</td><td>0</td><td>12.4314</td><td>12.6397</td><td>10</td><td>12.6397</td></tr><tr><th>7</th><td>1</td><td>10</td><td>10</td><td>1</td><td>10.5818</td><td>9.79251</td><td>10</td><td>10.5818</td></tr><tr><th>8</th><td>1</td><td>5</td><td>5</td><td>0</td><td>5.57953</td><td>5.21036</td><td>5</td><td>5.21036</td></tr><tr><th>9</th><td>0</td><td>10</td><td>10</td><td>0</td><td>13.3365</td><td>9.87167</td><td>10</td><td>9.87167</td></tr><tr><th>10</th><td>1</td><td>5</td><td>5</td><td>0</td><td>5.13647</td><td>6.79193</td><td>5</td><td>6.79193</td></tr><tr><th>11</th><td>1</td><td>5</td><td>10</td><td>1</td><td>5.06669</td><td>10.2321</td><td>5</td><td>5.06669</td></tr><tr><th>12</th><td>0</td><td>5</td><td>5</td><td>1</td><td>5.57377</td><td>5.79852</td><td>5</td><td>5.57377</td></tr><tr><th>13</th><td>0</td><td>5</td><td>5</td><td>0</td><td>7.23133</td><td>5.13581</td><td>5</td><td>5.13581</td></tr><tr><th>14</th><td>0</td><td>5</td><td>5</td><td>0</td><td>5.78724</td><td>7.18476</td><td>5</td><td>7.18476</td></tr><tr><th>15</th><td>0</td><td>10</td><td>5</td><td>0</td><td>10.9883</td><td>4.02885</td><td>5</td><td>4.02885</td></tr><tr><th>16</th><td>1</td><td>5</td><td>5</td><td>1</td><td>5.70082</td><td>5.28142</td><td>5</td><td>5.70082</td></tr><tr><th>17</th><td>0</td><td>5</td><td>5</td><td>1</td><td>7.18977</td><td>6.30016</td><td>5</td><td>7.18977</td></tr><tr><th>18</th><td>1</td><td>5</td><td>10</td><td>0</td><td>8.43363</td><td>9.49324</td><td>10</td><td>9.49324</td></tr><tr><th>19</th><td>0</td><td>5</td><td>5</td><td>1</td><td>5.1427</td><td>5.70298</td><td>5</td><td>5.1427</td></tr><tr><th>20</th><td>1</td><td>10</td><td>5</td><td>1</td><td>11.1532</td><td>7.10932</td><td>10</td><td>11.1532</td></tr><tr><th>21</th><td>0</td><td>5</td><td>5</td><td>1</td><td>5.6013</td><td>3.90517</td><td>5</td><td>5.6013</td></tr><tr><th>22</th><td>1</td><td>5</td><td>5</td><td>1</td><td>5.93377</td><td>3.71509</td><td>5</td><td>5.93377</td></tr><tr><th>23</th><td>1</td><td>10</td><td>5</td><td>0</td><td>12.5711</td><td>6.95752</td><td>5</td><td>6.95752</td></tr><tr><th>24</th><td>1</td><td>5</td><td>5</td><td>1</td><td>5.24764</td><td>3.25437</td><td>5</td><td>5.24764</td></tr><tr><th>25</th><td>1</td><td>5</td><td>5</td><td>1</td><td>4.46446</td><td>4.7043</td><td>5</td><td>4.46446</td></tr><tr><th>26</th><td>1</td><td>10</td><td>5</td><td>0</td><td>12.2719</td><td>6.83092</td><td>5</td><td>6.83092</td></tr><tr><th>27</th><td>0</td><td>5</td><td>5</td><td>0</td><td>5.25225</td><td>3.10933</td><td>5</td><td>3.10933</td></tr><tr><th>28</th><td>0</td><td>10</td><td>5</td><td>0</td><td>12.184</td><td>4.95063</td><td>5</td><td>4.95063</td></tr><tr><th>29</th><td>1</td><td>10</td><td>5</td><td>0</td><td>11.7691</td><td>4.94371</td><td>5</td><td>4.94371</td></tr><tr><th>30</th><td>0</td><td>5</td><td>5</td><td>0</td><td>4.70651</td><td>1.6814</td><td>5</td><td>1.6814</td></tr><tr><th>&vellip;</th><td>&vellip;</td><td>&vellip;</td><td>&vellip;</td><td>&vellip;</td><td>&vellip;</td><td>&vellip;</td><td>&vellip;</td><td>&vellip;</td></tr></tbody></table>"
      ],
      "text/latex": [
       "\\begin{tabular}{r|cccccccc}\n",
       "\t& G & S1 & S0 & D & Y1 & Y0 & S & Y\\\\\n",
       "\t\\hline\n",
       "\t& Bool & Int64 & Int64 & Bool & Float64 & Float64 & Int64 & Float64\\\\\n",
       "\t\\hline\n",
       "\t1 & 0 & 5 & 5 & 0 & 7.05618 & 4.53385 & 5 & 4.53385 \\\\\n",
       "\t2 & 0 & 5 & 5 & 1 & 5.34139 & 4.86849 & 5 & 5.34139 \\\\\n",
       "\t3 & 0 & 5 & 10 & 0 & 5.40829 & 8.44037 & 10 & 8.44037 \\\\\n",
       "\t4 & 0 & 10 & 5 & 0 & 12.5298 & 7.06678 & 5 & 7.06678 \\\\\n",
       "\t5 & 1 & 5 & 10 & 1 & 5.45006 & 11.3561 & 5 & 5.45006 \\\\\n",
       "\t6 & 0 & 10 & 10 & 0 & 12.4314 & 12.6397 & 10 & 12.6397 \\\\\n",
       "\t7 & 1 & 10 & 10 & 1 & 10.5818 & 9.79251 & 10 & 10.5818 \\\\\n",
       "\t8 & 1 & 5 & 5 & 0 & 5.57953 & 5.21036 & 5 & 5.21036 \\\\\n",
       "\t9 & 0 & 10 & 10 & 0 & 13.3365 & 9.87167 & 10 & 9.87167 \\\\\n",
       "\t10 & 1 & 5 & 5 & 0 & 5.13647 & 6.79193 & 5 & 6.79193 \\\\\n",
       "\t11 & 1 & 5 & 10 & 1 & 5.06669 & 10.2321 & 5 & 5.06669 \\\\\n",
       "\t12 & 0 & 5 & 5 & 1 & 5.57377 & 5.79852 & 5 & 5.57377 \\\\\n",
       "\t13 & 0 & 5 & 5 & 0 & 7.23133 & 5.13581 & 5 & 5.13581 \\\\\n",
       "\t14 & 0 & 5 & 5 & 0 & 5.78724 & 7.18476 & 5 & 7.18476 \\\\\n",
       "\t15 & 0 & 10 & 5 & 0 & 10.9883 & 4.02885 & 5 & 4.02885 \\\\\n",
       "\t16 & 1 & 5 & 5 & 1 & 5.70082 & 5.28142 & 5 & 5.70082 \\\\\n",
       "\t17 & 0 & 5 & 5 & 1 & 7.18977 & 6.30016 & 5 & 7.18977 \\\\\n",
       "\t18 & 1 & 5 & 10 & 0 & 8.43363 & 9.49324 & 10 & 9.49324 \\\\\n",
       "\t19 & 0 & 5 & 5 & 1 & 5.1427 & 5.70298 & 5 & 5.1427 \\\\\n",
       "\t20 & 1 & 10 & 5 & 1 & 11.1532 & 7.10932 & 10 & 11.1532 \\\\\n",
       "\t21 & 0 & 5 & 5 & 1 & 5.6013 & 3.90517 & 5 & 5.6013 \\\\\n",
       "\t22 & 1 & 5 & 5 & 1 & 5.93377 & 3.71509 & 5 & 5.93377 \\\\\n",
       "\t23 & 1 & 10 & 5 & 0 & 12.5711 & 6.95752 & 5 & 6.95752 \\\\\n",
       "\t24 & 1 & 5 & 5 & 1 & 5.24764 & 3.25437 & 5 & 5.24764 \\\\\n",
       "\t25 & 1 & 5 & 5 & 1 & 4.46446 & 4.7043 & 5 & 4.46446 \\\\\n",
       "\t26 & 1 & 10 & 5 & 0 & 12.2719 & 6.83092 & 5 & 6.83092 \\\\\n",
       "\t27 & 0 & 5 & 5 & 0 & 5.25225 & 3.10933 & 5 & 3.10933 \\\\\n",
       "\t28 & 0 & 10 & 5 & 0 & 12.184 & 4.95063 & 5 & 4.95063 \\\\\n",
       "\t29 & 1 & 10 & 5 & 0 & 11.7691 & 4.94371 & 5 & 4.94371 \\\\\n",
       "\t30 & 0 & 5 & 5 & 0 & 4.70651 & 1.6814 & 5 & 1.6814 \\\\\n",
       "\t$\\dots$ & $\\dots$ & $\\dots$ & $\\dots$ & $\\dots$ & $\\dots$ & $\\dots$ & $\\dots$ & $\\dots$ \\\\\n",
       "\\end{tabular}\n"
      ],
      "text/plain": [
       "\u001b[1m10000×8 DataFrame\u001b[0m\n",
       "\u001b[1m   Row \u001b[0m│\u001b[1m G     \u001b[0m\u001b[1m S1    \u001b[0m\u001b[1m S0    \u001b[0m\u001b[1m D     \u001b[0m\u001b[1m Y1       \u001b[0m\u001b[1m Y0       \u001b[0m\u001b[1m S     \u001b[0m\u001b[1m Y        \u001b[0m\n",
       "\u001b[1m       \u001b[0m│\u001b[90m Bool  \u001b[0m\u001b[90m Int64 \u001b[0m\u001b[90m Int64 \u001b[0m\u001b[90m Bool  \u001b[0m\u001b[90m Float64  \u001b[0m\u001b[90m Float64  \u001b[0m\u001b[90m Int64 \u001b[0m\u001b[90m Float64  \u001b[0m\n",
       "───────┼─────────────────────────────────────────────────────────────────\n",
       "     1 │ false      5      5  false   7.05618   4.53385      5   4.53385\n",
       "     2 │ false      5      5   true   5.34139   4.86849      5   5.34139\n",
       "     3 │ false      5     10  false   5.40829   8.44037     10   8.44037\n",
       "     4 │ false     10      5  false  12.5298    7.06678      5   7.06678\n",
       "     5 │  true      5     10   true   5.45006  11.3561       5   5.45006\n",
       "     6 │ false     10     10  false  12.4314   12.6397      10  12.6397\n",
       "     7 │  true     10     10   true  10.5818    9.79251     10  10.5818\n",
       "     8 │  true      5      5  false   5.57953   5.21036      5   5.21036\n",
       "     9 │ false     10     10  false  13.3365    9.87167     10   9.87167\n",
       "    10 │  true      5      5  false   5.13647   6.79193      5   6.79193\n",
       "    11 │  true      5     10   true   5.06669  10.2321       5   5.06669\n",
       "   ⋮   │   ⋮      ⋮      ⋮      ⋮       ⋮         ⋮        ⋮       ⋮\n",
       "  9991 │ false     10      5  false  13.0088    6.07266      5   6.07266\n",
       "  9992 │  true      5      5   true   5.19857   4.87155      5   5.19857\n",
       "  9993 │ false      5      5  false   8.3998    8.1316       5   8.1316\n",
       "  9994 │ false     10     10  false  12.0108   12.9754      10  12.9754\n",
       "  9995 │  true      5     10   true   6.34136   8.34029      5   6.34136\n",
       "  9996 │  true      5     10   true   3.82837  10.4352       5   3.82837\n",
       "  9997 │  true      5      5   true   7.38525   4.90727      5   7.38525\n",
       "  9998 │ false      5      5  false   7.84881   6.66125      5   6.66125\n",
       "  9999 │ false     10      5   true  12.4647    4.84136     10  12.4647\n",
       " 10000 │ false      5     10   true   5.21623  10.1386       5   5.21623\n",
       "\u001b[36m                                                        9979 rows omitted\u001b[0m"
      ]
     },
     "execution_count": 161,
     "metadata": {},
     "output_type": "execute_result"
    }
   ],
   "source": [
    "df2 = data_generation2()"
   ]
  },
  {
   "cell_type": "code",
   "execution_count": 351,
   "metadata": {},
   "outputs": [
    {
     "data": {
      "text/plain": [
       "moment_Y1lb (generic function with 1 method)"
      ]
     },
     "execution_count": 351,
     "metadata": {},
     "output_type": "execute_result"
    }
   ],
   "source": [
    "K = 1;\n",
    "H = 1;\n",
    "ϕ(x, y; K = 1, H = 1) = max.(y .- x, 0) .- H .* max.(x .- y, 0)\n",
    "ϕ′(x, y; K = 1, H = 1) = max.(x .- y, 0) .- H .* max.(y .- x, 0)\n",
    "ψ(x, y; K = 1, H = 1) = max.(y .- x, 0) .- K .* max.(x .- y, 0)\n",
    "ψ′(x, y; K = 1, H = 1) = max.(x .- y, 0) .- K .* max.(y .- x, 0)\n",
    "\n",
    "function moment_Y1lb(param, data)\n",
    "    df = data\n",
    "    p1, θ11, θ12, ζ1, q1, q2, m1, μ1 = param\n",
    "\n",
    "    [p1 - mean(df[df.G.==0, :D])\n",
    "        mean((df.D .== 1) .* (df.G .== 0) .* (df.S .≈ 5) .* ψ(θ11, df.Y))\n",
    "        mean((df.D .== 1) .* (df.G .== 0) .* (df.S .≈ 10) .* ψ(θ12, df.Y))\n",
    "        mean((df.D .== 1) .* (df.G .== 1) .* (df.S .== 5) .* ϕ(ζ1, θ11)) + mean((df.D .== 1) .* (df.G .== 1) .* (df.S .== 10) .* ϕ(ζ1, θ12))\n",
    "        q1 - mean(df[(df.G.==0).*(df.D.==1), :S] .== 5)\n",
    "        q2 - mean(df[(df.G.==0).*(df.D.==1), :S] .== 10)\n",
    "        mean((df.D .== 1) .* (df.G .== 0) .* (df.Y .- m1))\n",
    "        μ1 * (1 - p1) - ζ1 + p1 * (q1 * θ11 + q2 * θ12)]\n",
    "end"
   ]
  },
  {
   "cell_type": "code",
   "execution_count": 163,
   "metadata": {},
   "outputs": [
    {
     "data": {
      "text/plain": [
       "moment_Y0ub (generic function with 1 method)"
      ]
     },
     "execution_count": 163,
     "metadata": {},
     "output_type": "execute_result"
    }
   ],
   "source": [
    "function moment_Y0ub(param, data)\n",
    "    df = data\n",
    "    p1, θ11, θ12, ζ1, q1, q2, m1, μ1 = param\n",
    "\n",
    "    [p1 - mean(df[df.G.==0, :D]);\n",
    "     mean((df.D .== 1) .* (df.G .== 0) .* (df.S .≈ 5) .* ψ(θ11, df.Y));\n",
    "     mean((df.D .== 1) .* (df.G .== 0) .* (df.S .≈ 10) .* ψ(θ12, df.Y));\n",
    "     mean((df.D .== 1) .* (df.G .== 1) .* (df.S .== 5) .* ϕ(ζ1, θ11)) + mean((df.D .== 1) .* (df.G .== 1) .* (df.S .== 10) .* ϕ(ζ1, θ12));\n",
    "     q1 - mean(df[ (df.G.==0) .* (df.D .==1), :S] .== 5);\n",
    "     q2 - mean(df[ (df.G.==0) .* (df.D .==1), :S] .== 10);\n",
    "     mean((df.D .== 1) .* (df.G .== 0) .* (df.Y .- m1));\n",
    "     μ1 * (1 - p1) - ζ1 + p1 * (q1 * θ11 + q2 * θ12)]\n",
    "end"
   ]
  },
  {
   "cell_type": "code",
   "execution_count": 164,
   "metadata": {},
   "outputs": [
    {
     "data": {
      "text/plain": [
       "8-element Vector{Float64}:\n",
       "  0.20805236017453393\n",
       "  0.1012390444218417\n",
       "  0.03791311141564053\n",
       " -0.17825\n",
       " -0.4282608695652174\n",
       "  0.028260869565217395\n",
       "  0.044752155837482224\n",
       " -2.75"
      ]
     },
     "execution_count": 164,
     "metadata": {},
     "output_type": "execute_result"
    }
   ],
   "source": [
    "param_init = [0.5, 5.0, 10.0, 7.5, 0.3, 0.3, 7.0, 5.0]\n",
    "moment_Y1lb(param_init, df2)"
   ]
  },
  {
   "cell_type": "code",
   "execution_count": 165,
   "metadata": {},
   "outputs": [
    {
     "data": {
      "text/plain": [
       "cov_moment_Y1lb (generic function with 1 method)"
      ]
     },
     "execution_count": 165,
     "metadata": {},
     "output_type": "execute_result"
    }
   ],
   "source": [
    "function cov_moment_Y1lb(param, data)\n",
    "    df = data\n",
    "    p1, θ11, θ12, ζ1, q1, q2, m1, μ1 = param\n",
    "\n",
    "    n = size(df, 1)\n",
    "\n",
    "    mom = hcat(p1 .- (df.G .== 0) .* df[:, :D],\n",
    "        (df.D .== 1) .* (df.G .== 0) .* (df.S .≈ 5) .* ψ(θ11, df.Y),\n",
    "        (df.D .== 1) .* (df.G .== 0) .* (df.S .≈ 10) .* ψ(θ12, df.Y),\n",
    "        (df.D .== 1) .* (df.G .== 1) .* (df.S .== 5) .* ϕ(ζ1, θ11) + (df.D .== 1) .* (df.G .== 1) .* (df.S .== 10) .* ϕ(ζ1, θ12),\n",
    "        q1 .- (df.G .== 0) .* (df.D .== 1) .* (df[:, :S] .== 5),\n",
    "        q2 .- (df.G .== 0) .* (df.D .== 1) .* (df[:, :S] .== 10),\n",
    "        (df.D .== 1) .* (df.G .== 0) .* (df.Y .- m1),\n",
    "        ones(n,1) .* (μ1 * (1 - p1) - ζ1 + p1 * (q1 * θ11 + q2 * θ12)))\n",
    "\n",
    "    result = zeros(8,8)\n",
    "    for i in 1:n\n",
    "        result += 1/n * mom[i,:] * mom[i,:]'\n",
    "    end\n",
    "\n",
    "    result\n",
    "end"
   ]
  },
  {
   "cell_type": "code",
   "execution_count": 166,
   "metadata": {},
   "outputs": [
    {
     "data": {
      "text/plain": [
       "8-element Vector{Float64}:\n",
       "  0.29194763715285754\n",
       "  5.944394024362036\n",
       " 10.947827971947838\n",
       "  7.722490767006813\n",
       "  0.7282608669485426\n",
       "  0.27173913860594884\n",
       "  7.304022773522749\n",
       "  7.895035459566242"
      ]
     },
     "execution_count": 166,
     "metadata": {},
     "output_type": "execute_result"
    }
   ],
   "source": [
    "loss(param) = norm(moment_Y1lb(param, df2))\n",
    "\n",
    "result = Optim.optimize(loss, param_init)\n",
    "param_est = result.minimizer"
   ]
  },
  {
   "cell_type": "code",
   "execution_count": 167,
   "metadata": {},
   "outputs": [
    {
     "data": {
      "text/plain": [
       "8-element Vector{Float64}:\n",
       " 0.14648403846134606\n",
       " 0.23092673275979833\n",
       " 0.07857150194489601\n",
       " 1.4136679808603534\n",
       " 0.481424760454911\n",
       " 0.09210302836181658\n",
       " 1.0387597036315857\n",
       " 9.690323524518373e-16"
      ]
     },
     "execution_count": 167,
     "metadata": {},
     "output_type": "execute_result"
    }
   ],
   "source": [
    "diag(cov_moment_Y1lb(param_est, df2))"
   ]
  },
  {
   "cell_type": "code",
   "execution_count": 168,
   "metadata": {},
   "outputs": [
    {
     "data": {
      "text/plain": [
       "7-element Vector{Float64}:\n",
       "  0.14796366033846958\n",
       " 30.57297995781876\n",
       " 72.29908372294341\n",
       " 44.62583062019565\n",
       "  0.4823013358702173\n",
       "  0.09156705963809897\n",
       " 55.72789115646258"
      ]
     },
     "execution_count": 168,
     "metadata": {},
     "output_type": "execute_result"
    }
   ],
   "source": [
    "G = ForwardDiff.jacobian(x -> moment_Y1lb(x, df2), param_est)[1:7, 1:7]\n",
    "V = cov_moment_Y1lb(param_est, df)[1:7, 1:7]\n",
    "\n",
    "diag(inv(G' * inv(V) * G))"
   ]
  },
  {
   "cell_type": "code",
   "execution_count": 169,
   "metadata": {},
   "outputs": [
    {
     "data": {
      "text/plain": [
       "7-element Vector{Float64}:\n",
       "  0.29194763715285754\n",
       "  5.944394024362036\n",
       " 10.947827971947838\n",
       "  7.722490767006813\n",
       "  0.7282608669485426\n",
       "  0.27173913860594884\n",
       "  7.304022773522749"
      ]
     },
     "execution_count": 169,
     "metadata": {},
     "output_type": "execute_result"
    }
   ],
   "source": [
    "μ1func((p1, θ11, θ12, ζ1, q1, q2)) = (ζ1 - p1 * (q1 * θ11 + q2 * θ12)) / (1 - p1)\n",
    "\n",
    "p1hat, θ11hat, θ12hat, ζ1hat, q1hat, q2hat, m1hat = param_est[1:7]"
   ]
  },
  {
   "cell_type": "code",
   "execution_count": 170,
   "metadata": {},
   "outputs": [
    {
     "data": {
      "text/plain": [
       "7.722490733477766"
      ]
     },
     "execution_count": 170,
     "metadata": {},
     "output_type": "execute_result"
    }
   ],
   "source": [
    "μ1func(param_est[1:end-1]) * (1 - p1hat) + p1hat * m1hat"
   ]
  },
  {
   "cell_type": "code",
   "execution_count": 171,
   "metadata": {},
   "outputs": [
    {
     "data": {
      "text/plain": [
       "y1lb_func (generic function with 1 method)"
      ]
     },
     "execution_count": 171,
     "metadata": {},
     "output_type": "execute_result"
    }
   ],
   "source": [
    "y1lb_func((p1, θ11, θ12, ζ1, q1, q2, m1)) = μ1func((p1, θ11, θ12, ζ1, q1, q2)) * (1 - p1) + p1 * m1"
   ]
  },
  {
   "cell_type": "code",
   "execution_count": 172,
   "metadata": {},
   "outputs": [
    {
     "data": {
      "text/plain": [
       "7.722490733477766"
      ]
     },
     "execution_count": 172,
     "metadata": {},
     "output_type": "execute_result"
    }
   ],
   "source": [
    "Y1lb = y1lb_func(param_est[1:7])"
   ]
  },
  {
   "cell_type": "markdown",
   "metadata": {},
   "source": [
    "Now, apply delta method!"
   ]
  },
  {
   "cell_type": "code",
   "execution_count": 173,
   "metadata": {},
   "outputs": [
    {
     "data": {
      "text/plain": [
       "49.39058199688289"
      ]
     },
     "execution_count": 173,
     "metadata": {},
     "output_type": "execute_result"
    }
   ],
   "source": [
    "asym_var_Y1lb = ForwardDiff.gradient(y1lb_func, param_est[1:7])' * inv(G' * inv(V) * G) * ForwardDiff.gradient(y1lb_func, param_est[1:7])"
   ]
  },
  {
   "cell_type": "code",
   "execution_count": 174,
   "metadata": {},
   "outputs": [
    {
     "data": {
      "text/plain": [
       "0.07027843338954198"
      ]
     },
     "execution_count": 174,
     "metadata": {},
     "output_type": "execute_result"
    }
   ],
   "source": [
    "std_err_Y1lb = sqrt(asym_var_Y1lb) / sqrt(size(df2, 1))"
   ]
  },
  {
   "cell_type": "code",
   "execution_count": 175,
   "metadata": {},
   "outputs": [
    {
     "data": {
      "text/plain": [
       "(7.584745004034264, 7.792769166867308)"
      ]
     },
     "execution_count": 175,
     "metadata": {},
     "output_type": "execute_result"
    }
   ],
   "source": [
    "(Y1lb - 1.96 * std_err_Y1lb, Y1lb + std_err_Y1lb)"
   ]
  },
  {
   "cell_type": "code",
   "execution_count": 176,
   "metadata": {},
   "outputs": [
    {
     "data": {
      "text/plain": [
       "7.734952138525636"
      ]
     },
     "execution_count": 176,
     "metadata": {},
     "output_type": "execute_result"
    }
   ],
   "source": [
    "mean(df2[ df.G .== 0, :Y1 ])"
   ]
  },
  {
   "cell_type": "code",
   "execution_count": 352,
   "metadata": {},
   "outputs": [
    {
     "data": {
      "text/plain": [
       "moment_τ_bds (generic function with 1 method)"
      ]
     },
     "execution_count": 352,
     "metadata": {},
     "output_type": "execute_result"
    }
   ],
   "source": [
    "function moment_τ_bds(param, data; K = 1, H = 1)\n",
    "    df = data\n",
    "    p1, θ11, θ12, ζ1, θ01, θ02, ζ0, q1, r1, m1, m0 = param\n",
    "\n",
    "    [p1 - mean(df[df.G.==0, :D])\n",
    "        mean((df.D .== 1) .* (df.G .== 0) .* (df.S .≈ 5) .* ψ(θ11, df.Y; K = K, H = H))\n",
    "        mean((df.D .== 1) .* (df.G .== 0) .* (df.S .≈ 10) .* ψ(θ12, df.Y; K = K, H = H))\n",
    "        mean((df.D .== 1) .* (df.G .== 1) .* (df.S .== 5) .* ϕ(ζ1, θ11; K = K, H = H)) + mean((df.D .== 1) .* (df.G .== 1) .* (df.S .== 10) .* ϕ(ζ1, θ12; K = K, H = H))\n",
    "        mean((df.D .== 0) .* (df.G .== 0) .* (df.S .≈ 5) .* ψ′(θ01, df.Y; K = K, H = H))\n",
    "        mean((df.D .== 0) .* (df.G .== 0) .* (df.S .≈ 10) .* ψ′(θ02, df.Y; K = K, H = H))\n",
    "        mean((df.D .== 0) .* (df.G .== 1) .* (df.S .== 5) .* ϕ′(ζ0, θ01; K = K, H = H)) + mean((df.D .== 0) .* (df.G .== 1) .* (df.S .== 10) .* ϕ′(ζ0, θ02; K = K, H = H))\n",
    "        q1 - mean(df[(df.G.==0).*(df.D.==1), :S] .== 5)\n",
    "        # q2 - mean(df[ (df.G.==0) .* (df.D .==1), :S] .== 10);\n",
    "        r1 - mean(df[(df.G.==0).*(df.D.==0), :S] .== 5)\n",
    "        # r2 - mean(df[ (df.G.==0) .* (df.D .==0), :S] .== 10);\n",
    "        mean((df.D .== 1) .* (df.G .== 0) .* (df.Y .- m1))\n",
    "        mean((df.D .== 0) .* (df.G .== 0) .* (df.Y .- m0))]\n",
    "end"
   ]
  },
  {
   "cell_type": "code",
   "execution_count": 353,
   "metadata": {},
   "outputs": [
    {
     "data": {
      "text/plain": [
       "11-element Vector{Float64}:\n",
       "  0.19550359712230214\n",
       "  0.10875730665126734\n",
       "  0.03714499642170084\n",
       " -0.153\n",
       " -0.016948065733719538\n",
       " -0.008578881963859135\n",
       "  0.21949999999999997\n",
       " -0.4477849970466627\n",
       " -0.4447633824670287\n",
       "  0.020802303072968202\n",
       " -0.6410730523024214"
      ]
     },
     "execution_count": 353,
     "metadata": {},
     "output_type": "execute_result"
    }
   ],
   "source": [
    "param_init = [0.5, 5.0, 10.0, 7.5, 5.0, 10.0, 7.5, 0.3, 0.3, 7.0, 8.0]\n",
    "moment_τ_bds(param_init, df2)"
   ]
  },
  {
   "cell_type": "code",
   "execution_count": 354,
   "metadata": {},
   "outputs": [
    {
     "data": {
      "text/plain": [
       "11-element Vector{Float64}:\n",
       "  0.3044964051559941\n",
       "  5.8590624808484755\n",
       " 10.86990589331224\n",
       "  7.682403219067957\n",
       "  5.058847492851429\n",
       " 10.08691914129269\n",
       "  6.565892741100091\n",
       "  0.7477850072207478\n",
       "  0.7447634102799022\n",
       "  7.1228725054835\n",
       "  6.342195380105399"
      ]
     },
     "execution_count": 354,
     "metadata": {},
     "output_type": "execute_result"
    }
   ],
   "source": [
    "loss(param) = norm(moment_τ_bds(param, df2))\n",
    "\n",
    "result = Optim.optimize(loss, param_init)\n",
    "param_est = result.minimizer"
   ]
  },
  {
   "cell_type": "code",
   "execution_count": 355,
   "metadata": {},
   "outputs": [
    {
     "data": {
      "text/plain": [
       "cov_moment_τ_bds (generic function with 1 method)"
      ]
     },
     "execution_count": 355,
     "metadata": {},
     "output_type": "execute_result"
    }
   ],
   "source": [
    "function cov_moment_τ_bds(param, data; K = 1, H = 1)\n",
    "    df = data\n",
    "    p1, θ11, θ12, ζ1, θ01, θ02, ζ0, q1, r1, m1, m0 = param\n",
    "\n",
    "    n = size(df, 1)\n",
    "\n",
    "    mom = hcat((df.G .== 0) .* (p1 .- df[:, :D]),\n",
    "        (df.D .== 1) .* (df.G .== 0) .* (df.S .≈ 5) .* ψ(θ11, df.Y; K = K, H = H),\n",
    "        (df.D .== 1) .* (df.G .== 0) .* (df.S .≈ 10) .* ψ(θ12, df.Y; K = K, H = H),\n",
    "        (df.D .== 1) .* (df.G .== 1) .* (df.S .== 5) .* ϕ(ζ1, θ11; K = K, H = H) + (df.D .== 1) .* (df.G .== 1) .* (df.S .== 10) .* ϕ(ζ1, θ12; K = K, H = H),\n",
    "        (df.D .== 0) .* (df.G .== 0) .* (df.S .≈ 5) .* ψ′(θ01, df.Y; K = K, H = H),\n",
    "        (df.D .== 0) .* (df.G .== 0) .* (df.S .≈ 10) .* ψ′(θ02, df.Y; K = K, H = H),\n",
    "        (df.D .== 0) .* (df.G .== 1) .* (df.S .== 5) .* ϕ′(ζ0, θ01; K = K, H = H) + (df.D .== 0) .* (df.G .== 1) .* (df.S .== 10) .* ϕ′(ζ0, θ02; K = K, H = H),\n",
    "        (df.G .== 0) .* (df.D .== 1) .* (q1 .- (df[:, :S] .== 5)),\n",
    "        # (df.G .== 0) .* (df.D .== 1) .* (q2 .- (df[:, :S] .== 10)),\n",
    "        (df.G .== 0) .* (df.D .== 0) .* (r1 .- (df[:, :S] .== 5)),\n",
    "        # (df.G .== 0) .* (df.D .== 0) .* (r2 .- (df[:, :S] .== 10)),\n",
    "        (df.D .== 1) .* (df.G .== 0) .* (df.Y .- m1),\n",
    "        (df.D .== 0) .* (df.G .== 0) .* (df.Y .- m0))\n",
    "\n",
    "    result = zeros(11, 11)\n",
    "    for i in 1:n\n",
    "        result += 1 / n * mom[i, :] * mom[i, :]'\n",
    "    end\n",
    "\n",
    "    result\n",
    "end"
   ]
  },
  {
   "cell_type": "code",
   "execution_count": 356,
   "metadata": {},
   "outputs": [
    {
     "data": {
      "text/plain": [
       "11-element Vector{Float64}:\n",
       " 0.11774875899281606\n",
       " 0.2476161383219711\n",
       " 0.09043909848718495\n",
       " 1.306515892816204\n",
       " 0.5677010193463515\n",
       " 0.20918327454685878\n",
       " 1.1631510439143558\n",
       " 0.03193041937389311\n",
       " 0.07350814584949494\n",
       " 1.1397819419931203\n",
       " 2.635280566223897"
      ]
     },
     "execution_count": 356,
     "metadata": {},
     "output_type": "execute_result"
    }
   ],
   "source": [
    "diag(cov_moment_τ_bds(param_est, df2))"
   ]
  },
  {
   "cell_type": "code",
   "execution_count": 357,
   "metadata": {},
   "outputs": [
    {
     "data": {
      "text/plain": [
       "0.7477849970466627"
      ]
     },
     "execution_count": 357,
     "metadata": {},
     "output_type": "execute_result"
    }
   ],
   "source": [
    "p1hat, θ11hat, θ12hat, ζ1hat, θ01hat, θ02hat, ζ0hat, q1hat, r1hat, m1hat, m0hat = param_est[1:11];\n",
    "mean(df2[(df2.G.==0).*(df2.D.==1), :S] .== 5)\n"
   ]
  },
  {
   "cell_type": "code",
   "execution_count": 358,
   "metadata": {},
   "outputs": [
    {
     "data": {
      "text/plain": [
       "τ_lb_func (generic function with 1 method)"
      ]
     },
     "execution_count": 358,
     "metadata": {},
     "output_type": "execute_result"
    }
   ],
   "source": [
    "τ_lb_func((p1, θ11, θ12, ζ1, θ01, θ02, ζ0, q1, r1, m1, m0)) = (ζ1 - p1 * (q1 * θ11 + (1-q1) * θ12)) + p1 * m1 -\n",
    "                ( (ζ0 - (1 - p1) * (r1 * θ01 + (1-r1) * θ02)) + (1 - p1) * m0 )\n"
   ]
  },
  {
   "cell_type": "code",
   "execution_count": 359,
   "metadata": {},
   "outputs": [
    {
     "data": {
      "text/plain": [
       "1.1165105170172929"
      ]
     },
     "execution_count": 359,
     "metadata": {},
     "output_type": "execute_result"
    }
   ],
   "source": [
    "τ_lb_func(param_est[1:11])"
   ]
  },
  {
   "cell_type": "code",
   "execution_count": 360,
   "metadata": {},
   "outputs": [
    {
     "data": {
      "text/plain": [
       "11-element Vector{Float64}:\n",
       " 0.11774875899281606\n",
       " 0.2476161383219711\n",
       " 0.09043909848718495\n",
       " 1.306515892816204\n",
       " 0.5677010193463515\n",
       " 0.20918327454685878\n",
       " 1.1631510439143558\n",
       " 0.03193041937389311\n",
       " 0.07350814584949494\n",
       " 1.1397819419931203\n",
       " 2.635280566223897"
      ]
     },
     "execution_count": 360,
     "metadata": {},
     "output_type": "execute_result"
    }
   ],
   "source": [
    "G = ForwardDiff.jacobian(x -> moment_τ_bds(x, df2), param_est)[1:11, 1:11]\n",
    "V = cov_moment_τ_bds(param_est, df2)[1:11, 1:11]\n",
    "diag(V)"
   ]
  },
  {
   "cell_type": "code",
   "execution_count": 361,
   "metadata": {},
   "outputs": [
    {
     "data": {
      "text/plain": [
       "11-element Vector{Float64}:\n",
       "  2.1638002589696725e-7\n",
       " -0.22769784652826677\n",
       " -0.07679855862772729\n",
       "  1.0\n",
       "  0.5179856291579533\n",
       "  0.17751796568605266\n",
       " -1.0\n",
       "  1.52578380589481\n",
       " -3.497041906624123\n",
       "  0.3044964051559941\n",
       " -0.6955035948440059"
      ]
     },
     "execution_count": 361,
     "metadata": {},
     "output_type": "execute_result"
    }
   ],
   "source": [
    "grad_τ_lb = ForwardDiff.gradient(τ_lb_func, param_est[1:11])"
   ]
  },
  {
   "cell_type": "code",
   "execution_count": 362,
   "metadata": {},
   "outputs": [
    {
     "data": {
      "text/plain": [
       "72.28606102583633"
      ]
     },
     "execution_count": 362,
     "metadata": {},
     "output_type": "execute_result"
    }
   ],
   "source": [
    "asym_var_τ_lb = grad_τ_lb'  * inv(G' * inv(V) * G) * grad_τ_lb"
   ]
  },
  {
   "cell_type": "code",
   "execution_count": 363,
   "metadata": {},
   "outputs": [
    {
     "data": {
      "text/plain": [
       "0.08502120972194899"
      ]
     },
     "execution_count": 363,
     "metadata": {},
     "output_type": "execute_result"
    }
   ],
   "source": [
    "std_err_τ_lb = sqrt(asym_var_τ_lb) / sqrt(size(df2, 1))"
   ]
  },
  {
   "cell_type": "code",
   "execution_count": 364,
   "metadata": {},
   "outputs": [
    {
     "data": {
      "text/plain": [
       "(0.9498689459622729, 1.2831520880723128)"
      ]
     },
     "execution_count": 364,
     "metadata": {},
     "output_type": "execute_result"
    }
   ],
   "source": [
    "(τ_lb_func(param_est[1:11]) - 1.96 * std_err_τ_lb, τ_lb_func(param_est[1:11]) + 1.96 * std_err_τ_lb)"
   ]
  },
  {
   "cell_type": "code",
   "execution_count": 365,
   "metadata": {},
   "outputs": [
    {
     "data": {
      "text/plain": [
       "1.404274483520755"
      ]
     },
     "execution_count": 365,
     "metadata": {},
     "output_type": "execute_result"
    }
   ],
   "source": [
    "mean(df2[df2.G.==0, :Y1]) - mean(df2[df2.G.==0, :Y0])"
   ]
  },
  {
   "cell_type": "code",
   "execution_count": 366,
   "metadata": {},
   "outputs": [
    {
     "data": {
      "text/plain": [
       "0.7806770688462343"
      ]
     },
     "execution_count": 366,
     "metadata": {},
     "output_type": "execute_result"
    }
   ],
   "source": [
    "mean(df2[(df2.G.==0).*(df2.D.==1), :Y]) - mean(df2[(df2.G.==0).*(df2.D.==0), :Y])"
   ]
  },
  {
   "cell_type": "code",
   "execution_count": 367,
   "metadata": {},
   "outputs": [
    {
     "data": {
      "text/plain": [
       "1.1165107499854567"
      ]
     },
     "execution_count": 367,
     "metadata": {},
     "output_type": "execute_result"
    }
   ],
   "source": [
    "lb1 = compute_lower_Y1(df2; K=1, H =1) - compute_upper_Y0(df2; K=1, H =1)"
   ]
  },
  {
   "cell_type": "code",
   "execution_count": 368,
   "metadata": {},
   "outputs": [
    {
     "data": {
      "text/plain": [
       "(0.9498691789304368, 1.2831523210404767)"
      ]
     },
     "execution_count": 368,
     "metadata": {},
     "output_type": "execute_result"
    }
   ],
   "source": [
    "(lb1 - 1.96 * std_err_τ_lb, lb1 + 1.96 * std_err_τ_lb)"
   ]
  },
  {
   "cell_type": "code",
   "execution_count": 369,
   "metadata": {},
   "outputs": [
    {
     "data": {
      "text/plain": [
       "7.682403276782971"
      ]
     },
     "execution_count": 369,
     "metadata": {},
     "output_type": "execute_result"
    }
   ],
   "source": [
    " (ζ1hat - p1hat * (q1hat * θ11hat + (1-q1hat) * θ12hat)) + p1hat * m1hat"
   ]
  },
  {
   "cell_type": "code",
   "execution_count": 370,
   "metadata": {},
   "outputs": [
    {
     "data": {
      "text/plain": [
       "7.68240329748768"
      ]
     },
     "execution_count": 370,
     "metadata": {},
     "output_type": "execute_result"
    }
   ],
   "source": [
    "compute_lower_Y1(df2; K=1, H =1)"
   ]
  },
  {
   "cell_type": "code",
   "execution_count": 371,
   "metadata": {},
   "outputs": [
    {
     "data": {
      "text/plain": [
       "6.565892759765678"
      ]
     },
     "execution_count": 371,
     "metadata": {},
     "output_type": "execute_result"
    }
   ],
   "source": [
    " ( (ζ0hat - (1 - p1hat) * (r1hat * θ01hat + (1-r1hat) * θ02hat)) + (1 - p1hat) * m0hat )"
   ]
  },
  {
   "cell_type": "code",
   "execution_count": 372,
   "metadata": {},
   "outputs": [
    {
     "data": {
      "text/plain": [
       "6.565892547502223"
      ]
     },
     "execution_count": 372,
     "metadata": {},
     "output_type": "execute_result"
    }
   ],
   "source": [
    "compute_upper_Y0(df2; K=1, H =1)"
   ]
  },
  {
   "cell_type": "code",
   "execution_count": 373,
   "metadata": {},
   "outputs": [
    {
     "data": {
      "text/plain": [
       "CI_τ_lb (generic function with 1 method)"
      ]
     },
     "execution_count": 373,
     "metadata": {},
     "output_type": "execute_result"
    }
   ],
   "source": [
    "function CI_τ_lb(data; K = 1, H = 1)\n",
    "\n",
    "    param_init = [0.5, 5.0, 10.0, 7.5, 5.0, 10.0, 7.5, 0.3, 0.3, 7.0, 8.0]\n",
    "\n",
    "    loss(param) = norm(moment_τ_bds(param, data))\n",
    "    result = Optim.optimize(loss, param_init)\n",
    "    param_est = result.minimizer\n",
    "\n",
    "    τ_lb_func((p1, θ11, θ12, ζ1, θ01, θ02, ζ0, q1, r1, m1, m0)) = (ζ1 - p1 * (q1 * θ11 + (1 - q1) * θ12)) + p1 * m1 -\n",
    "                                                                  ((ζ0 - (1 - p1) * (r1 * θ01 + (1 - r1) * θ02)) + (1 - p1) * m0)\n",
    "\n",
    "    G = ForwardDiff.jacobian(x -> moment_τ_bds(x, data), param_est)[1:11, 1:11]\n",
    "    V = cov_moment_τ_bds(param_est, data)[1:11, 1:11]\n",
    "\n",
    "    grad_τ_lb = ForwardDiff.gradient(τ_lb_func, param_est[1:11])\n",
    "\n",
    "    asym_var_τ_lb = grad_τ_lb' * inv(G' * inv(V) * G) * grad_τ_lb\n",
    "\n",
    "    std_err_τ_lb = sqrt(asym_var_τ_lb) / sqrt(size(df2, 1))\n",
    "\n",
    "    return (τ_lb_func(param_est[1:11]) - 1.96 * std_err_τ_lb, τ_lb_func(param_est[1:11]) + 1.96 * std_err_τ_lb), mean(df2[df2.G.==0, :Y1]) - mean(df2[df2.G.==0, :Y0])\n",
    "end"
   ]
  },
  {
   "cell_type": "code",
   "execution_count": 392,
   "metadata": {},
   "outputs": [
    {
     "data": {
      "text/plain": [
       "((0.9416353379915735, 1.2600477518609208), 1.3347733572398974)"
      ]
     },
     "execution_count": 392,
     "metadata": {},
     "output_type": "execute_result"
    }
   ],
   "source": [
    "df2 = data_generation2(100, K = exp(1), H =1)\n",
    "CI_τ_lb(df2, K = exp(1), H = 1)"
   ]
  },
  {
   "cell_type": "code",
   "execution_count": 398,
   "metadata": {},
   "outputs": [
    {
     "name": "stdout",
     "output_type": "stream",
     "text": [
      "Finished simulation #5 !\n",
      "Finished simulation #10 !\n",
      "Finished simulation #15 !\n",
      "Finished simulation #20 !\n",
      "Finished simulation #25 !\n",
      "Finished simulation #30 !\n",
      "Finished simulation #35 !\n",
      "Finished simulation #40 !\n",
      "Finished simulation #45 !\n",
      "Finished simulation #50 !\n",
      "Finished simulation #55 !\n",
      "Finished simulation #60 !\n",
      "Finished simulation #65 !\n",
      "Finished simulation #70 !\n",
      "Finished simulation #75 !\n",
      "Finished simulation #80 !\n",
      "Finished simulation #85 !\n",
      "Finished simulation #90 !\n",
      "Finished simulation #95 !\n",
      "Finished simulation #100 !\n"
     ]
    },
    {
     "data": {
      "text/plain": [
       "100.0"
      ]
     },
     "execution_count": 398,
     "metadata": {},
     "output_type": "execute_result"
    }
   ],
   "source": [
    "result = 0.0\n",
    "\n",
    "for i in 1:100\n",
    "    df2 = data_generation2(100; K = exp(1), H = 1)\n",
    "    CI, oracle_est = CI_τ_lb(df2; K = exp(1), H = 1)\n",
    "    result += (oracle_est > CI[1]) \n",
    "\n",
    "    if (i % 5 == 0)\n",
    "        println(\"Finished simulation #$i !\")\n",
    "    end\n",
    "end\n",
    "\n",
    "result"
   ]
  },
  {
   "cell_type": "code",
   "execution_count": 350,
   "metadata": {},
   "outputs": [
    {
     "data": {
      "text/plain": [
       "100.0"
      ]
     },
     "execution_count": 350,
     "metadata": {},
     "output_type": "execute_result"
    }
   ],
   "source": [
    "result # 93.0% is pretty good, isn't it?"
   ]
  },
  {
   "cell_type": "code",
   "execution_count": null,
   "metadata": {},
   "outputs": [],
   "source": []
  }
 ],
 "metadata": {
  "@webio": {
   "lastCommId": null,
   "lastKernelId": null
  },
  "kernelspec": {
   "display_name": "Julia 1.6.0",
   "language": "julia",
   "name": "julia-1.6"
  },
  "language_info": {
   "file_extension": ".jl",
   "mimetype": "application/julia",
   "name": "julia",
   "version": "1.6.2"
  }
 },
 "nbformat": 4,
 "nbformat_minor": 4
}
