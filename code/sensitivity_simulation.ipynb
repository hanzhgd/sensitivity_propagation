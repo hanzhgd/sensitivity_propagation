{
 "cells": [
  {
   "cell_type": "code",
   "execution_count": 9,
   "metadata": {},
   "outputs": [
    {
     "data": {
      "text/plain": [
       "CI_τ_ub (generic function with 1 method)"
      ]
     },
     "execution_count": 9,
     "metadata": {},
     "output_type": "execute_result"
    }
   ],
   "source": [
    "include(\"utils.jl\")"
   ]
  },
  {
   "cell_type": "code",
   "execution_count": 6,
   "metadata": {},
   "outputs": [
    {
     "data": {
      "text/html": [
       "<table class=\"data-frame\"><thead><tr><th></th><th>G</th><th>S1</th><th>S0</th><th>D</th><th>Y1</th><th>Y0</th><th>S</th><th>Y</th></tr><tr><th></th><th>Bool</th><th>Int64</th><th>Int64</th><th>Bool</th><th>Float64</th><th>Float64</th><th>Int64</th><th>Float64</th></tr></thead><tbody><p>1,000 rows × 8 columns</p><tr><th>1</th><td>1</td><td>5</td><td>5</td><td>1</td><td>12.5509</td><td>11.5509</td><td>5</td><td>12.5509</td></tr><tr><th>2</th><td>1</td><td>10</td><td>10</td><td>0</td><td>11.7558</td><td>10.7558</td><td>10</td><td>10.7558</td></tr><tr><th>3</th><td>0</td><td>5</td><td>10</td><td>0</td><td>12.0454</td><td>11.0454</td><td>10</td><td>11.0454</td></tr><tr><th>4</th><td>0</td><td>5</td><td>10</td><td>1</td><td>9.21895</td><td>8.21895</td><td>5</td><td>9.21895</td></tr><tr><th>5</th><td>1</td><td>10</td><td>10</td><td>1</td><td>4.49865</td><td>3.49865</td><td>10</td><td>4.49865</td></tr><tr><th>6</th><td>1</td><td>5</td><td>5</td><td>0</td><td>8.44724</td><td>7.44724</td><td>5</td><td>7.44724</td></tr><tr><th>7</th><td>0</td><td>5</td><td>5</td><td>0</td><td>4.63093</td><td>3.63093</td><td>5</td><td>3.63093</td></tr><tr><th>8</th><td>0</td><td>10</td><td>10</td><td>1</td><td>2.41919</td><td>1.41919</td><td>10</td><td>2.41919</td></tr><tr><th>9</th><td>1</td><td>5</td><td>10</td><td>1</td><td>7.98029</td><td>6.98029</td><td>5</td><td>7.98029</td></tr><tr><th>10</th><td>1</td><td>5</td><td>10</td><td>1</td><td>9.34075</td><td>8.34075</td><td>5</td><td>9.34075</td></tr><tr><th>11</th><td>0</td><td>5</td><td>10</td><td>0</td><td>0.569533</td><td>-0.430467</td><td>10</td><td>-0.430467</td></tr><tr><th>12</th><td>1</td><td>5</td><td>5</td><td>0</td><td>6.22827</td><td>5.22827</td><td>5</td><td>5.22827</td></tr><tr><th>13</th><td>1</td><td>5</td><td>5</td><td>0</td><td>5.85102</td><td>4.85102</td><td>5</td><td>4.85102</td></tr><tr><th>14</th><td>1</td><td>10</td><td>5</td><td>0</td><td>15.955</td><td>14.955</td><td>5</td><td>14.955</td></tr><tr><th>15</th><td>1</td><td>5</td><td>10</td><td>0</td><td>12.0627</td><td>11.0627</td><td>10</td><td>11.0627</td></tr><tr><th>16</th><td>1</td><td>5</td><td>10</td><td>0</td><td>7.40711</td><td>6.40711</td><td>10</td><td>6.40711</td></tr><tr><th>17</th><td>0</td><td>10</td><td>5</td><td>0</td><td>6.35308</td><td>5.35308</td><td>5</td><td>5.35308</td></tr><tr><th>18</th><td>1</td><td>10</td><td>5</td><td>0</td><td>0.723698</td><td>-0.276302</td><td>5</td><td>-0.276302</td></tr><tr><th>19</th><td>1</td><td>10</td><td>10</td><td>1</td><td>7.81418</td><td>6.81418</td><td>10</td><td>7.81418</td></tr><tr><th>20</th><td>1</td><td>10</td><td>5</td><td>1</td><td>5.60315</td><td>4.60315</td><td>10</td><td>5.60315</td></tr><tr><th>21</th><td>0</td><td>10</td><td>5</td><td>0</td><td>8.82126</td><td>7.82126</td><td>5</td><td>7.82126</td></tr><tr><th>22</th><td>0</td><td>10</td><td>5</td><td>1</td><td>5.31609</td><td>4.31609</td><td>10</td><td>5.31609</td></tr><tr><th>23</th><td>0</td><td>10</td><td>10</td><td>1</td><td>5.47256</td><td>4.47256</td><td>10</td><td>5.47256</td></tr><tr><th>24</th><td>1</td><td>5</td><td>10</td><td>1</td><td>2.75942</td><td>1.75942</td><td>5</td><td>2.75942</td></tr><tr><th>25</th><td>1</td><td>10</td><td>5</td><td>0</td><td>0.194094</td><td>-0.805906</td><td>5</td><td>-0.805906</td></tr><tr><th>26</th><td>0</td><td>10</td><td>10</td><td>0</td><td>16.0493</td><td>15.0493</td><td>10</td><td>15.0493</td></tr><tr><th>27</th><td>0</td><td>10</td><td>10</td><td>0</td><td>17.5244</td><td>16.5244</td><td>10</td><td>16.5244</td></tr><tr><th>28</th><td>0</td><td>5</td><td>10</td><td>0</td><td>4.47415</td><td>3.47415</td><td>10</td><td>3.47415</td></tr><tr><th>29</th><td>0</td><td>5</td><td>10</td><td>0</td><td>2.72644</td><td>1.72644</td><td>10</td><td>1.72644</td></tr><tr><th>30</th><td>1</td><td>10</td><td>10</td><td>0</td><td>9.28056</td><td>8.28056</td><td>10</td><td>8.28056</td></tr><tr><th>&vellip;</th><td>&vellip;</td><td>&vellip;</td><td>&vellip;</td><td>&vellip;</td><td>&vellip;</td><td>&vellip;</td><td>&vellip;</td><td>&vellip;</td></tr></tbody></table>"
      ],
      "text/latex": [
       "\\begin{tabular}{r|cccccccc}\n",
       "\t& G & S1 & S0 & D & Y1 & Y0 & S & Y\\\\\n",
       "\t\\hline\n",
       "\t& Bool & Int64 & Int64 & Bool & Float64 & Float64 & Int64 & Float64\\\\\n",
       "\t\\hline\n",
       "\t1 & 1 & 5 & 5 & 1 & 12.5509 & 11.5509 & 5 & 12.5509 \\\\\n",
       "\t2 & 1 & 10 & 10 & 0 & 11.7558 & 10.7558 & 10 & 10.7558 \\\\\n",
       "\t3 & 0 & 5 & 10 & 0 & 12.0454 & 11.0454 & 10 & 11.0454 \\\\\n",
       "\t4 & 0 & 5 & 10 & 1 & 9.21895 & 8.21895 & 5 & 9.21895 \\\\\n",
       "\t5 & 1 & 10 & 10 & 1 & 4.49865 & 3.49865 & 10 & 4.49865 \\\\\n",
       "\t6 & 1 & 5 & 5 & 0 & 8.44724 & 7.44724 & 5 & 7.44724 \\\\\n",
       "\t7 & 0 & 5 & 5 & 0 & 4.63093 & 3.63093 & 5 & 3.63093 \\\\\n",
       "\t8 & 0 & 10 & 10 & 1 & 2.41919 & 1.41919 & 10 & 2.41919 \\\\\n",
       "\t9 & 1 & 5 & 10 & 1 & 7.98029 & 6.98029 & 5 & 7.98029 \\\\\n",
       "\t10 & 1 & 5 & 10 & 1 & 9.34075 & 8.34075 & 5 & 9.34075 \\\\\n",
       "\t11 & 0 & 5 & 10 & 0 & 0.569533 & -0.430467 & 10 & -0.430467 \\\\\n",
       "\t12 & 1 & 5 & 5 & 0 & 6.22827 & 5.22827 & 5 & 5.22827 \\\\\n",
       "\t13 & 1 & 5 & 5 & 0 & 5.85102 & 4.85102 & 5 & 4.85102 \\\\\n",
       "\t14 & 1 & 10 & 5 & 0 & 15.955 & 14.955 & 5 & 14.955 \\\\\n",
       "\t15 & 1 & 5 & 10 & 0 & 12.0627 & 11.0627 & 10 & 11.0627 \\\\\n",
       "\t16 & 1 & 5 & 10 & 0 & 7.40711 & 6.40711 & 10 & 6.40711 \\\\\n",
       "\t17 & 0 & 10 & 5 & 0 & 6.35308 & 5.35308 & 5 & 5.35308 \\\\\n",
       "\t18 & 1 & 10 & 5 & 0 & 0.723698 & -0.276302 & 5 & -0.276302 \\\\\n",
       "\t19 & 1 & 10 & 10 & 1 & 7.81418 & 6.81418 & 10 & 7.81418 \\\\\n",
       "\t20 & 1 & 10 & 5 & 1 & 5.60315 & 4.60315 & 10 & 5.60315 \\\\\n",
       "\t21 & 0 & 10 & 5 & 0 & 8.82126 & 7.82126 & 5 & 7.82126 \\\\\n",
       "\t22 & 0 & 10 & 5 & 1 & 5.31609 & 4.31609 & 10 & 5.31609 \\\\\n",
       "\t23 & 0 & 10 & 10 & 1 & 5.47256 & 4.47256 & 10 & 5.47256 \\\\\n",
       "\t24 & 1 & 5 & 10 & 1 & 2.75942 & 1.75942 & 5 & 2.75942 \\\\\n",
       "\t25 & 1 & 10 & 5 & 0 & 0.194094 & -0.805906 & 5 & -0.805906 \\\\\n",
       "\t26 & 0 & 10 & 10 & 0 & 16.0493 & 15.0493 & 10 & 15.0493 \\\\\n",
       "\t27 & 0 & 10 & 10 & 0 & 17.5244 & 16.5244 & 10 & 16.5244 \\\\\n",
       "\t28 & 0 & 5 & 10 & 0 & 4.47415 & 3.47415 & 10 & 3.47415 \\\\\n",
       "\t29 & 0 & 5 & 10 & 0 & 2.72644 & 1.72644 & 10 & 1.72644 \\\\\n",
       "\t30 & 1 & 10 & 10 & 0 & 9.28056 & 8.28056 & 10 & 8.28056 \\\\\n",
       "\t$\\dots$ & $\\dots$ & $\\dots$ & $\\dots$ & $\\dots$ & $\\dots$ & $\\dots$ & $\\dots$ & $\\dots$ \\\\\n",
       "\\end{tabular}\n"
      ],
      "text/plain": [
       "\u001b[1m1000×8 DataFrame\u001b[0m\n",
       "\u001b[1m  Row \u001b[0m│\u001b[1m G     \u001b[0m\u001b[1m S1    \u001b[0m\u001b[1m S0    \u001b[0m\u001b[1m D     \u001b[0m\u001b[1m Y1        \u001b[0m\u001b[1m Y0        \u001b[0m\u001b[1m S     \u001b[0m\u001b[1m Y         \u001b[0m\n",
       "\u001b[1m      \u001b[0m│\u001b[90m Bool  \u001b[0m\u001b[90m Int64 \u001b[0m\u001b[90m Int64 \u001b[0m\u001b[90m Bool  \u001b[0m\u001b[90m Float64   \u001b[0m\u001b[90m Float64   \u001b[0m\u001b[90m Int64 \u001b[0m\u001b[90m Float64   \u001b[0m\n",
       "──────┼────────────────────────────────────────────────────────────────────\n",
       "    1 │  true      5      5   true  12.5509    11.5509        5  12.5509\n",
       "    2 │  true     10     10  false  11.7558    10.7558       10  10.7558\n",
       "    3 │ false      5     10  false  12.0454    11.0454       10  11.0454\n",
       "    4 │ false      5     10   true   9.21895    8.21895       5   9.21895\n",
       "    5 │  true     10     10   true   4.49865    3.49865      10   4.49865\n",
       "    6 │  true      5      5  false   8.44724    7.44724       5   7.44724\n",
       "    7 │ false      5      5  false   4.63093    3.63093       5   3.63093\n",
       "    8 │ false     10     10   true   2.41919    1.41919      10   2.41919\n",
       "    9 │  true      5     10   true   7.98029    6.98029       5   7.98029\n",
       "   10 │  true      5     10   true   9.34075    8.34075       5   9.34075\n",
       "   11 │ false      5     10  false   0.569533  -0.430467     10  -0.430467\n",
       "  ⋮   │   ⋮      ⋮      ⋮      ⋮        ⋮          ⋮        ⋮        ⋮\n",
       "  991 │  true     10     10  false  15.21      14.21         10  14.21\n",
       "  992 │  true      5     10  false  14.7034    13.7034       10  13.7034\n",
       "  993 │  true     10      5  false   7.20075    6.20075       5   6.20075\n",
       "  994 │  true     10     10  false  15.5095    14.5095       10  14.5095\n",
       "  995 │  true      5     10   true   7.85038    6.85038       5   7.85038\n",
       "  996 │ false     10     10   true   7.61121    6.61121      10   7.61121\n",
       "  997 │ false     10      5   true   4.16623    3.16623      10   4.16623\n",
       "  998 │  true     10      5   true   1.24655    0.246551     10   1.24655\n",
       "  999 │  true      5      5  false  -1.32574   -2.32574       5  -2.32574\n",
       " 1000 │ false      5     10  false   9.54066    8.54066      10   8.54066\n",
       "\u001b[36m                                                           979 rows omitted\u001b[0m"
      ]
     },
     "execution_count": 6,
     "metadata": {},
     "output_type": "execute_result"
    }
   ],
   "source": [
    "df2 = data_generation2(1000; H = 1, K = 1)"
   ]
  },
  {
   "cell_type": "code",
   "execution_count": 7,
   "metadata": {},
   "outputs": [
    {
     "data": {
      "text/html": [
       "<table class=\"data-frame\"><thead><tr><th></th><th>G</th><th>S1</th><th>S0</th><th>D</th><th>Y1</th><th>Y0</th><th>S</th><th>Y</th></tr><tr><th></th><th>Bool</th><th>Int64</th><th>Int64</th><th>Bool</th><th>Float64</th><th>Float64</th><th>Int64</th><th>Float64</th></tr></thead><tbody><p>1,000 rows × 8 columns</p><tr><th>1</th><td>1</td><td>10</td><td>5</td><td>1</td><td>7.30661</td><td>6.30661</td><td>10</td><td>7.30661</td></tr><tr><th>2</th><td>0</td><td>10</td><td>5</td><td>0</td><td>10.6104</td><td>9.61035</td><td>5</td><td>9.61035</td></tr><tr><th>3</th><td>0</td><td>10</td><td>5</td><td>0</td><td>21.2829</td><td>20.2829</td><td>5</td><td>20.2829</td></tr><tr><th>4</th><td>1</td><td>10</td><td>10</td><td>1</td><td>12.9371</td><td>11.9371</td><td>10</td><td>12.9371</td></tr><tr><th>5</th><td>0</td><td>10</td><td>5</td><td>0</td><td>12.4838</td><td>11.4838</td><td>5</td><td>11.4838</td></tr><tr><th>6</th><td>0</td><td>10</td><td>10</td><td>1</td><td>21.9206</td><td>20.9206</td><td>10</td><td>21.9206</td></tr><tr><th>7</th><td>0</td><td>5</td><td>5</td><td>0</td><td>7.41062</td><td>6.41062</td><td>5</td><td>6.41062</td></tr><tr><th>8</th><td>0</td><td>10</td><td>10</td><td>0</td><td>8.90035</td><td>7.90035</td><td>10</td><td>7.90035</td></tr><tr><th>9</th><td>0</td><td>5</td><td>5</td><td>0</td><td>-0.756244</td><td>-1.75624</td><td>5</td><td>-1.75624</td></tr><tr><th>10</th><td>1</td><td>10</td><td>10</td><td>1</td><td>5.7112</td><td>4.7112</td><td>10</td><td>5.7112</td></tr><tr><th>11</th><td>1</td><td>10</td><td>5</td><td>0</td><td>0.214941</td><td>-0.785059</td><td>5</td><td>-0.785059</td></tr><tr><th>12</th><td>1</td><td>10</td><td>10</td><td>1</td><td>12.0099</td><td>11.0099</td><td>10</td><td>12.0099</td></tr><tr><th>13</th><td>0</td><td>5</td><td>5</td><td>1</td><td>5.85917</td><td>4.85917</td><td>5</td><td>5.85917</td></tr><tr><th>14</th><td>0</td><td>10</td><td>5</td><td>0</td><td>-10.9378</td><td>-11.9378</td><td>5</td><td>-11.9378</td></tr><tr><th>15</th><td>1</td><td>10</td><td>10</td><td>1</td><td>12.1501</td><td>11.1501</td><td>10</td><td>12.1501</td></tr><tr><th>16</th><td>1</td><td>10</td><td>5</td><td>0</td><td>4.51003</td><td>3.51003</td><td>5</td><td>3.51003</td></tr><tr><th>17</th><td>1</td><td>10</td><td>10</td><td>0</td><td>12.7091</td><td>11.7091</td><td>10</td><td>11.7091</td></tr><tr><th>18</th><td>1</td><td>5</td><td>10</td><td>0</td><td>-0.147141</td><td>-1.14714</td><td>10</td><td>-1.14714</td></tr><tr><th>19</th><td>1</td><td>10</td><td>5</td><td>1</td><td>2.71261</td><td>1.71261</td><td>10</td><td>2.71261</td></tr><tr><th>20</th><td>1</td><td>5</td><td>10</td><td>1</td><td>11.7148</td><td>10.7148</td><td>5</td><td>11.7148</td></tr><tr><th>21</th><td>1</td><td>5</td><td>5</td><td>0</td><td>5.56514</td><td>4.56514</td><td>5</td><td>4.56514</td></tr><tr><th>22</th><td>1</td><td>5</td><td>5</td><td>0</td><td>-3.64006</td><td>-4.64006</td><td>5</td><td>-4.64006</td></tr><tr><th>23</th><td>1</td><td>10</td><td>10</td><td>1</td><td>7.05275</td><td>6.05275</td><td>10</td><td>7.05275</td></tr><tr><th>24</th><td>0</td><td>10</td><td>10</td><td>1</td><td>21.7539</td><td>20.7539</td><td>10</td><td>21.7539</td></tr><tr><th>25</th><td>1</td><td>10</td><td>10</td><td>1</td><td>11.9212</td><td>10.9212</td><td>10</td><td>11.9212</td></tr><tr><th>26</th><td>0</td><td>5</td><td>10</td><td>1</td><td>11.1461</td><td>10.1461</td><td>5</td><td>11.1461</td></tr><tr><th>27</th><td>1</td><td>10</td><td>5</td><td>1</td><td>14.4298</td><td>13.4298</td><td>10</td><td>14.4298</td></tr><tr><th>28</th><td>0</td><td>5</td><td>10</td><td>1</td><td>7.91519</td><td>6.91519</td><td>5</td><td>7.91519</td></tr><tr><th>29</th><td>1</td><td>5</td><td>10</td><td>0</td><td>8.73641</td><td>7.73641</td><td>10</td><td>7.73641</td></tr><tr><th>30</th><td>1</td><td>5</td><td>5</td><td>1</td><td>12.9409</td><td>11.9409</td><td>5</td><td>12.9409</td></tr><tr><th>&vellip;</th><td>&vellip;</td><td>&vellip;</td><td>&vellip;</td><td>&vellip;</td><td>&vellip;</td><td>&vellip;</td><td>&vellip;</td><td>&vellip;</td></tr></tbody></table>"
      ],
      "text/latex": [
       "\\begin{tabular}{r|cccccccc}\n",
       "\t& G & S1 & S0 & D & Y1 & Y0 & S & Y\\\\\n",
       "\t\\hline\n",
       "\t& Bool & Int64 & Int64 & Bool & Float64 & Float64 & Int64 & Float64\\\\\n",
       "\t\\hline\n",
       "\t1 & 1 & 10 & 5 & 1 & 7.30661 & 6.30661 & 10 & 7.30661 \\\\\n",
       "\t2 & 0 & 10 & 5 & 0 & 10.6104 & 9.61035 & 5 & 9.61035 \\\\\n",
       "\t3 & 0 & 10 & 5 & 0 & 21.2829 & 20.2829 & 5 & 20.2829 \\\\\n",
       "\t4 & 1 & 10 & 10 & 1 & 12.9371 & 11.9371 & 10 & 12.9371 \\\\\n",
       "\t5 & 0 & 10 & 5 & 0 & 12.4838 & 11.4838 & 5 & 11.4838 \\\\\n",
       "\t6 & 0 & 10 & 10 & 1 & 21.9206 & 20.9206 & 10 & 21.9206 \\\\\n",
       "\t7 & 0 & 5 & 5 & 0 & 7.41062 & 6.41062 & 5 & 6.41062 \\\\\n",
       "\t8 & 0 & 10 & 10 & 0 & 8.90035 & 7.90035 & 10 & 7.90035 \\\\\n",
       "\t9 & 0 & 5 & 5 & 0 & -0.756244 & -1.75624 & 5 & -1.75624 \\\\\n",
       "\t10 & 1 & 10 & 10 & 1 & 5.7112 & 4.7112 & 10 & 5.7112 \\\\\n",
       "\t11 & 1 & 10 & 5 & 0 & 0.214941 & -0.785059 & 5 & -0.785059 \\\\\n",
       "\t12 & 1 & 10 & 10 & 1 & 12.0099 & 11.0099 & 10 & 12.0099 \\\\\n",
       "\t13 & 0 & 5 & 5 & 1 & 5.85917 & 4.85917 & 5 & 5.85917 \\\\\n",
       "\t14 & 0 & 10 & 5 & 0 & -10.9378 & -11.9378 & 5 & -11.9378 \\\\\n",
       "\t15 & 1 & 10 & 10 & 1 & 12.1501 & 11.1501 & 10 & 12.1501 \\\\\n",
       "\t16 & 1 & 10 & 5 & 0 & 4.51003 & 3.51003 & 5 & 3.51003 \\\\\n",
       "\t17 & 1 & 10 & 10 & 0 & 12.7091 & 11.7091 & 10 & 11.7091 \\\\\n",
       "\t18 & 1 & 5 & 10 & 0 & -0.147141 & -1.14714 & 10 & -1.14714 \\\\\n",
       "\t19 & 1 & 10 & 5 & 1 & 2.71261 & 1.71261 & 10 & 2.71261 \\\\\n",
       "\t20 & 1 & 5 & 10 & 1 & 11.7148 & 10.7148 & 5 & 11.7148 \\\\\n",
       "\t21 & 1 & 5 & 5 & 0 & 5.56514 & 4.56514 & 5 & 4.56514 \\\\\n",
       "\t22 & 1 & 5 & 5 & 0 & -3.64006 & -4.64006 & 5 & -4.64006 \\\\\n",
       "\t23 & 1 & 10 & 10 & 1 & 7.05275 & 6.05275 & 10 & 7.05275 \\\\\n",
       "\t24 & 0 & 10 & 10 & 1 & 21.7539 & 20.7539 & 10 & 21.7539 \\\\\n",
       "\t25 & 1 & 10 & 10 & 1 & 11.9212 & 10.9212 & 10 & 11.9212 \\\\\n",
       "\t26 & 0 & 5 & 10 & 1 & 11.1461 & 10.1461 & 5 & 11.1461 \\\\\n",
       "\t27 & 1 & 10 & 5 & 1 & 14.4298 & 13.4298 & 10 & 14.4298 \\\\\n",
       "\t28 & 0 & 5 & 10 & 1 & 7.91519 & 6.91519 & 5 & 7.91519 \\\\\n",
       "\t29 & 1 & 5 & 10 & 0 & 8.73641 & 7.73641 & 10 & 7.73641 \\\\\n",
       "\t30 & 1 & 5 & 5 & 1 & 12.9409 & 11.9409 & 5 & 12.9409 \\\\\n",
       "\t$\\dots$ & $\\dots$ & $\\dots$ & $\\dots$ & $\\dots$ & $\\dots$ & $\\dots$ & $\\dots$ & $\\dots$ \\\\\n",
       "\\end{tabular}\n"
      ],
      "text/plain": [
       "\u001b[1m1000×8 DataFrame\u001b[0m\n",
       "\u001b[1m  Row \u001b[0m│\u001b[1m G     \u001b[0m\u001b[1m S1    \u001b[0m\u001b[1m S0    \u001b[0m\u001b[1m D     \u001b[0m\u001b[1m Y1         \u001b[0m\u001b[1m Y0        \u001b[0m\u001b[1m S     \u001b[0m\u001b[1m Y         \u001b[0m\n",
       "\u001b[1m      \u001b[0m│\u001b[90m Bool  \u001b[0m\u001b[90m Int64 \u001b[0m\u001b[90m Int64 \u001b[0m\u001b[90m Bool  \u001b[0m\u001b[90m Float64    \u001b[0m\u001b[90m Float64   \u001b[0m\u001b[90m Int64 \u001b[0m\u001b[90m Float64   \u001b[0m\n",
       "──────┼─────────────────────────────────────────────────────────────────────\n",
       "    1 │  true     10      5   true   7.30661     6.30661      10   7.30661\n",
       "    2 │ false     10      5  false  10.6104      9.61035       5   9.61035\n",
       "    3 │ false     10      5  false  21.2829     20.2829        5  20.2829\n",
       "    4 │  true     10     10   true  12.9371     11.9371       10  12.9371\n",
       "    5 │ false     10      5  false  12.4838     11.4838        5  11.4838\n",
       "    6 │ false     10     10   true  21.9206     20.9206       10  21.9206\n",
       "    7 │ false      5      5  false   7.41062     6.41062       5   6.41062\n",
       "    8 │ false     10     10  false   8.90035     7.90035      10   7.90035\n",
       "    9 │ false      5      5  false  -0.756244   -1.75624       5  -1.75624\n",
       "   10 │  true     10     10   true   5.7112      4.7112       10   5.7112\n",
       "   11 │  true     10      5  false   0.214941   -0.785059      5  -0.785059\n",
       "  ⋮   │   ⋮      ⋮      ⋮      ⋮        ⋮           ⋮        ⋮        ⋮\n",
       "  991 │  true     10      5   true   1.32642     0.326418     10   1.32642\n",
       "  992 │  true     10     10   true  15.3071     14.3071       10  15.3071\n",
       "  993 │  true      5      5   true   4.65917     3.65917       5   4.65917\n",
       "  994 │ false     10     10  false   9.44734     8.44734      10   8.44734\n",
       "  995 │ false     10     10  false  11.9468     10.9468       10  10.9468\n",
       "  996 │  true     10      5  false  -4.43105    -5.43105       5  -5.43105\n",
       "  997 │  true     10      5  false   5.154       4.154         5   4.154\n",
       "  998 │ false     10      5  false   0.0300513  -0.969949      5  -0.969949\n",
       "  999 │  true     10      5  false   6.26128     5.26128       5   5.26128\n",
       " 1000 │  true      5     10   true  14.5287     13.5287        5  14.5287\n",
       "\u001b[36m                                                            979 rows omitted\u001b[0m"
      ]
     },
     "execution_count": 7,
     "metadata": {},
     "output_type": "execute_result"
    }
   ],
   "source": [
    "df2 = data_generation2(1000; K = 1.2, H = 1.2)"
   ]
  },
  {
   "cell_type": "code",
   "execution_count": 8,
   "metadata": {},
   "outputs": [],
   "source": [
    "Ks = exp.(LinRange(0.0, 2, 10))\n",
    "plot(Ks, [compute_upper_Y1(df2; K = K, H = 1.2) - compute_lower_Y0(df2; K = K, H = 1.2) for K in Ks], xlim = (1, 6), label = \"upper bound\", lw = 3, linestyle = :dashdot)\n",
    "plot!(Ks, [compute_lower_Y1(df2; K = K, H = 1.2) - compute_upper_Y0(df2; K = K, H = 1.2) for K in Ks], xlim = (1, 6), label = \"lower bound\", lw = 3, linestyle = :dashdot)\n",
    "plot!(Ks, [compute_lower_Y1(df2; K = 1, H = 1) - compute_upper_Y0(df2; K = 1, H = 1) for K in Ks], label = \"ACI est.\", lw = 3, linestyle = :dashdot)\n",
    "plot!(leg = :right, xtickfontsize = 18, ytickfontsize = 18, xguidefontsize = 18, yguidefontsize = 18, legendfontsize = 18)\n",
    "hline!([1], label = \"True ATE\", lw = 3)\n",
    "# plot!(title = L\"One realization for $\\tau$ : true $H = 1.2, K = 1.2$ with $K$ varied$\")\n",
    "plot!(xlabel = L\"$K$\", ylabel = \"estimate\")\n",
    "plot!(size = (800, 800))\n",
    "savefig(\"fig1.png\")"
   ]
  },
  {
   "cell_type": "code",
   "execution_count": 19,
   "metadata": {},
   "outputs": [
    {
     "data": {
      "text/plain": [
       "0.52"
      ]
     },
     "execution_count": 19,
     "metadata": {},
     "output_type": "execute_result"
    }
   ],
   "source": [
    "mean(df2.G)"
   ]
  },
  {
   "cell_type": "code",
   "execution_count": 13,
   "metadata": {},
   "outputs": [
    {
     "data": {
      "text/plain": [
       "MersenneTwister(3)"
      ]
     },
     "execution_count": 13,
     "metadata": {},
     "output_type": "execute_result"
    }
   ],
   "source": [
    "using Random\n",
    "Random.seed!(3)"
   ]
  },
  {
   "cell_type": "code",
   "execution_count": 22,
   "metadata": {},
   "outputs": [
    {
     "name": "stdout",
     "output_type": "stream",
     "text": [
      "n = 500\n",
      "$\\tau^-$0.7270555968868841\n",
      "Std. Dev. of $\\tau$0.7433005541922757\n",
      "$\\tau^+$2.00339992090197\n",
      "Std. Dev. of $\\tau$0.7442306292498936\n",
      "coverage0.994\n"
     ]
    }
   ],
   "source": [
    "sp = 1.2\n",
    "upper_bound_τ = []\n",
    "oracle_τ = []\n",
    "lower_bound_τ = []\n",
    "\n",
    "for _ in 1:2000\n",
    "    df2 = data_generation2(500; K = sp, H = sp)\n",
    "    push!(upper_bound_τ, compute_upper_Y1(df2; K = sp, H = sp) - compute_lower_Y0(df2; K = sp, H = sp))\n",
    "    push!(lower_bound_τ, compute_lower_Y1(df2; K = sp, H = sp) - compute_upper_Y0(df2; K = sp, H = sp))\n",
    "    push!(oracle_τ, mean(df2[df2.G.==0, :Y1] - df2[df2.G.==0, :Y0]))\n",
    "end\n",
    "\n",
    "sigma_l = std(lower_bound_τ)\n",
    "sigma_h = std(upper_bound_τ)\n",
    "\n",
    "println(\"n = 500\")\n",
    "println(L\"\\tau^-\", mean(lower_bound_τ))\n",
    "println(L\"Std. Dev. of $\\tau$\", sigma_l)\n",
    "println(L\"\\tau^+\", mean(upper_bound_τ))\n",
    "println(L\"Std. Dev. of $\\tau$\", sigma_h)\n",
    "println(\"coverage\", mean(upper_bound_τ .+ 1.96 * sigma_h .> 1 .> lower_bound_τ .- 1.96 * sigma_l))"
   ]
  },
  {
   "cell_type": "code",
   "execution_count": 26,
   "metadata": {},
   "outputs": [
    {
     "name": "stdout",
     "output_type": "stream",
     "text": [
      "n = 1000\n",
      "$\\tau^-$0.7975874369603996\n",
      "Std. Dev. of $\\tau$0.505659288339231\n",
      "$\\tau^-$2.0622392296907393\n",
      "Std. Dev. of $\\tau$0.5088518126043838\n",
      "coverage0.988\n"
     ]
    }
   ],
   "source": [
    "sp = 1.2\n",
    "upper_bound_τ = []\n",
    "oracle_τ = []\n",
    "lower_bound_τ = []\n",
    "\n",
    "for _ in 1:2000\n",
    "    df2 = data_generation2(1000; K = sp, H = sp)\n",
    "    push!(upper_bound_τ, compute_upper_Y1(df2; K = sp, H = sp) - compute_lower_Y0(df2; K = sp, H = sp))\n",
    "    push!(lower_bound_τ, compute_lower_Y1(df2; K = sp, H = sp) - compute_upper_Y0(df2; K = sp, H = sp))\n",
    "    push!(oracle_τ, mean(df2[df2.G.==0, :Y1] - df2[df2.G.==0, :Y0]))\n",
    "end\n",
    "\n",
    "\n",
    "sigma_l = std(lower_bound_τ)\n",
    "sigma_h = std(upper_bound_τ)\n",
    "\n",
    "println(\"n = 1000\")\n",
    "println(L\"\\tau^-\", mean(lower_bound_τ))\n",
    "println(L\"Std. Dev. of $\\tau$\", sigma_l)\n",
    "println(L\"\\tau^-\", mean(upper_bound_τ))\n",
    "println(L\"Std. Dev. of $\\tau$\", sigma_h)\n",
    "println(\"coverage\", mean(upper_bound_τ .+ 1.96 * sigma_h .> 1 .> lower_bound_τ .- 1.96 * sigma_l))"
   ]
  },
  {
   "cell_type": "code",
   "execution_count": 41,
   "metadata": {},
   "outputs": [
    {
     "name": "stdout",
     "output_type": "stream",
     "text": [
      "n = 2000\n",
      "$\\tau^-$0.7347039385131018\n",
      "Std. Dev. of $\\tau$0.3714857268417802\n",
      "$\\tau^-$1.9867859428540515\n",
      "Std. Dev. of $\\tau$0.3710935932566127\n",
      "coverage0.996\n"
     ]
    }
   ],
   "source": [
    "sp = 1.2\n",
    "upper_bound_τ = []\n",
    "oracle_τ = []\n",
    "lower_bound_τ = []\n",
    "\n",
    "for _ in 1:2000\n",
    "    df2 = data_generation2(2000; K = sp, H = sp)\n",
    "    push!(upper_bound_τ, compute_upper_Y1(df2; K = sp, H = sp) - compute_lower_Y0(df2; K = sp, H = sp))\n",
    "    push!(lower_bound_τ, compute_lower_Y1(df2; K = sp, H = sp) - compute_upper_Y0(df2; K = sp, H = sp))\n",
    "    push!(oracle_τ, mean(df2[df2.G.==0, :Y1] - df2[df2.G.==0, :Y0]))\n",
    "end\n",
    "\n",
    "histogram(upper_bound_τ, bins = 50, alpha = 0.1, label = \"upper bound\")\n",
    "histogram!(lower_bound_τ, bins = 50, alpha = 0.1, label = \"lower bound\")\n",
    "vline!([1], label = \"true τ\")\n",
    "plot!(xlabel = \"estimate\", ylabel = \"freq\", size = (800, 800))\n",
    "plot!(leg = :best, xtickfontsize = 18, ytickfontsize = 18, xguidefontsize = 18, yguidefontsize = 18, legendfontsize = 18)\n",
    "savefig(\"fig2.png\")\n",
    "\n",
    "sigma_l = std(lower_bound_τ)\n",
    "sigma_h = std(upper_bound_τ)\n",
    "\n",
    "println(\"n = 2000\")\n",
    "println(L\"\\tau^-\", mean(lower_bound_τ))\n",
    "println(L\"Std. Dev. of $\\tau$\", sigma_l)\n",
    "println(L\"\\tau^-\", mean(upper_bound_τ))\n",
    "println(L\"Std. Dev. of $\\tau$\", sigma_h)\n",
    "println(\"coverage\", mean(upper_bound_τ .+ 1.96 * sigma_h .> 1 .> lower_bound_τ .- 1.96 * sigma_l))"
   ]
  },
  {
   "cell_type": "code",
   "execution_count": 23,
   "metadata": {},
   "outputs": [
    {
     "name": "stdout",
     "output_type": "stream",
     "text": [
      "n = 2000\n",
      "$\\tau^-$1.0380950118065349\n",
      "Std. Dev. of $\\tau$0.7318399092243633\n",
      "$\\tau^-$1.0380950118065349\n",
      "Std. Dev. of $\\tau$0.7318399092243633\n",
      "coverage0.9485\n"
     ]
    }
   ],
   "source": [
    "sp = 1\n",
    "upper_bound_τ = []\n",
    "oracle_τ = []\n",
    "lower_bound_τ = []\n",
    "\n",
    "for _ in 1:2000\n",
    "    df2 = data_generation2(500; K = sp, H = sp)\n",
    "    push!(upper_bound_τ, compute_upper_Y1(df2; K = sp, H = sp) - compute_lower_Y0(df2; K = sp, H = sp))\n",
    "    push!(lower_bound_τ, compute_lower_Y1(df2; K = sp, H = sp) - compute_upper_Y0(df2; K = sp, H = sp))\n",
    "    push!(oracle_τ, mean(df2[df2.G.==0, :Y1] - df2[df2.G.==0, :Y0]))\n",
    "end\n",
    "\n",
    "\n",
    "sigma_l = std(lower_bound_τ)\n",
    "sigma_h = std(upper_bound_τ)\n",
    "\n",
    "println(\"n = 500\")\n",
    "println(L\"\\tau^-\", mean(lower_bound_τ))\n",
    "println(L\"Std. Dev. of $\\tau$\", sigma_l)\n",
    "println(L\"\\tau^-\", mean(upper_bound_τ))\n",
    "println(L\"Std. Dev. of $\\tau$\", sigma_h)\n",
    "println(\"coverage\", mean(upper_bound_τ .+ 1.96 * sigma_h .> 1 .> lower_bound_τ .- 1.96 * sigma_l))"
   ]
  },
  {
   "cell_type": "code",
   "execution_count": 24,
   "metadata": {},
   "outputs": [
    {
     "name": "stdout",
     "output_type": "stream",
     "text": [
      "n = 1000\n",
      "$\\tau^-$1.0390572634113282\n",
      "Std. Dev. of $\\tau$0.49570496103718037\n",
      "$\\tau^-$1.0390572634113282\n",
      "Std. Dev. of $\\tau$0.49570496103718037\n",
      "coverage0.9455\n"
     ]
    }
   ],
   "source": [
    "sp = 1\n",
    "upper_bound_τ = []\n",
    "oracle_τ = []\n",
    "lower_bound_τ = []\n",
    "\n",
    "for _ in 1:2000\n",
    "    df2 = data_generation2(1000; K = sp, H = sp)\n",
    "    push!(upper_bound_τ, compute_upper_Y1(df2; K = sp, H = sp) - compute_lower_Y0(df2; K = sp, H = sp))\n",
    "    push!(lower_bound_τ, compute_lower_Y1(df2; K = sp, H = sp) - compute_upper_Y0(df2; K = sp, H = sp))\n",
    "    push!(oracle_τ, mean(df2[df2.G.==0, :Y1] - df2[df2.G.==0, :Y0]))\n",
    "end\n",
    "\n",
    "\n",
    "sigma_l = std(lower_bound_τ)\n",
    "sigma_h = std(upper_bound_τ)\n",
    "\n",
    "println(\"n = 1000\")\n",
    "println(L\"\\tau^-\", mean(lower_bound_τ))\n",
    "println(L\"Std. Dev. of $\\tau$\", sigma_l)\n",
    "println(L\"\\tau^-\", mean(upper_bound_τ))\n",
    "println(L\"Std. Dev. of $\\tau$\", sigma_h)\n",
    "println(\"coverage\", mean(upper_bound_τ .+ 1.96 * sigma_h .> 1 .> lower_bound_τ .- 1.96 * sigma_l))"
   ]
  },
  {
   "cell_type": "code",
   "execution_count": 25,
   "metadata": {},
   "outputs": [
    {
     "name": "stdout",
     "output_type": "stream",
     "text": [
      "n = 2000\n",
      "$\\tau^-$1.0290152371886407\n",
      "Std. Dev. of $\\tau$0.3569225372080426\n",
      "$\\tau^-$1.0290152371886407\n",
      "Std. Dev. of $\\tau$0.3569225372080426\n",
      "coverage0.947\n"
     ]
    }
   ],
   "source": [
    "sp = 1\n",
    "upper_bound_τ = []\n",
    "oracle_τ = []\n",
    "lower_bound_τ = []\n",
    "\n",
    "for _ in 1:2000\n",
    "    df2 = data_generation2(2000; K = sp, H = sp)\n",
    "    push!(upper_bound_τ, compute_upper_Y1(df2; K = sp, H = sp) - compute_lower_Y0(df2; K = sp, H = sp))\n",
    "    push!(lower_bound_τ, compute_lower_Y1(df2; K = sp, H = sp) - compute_upper_Y0(df2; K = sp, H = sp))\n",
    "    push!(oracle_τ, mean(df2[df2.G.==0, :Y1] - df2[df2.G.==0, :Y0]))\n",
    "end\n",
    "\n",
    "sigma_l = std(lower_bound_τ)\n",
    "sigma_h = std(upper_bound_τ)\n",
    "\n",
    "println(\"n = 2000\")\n",
    "println(L\"\\tau^-\", mean(lower_bound_τ))\n",
    "println(L\"Std. Dev. of $\\tau$\", sigma_l)\n",
    "println(L\"\\tau^-\", mean(upper_bound_τ))\n",
    "println(L\"Std. Dev. of $\\tau$\", sigma_h)\n",
    "println(\"coverage\", mean(upper_bound_τ .+ 1.96 * sigma_h .> 1 .> lower_bound_τ .- 1.96 * sigma_l))"
   ]
  },
  {
   "cell_type": "code",
   "execution_count": 16,
   "metadata": {},
   "outputs": [
    {
     "data": {
      "image/svg+xml": "<?xml version=\"1.0\" encoding=\"utf-8\"?>\n<svg xmlns=\"http://www.w3.org/2000/svg\" xmlns:xlink=\"http://www.w3.org/1999/xlink\" width=\"600\" height=\"400\" viewBox=\"0 0 2400 1600\">\n<defs>\n  <clipPath id=\"clip320\">\n    <rect x=\"0\" y=\"0\" width=\"2400\" height=\"1600\"/>\n  </clipPath>\n</defs>\n<path clip-path=\"url(#clip320)\" d=\"\nM0 1600 L2400 1600 L2400 0 L0 0  Z\n  \" fill=\"#ffffff\" fill-rule=\"evenodd\" fill-opacity=\"1\"/>\n<defs>\n  <clipPath id=\"clip321\">\n    <rect x=\"480\" y=\"0\" width=\"1681\" height=\"1600\"/>\n  </clipPath>\n</defs>\n<path clip-path=\"url(#clip320)\" d=\"\nM135.95 1486.45 L2352.76 1486.45 L2352.76 47.2441 L135.95 47.2441  Z\n  \" fill=\"#ffffff\" fill-rule=\"evenodd\" fill-opacity=\"1\"/>\n<defs>\n  <clipPath id=\"clip322\">\n    <rect x=\"135\" y=\"47\" width=\"2218\" height=\"1440\"/>\n  </clipPath>\n</defs>\n<polyline clip-path=\"url(#clip322)\" style=\"stroke:#000000; stroke-width:2; stroke-opacity:0.1; fill:none\" points=\"\n  191.244,1486.45 191.244,47.2441 \n  \"/>\n<polyline clip-path=\"url(#clip322)\" style=\"stroke:#000000; stroke-width:2; stroke-opacity:0.1; fill:none\" points=\"\n  616.742,1486.45 616.742,47.2441 \n  \"/>\n<polyline clip-path=\"url(#clip322)\" style=\"stroke:#000000; stroke-width:2; stroke-opacity:0.1; fill:none\" points=\"\n  1042.24,1486.45 1042.24,47.2441 \n  \"/>\n<polyline clip-path=\"url(#clip322)\" style=\"stroke:#000000; stroke-width:2; stroke-opacity:0.1; fill:none\" points=\"\n  1467.74,1486.45 1467.74,47.2441 \n  \"/>\n<polyline clip-path=\"url(#clip322)\" style=\"stroke:#000000; stroke-width:2; stroke-opacity:0.1; fill:none\" points=\"\n  1893.24,1486.45 1893.24,47.2441 \n  \"/>\n<polyline clip-path=\"url(#clip322)\" style=\"stroke:#000000; stroke-width:2; stroke-opacity:0.1; fill:none\" points=\"\n  2318.74,1486.45 2318.74,47.2441 \n  \"/>\n<polyline clip-path=\"url(#clip320)\" style=\"stroke:#000000; stroke-width:4; stroke-opacity:1; fill:none\" points=\"\n  135.95,1486.45 2352.76,1486.45 \n  \"/>\n<polyline clip-path=\"url(#clip320)\" style=\"stroke:#000000; stroke-width:4; stroke-opacity:1; fill:none\" points=\"\n  191.244,1486.45 191.244,1469.18 \n  \"/>\n<polyline clip-path=\"url(#clip320)\" style=\"stroke:#000000; stroke-width:4; stroke-opacity:1; fill:none\" points=\"\n  616.742,1486.45 616.742,1469.18 \n  \"/>\n<polyline clip-path=\"url(#clip320)\" style=\"stroke:#000000; stroke-width:4; stroke-opacity:1; fill:none\" points=\"\n  1042.24,1486.45 1042.24,1469.18 \n  \"/>\n<polyline clip-path=\"url(#clip320)\" style=\"stroke:#000000; stroke-width:4; stroke-opacity:1; fill:none\" points=\"\n  1467.74,1486.45 1467.74,1469.18 \n  \"/>\n<polyline clip-path=\"url(#clip320)\" style=\"stroke:#000000; stroke-width:4; stroke-opacity:1; fill:none\" points=\"\n  1893.24,1486.45 1893.24,1469.18 \n  \"/>\n<polyline clip-path=\"url(#clip320)\" style=\"stroke:#000000; stroke-width:4; stroke-opacity:1; fill:none\" points=\"\n  2318.74,1486.45 2318.74,1469.18 \n  \"/>\n<path clip-path=\"url(#clip320)\" d=\"M 0 0 M181.522 1512.56 L199.878 1512.56 L199.878 1516.5 L185.804 1516.5 L185.804 1524.97 Q186.822 1524.62 187.841 1524.46 Q188.86 1524.27 189.878 1524.27 Q195.665 1524.27 199.045 1527.44 Q202.424 1530.62 202.424 1536.03 Q202.424 1541.61 198.952 1544.71 Q195.48 1547.79 189.16 1547.79 Q186.985 1547.79 184.716 1547.42 Q182.471 1547.05 180.063 1546.31 L180.063 1541.61 Q182.147 1542.74 184.369 1543.3 Q186.591 1543.86 189.068 1543.86 Q193.072 1543.86 195.41 1541.75 Q197.748 1539.64 197.748 1536.03 Q197.748 1532.42 195.41 1530.31 Q193.072 1528.21 189.068 1528.21 Q187.193 1528.21 185.318 1528.62 Q183.466 1529.04 181.522 1529.92 L181.522 1512.56 Z\" fill=\"#000000\" fill-rule=\"evenodd\" fill-opacity=\"1\" /><path clip-path=\"url(#clip320)\" d=\"M 0 0 M617.148 1527.98 Q613.999 1527.98 612.148 1530.13 Q610.319 1532.28 610.319 1536.03 Q610.319 1539.76 612.148 1541.93 Q613.999 1544.09 617.148 1544.09 Q620.296 1544.09 622.124 1541.93 Q623.976 1539.76 623.976 1536.03 Q623.976 1532.28 622.124 1530.13 Q620.296 1527.98 617.148 1527.98 M626.43 1513.32 L626.43 1517.58 Q624.671 1516.75 622.865 1516.31 Q621.083 1515.87 619.323 1515.87 Q614.694 1515.87 612.24 1519 Q609.81 1522.12 609.462 1528.44 Q610.828 1526.43 612.888 1525.36 Q614.948 1524.27 617.425 1524.27 Q622.634 1524.27 625.643 1527.44 Q628.675 1530.59 628.675 1536.03 Q628.675 1541.36 625.527 1544.57 Q622.379 1547.79 617.148 1547.79 Q611.152 1547.79 607.981 1543.21 Q604.81 1538.6 604.81 1529.87 Q604.81 1521.68 608.699 1516.82 Q612.587 1511.93 619.138 1511.93 Q620.898 1511.93 622.68 1512.28 Q624.485 1512.63 626.43 1513.32 Z\" fill=\"#000000\" fill-rule=\"evenodd\" fill-opacity=\"1\" /><path clip-path=\"url(#clip320)\" d=\"M 0 0 M1031.13 1512.56 L1053.35 1512.56 L1053.35 1514.55 L1040.81 1547.12 L1035.92 1547.12 L1047.73 1516.5 L1031.13 1516.5 L1031.13 1512.56 Z\" fill=\"#000000\" fill-rule=\"evenodd\" fill-opacity=\"1\" /><path clip-path=\"url(#clip320)\" d=\"M 0 0 M1467.74 1530.71 Q1464.41 1530.71 1462.49 1532.49 Q1460.59 1534.27 1460.59 1537.4 Q1460.59 1540.52 1462.49 1542.31 Q1464.41 1544.09 1467.74 1544.09 Q1471.07 1544.09 1472.99 1542.31 Q1474.92 1540.5 1474.92 1537.4 Q1474.92 1534.27 1472.99 1532.49 Q1471.1 1530.71 1467.74 1530.71 M1463.06 1528.72 Q1460.05 1527.98 1458.36 1525.92 Q1456.7 1523.86 1456.7 1520.89 Q1456.7 1516.75 1459.64 1514.34 Q1462.6 1511.93 1467.74 1511.93 Q1472.9 1511.93 1475.84 1514.34 Q1478.78 1516.75 1478.78 1520.89 Q1478.78 1523.86 1477.09 1525.92 Q1475.43 1527.98 1472.44 1528.72 Q1475.82 1529.5 1477.69 1531.8 Q1479.59 1534.09 1479.59 1537.4 Q1479.59 1542.42 1476.51 1545.11 Q1473.46 1547.79 1467.74 1547.79 Q1462.02 1547.79 1458.94 1545.11 Q1455.89 1542.42 1455.89 1537.4 Q1455.89 1534.09 1457.79 1531.8 Q1459.68 1529.5 1463.06 1528.72 M1461.35 1521.33 Q1461.35 1524.02 1463.02 1525.52 Q1464.71 1527.03 1467.74 1527.03 Q1470.75 1527.03 1472.44 1525.52 Q1474.15 1524.02 1474.15 1521.33 Q1474.15 1518.65 1472.44 1517.14 Q1470.75 1515.64 1467.74 1515.64 Q1464.71 1515.64 1463.02 1517.14 Q1461.35 1518.65 1461.35 1521.33 Z\" fill=\"#000000\" fill-rule=\"evenodd\" fill-opacity=\"1\" /><path clip-path=\"url(#clip320)\" d=\"M 0 0 M1883.54 1546.4 L1883.54 1542.14 Q1885.3 1542.98 1887.1 1543.42 Q1888.91 1543.86 1890.65 1543.86 Q1895.28 1543.86 1897.71 1540.75 Q1900.16 1537.63 1900.51 1531.29 Q1899.16 1533.28 1897.1 1534.34 Q1895.04 1535.41 1892.54 1535.41 Q1887.36 1535.41 1884.33 1532.28 Q1881.32 1529.13 1881.32 1523.69 Q1881.32 1518.37 1884.47 1515.15 Q1887.61 1511.93 1892.85 1511.93 Q1898.84 1511.93 1901.99 1516.54 Q1905.16 1521.12 1905.16 1529.87 Q1905.16 1538.05 1901.27 1542.93 Q1897.41 1547.79 1890.85 1547.79 Q1889.1 1547.79 1887.29 1547.44 Q1885.48 1547.1 1883.54 1546.4 M1892.85 1531.75 Q1895.99 1531.75 1897.82 1529.6 Q1899.67 1527.44 1899.67 1523.69 Q1899.67 1519.97 1897.82 1517.81 Q1895.99 1515.64 1892.85 1515.64 Q1889.7 1515.64 1887.85 1517.81 Q1886.02 1519.97 1886.02 1523.69 Q1886.02 1527.44 1887.85 1529.6 Q1889.7 1531.75 1892.85 1531.75 Z\" fill=\"#000000\" fill-rule=\"evenodd\" fill-opacity=\"1\" /><path clip-path=\"url(#clip320)\" d=\"M 0 0 M2295.61 1543.18 L2303.25 1543.18 L2303.25 1516.82 L2294.94 1518.49 L2294.94 1514.23 L2303.2 1512.56 L2307.88 1512.56 L2307.88 1543.18 L2315.52 1543.18 L2315.52 1547.12 L2295.61 1547.12 L2295.61 1543.18 Z\" fill=\"#000000\" fill-rule=\"evenodd\" fill-opacity=\"1\" /><path clip-path=\"url(#clip320)\" d=\"M 0 0 M2330.59 1515.64 Q2326.98 1515.64 2325.15 1519.2 Q2323.34 1522.75 2323.34 1529.87 Q2323.34 1536.98 2325.15 1540.55 Q2326.98 1544.09 2330.59 1544.09 Q2334.22 1544.09 2336.03 1540.55 Q2337.86 1536.98 2337.86 1529.87 Q2337.86 1522.75 2336.03 1519.2 Q2334.22 1515.64 2330.59 1515.64 M2330.59 1511.93 Q2336.4 1511.93 2339.45 1516.54 Q2342.53 1521.12 2342.53 1529.87 Q2342.53 1538.6 2339.45 1543.21 Q2336.4 1547.79 2330.59 1547.79 Q2324.78 1547.79 2321.7 1543.21 Q2318.64 1538.6 2318.64 1529.87 Q2318.64 1521.12 2321.7 1516.54 Q2324.78 1511.93 2330.59 1511.93 Z\" fill=\"#000000\" fill-rule=\"evenodd\" fill-opacity=\"1\" /><polyline clip-path=\"url(#clip322)\" style=\"stroke:#000000; stroke-width:2; stroke-opacity:0.1; fill:none\" points=\"\n  135.95,1445.72 2352.76,1445.72 \n  \"/>\n<polyline clip-path=\"url(#clip322)\" style=\"stroke:#000000; stroke-width:2; stroke-opacity:0.1; fill:none\" points=\"\n  135.95,1211.62 2352.76,1211.62 \n  \"/>\n<polyline clip-path=\"url(#clip322)\" style=\"stroke:#000000; stroke-width:2; stroke-opacity:0.1; fill:none\" points=\"\n  135.95,977.53 2352.76,977.53 \n  \"/>\n<polyline clip-path=\"url(#clip322)\" style=\"stroke:#000000; stroke-width:2; stroke-opacity:0.1; fill:none\" points=\"\n  135.95,743.437 2352.76,743.437 \n  \"/>\n<polyline clip-path=\"url(#clip322)\" style=\"stroke:#000000; stroke-width:2; stroke-opacity:0.1; fill:none\" points=\"\n  135.95,509.344 2352.76,509.344 \n  \"/>\n<polyline clip-path=\"url(#clip322)\" style=\"stroke:#000000; stroke-width:2; stroke-opacity:0.1; fill:none\" points=\"\n  135.95,275.251 2352.76,275.251 \n  \"/>\n<polyline clip-path=\"url(#clip320)\" style=\"stroke:#000000; stroke-width:4; stroke-opacity:1; fill:none\" points=\"\n  135.95,1486.45 135.95,47.2441 \n  \"/>\n<polyline clip-path=\"url(#clip320)\" style=\"stroke:#000000; stroke-width:4; stroke-opacity:1; fill:none\" points=\"\n  135.95,1445.72 162.552,1445.72 \n  \"/>\n<polyline clip-path=\"url(#clip320)\" style=\"stroke:#000000; stroke-width:4; stroke-opacity:1; fill:none\" points=\"\n  135.95,1211.62 162.552,1211.62 \n  \"/>\n<polyline clip-path=\"url(#clip320)\" style=\"stroke:#000000; stroke-width:4; stroke-opacity:1; fill:none\" points=\"\n  135.95,977.53 162.552,977.53 \n  \"/>\n<polyline clip-path=\"url(#clip320)\" style=\"stroke:#000000; stroke-width:4; stroke-opacity:1; fill:none\" points=\"\n  135.95,743.437 162.552,743.437 \n  \"/>\n<polyline clip-path=\"url(#clip320)\" style=\"stroke:#000000; stroke-width:4; stroke-opacity:1; fill:none\" points=\"\n  135.95,509.344 162.552,509.344 \n  \"/>\n<polyline clip-path=\"url(#clip320)\" style=\"stroke:#000000; stroke-width:4; stroke-opacity:1; fill:none\" points=\"\n  135.95,275.251 162.552,275.251 \n  \"/>\n<path clip-path=\"url(#clip320)\" d=\"M 0 0 M88.0058 1431.51 Q84.3947 1431.51 82.566 1435.08 Q80.7605 1438.62 80.7605 1445.75 Q80.7605 1452.86 82.566 1456.42 Q84.3947 1459.96 88.0058 1459.96 Q91.6401 1459.96 93.4456 1456.42 Q95.2743 1452.86 95.2743 1445.75 Q95.2743 1438.62 93.4456 1435.08 Q91.6401 1431.51 88.0058 1431.51 M88.0058 1427.81 Q93.816 1427.81 96.8715 1432.42 Q99.9502 1437 99.9502 1445.75 Q99.9502 1454.48 96.8715 1459.08 Q93.816 1463.67 88.0058 1463.67 Q82.1957 1463.67 79.117 1459.08 Q76.0614 1454.48 76.0614 1445.75 Q76.0614 1437 79.117 1432.42 Q82.1957 1427.81 88.0058 1427.81 Z\" fill=\"#000000\" fill-rule=\"evenodd\" fill-opacity=\"1\" /><path clip-path=\"url(#clip320)\" d=\"M 0 0 M79.0475 1194.34 L97.4039 1194.34 L97.4039 1198.28 L83.3299 1198.28 L83.3299 1206.75 Q84.3484 1206.4 85.3669 1206.24 Q86.3855 1206.06 87.404 1206.06 Q93.191 1206.06 96.5706 1209.23 Q99.9502 1212.4 99.9502 1217.81 Q99.9502 1223.39 96.478 1226.5 Q93.0058 1229.57 86.6864 1229.57 Q84.5105 1229.57 82.242 1229.2 Q79.9966 1228.83 77.5892 1228.09 L77.5892 1223.39 Q79.6725 1224.53 81.8947 1225.08 Q84.1169 1225.64 86.5938 1225.64 Q90.5984 1225.64 92.9363 1223.53 Q95.2743 1221.43 95.2743 1217.81 Q95.2743 1214.2 92.9363 1212.1 Q90.5984 1209.99 86.5938 1209.99 Q84.7188 1209.99 82.8438 1210.41 Q80.992 1210.82 79.0475 1211.7 L79.0475 1194.34 Z\" fill=\"#000000\" fill-rule=\"evenodd\" fill-opacity=\"1\" /><path clip-path=\"url(#clip320)\" d=\"M 0 0 M53.0292 990.875 L60.668 990.875 L60.668 964.509 L52.3579 966.176 L52.3579 961.916 L60.6217 960.25 L65.2976 960.25 L65.2976 990.875 L72.9365 990.875 L72.9365 994.81 L53.0292 994.81 L53.0292 990.875 Z\" fill=\"#000000\" fill-rule=\"evenodd\" fill-opacity=\"1\" /><path clip-path=\"url(#clip320)\" d=\"M 0 0 M88.0058 963.328 Q84.3947 963.328 82.566 966.893 Q80.7605 970.435 80.7605 977.564 Q80.7605 984.671 82.566 988.236 Q84.3947 991.777 88.0058 991.777 Q91.6401 991.777 93.4456 988.236 Q95.2743 984.671 95.2743 977.564 Q95.2743 970.435 93.4456 966.893 Q91.6401 963.328 88.0058 963.328 M88.0058 959.625 Q93.816 959.625 96.8715 964.231 Q99.9502 968.814 99.9502 977.564 Q99.9502 986.291 96.8715 990.898 Q93.816 995.481 88.0058 995.481 Q82.1957 995.481 79.117 990.898 Q76.0614 986.291 76.0614 977.564 Q76.0614 968.814 79.117 964.231 Q82.1957 959.625 88.0058 959.625 Z\" fill=\"#000000\" fill-rule=\"evenodd\" fill-opacity=\"1\" /><path clip-path=\"url(#clip320)\" d=\"M 0 0 M54.0245 756.782 L61.6634 756.782 L61.6634 730.416 L53.3532 732.083 L53.3532 727.823 L61.6171 726.157 L66.293 726.157 L66.293 756.782 L73.9318 756.782 L73.9318 760.717 L54.0245 760.717 L54.0245 756.782 Z\" fill=\"#000000\" fill-rule=\"evenodd\" fill-opacity=\"1\" /><path clip-path=\"url(#clip320)\" d=\"M 0 0 M79.0475 726.157 L97.4039 726.157 L97.4039 730.092 L83.3299 730.092 L83.3299 738.564 Q84.3484 738.217 85.3669 738.055 Q86.3855 737.87 87.404 737.87 Q93.191 737.87 96.5706 741.041 Q99.9502 744.212 99.9502 749.629 Q99.9502 755.207 96.478 758.309 Q93.0058 761.388 86.6864 761.388 Q84.5105 761.388 82.242 761.018 Q79.9966 760.647 77.5892 759.907 L77.5892 755.207 Q79.6725 756.342 81.8947 756.897 Q84.1169 757.453 86.5938 757.453 Q90.5984 757.453 92.9363 755.346 Q95.2743 753.24 95.2743 749.629 Q95.2743 746.018 92.9363 743.911 Q90.5984 741.805 86.5938 741.805 Q84.7188 741.805 82.8438 742.221 Q80.992 742.638 79.0475 743.518 L79.0475 726.157 Z\" fill=\"#000000\" fill-rule=\"evenodd\" fill-opacity=\"1\" /><path clip-path=\"url(#clip320)\" d=\"M 0 0 M56.6171 522.689 L72.9365 522.689 L72.9365 526.624 L50.9921 526.624 L50.9921 522.689 Q53.6541 519.934 58.2375 515.304 Q62.8439 510.652 64.0245 509.309 Q66.2698 506.786 67.1494 505.05 Q68.0522 503.29 68.0522 501.601 Q68.0522 498.846 66.1078 497.11 Q64.1865 495.374 61.0847 495.374 Q58.8856 495.374 56.4319 496.138 Q54.0014 496.902 51.2236 498.453 L51.2236 493.73 Q54.0477 492.596 56.5014 492.017 Q58.955 491.439 60.9921 491.439 Q66.3624 491.439 69.5568 494.124 Q72.7513 496.809 72.7513 501.3 Q72.7513 503.429 71.9411 505.351 Q71.1541 507.249 69.0476 509.841 Q68.4689 510.513 65.367 513.73 Q62.2652 516.925 56.6171 522.689 Z\" fill=\"#000000\" fill-rule=\"evenodd\" fill-opacity=\"1\" /><path clip-path=\"url(#clip320)\" d=\"M 0 0 M88.0058 495.142 Q84.3947 495.142 82.566 498.707 Q80.7605 502.249 80.7605 509.378 Q80.7605 516.485 82.566 520.05 Q84.3947 523.591 88.0058 523.591 Q91.6401 523.591 93.4456 520.05 Q95.2743 516.485 95.2743 509.378 Q95.2743 502.249 93.4456 498.707 Q91.6401 495.142 88.0058 495.142 M88.0058 491.439 Q93.816 491.439 96.8715 496.045 Q99.9502 500.628 99.9502 509.378 Q99.9502 518.105 96.8715 522.712 Q93.816 527.295 88.0058 527.295 Q82.1957 527.295 79.117 522.712 Q76.0614 518.105 76.0614 509.378 Q76.0614 500.628 79.117 496.045 Q82.1957 491.439 88.0058 491.439 Z\" fill=\"#000000\" fill-rule=\"evenodd\" fill-opacity=\"1\" /><path clip-path=\"url(#clip320)\" d=\"M 0 0 M57.6125 288.596 L73.9318 288.596 L73.9318 292.531 L51.9875 292.531 L51.9875 288.596 Q54.6495 285.841 59.2328 281.211 Q63.8393 276.559 65.0198 275.216 Q67.2652 272.693 68.1448 270.957 Q69.0476 269.197 69.0476 267.508 Q69.0476 264.753 67.1032 263.017 Q65.1819 261.281 62.08 261.281 Q59.881 261.281 57.4273 262.045 Q54.9967 262.809 52.219 264.36 L52.219 259.637 Q55.043 258.503 57.4967 257.924 Q59.9504 257.346 61.9874 257.346 Q67.3578 257.346 70.5522 260.031 Q73.7466 262.716 73.7466 267.207 Q73.7466 269.336 72.9365 271.258 Q72.1494 273.156 70.0429 275.748 Q69.4642 276.42 66.3624 279.637 Q63.2606 282.832 57.6125 288.596 Z\" fill=\"#000000\" fill-rule=\"evenodd\" fill-opacity=\"1\" /><path clip-path=\"url(#clip320)\" d=\"M 0 0 M79.0475 257.971 L97.4039 257.971 L97.4039 261.906 L83.3299 261.906 L83.3299 270.378 Q84.3484 270.031 85.3669 269.869 Q86.3855 269.684 87.404 269.684 Q93.191 269.684 96.5706 272.855 Q99.9502 276.026 99.9502 281.443 Q99.9502 287.021 96.478 290.123 Q93.0058 293.202 86.6864 293.202 Q84.5105 293.202 82.242 292.832 Q79.9966 292.461 77.5892 291.72 L77.5892 287.021 Q79.6725 288.156 81.8947 288.711 Q84.1169 289.267 86.5938 289.267 Q90.5984 289.267 92.9363 287.16 Q95.2743 285.054 95.2743 281.443 Q95.2743 277.832 92.9363 275.725 Q90.5984 273.619 86.5938 273.619 Q84.7188 273.619 82.8438 274.035 Q80.992 274.452 79.0475 275.332 L79.0475 257.971 Z\" fill=\"#000000\" fill-rule=\"evenodd\" fill-opacity=\"1\" /><path clip-path=\"url(#clip322)\" d=\"\nM1084.79 1398.9 L1084.79 1445.72 L1106.07 1445.72 L1106.07 1398.9 L1084.79 1398.9 L1084.79 1398.9  Z\n  \" fill=\"#009af9\" fill-rule=\"evenodd\" fill-opacity=\"0.1\"/>\n<polyline clip-path=\"url(#clip322)\" style=\"stroke:#000000; stroke-width:4; stroke-opacity:0.1; fill:none\" points=\"\n  1084.79,1398.9 1084.79,1445.72 1106.07,1445.72 1106.07,1398.9 1084.79,1398.9 \n  \"/>\n<path clip-path=\"url(#clip322)\" d=\"\nM1106.07 1445.72 L1106.07 1445.72 L1127.34 1445.72 L1127.34 1445.72 L1106.07 1445.72 L1106.07 1445.72  Z\n  \" fill=\"#009af9\" fill-rule=\"evenodd\" fill-opacity=\"0.1\"/>\n<polyline clip-path=\"url(#clip322)\" style=\"stroke:#000000; stroke-width:4; stroke-opacity:0.1; fill:none\" points=\"\n  1106.07,1445.72 1106.07,1445.72 1127.34,1445.72 1106.07,1445.72 \n  \"/>\n<path clip-path=\"url(#clip322)\" d=\"\nM1127.34 1445.72 L1127.34 1445.72 L1148.62 1445.72 L1148.62 1445.72 L1127.34 1445.72 L1127.34 1445.72  Z\n  \" fill=\"#009af9\" fill-rule=\"evenodd\" fill-opacity=\"0.1\"/>\n<polyline clip-path=\"url(#clip322)\" style=\"stroke:#000000; stroke-width:4; stroke-opacity:0.1; fill:none\" points=\"\n  1127.34,1445.72 1127.34,1445.72 1148.62,1445.72 1127.34,1445.72 \n  \"/>\n<path clip-path=\"url(#clip322)\" d=\"\nM1148.62 1445.72 L1148.62 1445.72 L1169.89 1445.72 L1169.89 1445.72 L1148.62 1445.72 L1148.62 1445.72  Z\n  \" fill=\"#009af9\" fill-rule=\"evenodd\" fill-opacity=\"0.1\"/>\n<polyline clip-path=\"url(#clip322)\" style=\"stroke:#000000; stroke-width:4; stroke-opacity:0.1; fill:none\" points=\"\n  1148.62,1445.72 1148.62,1445.72 1169.89,1445.72 1148.62,1445.72 \n  \"/>\n<path clip-path=\"url(#clip322)\" d=\"\nM1169.89 1352.08 L1169.89 1445.72 L1191.17 1445.72 L1191.17 1352.08 L1169.89 1352.08 L1169.89 1352.08  Z\n  \" fill=\"#009af9\" fill-rule=\"evenodd\" fill-opacity=\"0.1\"/>\n<polyline clip-path=\"url(#clip322)\" style=\"stroke:#000000; stroke-width:4; stroke-opacity:0.1; fill:none\" points=\"\n  1169.89,1352.08 1169.89,1445.72 1191.17,1445.72 1191.17,1352.08 1169.89,1352.08 \n  \"/>\n<path clip-path=\"url(#clip322)\" d=\"\nM1191.17 1352.08 L1191.17 1445.72 L1212.44 1445.72 L1212.44 1352.08 L1191.17 1352.08 L1191.17 1352.08  Z\n  \" fill=\"#009af9\" fill-rule=\"evenodd\" fill-opacity=\"0.1\"/>\n<polyline clip-path=\"url(#clip322)\" style=\"stroke:#000000; stroke-width:4; stroke-opacity:0.1; fill:none\" points=\"\n  1191.17,1352.08 1191.17,1445.72 1212.44,1445.72 1212.44,1352.08 1191.17,1352.08 \n  \"/>\n<path clip-path=\"url(#clip322)\" d=\"\nM1212.44 1258.44 L1212.44 1445.72 L1233.72 1445.72 L1233.72 1258.44 L1212.44 1258.44 L1212.44 1258.44  Z\n  \" fill=\"#009af9\" fill-rule=\"evenodd\" fill-opacity=\"0.1\"/>\n<polyline clip-path=\"url(#clip322)\" style=\"stroke:#000000; stroke-width:4; stroke-opacity:0.1; fill:none\" points=\"\n  1212.44,1258.44 1212.44,1445.72 1233.72,1445.72 1233.72,1258.44 1212.44,1258.44 \n  \"/>\n<path clip-path=\"url(#clip322)\" d=\"\nM1233.72 1305.26 L1233.72 1445.72 L1254.99 1445.72 L1254.99 1305.26 L1233.72 1305.26 L1233.72 1305.26  Z\n  \" fill=\"#009af9\" fill-rule=\"evenodd\" fill-opacity=\"0.1\"/>\n<polyline clip-path=\"url(#clip322)\" style=\"stroke:#000000; stroke-width:4; stroke-opacity:0.1; fill:none\" points=\"\n  1233.72,1305.26 1233.72,1445.72 1254.99,1445.72 1254.99,1305.26 1233.72,1305.26 \n  \"/>\n<path clip-path=\"url(#clip322)\" d=\"\nM1254.99 1258.44 L1254.99 1445.72 L1276.27 1445.72 L1276.27 1258.44 L1254.99 1258.44 L1254.99 1258.44  Z\n  \" fill=\"#009af9\" fill-rule=\"evenodd\" fill-opacity=\"0.1\"/>\n<polyline clip-path=\"url(#clip322)\" style=\"stroke:#000000; stroke-width:4; stroke-opacity:0.1; fill:none\" points=\"\n  1254.99,1258.44 1254.99,1445.72 1276.27,1445.72 1276.27,1258.44 1254.99,1258.44 \n  \"/>\n<path clip-path=\"url(#clip322)\" d=\"\nM1276.27 1211.62 L1276.27 1445.72 L1297.54 1445.72 L1297.54 1211.62 L1276.27 1211.62 L1276.27 1211.62  Z\n  \" fill=\"#009af9\" fill-rule=\"evenodd\" fill-opacity=\"0.1\"/>\n<polyline clip-path=\"url(#clip322)\" style=\"stroke:#000000; stroke-width:4; stroke-opacity:0.1; fill:none\" points=\"\n  1276.27,1211.62 1276.27,1445.72 1297.54,1445.72 1297.54,1211.62 1276.27,1211.62 \n  \"/>\n<path clip-path=\"url(#clip322)\" d=\"\nM1297.54 1398.9 L1297.54 1445.72 L1318.82 1445.72 L1318.82 1398.9 L1297.54 1398.9 L1297.54 1398.9  Z\n  \" fill=\"#009af9\" fill-rule=\"evenodd\" fill-opacity=\"0.1\"/>\n<polyline clip-path=\"url(#clip322)\" style=\"stroke:#000000; stroke-width:4; stroke-opacity:0.1; fill:none\" points=\"\n  1297.54,1398.9 1297.54,1445.72 1318.82,1445.72 1318.82,1398.9 1297.54,1398.9 \n  \"/>\n<path clip-path=\"url(#clip322)\" d=\"\nM1318.82 1117.99 L1318.82 1445.72 L1340.09 1445.72 L1340.09 1117.99 L1318.82 1117.99 L1318.82 1117.99  Z\n  \" fill=\"#009af9\" fill-rule=\"evenodd\" fill-opacity=\"0.1\"/>\n<polyline clip-path=\"url(#clip322)\" style=\"stroke:#000000; stroke-width:4; stroke-opacity:0.1; fill:none\" points=\"\n  1318.82,1117.99 1318.82,1445.72 1340.09,1445.72 1340.09,1117.99 1318.82,1117.99 \n  \"/>\n<path clip-path=\"url(#clip322)\" d=\"\nM1340.09 1071.17 L1340.09 1445.72 L1361.37 1445.72 L1361.37 1071.17 L1340.09 1071.17 L1340.09 1071.17  Z\n  \" fill=\"#009af9\" fill-rule=\"evenodd\" fill-opacity=\"0.1\"/>\n<polyline clip-path=\"url(#clip322)\" style=\"stroke:#000000; stroke-width:4; stroke-opacity:0.1; fill:none\" points=\"\n  1340.09,1071.17 1340.09,1445.72 1361.37,1445.72 1361.37,1071.17 1340.09,1071.17 \n  \"/>\n<path clip-path=\"url(#clip322)\" d=\"\nM1361.37 930.711 L1361.37 1445.72 L1382.64 1445.72 L1382.64 930.711 L1361.37 930.711 L1361.37 930.711  Z\n  \" fill=\"#009af9\" fill-rule=\"evenodd\" fill-opacity=\"0.1\"/>\n<polyline clip-path=\"url(#clip322)\" style=\"stroke:#000000; stroke-width:4; stroke-opacity:0.1; fill:none\" points=\"\n  1361.37,930.711 1361.37,1445.72 1382.64,1445.72 1382.64,930.711 1361.37,930.711 \n  \"/>\n<path clip-path=\"url(#clip322)\" d=\"\nM1382.64 930.711 L1382.64 1445.72 L1403.92 1445.72 L1403.92 930.711 L1382.64 930.711 L1382.64 930.711  Z\n  \" fill=\"#009af9\" fill-rule=\"evenodd\" fill-opacity=\"0.1\"/>\n<polyline clip-path=\"url(#clip322)\" style=\"stroke:#000000; stroke-width:4; stroke-opacity:0.1; fill:none\" points=\"\n  1382.64,930.711 1382.64,1445.72 1403.92,1445.72 1403.92,930.711 1382.64,930.711 \n  \"/>\n<path clip-path=\"url(#clip322)\" d=\"\nM1403.92 930.711 L1403.92 1445.72 L1425.19 1445.72 L1425.19 930.711 L1403.92 930.711 L1403.92 930.711  Z\n  \" fill=\"#009af9\" fill-rule=\"evenodd\" fill-opacity=\"0.1\"/>\n<polyline clip-path=\"url(#clip322)\" style=\"stroke:#000000; stroke-width:4; stroke-opacity:0.1; fill:none\" points=\"\n  1403.92,930.711 1403.92,1445.72 1425.19,1445.72 1425.19,930.711 1403.92,930.711 \n  \"/>\n<path clip-path=\"url(#clip322)\" d=\"\nM1425.19 883.892 L1425.19 1445.72 L1446.46 1445.72 L1446.46 883.892 L1425.19 883.892 L1425.19 883.892  Z\n  \" fill=\"#009af9\" fill-rule=\"evenodd\" fill-opacity=\"0.1\"/>\n<polyline clip-path=\"url(#clip322)\" style=\"stroke:#000000; stroke-width:4; stroke-opacity:0.1; fill:none\" points=\"\n  1425.19,883.892 1425.19,1445.72 1446.46,1445.72 1446.46,883.892 1425.19,883.892 \n  \"/>\n<path clip-path=\"url(#clip322)\" d=\"\nM1446.46 977.53 L1446.46 1445.72 L1467.74 1445.72 L1467.74 977.53 L1446.46 977.53 L1446.46 977.53  Z\n  \" fill=\"#009af9\" fill-rule=\"evenodd\" fill-opacity=\"0.1\"/>\n<polyline clip-path=\"url(#clip322)\" style=\"stroke:#000000; stroke-width:4; stroke-opacity:0.1; fill:none\" points=\"\n  1446.46,977.53 1446.46,1445.72 1467.74,1445.72 1467.74,977.53 1446.46,977.53 \n  \"/>\n<path clip-path=\"url(#clip322)\" d=\"\nM1467.74 556.162 L1467.74 1445.72 L1489.01 1445.72 L1489.01 556.162 L1467.74 556.162 L1467.74 556.162  Z\n  \" fill=\"#009af9\" fill-rule=\"evenodd\" fill-opacity=\"0.1\"/>\n<polyline clip-path=\"url(#clip322)\" style=\"stroke:#000000; stroke-width:4; stroke-opacity:0.1; fill:none\" points=\"\n  1467.74,556.162 1467.74,1445.72 1489.01,1445.72 1489.01,556.162 1467.74,556.162 \n  \"/>\n<path clip-path=\"url(#clip322)\" d=\"\nM1489.01 743.437 L1489.01 1445.72 L1510.29 1445.72 L1510.29 743.437 L1489.01 743.437 L1489.01 743.437  Z\n  \" fill=\"#009af9\" fill-rule=\"evenodd\" fill-opacity=\"0.1\"/>\n<polyline clip-path=\"url(#clip322)\" style=\"stroke:#000000; stroke-width:4; stroke-opacity:0.1; fill:none\" points=\"\n  1489.01,743.437 1489.01,1445.72 1510.29,1445.72 1510.29,743.437 1489.01,743.437 \n  \"/>\n<path clip-path=\"url(#clip322)\" d=\"\nM1510.29 556.162 L1510.29 1445.72 L1531.56 1445.72 L1531.56 556.162 L1510.29 556.162 L1510.29 556.162  Z\n  \" fill=\"#009af9\" fill-rule=\"evenodd\" fill-opacity=\"0.1\"/>\n<polyline clip-path=\"url(#clip322)\" style=\"stroke:#000000; stroke-width:4; stroke-opacity:0.1; fill:none\" points=\"\n  1510.29,556.162 1510.29,1445.72 1531.56,1445.72 1531.56,556.162 1510.29,556.162 \n  \"/>\n<path clip-path=\"url(#clip322)\" d=\"\nM1531.56 556.162 L1531.56 1445.72 L1552.84 1445.72 L1552.84 556.162 L1531.56 556.162 L1531.56 556.162  Z\n  \" fill=\"#009af9\" fill-rule=\"evenodd\" fill-opacity=\"0.1\"/>\n<polyline clip-path=\"url(#clip322)\" style=\"stroke:#000000; stroke-width:4; stroke-opacity:0.1; fill:none\" points=\"\n  1531.56,556.162 1531.56,1445.72 1552.84,1445.72 1552.84,556.162 1531.56,556.162 \n  \"/>\n<path clip-path=\"url(#clip322)\" d=\"\nM1552.84 602.981 L1552.84 1445.72 L1574.11 1445.72 L1574.11 602.981 L1552.84 602.981 L1552.84 602.981  Z\n  \" fill=\"#009af9\" fill-rule=\"evenodd\" fill-opacity=\"0.1\"/>\n<polyline clip-path=\"url(#clip322)\" style=\"stroke:#000000; stroke-width:4; stroke-opacity:0.1; fill:none\" points=\"\n  1552.84,602.981 1552.84,1445.72 1574.11,1445.72 1574.11,602.981 1552.84,602.981 \n  \"/>\n<path clip-path=\"url(#clip322)\" d=\"\nM1574.11 134.795 L1574.11 1445.72 L1595.39 1445.72 L1595.39 134.795 L1574.11 134.795 L1574.11 134.795  Z\n  \" fill=\"#009af9\" fill-rule=\"evenodd\" fill-opacity=\"0.1\"/>\n<polyline clip-path=\"url(#clip322)\" style=\"stroke:#000000; stroke-width:4; stroke-opacity:0.1; fill:none\" points=\"\n  1574.11,134.795 1574.11,1445.72 1595.39,1445.72 1595.39,134.795 1574.11,134.795 \n  \"/>\n<path clip-path=\"url(#clip322)\" d=\"\nM1595.39 649.799 L1595.39 1445.72 L1616.66 1445.72 L1616.66 649.799 L1595.39 649.799 L1595.39 649.799  Z\n  \" fill=\"#009af9\" fill-rule=\"evenodd\" fill-opacity=\"0.1\"/>\n<polyline clip-path=\"url(#clip322)\" style=\"stroke:#000000; stroke-width:4; stroke-opacity:0.1; fill:none\" points=\"\n  1595.39,649.799 1595.39,1445.72 1616.66,1445.72 1616.66,649.799 1595.39,649.799 \n  \"/>\n<path clip-path=\"url(#clip322)\" d=\"\nM1616.66 275.251 L1616.66 1445.72 L1637.94 1445.72 L1637.94 275.251 L1616.66 275.251 L1616.66 275.251  Z\n  \" fill=\"#009af9\" fill-rule=\"evenodd\" fill-opacity=\"0.1\"/>\n<polyline clip-path=\"url(#clip322)\" style=\"stroke:#000000; stroke-width:4; stroke-opacity:0.1; fill:none\" points=\"\n  1616.66,275.251 1616.66,1445.72 1637.94,1445.72 1637.94,275.251 1616.66,275.251 \n  \"/>\n<path clip-path=\"url(#clip322)\" d=\"\nM1637.94 368.888 L1637.94 1445.72 L1659.21 1445.72 L1659.21 368.888 L1637.94 368.888 L1637.94 368.888  Z\n  \" fill=\"#009af9\" fill-rule=\"evenodd\" fill-opacity=\"0.1\"/>\n<polyline clip-path=\"url(#clip322)\" style=\"stroke:#000000; stroke-width:4; stroke-opacity:0.1; fill:none\" points=\"\n  1637.94,368.888 1637.94,1445.72 1659.21,1445.72 1659.21,368.888 1637.94,368.888 \n  \"/>\n<path clip-path=\"url(#clip322)\" d=\"\nM1659.21 602.981 L1659.21 1445.72 L1680.49 1445.72 L1680.49 602.981 L1659.21 602.981 L1659.21 602.981  Z\n  \" fill=\"#009af9\" fill-rule=\"evenodd\" fill-opacity=\"0.1\"/>\n<polyline clip-path=\"url(#clip322)\" style=\"stroke:#000000; stroke-width:4; stroke-opacity:0.1; fill:none\" points=\"\n  1659.21,602.981 1659.21,1445.72 1680.49,1445.72 1680.49,602.981 1659.21,602.981 \n  \"/>\n<path clip-path=\"url(#clip322)\" d=\"\nM1680.49 837.074 L1680.49 1445.72 L1701.76 1445.72 L1701.76 837.074 L1680.49 837.074 L1680.49 837.074  Z\n  \" fill=\"#009af9\" fill-rule=\"evenodd\" fill-opacity=\"0.1\"/>\n<polyline clip-path=\"url(#clip322)\" style=\"stroke:#000000; stroke-width:4; stroke-opacity:0.1; fill:none\" points=\"\n  1680.49,837.074 1680.49,1445.72 1701.76,1445.72 1701.76,837.074 1680.49,837.074 \n  \"/>\n<path clip-path=\"url(#clip322)\" d=\"\nM1701.76 602.981 L1701.76 1445.72 L1723.04 1445.72 L1723.04 602.981 L1701.76 602.981 L1701.76 602.981  Z\n  \" fill=\"#009af9\" fill-rule=\"evenodd\" fill-opacity=\"0.1\"/>\n<polyline clip-path=\"url(#clip322)\" style=\"stroke:#000000; stroke-width:4; stroke-opacity:0.1; fill:none\" points=\"\n  1701.76,602.981 1701.76,1445.72 1723.04,1445.72 1723.04,602.981 1701.76,602.981 \n  \"/>\n<path clip-path=\"url(#clip322)\" d=\"\nM1723.04 509.344 L1723.04 1445.72 L1744.31 1445.72 L1744.31 509.344 L1723.04 509.344 L1723.04 509.344  Z\n  \" fill=\"#009af9\" fill-rule=\"evenodd\" fill-opacity=\"0.1\"/>\n<polyline clip-path=\"url(#clip322)\" style=\"stroke:#000000; stroke-width:4; stroke-opacity:0.1; fill:none\" points=\"\n  1723.04,509.344 1723.04,1445.72 1744.31,1445.72 1744.31,509.344 1723.04,509.344 \n  \"/>\n<path clip-path=\"url(#clip322)\" d=\"\nM1744.31 649.799 L1744.31 1445.72 L1765.59 1445.72 L1765.59 649.799 L1744.31 649.799 L1744.31 649.799  Z\n  \" fill=\"#009af9\" fill-rule=\"evenodd\" fill-opacity=\"0.1\"/>\n<polyline clip-path=\"url(#clip322)\" style=\"stroke:#000000; stroke-width:4; stroke-opacity:0.1; fill:none\" points=\"\n  1744.31,649.799 1744.31,1445.72 1765.59,1445.72 1765.59,649.799 1744.31,649.799 \n  \"/>\n<path clip-path=\"url(#clip322)\" d=\"\nM1765.59 322.069 L1765.59 1445.72 L1786.86 1445.72 L1786.86 322.069 L1765.59 322.069 L1765.59 322.069  Z\n  \" fill=\"#009af9\" fill-rule=\"evenodd\" fill-opacity=\"0.1\"/>\n<polyline clip-path=\"url(#clip322)\" style=\"stroke:#000000; stroke-width:4; stroke-opacity:0.1; fill:none\" points=\"\n  1765.59,322.069 1765.59,1445.72 1786.86,1445.72 1786.86,322.069 1765.59,322.069 \n  \"/>\n<path clip-path=\"url(#clip322)\" d=\"\nM1786.86 837.074 L1786.86 1445.72 L1808.14 1445.72 L1808.14 837.074 L1786.86 837.074 L1786.86 837.074  Z\n  \" fill=\"#009af9\" fill-rule=\"evenodd\" fill-opacity=\"0.1\"/>\n<polyline clip-path=\"url(#clip322)\" style=\"stroke:#000000; stroke-width:4; stroke-opacity:0.1; fill:none\" points=\"\n  1786.86,837.074 1786.86,1445.72 1808.14,1445.72 1808.14,837.074 1786.86,837.074 \n  \"/>\n<path clip-path=\"url(#clip322)\" d=\"\nM1808.14 743.437 L1808.14 1445.72 L1829.41 1445.72 L1829.41 743.437 L1808.14 743.437 L1808.14 743.437  Z\n  \" fill=\"#009af9\" fill-rule=\"evenodd\" fill-opacity=\"0.1\"/>\n<polyline clip-path=\"url(#clip322)\" style=\"stroke:#000000; stroke-width:4; stroke-opacity:0.1; fill:none\" points=\"\n  1808.14,743.437 1808.14,1445.72 1829.41,1445.72 1829.41,743.437 1808.14,743.437 \n  \"/>\n<path clip-path=\"url(#clip322)\" d=\"\nM1829.41 1071.17 L1829.41 1445.72 L1850.69 1445.72 L1850.69 1071.17 L1829.41 1071.17 L1829.41 1071.17  Z\n  \" fill=\"#009af9\" fill-rule=\"evenodd\" fill-opacity=\"0.1\"/>\n<polyline clip-path=\"url(#clip322)\" style=\"stroke:#000000; stroke-width:4; stroke-opacity:0.1; fill:none\" points=\"\n  1829.41,1071.17 1829.41,1445.72 1850.69,1445.72 1850.69,1071.17 1829.41,1071.17 \n  \"/>\n<path clip-path=\"url(#clip322)\" d=\"\nM1850.69 602.981 L1850.69 1445.72 L1871.96 1445.72 L1871.96 602.981 L1850.69 602.981 L1850.69 602.981  Z\n  \" fill=\"#009af9\" fill-rule=\"evenodd\" fill-opacity=\"0.1\"/>\n<polyline clip-path=\"url(#clip322)\" style=\"stroke:#000000; stroke-width:4; stroke-opacity:0.1; fill:none\" points=\"\n  1850.69,602.981 1850.69,1445.72 1871.96,1445.72 1871.96,602.981 1850.69,602.981 \n  \"/>\n<path clip-path=\"url(#clip322)\" d=\"\nM1871.96 1211.62 L1871.96 1445.72 L1893.24 1445.72 L1893.24 1211.62 L1871.96 1211.62 L1871.96 1211.62  Z\n  \" fill=\"#009af9\" fill-rule=\"evenodd\" fill-opacity=\"0.1\"/>\n<polyline clip-path=\"url(#clip322)\" style=\"stroke:#000000; stroke-width:4; stroke-opacity:0.1; fill:none\" points=\"\n  1871.96,1211.62 1871.96,1445.72 1893.24,1445.72 1893.24,1211.62 1871.96,1211.62 \n  \"/>\n<path clip-path=\"url(#clip322)\" d=\"\nM1893.24 930.711 L1893.24 1445.72 L1914.51 1445.72 L1914.51 930.711 L1893.24 930.711 L1893.24 930.711  Z\n  \" fill=\"#009af9\" fill-rule=\"evenodd\" fill-opacity=\"0.1\"/>\n<polyline clip-path=\"url(#clip322)\" style=\"stroke:#000000; stroke-width:4; stroke-opacity:0.1; fill:none\" points=\"\n  1893.24,930.711 1893.24,1445.72 1914.51,1445.72 1914.51,930.711 1893.24,930.711 \n  \"/>\n<path clip-path=\"url(#clip322)\" d=\"\nM1914.51 1305.26 L1914.51 1445.72 L1935.79 1445.72 L1935.79 1305.26 L1914.51 1305.26 L1914.51 1305.26  Z\n  \" fill=\"#009af9\" fill-rule=\"evenodd\" fill-opacity=\"0.1\"/>\n<polyline clip-path=\"url(#clip322)\" style=\"stroke:#000000; stroke-width:4; stroke-opacity:0.1; fill:none\" points=\"\n  1914.51,1305.26 1914.51,1445.72 1935.79,1445.72 1935.79,1305.26 1914.51,1305.26 \n  \"/>\n<path clip-path=\"url(#clip322)\" d=\"\nM1935.79 1164.8 L1935.79 1445.72 L1957.06 1445.72 L1957.06 1164.8 L1935.79 1164.8 L1935.79 1164.8  Z\n  \" fill=\"#009af9\" fill-rule=\"evenodd\" fill-opacity=\"0.1\"/>\n<polyline clip-path=\"url(#clip322)\" style=\"stroke:#000000; stroke-width:4; stroke-opacity:0.1; fill:none\" points=\"\n  1935.79,1164.8 1935.79,1445.72 1957.06,1445.72 1957.06,1164.8 1935.79,1164.8 \n  \"/>\n<path clip-path=\"url(#clip322)\" d=\"\nM1957.06 1258.44 L1957.06 1445.72 L1978.34 1445.72 L1978.34 1258.44 L1957.06 1258.44 L1957.06 1258.44  Z\n  \" fill=\"#009af9\" fill-rule=\"evenodd\" fill-opacity=\"0.1\"/>\n<polyline clip-path=\"url(#clip322)\" style=\"stroke:#000000; stroke-width:4; stroke-opacity:0.1; fill:none\" points=\"\n  1957.06,1258.44 1957.06,1445.72 1978.34,1445.72 1978.34,1258.44 1957.06,1258.44 \n  \"/>\n<path clip-path=\"url(#clip322)\" d=\"\nM1978.34 1024.35 L1978.34 1445.72 L1999.61 1445.72 L1999.61 1024.35 L1978.34 1024.35 L1978.34 1024.35  Z\n  \" fill=\"#009af9\" fill-rule=\"evenodd\" fill-opacity=\"0.1\"/>\n<polyline clip-path=\"url(#clip322)\" style=\"stroke:#000000; stroke-width:4; stroke-opacity:0.1; fill:none\" points=\"\n  1978.34,1024.35 1978.34,1445.72 1999.61,1445.72 1999.61,1024.35 1978.34,1024.35 \n  \"/>\n<path clip-path=\"url(#clip322)\" d=\"\nM1999.61 1258.44 L1999.61 1445.72 L2020.89 1445.72 L2020.89 1258.44 L1999.61 1258.44 L1999.61 1258.44  Z\n  \" fill=\"#009af9\" fill-rule=\"evenodd\" fill-opacity=\"0.1\"/>\n<polyline clip-path=\"url(#clip322)\" style=\"stroke:#000000; stroke-width:4; stroke-opacity:0.1; fill:none\" points=\"\n  1999.61,1258.44 1999.61,1445.72 2020.89,1445.72 2020.89,1258.44 1999.61,1258.44 \n  \"/>\n<path clip-path=\"url(#clip322)\" d=\"\nM2020.89 1211.62 L2020.89 1445.72 L2042.16 1445.72 L2042.16 1211.62 L2020.89 1211.62 L2020.89 1211.62  Z\n  \" fill=\"#009af9\" fill-rule=\"evenodd\" fill-opacity=\"0.1\"/>\n<polyline clip-path=\"url(#clip322)\" style=\"stroke:#000000; stroke-width:4; stroke-opacity:0.1; fill:none\" points=\"\n  2020.89,1211.62 2020.89,1445.72 2042.16,1445.72 2042.16,1211.62 2020.89,1211.62 \n  \"/>\n<path clip-path=\"url(#clip322)\" d=\"\nM2042.16 1258.44 L2042.16 1445.72 L2063.44 1445.72 L2063.44 1258.44 L2042.16 1258.44 L2042.16 1258.44  Z\n  \" fill=\"#009af9\" fill-rule=\"evenodd\" fill-opacity=\"0.1\"/>\n<polyline clip-path=\"url(#clip322)\" style=\"stroke:#000000; stroke-width:4; stroke-opacity:0.1; fill:none\" points=\"\n  2042.16,1258.44 2042.16,1445.72 2063.44,1445.72 2063.44,1258.44 2042.16,1258.44 \n  \"/>\n<path clip-path=\"url(#clip322)\" d=\"\nM2063.44 1305.26 L2063.44 1445.72 L2084.71 1445.72 L2084.71 1305.26 L2063.44 1305.26 L2063.44 1305.26  Z\n  \" fill=\"#009af9\" fill-rule=\"evenodd\" fill-opacity=\"0.1\"/>\n<polyline clip-path=\"url(#clip322)\" style=\"stroke:#000000; stroke-width:4; stroke-opacity:0.1; fill:none\" points=\"\n  2063.44,1305.26 2063.44,1445.72 2084.71,1445.72 2084.71,1305.26 2063.44,1305.26 \n  \"/>\n<path clip-path=\"url(#clip322)\" d=\"\nM2084.71 1445.72 L2084.71 1445.72 L2105.99 1445.72 L2105.99 1445.72 L2084.71 1445.72 L2084.71 1445.72  Z\n  \" fill=\"#009af9\" fill-rule=\"evenodd\" fill-opacity=\"0.1\"/>\n<polyline clip-path=\"url(#clip322)\" style=\"stroke:#000000; stroke-width:4; stroke-opacity:0.1; fill:none\" points=\"\n  2084.71,1445.72 2084.71,1445.72 2105.99,1445.72 2084.71,1445.72 \n  \"/>\n<path clip-path=\"url(#clip322)\" d=\"\nM2105.99 1445.72 L2105.99 1445.72 L2127.26 1445.72 L2127.26 1445.72 L2105.99 1445.72 L2105.99 1445.72  Z\n  \" fill=\"#009af9\" fill-rule=\"evenodd\" fill-opacity=\"0.1\"/>\n<polyline clip-path=\"url(#clip322)\" style=\"stroke:#000000; stroke-width:4; stroke-opacity:0.1; fill:none\" points=\"\n  2105.99,1445.72 2105.99,1445.72 2127.26,1445.72 2105.99,1445.72 \n  \"/>\n<path clip-path=\"url(#clip322)\" d=\"\nM2127.26 1258.44 L2127.26 1445.72 L2148.54 1445.72 L2148.54 1258.44 L2127.26 1258.44 L2127.26 1258.44  Z\n  \" fill=\"#009af9\" fill-rule=\"evenodd\" fill-opacity=\"0.1\"/>\n<polyline clip-path=\"url(#clip322)\" style=\"stroke:#000000; stroke-width:4; stroke-opacity:0.1; fill:none\" points=\"\n  2127.26,1258.44 2127.26,1445.72 2148.54,1445.72 2148.54,1258.44 2127.26,1258.44 \n  \"/>\n<path clip-path=\"url(#clip322)\" d=\"\nM2148.54 1445.72 L2148.54 1445.72 L2169.81 1445.72 L2169.81 1445.72 L2148.54 1445.72 L2148.54 1445.72  Z\n  \" fill=\"#009af9\" fill-rule=\"evenodd\" fill-opacity=\"0.1\"/>\n<polyline clip-path=\"url(#clip322)\" style=\"stroke:#000000; stroke-width:4; stroke-opacity:0.1; fill:none\" points=\"\n  2148.54,1445.72 2148.54,1445.72 2169.81,1445.72 2148.54,1445.72 \n  \"/>\n<path clip-path=\"url(#clip322)\" d=\"\nM2169.81 1445.72 L2169.81 1445.72 L2191.09 1445.72 L2191.09 1445.72 L2169.81 1445.72 L2169.81 1445.72  Z\n  \" fill=\"#009af9\" fill-rule=\"evenodd\" fill-opacity=\"0.1\"/>\n<polyline clip-path=\"url(#clip322)\" style=\"stroke:#000000; stroke-width:4; stroke-opacity:0.1; fill:none\" points=\"\n  2169.81,1445.72 2169.81,1445.72 2191.09,1445.72 2169.81,1445.72 \n  \"/>\n<path clip-path=\"url(#clip322)\" d=\"\nM2191.09 1445.72 L2191.09 1445.72 L2212.36 1445.72 L2212.36 1445.72 L2191.09 1445.72 L2191.09 1445.72  Z\n  \" fill=\"#009af9\" fill-rule=\"evenodd\" fill-opacity=\"0.1\"/>\n<polyline clip-path=\"url(#clip322)\" style=\"stroke:#000000; stroke-width:4; stroke-opacity:0.1; fill:none\" points=\"\n  2191.09,1445.72 2191.09,1445.72 2212.36,1445.72 2191.09,1445.72 \n  \"/>\n<path clip-path=\"url(#clip322)\" d=\"\nM2212.36 1445.72 L2212.36 1445.72 L2233.64 1445.72 L2233.64 1445.72 L2212.36 1445.72 L2212.36 1445.72  Z\n  \" fill=\"#009af9\" fill-rule=\"evenodd\" fill-opacity=\"0.1\"/>\n<polyline clip-path=\"url(#clip322)\" style=\"stroke:#000000; stroke-width:4; stroke-opacity:0.1; fill:none\" points=\"\n  2212.36,1445.72 2212.36,1445.72 2233.64,1445.72 2212.36,1445.72 \n  \"/>\n<path clip-path=\"url(#clip322)\" d=\"\nM2233.64 1305.26 L2233.64 1445.72 L2254.91 1445.72 L2254.91 1305.26 L2233.64 1305.26 L2233.64 1305.26  Z\n  \" fill=\"#009af9\" fill-rule=\"evenodd\" fill-opacity=\"0.1\"/>\n<polyline clip-path=\"url(#clip322)\" style=\"stroke:#000000; stroke-width:4; stroke-opacity:0.1; fill:none\" points=\"\n  2233.64,1305.26 2233.64,1445.72 2254.91,1445.72 2254.91,1305.26 2233.64,1305.26 \n  \"/>\n<path clip-path=\"url(#clip322)\" d=\"\nM233.794 1398.9 L233.794 1445.72 L255.069 1445.72 L255.069 1398.9 L233.794 1398.9 L233.794 1398.9  Z\n  \" fill=\"#e26f46\" fill-rule=\"evenodd\" fill-opacity=\"0.1\"/>\n<polyline clip-path=\"url(#clip322)\" style=\"stroke:#000000; stroke-width:4; stroke-opacity:0.1; fill:none\" points=\"\n  233.794,1398.9 233.794,1445.72 255.069,1445.72 255.069,1398.9 233.794,1398.9 \n  \"/>\n<path clip-path=\"url(#clip322)\" d=\"\nM255.069 1445.72 L255.069 1445.72 L276.343 1445.72 L276.343 1445.72 L255.069 1445.72 L255.069 1445.72  Z\n  \" fill=\"#e26f46\" fill-rule=\"evenodd\" fill-opacity=\"0.1\"/>\n<polyline clip-path=\"url(#clip322)\" style=\"stroke:#000000; stroke-width:4; stroke-opacity:0.1; fill:none\" points=\"\n  255.069,1445.72 255.069,1445.72 276.343,1445.72 255.069,1445.72 \n  \"/>\n<path clip-path=\"url(#clip322)\" d=\"\nM276.343 1445.72 L276.343 1445.72 L297.618 1445.72 L297.618 1445.72 L276.343 1445.72 L276.343 1445.72  Z\n  \" fill=\"#e26f46\" fill-rule=\"evenodd\" fill-opacity=\"0.1\"/>\n<polyline clip-path=\"url(#clip322)\" style=\"stroke:#000000; stroke-width:4; stroke-opacity:0.1; fill:none\" points=\"\n  276.343,1445.72 276.343,1445.72 297.618,1445.72 276.343,1445.72 \n  \"/>\n<path clip-path=\"url(#clip322)\" d=\"\nM297.618 1445.72 L297.618 1445.72 L318.893 1445.72 L318.893 1445.72 L297.618 1445.72 L297.618 1445.72  Z\n  \" fill=\"#e26f46\" fill-rule=\"evenodd\" fill-opacity=\"0.1\"/>\n<polyline clip-path=\"url(#clip322)\" style=\"stroke:#000000; stroke-width:4; stroke-opacity:0.1; fill:none\" points=\"\n  297.618,1445.72 297.618,1445.72 318.893,1445.72 297.618,1445.72 \n  \"/>\n<path clip-path=\"url(#clip322)\" d=\"\nM318.893 1445.72 L318.893 1445.72 L340.168 1445.72 L340.168 1445.72 L318.893 1445.72 L318.893 1445.72  Z\n  \" fill=\"#e26f46\" fill-rule=\"evenodd\" fill-opacity=\"0.1\"/>\n<polyline clip-path=\"url(#clip322)\" style=\"stroke:#000000; stroke-width:4; stroke-opacity:0.1; fill:none\" points=\"\n  318.893,1445.72 318.893,1445.72 340.168,1445.72 318.893,1445.72 \n  \"/>\n<path clip-path=\"url(#clip322)\" d=\"\nM340.168 1305.26 L340.168 1445.72 L361.443 1445.72 L361.443 1305.26 L340.168 1305.26 L340.168 1305.26  Z\n  \" fill=\"#e26f46\" fill-rule=\"evenodd\" fill-opacity=\"0.1\"/>\n<polyline clip-path=\"url(#clip322)\" style=\"stroke:#000000; stroke-width:4; stroke-opacity:0.1; fill:none\" points=\"\n  340.168,1305.26 340.168,1445.72 361.443,1445.72 361.443,1305.26 340.168,1305.26 \n  \"/>\n<path clip-path=\"url(#clip322)\" d=\"\nM361.443 1398.9 L361.443 1445.72 L382.718 1445.72 L382.718 1398.9 L361.443 1398.9 L361.443 1398.9  Z\n  \" fill=\"#e26f46\" fill-rule=\"evenodd\" fill-opacity=\"0.1\"/>\n<polyline clip-path=\"url(#clip322)\" style=\"stroke:#000000; stroke-width:4; stroke-opacity:0.1; fill:none\" points=\"\n  361.443,1398.9 361.443,1445.72 382.718,1445.72 382.718,1398.9 361.443,1398.9 \n  \"/>\n<path clip-path=\"url(#clip322)\" d=\"\nM382.718 1352.08 L382.718 1445.72 L403.993 1445.72 L403.993 1352.08 L382.718 1352.08 L382.718 1352.08  Z\n  \" fill=\"#e26f46\" fill-rule=\"evenodd\" fill-opacity=\"0.1\"/>\n<polyline clip-path=\"url(#clip322)\" style=\"stroke:#000000; stroke-width:4; stroke-opacity:0.1; fill:none\" points=\"\n  382.718,1352.08 382.718,1445.72 403.993,1445.72 403.993,1352.08 382.718,1352.08 \n  \"/>\n<path clip-path=\"url(#clip322)\" d=\"\nM403.993 1164.8 L403.993 1445.72 L425.268 1445.72 L425.268 1164.8 L403.993 1164.8 L403.993 1164.8  Z\n  \" fill=\"#e26f46\" fill-rule=\"evenodd\" fill-opacity=\"0.1\"/>\n<polyline clip-path=\"url(#clip322)\" style=\"stroke:#000000; stroke-width:4; stroke-opacity:0.1; fill:none\" points=\"\n  403.993,1164.8 403.993,1445.72 425.268,1445.72 425.268,1164.8 403.993,1164.8 \n  \"/>\n<path clip-path=\"url(#clip322)\" d=\"\nM425.268 1352.08 L425.268 1445.72 L446.543 1445.72 L446.543 1352.08 L425.268 1352.08 L425.268 1352.08  Z\n  \" fill=\"#e26f46\" fill-rule=\"evenodd\" fill-opacity=\"0.1\"/>\n<polyline clip-path=\"url(#clip322)\" style=\"stroke:#000000; stroke-width:4; stroke-opacity:0.1; fill:none\" points=\"\n  425.268,1352.08 425.268,1445.72 446.543,1445.72 446.543,1352.08 425.268,1352.08 \n  \"/>\n<path clip-path=\"url(#clip322)\" d=\"\nM446.543 1398.9 L446.543 1445.72 L467.818 1445.72 L467.818 1398.9 L446.543 1398.9 L446.543 1398.9  Z\n  \" fill=\"#e26f46\" fill-rule=\"evenodd\" fill-opacity=\"0.1\"/>\n<polyline clip-path=\"url(#clip322)\" style=\"stroke:#000000; stroke-width:4; stroke-opacity:0.1; fill:none\" points=\"\n  446.543,1398.9 446.543,1445.72 467.818,1445.72 467.818,1398.9 446.543,1398.9 \n  \"/>\n<path clip-path=\"url(#clip322)\" d=\"\nM467.818 1258.44 L467.818 1445.72 L489.093 1445.72 L489.093 1258.44 L467.818 1258.44 L467.818 1258.44  Z\n  \" fill=\"#e26f46\" fill-rule=\"evenodd\" fill-opacity=\"0.1\"/>\n<polyline clip-path=\"url(#clip322)\" style=\"stroke:#000000; stroke-width:4; stroke-opacity:0.1; fill:none\" points=\"\n  467.818,1258.44 467.818,1445.72 489.093,1445.72 489.093,1258.44 467.818,1258.44 \n  \"/>\n<path clip-path=\"url(#clip322)\" d=\"\nM489.093 1024.35 L489.093 1445.72 L510.368 1445.72 L510.368 1024.35 L489.093 1024.35 L489.093 1024.35  Z\n  \" fill=\"#e26f46\" fill-rule=\"evenodd\" fill-opacity=\"0.1\"/>\n<polyline clip-path=\"url(#clip322)\" style=\"stroke:#000000; stroke-width:4; stroke-opacity:0.1; fill:none\" points=\"\n  489.093,1024.35 489.093,1445.72 510.368,1445.72 510.368,1024.35 489.093,1024.35 \n  \"/>\n<path clip-path=\"url(#clip322)\" d=\"\nM510.368 1352.08 L510.368 1445.72 L531.643 1445.72 L531.643 1352.08 L510.368 1352.08 L510.368 1352.08  Z\n  \" fill=\"#e26f46\" fill-rule=\"evenodd\" fill-opacity=\"0.1\"/>\n<polyline clip-path=\"url(#clip322)\" style=\"stroke:#000000; stroke-width:4; stroke-opacity:0.1; fill:none\" points=\"\n  510.368,1352.08 510.368,1445.72 531.643,1445.72 531.643,1352.08 510.368,1352.08 \n  \"/>\n<path clip-path=\"url(#clip322)\" d=\"\nM531.643 1117.99 L531.643 1445.72 L552.918 1445.72 L552.918 1117.99 L531.643 1117.99 L531.643 1117.99  Z\n  \" fill=\"#e26f46\" fill-rule=\"evenodd\" fill-opacity=\"0.1\"/>\n<polyline clip-path=\"url(#clip322)\" style=\"stroke:#000000; stroke-width:4; stroke-opacity:0.1; fill:none\" points=\"\n  531.643,1117.99 531.643,1445.72 552.918,1445.72 552.918,1117.99 531.643,1117.99 \n  \"/>\n<path clip-path=\"url(#clip322)\" d=\"\nM552.918 696.618 L552.918 1445.72 L574.193 1445.72 L574.193 696.618 L552.918 696.618 L552.918 696.618  Z\n  \" fill=\"#e26f46\" fill-rule=\"evenodd\" fill-opacity=\"0.1\"/>\n<polyline clip-path=\"url(#clip322)\" style=\"stroke:#000000; stroke-width:4; stroke-opacity:0.1; fill:none\" points=\"\n  552.918,696.618 552.918,1445.72 574.193,1445.72 574.193,696.618 552.918,696.618 \n  \"/>\n<path clip-path=\"url(#clip322)\" d=\"\nM574.193 1071.17 L574.193 1445.72 L595.468 1445.72 L595.468 1071.17 L574.193 1071.17 L574.193 1071.17  Z\n  \" fill=\"#e26f46\" fill-rule=\"evenodd\" fill-opacity=\"0.1\"/>\n<polyline clip-path=\"url(#clip322)\" style=\"stroke:#000000; stroke-width:4; stroke-opacity:0.1; fill:none\" points=\"\n  574.193,1071.17 574.193,1445.72 595.468,1445.72 595.468,1071.17 574.193,1071.17 \n  \"/>\n<path clip-path=\"url(#clip322)\" d=\"\nM595.468 602.981 L595.468 1445.72 L616.742 1445.72 L616.742 602.981 L595.468 602.981 L595.468 602.981  Z\n  \" fill=\"#e26f46\" fill-rule=\"evenodd\" fill-opacity=\"0.1\"/>\n<polyline clip-path=\"url(#clip322)\" style=\"stroke:#000000; stroke-width:4; stroke-opacity:0.1; fill:none\" points=\"\n  595.468,602.981 595.468,1445.72 616.742,1445.72 616.742,602.981 595.468,602.981 \n  \"/>\n<path clip-path=\"url(#clip322)\" d=\"\nM616.742 1071.17 L616.742 1445.72 L638.017 1445.72 L638.017 1071.17 L616.742 1071.17 L616.742 1071.17  Z\n  \" fill=\"#e26f46\" fill-rule=\"evenodd\" fill-opacity=\"0.1\"/>\n<polyline clip-path=\"url(#clip322)\" style=\"stroke:#000000; stroke-width:4; stroke-opacity:0.1; fill:none\" points=\"\n  616.742,1071.17 616.742,1445.72 638.017,1445.72 638.017,1071.17 616.742,1071.17 \n  \"/>\n<path clip-path=\"url(#clip322)\" d=\"\nM638.017 415.706 L638.017 1445.72 L659.292 1445.72 L659.292 415.706 L638.017 415.706 L638.017 415.706  Z\n  \" fill=\"#e26f46\" fill-rule=\"evenodd\" fill-opacity=\"0.1\"/>\n<polyline clip-path=\"url(#clip322)\" style=\"stroke:#000000; stroke-width:4; stroke-opacity:0.1; fill:none\" points=\"\n  638.017,415.706 638.017,1445.72 659.292,1445.72 659.292,415.706 638.017,415.706 \n  \"/>\n<path clip-path=\"url(#clip322)\" d=\"\nM659.292 790.255 L659.292 1445.72 L680.567 1445.72 L680.567 790.255 L659.292 790.255 L659.292 790.255  Z\n  \" fill=\"#e26f46\" fill-rule=\"evenodd\" fill-opacity=\"0.1\"/>\n<polyline clip-path=\"url(#clip322)\" style=\"stroke:#000000; stroke-width:4; stroke-opacity:0.1; fill:none\" points=\"\n  659.292,790.255 659.292,1445.72 680.567,1445.72 680.567,790.255 659.292,790.255 \n  \"/>\n<path clip-path=\"url(#clip322)\" d=\"\nM680.567 462.525 L680.567 1445.72 L701.842 1445.72 L701.842 462.525 L680.567 462.525 L680.567 462.525  Z\n  \" fill=\"#e26f46\" fill-rule=\"evenodd\" fill-opacity=\"0.1\"/>\n<polyline clip-path=\"url(#clip322)\" style=\"stroke:#000000; stroke-width:4; stroke-opacity:0.1; fill:none\" points=\"\n  680.567,462.525 680.567,1445.72 701.842,1445.72 701.842,462.525 680.567,462.525 \n  \"/>\n<path clip-path=\"url(#clip322)\" d=\"\nM701.842 743.437 L701.842 1445.72 L723.117 1445.72 L723.117 743.437 L701.842 743.437 L701.842 743.437  Z\n  \" fill=\"#e26f46\" fill-rule=\"evenodd\" fill-opacity=\"0.1\"/>\n<polyline clip-path=\"url(#clip322)\" style=\"stroke:#000000; stroke-width:4; stroke-opacity:0.1; fill:none\" points=\"\n  701.842,743.437 701.842,1445.72 723.117,1445.72 723.117,743.437 701.842,743.437 \n  \"/>\n<path clip-path=\"url(#clip322)\" d=\"\nM723.117 368.888 L723.117 1445.72 L744.392 1445.72 L744.392 368.888 L723.117 368.888 L723.117 368.888  Z\n  \" fill=\"#e26f46\" fill-rule=\"evenodd\" fill-opacity=\"0.1\"/>\n<polyline clip-path=\"url(#clip322)\" style=\"stroke:#000000; stroke-width:4; stroke-opacity:0.1; fill:none\" points=\"\n  723.117,368.888 723.117,1445.72 744.392,1445.72 744.392,368.888 723.117,368.888 \n  \"/>\n<path clip-path=\"url(#clip322)\" d=\"\nM744.392 322.069 L744.392 1445.72 L765.667 1445.72 L765.667 322.069 L744.392 322.069 L744.392 322.069  Z\n  \" fill=\"#e26f46\" fill-rule=\"evenodd\" fill-opacity=\"0.1\"/>\n<polyline clip-path=\"url(#clip322)\" style=\"stroke:#000000; stroke-width:4; stroke-opacity:0.1; fill:none\" points=\"\n  744.392,322.069 744.392,1445.72 765.667,1445.72 765.667,322.069 744.392,322.069 \n  \"/>\n<path clip-path=\"url(#clip322)\" d=\"\nM765.667 556.162 L765.667 1445.72 L786.942 1445.72 L786.942 556.162 L765.667 556.162 L765.667 556.162  Z\n  \" fill=\"#e26f46\" fill-rule=\"evenodd\" fill-opacity=\"0.1\"/>\n<polyline clip-path=\"url(#clip322)\" style=\"stroke:#000000; stroke-width:4; stroke-opacity:0.1; fill:none\" points=\"\n  765.667,556.162 765.667,1445.72 786.942,1445.72 786.942,556.162 765.667,556.162 \n  \"/>\n<path clip-path=\"url(#clip322)\" d=\"\nM786.942 602.981 L786.942 1445.72 L808.217 1445.72 L808.217 602.981 L786.942 602.981 L786.942 602.981  Z\n  \" fill=\"#e26f46\" fill-rule=\"evenodd\" fill-opacity=\"0.1\"/>\n<polyline clip-path=\"url(#clip322)\" style=\"stroke:#000000; stroke-width:4; stroke-opacity:0.1; fill:none\" points=\"\n  786.942,602.981 786.942,1445.72 808.217,1445.72 808.217,602.981 786.942,602.981 \n  \"/>\n<path clip-path=\"url(#clip322)\" d=\"\nM808.217 790.255 L808.217 1445.72 L829.492 1445.72 L829.492 790.255 L808.217 790.255 L808.217 790.255  Z\n  \" fill=\"#e26f46\" fill-rule=\"evenodd\" fill-opacity=\"0.1\"/>\n<polyline clip-path=\"url(#clip322)\" style=\"stroke:#000000; stroke-width:4; stroke-opacity:0.1; fill:none\" points=\"\n  808.217,790.255 808.217,1445.72 829.492,1445.72 829.492,790.255 808.217,790.255 \n  \"/>\n<path clip-path=\"url(#clip322)\" d=\"\nM829.492 322.069 L829.492 1445.72 L850.767 1445.72 L850.767 322.069 L829.492 322.069 L829.492 322.069  Z\n  \" fill=\"#e26f46\" fill-rule=\"evenodd\" fill-opacity=\"0.1\"/>\n<polyline clip-path=\"url(#clip322)\" style=\"stroke:#000000; stroke-width:4; stroke-opacity:0.1; fill:none\" points=\"\n  829.492,322.069 829.492,1445.72 850.767,1445.72 850.767,322.069 829.492,322.069 \n  \"/>\n<path clip-path=\"url(#clip322)\" d=\"\nM850.767 87.9763 L850.767 1445.72 L872.042 1445.72 L872.042 87.9763 L850.767 87.9763 L850.767 87.9763  Z\n  \" fill=\"#e26f46\" fill-rule=\"evenodd\" fill-opacity=\"0.1\"/>\n<polyline clip-path=\"url(#clip322)\" style=\"stroke:#000000; stroke-width:4; stroke-opacity:0.1; fill:none\" points=\"\n  850.767,87.9763 850.767,1445.72 872.042,1445.72 872.042,87.9763 850.767,87.9763 \n  \"/>\n<path clip-path=\"url(#clip322)\" d=\"\nM872.042 602.981 L872.042 1445.72 L893.317 1445.72 L893.317 602.981 L872.042 602.981 L872.042 602.981  Z\n  \" fill=\"#e26f46\" fill-rule=\"evenodd\" fill-opacity=\"0.1\"/>\n<polyline clip-path=\"url(#clip322)\" style=\"stroke:#000000; stroke-width:4; stroke-opacity:0.1; fill:none\" points=\"\n  872.042,602.981 872.042,1445.72 893.317,1445.72 893.317,602.981 872.042,602.981 \n  \"/>\n<path clip-path=\"url(#clip322)\" d=\"\nM893.317 322.069 L893.317 1445.72 L914.592 1445.72 L914.592 322.069 L893.317 322.069 L893.317 322.069  Z\n  \" fill=\"#e26f46\" fill-rule=\"evenodd\" fill-opacity=\"0.1\"/>\n<polyline clip-path=\"url(#clip322)\" style=\"stroke:#000000; stroke-width:4; stroke-opacity:0.1; fill:none\" points=\"\n  893.317,322.069 893.317,1445.72 914.592,1445.72 914.592,322.069 893.317,322.069 \n  \"/>\n<path clip-path=\"url(#clip322)\" d=\"\nM914.592 790.255 L914.592 1445.72 L935.866 1445.72 L935.866 790.255 L914.592 790.255 L914.592 790.255  Z\n  \" fill=\"#e26f46\" fill-rule=\"evenodd\" fill-opacity=\"0.1\"/>\n<polyline clip-path=\"url(#clip322)\" style=\"stroke:#000000; stroke-width:4; stroke-opacity:0.1; fill:none\" points=\"\n  914.592,790.255 914.592,1445.72 935.866,1445.72 935.866,790.255 914.592,790.255 \n  \"/>\n<path clip-path=\"url(#clip322)\" d=\"\nM935.866 556.162 L935.866 1445.72 L957.141 1445.72 L957.141 556.162 L935.866 556.162 L935.866 556.162  Z\n  \" fill=\"#e26f46\" fill-rule=\"evenodd\" fill-opacity=\"0.1\"/>\n<polyline clip-path=\"url(#clip322)\" style=\"stroke:#000000; stroke-width:4; stroke-opacity:0.1; fill:none\" points=\"\n  935.866,556.162 935.866,1445.72 957.141,1445.72 957.141,556.162 935.866,556.162 \n  \"/>\n<path clip-path=\"url(#clip322)\" d=\"\nM957.141 883.892 L957.141 1445.72 L978.416 1445.72 L978.416 883.892 L957.141 883.892 L957.141 883.892  Z\n  \" fill=\"#e26f46\" fill-rule=\"evenodd\" fill-opacity=\"0.1\"/>\n<polyline clip-path=\"url(#clip322)\" style=\"stroke:#000000; stroke-width:4; stroke-opacity:0.1; fill:none\" points=\"\n  957.141,883.892 957.141,1445.72 978.416,1445.72 978.416,883.892 957.141,883.892 \n  \"/>\n<path clip-path=\"url(#clip322)\" d=\"\nM978.416 883.892 L978.416 1445.72 L999.691 1445.72 L999.691 883.892 L978.416 883.892 L978.416 883.892  Z\n  \" fill=\"#e26f46\" fill-rule=\"evenodd\" fill-opacity=\"0.1\"/>\n<polyline clip-path=\"url(#clip322)\" style=\"stroke:#000000; stroke-width:4; stroke-opacity:0.1; fill:none\" points=\"\n  978.416,883.892 978.416,1445.72 999.691,1445.72 999.691,883.892 978.416,883.892 \n  \"/>\n<path clip-path=\"url(#clip322)\" d=\"\nM999.691 930.711 L999.691 1445.72 L1020.97 1445.72 L1020.97 930.711 L999.691 930.711 L999.691 930.711  Z\n  \" fill=\"#e26f46\" fill-rule=\"evenodd\" fill-opacity=\"0.1\"/>\n<polyline clip-path=\"url(#clip322)\" style=\"stroke:#000000; stroke-width:4; stroke-opacity:0.1; fill:none\" points=\"\n  999.691,930.711 999.691,1445.72 1020.97,1445.72 1020.97,930.711 999.691,930.711 \n  \"/>\n<path clip-path=\"url(#clip322)\" d=\"\nM1020.97 837.074 L1020.97 1445.72 L1042.24 1445.72 L1042.24 837.074 L1020.97 837.074 L1020.97 837.074  Z\n  \" fill=\"#e26f46\" fill-rule=\"evenodd\" fill-opacity=\"0.1\"/>\n<polyline clip-path=\"url(#clip322)\" style=\"stroke:#000000; stroke-width:4; stroke-opacity:0.1; fill:none\" points=\"\n  1020.97,837.074 1020.97,1445.72 1042.24,1445.72 1042.24,837.074 1020.97,837.074 \n  \"/>\n<path clip-path=\"url(#clip322)\" d=\"\nM1042.24 837.074 L1042.24 1445.72 L1063.52 1445.72 L1063.52 837.074 L1042.24 837.074 L1042.24 837.074  Z\n  \" fill=\"#e26f46\" fill-rule=\"evenodd\" fill-opacity=\"0.1\"/>\n<polyline clip-path=\"url(#clip322)\" style=\"stroke:#000000; stroke-width:4; stroke-opacity:0.1; fill:none\" points=\"\n  1042.24,837.074 1042.24,1445.72 1063.52,1445.72 1063.52,837.074 1042.24,837.074 \n  \"/>\n<path clip-path=\"url(#clip322)\" d=\"\nM1063.52 1071.17 L1063.52 1445.72 L1084.79 1445.72 L1084.79 1071.17 L1063.52 1071.17 L1063.52 1071.17  Z\n  \" fill=\"#e26f46\" fill-rule=\"evenodd\" fill-opacity=\"0.1\"/>\n<polyline clip-path=\"url(#clip322)\" style=\"stroke:#000000; stroke-width:4; stroke-opacity:0.1; fill:none\" points=\"\n  1063.52,1071.17 1063.52,1445.72 1084.79,1445.72 1084.79,1071.17 1063.52,1071.17 \n  \"/>\n<path clip-path=\"url(#clip322)\" d=\"\nM1084.79 1164.8 L1084.79 1445.72 L1106.07 1445.72 L1106.07 1164.8 L1084.79 1164.8 L1084.79 1164.8  Z\n  \" fill=\"#e26f46\" fill-rule=\"evenodd\" fill-opacity=\"0.1\"/>\n<polyline clip-path=\"url(#clip322)\" style=\"stroke:#000000; stroke-width:4; stroke-opacity:0.1; fill:none\" points=\"\n  1084.79,1164.8 1084.79,1445.72 1106.07,1445.72 1106.07,1164.8 1084.79,1164.8 \n  \"/>\n<path clip-path=\"url(#clip322)\" d=\"\nM1106.07 1305.26 L1106.07 1445.72 L1127.34 1445.72 L1127.34 1305.26 L1106.07 1305.26 L1106.07 1305.26  Z\n  \" fill=\"#e26f46\" fill-rule=\"evenodd\" fill-opacity=\"0.1\"/>\n<polyline clip-path=\"url(#clip322)\" style=\"stroke:#000000; stroke-width:4; stroke-opacity:0.1; fill:none\" points=\"\n  1106.07,1305.26 1106.07,1445.72 1127.34,1445.72 1127.34,1305.26 1106.07,1305.26 \n  \"/>\n<path clip-path=\"url(#clip322)\" d=\"\nM1127.34 1071.17 L1127.34 1445.72 L1148.62 1445.72 L1148.62 1071.17 L1127.34 1071.17 L1127.34 1071.17  Z\n  \" fill=\"#e26f46\" fill-rule=\"evenodd\" fill-opacity=\"0.1\"/>\n<polyline clip-path=\"url(#clip322)\" style=\"stroke:#000000; stroke-width:4; stroke-opacity:0.1; fill:none\" points=\"\n  1127.34,1071.17 1127.34,1445.72 1148.62,1445.72 1148.62,1071.17 1127.34,1071.17 \n  \"/>\n<path clip-path=\"url(#clip322)\" d=\"\nM1148.62 1211.62 L1148.62 1445.72 L1169.89 1445.72 L1169.89 1211.62 L1148.62 1211.62 L1148.62 1211.62  Z\n  \" fill=\"#e26f46\" fill-rule=\"evenodd\" fill-opacity=\"0.1\"/>\n<polyline clip-path=\"url(#clip322)\" style=\"stroke:#000000; stroke-width:4; stroke-opacity:0.1; fill:none\" points=\"\n  1148.62,1211.62 1148.62,1445.72 1169.89,1445.72 1169.89,1211.62 1148.62,1211.62 \n  \"/>\n<path clip-path=\"url(#clip322)\" d=\"\nM1169.89 1164.8 L1169.89 1445.72 L1191.17 1445.72 L1191.17 1164.8 L1169.89 1164.8 L1169.89 1164.8  Z\n  \" fill=\"#e26f46\" fill-rule=\"evenodd\" fill-opacity=\"0.1\"/>\n<polyline clip-path=\"url(#clip322)\" style=\"stroke:#000000; stroke-width:4; stroke-opacity:0.1; fill:none\" points=\"\n  1169.89,1164.8 1169.89,1445.72 1191.17,1445.72 1191.17,1164.8 1169.89,1164.8 \n  \"/>\n<path clip-path=\"url(#clip322)\" d=\"\nM1191.17 1445.72 L1191.17 1445.72 L1212.44 1445.72 L1212.44 1445.72 L1191.17 1445.72 L1191.17 1445.72  Z\n  \" fill=\"#e26f46\" fill-rule=\"evenodd\" fill-opacity=\"0.1\"/>\n<polyline clip-path=\"url(#clip322)\" style=\"stroke:#000000; stroke-width:4; stroke-opacity:0.1; fill:none\" points=\"\n  1191.17,1445.72 1191.17,1445.72 1212.44,1445.72 1191.17,1445.72 \n  \"/>\n<path clip-path=\"url(#clip322)\" d=\"\nM1212.44 1211.62 L1212.44 1445.72 L1233.72 1445.72 L1233.72 1211.62 L1212.44 1211.62 L1212.44 1211.62  Z\n  \" fill=\"#e26f46\" fill-rule=\"evenodd\" fill-opacity=\"0.1\"/>\n<polyline clip-path=\"url(#clip322)\" style=\"stroke:#000000; stroke-width:4; stroke-opacity:0.1; fill:none\" points=\"\n  1212.44,1211.62 1212.44,1445.72 1233.72,1445.72 1233.72,1211.62 1212.44,1211.62 \n  \"/>\n<path clip-path=\"url(#clip322)\" d=\"\nM1233.72 1398.9 L1233.72 1445.72 L1254.99 1445.72 L1254.99 1398.9 L1233.72 1398.9 L1233.72 1398.9  Z\n  \" fill=\"#e26f46\" fill-rule=\"evenodd\" fill-opacity=\"0.1\"/>\n<polyline clip-path=\"url(#clip322)\" style=\"stroke:#000000; stroke-width:4; stroke-opacity:0.1; fill:none\" points=\"\n  1233.72,1398.9 1233.72,1445.72 1254.99,1445.72 1254.99,1398.9 1233.72,1398.9 \n  \"/>\n<path clip-path=\"url(#clip322)\" d=\"\nM1254.99 1211.62 L1254.99 1445.72 L1276.27 1445.72 L1276.27 1211.62 L1254.99 1211.62 L1254.99 1211.62  Z\n  \" fill=\"#e26f46\" fill-rule=\"evenodd\" fill-opacity=\"0.1\"/>\n<polyline clip-path=\"url(#clip322)\" style=\"stroke:#000000; stroke-width:4; stroke-opacity:0.1; fill:none\" points=\"\n  1254.99,1211.62 1254.99,1445.72 1276.27,1445.72 1276.27,1211.62 1254.99,1211.62 \n  \"/>\n<path clip-path=\"url(#clip322)\" d=\"\nM1276.27 1352.08 L1276.27 1445.72 L1297.54 1445.72 L1297.54 1352.08 L1276.27 1352.08 L1276.27 1352.08  Z\n  \" fill=\"#e26f46\" fill-rule=\"evenodd\" fill-opacity=\"0.1\"/>\n<polyline clip-path=\"url(#clip322)\" style=\"stroke:#000000; stroke-width:4; stroke-opacity:0.1; fill:none\" points=\"\n  1276.27,1352.08 1276.27,1445.72 1297.54,1445.72 1297.54,1352.08 1276.27,1352.08 \n  \"/>\n<path clip-path=\"url(#clip322)\" d=\"\nM1297.54 1398.9 L1297.54 1445.72 L1318.82 1445.72 L1318.82 1398.9 L1297.54 1398.9 L1297.54 1398.9  Z\n  \" fill=\"#e26f46\" fill-rule=\"evenodd\" fill-opacity=\"0.1\"/>\n<polyline clip-path=\"url(#clip322)\" style=\"stroke:#000000; stroke-width:4; stroke-opacity:0.1; fill:none\" points=\"\n  1297.54,1398.9 1297.54,1445.72 1318.82,1445.72 1318.82,1398.9 1297.54,1398.9 \n  \"/>\n<path clip-path=\"url(#clip322)\" d=\"\nM1318.82 1398.9 L1318.82 1445.72 L1340.09 1445.72 L1340.09 1398.9 L1318.82 1398.9 L1318.82 1398.9  Z\n  \" fill=\"#e26f46\" fill-rule=\"evenodd\" fill-opacity=\"0.1\"/>\n<polyline clip-path=\"url(#clip322)\" style=\"stroke:#000000; stroke-width:4; stroke-opacity:0.1; fill:none\" points=\"\n  1318.82,1398.9 1318.82,1445.72 1340.09,1445.72 1340.09,1398.9 1318.82,1398.9 \n  \"/>\n<path clip-path=\"url(#clip322)\" d=\"\nM1340.09 1445.72 L1340.09 1445.72 L1361.37 1445.72 L1361.37 1445.72 L1340.09 1445.72 L1340.09 1445.72  Z\n  \" fill=\"#e26f46\" fill-rule=\"evenodd\" fill-opacity=\"0.1\"/>\n<polyline clip-path=\"url(#clip322)\" style=\"stroke:#000000; stroke-width:4; stroke-opacity:0.1; fill:none\" points=\"\n  1340.09,1445.72 1340.09,1445.72 1361.37,1445.72 1340.09,1445.72 \n  \"/>\n<path clip-path=\"url(#clip322)\" d=\"\nM1361.37 1398.9 L1361.37 1445.72 L1382.64 1445.72 L1382.64 1398.9 L1361.37 1398.9 L1361.37 1398.9  Z\n  \" fill=\"#e26f46\" fill-rule=\"evenodd\" fill-opacity=\"0.1\"/>\n<polyline clip-path=\"url(#clip322)\" style=\"stroke:#000000; stroke-width:4; stroke-opacity:0.1; fill:none\" points=\"\n  1361.37,1398.9 1361.37,1445.72 1382.64,1445.72 1382.64,1398.9 1361.37,1398.9 \n  \"/>\n<path clip-path=\"url(#clip322)\" d=\"\nM1382.64 1398.9 L1382.64 1445.72 L1403.92 1445.72 L1403.92 1398.9 L1382.64 1398.9 L1382.64 1398.9  Z\n  \" fill=\"#e26f46\" fill-rule=\"evenodd\" fill-opacity=\"0.1\"/>\n<polyline clip-path=\"url(#clip322)\" style=\"stroke:#000000; stroke-width:4; stroke-opacity:0.1; fill:none\" points=\"\n  1382.64,1398.9 1382.64,1445.72 1403.92,1445.72 1403.92,1398.9 1382.64,1398.9 \n  \"/>\n<polyline clip-path=\"url(#clip322)\" style=\"stroke:#3da44d; stroke-width:4; stroke-opacity:1; fill:none\" points=\"\n  1404.74,2925.65 1404.74,-1391.96 \n  \"/>\n<path clip-path=\"url(#clip320)\" d=\"\nM1748.27 337.138 L2278.86 337.138 L2278.86 95.2176 L1748.27 95.2176  Z\n  \" fill=\"#ffffff\" fill-rule=\"evenodd\" fill-opacity=\"1\"/>\n<polyline clip-path=\"url(#clip320)\" style=\"stroke:#000000; stroke-width:4; stroke-opacity:1; fill:none\" points=\"\n  1748.27,337.138 2278.86,337.138 2278.86,95.2176 1748.27,95.2176 1748.27,337.138 \n  \"/>\n<path clip-path=\"url(#clip320)\" d=\"\nM1772.9 179.89 L1920.69 179.89 L1920.69 131.506 L1772.9 131.506 L1772.9 179.89  Z\n  \" fill=\"#009af9\" fill-rule=\"evenodd\" fill-opacity=\"0.1\"/>\n<polyline clip-path=\"url(#clip320)\" style=\"stroke:#000000; stroke-width:4; stroke-opacity:1; fill:none\" points=\"\n  1772.9,179.89 1920.69,179.89 1920.69,131.506 1772.9,131.506 1772.9,179.89 \n  \"/>\n<path clip-path=\"url(#clip320)\" d=\"M 0 0 M1945.32 162.746 L1945.32 147.052 L1949.58 147.052 L1949.58 162.584 Q1949.58 166.265 1951.01 168.116 Q1952.45 169.945 1955.32 169.945 Q1958.77 169.945 1960.76 167.746 Q1962.77 165.547 1962.77 161.751 L1962.77 147.052 L1967.03 147.052 L1967.03 172.978 L1962.77 172.978 L1962.77 168.996 Q1961.22 171.357 1959.16 172.515 Q1957.12 173.649 1954.42 173.649 Q1949.95 173.649 1947.63 170.871 Q1945.32 168.093 1945.32 162.746 M1956.04 146.427 L1956.04 146.427 Z\" fill=\"#000000\" fill-rule=\"evenodd\" fill-opacity=\"1\" /><path clip-path=\"url(#clip320)\" d=\"M 0 0 M1975.62 169.089 L1975.62 182.839 L1971.34 182.839 L1971.34 147.052 L1975.62 147.052 L1975.62 150.987 Q1976.96 148.672 1979 147.561 Q1981.06 146.427 1983.91 146.427 Q1988.63 146.427 1991.57 150.177 Q1994.53 153.927 1994.53 160.038 Q1994.53 166.149 1991.57 169.899 Q1988.63 173.649 1983.91 173.649 Q1981.06 173.649 1979 172.538 Q1976.96 171.403 1975.62 169.089 M1990.11 160.038 Q1990.11 155.339 1988.17 152.677 Q1986.24 149.992 1982.87 149.992 Q1979.49 149.992 1977.54 152.677 Q1975.62 155.339 1975.62 160.038 Q1975.62 164.737 1977.54 167.422 Q1979.49 170.084 1982.87 170.084 Q1986.24 170.084 1988.17 167.422 Q1990.11 164.737 1990.11 160.038 Z\" fill=\"#000000\" fill-rule=\"evenodd\" fill-opacity=\"1\" /><path clip-path=\"url(#clip320)\" d=\"M 0 0 M2003.12 169.089 L2003.12 182.839 L1998.84 182.839 L1998.84 147.052 L2003.12 147.052 L2003.12 150.987 Q2004.46 148.672 2006.5 147.561 Q2008.56 146.427 2011.41 146.427 Q2016.13 146.427 2019.07 150.177 Q2022.03 153.927 2022.03 160.038 Q2022.03 166.149 2019.07 169.899 Q2016.13 173.649 2011.41 173.649 Q2008.56 173.649 2006.5 172.538 Q2004.46 171.403 2003.12 169.089 M2017.61 160.038 Q2017.61 155.339 2015.67 152.677 Q2013.74 149.992 2010.37 149.992 Q2006.99 149.992 2005.04 152.677 Q2003.12 155.339 2003.12 160.038 Q2003.12 164.737 2005.04 167.422 Q2006.99 170.084 2010.37 170.084 Q2013.74 170.084 2015.67 167.422 Q2017.61 164.737 2017.61 160.038 Z\" fill=\"#000000\" fill-rule=\"evenodd\" fill-opacity=\"1\" /><path clip-path=\"url(#clip320)\" d=\"M 0 0 M2048.68 158.95 L2048.68 161.033 L2029.09 161.033 Q2029.37 165.431 2031.73 167.746 Q2034.11 170.038 2038.35 170.038 Q2040.8 170.038 2043.1 169.436 Q2045.41 168.834 2047.68 167.63 L2047.68 171.658 Q2045.39 172.63 2042.98 173.14 Q2040.57 173.649 2038.1 173.649 Q2031.89 173.649 2028.26 170.038 Q2024.65 166.427 2024.65 160.269 Q2024.65 153.904 2028.07 150.177 Q2031.52 146.427 2037.36 146.427 Q2042.59 146.427 2045.62 149.806 Q2048.68 153.163 2048.68 158.95 M2044.42 157.7 Q2044.37 154.205 2042.45 152.121 Q2040.55 150.038 2037.4 150.038 Q2033.84 150.038 2031.68 152.052 Q2029.55 154.066 2029.23 157.723 L2044.42 157.7 Z\" fill=\"#000000\" fill-rule=\"evenodd\" fill-opacity=\"1\" /><path clip-path=\"url(#clip320)\" d=\"M 0 0 M2068.17 151.033 Q2067.45 150.617 2066.59 150.431 Q2065.76 150.223 2064.74 150.223 Q2061.13 150.223 2059.18 152.584 Q2057.26 154.922 2057.26 159.32 L2057.26 172.978 L2052.98 172.978 L2052.98 147.052 L2057.26 147.052 L2057.26 151.08 Q2058.61 148.718 2060.76 147.584 Q2062.91 146.427 2065.99 146.427 Q2066.43 146.427 2066.96 146.496 Q2067.49 146.543 2068.14 146.658 L2068.17 151.033 Z\" fill=\"#000000\" fill-rule=\"evenodd\" fill-opacity=\"1\" /><path clip-path=\"url(#clip320)\" d=\"M 0 0 M2106.31 160.038 Q2106.31 155.339 2104.37 152.677 Q2102.45 149.992 2099.07 149.992 Q2095.69 149.992 2093.74 152.677 Q2091.82 155.339 2091.82 160.038 Q2091.82 164.737 2093.74 167.422 Q2095.69 170.084 2099.07 170.084 Q2102.45 170.084 2104.37 167.422 Q2106.31 164.737 2106.31 160.038 M2091.82 150.987 Q2093.17 148.672 2095.2 147.561 Q2097.26 146.427 2100.11 146.427 Q2104.83 146.427 2107.77 150.177 Q2110.73 153.927 2110.73 160.038 Q2110.73 166.149 2107.77 169.899 Q2104.83 173.649 2100.11 173.649 Q2097.26 173.649 2095.2 172.538 Q2093.17 171.403 2091.82 169.089 L2091.82 172.978 L2087.54 172.978 L2087.54 136.959 L2091.82 136.959 L2091.82 150.987 Z\" fill=\"#000000\" fill-rule=\"evenodd\" fill-opacity=\"1\" /><path clip-path=\"url(#clip320)\" d=\"M 0 0 M2125.25 150.038 Q2121.82 150.038 2119.83 152.723 Q2117.84 155.385 2117.84 160.038 Q2117.84 164.691 2119.81 167.376 Q2121.8 170.038 2125.25 170.038 Q2128.65 170.038 2130.64 167.353 Q2132.63 164.667 2132.63 160.038 Q2132.63 155.431 2130.64 152.746 Q2128.65 150.038 2125.25 150.038 M2125.25 146.427 Q2130.8 146.427 2133.98 150.038 Q2137.15 153.649 2137.15 160.038 Q2137.15 166.404 2133.98 170.038 Q2130.8 173.649 2125.25 173.649 Q2119.67 173.649 2116.5 170.038 Q2113.35 166.404 2113.35 160.038 Q2113.35 153.649 2116.5 150.038 Q2119.67 146.427 2125.25 146.427 Z\" fill=\"#000000\" fill-rule=\"evenodd\" fill-opacity=\"1\" /><path clip-path=\"url(#clip320)\" d=\"M 0 0 M2141.17 162.746 L2141.17 147.052 L2145.43 147.052 L2145.43 162.584 Q2145.43 166.265 2146.87 168.116 Q2148.3 169.945 2151.17 169.945 Q2154.62 169.945 2156.61 167.746 Q2158.63 165.547 2158.63 161.751 L2158.63 147.052 L2162.89 147.052 L2162.89 172.978 L2158.63 172.978 L2158.63 168.996 Q2157.08 171.357 2155.02 172.515 Q2152.98 173.649 2150.27 173.649 Q2145.8 173.649 2143.49 170.871 Q2141.17 168.093 2141.17 162.746 M2151.89 146.427 L2151.89 146.427 Z\" fill=\"#000000\" fill-rule=\"evenodd\" fill-opacity=\"1\" /><path clip-path=\"url(#clip320)\" d=\"M 0 0 M2188.91 157.329 L2188.91 172.978 L2184.65 172.978 L2184.65 157.468 Q2184.65 153.788 2183.21 151.959 Q2181.78 150.13 2178.91 150.13 Q2175.46 150.13 2173.47 152.33 Q2171.48 154.529 2171.48 158.325 L2171.48 172.978 L2167.19 172.978 L2167.19 147.052 L2171.48 147.052 L2171.48 151.08 Q2173 148.742 2175.06 147.584 Q2177.15 146.427 2179.85 146.427 Q2184.32 146.427 2186.61 149.205 Q2188.91 151.959 2188.91 157.329 Z\" fill=\"#000000\" fill-rule=\"evenodd\" fill-opacity=\"1\" /><path clip-path=\"url(#clip320)\" d=\"M 0 0 M2210.43 150.987 L2210.43 136.959 L2214.69 136.959 L2214.69 172.978 L2210.43 172.978 L2210.43 169.089 Q2209.09 171.403 2207.03 172.538 Q2204.99 173.649 2202.12 173.649 Q2197.42 173.649 2194.46 169.899 Q2191.52 166.149 2191.52 160.038 Q2191.52 153.927 2194.46 150.177 Q2197.42 146.427 2202.12 146.427 Q2204.99 146.427 2207.03 147.561 Q2209.09 148.672 2210.43 150.987 M2195.92 160.038 Q2195.92 164.737 2197.84 167.422 Q2199.79 170.084 2203.16 170.084 Q2206.54 170.084 2208.49 167.422 Q2210.43 164.737 2210.43 160.038 Q2210.43 155.339 2208.49 152.677 Q2206.54 149.992 2203.16 149.992 Q2199.79 149.992 2197.84 152.677 Q2195.92 155.339 2195.92 160.038 Z\" fill=\"#000000\" fill-rule=\"evenodd\" fill-opacity=\"1\" /><path clip-path=\"url(#clip320)\" d=\"\nM1772.9 240.37 L1920.69 240.37 L1920.69 191.986 L1772.9 191.986 L1772.9 240.37  Z\n  \" fill=\"#e26f46\" fill-rule=\"evenodd\" fill-opacity=\"0.1\"/>\n<polyline clip-path=\"url(#clip320)\" style=\"stroke:#000000; stroke-width:4; stroke-opacity:1; fill:none\" points=\"\n  1772.9,240.37 1920.69,240.37 1920.69,191.986 1772.9,191.986 1772.9,240.37 \n  \"/>\n<path clip-path=\"url(#clip320)\" d=\"M 0 0 M1945.32 197.439 L1949.58 197.439 L1949.58 233.458 L1945.32 233.458 L1945.32 197.439 Z\" fill=\"#000000\" fill-rule=\"evenodd\" fill-opacity=\"1\" /><path clip-path=\"url(#clip320)\" d=\"M 0 0 M1964.09 210.518 Q1960.67 210.518 1958.68 213.203 Q1956.68 215.865 1956.68 220.518 Q1956.68 225.171 1958.65 227.856 Q1960.64 230.518 1964.09 230.518 Q1967.49 230.518 1969.49 227.833 Q1971.48 225.147 1971.48 220.518 Q1971.48 215.911 1969.49 213.226 Q1967.49 210.518 1964.09 210.518 M1964.09 206.907 Q1969.65 206.907 1972.82 210.518 Q1975.99 214.129 1975.99 220.518 Q1975.99 226.884 1972.82 230.518 Q1969.65 234.129 1964.09 234.129 Q1958.51 234.129 1955.34 230.518 Q1952.19 226.884 1952.19 220.518 Q1952.19 214.129 1955.34 210.518 Q1958.51 206.907 1964.09 206.907 Z\" fill=\"#000000\" fill-rule=\"evenodd\" fill-opacity=\"1\" /><path clip-path=\"url(#clip320)\" d=\"M 0 0 M1977.98 207.532 L1982.24 207.532 L1987.56 227.763 L1992.87 207.532 L1997.89 207.532 L2003.21 227.763 L2008.51 207.532 L2012.77 207.532 L2005.99 233.458 L2000.97 233.458 L1995.39 212.208 L1989.79 233.458 L1984.76 233.458 L1977.98 207.532 Z\" fill=\"#000000\" fill-rule=\"evenodd\" fill-opacity=\"1\" /><path clip-path=\"url(#clip320)\" d=\"M 0 0 M2039.42 219.43 L2039.42 221.513 L2019.83 221.513 Q2020.11 225.911 2022.47 228.226 Q2024.86 230.518 2029.09 230.518 Q2031.55 230.518 2033.84 229.916 Q2036.15 229.314 2038.42 228.11 L2038.42 232.138 Q2036.13 233.11 2033.72 233.62 Q2031.31 234.129 2028.84 234.129 Q2022.63 234.129 2019 230.518 Q2015.39 226.907 2015.39 220.749 Q2015.39 214.384 2018.81 210.657 Q2022.26 206.907 2028.1 206.907 Q2033.33 206.907 2036.36 210.286 Q2039.42 213.643 2039.42 219.43 M2035.16 218.18 Q2035.11 214.685 2033.19 212.601 Q2031.29 210.518 2028.14 210.518 Q2024.58 210.518 2022.43 212.532 Q2020.3 214.546 2019.97 218.203 L2035.16 218.18 Z\" fill=\"#000000\" fill-rule=\"evenodd\" fill-opacity=\"1\" /><path clip-path=\"url(#clip320)\" d=\"M 0 0 M2058.91 211.513 Q2058.19 211.097 2057.33 210.911 Q2056.5 210.703 2055.48 210.703 Q2051.87 210.703 2049.93 213.064 Q2048 215.402 2048 219.8 L2048 233.458 L2043.72 233.458 L2043.72 207.532 L2048 207.532 L2048 211.56 Q2049.35 209.198 2051.5 208.064 Q2053.65 206.907 2056.73 206.907 Q2057.17 206.907 2057.7 206.976 Q2058.24 207.023 2058.88 207.138 L2058.91 211.513 Z\" fill=\"#000000\" fill-rule=\"evenodd\" fill-opacity=\"1\" /><path clip-path=\"url(#clip320)\" d=\"M 0 0 M2097.05 220.518 Q2097.05 215.819 2095.11 213.157 Q2093.19 210.472 2089.81 210.472 Q2086.43 210.472 2084.49 213.157 Q2082.56 215.819 2082.56 220.518 Q2082.56 225.217 2084.49 227.902 Q2086.43 230.564 2089.81 230.564 Q2093.19 230.564 2095.11 227.902 Q2097.05 225.217 2097.05 220.518 M2082.56 211.467 Q2083.91 209.152 2085.94 208.041 Q2088 206.907 2090.85 206.907 Q2095.57 206.907 2098.51 210.657 Q2101.48 214.407 2101.48 220.518 Q2101.48 226.629 2098.51 230.379 Q2095.57 234.129 2090.85 234.129 Q2088 234.129 2085.94 233.018 Q2083.91 231.883 2082.56 229.569 L2082.56 233.458 L2078.28 233.458 L2078.28 197.439 L2082.56 197.439 L2082.56 211.467 Z\" fill=\"#000000\" fill-rule=\"evenodd\" fill-opacity=\"1\" /><path clip-path=\"url(#clip320)\" d=\"M 0 0 M2115.99 210.518 Q2112.56 210.518 2110.57 213.203 Q2108.58 215.865 2108.58 220.518 Q2108.58 225.171 2110.55 227.856 Q2112.54 230.518 2115.99 230.518 Q2119.39 230.518 2121.38 227.833 Q2123.37 225.147 2123.37 220.518 Q2123.37 215.911 2121.38 213.226 Q2119.39 210.518 2115.99 210.518 M2115.99 206.907 Q2121.55 206.907 2124.72 210.518 Q2127.89 214.129 2127.89 220.518 Q2127.89 226.884 2124.72 230.518 Q2121.55 234.129 2115.99 234.129 Q2110.41 234.129 2107.24 230.518 Q2104.09 226.884 2104.09 220.518 Q2104.09 214.129 2107.24 210.518 Q2110.41 206.907 2115.99 206.907 Z\" fill=\"#000000\" fill-rule=\"evenodd\" fill-opacity=\"1\" /><path clip-path=\"url(#clip320)\" d=\"M 0 0 M2131.92 223.226 L2131.92 207.532 L2136.17 207.532 L2136.17 223.064 Q2136.17 226.745 2137.61 228.596 Q2139.04 230.425 2141.92 230.425 Q2145.36 230.425 2147.36 228.226 Q2149.37 226.027 2149.37 222.231 L2149.37 207.532 L2153.63 207.532 L2153.63 233.458 L2149.37 233.458 L2149.37 229.476 Q2147.82 231.837 2145.76 232.995 Q2143.72 234.129 2141.01 234.129 Q2136.54 234.129 2134.23 231.351 Q2131.92 228.573 2131.92 223.226 M2142.63 206.907 L2142.63 206.907 Z\" fill=\"#000000\" fill-rule=\"evenodd\" fill-opacity=\"1\" /><path clip-path=\"url(#clip320)\" d=\"M 0 0 M2179.65 217.809 L2179.65 233.458 L2175.39 233.458 L2175.39 217.948 Q2175.39 214.268 2173.95 212.439 Q2172.52 210.61 2169.65 210.61 Q2166.2 210.61 2164.21 212.81 Q2162.22 215.009 2162.22 218.805 L2162.22 233.458 L2157.93 233.458 L2157.93 207.532 L2162.22 207.532 L2162.22 211.56 Q2163.74 209.222 2165.8 208.064 Q2167.89 206.907 2170.6 206.907 Q2175.06 206.907 2177.35 209.685 Q2179.65 212.439 2179.65 217.809 Z\" fill=\"#000000\" fill-rule=\"evenodd\" fill-opacity=\"1\" /><path clip-path=\"url(#clip320)\" d=\"M 0 0 M2201.17 211.467 L2201.17 197.439 L2205.43 197.439 L2205.43 233.458 L2201.17 233.458 L2201.17 229.569 Q2199.83 231.883 2197.77 233.018 Q2195.73 234.129 2192.86 234.129 Q2188.17 234.129 2185.2 230.379 Q2182.26 226.629 2182.26 220.518 Q2182.26 214.407 2185.2 210.657 Q2188.17 206.907 2192.86 206.907 Q2195.73 206.907 2197.77 208.041 Q2199.83 209.152 2201.17 211.467 M2186.66 220.518 Q2186.66 225.217 2188.58 227.902 Q2190.53 230.564 2193.91 230.564 Q2197.29 230.564 2199.23 227.902 Q2201.17 225.217 2201.17 220.518 Q2201.17 215.819 2199.23 213.157 Q2197.29 210.472 2193.91 210.472 Q2190.53 210.472 2188.58 213.157 Q2186.66 215.819 2186.66 220.518 Z\" fill=\"#000000\" fill-rule=\"evenodd\" fill-opacity=\"1\" /><polyline clip-path=\"url(#clip320)\" style=\"stroke:#3da44d; stroke-width:4; stroke-opacity:1; fill:none\" points=\"\n  1772.9,276.658 1920.69,276.658 \n  \"/>\n<path clip-path=\"url(#clip320)\" d=\"M 0 0 M1952.73 260.651 L1952.73 268.012 L1961.5 268.012 L1961.5 271.322 L1952.73 271.322 L1952.73 285.396 Q1952.73 288.567 1953.58 289.47 Q1954.46 290.373 1957.12 290.373 L1961.5 290.373 L1961.5 293.938 L1957.12 293.938 Q1952.19 293.938 1950.32 292.109 Q1948.44 290.257 1948.44 285.396 L1948.44 271.322 L1945.32 271.322 L1945.32 268.012 L1948.44 268.012 L1948.44 260.651 L1952.73 260.651 Z\" fill=\"#000000\" fill-rule=\"evenodd\" fill-opacity=\"1\" /><path clip-path=\"url(#clip320)\" d=\"M 0 0 M1980.99 271.993 Q1980.27 271.577 1979.42 271.391 Q1978.58 271.183 1977.56 271.183 Q1973.95 271.183 1972.01 273.544 Q1970.09 275.882 1970.09 280.28 L1970.09 293.938 L1965.81 293.938 L1965.81 268.012 L1970.09 268.012 L1970.09 272.04 Q1971.43 269.678 1973.58 268.544 Q1975.74 267.387 1978.81 267.387 Q1979.25 267.387 1979.79 267.456 Q1980.32 267.503 1980.97 267.618 L1980.99 271.993 Z\" fill=\"#000000\" fill-rule=\"evenodd\" fill-opacity=\"1\" /><path clip-path=\"url(#clip320)\" d=\"M 0 0 M1985.02 283.706 L1985.02 268.012 L1989.28 268.012 L1989.28 283.544 Q1989.28 287.225 1990.71 289.076 Q1992.15 290.905 1995.02 290.905 Q1998.47 290.905 2000.46 288.706 Q2002.47 286.507 2002.47 282.711 L2002.47 268.012 L2006.73 268.012 L2006.73 293.938 L2002.47 293.938 L2002.47 289.956 Q2000.92 292.317 1998.86 293.475 Q1996.82 294.609 1994.12 294.609 Q1989.65 294.609 1987.33 291.831 Q1985.02 289.053 1985.02 283.706 M1995.74 267.387 L1995.74 267.387 Z\" fill=\"#000000\" fill-rule=\"evenodd\" fill-opacity=\"1\" /><path clip-path=\"url(#clip320)\" d=\"M 0 0 M2033.37 279.91 L2033.37 281.993 L2013.79 281.993 Q2014.07 286.391 2016.43 288.706 Q2018.81 290.998 2023.05 290.998 Q2025.5 290.998 2027.8 290.396 Q2030.11 289.794 2032.38 288.59 L2032.38 292.618 Q2030.09 293.59 2027.68 294.1 Q2025.27 294.609 2022.8 294.609 Q2016.59 294.609 2012.96 290.998 Q2009.35 287.387 2009.35 281.229 Q2009.35 274.864 2012.77 271.137 Q2016.22 267.387 2022.05 267.387 Q2027.29 267.387 2030.32 270.766 Q2033.37 274.123 2033.37 279.91 M2029.11 278.66 Q2029.07 275.165 2027.15 273.081 Q2025.25 270.998 2022.1 270.998 Q2018.54 270.998 2016.38 273.012 Q2014.25 275.026 2013.93 278.683 L2029.11 278.66 Z\" fill=\"#000000\" fill-rule=\"evenodd\" fill-opacity=\"1\" /><path clip-path=\"url(#clip320)\" d=\"M 0 0 M2064.46 300.905 L2062.15 300.905 L2062.12 293.938 Q2059.69 293.891 2057.26 293.382 Q2054.83 292.85 2052.38 291.808 L2052.38 287.641 Q2054.74 289.123 2057.15 289.887 Q2059.58 290.627 2062.15 290.651 L2062.15 280.095 Q2057.03 279.262 2054.69 277.271 Q2052.38 275.28 2052.38 271.808 Q2052.38 268.035 2054.9 265.859 Q2057.43 263.683 2062.15 263.359 L2062.15 257.919 L2064.46 257.919 L2064.46 263.29 Q2066.61 263.382 2068.63 263.753 Q2070.64 264.1 2072.56 264.725 L2072.56 268.776 Q2070.64 267.803 2068.61 267.271 Q2066.59 266.739 2064.46 266.646 L2064.46 276.53 Q2069.72 277.34 2072.19 279.424 Q2074.67 281.507 2074.67 285.118 Q2074.67 289.03 2072.03 291.299 Q2069.42 293.544 2064.46 293.891 L2064.46 300.905 M2062.15 276.114 L2062.15 266.623 Q2059.46 266.924 2058.05 268.151 Q2056.64 269.378 2056.64 271.415 Q2056.64 273.405 2057.93 274.516 Q2059.25 275.627 2062.15 276.114 M2064.46 280.558 L2064.46 290.581 Q2067.4 290.188 2068.88 288.914 Q2070.39 287.641 2070.39 285.558 Q2070.39 283.521 2068.95 282.317 Q2067.54 281.114 2064.46 280.558 Z\" fill=\"#000000\" fill-rule=\"evenodd\" fill-opacity=\"1\" /><path clip-path=\"url(#clip320)\" d=\"M 0 0 M2074.58 259.378 L2079.6 259.378 L2089.18 273.59 L2098.7 259.378 L2103.72 259.378 L2091.5 277.479 L2091.5 293.938 L2086.8 293.938 L2086.8 277.479 L2074.58 259.378 Z\" fill=\"#000000\" fill-rule=\"evenodd\" fill-opacity=\"1\" /><path clip-path=\"url(#clip320)\" d=\"M 0 0 M2127.89 301.808 L2127.89 305.118 L2103.26 305.118 L2103.26 301.808 L2127.89 301.808 Z\" fill=\"#000000\" fill-rule=\"evenodd\" fill-opacity=\"1\" /><path clip-path=\"url(#clip320)\" d=\"M 0 0 M2152.12 298.336 L2152.12 301.669 L2150.69 301.669 Q2144.92 301.669 2142.96 299.956 Q2141.01 298.243 2141.01 293.127 L2141.01 287.595 Q2141.01 284.1 2139.76 282.757 Q2138.51 281.414 2135.23 281.414 L2133.81 281.414 L2133.81 278.104 L2135.23 278.104 Q2138.54 278.104 2139.76 276.785 Q2141.01 275.442 2141.01 271.993 L2141.01 266.438 Q2141.01 261.322 2142.96 259.632 Q2144.92 257.919 2150.69 257.919 L2152.12 257.919 L2152.12 261.229 L2150.55 261.229 Q2147.29 261.229 2146.29 262.248 Q2145.29 263.266 2145.29 266.53 L2145.29 272.271 Q2145.29 275.905 2144.23 277.549 Q2143.19 279.192 2140.64 279.771 Q2143.21 280.396 2144.25 282.039 Q2145.29 283.683 2145.29 287.294 L2145.29 293.035 Q2145.29 296.299 2146.29 297.317 Q2147.29 298.336 2150.55 298.336 L2152.12 298.336 Z\" fill=\"#000000\" fill-rule=\"evenodd\" fill-opacity=\"1\" /><path clip-path=\"url(#clip320)\" d=\"M 0 0 M2167.19 262.456 Q2163.58 262.456 2161.75 266.021 Q2159.95 269.563 2159.95 276.692 Q2159.95 283.799 2161.75 287.364 Q2163.58 290.905 2167.19 290.905 Q2170.83 290.905 2172.63 287.364 Q2174.46 283.799 2174.46 276.692 Q2174.46 269.563 2172.63 266.021 Q2170.83 262.456 2167.19 262.456 M2167.19 258.753 Q2173 258.753 2176.06 263.359 Q2179.14 267.942 2179.14 276.692 Q2179.14 285.419 2176.06 290.026 Q2173 294.609 2167.19 294.609 Q2161.38 294.609 2158.3 290.026 Q2155.25 285.419 2155.25 276.692 Q2155.25 267.942 2158.3 263.359 Q2161.38 258.753 2167.19 258.753 Z\" fill=\"#000000\" fill-rule=\"evenodd\" fill-opacity=\"1\" /><path clip-path=\"url(#clip320)\" d=\"M 0 0 M2185.06 298.336 L2186.68 298.336 Q2189.92 298.336 2190.9 297.34 Q2191.89 296.345 2191.89 293.035 L2191.89 287.294 Q2191.89 283.683 2192.93 282.039 Q2193.98 280.396 2196.54 279.771 Q2193.98 279.192 2192.93 277.549 Q2191.89 275.905 2191.89 272.271 L2191.89 266.53 Q2191.89 263.243 2190.9 262.248 Q2189.92 261.229 2186.68 261.229 L2185.06 261.229 L2185.06 257.919 L2186.52 257.919 Q2192.29 257.919 2194.21 259.632 Q2196.15 261.322 2196.15 266.438 L2196.15 271.993 Q2196.15 275.442 2197.4 276.785 Q2198.65 278.104 2201.94 278.104 L2203.37 278.104 L2203.37 281.414 L2201.94 281.414 Q2198.65 281.414 2197.4 282.757 Q2196.15 284.1 2196.15 287.595 L2196.15 293.127 Q2196.15 298.243 2194.21 299.956 Q2192.29 301.669 2186.52 301.669 L2185.06 301.669 L2185.06 298.336 Z\" fill=\"#000000\" fill-rule=\"evenodd\" fill-opacity=\"1\" /><path clip-path=\"url(#clip320)\" d=\"M 0 0 M2219.39 300.905 L2217.08 300.905 L2217.05 293.938 Q2214.62 293.891 2212.19 293.382 Q2209.76 292.85 2207.31 291.808 L2207.31 287.641 Q2209.67 289.123 2212.08 289.887 Q2214.51 290.627 2217.08 290.651 L2217.08 280.095 Q2211.96 279.262 2209.62 277.271 Q2207.31 275.28 2207.31 271.808 Q2207.31 268.035 2209.83 265.859 Q2212.35 263.683 2217.08 263.359 L2217.08 257.919 L2219.39 257.919 L2219.39 263.29 Q2221.54 263.382 2223.56 263.753 Q2225.57 264.1 2227.49 264.725 L2227.49 268.776 Q2225.57 267.803 2223.54 267.271 Q2221.52 266.739 2219.39 266.646 L2219.39 276.53 Q2224.65 277.34 2227.12 279.424 Q2229.6 281.507 2229.6 285.118 Q2229.6 289.03 2226.96 291.299 Q2224.35 293.544 2219.39 293.891 L2219.39 300.905 M2217.08 276.114 L2217.08 266.623 Q2214.39 266.924 2212.98 268.151 Q2211.57 269.378 2211.57 271.415 Q2211.57 273.405 2212.86 274.516 Q2214.18 275.627 2217.08 276.114 M2219.39 280.558 L2219.39 290.581 Q2222.33 290.188 2223.81 288.914 Q2225.32 287.641 2225.32 285.558 Q2225.32 283.521 2223.88 282.317 Q2222.47 281.114 2219.39 280.558 Z\" fill=\"#000000\" fill-rule=\"evenodd\" fill-opacity=\"1\" /></svg>\n"
     },
     "execution_count": 16,
     "metadata": {},
     "output_type": "execute_result"
    }
   ],
   "source": [
    "upper_bound_Y0 = []\n",
    "oracle_Y0 = []\n",
    "lower_bound_Y0 = []\n",
    "\n",
    "for i in 1:500\n",
    "    df2 = data_generation2(800; K = 1.5, H = 1.5)\n",
    "    push!(upper_bound_Y0, compute_upper_Y0(df2; K = 1.5, H = 1.5))\n",
    "    push!(lower_bound_Y0, compute_lower_Y0(df2; K = 1.5, H = 1.5))\n",
    "    push!(oracle_Y0, mean(df2[df2.G.==0, :Y0]))\n",
    "end\n",
    "\n",
    "histogram(upper_bound_Y0, bins = 50, alpha = 0.1, label = \"upper bound\")\n",
    "histogram!(lower_bound_Y0, bins = 50, alpha = 0.1, label = \"lower bound\")\n",
    "vline!([mean(oracle_Y0)], label = L\"true $Y_{0}$\")"
   ]
  },
  {
   "cell_type": "code",
   "execution_count": 17,
   "metadata": {},
   "outputs": [
    {
     "data": {
      "image/svg+xml": "<?xml version=\"1.0\" encoding=\"utf-8\"?>\n<svg xmlns=\"http://www.w3.org/2000/svg\" xmlns:xlink=\"http://www.w3.org/1999/xlink\" width=\"600\" height=\"400\" viewBox=\"0 0 2400 1600\">\n<defs>\n  <clipPath id=\"clip360\">\n    <rect x=\"0\" y=\"0\" width=\"2400\" height=\"1600\"/>\n  </clipPath>\n</defs>\n<path clip-path=\"url(#clip360)\" d=\"\nM0 1600 L2400 1600 L2400 0 L0 0  Z\n  \" fill=\"#ffffff\" fill-rule=\"evenodd\" fill-opacity=\"1\"/>\n<defs>\n  <clipPath id=\"clip361\">\n    <rect x=\"480\" y=\"0\" width=\"1681\" height=\"1600\"/>\n  </clipPath>\n</defs>\n<path clip-path=\"url(#clip360)\" d=\"\nM136.76 1486.45 L2352.76 1486.45 L2352.76 47.2441 L136.76 47.2441  Z\n  \" fill=\"#ffffff\" fill-rule=\"evenodd\" fill-opacity=\"1\"/>\n<defs>\n  <clipPath id=\"clip362\">\n    <rect x=\"136\" y=\"47\" width=\"2217\" height=\"1440\"/>\n  </clipPath>\n</defs>\n<polyline clip-path=\"url(#clip362)\" style=\"stroke:#000000; stroke-width:2; stroke-opacity:0.1; fill:none\" points=\"\n  143.203,1486.45 143.203,47.2441 \n  \"/>\n<polyline clip-path=\"url(#clip362)\" style=\"stroke:#000000; stroke-width:2; stroke-opacity:0.1; fill:none\" points=\"\n  466.619,1486.45 466.619,47.2441 \n  \"/>\n<polyline clip-path=\"url(#clip362)\" style=\"stroke:#000000; stroke-width:2; stroke-opacity:0.1; fill:none\" points=\"\n  790.035,1486.45 790.035,47.2441 \n  \"/>\n<polyline clip-path=\"url(#clip362)\" style=\"stroke:#000000; stroke-width:2; stroke-opacity:0.1; fill:none\" points=\"\n  1113.45,1486.45 1113.45,47.2441 \n  \"/>\n<polyline clip-path=\"url(#clip362)\" style=\"stroke:#000000; stroke-width:2; stroke-opacity:0.1; fill:none\" points=\"\n  1436.87,1486.45 1436.87,47.2441 \n  \"/>\n<polyline clip-path=\"url(#clip362)\" style=\"stroke:#000000; stroke-width:2; stroke-opacity:0.1; fill:none\" points=\"\n  1760.28,1486.45 1760.28,47.2441 \n  \"/>\n<polyline clip-path=\"url(#clip362)\" style=\"stroke:#000000; stroke-width:2; stroke-opacity:0.1; fill:none\" points=\"\n  2083.7,1486.45 2083.7,47.2441 \n  \"/>\n<polyline clip-path=\"url(#clip360)\" style=\"stroke:#000000; stroke-width:4; stroke-opacity:1; fill:none\" points=\"\n  136.76,1486.45 2352.76,1486.45 \n  \"/>\n<polyline clip-path=\"url(#clip360)\" style=\"stroke:#000000; stroke-width:4; stroke-opacity:1; fill:none\" points=\"\n  143.203,1486.45 143.203,1469.18 \n  \"/>\n<polyline clip-path=\"url(#clip360)\" style=\"stroke:#000000; stroke-width:4; stroke-opacity:1; fill:none\" points=\"\n  466.619,1486.45 466.619,1469.18 \n  \"/>\n<polyline clip-path=\"url(#clip360)\" style=\"stroke:#000000; stroke-width:4; stroke-opacity:1; fill:none\" points=\"\n  790.035,1486.45 790.035,1469.18 \n  \"/>\n<polyline clip-path=\"url(#clip360)\" style=\"stroke:#000000; stroke-width:4; stroke-opacity:1; fill:none\" points=\"\n  1113.45,1486.45 1113.45,1469.18 \n  \"/>\n<polyline clip-path=\"url(#clip360)\" style=\"stroke:#000000; stroke-width:4; stroke-opacity:1; fill:none\" points=\"\n  1436.87,1486.45 1436.87,1469.18 \n  \"/>\n<polyline clip-path=\"url(#clip360)\" style=\"stroke:#000000; stroke-width:4; stroke-opacity:1; fill:none\" points=\"\n  1760.28,1486.45 1760.28,1469.18 \n  \"/>\n<polyline clip-path=\"url(#clip360)\" style=\"stroke:#000000; stroke-width:4; stroke-opacity:1; fill:none\" points=\"\n  2083.7,1486.45 2083.7,1469.18 \n  \"/>\n<path clip-path=\"url(#clip360)\" d=\"M 0 0 M114.106 1512.56 L136.328 1512.56 L136.328 1514.55 L123.782 1547.12 L118.897 1547.12 L130.703 1516.5 L114.106 1516.5 L114.106 1512.56 Z\" fill=\"#000000\" fill-rule=\"evenodd\" fill-opacity=\"1\" /><path clip-path=\"url(#clip360)\" d=\"M 0 0 M141.397 1541.24 L146.282 1541.24 L146.282 1547.12 L141.397 1547.12 L141.397 1541.24 Z\" fill=\"#000000\" fill-rule=\"evenodd\" fill-opacity=\"1\" /><path clip-path=\"url(#clip360)\" d=\"M 0 0 M151.397 1512.56 L169.754 1512.56 L169.754 1516.5 L155.68 1516.5 L155.68 1524.97 Q156.698 1524.62 157.717 1524.46 Q158.735 1524.27 159.754 1524.27 Q165.541 1524.27 168.92 1527.44 Q172.3 1530.62 172.3 1536.03 Q172.3 1541.61 168.828 1544.71 Q165.355 1547.79 159.036 1547.79 Q156.86 1547.79 154.592 1547.42 Q152.346 1547.05 149.939 1546.31 L149.939 1541.61 Q152.022 1542.74 154.244 1543.3 Q156.467 1543.86 158.943 1543.86 Q162.948 1543.86 165.286 1541.75 Q167.624 1539.64 167.624 1536.03 Q167.624 1532.42 165.286 1530.31 Q162.948 1528.21 158.943 1528.21 Q157.068 1528.21 155.194 1528.62 Q153.342 1529.04 151.397 1529.92 L151.397 1512.56 Z\" fill=\"#000000\" fill-rule=\"evenodd\" fill-opacity=\"1\" /><path clip-path=\"url(#clip360)\" d=\"M 0 0 M448.135 1530.71 Q444.802 1530.71 442.881 1532.49 Q440.983 1534.27 440.983 1537.4 Q440.983 1540.52 442.881 1542.31 Q444.802 1544.09 448.135 1544.09 Q451.469 1544.09 453.39 1542.31 Q455.311 1540.5 455.311 1537.4 Q455.311 1534.27 453.39 1532.49 Q451.492 1530.71 448.135 1530.71 M443.459 1528.72 Q440.45 1527.98 438.76 1525.92 Q437.094 1523.86 437.094 1520.89 Q437.094 1516.75 440.033 1514.34 Q442.996 1511.93 448.135 1511.93 Q453.297 1511.93 456.237 1514.34 Q459.177 1516.75 459.177 1520.89 Q459.177 1523.86 457.487 1525.92 Q455.82 1527.98 452.834 1528.72 Q456.214 1529.5 458.089 1531.8 Q459.987 1534.09 459.987 1537.4 Q459.987 1542.42 456.908 1545.11 Q453.853 1547.79 448.135 1547.79 Q442.418 1547.79 439.339 1545.11 Q436.283 1542.42 436.283 1537.4 Q436.283 1534.09 438.182 1531.8 Q440.08 1529.5 443.459 1528.72 M441.746 1521.33 Q441.746 1524.02 443.413 1525.52 Q445.103 1527.03 448.135 1527.03 Q451.144 1527.03 452.834 1525.52 Q454.547 1524.02 454.547 1521.33 Q454.547 1518.65 452.834 1517.14 Q451.144 1515.64 448.135 1515.64 Q445.103 1515.64 443.413 1517.14 Q441.746 1518.65 441.746 1521.33 Z\" fill=\"#000000\" fill-rule=\"evenodd\" fill-opacity=\"1\" /><path clip-path=\"url(#clip360)\" d=\"M 0 0 M465.056 1541.24 L469.941 1541.24 L469.941 1547.12 L465.056 1547.12 L465.056 1541.24 Z\" fill=\"#000000\" fill-rule=\"evenodd\" fill-opacity=\"1\" /><path clip-path=\"url(#clip360)\" d=\"M 0 0 M485.01 1515.64 Q481.399 1515.64 479.57 1519.2 Q477.765 1522.75 477.765 1529.87 Q477.765 1536.98 479.57 1540.55 Q481.399 1544.09 485.01 1544.09 Q488.644 1544.09 490.45 1540.55 Q492.279 1536.98 492.279 1529.87 Q492.279 1522.75 490.45 1519.2 Q488.644 1515.64 485.01 1515.64 M485.01 1511.93 Q490.82 1511.93 493.876 1516.54 Q496.954 1521.12 496.954 1529.87 Q496.954 1538.6 493.876 1543.21 Q490.82 1547.79 485.01 1547.79 Q479.2 1547.79 476.121 1543.21 Q473.066 1538.6 473.066 1529.87 Q473.066 1521.12 476.121 1516.54 Q479.2 1511.93 485.01 1511.93 Z\" fill=\"#000000\" fill-rule=\"evenodd\" fill-opacity=\"1\" /><path clip-path=\"url(#clip360)\" d=\"M 0 0 M772.049 1530.71 Q768.716 1530.71 766.794 1532.49 Q764.896 1534.27 764.896 1537.4 Q764.896 1540.52 766.794 1542.31 Q768.716 1544.09 772.049 1544.09 Q775.382 1544.09 777.304 1542.31 Q779.225 1540.5 779.225 1537.4 Q779.225 1534.27 777.304 1532.49 Q775.406 1530.71 772.049 1530.71 M767.373 1528.72 Q764.364 1527.98 762.674 1525.92 Q761.007 1523.86 761.007 1520.89 Q761.007 1516.75 763.947 1514.34 Q766.91 1511.93 772.049 1511.93 Q777.211 1511.93 780.151 1514.34 Q783.091 1516.75 783.091 1520.89 Q783.091 1523.86 781.401 1525.92 Q779.734 1527.98 776.748 1528.72 Q780.128 1529.5 782.003 1531.8 Q783.901 1534.09 783.901 1537.4 Q783.901 1542.42 780.822 1545.11 Q777.767 1547.79 772.049 1547.79 Q766.331 1547.79 763.253 1545.11 Q760.197 1542.42 760.197 1537.4 Q760.197 1534.09 762.095 1531.8 Q763.994 1529.5 767.373 1528.72 M765.66 1521.33 Q765.66 1524.02 767.327 1525.52 Q769.017 1527.03 772.049 1527.03 Q775.058 1527.03 776.748 1525.52 Q778.461 1524.02 778.461 1521.33 Q778.461 1518.65 776.748 1517.14 Q775.058 1515.64 772.049 1515.64 Q769.017 1515.64 767.327 1517.14 Q765.66 1518.65 765.66 1521.33 Z\" fill=\"#000000\" fill-rule=\"evenodd\" fill-opacity=\"1\" /><path clip-path=\"url(#clip360)\" d=\"M 0 0 M788.97 1541.24 L793.854 1541.24 L793.854 1547.12 L788.97 1547.12 L788.97 1541.24 Z\" fill=\"#000000\" fill-rule=\"evenodd\" fill-opacity=\"1\" /><path clip-path=\"url(#clip360)\" d=\"M 0 0 M798.97 1512.56 L817.327 1512.56 L817.327 1516.5 L803.253 1516.5 L803.253 1524.97 Q804.271 1524.62 805.29 1524.46 Q806.308 1524.27 807.327 1524.27 Q813.114 1524.27 816.493 1527.44 Q819.873 1530.62 819.873 1536.03 Q819.873 1541.61 816.401 1544.71 Q812.928 1547.79 806.609 1547.79 Q804.433 1547.79 802.165 1547.42 Q799.919 1547.05 797.512 1546.31 L797.512 1541.61 Q799.595 1542.74 801.817 1543.3 Q804.04 1543.86 806.516 1543.86 Q810.521 1543.86 812.859 1541.75 Q815.197 1539.64 815.197 1536.03 Q815.197 1532.42 812.859 1530.31 Q810.521 1528.21 806.516 1528.21 Q804.641 1528.21 802.766 1528.62 Q800.915 1529.04 798.97 1529.92 L798.97 1512.56 Z\" fill=\"#000000\" fill-rule=\"evenodd\" fill-opacity=\"1\" /><path clip-path=\"url(#clip360)\" d=\"M 0 0 M1085.27 1546.4 L1085.27 1542.14 Q1087.03 1542.98 1088.83 1543.42 Q1090.64 1543.86 1092.37 1543.86 Q1097 1543.86 1099.44 1540.75 Q1101.89 1537.63 1102.24 1531.29 Q1100.89 1533.28 1098.83 1534.34 Q1096.77 1535.41 1094.27 1535.41 Q1089.09 1535.41 1086.06 1532.28 Q1083.05 1529.13 1083.05 1523.69 Q1083.05 1518.37 1086.19 1515.15 Q1089.34 1511.93 1094.57 1511.93 Q1100.57 1511.93 1103.72 1516.54 Q1106.89 1521.12 1106.89 1529.87 Q1106.89 1538.05 1103 1542.93 Q1099.13 1547.79 1092.58 1547.79 Q1090.82 1547.79 1089.02 1547.44 Q1087.21 1547.1 1085.27 1546.4 M1094.57 1531.75 Q1097.72 1531.75 1099.55 1529.6 Q1101.4 1527.44 1101.4 1523.69 Q1101.4 1519.97 1099.55 1517.81 Q1097.72 1515.64 1094.57 1515.64 Q1091.43 1515.64 1089.57 1517.81 Q1087.75 1519.97 1087.75 1523.69 Q1087.75 1527.44 1089.57 1529.6 Q1091.43 1531.75 1094.57 1531.75 Z\" fill=\"#000000\" fill-rule=\"evenodd\" fill-opacity=\"1\" /><path clip-path=\"url(#clip360)\" d=\"M 0 0 M1111.96 1541.24 L1116.84 1541.24 L1116.84 1547.12 L1111.96 1547.12 L1111.96 1541.24 Z\" fill=\"#000000\" fill-rule=\"evenodd\" fill-opacity=\"1\" /><path clip-path=\"url(#clip360)\" d=\"M 0 0 M1131.91 1515.64 Q1128.3 1515.64 1126.47 1519.2 Q1124.67 1522.75 1124.67 1529.87 Q1124.67 1536.98 1126.47 1540.55 Q1128.3 1544.09 1131.91 1544.09 Q1135.55 1544.09 1137.35 1540.55 Q1139.18 1536.98 1139.18 1529.87 Q1139.18 1522.75 1137.35 1519.2 Q1135.55 1515.64 1131.91 1515.64 M1131.91 1511.93 Q1137.72 1511.93 1140.78 1516.54 Q1143.86 1521.12 1143.86 1529.87 Q1143.86 1538.6 1140.78 1543.21 Q1137.72 1547.79 1131.91 1547.79 Q1126.1 1547.79 1123.02 1543.21 Q1119.97 1538.6 1119.97 1529.87 Q1119.97 1521.12 1123.02 1516.54 Q1126.1 1511.93 1131.91 1511.93 Z\" fill=\"#000000\" fill-rule=\"evenodd\" fill-opacity=\"1\" /><path clip-path=\"url(#clip360)\" d=\"M 0 0 M1409.18 1546.4 L1409.18 1542.14 Q1410.94 1542.98 1412.75 1543.42 Q1414.55 1543.86 1416.29 1543.86 Q1420.92 1543.86 1423.35 1540.75 Q1425.8 1537.63 1426.15 1531.29 Q1424.81 1533.28 1422.75 1534.34 Q1420.69 1535.41 1418.19 1535.41 Q1413 1535.41 1409.97 1532.28 Q1406.96 1529.13 1406.96 1523.69 Q1406.96 1518.37 1410.11 1515.15 Q1413.26 1511.93 1418.49 1511.93 Q1424.48 1511.93 1427.63 1516.54 Q1430.8 1521.12 1430.8 1529.87 Q1430.8 1538.05 1426.91 1542.93 Q1423.05 1547.79 1416.5 1547.79 Q1414.74 1547.79 1412.93 1547.44 Q1411.13 1547.1 1409.18 1546.4 M1418.49 1531.75 Q1421.64 1531.75 1423.46 1529.6 Q1425.32 1527.44 1425.32 1523.69 Q1425.32 1519.97 1423.46 1517.81 Q1421.64 1515.64 1418.49 1515.64 Q1415.34 1515.64 1413.49 1517.81 Q1411.66 1519.97 1411.66 1523.69 Q1411.66 1527.44 1413.49 1529.6 Q1415.34 1531.75 1418.49 1531.75 Z\" fill=\"#000000\" fill-rule=\"evenodd\" fill-opacity=\"1\" /><path clip-path=\"url(#clip360)\" d=\"M 0 0 M1435.87 1541.24 L1440.76 1541.24 L1440.76 1547.12 L1435.87 1547.12 L1435.87 1541.24 Z\" fill=\"#000000\" fill-rule=\"evenodd\" fill-opacity=\"1\" /><path clip-path=\"url(#clip360)\" d=\"M 0 0 M1445.87 1512.56 L1464.23 1512.56 L1464.23 1516.5 L1450.15 1516.5 L1450.15 1524.97 Q1451.17 1524.62 1452.19 1524.46 Q1453.21 1524.27 1454.23 1524.27 Q1460.02 1524.27 1463.39 1527.44 Q1466.77 1530.62 1466.77 1536.03 Q1466.77 1541.61 1463.3 1544.71 Q1459.83 1547.79 1453.51 1547.79 Q1451.33 1547.79 1449.07 1547.42 Q1446.82 1547.05 1444.41 1546.31 L1444.41 1541.61 Q1446.5 1542.74 1448.72 1543.3 Q1450.94 1543.86 1453.42 1543.86 Q1457.42 1543.86 1459.76 1541.75 Q1462.1 1539.64 1462.1 1536.03 Q1462.1 1532.42 1459.76 1530.31 Q1457.42 1528.21 1453.42 1528.21 Q1451.54 1528.21 1449.67 1528.62 Q1447.82 1529.04 1445.87 1529.92 L1445.87 1512.56 Z\" fill=\"#000000\" fill-rule=\"evenodd\" fill-opacity=\"1\" /><path clip-path=\"url(#clip360)\" d=\"M 0 0 M1718.67 1543.18 L1726.31 1543.18 L1726.31 1516.82 L1718 1518.49 L1718 1514.23 L1726.27 1512.56 L1730.94 1512.56 L1730.94 1543.18 L1738.58 1543.18 L1738.58 1547.12 L1718.67 1547.12 L1718.67 1543.18 Z\" fill=\"#000000\" fill-rule=\"evenodd\" fill-opacity=\"1\" /><path clip-path=\"url(#clip360)\" d=\"M 0 0 M1753.65 1515.64 Q1750.04 1515.64 1748.21 1519.2 Q1746.41 1522.75 1746.41 1529.87 Q1746.41 1536.98 1748.21 1540.55 Q1750.04 1544.09 1753.65 1544.09 Q1757.29 1544.09 1759.09 1540.55 Q1760.92 1536.98 1760.92 1529.87 Q1760.92 1522.75 1759.09 1519.2 Q1757.29 1515.64 1753.65 1515.64 M1753.65 1511.93 Q1759.46 1511.93 1762.52 1516.54 Q1765.6 1521.12 1765.6 1529.87 Q1765.6 1538.6 1762.52 1543.21 Q1759.46 1547.79 1753.65 1547.79 Q1747.84 1547.79 1744.76 1543.21 Q1741.71 1538.6 1741.71 1529.87 Q1741.71 1521.12 1744.76 1516.54 Q1747.84 1511.93 1753.65 1511.93 Z\" fill=\"#000000\" fill-rule=\"evenodd\" fill-opacity=\"1\" /><path clip-path=\"url(#clip360)\" d=\"M 0 0 M1770.67 1541.24 L1775.55 1541.24 L1775.55 1547.12 L1770.67 1547.12 L1770.67 1541.24 Z\" fill=\"#000000\" fill-rule=\"evenodd\" fill-opacity=\"1\" /><path clip-path=\"url(#clip360)\" d=\"M 0 0 M1790.62 1515.64 Q1787.01 1515.64 1785.18 1519.2 Q1783.37 1522.75 1783.37 1529.87 Q1783.37 1536.98 1785.18 1540.55 Q1787.01 1544.09 1790.62 1544.09 Q1794.25 1544.09 1796.06 1540.55 Q1797.89 1536.98 1797.89 1529.87 Q1797.89 1522.75 1796.06 1519.2 Q1794.25 1515.64 1790.62 1515.64 M1790.62 1511.93 Q1796.43 1511.93 1799.48 1516.54 Q1802.56 1521.12 1802.56 1529.87 Q1802.56 1538.6 1799.48 1543.21 Q1796.43 1547.79 1790.62 1547.79 Q1784.81 1547.79 1781.73 1543.21 Q1778.67 1538.6 1778.67 1529.87 Q1778.67 1521.12 1781.73 1516.54 Q1784.81 1511.93 1790.62 1511.93 Z\" fill=\"#000000\" fill-rule=\"evenodd\" fill-opacity=\"1\" /><path clip-path=\"url(#clip360)\" d=\"M 0 0 M2042.59 1543.18 L2050.23 1543.18 L2050.23 1516.82 L2041.92 1518.49 L2041.92 1514.23 L2050.18 1512.56 L2054.86 1512.56 L2054.86 1543.18 L2062.5 1543.18 L2062.5 1547.12 L2042.59 1547.12 L2042.59 1543.18 Z\" fill=\"#000000\" fill-rule=\"evenodd\" fill-opacity=\"1\" /><path clip-path=\"url(#clip360)\" d=\"M 0 0 M2077.57 1515.64 Q2073.95 1515.64 2072.13 1519.2 Q2070.32 1522.75 2070.32 1529.87 Q2070.32 1536.98 2072.13 1540.55 Q2073.95 1544.09 2077.57 1544.09 Q2081.2 1544.09 2083.01 1540.55 Q2084.83 1536.98 2084.83 1529.87 Q2084.83 1522.75 2083.01 1519.2 Q2081.2 1515.64 2077.57 1515.64 M2077.57 1511.93 Q2083.38 1511.93 2086.43 1516.54 Q2089.51 1521.12 2089.51 1529.87 Q2089.51 1538.6 2086.43 1543.21 Q2083.38 1547.79 2077.57 1547.79 Q2071.76 1547.79 2068.68 1543.21 Q2065.62 1538.6 2065.62 1529.87 Q2065.62 1521.12 2068.68 1516.54 Q2071.76 1511.93 2077.57 1511.93 Z\" fill=\"#000000\" fill-rule=\"evenodd\" fill-opacity=\"1\" /><path clip-path=\"url(#clip360)\" d=\"M 0 0 M2094.58 1541.24 L2099.46 1541.24 L2099.46 1547.12 L2094.58 1547.12 L2094.58 1541.24 Z\" fill=\"#000000\" fill-rule=\"evenodd\" fill-opacity=\"1\" /><path clip-path=\"url(#clip360)\" d=\"M 0 0 M2104.58 1512.56 L2122.94 1512.56 L2122.94 1516.5 L2108.86 1516.5 L2108.86 1524.97 Q2109.88 1524.62 2110.9 1524.46 Q2111.92 1524.27 2112.94 1524.27 Q2118.72 1524.27 2122.1 1527.44 Q2125.48 1530.62 2125.48 1536.03 Q2125.48 1541.61 2122.01 1544.71 Q2118.54 1547.79 2112.22 1547.79 Q2110.04 1547.79 2107.77 1547.42 Q2105.53 1547.05 2103.12 1546.31 L2103.12 1541.61 Q2105.2 1542.74 2107.43 1543.3 Q2109.65 1543.86 2112.13 1543.86 Q2116.13 1543.86 2118.47 1541.75 Q2120.81 1539.64 2120.81 1536.03 Q2120.81 1532.42 2118.47 1530.31 Q2116.13 1528.21 2112.13 1528.21 Q2110.25 1528.21 2108.38 1528.62 Q2106.52 1529.04 2104.58 1529.92 L2104.58 1512.56 Z\" fill=\"#000000\" fill-rule=\"evenodd\" fill-opacity=\"1\" /><polyline clip-path=\"url(#clip362)\" style=\"stroke:#000000; stroke-width:2; stroke-opacity:0.1; fill:none\" points=\"\n  136.76,1445.72 2352.76,1445.72 \n  \"/>\n<polyline clip-path=\"url(#clip362)\" style=\"stroke:#000000; stroke-width:2; stroke-opacity:0.1; fill:none\" points=\"\n  136.76,1021.42 2352.76,1021.42 \n  \"/>\n<polyline clip-path=\"url(#clip362)\" style=\"stroke:#000000; stroke-width:2; stroke-opacity:0.1; fill:none\" points=\"\n  136.76,597.129 2352.76,597.129 \n  \"/>\n<polyline clip-path=\"url(#clip362)\" style=\"stroke:#000000; stroke-width:2; stroke-opacity:0.1; fill:none\" points=\"\n  136.76,172.835 2352.76,172.835 \n  \"/>\n<polyline clip-path=\"url(#clip360)\" style=\"stroke:#000000; stroke-width:4; stroke-opacity:1; fill:none\" points=\"\n  136.76,1486.45 136.76,47.2441 \n  \"/>\n<polyline clip-path=\"url(#clip360)\" style=\"stroke:#000000; stroke-width:4; stroke-opacity:1; fill:none\" points=\"\n  136.76,1445.72 163.352,1445.72 \n  \"/>\n<polyline clip-path=\"url(#clip360)\" style=\"stroke:#000000; stroke-width:4; stroke-opacity:1; fill:none\" points=\"\n  136.76,1021.42 163.352,1021.42 \n  \"/>\n<polyline clip-path=\"url(#clip360)\" style=\"stroke:#000000; stroke-width:4; stroke-opacity:1; fill:none\" points=\"\n  136.76,597.129 163.352,597.129 \n  \"/>\n<polyline clip-path=\"url(#clip360)\" style=\"stroke:#000000; stroke-width:4; stroke-opacity:1; fill:none\" points=\"\n  136.76,172.835 163.352,172.835 \n  \"/>\n<path clip-path=\"url(#clip360)\" d=\"M 0 0 M88.816 1431.51 Q85.2049 1431.51 83.3762 1435.08 Q81.5707 1438.62 81.5707 1445.75 Q81.5707 1452.86 83.3762 1456.42 Q85.2049 1459.96 88.816 1459.96 Q92.4502 1459.96 94.2558 1456.42 Q96.0845 1452.86 96.0845 1445.75 Q96.0845 1438.62 94.2558 1435.08 Q92.4502 1431.51 88.816 1431.51 M88.816 1427.81 Q94.6262 1427.81 97.6817 1432.42 Q100.76 1437 100.76 1445.75 Q100.76 1454.48 97.6817 1459.08 Q94.6262 1463.67 88.816 1463.67 Q83.0058 1463.67 79.9272 1459.08 Q76.8716 1454.48 76.8716 1445.75 Q76.8716 1437 79.9272 1432.42 Q83.0058 1427.81 88.816 1427.81 Z\" fill=\"#000000\" fill-rule=\"evenodd\" fill-opacity=\"1\" /><path clip-path=\"url(#clip360)\" d=\"M 0 0 M53.8393 1034.77 L61.4782 1034.77 L61.4782 1008.4 L53.168 1010.07 L53.168 1005.81 L61.4319 1004.14 L66.1078 1004.14 L66.1078 1034.77 L73.7466 1034.77 L73.7466 1038.7 L53.8393 1038.7 L53.8393 1034.77 Z\" fill=\"#000000\" fill-rule=\"evenodd\" fill-opacity=\"1\" /><path clip-path=\"url(#clip360)\" d=\"M 0 0 M88.816 1007.22 Q85.2049 1007.22 83.3762 1010.79 Q81.5707 1014.33 81.5707 1021.46 Q81.5707 1028.56 83.3762 1032.13 Q85.2049 1035.67 88.816 1035.67 Q92.4502 1035.67 94.2558 1032.13 Q96.0845 1028.56 96.0845 1021.46 Q96.0845 1014.33 94.2558 1010.79 Q92.4502 1007.22 88.816 1007.22 M88.816 1003.52 Q94.6262 1003.52 97.6817 1008.12 Q100.76 1012.71 100.76 1021.46 Q100.76 1030.18 97.6817 1034.79 Q94.6262 1039.37 88.816 1039.37 Q83.0058 1039.37 79.9272 1034.79 Q76.8716 1030.18 76.8716 1021.46 Q76.8716 1012.71 79.9272 1008.12 Q83.0058 1003.52 88.816 1003.52 Z\" fill=\"#000000\" fill-rule=\"evenodd\" fill-opacity=\"1\" /><path clip-path=\"url(#clip360)\" d=\"M 0 0 M57.4273 610.473 L73.7466 610.473 L73.7466 614.409 L51.8023 614.409 L51.8023 610.473 Q54.4643 607.719 59.0476 603.089 Q63.6541 598.436 64.8346 597.094 Q67.08 594.571 67.9596 592.835 Q68.8624 591.075 68.8624 589.386 Q68.8624 586.631 66.918 584.895 Q64.9967 583.159 61.8948 583.159 Q59.6958 583.159 57.2421 583.923 Q54.8115 584.686 52.0338 586.237 L52.0338 581.515 Q54.8578 580.381 57.3115 579.802 Q59.7652 579.224 61.8023 579.224 Q67.1726 579.224 70.367 581.909 Q73.5614 584.594 73.5614 589.085 Q73.5614 591.214 72.7513 593.136 Q71.9642 595.034 69.8578 597.626 Q69.2791 598.298 66.1772 601.515 Q63.0754 604.71 57.4273 610.473 Z\" fill=\"#000000\" fill-rule=\"evenodd\" fill-opacity=\"1\" /><path clip-path=\"url(#clip360)\" d=\"M 0 0 M88.816 582.927 Q85.2049 582.927 83.3762 586.492 Q81.5707 590.034 81.5707 597.163 Q81.5707 604.27 83.3762 607.835 Q85.2049 611.376 88.816 611.376 Q92.4502 611.376 94.2558 607.835 Q96.0845 604.27 96.0845 597.163 Q96.0845 590.034 94.2558 586.492 Q92.4502 582.927 88.816 582.927 M88.816 579.224 Q94.6262 579.224 97.6817 583.83 Q100.76 588.413 100.76 597.163 Q100.76 605.89 97.6817 610.497 Q94.6262 615.08 88.816 615.08 Q83.0058 615.08 79.9272 610.497 Q76.8716 605.89 76.8716 597.163 Q76.8716 588.413 79.9272 583.83 Q83.0058 579.224 88.816 579.224 Z\" fill=\"#000000\" fill-rule=\"evenodd\" fill-opacity=\"1\" /><path clip-path=\"url(#clip360)\" d=\"M 0 0 M66.617 171.481 Q69.9735 172.198 71.8485 174.467 Q73.7466 176.735 73.7466 180.069 Q73.7466 185.184 70.2281 187.985 Q66.7096 190.786 60.2282 190.786 Q58.0523 190.786 55.7375 190.346 Q53.4458 189.93 50.9921 189.073 L50.9921 184.559 Q52.9366 185.694 55.2514 186.272 Q57.5662 186.851 60.0893 186.851 Q64.4874 186.851 66.7791 185.115 Q69.0939 183.379 69.0939 180.069 Q69.0939 177.013 66.9411 175.3 Q64.8115 173.564 60.9921 173.564 L56.9643 173.564 L56.9643 169.722 L61.1773 169.722 Q64.6263 169.722 66.455 168.356 Q68.2837 166.967 68.2837 164.374 Q68.2837 161.712 66.3856 160.3 Q64.5106 158.865 60.9921 158.865 Q59.0708 158.865 56.8717 159.282 Q54.6727 159.698 52.0338 160.578 L52.0338 156.411 Q54.6958 155.671 57.0106 155.3 Q59.3486 154.93 61.4087 154.93 Q66.7328 154.93 69.8346 157.361 Q72.9365 159.768 72.9365 163.888 Q72.9365 166.759 71.2929 168.749 Q69.6494 170.717 66.617 171.481 Z\" fill=\"#000000\" fill-rule=\"evenodd\" fill-opacity=\"1\" /><path clip-path=\"url(#clip360)\" d=\"M 0 0 M88.816 158.634 Q85.2049 158.634 83.3762 162.198 Q81.5707 165.74 81.5707 172.87 Q81.5707 179.976 83.3762 183.541 Q85.2049 187.083 88.816 187.083 Q92.4502 187.083 94.2558 183.541 Q96.0845 179.976 96.0845 172.87 Q96.0845 165.74 94.2558 162.198 Q92.4502 158.634 88.816 158.634 M88.816 154.93 Q94.6262 154.93 97.6817 159.536 Q100.76 164.12 100.76 172.87 Q100.76 181.597 97.6817 186.203 Q94.6262 190.786 88.816 190.786 Q83.0058 190.786 79.9272 186.203 Q76.8716 181.597 76.8716 172.87 Q76.8716 164.12 79.9272 159.536 Q83.0058 154.93 88.816 154.93 Z\" fill=\"#000000\" fill-rule=\"evenodd\" fill-opacity=\"1\" /><path clip-path=\"url(#clip362)\" d=\"\nM757.693 1403.29 L757.693 1445.72 L790.035 1445.72 L790.035 1403.29 L757.693 1403.29 L757.693 1403.29  Z\n  \" fill=\"#009af9\" fill-rule=\"evenodd\" fill-opacity=\"0.1\"/>\n<polyline clip-path=\"url(#clip362)\" style=\"stroke:#000000; stroke-width:4; stroke-opacity:0.1; fill:none\" points=\"\n  757.693,1403.29 757.693,1445.72 790.035,1445.72 790.035,1403.29 757.693,1403.29 \n  \"/>\n<path clip-path=\"url(#clip362)\" d=\"\nM790.035 1445.72 L790.035 1445.72 L822.377 1445.72 L822.377 1445.72 L790.035 1445.72 L790.035 1445.72  Z\n  \" fill=\"#009af9\" fill-rule=\"evenodd\" fill-opacity=\"0.1\"/>\n<polyline clip-path=\"url(#clip362)\" style=\"stroke:#000000; stroke-width:4; stroke-opacity:0.1; fill:none\" points=\"\n  790.035,1445.72 790.035,1445.72 822.377,1445.72 790.035,1445.72 \n  \"/>\n<path clip-path=\"url(#clip362)\" d=\"\nM822.377 1445.72 L822.377 1445.72 L854.718 1445.72 L854.718 1445.72 L822.377 1445.72 L822.377 1445.72  Z\n  \" fill=\"#009af9\" fill-rule=\"evenodd\" fill-opacity=\"0.1\"/>\n<polyline clip-path=\"url(#clip362)\" style=\"stroke:#000000; stroke-width:4; stroke-opacity:0.1; fill:none\" points=\"\n  822.377,1445.72 822.377,1445.72 854.718,1445.72 822.377,1445.72 \n  \"/>\n<path clip-path=\"url(#clip362)\" d=\"\nM854.718 1403.29 L854.718 1445.72 L887.06 1445.72 L887.06 1403.29 L854.718 1403.29 L854.718 1403.29  Z\n  \" fill=\"#009af9\" fill-rule=\"evenodd\" fill-opacity=\"0.1\"/>\n<polyline clip-path=\"url(#clip362)\" style=\"stroke:#000000; stroke-width:4; stroke-opacity:0.1; fill:none\" points=\"\n  854.718,1403.29 854.718,1445.72 887.06,1445.72 887.06,1403.29 854.718,1403.29 \n  \"/>\n<path clip-path=\"url(#clip362)\" d=\"\nM887.06 1360.86 L887.06 1445.72 L919.402 1445.72 L919.402 1360.86 L887.06 1360.86 L887.06 1360.86  Z\n  \" fill=\"#009af9\" fill-rule=\"evenodd\" fill-opacity=\"0.1\"/>\n<polyline clip-path=\"url(#clip362)\" style=\"stroke:#000000; stroke-width:4; stroke-opacity:0.1; fill:none\" points=\"\n  887.06,1360.86 887.06,1445.72 919.402,1445.72 919.402,1360.86 887.06,1360.86 \n  \"/>\n<path clip-path=\"url(#clip362)\" d=\"\nM919.402 1276 L919.402 1445.72 L951.743 1445.72 L951.743 1276 L919.402 1276 L919.402 1276  Z\n  \" fill=\"#009af9\" fill-rule=\"evenodd\" fill-opacity=\"0.1\"/>\n<polyline clip-path=\"url(#clip362)\" style=\"stroke:#000000; stroke-width:4; stroke-opacity:0.1; fill:none\" points=\"\n  919.402,1276 919.402,1445.72 951.743,1445.72 951.743,1276 919.402,1276 \n  \"/>\n<path clip-path=\"url(#clip362)\" d=\"\nM951.743 1403.29 L951.743 1445.72 L984.085 1445.72 L984.085 1403.29 L951.743 1403.29 L951.743 1403.29  Z\n  \" fill=\"#009af9\" fill-rule=\"evenodd\" fill-opacity=\"0.1\"/>\n<polyline clip-path=\"url(#clip362)\" style=\"stroke:#000000; stroke-width:4; stroke-opacity:0.1; fill:none\" points=\"\n  951.743,1403.29 951.743,1445.72 984.085,1445.72 984.085,1403.29 951.743,1403.29 \n  \"/>\n<path clip-path=\"url(#clip362)\" d=\"\nM984.085 1360.86 L984.085 1445.72 L1016.43 1445.72 L1016.43 1360.86 L984.085 1360.86 L984.085 1360.86  Z\n  \" fill=\"#009af9\" fill-rule=\"evenodd\" fill-opacity=\"0.1\"/>\n<polyline clip-path=\"url(#clip362)\" style=\"stroke:#000000; stroke-width:4; stroke-opacity:0.1; fill:none\" points=\"\n  984.085,1360.86 984.085,1445.72 1016.43,1445.72 1016.43,1360.86 984.085,1360.86 \n  \"/>\n<path clip-path=\"url(#clip362)\" d=\"\nM1016.43 1106.28 L1016.43 1445.72 L1048.77 1445.72 L1048.77 1106.28 L1016.43 1106.28 L1016.43 1106.28  Z\n  \" fill=\"#009af9\" fill-rule=\"evenodd\" fill-opacity=\"0.1\"/>\n<polyline clip-path=\"url(#clip362)\" style=\"stroke:#000000; stroke-width:4; stroke-opacity:0.1; fill:none\" points=\"\n  1016.43,1106.28 1016.43,1445.72 1048.77,1445.72 1048.77,1106.28 1016.43,1106.28 \n  \"/>\n<path clip-path=\"url(#clip362)\" d=\"\nM1048.77 1233.57 L1048.77 1445.72 L1081.11 1445.72 L1081.11 1233.57 L1048.77 1233.57 L1048.77 1233.57  Z\n  \" fill=\"#009af9\" fill-rule=\"evenodd\" fill-opacity=\"0.1\"/>\n<polyline clip-path=\"url(#clip362)\" style=\"stroke:#000000; stroke-width:4; stroke-opacity:0.1; fill:none\" points=\"\n  1048.77,1233.57 1048.77,1445.72 1081.11,1445.72 1081.11,1233.57 1048.77,1233.57 \n  \"/>\n<path clip-path=\"url(#clip362)\" d=\"\nM1081.11 1191.14 L1081.11 1445.72 L1113.45 1445.72 L1113.45 1191.14 L1081.11 1191.14 L1081.11 1191.14  Z\n  \" fill=\"#009af9\" fill-rule=\"evenodd\" fill-opacity=\"0.1\"/>\n<polyline clip-path=\"url(#clip362)\" style=\"stroke:#000000; stroke-width:4; stroke-opacity:0.1; fill:none\" points=\"\n  1081.11,1191.14 1081.11,1445.72 1113.45,1445.72 1113.45,1191.14 1081.11,1191.14 \n  \"/>\n<path clip-path=\"url(#clip362)\" d=\"\nM1113.45 1191.14 L1113.45 1445.72 L1145.79 1445.72 L1145.79 1191.14 L1113.45 1191.14 L1113.45 1191.14  Z\n  \" fill=\"#009af9\" fill-rule=\"evenodd\" fill-opacity=\"0.1\"/>\n<polyline clip-path=\"url(#clip362)\" style=\"stroke:#000000; stroke-width:4; stroke-opacity:0.1; fill:none\" points=\"\n  1113.45,1191.14 1113.45,1445.72 1145.79,1445.72 1145.79,1191.14 1113.45,1191.14 \n  \"/>\n<path clip-path=\"url(#clip362)\" d=\"\nM1145.79 1021.42 L1145.79 1445.72 L1178.13 1445.72 L1178.13 1021.42 L1145.79 1021.42 L1145.79 1021.42  Z\n  \" fill=\"#009af9\" fill-rule=\"evenodd\" fill-opacity=\"0.1\"/>\n<polyline clip-path=\"url(#clip362)\" style=\"stroke:#000000; stroke-width:4; stroke-opacity:0.1; fill:none\" points=\"\n  1145.79,1021.42 1145.79,1445.72 1178.13,1445.72 1178.13,1021.42 1145.79,1021.42 \n  \"/>\n<path clip-path=\"url(#clip362)\" d=\"\nM1178.13 894.134 L1178.13 1445.72 L1210.48 1445.72 L1210.48 894.134 L1178.13 894.134 L1178.13 894.134  Z\n  \" fill=\"#009af9\" fill-rule=\"evenodd\" fill-opacity=\"0.1\"/>\n<polyline clip-path=\"url(#clip362)\" style=\"stroke:#000000; stroke-width:4; stroke-opacity:0.1; fill:none\" points=\"\n  1178.13,894.134 1178.13,1445.72 1210.48,1445.72 1210.48,894.134 1178.13,894.134 \n  \"/>\n<path clip-path=\"url(#clip362)\" d=\"\nM1210.48 724.417 L1210.48 1445.72 L1242.82 1445.72 L1242.82 724.417 L1210.48 724.417 L1210.48 724.417  Z\n  \" fill=\"#009af9\" fill-rule=\"evenodd\" fill-opacity=\"0.1\"/>\n<polyline clip-path=\"url(#clip362)\" style=\"stroke:#000000; stroke-width:4; stroke-opacity:0.1; fill:none\" points=\"\n  1210.48,724.417 1210.48,1445.72 1242.82,1445.72 1242.82,724.417 1210.48,724.417 \n  \"/>\n<path clip-path=\"url(#clip362)\" d=\"\nM1242.82 894.134 L1242.82 1445.72 L1275.16 1445.72 L1275.16 894.134 L1242.82 894.134 L1242.82 894.134  Z\n  \" fill=\"#009af9\" fill-rule=\"evenodd\" fill-opacity=\"0.1\"/>\n<polyline clip-path=\"url(#clip362)\" style=\"stroke:#000000; stroke-width:4; stroke-opacity:0.1; fill:none\" points=\"\n  1242.82,894.134 1242.82,1445.72 1275.16,1445.72 1275.16,894.134 1242.82,894.134 \n  \"/>\n<path clip-path=\"url(#clip362)\" d=\"\nM1275.16 384.982 L1275.16 1445.72 L1307.5 1445.72 L1307.5 384.982 L1275.16 384.982 L1275.16 384.982  Z\n  \" fill=\"#009af9\" fill-rule=\"evenodd\" fill-opacity=\"0.1\"/>\n<polyline clip-path=\"url(#clip362)\" style=\"stroke:#000000; stroke-width:4; stroke-opacity:0.1; fill:none\" points=\"\n  1275.16,384.982 1275.16,1445.72 1307.5,1445.72 1307.5,384.982 1275.16,384.982 \n  \"/>\n<path clip-path=\"url(#clip362)\" d=\"\nM1307.5 597.129 L1307.5 1445.72 L1339.84 1445.72 L1339.84 597.129 L1307.5 597.129 L1307.5 597.129  Z\n  \" fill=\"#009af9\" fill-rule=\"evenodd\" fill-opacity=\"0.1\"/>\n<polyline clip-path=\"url(#clip362)\" style=\"stroke:#000000; stroke-width:4; stroke-opacity:0.1; fill:none\" points=\"\n  1307.5,597.129 1307.5,1445.72 1339.84,1445.72 1339.84,597.129 1307.5,597.129 \n  \"/>\n<path clip-path=\"url(#clip362)\" d=\"\nM1339.84 597.129 L1339.84 1445.72 L1372.18 1445.72 L1372.18 597.129 L1339.84 597.129 L1339.84 597.129  Z\n  \" fill=\"#009af9\" fill-rule=\"evenodd\" fill-opacity=\"0.1\"/>\n<polyline clip-path=\"url(#clip362)\" style=\"stroke:#000000; stroke-width:4; stroke-opacity:0.1; fill:none\" points=\"\n  1339.84,597.129 1339.84,1445.72 1372.18,1445.72 1372.18,597.129 1339.84,597.129 \n  \"/>\n<path clip-path=\"url(#clip362)\" d=\"\nM1372.18 469.84 L1372.18 1445.72 L1404.53 1445.72 L1404.53 469.84 L1372.18 469.84 L1372.18 469.84  Z\n  \" fill=\"#009af9\" fill-rule=\"evenodd\" fill-opacity=\"0.1\"/>\n<polyline clip-path=\"url(#clip362)\" style=\"stroke:#000000; stroke-width:4; stroke-opacity:0.1; fill:none\" points=\"\n  1372.18,469.84 1372.18,1445.72 1404.53,1445.72 1404.53,469.84 1372.18,469.84 \n  \"/>\n<path clip-path=\"url(#clip362)\" d=\"\nM1404.53 342.552 L1404.53 1445.72 L1436.87 1445.72 L1436.87 342.552 L1404.53 342.552 L1404.53 342.552  Z\n  \" fill=\"#009af9\" fill-rule=\"evenodd\" fill-opacity=\"0.1\"/>\n<polyline clip-path=\"url(#clip362)\" style=\"stroke:#000000; stroke-width:4; stroke-opacity:0.1; fill:none\" points=\"\n  1404.53,342.552 1404.53,1445.72 1436.87,1445.72 1436.87,342.552 1404.53,342.552 \n  \"/>\n<path clip-path=\"url(#clip362)\" d=\"\nM1436.87 427.411 L1436.87 1445.72 L1469.21 1445.72 L1469.21 427.411 L1436.87 427.411 L1436.87 427.411  Z\n  \" fill=\"#009af9\" fill-rule=\"evenodd\" fill-opacity=\"0.1\"/>\n<polyline clip-path=\"url(#clip362)\" style=\"stroke:#000000; stroke-width:4; stroke-opacity:0.1; fill:none\" points=\"\n  1436.87,427.411 1436.87,1445.72 1469.21,1445.72 1469.21,427.411 1436.87,427.411 \n  \"/>\n<path clip-path=\"url(#clip362)\" d=\"\nM1469.21 554.699 L1469.21 1445.72 L1501.55 1445.72 L1501.55 554.699 L1469.21 554.699 L1469.21 554.699  Z\n  \" fill=\"#009af9\" fill-rule=\"evenodd\" fill-opacity=\"0.1\"/>\n<polyline clip-path=\"url(#clip362)\" style=\"stroke:#000000; stroke-width:4; stroke-opacity:0.1; fill:none\" points=\"\n  1469.21,554.699 1469.21,1445.72 1501.55,1445.72 1501.55,554.699 1469.21,554.699 \n  \"/>\n<path clip-path=\"url(#clip362)\" d=\"\nM1501.55 87.9763 L1501.55 1445.72 L1533.89 1445.72 L1533.89 87.9763 L1501.55 87.9763 L1501.55 87.9763  Z\n  \" fill=\"#009af9\" fill-rule=\"evenodd\" fill-opacity=\"0.1\"/>\n<polyline clip-path=\"url(#clip362)\" style=\"stroke:#000000; stroke-width:4; stroke-opacity:0.1; fill:none\" points=\"\n  1501.55,87.9763 1501.55,1445.72 1533.89,1445.72 1533.89,87.9763 1501.55,87.9763 \n  \"/>\n<path clip-path=\"url(#clip362)\" d=\"\nM1533.89 554.699 L1533.89 1445.72 L1566.23 1445.72 L1566.23 554.699 L1533.89 554.699 L1533.89 554.699  Z\n  \" fill=\"#009af9\" fill-rule=\"evenodd\" fill-opacity=\"0.1\"/>\n<polyline clip-path=\"url(#clip362)\" style=\"stroke:#000000; stroke-width:4; stroke-opacity:0.1; fill:none\" points=\"\n  1533.89,554.699 1533.89,1445.72 1566.23,1445.72 1566.23,554.699 1533.89,554.699 \n  \"/>\n<path clip-path=\"url(#clip362)\" d=\"\nM1566.23 469.84 L1566.23 1445.72 L1598.58 1445.72 L1598.58 469.84 L1566.23 469.84 L1566.23 469.84  Z\n  \" fill=\"#009af9\" fill-rule=\"evenodd\" fill-opacity=\"0.1\"/>\n<polyline clip-path=\"url(#clip362)\" style=\"stroke:#000000; stroke-width:4; stroke-opacity:0.1; fill:none\" points=\"\n  1566.23,469.84 1566.23,1445.72 1598.58,1445.72 1598.58,469.84 1566.23,469.84 \n  \"/>\n<path clip-path=\"url(#clip362)\" d=\"\nM1598.58 512.27 L1598.58 1445.72 L1630.92 1445.72 L1630.92 512.27 L1598.58 512.27 L1598.58 512.27  Z\n  \" fill=\"#009af9\" fill-rule=\"evenodd\" fill-opacity=\"0.1\"/>\n<polyline clip-path=\"url(#clip362)\" style=\"stroke:#000000; stroke-width:4; stroke-opacity:0.1; fill:none\" points=\"\n  1598.58,512.27 1598.58,1445.72 1630.92,1445.72 1630.92,512.27 1598.58,512.27 \n  \"/>\n<path clip-path=\"url(#clip362)\" d=\"\nM1630.92 597.129 L1630.92 1445.72 L1663.26 1445.72 L1663.26 597.129 L1630.92 597.129 L1630.92 597.129  Z\n  \" fill=\"#009af9\" fill-rule=\"evenodd\" fill-opacity=\"0.1\"/>\n<polyline clip-path=\"url(#clip362)\" style=\"stroke:#000000; stroke-width:4; stroke-opacity:0.1; fill:none\" points=\"\n  1630.92,597.129 1630.92,1445.72 1663.26,1445.72 1663.26,597.129 1630.92,597.129 \n  \"/>\n<path clip-path=\"url(#clip362)\" d=\"\nM1663.26 469.84 L1663.26 1445.72 L1695.6 1445.72 L1695.6 469.84 L1663.26 469.84 L1663.26 469.84  Z\n  \" fill=\"#009af9\" fill-rule=\"evenodd\" fill-opacity=\"0.1\"/>\n<polyline clip-path=\"url(#clip362)\" style=\"stroke:#000000; stroke-width:4; stroke-opacity:0.1; fill:none\" points=\"\n  1663.26,469.84 1663.26,1445.72 1695.6,1445.72 1695.6,469.84 1663.26,469.84 \n  \"/>\n<path clip-path=\"url(#clip362)\" d=\"\nM1695.6 554.699 L1695.6 1445.72 L1727.94 1445.72 L1727.94 554.699 L1695.6 554.699 L1695.6 554.699  Z\n  \" fill=\"#009af9\" fill-rule=\"evenodd\" fill-opacity=\"0.1\"/>\n<polyline clip-path=\"url(#clip362)\" style=\"stroke:#000000; stroke-width:4; stroke-opacity:0.1; fill:none\" points=\"\n  1695.6,554.699 1695.6,1445.72 1727.94,1445.72 1727.94,554.699 1695.6,554.699 \n  \"/>\n<path clip-path=\"url(#clip362)\" d=\"\nM1727.94 597.129 L1727.94 1445.72 L1760.28 1445.72 L1760.28 597.129 L1727.94 597.129 L1727.94 597.129  Z\n  \" fill=\"#009af9\" fill-rule=\"evenodd\" fill-opacity=\"0.1\"/>\n<polyline clip-path=\"url(#clip362)\" style=\"stroke:#000000; stroke-width:4; stroke-opacity:0.1; fill:none\" points=\"\n  1727.94,597.129 1727.94,1445.72 1760.28,1445.72 1760.28,597.129 1727.94,597.129 \n  \"/>\n<path clip-path=\"url(#clip362)\" d=\"\nM1760.28 809.275 L1760.28 1445.72 L1792.63 1445.72 L1792.63 809.275 L1760.28 809.275 L1760.28 809.275  Z\n  \" fill=\"#009af9\" fill-rule=\"evenodd\" fill-opacity=\"0.1\"/>\n<polyline clip-path=\"url(#clip362)\" style=\"stroke:#000000; stroke-width:4; stroke-opacity:0.1; fill:none\" points=\"\n  1760.28,809.275 1760.28,1445.72 1792.63,1445.72 1792.63,809.275 1760.28,809.275 \n  \"/>\n<path clip-path=\"url(#clip362)\" d=\"\nM1792.63 936.563 L1792.63 1445.72 L1824.97 1445.72 L1824.97 936.563 L1792.63 936.563 L1792.63 936.563  Z\n  \" fill=\"#009af9\" fill-rule=\"evenodd\" fill-opacity=\"0.1\"/>\n<polyline clip-path=\"url(#clip362)\" style=\"stroke:#000000; stroke-width:4; stroke-opacity:0.1; fill:none\" points=\"\n  1792.63,936.563 1792.63,1445.72 1824.97,1445.72 1824.97,936.563 1792.63,936.563 \n  \"/>\n<path clip-path=\"url(#clip362)\" d=\"\nM1824.97 1063.85 L1824.97 1445.72 L1857.31 1445.72 L1857.31 1063.85 L1824.97 1063.85 L1824.97 1063.85  Z\n  \" fill=\"#009af9\" fill-rule=\"evenodd\" fill-opacity=\"0.1\"/>\n<polyline clip-path=\"url(#clip362)\" style=\"stroke:#000000; stroke-width:4; stroke-opacity:0.1; fill:none\" points=\"\n  1824.97,1063.85 1824.97,1445.72 1857.31,1445.72 1857.31,1063.85 1824.97,1063.85 \n  \"/>\n<path clip-path=\"url(#clip362)\" d=\"\nM1857.31 1276 L1857.31 1445.72 L1889.65 1445.72 L1889.65 1276 L1857.31 1276 L1857.31 1276  Z\n  \" fill=\"#009af9\" fill-rule=\"evenodd\" fill-opacity=\"0.1\"/>\n<polyline clip-path=\"url(#clip362)\" style=\"stroke:#000000; stroke-width:4; stroke-opacity:0.1; fill:none\" points=\"\n  1857.31,1276 1857.31,1445.72 1889.65,1445.72 1889.65,1276 1857.31,1276 \n  \"/>\n<path clip-path=\"url(#clip362)\" d=\"\nM1889.65 1106.28 L1889.65 1445.72 L1921.99 1445.72 L1921.99 1106.28 L1889.65 1106.28 L1889.65 1106.28  Z\n  \" fill=\"#009af9\" fill-rule=\"evenodd\" fill-opacity=\"0.1\"/>\n<polyline clip-path=\"url(#clip362)\" style=\"stroke:#000000; stroke-width:4; stroke-opacity:0.1; fill:none\" points=\"\n  1889.65,1106.28 1889.65,1445.72 1921.99,1445.72 1921.99,1106.28 1889.65,1106.28 \n  \"/>\n<path clip-path=\"url(#clip362)\" d=\"\nM1921.99 1148.71 L1921.99 1445.72 L1954.33 1445.72 L1954.33 1148.71 L1921.99 1148.71 L1921.99 1148.71  Z\n  \" fill=\"#009af9\" fill-rule=\"evenodd\" fill-opacity=\"0.1\"/>\n<polyline clip-path=\"url(#clip362)\" style=\"stroke:#000000; stroke-width:4; stroke-opacity:0.1; fill:none\" points=\"\n  1921.99,1148.71 1921.99,1445.72 1954.33,1445.72 1954.33,1148.71 1921.99,1148.71 \n  \"/>\n<path clip-path=\"url(#clip362)\" d=\"\nM1954.33 1191.14 L1954.33 1445.72 L1986.67 1445.72 L1986.67 1191.14 L1954.33 1191.14 L1954.33 1191.14  Z\n  \" fill=\"#009af9\" fill-rule=\"evenodd\" fill-opacity=\"0.1\"/>\n<polyline clip-path=\"url(#clip362)\" style=\"stroke:#000000; stroke-width:4; stroke-opacity:0.1; fill:none\" points=\"\n  1954.33,1191.14 1954.33,1445.72 1986.67,1445.72 1986.67,1191.14 1954.33,1191.14 \n  \"/>\n<path clip-path=\"url(#clip362)\" d=\"\nM1986.67 1403.29 L1986.67 1445.72 L2019.02 1445.72 L2019.02 1403.29 L1986.67 1403.29 L1986.67 1403.29  Z\n  \" fill=\"#009af9\" fill-rule=\"evenodd\" fill-opacity=\"0.1\"/>\n<polyline clip-path=\"url(#clip362)\" style=\"stroke:#000000; stroke-width:4; stroke-opacity:0.1; fill:none\" points=\"\n  1986.67,1403.29 1986.67,1445.72 2019.02,1445.72 2019.02,1403.29 1986.67,1403.29 \n  \"/>\n<path clip-path=\"url(#clip362)\" d=\"\nM2019.02 1318.43 L2019.02 1445.72 L2051.36 1445.72 L2051.36 1318.43 L2019.02 1318.43 L2019.02 1318.43  Z\n  \" fill=\"#009af9\" fill-rule=\"evenodd\" fill-opacity=\"0.1\"/>\n<polyline clip-path=\"url(#clip362)\" style=\"stroke:#000000; stroke-width:4; stroke-opacity:0.1; fill:none\" points=\"\n  2019.02,1318.43 2019.02,1445.72 2051.36,1445.72 2051.36,1318.43 2019.02,1318.43 \n  \"/>\n<path clip-path=\"url(#clip362)\" d=\"\nM2051.36 1445.72 L2051.36 1445.72 L2083.7 1445.72 L2083.7 1445.72 L2051.36 1445.72 L2051.36 1445.72  Z\n  \" fill=\"#009af9\" fill-rule=\"evenodd\" fill-opacity=\"0.1\"/>\n<polyline clip-path=\"url(#clip362)\" style=\"stroke:#000000; stroke-width:4; stroke-opacity:0.1; fill:none\" points=\"\n  2051.36,1445.72 2051.36,1445.72 2083.7,1445.72 2051.36,1445.72 \n  \"/>\n<path clip-path=\"url(#clip362)\" d=\"\nM2083.7 1445.72 L2083.7 1445.72 L2116.04 1445.72 L2116.04 1445.72 L2083.7 1445.72 L2083.7 1445.72  Z\n  \" fill=\"#009af9\" fill-rule=\"evenodd\" fill-opacity=\"0.1\"/>\n<polyline clip-path=\"url(#clip362)\" style=\"stroke:#000000; stroke-width:4; stroke-opacity:0.1; fill:none\" points=\"\n  2083.7,1445.72 2083.7,1445.72 2116.04,1445.72 2083.7,1445.72 \n  \"/>\n<path clip-path=\"url(#clip362)\" d=\"\nM2116.04 1360.86 L2116.04 1445.72 L2148.38 1445.72 L2148.38 1360.86 L2116.04 1360.86 L2116.04 1360.86  Z\n  \" fill=\"#009af9\" fill-rule=\"evenodd\" fill-opacity=\"0.1\"/>\n<polyline clip-path=\"url(#clip362)\" style=\"stroke:#000000; stroke-width:4; stroke-opacity:0.1; fill:none\" points=\"\n  2116.04,1360.86 2116.04,1445.72 2148.38,1445.72 2148.38,1360.86 2116.04,1360.86 \n  \"/>\n<path clip-path=\"url(#clip362)\" d=\"\nM2148.38 1360.86 L2148.38 1445.72 L2180.72 1445.72 L2180.72 1360.86 L2148.38 1360.86 L2148.38 1360.86  Z\n  \" fill=\"#009af9\" fill-rule=\"evenodd\" fill-opacity=\"0.1\"/>\n<polyline clip-path=\"url(#clip362)\" style=\"stroke:#000000; stroke-width:4; stroke-opacity:0.1; fill:none\" points=\"\n  2148.38,1360.86 2148.38,1445.72 2180.72,1445.72 2180.72,1360.86 2148.38,1360.86 \n  \"/>\n<path clip-path=\"url(#clip362)\" d=\"\nM2180.72 1445.72 L2180.72 1445.72 L2213.07 1445.72 L2213.07 1445.72 L2180.72 1445.72 L2180.72 1445.72  Z\n  \" fill=\"#009af9\" fill-rule=\"evenodd\" fill-opacity=\"0.1\"/>\n<polyline clip-path=\"url(#clip362)\" style=\"stroke:#000000; stroke-width:4; stroke-opacity:0.1; fill:none\" points=\"\n  2180.72,1445.72 2180.72,1445.72 2213.07,1445.72 2180.72,1445.72 \n  \"/>\n<path clip-path=\"url(#clip362)\" d=\"\nM2213.07 1403.29 L2213.07 1445.72 L2245.41 1445.72 L2245.41 1403.29 L2213.07 1403.29 L2213.07 1403.29  Z\n  \" fill=\"#009af9\" fill-rule=\"evenodd\" fill-opacity=\"0.1\"/>\n<polyline clip-path=\"url(#clip362)\" style=\"stroke:#000000; stroke-width:4; stroke-opacity:0.1; fill:none\" points=\"\n  2213.07,1403.29 2213.07,1445.72 2245.41,1445.72 2245.41,1403.29 2213.07,1403.29 \n  \"/>\n<path clip-path=\"url(#clip362)\" d=\"\nM240.228 1403.29 L240.228 1445.72 L272.569 1445.72 L272.569 1403.29 L240.228 1403.29 L240.228 1403.29  Z\n  \" fill=\"#e26f46\" fill-rule=\"evenodd\" fill-opacity=\"0.1\"/>\n<polyline clip-path=\"url(#clip362)\" style=\"stroke:#000000; stroke-width:4; stroke-opacity:0.1; fill:none\" points=\"\n  240.228,1403.29 240.228,1445.72 272.569,1445.72 272.569,1403.29 240.228,1403.29 \n  \"/>\n<path clip-path=\"url(#clip362)\" d=\"\nM272.569 1445.72 L272.569 1445.72 L304.911 1445.72 L304.911 1445.72 L272.569 1445.72 L272.569 1445.72  Z\n  \" fill=\"#e26f46\" fill-rule=\"evenodd\" fill-opacity=\"0.1\"/>\n<polyline clip-path=\"url(#clip362)\" style=\"stroke:#000000; stroke-width:4; stroke-opacity:0.1; fill:none\" points=\"\n  272.569,1445.72 272.569,1445.72 304.911,1445.72 272.569,1445.72 \n  \"/>\n<path clip-path=\"url(#clip362)\" d=\"\nM304.911 1403.29 L304.911 1445.72 L337.253 1445.72 L337.253 1403.29 L304.911 1403.29 L304.911 1403.29  Z\n  \" fill=\"#e26f46\" fill-rule=\"evenodd\" fill-opacity=\"0.1\"/>\n<polyline clip-path=\"url(#clip362)\" style=\"stroke:#000000; stroke-width:4; stroke-opacity:0.1; fill:none\" points=\"\n  304.911,1403.29 304.911,1445.72 337.253,1445.72 337.253,1403.29 304.911,1403.29 \n  \"/>\n<path clip-path=\"url(#clip362)\" d=\"\nM337.253 1318.43 L337.253 1445.72 L369.594 1445.72 L369.594 1318.43 L337.253 1318.43 L337.253 1318.43  Z\n  \" fill=\"#e26f46\" fill-rule=\"evenodd\" fill-opacity=\"0.1\"/>\n<polyline clip-path=\"url(#clip362)\" style=\"stroke:#000000; stroke-width:4; stroke-opacity:0.1; fill:none\" points=\"\n  337.253,1318.43 337.253,1445.72 369.594,1445.72 369.594,1318.43 337.253,1318.43 \n  \"/>\n<path clip-path=\"url(#clip362)\" d=\"\nM369.594 1276 L369.594 1445.72 L401.936 1445.72 L401.936 1276 L369.594 1276 L369.594 1276  Z\n  \" fill=\"#e26f46\" fill-rule=\"evenodd\" fill-opacity=\"0.1\"/>\n<polyline clip-path=\"url(#clip362)\" style=\"stroke:#000000; stroke-width:4; stroke-opacity:0.1; fill:none\" points=\"\n  369.594,1276 369.594,1445.72 401.936,1445.72 401.936,1276 369.594,1276 \n  \"/>\n<path clip-path=\"url(#clip362)\" d=\"\nM401.936 1318.43 L401.936 1445.72 L434.277 1445.72 L434.277 1318.43 L401.936 1318.43 L401.936 1318.43  Z\n  \" fill=\"#e26f46\" fill-rule=\"evenodd\" fill-opacity=\"0.1\"/>\n<polyline clip-path=\"url(#clip362)\" style=\"stroke:#000000; stroke-width:4; stroke-opacity:0.1; fill:none\" points=\"\n  401.936,1318.43 401.936,1445.72 434.277,1445.72 434.277,1318.43 401.936,1318.43 \n  \"/>\n<path clip-path=\"url(#clip362)\" d=\"\nM434.277 1360.86 L434.277 1445.72 L466.619 1445.72 L466.619 1360.86 L434.277 1360.86 L434.277 1360.86  Z\n  \" fill=\"#e26f46\" fill-rule=\"evenodd\" fill-opacity=\"0.1\"/>\n<polyline clip-path=\"url(#clip362)\" style=\"stroke:#000000; stroke-width:4; stroke-opacity:0.1; fill:none\" points=\"\n  434.277,1360.86 434.277,1445.72 466.619,1445.72 466.619,1360.86 434.277,1360.86 \n  \"/>\n<path clip-path=\"url(#clip362)\" d=\"\nM466.619 1318.43 L466.619 1445.72 L498.961 1445.72 L498.961 1318.43 L466.619 1318.43 L466.619 1318.43  Z\n  \" fill=\"#e26f46\" fill-rule=\"evenodd\" fill-opacity=\"0.1\"/>\n<polyline clip-path=\"url(#clip362)\" style=\"stroke:#000000; stroke-width:4; stroke-opacity:0.1; fill:none\" points=\"\n  466.619,1318.43 466.619,1445.72 498.961,1445.72 498.961,1318.43 466.619,1318.43 \n  \"/>\n<path clip-path=\"url(#clip362)\" d=\"\nM498.961 1233.57 L498.961 1445.72 L531.302 1445.72 L531.302 1233.57 L498.961 1233.57 L498.961 1233.57  Z\n  \" fill=\"#e26f46\" fill-rule=\"evenodd\" fill-opacity=\"0.1\"/>\n<polyline clip-path=\"url(#clip362)\" style=\"stroke:#000000; stroke-width:4; stroke-opacity:0.1; fill:none\" points=\"\n  498.961,1233.57 498.961,1445.72 531.302,1445.72 531.302,1233.57 498.961,1233.57 \n  \"/>\n<path clip-path=\"url(#clip362)\" d=\"\nM531.302 1360.86 L531.302 1445.72 L563.644 1445.72 L563.644 1360.86 L531.302 1360.86 L531.302 1360.86  Z\n  \" fill=\"#e26f46\" fill-rule=\"evenodd\" fill-opacity=\"0.1\"/>\n<polyline clip-path=\"url(#clip362)\" style=\"stroke:#000000; stroke-width:4; stroke-opacity:0.1; fill:none\" points=\"\n  531.302,1360.86 531.302,1445.72 563.644,1445.72 563.644,1360.86 531.302,1360.86 \n  \"/>\n<path clip-path=\"url(#clip362)\" d=\"\nM563.644 978.993 L563.644 1445.72 L595.985 1445.72 L595.985 978.993 L563.644 978.993 L563.644 978.993  Z\n  \" fill=\"#e26f46\" fill-rule=\"evenodd\" fill-opacity=\"0.1\"/>\n<polyline clip-path=\"url(#clip362)\" style=\"stroke:#000000; stroke-width:4; stroke-opacity:0.1; fill:none\" points=\"\n  563.644,978.993 563.644,1445.72 595.985,1445.72 595.985,978.993 563.644,978.993 \n  \"/>\n<path clip-path=\"url(#clip362)\" d=\"\nM595.985 1106.28 L595.985 1445.72 L628.327 1445.72 L628.327 1106.28 L595.985 1106.28 L595.985 1106.28  Z\n  \" fill=\"#e26f46\" fill-rule=\"evenodd\" fill-opacity=\"0.1\"/>\n<polyline clip-path=\"url(#clip362)\" style=\"stroke:#000000; stroke-width:4; stroke-opacity:0.1; fill:none\" points=\"\n  595.985,1106.28 595.985,1445.72 628.327,1445.72 628.327,1106.28 595.985,1106.28 \n  \"/>\n<path clip-path=\"url(#clip362)\" d=\"\nM628.327 1021.42 L628.327 1445.72 L660.669 1445.72 L660.669 1021.42 L628.327 1021.42 L628.327 1021.42  Z\n  \" fill=\"#e26f46\" fill-rule=\"evenodd\" fill-opacity=\"0.1\"/>\n<polyline clip-path=\"url(#clip362)\" style=\"stroke:#000000; stroke-width:4; stroke-opacity:0.1; fill:none\" points=\"\n  628.327,1021.42 628.327,1445.72 660.669,1445.72 660.669,1021.42 628.327,1021.42 \n  \"/>\n<path clip-path=\"url(#clip362)\" d=\"\nM660.669 639.558 L660.669 1445.72 L693.01 1445.72 L693.01 639.558 L660.669 639.558 L660.669 639.558  Z\n  \" fill=\"#e26f46\" fill-rule=\"evenodd\" fill-opacity=\"0.1\"/>\n<polyline clip-path=\"url(#clip362)\" style=\"stroke:#000000; stroke-width:4; stroke-opacity:0.1; fill:none\" points=\"\n  660.669,639.558 660.669,1445.72 693.01,1445.72 693.01,639.558 660.669,639.558 \n  \"/>\n<path clip-path=\"url(#clip362)\" d=\"\nM693.01 639.558 L693.01 1445.72 L725.352 1445.72 L725.352 639.558 L693.01 639.558 L693.01 639.558  Z\n  \" fill=\"#e26f46\" fill-rule=\"evenodd\" fill-opacity=\"0.1\"/>\n<polyline clip-path=\"url(#clip362)\" style=\"stroke:#000000; stroke-width:4; stroke-opacity:0.1; fill:none\" points=\"\n  693.01,639.558 693.01,1445.72 725.352,1445.72 725.352,639.558 693.01,639.558 \n  \"/>\n<path clip-path=\"url(#clip362)\" d=\"\nM725.352 681.987 L725.352 1445.72 L757.693 1445.72 L757.693 681.987 L725.352 681.987 L725.352 681.987  Z\n  \" fill=\"#e26f46\" fill-rule=\"evenodd\" fill-opacity=\"0.1\"/>\n<polyline clip-path=\"url(#clip362)\" style=\"stroke:#000000; stroke-width:4; stroke-opacity:0.1; fill:none\" points=\"\n  725.352,681.987 725.352,1445.72 757.693,1445.72 757.693,681.987 725.352,681.987 \n  \"/>\n<path clip-path=\"url(#clip362)\" d=\"\nM757.693 809.275 L757.693 1445.72 L790.035 1445.72 L790.035 809.275 L757.693 809.275 L757.693 809.275  Z\n  \" fill=\"#e26f46\" fill-rule=\"evenodd\" fill-opacity=\"0.1\"/>\n<polyline clip-path=\"url(#clip362)\" style=\"stroke:#000000; stroke-width:4; stroke-opacity:0.1; fill:none\" points=\"\n  757.693,809.275 757.693,1445.72 790.035,1445.72 790.035,809.275 757.693,809.275 \n  \"/>\n<path clip-path=\"url(#clip362)\" d=\"\nM790.035 597.129 L790.035 1445.72 L822.377 1445.72 L822.377 597.129 L790.035 597.129 L790.035 597.129  Z\n  \" fill=\"#e26f46\" fill-rule=\"evenodd\" fill-opacity=\"0.1\"/>\n<polyline clip-path=\"url(#clip362)\" style=\"stroke:#000000; stroke-width:4; stroke-opacity:0.1; fill:none\" points=\"\n  790.035,597.129 790.035,1445.72 822.377,1445.72 822.377,597.129 790.035,597.129 \n  \"/>\n<path clip-path=\"url(#clip362)\" d=\"\nM822.377 427.411 L822.377 1445.72 L854.718 1445.72 L854.718 427.411 L822.377 427.411 L822.377 427.411  Z\n  \" fill=\"#e26f46\" fill-rule=\"evenodd\" fill-opacity=\"0.1\"/>\n<polyline clip-path=\"url(#clip362)\" style=\"stroke:#000000; stroke-width:4; stroke-opacity:0.1; fill:none\" points=\"\n  822.377,427.411 822.377,1445.72 854.718,1445.72 854.718,427.411 822.377,427.411 \n  \"/>\n<path clip-path=\"url(#clip362)\" d=\"\nM854.718 130.406 L854.718 1445.72 L887.06 1445.72 L887.06 130.406 L854.718 130.406 L854.718 130.406  Z\n  \" fill=\"#e26f46\" fill-rule=\"evenodd\" fill-opacity=\"0.1\"/>\n<polyline clip-path=\"url(#clip362)\" style=\"stroke:#000000; stroke-width:4; stroke-opacity:0.1; fill:none\" points=\"\n  854.718,130.406 854.718,1445.72 887.06,1445.72 887.06,130.406 854.718,130.406 \n  \"/>\n<path clip-path=\"url(#clip362)\" d=\"\nM887.06 215.264 L887.06 1445.72 L919.402 1445.72 L919.402 215.264 L887.06 215.264 L887.06 215.264  Z\n  \" fill=\"#e26f46\" fill-rule=\"evenodd\" fill-opacity=\"0.1\"/>\n<polyline clip-path=\"url(#clip362)\" style=\"stroke:#000000; stroke-width:4; stroke-opacity:0.1; fill:none\" points=\"\n  887.06,215.264 887.06,1445.72 919.402,1445.72 919.402,215.264 887.06,215.264 \n  \"/>\n<path clip-path=\"url(#clip362)\" d=\"\nM919.402 469.84 L919.402 1445.72 L951.743 1445.72 L951.743 469.84 L919.402 469.84 L919.402 469.84  Z\n  \" fill=\"#e26f46\" fill-rule=\"evenodd\" fill-opacity=\"0.1\"/>\n<polyline clip-path=\"url(#clip362)\" style=\"stroke:#000000; stroke-width:4; stroke-opacity:0.1; fill:none\" points=\"\n  919.402,469.84 919.402,1445.72 951.743,1445.72 951.743,469.84 919.402,469.84 \n  \"/>\n<path clip-path=\"url(#clip362)\" d=\"\nM951.743 512.27 L951.743 1445.72 L984.085 1445.72 L984.085 512.27 L951.743 512.27 L951.743 512.27  Z\n  \" fill=\"#e26f46\" fill-rule=\"evenodd\" fill-opacity=\"0.1\"/>\n<polyline clip-path=\"url(#clip362)\" style=\"stroke:#000000; stroke-width:4; stroke-opacity:0.1; fill:none\" points=\"\n  951.743,512.27 951.743,1445.72 984.085,1445.72 984.085,512.27 951.743,512.27 \n  \"/>\n<path clip-path=\"url(#clip362)\" d=\"\nM984.085 257.694 L984.085 1445.72 L1016.43 1445.72 L1016.43 257.694 L984.085 257.694 L984.085 257.694  Z\n  \" fill=\"#e26f46\" fill-rule=\"evenodd\" fill-opacity=\"0.1\"/>\n<polyline clip-path=\"url(#clip362)\" style=\"stroke:#000000; stroke-width:4; stroke-opacity:0.1; fill:none\" points=\"\n  984.085,257.694 984.085,1445.72 1016.43,1445.72 1016.43,257.694 984.085,257.694 \n  \"/>\n<path clip-path=\"url(#clip362)\" d=\"\nM1016.43 554.699 L1016.43 1445.72 L1048.77 1445.72 L1048.77 554.699 L1016.43 554.699 L1016.43 554.699  Z\n  \" fill=\"#e26f46\" fill-rule=\"evenodd\" fill-opacity=\"0.1\"/>\n<polyline clip-path=\"url(#clip362)\" style=\"stroke:#000000; stroke-width:4; stroke-opacity:0.1; fill:none\" points=\"\n  1016.43,554.699 1016.43,1445.72 1048.77,1445.72 1048.77,554.699 1016.43,554.699 \n  \"/>\n<path clip-path=\"url(#clip362)\" d=\"\nM1048.77 597.129 L1048.77 1445.72 L1081.11 1445.72 L1081.11 597.129 L1048.77 597.129 L1048.77 597.129  Z\n  \" fill=\"#e26f46\" fill-rule=\"evenodd\" fill-opacity=\"0.1\"/>\n<polyline clip-path=\"url(#clip362)\" style=\"stroke:#000000; stroke-width:4; stroke-opacity:0.1; fill:none\" points=\"\n  1048.77,597.129 1048.77,1445.72 1081.11,1445.72 1081.11,597.129 1048.77,597.129 \n  \"/>\n<path clip-path=\"url(#clip362)\" d=\"\nM1081.11 512.27 L1081.11 1445.72 L1113.45 1445.72 L1113.45 512.27 L1081.11 512.27 L1081.11 512.27  Z\n  \" fill=\"#e26f46\" fill-rule=\"evenodd\" fill-opacity=\"0.1\"/>\n<polyline clip-path=\"url(#clip362)\" style=\"stroke:#000000; stroke-width:4; stroke-opacity:0.1; fill:none\" points=\"\n  1081.11,512.27 1081.11,1445.72 1113.45,1445.72 1113.45,512.27 1081.11,512.27 \n  \"/>\n<path clip-path=\"url(#clip362)\" d=\"\nM1113.45 215.264 L1113.45 1445.72 L1145.79 1445.72 L1145.79 215.264 L1113.45 215.264 L1113.45 215.264  Z\n  \" fill=\"#e26f46\" fill-rule=\"evenodd\" fill-opacity=\"0.1\"/>\n<polyline clip-path=\"url(#clip362)\" style=\"stroke:#000000; stroke-width:4; stroke-opacity:0.1; fill:none\" points=\"\n  1113.45,215.264 1113.45,1445.72 1145.79,1445.72 1145.79,215.264 1113.45,215.264 \n  \"/>\n<path clip-path=\"url(#clip362)\" d=\"\nM1145.79 342.552 L1145.79 1445.72 L1178.13 1445.72 L1178.13 342.552 L1145.79 342.552 L1145.79 342.552  Z\n  \" fill=\"#e26f46\" fill-rule=\"evenodd\" fill-opacity=\"0.1\"/>\n<polyline clip-path=\"url(#clip362)\" style=\"stroke:#000000; stroke-width:4; stroke-opacity:0.1; fill:none\" points=\"\n  1145.79,342.552 1145.79,1445.72 1178.13,1445.72 1178.13,342.552 1145.79,342.552 \n  \"/>\n<path clip-path=\"url(#clip362)\" d=\"\nM1178.13 681.987 L1178.13 1445.72 L1210.48 1445.72 L1210.48 681.987 L1178.13 681.987 L1178.13 681.987  Z\n  \" fill=\"#e26f46\" fill-rule=\"evenodd\" fill-opacity=\"0.1\"/>\n<polyline clip-path=\"url(#clip362)\" style=\"stroke:#000000; stroke-width:4; stroke-opacity:0.1; fill:none\" points=\"\n  1178.13,681.987 1178.13,1445.72 1210.48,1445.72 1210.48,681.987 1178.13,681.987 \n  \"/>\n<path clip-path=\"url(#clip362)\" d=\"\nM1210.48 894.134 L1210.48 1445.72 L1242.82 1445.72 L1242.82 894.134 L1210.48 894.134 L1210.48 894.134  Z\n  \" fill=\"#e26f46\" fill-rule=\"evenodd\" fill-opacity=\"0.1\"/>\n<polyline clip-path=\"url(#clip362)\" style=\"stroke:#000000; stroke-width:4; stroke-opacity:0.1; fill:none\" points=\"\n  1210.48,894.134 1210.48,1445.72 1242.82,1445.72 1242.82,894.134 1210.48,894.134 \n  \"/>\n<path clip-path=\"url(#clip362)\" d=\"\nM1242.82 1148.71 L1242.82 1445.72 L1275.16 1445.72 L1275.16 1148.71 L1242.82 1148.71 L1242.82 1148.71  Z\n  \" fill=\"#e26f46\" fill-rule=\"evenodd\" fill-opacity=\"0.1\"/>\n<polyline clip-path=\"url(#clip362)\" style=\"stroke:#000000; stroke-width:4; stroke-opacity:0.1; fill:none\" points=\"\n  1242.82,1148.71 1242.82,1445.72 1275.16,1445.72 1275.16,1148.71 1242.82,1148.71 \n  \"/>\n<path clip-path=\"url(#clip362)\" d=\"\nM1275.16 1063.85 L1275.16 1445.72 L1307.5 1445.72 L1307.5 1063.85 L1275.16 1063.85 L1275.16 1063.85  Z\n  \" fill=\"#e26f46\" fill-rule=\"evenodd\" fill-opacity=\"0.1\"/>\n<polyline clip-path=\"url(#clip362)\" style=\"stroke:#000000; stroke-width:4; stroke-opacity:0.1; fill:none\" points=\"\n  1275.16,1063.85 1275.16,1445.72 1307.5,1445.72 1307.5,1063.85 1275.16,1063.85 \n  \"/>\n<path clip-path=\"url(#clip362)\" d=\"\nM1307.5 978.993 L1307.5 1445.72 L1339.84 1445.72 L1339.84 978.993 L1307.5 978.993 L1307.5 978.993  Z\n  \" fill=\"#e26f46\" fill-rule=\"evenodd\" fill-opacity=\"0.1\"/>\n<polyline clip-path=\"url(#clip362)\" style=\"stroke:#000000; stroke-width:4; stroke-opacity:0.1; fill:none\" points=\"\n  1307.5,978.993 1307.5,1445.72 1339.84,1445.72 1339.84,978.993 1307.5,978.993 \n  \"/>\n<path clip-path=\"url(#clip362)\" d=\"\nM1339.84 1276 L1339.84 1445.72 L1372.18 1445.72 L1372.18 1276 L1339.84 1276 L1339.84 1276  Z\n  \" fill=\"#e26f46\" fill-rule=\"evenodd\" fill-opacity=\"0.1\"/>\n<polyline clip-path=\"url(#clip362)\" style=\"stroke:#000000; stroke-width:4; stroke-opacity:0.1; fill:none\" points=\"\n  1339.84,1276 1339.84,1445.72 1372.18,1445.72 1372.18,1276 1339.84,1276 \n  \"/>\n<path clip-path=\"url(#clip362)\" d=\"\nM1372.18 1233.57 L1372.18 1445.72 L1404.53 1445.72 L1404.53 1233.57 L1372.18 1233.57 L1372.18 1233.57  Z\n  \" fill=\"#e26f46\" fill-rule=\"evenodd\" fill-opacity=\"0.1\"/>\n<polyline clip-path=\"url(#clip362)\" style=\"stroke:#000000; stroke-width:4; stroke-opacity:0.1; fill:none\" points=\"\n  1372.18,1233.57 1372.18,1445.72 1404.53,1445.72 1404.53,1233.57 1372.18,1233.57 \n  \"/>\n<path clip-path=\"url(#clip362)\" d=\"\nM1404.53 1233.57 L1404.53 1445.72 L1436.87 1445.72 L1436.87 1233.57 L1404.53 1233.57 L1404.53 1233.57  Z\n  \" fill=\"#e26f46\" fill-rule=\"evenodd\" fill-opacity=\"0.1\"/>\n<polyline clip-path=\"url(#clip362)\" style=\"stroke:#000000; stroke-width:4; stroke-opacity:0.1; fill:none\" points=\"\n  1404.53,1233.57 1404.53,1445.72 1436.87,1445.72 1436.87,1233.57 1404.53,1233.57 \n  \"/>\n<path clip-path=\"url(#clip362)\" d=\"\nM1436.87 1318.43 L1436.87 1445.72 L1469.21 1445.72 L1469.21 1318.43 L1436.87 1318.43 L1436.87 1318.43  Z\n  \" fill=\"#e26f46\" fill-rule=\"evenodd\" fill-opacity=\"0.1\"/>\n<polyline clip-path=\"url(#clip362)\" style=\"stroke:#000000; stroke-width:4; stroke-opacity:0.1; fill:none\" points=\"\n  1436.87,1318.43 1436.87,1445.72 1469.21,1445.72 1469.21,1318.43 1436.87,1318.43 \n  \"/>\n<path clip-path=\"url(#clip362)\" d=\"\nM1469.21 1403.29 L1469.21 1445.72 L1501.55 1445.72 L1501.55 1403.29 L1469.21 1403.29 L1469.21 1403.29  Z\n  \" fill=\"#e26f46\" fill-rule=\"evenodd\" fill-opacity=\"0.1\"/>\n<polyline clip-path=\"url(#clip362)\" style=\"stroke:#000000; stroke-width:4; stroke-opacity:0.1; fill:none\" points=\"\n  1469.21,1403.29 1469.21,1445.72 1501.55,1445.72 1501.55,1403.29 1469.21,1403.29 \n  \"/>\n<path clip-path=\"url(#clip362)\" d=\"\nM1501.55 1360.86 L1501.55 1445.72 L1533.89 1445.72 L1533.89 1360.86 L1501.55 1360.86 L1501.55 1360.86  Z\n  \" fill=\"#e26f46\" fill-rule=\"evenodd\" fill-opacity=\"0.1\"/>\n<polyline clip-path=\"url(#clip362)\" style=\"stroke:#000000; stroke-width:4; stroke-opacity:0.1; fill:none\" points=\"\n  1501.55,1360.86 1501.55,1445.72 1533.89,1445.72 1533.89,1360.86 1501.55,1360.86 \n  \"/>\n<path clip-path=\"url(#clip362)\" d=\"\nM1533.89 1360.86 L1533.89 1445.72 L1566.23 1445.72 L1566.23 1360.86 L1533.89 1360.86 L1533.89 1360.86  Z\n  \" fill=\"#e26f46\" fill-rule=\"evenodd\" fill-opacity=\"0.1\"/>\n<polyline clip-path=\"url(#clip362)\" style=\"stroke:#000000; stroke-width:4; stroke-opacity:0.1; fill:none\" points=\"\n  1533.89,1360.86 1533.89,1445.72 1566.23,1445.72 1566.23,1360.86 1533.89,1360.86 \n  \"/>\n<path clip-path=\"url(#clip362)\" d=\"\nM1566.23 1403.29 L1566.23 1445.72 L1598.58 1445.72 L1598.58 1403.29 L1566.23 1403.29 L1566.23 1403.29  Z\n  \" fill=\"#e26f46\" fill-rule=\"evenodd\" fill-opacity=\"0.1\"/>\n<polyline clip-path=\"url(#clip362)\" style=\"stroke:#000000; stroke-width:4; stroke-opacity:0.1; fill:none\" points=\"\n  1566.23,1403.29 1566.23,1445.72 1598.58,1445.72 1598.58,1403.29 1566.23,1403.29 \n  \"/>\n<polyline clip-path=\"url(#clip362)\" style=\"stroke:#3da44d; stroke-width:4; stroke-opacity:1; fill:none\" points=\"\n  1007.44,2925.65 1007.44,-1391.96 \n  \"/>\n<path clip-path=\"url(#clip360)\" d=\"\nM1749.61 337.138 L2278.89 337.138 L2278.89 95.2176 L1749.61 95.2176  Z\n  \" fill=\"#ffffff\" fill-rule=\"evenodd\" fill-opacity=\"1\"/>\n<polyline clip-path=\"url(#clip360)\" style=\"stroke:#000000; stroke-width:4; stroke-opacity:1; fill:none\" points=\"\n  1749.61,337.138 2278.89,337.138 2278.89,95.2176 1749.61,95.2176 1749.61,337.138 \n  \"/>\n<path clip-path=\"url(#clip360)\" d=\"\nM1774.24 179.89 L1921.97 179.89 L1921.97 131.506 L1774.24 131.506 L1774.24 179.89  Z\n  \" fill=\"#009af9\" fill-rule=\"evenodd\" fill-opacity=\"0.1\"/>\n<polyline clip-path=\"url(#clip360)\" style=\"stroke:#000000; stroke-width:4; stroke-opacity:1; fill:none\" points=\"\n  1774.24,179.89 1921.97,179.89 1921.97,131.506 1774.24,131.506 1774.24,179.89 \n  \"/>\n<path clip-path=\"url(#clip360)\" d=\"M 0 0 M1946.59 162.746 L1946.59 147.052 L1950.85 147.052 L1950.85 162.584 Q1950.85 166.265 1952.29 168.116 Q1953.72 169.945 1956.59 169.945 Q1960.04 169.945 1962.03 167.746 Q1964.04 165.547 1964.04 161.751 L1964.04 147.052 L1968.3 147.052 L1968.3 172.978 L1964.04 172.978 L1964.04 168.996 Q1962.49 171.357 1960.43 172.515 Q1958.4 173.649 1955.69 173.649 Q1951.22 173.649 1948.91 170.871 Q1946.59 168.093 1946.59 162.746 M1957.31 146.427 L1957.31 146.427 Z\" fill=\"#000000\" fill-rule=\"evenodd\" fill-opacity=\"1\" /><path clip-path=\"url(#clip360)\" d=\"M 0 0 M1976.89 169.089 L1976.89 182.839 L1972.61 182.839 L1972.61 147.052 L1976.89 147.052 L1976.89 150.987 Q1978.23 148.672 1980.27 147.561 Q1982.33 146.427 1985.18 146.427 Q1989.9 146.427 1992.84 150.177 Q1995.8 153.927 1995.8 160.038 Q1995.8 166.149 1992.84 169.899 Q1989.9 173.649 1985.18 173.649 Q1982.33 173.649 1980.27 172.538 Q1978.23 171.403 1976.89 169.089 M1991.38 160.038 Q1991.38 155.339 1989.44 152.677 Q1987.52 149.992 1984.14 149.992 Q1980.76 149.992 1978.81 152.677 Q1976.89 155.339 1976.89 160.038 Q1976.89 164.737 1978.81 167.422 Q1980.76 170.084 1984.14 170.084 Q1987.52 170.084 1989.44 167.422 Q1991.38 164.737 1991.38 160.038 Z\" fill=\"#000000\" fill-rule=\"evenodd\" fill-opacity=\"1\" /><path clip-path=\"url(#clip360)\" d=\"M 0 0 M2004.39 169.089 L2004.39 182.839 L2000.11 182.839 L2000.11 147.052 L2004.39 147.052 L2004.39 150.987 Q2005.73 148.672 2007.77 147.561 Q2009.83 146.427 2012.68 146.427 Q2017.4 146.427 2020.34 150.177 Q2023.3 153.927 2023.3 160.038 Q2023.3 166.149 2020.34 169.899 Q2017.4 173.649 2012.68 173.649 Q2009.83 173.649 2007.77 172.538 Q2005.73 171.403 2004.39 169.089 M2018.88 160.038 Q2018.88 155.339 2016.94 152.677 Q2015.02 149.992 2011.64 149.992 Q2008.26 149.992 2006.31 152.677 Q2004.39 155.339 2004.39 160.038 Q2004.39 164.737 2006.31 167.422 Q2008.26 170.084 2011.64 170.084 Q2015.02 170.084 2016.94 167.422 Q2018.88 164.737 2018.88 160.038 Z\" fill=\"#000000\" fill-rule=\"evenodd\" fill-opacity=\"1\" /><path clip-path=\"url(#clip360)\" d=\"M 0 0 M2049.95 158.95 L2049.95 161.033 L2030.36 161.033 Q2030.64 165.431 2033 167.746 Q2035.39 170.038 2039.62 170.038 Q2042.08 170.038 2044.37 169.436 Q2046.68 168.834 2048.95 167.63 L2048.95 171.658 Q2046.66 172.63 2044.25 173.14 Q2041.85 173.649 2039.37 173.649 Q2033.16 173.649 2029.53 170.038 Q2025.92 166.427 2025.92 160.269 Q2025.92 153.904 2029.35 150.177 Q2032.79 146.427 2038.63 146.427 Q2043.86 146.427 2046.89 149.806 Q2049.95 153.163 2049.95 158.95 M2045.69 157.7 Q2045.64 154.205 2043.72 152.121 Q2041.82 150.038 2038.67 150.038 Q2035.11 150.038 2032.96 152.052 Q2030.83 154.066 2030.5 157.723 L2045.69 157.7 Z\" fill=\"#000000\" fill-rule=\"evenodd\" fill-opacity=\"1\" /><path clip-path=\"url(#clip360)\" d=\"M 0 0 M2069.44 151.033 Q2068.72 150.617 2067.86 150.431 Q2067.03 150.223 2066.01 150.223 Q2062.4 150.223 2060.46 152.584 Q2058.53 154.922 2058.53 159.32 L2058.53 172.978 L2054.25 172.978 L2054.25 147.052 L2058.53 147.052 L2058.53 151.08 Q2059.88 148.718 2062.03 147.584 Q2064.18 146.427 2067.26 146.427 Q2067.7 146.427 2068.23 146.496 Q2068.77 146.543 2069.41 146.658 L2069.44 151.033 Z\" fill=\"#000000\" fill-rule=\"evenodd\" fill-opacity=\"1\" /><path clip-path=\"url(#clip360)\" d=\"M 0 0 M2107.59 160.038 Q2107.59 155.339 2105.64 152.677 Q2103.72 149.992 2100.34 149.992 Q2096.96 149.992 2095.02 152.677 Q2093.09 155.339 2093.09 160.038 Q2093.09 164.737 2095.02 167.422 Q2096.96 170.084 2100.34 170.084 Q2103.72 170.084 2105.64 167.422 Q2107.59 164.737 2107.59 160.038 M2093.09 150.987 Q2094.44 148.672 2096.47 147.561 Q2098.53 146.427 2101.38 146.427 Q2106.1 146.427 2109.04 150.177 Q2112.01 153.927 2112.01 160.038 Q2112.01 166.149 2109.04 169.899 Q2106.1 173.649 2101.38 173.649 Q2098.53 173.649 2096.47 172.538 Q2094.44 171.403 2093.09 169.089 L2093.09 172.978 L2088.81 172.978 L2088.81 136.959 L2093.09 136.959 L2093.09 150.987 Z\" fill=\"#000000\" fill-rule=\"evenodd\" fill-opacity=\"1\" /><path clip-path=\"url(#clip360)\" d=\"M 0 0 M2126.52 150.038 Q2123.09 150.038 2121.1 152.723 Q2119.11 155.385 2119.11 160.038 Q2119.11 164.691 2121.08 167.376 Q2123.07 170.038 2126.52 170.038 Q2129.92 170.038 2131.91 167.353 Q2133.9 164.667 2133.9 160.038 Q2133.9 155.431 2131.91 152.746 Q2129.92 150.038 2126.52 150.038 M2126.52 146.427 Q2132.08 146.427 2135.25 150.038 Q2138.42 153.649 2138.42 160.038 Q2138.42 166.404 2135.25 170.038 Q2132.08 173.649 2126.52 173.649 Q2120.94 173.649 2117.77 170.038 Q2114.62 166.404 2114.62 160.038 Q2114.62 153.649 2117.77 150.038 Q2120.94 146.427 2126.52 146.427 Z\" fill=\"#000000\" fill-rule=\"evenodd\" fill-opacity=\"1\" /><path clip-path=\"url(#clip360)\" d=\"M 0 0 M2142.45 162.746 L2142.45 147.052 L2146.71 147.052 L2146.71 162.584 Q2146.71 166.265 2148.14 168.116 Q2149.58 169.945 2152.45 169.945 Q2155.9 169.945 2157.89 167.746 Q2159.9 165.547 2159.9 161.751 L2159.9 147.052 L2164.16 147.052 L2164.16 172.978 L2159.9 172.978 L2159.9 168.996 Q2158.35 171.357 2156.29 172.515 Q2154.25 173.649 2151.54 173.649 Q2147.08 173.649 2144.76 170.871 Q2142.45 168.093 2142.45 162.746 M2153.16 146.427 L2153.16 146.427 Z\" fill=\"#000000\" fill-rule=\"evenodd\" fill-opacity=\"1\" /><path clip-path=\"url(#clip360)\" d=\"M 0 0 M2190.18 157.329 L2190.18 172.978 L2185.92 172.978 L2185.92 157.468 Q2185.92 153.788 2184.48 151.959 Q2183.05 150.13 2180.18 150.13 Q2176.73 150.13 2174.74 152.33 Q2172.75 154.529 2172.75 158.325 L2172.75 172.978 L2168.46 172.978 L2168.46 147.052 L2172.75 147.052 L2172.75 151.08 Q2174.27 148.742 2176.34 147.584 Q2178.42 146.427 2181.13 146.427 Q2185.59 146.427 2187.89 149.205 Q2190.18 151.959 2190.18 157.329 Z\" fill=\"#000000\" fill-rule=\"evenodd\" fill-opacity=\"1\" /><path clip-path=\"url(#clip360)\" d=\"M 0 0 M2211.71 150.987 L2211.71 136.959 L2215.96 136.959 L2215.96 172.978 L2211.71 172.978 L2211.71 169.089 Q2210.36 171.403 2208.3 172.538 Q2206.27 173.649 2203.4 173.649 Q2198.7 173.649 2195.73 169.899 Q2192.79 166.149 2192.79 160.038 Q2192.79 153.927 2195.73 150.177 Q2198.7 146.427 2203.4 146.427 Q2206.27 146.427 2208.3 147.561 Q2210.36 148.672 2211.71 150.987 M2197.19 160.038 Q2197.19 164.737 2199.11 167.422 Q2201.06 170.084 2204.44 170.084 Q2207.82 170.084 2209.76 167.422 Q2211.71 164.737 2211.71 160.038 Q2211.71 155.339 2209.76 152.677 Q2207.82 149.992 2204.44 149.992 Q2201.06 149.992 2199.11 152.677 Q2197.19 155.339 2197.19 160.038 Z\" fill=\"#000000\" fill-rule=\"evenodd\" fill-opacity=\"1\" /><path clip-path=\"url(#clip360)\" d=\"\nM1774.24 240.37 L1921.97 240.37 L1921.97 191.986 L1774.24 191.986 L1774.24 240.37  Z\n  \" fill=\"#e26f46\" fill-rule=\"evenodd\" fill-opacity=\"0.1\"/>\n<polyline clip-path=\"url(#clip360)\" style=\"stroke:#000000; stroke-width:4; stroke-opacity:1; fill:none\" points=\"\n  1774.24,240.37 1921.97,240.37 1921.97,191.986 1774.24,191.986 1774.24,240.37 \n  \"/>\n<path clip-path=\"url(#clip360)\" d=\"M 0 0 M1946.59 197.439 L1950.85 197.439 L1950.85 233.458 L1946.59 233.458 L1946.59 197.439 Z\" fill=\"#000000\" fill-rule=\"evenodd\" fill-opacity=\"1\" /><path clip-path=\"url(#clip360)\" d=\"M 0 0 M1965.36 210.518 Q1961.94 210.518 1959.95 213.203 Q1957.96 215.865 1957.96 220.518 Q1957.96 225.171 1959.92 227.856 Q1961.91 230.518 1965.36 230.518 Q1968.77 230.518 1970.76 227.833 Q1972.75 225.147 1972.75 220.518 Q1972.75 215.911 1970.76 213.226 Q1968.77 210.518 1965.36 210.518 M1965.36 206.907 Q1970.92 206.907 1974.09 210.518 Q1977.26 214.129 1977.26 220.518 Q1977.26 226.884 1974.09 230.518 Q1970.92 234.129 1965.36 234.129 Q1959.79 234.129 1956.61 230.518 Q1953.47 226.884 1953.47 220.518 Q1953.47 214.129 1956.61 210.518 Q1959.79 206.907 1965.36 206.907 Z\" fill=\"#000000\" fill-rule=\"evenodd\" fill-opacity=\"1\" /><path clip-path=\"url(#clip360)\" d=\"M 0 0 M1979.25 207.532 L1983.51 207.532 L1988.84 227.763 L1994.14 207.532 L1999.16 207.532 L2004.48 227.763 L2009.79 207.532 L2014.04 207.532 L2007.26 233.458 L2002.24 233.458 L1996.66 212.208 L1991.06 233.458 L1986.04 233.458 L1979.25 207.532 Z\" fill=\"#000000\" fill-rule=\"evenodd\" fill-opacity=\"1\" /><path clip-path=\"url(#clip360)\" d=\"M 0 0 M2040.69 219.43 L2040.69 221.513 L2021.1 221.513 Q2021.38 225.911 2023.74 228.226 Q2026.13 230.518 2030.36 230.518 Q2032.82 230.518 2035.11 229.916 Q2037.42 229.314 2039.69 228.11 L2039.69 232.138 Q2037.4 233.11 2034.99 233.62 Q2032.59 234.129 2030.11 234.129 Q2023.91 234.129 2020.27 230.518 Q2016.66 226.907 2016.66 220.749 Q2016.66 214.384 2020.09 210.657 Q2023.54 206.907 2029.37 206.907 Q2034.6 206.907 2037.63 210.286 Q2040.69 213.643 2040.69 219.43 M2036.43 218.18 Q2036.38 214.685 2034.46 212.601 Q2032.56 210.518 2029.41 210.518 Q2025.85 210.518 2023.7 212.532 Q2021.57 214.546 2021.24 218.203 L2036.43 218.18 Z\" fill=\"#000000\" fill-rule=\"evenodd\" fill-opacity=\"1\" /><path clip-path=\"url(#clip360)\" d=\"M 0 0 M2060.18 211.513 Q2059.46 211.097 2058.6 210.911 Q2057.77 210.703 2056.75 210.703 Q2053.14 210.703 2051.2 213.064 Q2049.28 215.402 2049.28 219.8 L2049.28 233.458 L2044.99 233.458 L2044.99 207.532 L2049.28 207.532 L2049.28 211.56 Q2050.62 209.198 2052.77 208.064 Q2054.92 206.907 2058 206.907 Q2058.44 206.907 2058.97 206.976 Q2059.51 207.023 2060.16 207.138 L2060.18 211.513 Z\" fill=\"#000000\" fill-rule=\"evenodd\" fill-opacity=\"1\" /><path clip-path=\"url(#clip360)\" d=\"M 0 0 M2098.33 220.518 Q2098.33 215.819 2096.38 213.157 Q2094.46 210.472 2091.08 210.472 Q2087.7 210.472 2085.76 213.157 Q2083.84 215.819 2083.84 220.518 Q2083.84 225.217 2085.76 227.902 Q2087.7 230.564 2091.08 230.564 Q2094.46 230.564 2096.38 227.902 Q2098.33 225.217 2098.33 220.518 M2083.84 211.467 Q2085.18 209.152 2087.22 208.041 Q2089.28 206.907 2092.12 206.907 Q2096.84 206.907 2099.78 210.657 Q2102.75 214.407 2102.75 220.518 Q2102.75 226.629 2099.78 230.379 Q2096.84 234.129 2092.12 234.129 Q2089.28 234.129 2087.22 233.018 Q2085.18 231.883 2083.84 229.569 L2083.84 233.458 L2079.55 233.458 L2079.55 197.439 L2083.84 197.439 L2083.84 211.467 Z\" fill=\"#000000\" fill-rule=\"evenodd\" fill-opacity=\"1\" /><path clip-path=\"url(#clip360)\" d=\"M 0 0 M2117.26 210.518 Q2113.84 210.518 2111.84 213.203 Q2109.85 215.865 2109.85 220.518 Q2109.85 225.171 2111.82 227.856 Q2113.81 230.518 2117.26 230.518 Q2120.66 230.518 2122.65 227.833 Q2124.65 225.147 2124.65 220.518 Q2124.65 215.911 2122.65 213.226 Q2120.66 210.518 2117.26 210.518 M2117.26 206.907 Q2122.82 206.907 2125.99 210.518 Q2129.16 214.129 2129.16 220.518 Q2129.16 226.884 2125.99 230.518 Q2122.82 234.129 2117.26 234.129 Q2111.68 234.129 2108.51 230.518 Q2105.36 226.884 2105.36 220.518 Q2105.36 214.129 2108.51 210.518 Q2111.68 206.907 2117.26 206.907 Z\" fill=\"#000000\" fill-rule=\"evenodd\" fill-opacity=\"1\" /><path clip-path=\"url(#clip360)\" d=\"M 0 0 M2133.19 223.226 L2133.19 207.532 L2137.45 207.532 L2137.45 223.064 Q2137.45 226.745 2138.88 228.596 Q2140.32 230.425 2143.19 230.425 Q2146.64 230.425 2148.63 228.226 Q2150.64 226.027 2150.64 222.231 L2150.64 207.532 L2154.9 207.532 L2154.9 233.458 L2150.64 233.458 L2150.64 229.476 Q2149.09 231.837 2147.03 232.995 Q2144.99 234.129 2142.28 234.129 Q2137.82 234.129 2135.5 231.351 Q2133.19 228.573 2133.19 223.226 M2143.9 206.907 L2143.9 206.907 Z\" fill=\"#000000\" fill-rule=\"evenodd\" fill-opacity=\"1\" /><path clip-path=\"url(#clip360)\" d=\"M 0 0 M2180.92 217.809 L2180.92 233.458 L2176.66 233.458 L2176.66 217.948 Q2176.66 214.268 2175.22 212.439 Q2173.79 210.61 2170.92 210.61 Q2167.47 210.61 2165.48 212.81 Q2163.49 215.009 2163.49 218.805 L2163.49 233.458 L2159.21 233.458 L2159.21 207.532 L2163.49 207.532 L2163.49 211.56 Q2165.02 209.222 2167.08 208.064 Q2169.16 206.907 2171.87 206.907 Q2176.34 206.907 2178.63 209.685 Q2180.92 212.439 2180.92 217.809 Z\" fill=\"#000000\" fill-rule=\"evenodd\" fill-opacity=\"1\" /><path clip-path=\"url(#clip360)\" d=\"M 0 0 M2202.45 211.467 L2202.45 197.439 L2206.71 197.439 L2206.71 233.458 L2202.45 233.458 L2202.45 229.569 Q2201.1 231.883 2199.04 233.018 Q2197.01 234.129 2194.14 234.129 Q2189.44 234.129 2186.47 230.379 Q2183.53 226.629 2183.53 220.518 Q2183.53 214.407 2186.47 210.657 Q2189.44 206.907 2194.14 206.907 Q2197.01 206.907 2199.04 208.041 Q2201.1 209.152 2202.45 211.467 M2187.93 220.518 Q2187.93 225.217 2189.85 227.902 Q2191.8 230.564 2195.18 230.564 Q2198.56 230.564 2200.5 227.902 Q2202.45 225.217 2202.45 220.518 Q2202.45 215.819 2200.5 213.157 Q2198.56 210.472 2195.18 210.472 Q2191.8 210.472 2189.85 213.157 Q2187.93 215.819 2187.93 220.518 Z\" fill=\"#000000\" fill-rule=\"evenodd\" fill-opacity=\"1\" /><polyline clip-path=\"url(#clip360)\" style=\"stroke:#3da44d; stroke-width:4; stroke-opacity:1; fill:none\" points=\"\n  1774.24,276.658 1921.97,276.658 \n  \"/>\n<path clip-path=\"url(#clip360)\" d=\"M 0 0 M1954 260.651 L1954 268.012 L1962.77 268.012 L1962.77 271.322 L1954 271.322 L1954 285.396 Q1954 288.567 1954.85 289.47 Q1955.73 290.373 1958.4 290.373 L1962.77 290.373 L1962.77 293.938 L1958.4 293.938 Q1953.47 293.938 1951.59 292.109 Q1949.72 290.257 1949.72 285.396 L1949.72 271.322 L1946.59 271.322 L1946.59 268.012 L1949.72 268.012 L1949.72 260.651 L1954 260.651 Z\" fill=\"#000000\" fill-rule=\"evenodd\" fill-opacity=\"1\" /><path clip-path=\"url(#clip360)\" d=\"M 0 0 M1982.26 271.993 Q1981.54 271.577 1980.69 271.391 Q1979.85 271.183 1978.84 271.183 Q1975.23 271.183 1973.28 273.544 Q1971.36 275.882 1971.36 280.28 L1971.36 293.938 L1967.08 293.938 L1967.08 268.012 L1971.36 268.012 L1971.36 272.04 Q1972.7 269.678 1974.85 268.544 Q1977.01 267.387 1980.09 267.387 Q1980.53 267.387 1981.06 267.456 Q1981.59 267.503 1982.24 267.618 L1982.26 271.993 Z\" fill=\"#000000\" fill-rule=\"evenodd\" fill-opacity=\"1\" /><path clip-path=\"url(#clip360)\" d=\"M 0 0 M1986.29 283.706 L1986.29 268.012 L1990.55 268.012 L1990.55 283.544 Q1990.55 287.225 1991.98 289.076 Q1993.42 290.905 1996.29 290.905 Q1999.74 290.905 2001.73 288.706 Q2003.74 286.507 2003.74 282.711 L2003.74 268.012 L2008 268.012 L2008 293.938 L2003.74 293.938 L2003.74 289.956 Q2002.19 292.317 2000.13 293.475 Q1998.1 294.609 1995.39 294.609 Q1990.92 294.609 1988.6 291.831 Q1986.29 289.053 1986.29 283.706 M1997.01 267.387 L1997.01 267.387 Z\" fill=\"#000000\" fill-rule=\"evenodd\" fill-opacity=\"1\" /><path clip-path=\"url(#clip360)\" d=\"M 0 0 M2034.65 279.91 L2034.65 281.993 L2015.06 281.993 Q2015.34 286.391 2017.7 288.706 Q2020.09 290.998 2024.32 290.998 Q2026.78 290.998 2029.07 290.396 Q2031.38 289.794 2033.65 288.59 L2033.65 292.618 Q2031.36 293.59 2028.95 294.1 Q2026.54 294.609 2024.07 294.609 Q2017.86 294.609 2014.23 290.998 Q2010.62 287.387 2010.62 281.229 Q2010.62 274.864 2014.04 271.137 Q2017.49 267.387 2023.33 267.387 Q2028.56 267.387 2031.59 270.766 Q2034.65 274.123 2034.65 279.91 M2030.39 278.66 Q2030.34 275.165 2028.42 273.081 Q2026.52 270.998 2023.37 270.998 Q2019.81 270.998 2017.66 273.012 Q2015.53 275.026 2015.2 278.683 L2030.39 278.66 Z\" fill=\"#000000\" fill-rule=\"evenodd\" fill-opacity=\"1\" /><path clip-path=\"url(#clip360)\" d=\"M 0 0 M2065.73 300.905 L2063.42 300.905 L2063.4 293.938 Q2060.97 293.891 2058.53 293.382 Q2056.1 292.85 2053.65 291.808 L2053.65 287.641 Q2056.01 289.123 2058.42 289.887 Q2060.85 290.627 2063.42 290.651 L2063.42 280.095 Q2058.3 279.262 2055.97 277.271 Q2053.65 275.28 2053.65 271.808 Q2053.65 268.035 2056.17 265.859 Q2058.7 263.683 2063.42 263.359 L2063.42 257.919 L2065.73 257.919 L2065.73 263.29 Q2067.89 263.382 2069.9 263.753 Q2071.91 264.1 2073.84 264.725 L2073.84 268.776 Q2071.91 267.803 2069.88 267.271 Q2067.86 266.739 2065.73 266.646 L2065.73 276.53 Q2070.99 277.34 2073.47 279.424 Q2075.94 281.507 2075.94 285.118 Q2075.94 289.03 2073.3 291.299 Q2070.69 293.544 2065.73 293.891 L2065.73 300.905 M2063.42 276.114 L2063.42 266.623 Q2060.73 266.924 2059.32 268.151 Q2057.91 269.378 2057.91 271.415 Q2057.91 273.405 2059.21 274.516 Q2060.53 275.627 2063.42 276.114 M2065.73 280.558 L2065.73 290.581 Q2068.67 290.188 2070.16 288.914 Q2071.66 287.641 2071.66 285.558 Q2071.66 283.521 2070.22 282.317 Q2068.81 281.114 2065.73 280.558 Z\" fill=\"#000000\" fill-rule=\"evenodd\" fill-opacity=\"1\" /><path clip-path=\"url(#clip360)\" d=\"M 0 0 M2075.85 259.378 L2080.87 259.378 L2090.46 273.59 L2099.97 259.378 L2104.99 259.378 L2092.77 277.479 L2092.77 293.938 L2088.07 293.938 L2088.07 277.479 L2075.85 259.378 Z\" fill=\"#000000\" fill-rule=\"evenodd\" fill-opacity=\"1\" /><path clip-path=\"url(#clip360)\" d=\"M 0 0 M2129.16 301.808 L2129.16 305.118 L2104.53 305.118 L2104.53 301.808 L2129.16 301.808 Z\" fill=\"#000000\" fill-rule=\"evenodd\" fill-opacity=\"1\" /><path clip-path=\"url(#clip360)\" d=\"M 0 0 M2153.4 298.336 L2153.4 301.669 L2151.96 301.669 Q2146.2 301.669 2144.23 299.956 Q2142.28 298.243 2142.28 293.127 L2142.28 287.595 Q2142.28 284.1 2141.03 282.757 Q2139.78 281.414 2136.5 281.414 L2135.09 281.414 L2135.09 278.104 L2136.5 278.104 Q2139.81 278.104 2141.03 276.785 Q2142.28 275.442 2142.28 271.993 L2142.28 266.438 Q2142.28 261.322 2144.23 259.632 Q2146.2 257.919 2151.96 257.919 L2153.4 257.919 L2153.4 261.229 L2151.82 261.229 Q2148.56 261.229 2147.56 262.248 Q2146.57 263.266 2146.57 266.53 L2146.57 272.271 Q2146.57 275.905 2145.5 277.549 Q2144.46 279.192 2141.91 279.771 Q2144.48 280.396 2145.53 282.039 Q2146.57 283.683 2146.57 287.294 L2146.57 293.035 Q2146.57 296.299 2147.56 297.317 Q2148.56 298.336 2151.82 298.336 L2153.4 298.336 Z\" fill=\"#000000\" fill-rule=\"evenodd\" fill-opacity=\"1\" /><path clip-path=\"url(#clip360)\" d=\"M 0 0 M2159.28 290.002 L2166.91 290.002 L2166.91 263.637 L2158.6 265.303 L2158.6 261.044 L2166.87 259.378 L2171.54 259.378 L2171.54 290.002 L2179.18 290.002 L2179.18 293.938 L2159.28 293.938 L2159.28 290.002 Z\" fill=\"#000000\" fill-rule=\"evenodd\" fill-opacity=\"1\" /><path clip-path=\"url(#clip360)\" d=\"M 0 0 M2185.11 298.336 L2186.73 298.336 Q2189.97 298.336 2190.94 297.34 Q2191.94 296.345 2191.94 293.035 L2191.94 287.294 Q2191.94 283.683 2192.98 282.039 Q2194.02 280.396 2196.59 279.771 Q2194.02 279.192 2192.98 277.549 Q2191.94 275.905 2191.94 272.271 L2191.94 266.53 Q2191.94 263.243 2190.94 262.248 Q2189.97 261.229 2186.73 261.229 L2185.11 261.229 L2185.11 257.919 L2186.57 257.919 Q2192.33 257.919 2194.25 259.632 Q2196.2 261.322 2196.2 266.438 L2196.2 271.993 Q2196.2 275.442 2197.45 276.785 Q2198.7 278.104 2201.98 278.104 L2203.42 278.104 L2203.42 281.414 L2201.98 281.414 Q2198.7 281.414 2197.45 282.757 Q2196.2 284.1 2196.2 287.595 L2196.2 293.127 Q2196.2 298.243 2194.25 299.956 Q2192.33 301.669 2186.57 301.669 L2185.11 301.669 L2185.11 298.336 Z\" fill=\"#000000\" fill-rule=\"evenodd\" fill-opacity=\"1\" /><path clip-path=\"url(#clip360)\" d=\"M 0 0 M2219.44 300.905 L2217.12 300.905 L2217.1 293.938 Q2214.67 293.891 2212.24 293.382 Q2209.81 292.85 2207.35 291.808 L2207.35 287.641 Q2209.71 289.123 2212.12 289.887 Q2214.55 290.627 2217.12 290.651 L2217.12 280.095 Q2212.01 279.262 2209.67 277.271 Q2207.35 275.28 2207.35 271.808 Q2207.35 268.035 2209.88 265.859 Q2212.4 263.683 2217.12 263.359 L2217.12 257.919 L2219.44 257.919 L2219.44 263.29 Q2221.59 263.382 2223.6 263.753 Q2225.62 264.1 2227.54 264.725 L2227.54 268.776 Q2225.62 267.803 2223.58 267.271 Q2221.57 266.739 2219.44 266.646 L2219.44 276.53 Q2224.69 277.34 2227.17 279.424 Q2229.65 281.507 2229.65 285.118 Q2229.65 289.03 2227.01 291.299 Q2224.39 293.544 2219.44 293.891 L2219.44 300.905 M2217.12 276.114 L2217.12 266.623 Q2214.44 266.924 2213.02 268.151 Q2211.61 269.378 2211.61 271.415 Q2211.61 273.405 2212.91 274.516 Q2214.23 275.627 2217.12 276.114 M2219.44 280.558 L2219.44 290.581 Q2222.38 290.188 2223.86 288.914 Q2225.36 287.641 2225.36 285.558 Q2225.36 283.521 2223.93 282.317 Q2222.52 281.114 2219.44 280.558 Z\" fill=\"#000000\" fill-rule=\"evenodd\" fill-opacity=\"1\" /></svg>\n"
     },
     "execution_count": 17,
     "metadata": {},
     "output_type": "execute_result"
    }
   ],
   "source": [
    "upper_bound_Y1 = []\n",
    "oracle_Y1 = []\n",
    "lower_bound_Y1 = []\n",
    "\n",
    "for i in 1:500\n",
    "    df2 = data_generation2(800; K = 1.5, H = 1.5)\n",
    "    push!(upper_bound_Y1, compute_upper_Y1(df2; K = 1.5, H = 1.5))\n",
    "    push!(lower_bound_Y1, compute_lower_Y1(df2; K = 1.5, H = 1.5))\n",
    "    push!(oracle_Y1, mean(df2[df2.G.==0, :Y1]))\n",
    "end\n",
    "\n",
    "histogram(upper_bound_Y1, bins = 50, alpha = 0.1, label = \"upper bound\")\n",
    "histogram!(lower_bound_Y1, bins = 50, alpha = 0.1, label = \"lower bound\")\n",
    "vline!([mean(oracle_Y1)], label = L\"true $Y_{1}$\")"
   ]
  },
  {
   "cell_type": "markdown",
   "metadata": {},
   "source": [
    "## Confidence Interval"
   ]
  },
  {
   "cell_type": "code",
   "execution_count": null,
   "metadata": {},
   "outputs": [],
   "source": [
    "# See utils.jl for code"
   ]
  },
  {
   "cell_type": "markdown",
   "metadata": {},
   "source": [
    "## Simulation Results"
   ]
  },
  {
   "cell_type": "code",
   "execution_count": 66,
   "metadata": {},
   "outputs": [
    {
     "data": {
      "text/plain": [
       "MersenneTwister(3)"
      ]
     },
     "execution_count": 66,
     "metadata": {},
     "output_type": "execute_result"
    }
   ],
   "source": [
    "using Random\n",
    "Random.seed!(3)"
   ]
  },
  {
   "cell_type": "code",
   "execution_count": 68,
   "metadata": {},
   "outputs": [
    {
     "data": {
      "text/plain": [
       "2000"
      ]
     },
     "execution_count": 68,
     "metadata": {},
     "output_type": "execute_result"
    }
   ],
   "source": [
    "Sim = 2000"
   ]
  },
  {
   "cell_type": "code",
   "execution_count": 69,
   "metadata": {},
   "outputs": [
    {
     "data": {
      "text/plain": [
       "1.232"
      ]
     },
     "execution_count": 69,
     "metadata": {},
     "output_type": "execute_result"
    }
   ],
   "source": [
    "round3(x) = round.(x, digits = 3)\n",
    "round3(1.2321)"
   ]
  },
  {
   "cell_type": "code",
   "execution_count": 70,
   "metadata": {},
   "outputs": [
    {
     "data": {
      "text/html": [
       "<table class=\"data-frame\"><thead><tr><th></th><th>n</th><th>τ</th><th>σ</th><th>Std_τ</th><th>Coverage</th></tr><tr><th></th><th>Int64</th><th>Float64</th><th>Float64</th><th>Float64</th><th>Float64</th></tr></thead><tbody><p>0 rows × 5 columns</p></tbody></table>"
      ],
      "text/latex": [
       "\\begin{tabular}{r|ccccc}\n",
       "\t& n & τ & σ & Std\\_τ & Coverage\\\\\n",
       "\t\\hline\n",
       "\t& Int64 & Float64 & Float64 & Float64 & Float64\\\\\n",
       "\t\\hline\n",
       "\\end{tabular}\n"
      ],
      "text/plain": [
       "\u001b[1m0×5 DataFrame\u001b[0m"
      ]
     },
     "execution_count": 70,
     "metadata": {},
     "output_type": "execute_result"
    }
   ],
   "source": [
    "# Table 1\n",
    "T1 = DataFrame(n=Int[], τ=Float64[], σ=Float64[], Std_τ = Float64[], Coverage=Float64[])"
   ]
  },
  {
   "cell_type": "code",
   "execution_count": 71,
   "metadata": {},
   "outputs": [
    {
     "name": "stdout",
     "output_type": "stream",
     "text": [
      "Current simulation: #400\n",
      "Current simulation: #800\n",
      "Current simulation: #1200\n",
      "Current simulation: #1600\n",
      "Current simulation: #2000\n",
      "n = 500\n",
      "$\\tau^-: $0.9673005581445396\n",
      "$\\sigma^-: $0.7249683997166357\n",
      "Std. Dev. of $\\tau$: 0.718981917386447\n",
      "$\\tau^+ : $1.0372160698738389\n",
      "$\\sigma^+ :$0.725058490935866\n",
      "Std. Dev. of $\\tau$ :0.719031183531238\n",
      "coverage: 0.9515\n"
     ]
    },
    {
     "data": {
      "text/html": [
       "<table class=\"data-frame\"><thead><tr><th></th><th>n</th><th>τ</th><th>σ</th><th>Std_τ</th><th>Coverage</th></tr><tr><th></th><th>Int64</th><th>Float64</th><th>Float64</th><th>Float64</th><th>Float64</th></tr></thead><tbody><p>1 rows × 5 columns</p><tr><th>1</th><td>500</td><td>0.967</td><td>0.725</td><td>0.719</td><td>0.952</td></tr></tbody></table>"
      ],
      "text/latex": [
       "\\begin{tabular}{r|ccccc}\n",
       "\t& n & τ & σ & Std\\_τ & Coverage\\\\\n",
       "\t\\hline\n",
       "\t& Int64 & Float64 & Float64 & Float64 & Float64\\\\\n",
       "\t\\hline\n",
       "\t1 & 500 & 0.967 & 0.725 & 0.719 & 0.952 \\\\\n",
       "\\end{tabular}\n"
      ],
      "text/plain": [
       "\u001b[1m1×5 DataFrame\u001b[0m\n",
       "\u001b[1m Row \u001b[0m│\u001b[1m n     \u001b[0m\u001b[1m τ       \u001b[0m\u001b[1m σ       \u001b[0m\u001b[1m Std_τ   \u001b[0m\u001b[1m Coverage \u001b[0m\n",
       "\u001b[1m     \u001b[0m│\u001b[90m Int64 \u001b[0m\u001b[90m Float64 \u001b[0m\u001b[90m Float64 \u001b[0m\u001b[90m Float64 \u001b[0m\u001b[90m Float64  \u001b[0m\n",
       "─────┼────────────────────────────────────────────\n",
       "   1 │   500    0.967    0.725    0.719     0.952"
      ]
     },
     "execution_count": 71,
     "metadata": {},
     "output_type": "execute_result"
    }
   ],
   "source": [
    "sp = 1\n",
    "lower_bound_τ = []\n",
    "lower_bound_std_err_τ = []\n",
    "upper_bound_τ = []\n",
    "upper_bound_std_err_τ = []\n",
    "\n",
    "counter = 1\n",
    "for _ in 1:Sim\n",
    "    df2 = data_generation2(500; K=sp, H=sp)\n",
    "    try\n",
    "        lower_est, lower_std_err = CI_τ_lb(df2; K=sp + 0.01, H=sp + 0.01)\n",
    "        push!(lower_bound_τ, lower_est)\n",
    "        push!(lower_bound_std_err_τ, lower_std_err)\n",
    "\n",
    "        upper_est, upper_std_err = CI_τ_ub(df2; K=sp + 0.01, H=sp + 0.01)\n",
    "        push!(upper_bound_τ, upper_est)\n",
    "        push!(upper_bound_std_err_τ, upper_std_err)\n",
    "    catch\n",
    "        println(\"Fails\")\n",
    "    end\n",
    "\n",
    "    counter = counter + 1\n",
    "    if counter % 400 == 0\n",
    "        println(\"Current simulation: #$counter\")\n",
    "    end\n",
    "end\n",
    "\n",
    "sigma_l = std(lower_bound_τ)\n",
    "sigma_h = std(upper_bound_τ)\n",
    "\n",
    "println(\"n = 500\")\n",
    "println(L\"\\tau^-: \", mean(lower_bound_τ))\n",
    "println(L\"\\sigma^-: \", mean(lower_bound_std_err_τ))\n",
    "println(L\"Std. Dev. of $\\tau$: \", sigma_l)\n",
    "println(L\"\\tau^+ : \", mean(upper_bound_τ))\n",
    "println(L\"\\sigma^+ :\", mean(upper_bound_std_err_τ))\n",
    "println(L\"Std. Dev. of $\\tau$ :\", sigma_h)\n",
    "coverage = mean((upper_bound_τ .+ 1.96 * upper_bound_std_err_τ .> mean(upper_bound_τ)) .* (mean(lower_bound_τ) .> lower_bound_τ .- 1.96 * lower_bound_std_err_τ))\n",
    "println(\"coverage: \", coverage)\n",
    "\n",
    "push!(T1, [500, (round3 ∘ mean)(lower_bound_τ), (round3 ∘ mean)(lower_bound_std_err_τ), (round3 ∘ mean)(sigma_l), (round3 ∘ mean)(coverage)])"
   ]
  },
  {
   "cell_type": "code",
   "execution_count": 72,
   "metadata": {},
   "outputs": [
    {
     "name": "stdout",
     "output_type": "stream",
     "text": [
      "n = 1000\n",
      "$\\tau^-: $0.9961987958056809\n",
      "$\\sigma^-: $0.5119570626899709\n",
      "Std. Dev. of $\\tau$: 0.49930545255866904\n",
      "$\\tau^+ : $1.0655289607771452\n",
      "$\\sigma^+ :$0.5119935455428605\n",
      "Std. Dev. of $\\tau$ :0.49942791298111616\n",
      "coverage: 0.9595\n"
     ]
    },
    {
     "data": {
      "text/html": [
       "<table class=\"data-frame\"><thead><tr><th></th><th>n</th><th>τ</th><th>σ</th><th>Std_τ</th><th>Coverage</th></tr><tr><th></th><th>Int64</th><th>Float64</th><th>Float64</th><th>Float64</th><th>Float64</th></tr></thead><tbody><p>2 rows × 5 columns</p><tr><th>1</th><td>500</td><td>0.967</td><td>0.725</td><td>0.719</td><td>0.952</td></tr><tr><th>2</th><td>1000</td><td>0.996</td><td>0.512</td><td>0.499</td><td>0.96</td></tr></tbody></table>"
      ],
      "text/latex": [
       "\\begin{tabular}{r|ccccc}\n",
       "\t& n & τ & σ & Std\\_τ & Coverage\\\\\n",
       "\t\\hline\n",
       "\t& Int64 & Float64 & Float64 & Float64 & Float64\\\\\n",
       "\t\\hline\n",
       "\t1 & 500 & 0.967 & 0.725 & 0.719 & 0.952 \\\\\n",
       "\t2 & 1000 & 0.996 & 0.512 & 0.499 & 0.96 \\\\\n",
       "\\end{tabular}\n"
      ],
      "text/plain": [
       "\u001b[1m2×5 DataFrame\u001b[0m\n",
       "\u001b[1m Row \u001b[0m│\u001b[1m n     \u001b[0m\u001b[1m τ       \u001b[0m\u001b[1m σ       \u001b[0m\u001b[1m Std_τ   \u001b[0m\u001b[1m Coverage \u001b[0m\n",
       "\u001b[1m     \u001b[0m│\u001b[90m Int64 \u001b[0m\u001b[90m Float64 \u001b[0m\u001b[90m Float64 \u001b[0m\u001b[90m Float64 \u001b[0m\u001b[90m Float64  \u001b[0m\n",
       "─────┼────────────────────────────────────────────\n",
       "   1 │   500    0.967    0.725    0.719     0.952\n",
       "   2 │  1000    0.996    0.512    0.499     0.96"
      ]
     },
     "execution_count": 72,
     "metadata": {},
     "output_type": "execute_result"
    }
   ],
   "source": [
    "sp = 1\n",
    "lower_bound_τ = []\n",
    "lower_bound_std_err_τ = []\n",
    "upper_bound_τ = []\n",
    "upper_bound_std_err_τ = []\n",
    "\n",
    "for _ in 1:Sim\n",
    "    df2 = data_generation2(1000; K=sp, H=sp)\n",
    "    try\n",
    "        lower_est, lower_std_err = CI_τ_lb(df2; K=sp + 0.01, H=sp + 0.01)\n",
    "        push!(lower_bound_τ, lower_est)\n",
    "        push!(lower_bound_std_err_τ, lower_std_err)\n",
    "\n",
    "        upper_est, upper_std_err = CI_τ_ub(df2; K=sp + 0.01, H=sp + 0.01)\n",
    "        push!(upper_bound_τ, upper_est)\n",
    "        push!(upper_bound_std_err_τ, upper_std_err)\n",
    "    catch\n",
    "        println(\"Fails\")\n",
    "    end\n",
    "end\n",
    "\n",
    "sigma_l = std(lower_bound_τ)\n",
    "sigma_h = std(upper_bound_τ)\n",
    "\n",
    "println(\"n = 1000\")\n",
    "println(L\"\\tau^-: \", mean(lower_bound_τ))\n",
    "println(L\"\\sigma^-: \", mean(lower_bound_std_err_τ))\n",
    "println(L\"Std. Dev. of $\\tau$: \", sigma_l)\n",
    "println(L\"\\tau^+ : \", mean(upper_bound_τ))\n",
    "println(L\"\\sigma^+ :\", mean(upper_bound_std_err_τ))\n",
    "println(L\"Std. Dev. of $\\tau$ :\", sigma_h)\n",
    "coverage = mean((upper_bound_τ .+ 1.96 * upper_bound_std_err_τ .> mean(upper_bound_τ)) .* (mean(lower_bound_τ) .> lower_bound_τ .- 1.96 * lower_bound_std_err_τ))\n",
    "println(\"coverage: \", coverage)\n",
    "\n",
    "push!(T1, [1000, (round3 ∘ mean)(lower_bound_τ), (round3 ∘ mean)(lower_bound_std_err_τ), (round3 ∘ mean)(sigma_l), (round3 ∘ mean)(coverage)])"
   ]
  },
  {
   "cell_type": "code",
   "execution_count": 73,
   "metadata": {},
   "outputs": [
    {
     "name": "stdout",
     "output_type": "stream",
     "text": [
      "n = 2000\n",
      "$\\tau^-: $0.9904482402561318\n",
      "$\\sigma^-: $0.36154822882168014\n",
      "Std. Dev. of $\\tau$: 0.3539870359323268\n",
      "$\\tau^+ : $1.0592047545796026\n",
      "$\\sigma^+ :$0.3615726881321581\n",
      "Std. Dev. of $\\tau$ :0.3540170500295217\n",
      "coverage: 0.9605\n"
     ]
    },
    {
     "data": {
      "text/html": [
       "<table class=\"data-frame\"><thead><tr><th></th><th>n</th><th>τ</th><th>σ</th><th>Std_τ</th><th>Coverage</th></tr><tr><th></th><th>Int64</th><th>Float64</th><th>Float64</th><th>Float64</th><th>Float64</th></tr></thead><tbody><p>3 rows × 5 columns</p><tr><th>1</th><td>500</td><td>0.967</td><td>0.725</td><td>0.719</td><td>0.952</td></tr><tr><th>2</th><td>1000</td><td>0.996</td><td>0.512</td><td>0.499</td><td>0.96</td></tr><tr><th>3</th><td>2000</td><td>0.99</td><td>0.362</td><td>0.354</td><td>0.96</td></tr></tbody></table>"
      ],
      "text/latex": [
       "\\begin{tabular}{r|ccccc}\n",
       "\t& n & τ & σ & Std\\_τ & Coverage\\\\\n",
       "\t\\hline\n",
       "\t& Int64 & Float64 & Float64 & Float64 & Float64\\\\\n",
       "\t\\hline\n",
       "\t1 & 500 & 0.967 & 0.725 & 0.719 & 0.952 \\\\\n",
       "\t2 & 1000 & 0.996 & 0.512 & 0.499 & 0.96 \\\\\n",
       "\t3 & 2000 & 0.99 & 0.362 & 0.354 & 0.96 \\\\\n",
       "\\end{tabular}\n"
      ],
      "text/plain": [
       "\u001b[1m3×5 DataFrame\u001b[0m\n",
       "\u001b[1m Row \u001b[0m│\u001b[1m n     \u001b[0m\u001b[1m τ       \u001b[0m\u001b[1m σ       \u001b[0m\u001b[1m Std_τ   \u001b[0m\u001b[1m Coverage \u001b[0m\n",
       "\u001b[1m     \u001b[0m│\u001b[90m Int64 \u001b[0m\u001b[90m Float64 \u001b[0m\u001b[90m Float64 \u001b[0m\u001b[90m Float64 \u001b[0m\u001b[90m Float64  \u001b[0m\n",
       "─────┼────────────────────────────────────────────\n",
       "   1 │   500    0.967    0.725    0.719     0.952\n",
       "   2 │  1000    0.996    0.512    0.499     0.96\n",
       "   3 │  2000    0.99     0.362    0.354     0.96"
      ]
     },
     "execution_count": 73,
     "metadata": {},
     "output_type": "execute_result"
    }
   ],
   "source": [
    "sp = 1\n",
    "lower_bound_τ = []\n",
    "lower_bound_std_err_τ = []\n",
    "upper_bound_τ = []\n",
    "upper_bound_std_err_τ = []\n",
    "\n",
    "for _ in 1:Sim\n",
    "    df2 = data_generation2(2000; K=sp, H=sp)\n",
    "    try\n",
    "        lower_est, lower_std_err = CI_τ_lb(df2; K=sp + 0.01, H=sp + 0.01)\n",
    "        push!(lower_bound_τ, lower_est)\n",
    "        push!(lower_bound_std_err_τ, lower_std_err)\n",
    "\n",
    "        upper_est, upper_std_err = CI_τ_ub(df2; K=sp + 0.01, H=sp + 0.01)\n",
    "        push!(upper_bound_τ, upper_est)\n",
    "        push!(upper_bound_std_err_τ, upper_std_err)\n",
    "    catch\n",
    "        println(\"Fails\")\n",
    "    end\n",
    "end\n",
    "\n",
    "sigma_l = std(lower_bound_τ)\n",
    "sigma_h = std(upper_bound_τ)\n",
    "\n",
    "println(\"n = 2000\")\n",
    "println(L\"\\tau^-: \", mean(lower_bound_τ))\n",
    "println(L\"\\sigma^-: \", mean(lower_bound_std_err_τ))\n",
    "println(L\"Std. Dev. of $\\tau$: \", sigma_l)\n",
    "println(L\"\\tau^+ : \", mean(upper_bound_τ))\n",
    "println(L\"\\sigma^+ :\", mean(upper_bound_std_err_τ))\n",
    "println(L\"Std. Dev. of $\\tau$ :\", sigma_h)\n",
    "coverage = mean((upper_bound_τ .+ 1.96 * upper_bound_std_err_τ .> mean(upper_bound_τ)) .* (mean(lower_bound_τ) .> lower_bound_τ .- 1.96 * lower_bound_std_err_τ))\n",
    "println(\"coverage: \", coverage)\n",
    "\n",
    "push!(T1, [2000, (round3 ∘ mean)(lower_bound_τ), (round3 ∘ mean)(lower_bound_std_err_τ), (round3 ∘ mean)(sigma_l), (round3 ∘ mean)(coverage)])"
   ]
  },
  {
   "cell_type": "code",
   "execution_count": 74,
   "metadata": {},
   "outputs": [
    {
     "name": "stdout",
     "output_type": "stream",
     "text": [
      "T1 = 3×5 DataFrame\n",
      " Row │ n      τ        σ        Std_τ    Coverage\n",
      "     │ Int64  Float64  Float64  Float64  Float64\n",
      "─────┼────────────────────────────────────────────\n",
      "   1 │   500    0.967    0.725    0.719     0.952\n",
      "   2 │  1000    0.996    0.512    0.499     0.96\n",
      "   3 │  2000    0.99     0.362    0.354     0.96\n"
     ]
    },
    {
     "data": {
      "text/html": [
       "<table class=\"data-frame\"><thead><tr><th></th><th>n</th><th>τ</th><th>σ</th><th>Std_τ</th><th>Coverage</th></tr><tr><th></th><th>Int64</th><th>Float64</th><th>Float64</th><th>Float64</th><th>Float64</th></tr></thead><tbody><p>3 rows × 5 columns</p><tr><th>1</th><td>500</td><td>0.967</td><td>0.725</td><td>0.719</td><td>0.952</td></tr><tr><th>2</th><td>1000</td><td>0.996</td><td>0.512</td><td>0.499</td><td>0.96</td></tr><tr><th>3</th><td>2000</td><td>0.99</td><td>0.362</td><td>0.354</td><td>0.96</td></tr></tbody></table>"
      ],
      "text/latex": [
       "\\begin{tabular}{r|ccccc}\n",
       "\t& n & τ & σ & Std\\_τ & Coverage\\\\\n",
       "\t\\hline\n",
       "\t& Int64 & Float64 & Float64 & Float64 & Float64\\\\\n",
       "\t\\hline\n",
       "\t1 & 500 & 0.967 & 0.725 & 0.719 & 0.952 \\\\\n",
       "\t2 & 1000 & 0.996 & 0.512 & 0.499 & 0.96 \\\\\n",
       "\t3 & 2000 & 0.99 & 0.362 & 0.354 & 0.96 \\\\\n",
       "\\end{tabular}\n"
      ],
      "text/plain": [
       "\u001b[1m3×5 DataFrame\u001b[0m\n",
       "\u001b[1m Row \u001b[0m│\u001b[1m n     \u001b[0m\u001b[1m τ       \u001b[0m\u001b[1m σ       \u001b[0m\u001b[1m Std_τ   \u001b[0m\u001b[1m Coverage \u001b[0m\n",
       "\u001b[1m     \u001b[0m│\u001b[90m Int64 \u001b[0m\u001b[90m Float64 \u001b[0m\u001b[90m Float64 \u001b[0m\u001b[90m Float64 \u001b[0m\u001b[90m Float64  \u001b[0m\n",
       "─────┼────────────────────────────────────────────\n",
       "   1 │   500    0.967    0.725    0.719     0.952\n",
       "   2 │  1000    0.996    0.512    0.499     0.96\n",
       "   3 │  2000    0.99     0.362    0.354     0.96"
      ]
     },
     "execution_count": 74,
     "metadata": {},
     "output_type": "execute_result"
    }
   ],
   "source": [
    "@show T1"
   ]
  },
  {
   "cell_type": "code",
   "execution_count": 75,
   "metadata": {},
   "outputs": [],
   "source": [
    "### table1.jl script\n",
    "T = T1\n",
    "\n",
    "# Generate table header\n",
    "Table = \"\\\\begin{tabular}{| \" * \"c |\"^(ncol(T) + 1) * \"}\\n\";\n",
    "Table *= \"    \\\\hline\\n\";\n",
    "Table *= \"    % Table header\\n\";\n",
    "Table *= raw\"\"\" $\\mathrm{n}$ & $\\widehat{\\tau}^{-}(\\widehat{\\tau}^{+})$ & $\\widehat{\\sigma}^{-}(\\widehat{\\sigma}^{+})$ & \\text {Std. dev. of } $\\widehat{\\tau}^{-}(\\widehat{\\tau}^{+})$ & \\text {Coverage }\"\"\";\n",
    "Table *= \" \\\\\\\\\\n\";\n",
    "\n",
    "# Generate table body (with nice alternating row colours)\n",
    "Table *= \"    % Table body\\n\";\n",
    "Table *= \"  \\\\hline\\n\";\n",
    "for row in 1:nrow(T)\n",
    "  for col in 1:ncol(T)\n",
    "    val = T[row, col]\n",
    "    if col > 1\n",
    "      Table *= \" & \" * string(round(val, digits=3))\n",
    "    else\n",
    "      Table *= string(val)\n",
    "    end\n",
    "  end\n",
    "  Table *= \" \\\\\\\\\\n\"\n",
    "end\n",
    "Table *= \"  \\\\hline\\n\"\n",
    "Table *= \"\\\\end{tabular}\\n\";\n",
    "\n",
    "# Export result to .tex file\n",
    "write(\"table1.tex\", Table);"
   ]
  },
  {
   "cell_type": "code",
   "execution_count": 76,
   "metadata": {},
   "outputs": [
    {
     "data": {
      "text/html": [
       "<table class=\"data-frame\"><thead><tr><th></th><th>n</th><th>τminus</th><th>σminus</th><th>Std_τminus</th><th>τplus</th><th>σplus</th><th>Std_τplus</th><th>Coverage</th></tr><tr><th></th><th>Int64</th><th>Float64</th><th>Float64</th><th>Float64</th><th>Float64</th><th>Float64</th><th>Float64</th><th>Float64</th></tr></thead><tbody><p>0 rows × 8 columns</p></tbody></table>"
      ],
      "text/latex": [
       "\\begin{tabular}{r|cccccccc}\n",
       "\t& n & τminus & σminus & Std\\_τminus & τplus & σplus & Std\\_τplus & Coverage\\\\\n",
       "\t\\hline\n",
       "\t& Int64 & Float64 & Float64 & Float64 & Float64 & Float64 & Float64 & Float64\\\\\n",
       "\t\\hline\n",
       "\\end{tabular}\n"
      ],
      "text/plain": [
       "\u001b[1m0×8 DataFrame\u001b[0m"
      ]
     },
     "execution_count": 76,
     "metadata": {},
     "output_type": "execute_result"
    }
   ],
   "source": [
    "# Table 2\n",
    "T2 = DataFrame(n=Int[], τminus=Float64[], σminus=Float64[], Std_τminus=Float64[], τplus=Float64[], σplus=Float64[], Std_τplus=Float64[], Coverage=Float64[])"
   ]
  },
  {
   "cell_type": "code",
   "execution_count": 77,
   "metadata": {},
   "outputs": [
    {
     "name": "stdout",
     "output_type": "stream",
     "text": [
      "n = 500\n",
      "$\\tau^-: $0.7215717112458155\n",
      "$\\sigma^-: $0.7439273272772711\n",
      "Std. Dev. of $\\tau$: 0.7396390257237171\n",
      "$\\tau^+ : $1.9989077628971554\n",
      "$\\sigma^+ :$0.7440510500952585\n",
      "Std. Dev. of $\\tau$ :0.7412682385787996\n",
      "coverage: 0.949\n"
     ]
    },
    {
     "data": {
      "text/html": [
       "<table class=\"data-frame\"><thead><tr><th></th><th>n</th><th>τminus</th><th>σminus</th><th>Std_τminus</th><th>τplus</th><th>σplus</th><th>Std_τplus</th><th>Coverage</th></tr><tr><th></th><th>Int64</th><th>Float64</th><th>Float64</th><th>Float64</th><th>Float64</th><th>Float64</th><th>Float64</th><th>Float64</th></tr></thead><tbody><p>1 rows × 8 columns</p><tr><th>1</th><td>500</td><td>0.722</td><td>0.744</td><td>0.74</td><td>1.999</td><td>0.744</td><td>0.741</td><td>0.949</td></tr></tbody></table>"
      ],
      "text/latex": [
       "\\begin{tabular}{r|cccccccc}\n",
       "\t& n & τminus & σminus & Std\\_τminus & τplus & σplus & Std\\_τplus & Coverage\\\\\n",
       "\t\\hline\n",
       "\t& Int64 & Float64 & Float64 & Float64 & Float64 & Float64 & Float64 & Float64\\\\\n",
       "\t\\hline\n",
       "\t1 & 500 & 0.722 & 0.744 & 0.74 & 1.999 & 0.744 & 0.741 & 0.949 \\\\\n",
       "\\end{tabular}\n"
      ],
      "text/plain": [
       "\u001b[1m1×8 DataFrame\u001b[0m\n",
       "\u001b[1m Row \u001b[0m│\u001b[1m n     \u001b[0m\u001b[1m τminus  \u001b[0m\u001b[1m σminus  \u001b[0m\u001b[1m Std_τminus \u001b[0m\u001b[1m τplus   \u001b[0m\u001b[1m σplus   \u001b[0m\u001b[1m Std_τplus \u001b[0m\u001b[1m Cover\u001b[0m ⋯\n",
       "\u001b[1m     \u001b[0m│\u001b[90m Int64 \u001b[0m\u001b[90m Float64 \u001b[0m\u001b[90m Float64 \u001b[0m\u001b[90m Float64    \u001b[0m\u001b[90m Float64 \u001b[0m\u001b[90m Float64 \u001b[0m\u001b[90m Float64   \u001b[0m\u001b[90m Float\u001b[0m ⋯\n",
       "─────┼──────────────────────────────────────────────────────────────────────────\n",
       "   1 │   500    0.722    0.744        0.74    1.999    0.744      0.741     0. ⋯\n",
       "\u001b[36m                                                                1 column omitted\u001b[0m"
      ]
     },
     "execution_count": 77,
     "metadata": {},
     "output_type": "execute_result"
    }
   ],
   "source": [
    "sp = 1.2\n",
    "lower_bound_τ = []\n",
    "lower_bound_std_err_τ = []\n",
    "upper_bound_τ = []\n",
    "upper_bound_std_err_τ = []\n",
    "\n",
    "for _ in 1:Sim\n",
    "    df2 = data_generation2(500; K=sp, H=sp)\n",
    "    try\n",
    "        lower_est, lower_std_err = CI_τ_lb(df2; K=sp, H=sp)\n",
    "        push!(lower_bound_τ, lower_est)\n",
    "        push!(lower_bound_std_err_τ, lower_std_err)\n",
    "\n",
    "        upper_est, upper_std_err = CI_τ_ub(df2; K=sp, H=sp)\n",
    "        push!(upper_bound_τ, upper_est)\n",
    "        push!(upper_bound_std_err_τ, upper_std_err)\n",
    "    catch\n",
    "        println(\"Fails\")\n",
    "    end\n",
    "end\n",
    "\n",
    "sigma_l = std(lower_bound_τ)\n",
    "sigma_h = std(upper_bound_τ)\n",
    "\n",
    "println(\"n = 500\")\n",
    "println(L\"\\tau^-: \", mean(lower_bound_τ))\n",
    "println(L\"\\sigma^-: \", mean(lower_bound_std_err_τ))\n",
    "println(L\"Std. Dev. of $\\tau$: \", sigma_l)\n",
    "println(L\"\\tau^+ : \", mean(upper_bound_τ))\n",
    "println(L\"\\sigma^+ :\", mean(upper_bound_std_err_τ))\n",
    "println(L\"Std. Dev. of $\\tau$ :\", sigma_h)\n",
    "coverage = mean((upper_bound_τ .+ 1.96 * upper_bound_std_err_τ .> mean(upper_bound_τ)) .* (mean(lower_bound_τ) .> lower_bound_τ .- 1.96 * lower_bound_std_err_τ))\n",
    "println(\"coverage: \", coverage)\n",
    "\n",
    "push!(T2, [500, (round3 ∘ mean)(lower_bound_τ), (round3 ∘ mean)(lower_bound_std_err_τ), (round3 ∘ mean)(sigma_l), (round3 ∘ mean)(upper_bound_τ), (round3 ∘ mean)(upper_bound_std_err_τ), (round3 ∘ mean)(sigma_h), (round3 ∘ mean)(coverage)])"
   ]
  },
  {
   "cell_type": "code",
   "execution_count": 78,
   "metadata": {},
   "outputs": [
    {
     "name": "stdout",
     "output_type": "stream",
     "text": [
      "n = 1000\n",
      "$\\tau^-: $0.7243369720062026\n",
      "$\\sigma^-: $0.5253319921979632\n",
      "Std. Dev. of $\\tau$: 0.52428268834484\n",
      "$\\tau^+ : $1.9887513597010276\n",
      "$\\sigma^+ :$0.525079712954418\n",
      "Std. Dev. of $\\tau$ :0.5247017419489988\n",
      "coverage: 0.9515\n"
     ]
    },
    {
     "data": {
      "text/html": [
       "<table class=\"data-frame\"><thead><tr><th></th><th>n</th><th>τminus</th><th>σminus</th><th>Std_τminus</th><th>τplus</th><th>σplus</th><th>Std_τplus</th><th>Coverage</th></tr><tr><th></th><th>Int64</th><th>Float64</th><th>Float64</th><th>Float64</th><th>Float64</th><th>Float64</th><th>Float64</th><th>Float64</th></tr></thead><tbody><p>2 rows × 8 columns</p><tr><th>1</th><td>500</td><td>0.722</td><td>0.744</td><td>0.74</td><td>1.999</td><td>0.744</td><td>0.741</td><td>0.949</td></tr><tr><th>2</th><td>1000</td><td>0.724</td><td>0.525</td><td>0.524</td><td>1.989</td><td>0.525</td><td>0.525</td><td>0.952</td></tr></tbody></table>"
      ],
      "text/latex": [
       "\\begin{tabular}{r|cccccccc}\n",
       "\t& n & τminus & σminus & Std\\_τminus & τplus & σplus & Std\\_τplus & Coverage\\\\\n",
       "\t\\hline\n",
       "\t& Int64 & Float64 & Float64 & Float64 & Float64 & Float64 & Float64 & Float64\\\\\n",
       "\t\\hline\n",
       "\t1 & 500 & 0.722 & 0.744 & 0.74 & 1.999 & 0.744 & 0.741 & 0.949 \\\\\n",
       "\t2 & 1000 & 0.724 & 0.525 & 0.524 & 1.989 & 0.525 & 0.525 & 0.952 \\\\\n",
       "\\end{tabular}\n"
      ],
      "text/plain": [
       "\u001b[1m2×8 DataFrame\u001b[0m\n",
       "\u001b[1m Row \u001b[0m│\u001b[1m n     \u001b[0m\u001b[1m τminus  \u001b[0m\u001b[1m σminus  \u001b[0m\u001b[1m Std_τminus \u001b[0m\u001b[1m τplus   \u001b[0m\u001b[1m σplus   \u001b[0m\u001b[1m Std_τplus \u001b[0m\u001b[1m Cover\u001b[0m ⋯\n",
       "\u001b[1m     \u001b[0m│\u001b[90m Int64 \u001b[0m\u001b[90m Float64 \u001b[0m\u001b[90m Float64 \u001b[0m\u001b[90m Float64    \u001b[0m\u001b[90m Float64 \u001b[0m\u001b[90m Float64 \u001b[0m\u001b[90m Float64   \u001b[0m\u001b[90m Float\u001b[0m ⋯\n",
       "─────┼──────────────────────────────────────────────────────────────────────────\n",
       "   1 │   500    0.722    0.744       0.74     1.999    0.744      0.741     0. ⋯\n",
       "   2 │  1000    0.724    0.525       0.524    1.989    0.525      0.525     0.\n",
       "\u001b[36m                                                                1 column omitted\u001b[0m"
      ]
     },
     "execution_count": 78,
     "metadata": {},
     "output_type": "execute_result"
    }
   ],
   "source": [
    "sp = 1.2\n",
    "lower_bound_τ = []\n",
    "lower_bound_std_err_τ = []\n",
    "upper_bound_τ = []\n",
    "upper_bound_std_err_τ = []\n",
    "\n",
    "for _ in 1:Sim\n",
    "    df2 = data_generation2(1000; K=sp, H=sp)\n",
    "    try\n",
    "        lower_est, lower_std_err = CI_τ_lb(df2; K=sp, H=sp)\n",
    "        push!(lower_bound_τ, lower_est)\n",
    "        push!(lower_bound_std_err_τ, lower_std_err)\n",
    "\n",
    "        upper_est, upper_std_err = CI_τ_ub(df2; K=sp, H=sp)\n",
    "        push!(upper_bound_τ, upper_est)\n",
    "        push!(upper_bound_std_err_τ, upper_std_err)\n",
    "    catch\n",
    "        println(\"Fails\")\n",
    "    end\n",
    "end\n",
    "\n",
    "sigma_l = std(lower_bound_τ)\n",
    "sigma_h = std(upper_bound_τ)\n",
    "\n",
    "println(\"n = 1000\")\n",
    "println(L\"\\tau^-: \", mean(lower_bound_τ))\n",
    "println(L\"\\sigma^-: \", mean(lower_bound_std_err_τ))\n",
    "println(L\"Std. Dev. of $\\tau$: \", sigma_l)\n",
    "println(L\"\\tau^+ : \", mean(upper_bound_τ))\n",
    "println(L\"\\sigma^+ :\", mean(upper_bound_std_err_τ))\n",
    "println(L\"Std. Dev. of $\\tau$ :\", sigma_h)\n",
    "coverage = mean((upper_bound_τ .+ 1.96 * upper_bound_std_err_τ .> mean(upper_bound_τ)) .* (mean(lower_bound_τ) .> lower_bound_τ .- 1.96 * lower_bound_std_err_τ))\n",
    "println(\"coverage: \", coverage)\n",
    "\n",
    "push!(T2, [1000, (round3 ∘ mean)(lower_bound_τ), (round3 ∘ mean)(lower_bound_std_err_τ), (round3 ∘ mean)(sigma_l), (round3 ∘ mean)(upper_bound_τ), (round3 ∘ mean)(upper_bound_std_err_τ), (round3 ∘ mean)(sigma_h), (round3 ∘ mean)(coverage)])"
   ]
  },
  {
   "cell_type": "code",
   "execution_count": 79,
   "metadata": {},
   "outputs": [
    {
     "name": "stdout",
     "output_type": "stream",
     "text": [
      "n = 2000\n",
      "$\\tau^-: $0.7312303372782017\n",
      "$\\sigma^-: $0.37033876168635343\n",
      "Std. Dev. of $\\tau$: 0.36205736685750345\n",
      "$\\tau^+ : $1.9831266169840946\n",
      "$\\sigma^+ :$0.37024854098130777\n",
      "Std. Dev. of $\\tau$ :0.3618936732848319\n",
      "coverage: 0.9545\n"
     ]
    },
    {
     "data": {
      "text/html": [
       "<table class=\"data-frame\"><thead><tr><th></th><th>n</th><th>τminus</th><th>σminus</th><th>Std_τminus</th><th>τplus</th><th>σplus</th><th>Std_τplus</th><th>Coverage</th></tr><tr><th></th><th>Int64</th><th>Float64</th><th>Float64</th><th>Float64</th><th>Float64</th><th>Float64</th><th>Float64</th><th>Float64</th></tr></thead><tbody><p>3 rows × 8 columns</p><tr><th>1</th><td>500</td><td>0.722</td><td>0.744</td><td>0.74</td><td>1.999</td><td>0.744</td><td>0.741</td><td>0.949</td></tr><tr><th>2</th><td>1000</td><td>0.724</td><td>0.525</td><td>0.524</td><td>1.989</td><td>0.525</td><td>0.525</td><td>0.952</td></tr><tr><th>3</th><td>2000</td><td>0.731</td><td>0.37</td><td>0.362</td><td>1.983</td><td>0.37</td><td>0.362</td><td>0.954</td></tr></tbody></table>"
      ],
      "text/latex": [
       "\\begin{tabular}{r|cccccccc}\n",
       "\t& n & τminus & σminus & Std\\_τminus & τplus & σplus & Std\\_τplus & Coverage\\\\\n",
       "\t\\hline\n",
       "\t& Int64 & Float64 & Float64 & Float64 & Float64 & Float64 & Float64 & Float64\\\\\n",
       "\t\\hline\n",
       "\t1 & 500 & 0.722 & 0.744 & 0.74 & 1.999 & 0.744 & 0.741 & 0.949 \\\\\n",
       "\t2 & 1000 & 0.724 & 0.525 & 0.524 & 1.989 & 0.525 & 0.525 & 0.952 \\\\\n",
       "\t3 & 2000 & 0.731 & 0.37 & 0.362 & 1.983 & 0.37 & 0.362 & 0.954 \\\\\n",
       "\\end{tabular}\n"
      ],
      "text/plain": [
       "\u001b[1m3×8 DataFrame\u001b[0m\n",
       "\u001b[1m Row \u001b[0m│\u001b[1m n     \u001b[0m\u001b[1m τminus  \u001b[0m\u001b[1m σminus  \u001b[0m\u001b[1m Std_τminus \u001b[0m\u001b[1m τplus   \u001b[0m\u001b[1m σplus   \u001b[0m\u001b[1m Std_τplus \u001b[0m\u001b[1m Cover\u001b[0m ⋯\n",
       "\u001b[1m     \u001b[0m│\u001b[90m Int64 \u001b[0m\u001b[90m Float64 \u001b[0m\u001b[90m Float64 \u001b[0m\u001b[90m Float64    \u001b[0m\u001b[90m Float64 \u001b[0m\u001b[90m Float64 \u001b[0m\u001b[90m Float64   \u001b[0m\u001b[90m Float\u001b[0m ⋯\n",
       "─────┼──────────────────────────────────────────────────────────────────────────\n",
       "   1 │   500    0.722    0.744       0.74     1.999    0.744      0.741     0. ⋯\n",
       "   2 │  1000    0.724    0.525       0.524    1.989    0.525      0.525     0.\n",
       "   3 │  2000    0.731    0.37        0.362    1.983    0.37       0.362     0.\n",
       "\u001b[36m                                                                1 column omitted\u001b[0m"
      ]
     },
     "execution_count": 79,
     "metadata": {},
     "output_type": "execute_result"
    }
   ],
   "source": [
    "sp = 1.2\n",
    "lower_bound_τ = []\n",
    "lower_bound_std_err_τ = []\n",
    "upper_bound_τ = []\n",
    "upper_bound_std_err_τ = []\n",
    "\n",
    "for _ in 1:Sim\n",
    "    df2 = data_generation2(2000; K=sp, H=sp)\n",
    "    try\n",
    "        lower_est, lower_std_err = CI_τ_lb(df2; K=sp, H=sp)\n",
    "        push!(lower_bound_τ, lower_est)\n",
    "        push!(lower_bound_std_err_τ, lower_std_err)\n",
    "\n",
    "        upper_est, upper_std_err = CI_τ_ub(df2; K=sp, H=sp)\n",
    "        push!(upper_bound_τ, upper_est)\n",
    "        push!(upper_bound_std_err_τ, upper_std_err)\n",
    "    catch\n",
    "        println(\"Fails\")\n",
    "    end\n",
    "end\n",
    "\n",
    "sigma_l = std(lower_bound_τ)\n",
    "sigma_h = std(upper_bound_τ)\n",
    "\n",
    "println(\"n = 2000\")\n",
    "println(L\"\\tau^-: \", mean(lower_bound_τ))\n",
    "println(L\"\\sigma^-: \", mean(lower_bound_std_err_τ))\n",
    "println(L\"Std. Dev. of $\\tau$: \", sigma_l)\n",
    "println(L\"\\tau^+ : \", mean(upper_bound_τ))\n",
    "println(L\"\\sigma^+ :\", mean(upper_bound_std_err_τ))\n",
    "println(L\"Std. Dev. of $\\tau$ :\", sigma_h)\n",
    "coverage = mean((upper_bound_τ .+ 1.96 * upper_bound_std_err_τ .> mean(upper_bound_τ)) .* (mean(lower_bound_τ) .> lower_bound_τ .- 1.96 * lower_bound_std_err_τ))\n",
    "println(\"coverage: \", coverage)\n",
    "\n",
    "push!(T2, [2000, (round3 ∘ mean)(lower_bound_τ), (round3 ∘ mean)(lower_bound_std_err_τ), (round3 ∘ mean)(sigma_l), (round3 ∘ mean)(upper_bound_τ), (round3 ∘ mean)(upper_bound_std_err_τ), (round3 ∘ mean)(sigma_h), (round3 ∘ mean)(coverage)])"
   ]
  },
  {
   "cell_type": "code",
   "execution_count": 80,
   "metadata": {},
   "outputs": [],
   "source": [
    "### table2.jl script\n",
    "T = T2\n",
    "\n",
    "# Generate table header\n",
    "Table = \"\\\\begin{tabular}{| \" * \"c |\"^(ncol(T) + 1) * \"}\\n\";\n",
    "Table *= \"    \\\\hline\\n\";\n",
    "Table *= \"    % Table header\\n\";\n",
    "Table *= raw\"\"\" $\\mathrm{n}$ & $\\widehat{\\tau}^{-}$ & $\\widehat{\\sigma}^{-}$ & \\text {Std. dev. of } $\\widehat{\\tau}^{-}$ & $\\widehat{\\tau}^{+}$ & $\\widehat{\\sigma}^{+}$ & \\text {Std. dev. of } $\\widehat{\\tau}^{+}$ & \\text {Coverage }\"\"\";\n",
    "Table *= \" \\\\\\\\\\n\";\n",
    "\n",
    "# Generate table body (with nice alternating row colours)\n",
    "Table *= \"    % Table body\\n\";\n",
    "Table *= \"  \\\\hline\\n\";\n",
    "for row in 1:nrow(T)\n",
    "  for col in 1:ncol(T)\n",
    "    val = T[row, col]\n",
    "    if col > 1\n",
    "      Table *= \" & \" * string(round(val, digits=3))\n",
    "    else\n",
    "      Table *= string(val)\n",
    "    end\n",
    "  end\n",
    "  Table *= \" \\\\\\\\\\n\"\n",
    "end\n",
    "Table *= \"  \\\\hline\\n\"\n",
    "Table *= \"\\\\end{tabular}\\n\";\n",
    "\n",
    "# Export result to .tex file\n",
    "write(\"table2.tex\", Table);"
   ]
  },
  {
   "cell_type": "code",
   "execution_count": null,
   "metadata": {},
   "outputs": [],
   "source": []
  },
  {
   "cell_type": "code",
   "execution_count": null,
   "metadata": {},
   "outputs": [],
   "source": []
  }
 ],
 "metadata": {
  "kernelspec": {
   "display_name": "Julia 1.6.0",
   "language": "julia",
   "name": "julia-1.6"
  },
  "language_info": {
   "file_extension": ".jl",
   "mimetype": "application/julia",
   "name": "julia",
   "version": "1.6.2"
  },
  "orig_nbformat": 4
 },
 "nbformat": 4,
 "nbformat_minor": 2
}
