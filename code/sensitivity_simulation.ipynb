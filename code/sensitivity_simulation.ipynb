{
 "cells": [
  {
   "cell_type": "code",
   "execution_count": 2,
   "metadata": {},
   "outputs": [],
   "source": [
    "using Distributions\n",
    "using Statistics\n",
    "using Roots\n",
    "using Plots\n",
    "using DataFrames\n",
    "using LaTeXStrings"
   ]
  },
  {
   "cell_type": "code",
   "execution_count": 3,
   "metadata": {},
   "outputs": [
    {
     "data": {
      "text/plain": [
       "ψ′ (generic function with 1 method)"
      ]
     },
     "execution_count": 3,
     "metadata": {},
     "output_type": "execute_result"
    }
   ],
   "source": [
    "ϕ(x, y; H = 1) = max.(y .- x, 0) .- H .* max.(x .- y, 0)\n",
    "ϕ′(x, y; H = 1) = max.(x .- y, 0) .- H .* max.(y .- x, 0)\n",
    "ψ(x, y; K = 1) = max.(y .- x, 0) .- K .* max.(x .- y, 0)\n",
    "ψ′(x, y; K = 1) = max.(x .- y, 0) .- K .* max.(y .- x, 0)"
   ]
  },
  {
   "cell_type": "code",
   "execution_count": 4,
   "metadata": {},
   "outputs": [
    {
     "data": {
      "text/plain": [
       "data_generation (generic function with 2 methods)"
      ]
     },
     "execution_count": 4,
     "metadata": {},
     "output_type": "execute_result"
    }
   ],
   "source": [
    "function data_generation(N = 10000; H = exp(0.1), K = exp(0.5))\n",
    "    N = 10000 # number of total observations\n",
    "    \n",
    "    # unobserved confounder for external validity\n",
    "    U = rand(Normal(), N)\n",
    "    \n",
    "    # DGP for S₁ and G. They all depend on U.\n",
    "    S₁ = 5 * (rand(N) .< (0.5 .- 0.3*(U.>0))) .+ 5 \n",
    "    G = rand(N) .> (1 ./ (1 .+ exp.(-log(H).* (U.>0)))); \n",
    "    \n",
    "    # unobserved confounder for latent unconfoundedness\n",
    "    V = rand(Normal(), N);\n",
    "    \n",
    "    # DGP for Y₁ and D. They all depend on V.\n",
    "    Y₁ = S₁ + V + randn(N);\n",
    "    D = similar(G);\n",
    "    \n",
    "    # randomization in the experimental sample\n",
    "    D[G .== 1] = rand((0,1), sum(G .== 1))\n",
    "    \n",
    "    # K-latent-confoundedness\n",
    "    D[G .== 0] = rand(sum(G .== 0)) .> \n",
    "    (1 ./ (1 .+ exp.(-log(K).* (V[G .== 0].>0) .- 0.1 .*S₁[G .== 0])))\n",
    "    \n",
    "    df = DataFrame(G = G, S1 = S₁, D=D, Y1 = Y₁, S = D.*S₁, Y = D.*Y₁)\n",
    "end"
   ]
  },
  {
   "cell_type": "code",
   "execution_count": 5,
   "metadata": {},
   "outputs": [
    {
     "data": {
      "text/plain": [
       "lower (generic function with 1 method)"
      ]
     },
     "execution_count": 5,
     "metadata": {},
     "output_type": "execute_result"
    }
   ],
   "source": [
    "function lower(m; K=exp(0.5), H=exp(0.1), df = df)\n",
    "    ϕ(x, y) = max.(y .- x, 0) .- H .* max.(x .- y, 0)\n",
    "    ϕ′(x, y) = max.(x .- y, 0) .- H .* max.(y .- x, 0)\n",
    "    ψ(x, y) = max.(y .- x, 0) .- K .* max.(x .- y, 0)\n",
    "    ψ′(x, y) = max.(x .- y, 0) .- K .* max.(y .- x, 0)\n",
    "    \n",
    "    f(s) = m -> mean((df.D .== 1) .* (df.G .== 0) .* (df.S .≈ s) .* ψ(m, df.Y))\n",
    "    g(s) = m -> mean((df.D .== 1) .* (df.G .== 0) .* (df.S .≈ s) .* ψ′(m, df.Y))\n",
    "    \n",
    "    θ1minushat_s1 = find_zero(f(5), 2.0)\n",
    "    θ1minushat_s2 = find_zero(f(10), 2.0)\n",
    "    \n",
    "    return mean((df.D.==1) .* (df.G .== 1) .*\n",
    "    (df.S .== 5) .* ϕ(m, θ1minushat_s1)) + mean((df.D.==1) .* (df.G .== 1) .*\n",
    "    (df.S .== 10) .* ϕ(m, θ1minushat_s2)) \n",
    "end"
   ]
  },
  {
   "cell_type": "code",
   "execution_count": 6,
   "metadata": {},
   "outputs": [
    {
     "data": {
      "text/plain": [
       "upper (generic function with 1 method)"
      ]
     },
     "execution_count": 6,
     "metadata": {},
     "output_type": "execute_result"
    }
   ],
   "source": [
    "function upper(m; K=exp(0.5), H=exp(0.1), df = df)\n",
    "    ϕ(x, y) = max.(y .- x, 0) .- H .* max.(x .- y, 0)\n",
    "    ϕ′(x, y) = max.(x .- y, 0) .- H .* max.(y .- x, 0)\n",
    "    ψ(x, y) = max.(y .- x, 0) .- K .* max.(x .- y, 0)\n",
    "    ψ′(x, y) = max.(x .- y, 0) .- K .* max.(y .- x, 0)\n",
    "    \n",
    "    f(s) = m -> mean((df.D .== 1) .* (df.G .== 0) .* (df.S .≈ s) .* ψ(m, df.Y))\n",
    "    g(s) = m -> mean((df.D .== 1) .* (df.G .== 0) .* (df.S .≈ s) .* ψ′(m, df.Y))\n",
    "    \n",
    "    θ1plushat_s1 = find_zero(g(5), 2.0)\n",
    "    θ1plushat_s2 = find_zero(g(10), 2.0)\n",
    "    \n",
    "    return mean((df.D.==1) .* (df.G .== 1) .*\n",
    "    (df.S .== 5) .* ϕ′(m, θ1plushat_s1)) + mean((df.D.==1) .* (df.G .== 1) .*\n",
    "    (df.S .== 10) .* ϕ′(m, θ1plushat_s2)) \n",
    "end"
   ]
  },
  {
   "cell_type": "code",
   "execution_count": 7,
   "metadata": {},
   "outputs": [
    {
     "data": {
      "text/plain": [
       "compute_lower_Y1 (generic function with 1 method)"
      ]
     },
     "execution_count": 7,
     "metadata": {},
     "output_type": "execute_result"
    }
   ],
   "source": [
    "function compute_lower_Y1(df; K=1, H=1)\n",
    "    \n",
    "    f(s; df = df, K = K) = m -> mean((df.D .== 1) .* (df.G .== 0) .* (df.S .≈ s) .* ψ(m, df.Y; K = K))\n",
    "    \n",
    "    θ1minushat_s1 = find_zero(f(5; df = df, K=K), 2.0)\n",
    "    θ1minushat_s2 = find_zero(f(10; df = df, K=K), 2.0)\n",
    "    \n",
    "    μ1minus = find_zero(m -> lower(m; df=df, K=K, H=H), 2.0) / mean(df[df.G .== 0, :D].== 0) - \n",
    "    (θ1minushat_s1 * mean(df[ (df.D.==1) .* (df.G .== 0), :S] .== 5) + \n",
    "    θ1minushat_s2 * mean(df[ (df.D.==1) .* (df.G .== 0), :S] .== 10) ) * \n",
    "    mean(df[df.G .== 0, :D].== 1) /\n",
    "    mean(df[df.G .== 0, :D].== 0)\n",
    "    \n",
    "    lower_Y1 = mean(df[ (df.G .== 0) .* (df.D .== 1 ), :Y]) * \n",
    "        mean(df[df.G .== 0, :D].== 1) +  \n",
    "        μ1minus* \n",
    "        mean(df[df.G .== 0, :D].== 0)\n",
    "end"
   ]
  },
  {
   "cell_type": "code",
   "execution_count": 8,
   "metadata": {},
   "outputs": [
    {
     "data": {
      "text/plain": [
       "compute_upper_Y1 (generic function with 1 method)"
      ]
     },
     "execution_count": 8,
     "metadata": {},
     "output_type": "execute_result"
    }
   ],
   "source": [
    "function compute_upper_Y1(df; K = exp(0.5), H = exp(0.1))\n",
    "    \n",
    "    g(s; df = df, K = K) = m -> mean((df.D .== 1) .* (df.G .== 0) .* (df.S .≈ s) .* ψ′(m, df.Y; K = K))\n",
    "    \n",
    "    θ1plushat_s1 = find_zero(g(5; df = df, K = K), 2.0)\n",
    "    θ1plushat_s2 = find_zero(g(10; df = df, K = K), 2.0)\n",
    "    \n",
    "    μ1plus = find_zero(m -> upper(m; df=df, K=K, H=H), 2.0) / mean(df[df.G .== 0, :D].== 0) - (θ1plushat_s1 * mean(df[ (df.D.==1) .* (df.G .== 0), :S] .== 5) + \n",
    "    θ1plushat_s2 * mean(df[ (df.D.==1) .* (df.G .== 0), :S] .== 10) ) * \n",
    "    mean(df[df.G .== 0, :D].== 1) /\n",
    "    mean(df[df.G .== 0, :D].== 0)\n",
    "    \n",
    "    upper_Y1 = mean(df[ (df.G .== 0) .* (df.D .== 1 ), :Y]) * \n",
    "        mean(df[df.G .== 0, :D].== 1) +  \n",
    "        μ1plus* \n",
    "        mean(df[df.G .== 0, :D].== 0)\n",
    "end"
   ]
  },
  {
   "cell_type": "code",
   "execution_count": 9,
   "metadata": {},
   "outputs": [
    {
     "data": {
      "text/plain": [
       "lower2 (generic function with 1 method)"
      ]
     },
     "execution_count": 9,
     "metadata": {},
     "output_type": "execute_result"
    }
   ],
   "source": [
    "function lower2(m; K=exp(0.5), H=exp(0.1), df = df)\n",
    "    ϕ(x, y) = max.(y .- x, 0) .- H .* max.(x .- y, 0)\n",
    "    ϕ′(x, y) = max.(x .- y, 0) .- H .* max.(y .- x, 0)\n",
    "    ψ(x, y) = max.(y .- x, 0) .- K .* max.(x .- y, 0)\n",
    "    ψ′(x, y) = max.(x .- y, 0) .- K .* max.(y .- x, 0)\n",
    "    \n",
    "    f(s) = m -> mean((df.D .== 0) .* (df.G .== 0) .* (df.S .≈ s) .* ψ(m, df.Y))\n",
    "    g(s) = m -> mean((df.D .== 0) .* (df.G .== 0) .* (df.S .≈ s) .* ψ′(m, df.Y))\n",
    "    \n",
    "    θ0minushat_s1 = find_zero(f(5), 0.0)\n",
    "    θ0minushat_s2 = find_zero(f(10), 0.0)\n",
    "    \n",
    "    return mean((df.D.==0) .* (df.G .== 1) .*\n",
    "    (df.S .== 5) .* ϕ(m, θ0minushat_s1)) + mean((df.D.==0) .* (df.G .== 1) .*\n",
    "    (df.S .== 10) .* ϕ(m, θ0minushat_s2)) \n",
    "end"
   ]
  },
  {
   "cell_type": "code",
   "execution_count": 10,
   "metadata": {},
   "outputs": [
    {
     "data": {
      "text/plain": [
       "upper2 (generic function with 1 method)"
      ]
     },
     "execution_count": 10,
     "metadata": {},
     "output_type": "execute_result"
    }
   ],
   "source": [
    "function upper2(m; K=exp(0.5), H=exp(0.1), df = df)\n",
    "    ϕ(x, y) = max.(y .- x, 0) .- H .* max.(x .- y, 0)\n",
    "    ϕ′(x, y) = max.(x .- y, 0) .- H .* max.(y .- x, 0)\n",
    "    ψ(x, y) = max.(y .- x, 0) .- K .* max.(x .- y, 0)\n",
    "    ψ′(x, y) = max.(x .- y, 0) .- K .* max.(y .- x, 0)\n",
    "    \n",
    "    f(s) = m -> mean((df.D .== 0) .* (df.G .== 0) .* (df.S .≈ s) .* ψ(m, df.Y))\n",
    "    g(s) = m -> mean((df.D .== 0) .* (df.G .== 0) .* (df.S .≈ s) .* ψ′(m, df.Y))\n",
    "    \n",
    "    θ0plushat_s1 = find_zero(g(5), 0.0)\n",
    "    θ0plushat_s2 = find_zero(g(10), 0.0)\n",
    "    \n",
    "    return mean((df.D.==0) .* (df.G .== 1) .*\n",
    "    (df.S .== 5) .* ϕ′(m, θ0plushat_s1)) + mean((df.D.==0) .* (df.G .== 1) .*\n",
    "    (df.S .== 10) .* ϕ′(m, θ0plushat_s2)) \n",
    "end"
   ]
  },
  {
   "cell_type": "code",
   "execution_count": 11,
   "metadata": {},
   "outputs": [
    {
     "data": {
      "text/plain": [
       "compute_lower_Y0 (generic function with 1 method)"
      ]
     },
     "execution_count": 11,
     "metadata": {},
     "output_type": "execute_result"
    }
   ],
   "source": [
    "function compute_lower_Y0(df; K=1, H=1)\n",
    "    \n",
    "    f(s; df = df, K = K) = m -> mean((df.D .== 0) .* (df.G .== 0) .* (df.S .≈ s) .* ψ(m, df.Y; K = K))\n",
    "    \n",
    "    θ0minushat_s1 = find_zero(f(5; df = df, K=K), 0.0)\n",
    "    θ0minushat_s2 = find_zero(f(10; df = df, K=K), 0.0)\n",
    "    \n",
    "    μ0minus = find_zero(m -> lower2(m; df=df, K=K, H=H), 0.0) / mean(df[df.G .== 0, :D].== 1) - \n",
    "    (θ0minushat_s1 * mean(df[ (df.D.==0) .* (df.G .== 0), :S] .== 5) + \n",
    "    θ0minushat_s2 * mean(df[ (df.D.==0) .* (df.G .== 0), :S] .== 10) ) * \n",
    "    mean(df[df.G .== 0, :D].== 0) /\n",
    "    mean(df[df.G .== 0, :D].== 1)\n",
    "    \n",
    "    lower_Y0 = mean(df[ (df.G .== 0) .* (df.D .== 0 ), :Y]) * \n",
    "        mean(df[df.G .== 0, :D].== 0) +  \n",
    "        μ0minus* \n",
    "        mean(df[df.G .== 0, :D].== 1)\n",
    "end"
   ]
  },
  {
   "cell_type": "code",
   "execution_count": 12,
   "metadata": {},
   "outputs": [
    {
     "data": {
      "text/plain": [
       "compute_upper_Y0 (generic function with 1 method)"
      ]
     },
     "execution_count": 12,
     "metadata": {},
     "output_type": "execute_result"
    }
   ],
   "source": [
    "function compute_upper_Y0(df; K = exp(0.5), H = exp(0.1))\n",
    "    \n",
    "    g(s; df = df, K = K) = m -> mean((df.D .== 0) .* (df.G .== 0) .* (df.S .≈ s) .* ψ′(m, df.Y; K = K))\n",
    "    \n",
    "    θ0plushat_s1 = find_zero(g(5; df = df, K = K), 0.0)\n",
    "    θ0plushat_s2 = find_zero(g(10; df = df, K = K), 0.0)\n",
    "    \n",
    "    μ0plus = find_zero(m -> upper2(m; df=df, K=K, H=H), 0.0) / mean(df[df.G .== 0, :D].== 1) - \n",
    "    (θ0plushat_s1 * mean(df[ (df.D.==0) .* (df.G .== 0), :S] .== 5) + \n",
    "    θ0plushat_s2 * mean(df[ (df.D.==0) .* (df.G .== 0), :S] .== 10) ) * \n",
    "    mean(df[df.G .== 0, :D].== 0) /\n",
    "    mean(df[df.G .== 0, :D].== 1)\n",
    "    \n",
    "    upper_Y0 = mean(df[ (df.G .== 0) .* (df.D .== 0 ), :Y]) * \n",
    "        mean(df[df.G .== 0, :D].== 0) +  \n",
    "        μ0plus* \n",
    "        mean(df[df.G .== 0, :D].== 1)\n",
    "end"
   ]
  },
  {
   "cell_type": "code",
   "execution_count": 13,
   "metadata": {},
   "outputs": [
    {
     "data": {
      "text/plain": [
       "data_generation2 (generic function with 2 methods)"
      ]
     },
     "execution_count": 13,
     "metadata": {},
     "output_type": "execute_result"
    }
   ],
   "source": [
    "function data_generation2(N = 10000; H = exp(0.1), K = exp(0.5))\n",
    "    τ = 1\n",
    "\n",
    "    # unobserved confounder for external validity\n",
    "    U = rand(Normal(), N)\n",
    "\n",
    "    # DGP for S₁ and G. They all depend on U.\n",
    "    S₀ = 5 * (rand(N) .< (0.5 .+ 0.15 * (U .> 0))) .+ 5\n",
    "    S₁ = 5 * (rand(N) .< (0.5 .+ 0.3 * (U .> 0))) .+ 5\n",
    "    G = rand(N) .> (1 ./ (1 .+ exp.(-log(H) .* (U .> 0))))\n",
    "\n",
    "    # unobserved confounder for latent unconfoundedness\n",
    "    V = rand(Normal(), N)\n",
    "\n",
    "    # DGP for Y₁ and D. They all depend on V.\n",
    "    Y₀ = S₀ + 5 * V + randn(N)\n",
    "    Y₁ = Y₀ .+ τ\n",
    "    D = similar(G)\n",
    "\n",
    "    # randomization in the experimental sample\n",
    "    D[G.==1] = rand((0, 1), sum(G .== 1))\n",
    "\n",
    "    # K-latent-confoundedness\n",
    "    D[G.==0] = rand(sum(G .== 0)) .>\n",
    "               (1 ./ (1 .+ exp.(log(K) .* (V[G.==0] .> 0) + 0.5 .* (U[G .== 0] .> 0) )))\n",
    "\n",
    "    df = DataFrame(G = G, S1 = S₁, S0 = S₀, D = D, Y1 = Y₁, Y0 = Y₀,\n",
    "        S = D .* S₁ .+ (1 .- D) .* S₀, Y = D .* Y₁ .+ (1 .- D) .* Y₀)\n",
    "end"
   ]
  },
  {
   "cell_type": "code",
   "execution_count": 14,
   "metadata": {},
   "outputs": [
    {
     "data": {
      "text/html": [
       "<table class=\"data-frame\"><thead><tr><th></th><th>G</th><th>S1</th><th>S0</th><th>D</th><th>Y1</th><th>Y0</th><th>S</th><th>Y</th></tr><tr><th></th><th>Bool</th><th>Int64</th><th>Int64</th><th>Bool</th><th>Float64</th><th>Float64</th><th>Int64</th><th>Float64</th></tr></thead><tbody><p>10,000 rows × 8 columns</p><tr><th>1</th><td>0</td><td>10</td><td>5</td><td>1</td><td>5.83648</td><td>4.83648</td><td>10</td><td>5.83648</td></tr><tr><th>2</th><td>0</td><td>5</td><td>5</td><td>0</td><td>8.52246</td><td>7.52246</td><td>5</td><td>7.52246</td></tr><tr><th>3</th><td>0</td><td>10</td><td>5</td><td>1</td><td>-0.846811</td><td>-1.84681</td><td>10</td><td>-0.846811</td></tr><tr><th>4</th><td>1</td><td>10</td><td>10</td><td>1</td><td>13.0711</td><td>12.0711</td><td>10</td><td>13.0711</td></tr><tr><th>5</th><td>1</td><td>10</td><td>5</td><td>1</td><td>10.6765</td><td>9.67655</td><td>10</td><td>10.6765</td></tr><tr><th>6</th><td>0</td><td>5</td><td>5</td><td>1</td><td>12.9949</td><td>11.9949</td><td>5</td><td>12.9949</td></tr><tr><th>7</th><td>0</td><td>10</td><td>5</td><td>0</td><td>12.7561</td><td>11.7561</td><td>5</td><td>11.7561</td></tr><tr><th>8</th><td>0</td><td>10</td><td>5</td><td>1</td><td>10.6927</td><td>9.69274</td><td>10</td><td>10.6927</td></tr><tr><th>9</th><td>0</td><td>10</td><td>10</td><td>1</td><td>7.89396</td><td>6.89396</td><td>10</td><td>7.89396</td></tr><tr><th>10</th><td>1</td><td>5</td><td>10</td><td>1</td><td>21.5271</td><td>20.5271</td><td>5</td><td>21.5271</td></tr><tr><th>11</th><td>0</td><td>10</td><td>5</td><td>0</td><td>2.95424</td><td>1.95424</td><td>5</td><td>1.95424</td></tr><tr><th>12</th><td>0</td><td>10</td><td>5</td><td>0</td><td>10.1974</td><td>9.1974</td><td>5</td><td>9.1974</td></tr><tr><th>13</th><td>1</td><td>5</td><td>10</td><td>0</td><td>15.7909</td><td>14.7909</td><td>10</td><td>14.7909</td></tr><tr><th>14</th><td>1</td><td>10</td><td>5</td><td>0</td><td>9.08762</td><td>8.08762</td><td>5</td><td>8.08762</td></tr><tr><th>15</th><td>1</td><td>5</td><td>10</td><td>1</td><td>6.76762</td><td>5.76762</td><td>5</td><td>6.76762</td></tr><tr><th>16</th><td>0</td><td>10</td><td>10</td><td>1</td><td>12.5624</td><td>11.5624</td><td>10</td><td>12.5624</td></tr><tr><th>17</th><td>0</td><td>5</td><td>10</td><td>1</td><td>15.2815</td><td>14.2815</td><td>5</td><td>15.2815</td></tr><tr><th>18</th><td>0</td><td>10</td><td>10</td><td>0</td><td>1.88326</td><td>0.883255</td><td>10</td><td>0.883255</td></tr><tr><th>19</th><td>0</td><td>10</td><td>5</td><td>1</td><td>12.9766</td><td>11.9766</td><td>10</td><td>12.9766</td></tr><tr><th>20</th><td>1</td><td>5</td><td>10</td><td>1</td><td>15.3322</td><td>14.3322</td><td>5</td><td>15.3322</td></tr><tr><th>21</th><td>1</td><td>5</td><td>10</td><td>0</td><td>15.3341</td><td>14.3341</td><td>10</td><td>14.3341</td></tr><tr><th>22</th><td>0</td><td>10</td><td>5</td><td>0</td><td>4.53384</td><td>3.53384</td><td>5</td><td>3.53384</td></tr><tr><th>23</th><td>1</td><td>10</td><td>5</td><td>0</td><td>4.59962</td><td>3.59962</td><td>5</td><td>3.59962</td></tr><tr><th>24</th><td>1</td><td>5</td><td>10</td><td>1</td><td>8.15344</td><td>7.15344</td><td>5</td><td>8.15344</td></tr><tr><th>25</th><td>1</td><td>10</td><td>5</td><td>0</td><td>9.25813</td><td>8.25813</td><td>5</td><td>8.25813</td></tr><tr><th>26</th><td>0</td><td>5</td><td>10</td><td>0</td><td>17.9339</td><td>16.9339</td><td>10</td><td>16.9339</td></tr><tr><th>27</th><td>0</td><td>10</td><td>5</td><td>0</td><td>13.5364</td><td>12.5364</td><td>5</td><td>12.5364</td></tr><tr><th>28</th><td>0</td><td>10</td><td>5</td><td>0</td><td>3.86173</td><td>2.86173</td><td>5</td><td>2.86173</td></tr><tr><th>29</th><td>0</td><td>10</td><td>5</td><td>1</td><td>15.9072</td><td>14.9072</td><td>10</td><td>15.9072</td></tr><tr><th>30</th><td>0</td><td>10</td><td>10</td><td>1</td><td>16.7874</td><td>15.7874</td><td>10</td><td>16.7874</td></tr><tr><th>&vellip;</th><td>&vellip;</td><td>&vellip;</td><td>&vellip;</td><td>&vellip;</td><td>&vellip;</td><td>&vellip;</td><td>&vellip;</td><td>&vellip;</td></tr></tbody></table>"
      ],
      "text/latex": [
       "\\begin{tabular}{r|cccccccc}\n",
       "\t& G & S1 & S0 & D & Y1 & Y0 & S & Y\\\\\n",
       "\t\\hline\n",
       "\t& Bool & Int64 & Int64 & Bool & Float64 & Float64 & Int64 & Float64\\\\\n",
       "\t\\hline\n",
       "\t1 & 0 & 10 & 5 & 1 & 5.83648 & 4.83648 & 10 & 5.83648 \\\\\n",
       "\t2 & 0 & 5 & 5 & 0 & 8.52246 & 7.52246 & 5 & 7.52246 \\\\\n",
       "\t3 & 0 & 10 & 5 & 1 & -0.846811 & -1.84681 & 10 & -0.846811 \\\\\n",
       "\t4 & 1 & 10 & 10 & 1 & 13.0711 & 12.0711 & 10 & 13.0711 \\\\\n",
       "\t5 & 1 & 10 & 5 & 1 & 10.6765 & 9.67655 & 10 & 10.6765 \\\\\n",
       "\t6 & 0 & 5 & 5 & 1 & 12.9949 & 11.9949 & 5 & 12.9949 \\\\\n",
       "\t7 & 0 & 10 & 5 & 0 & 12.7561 & 11.7561 & 5 & 11.7561 \\\\\n",
       "\t8 & 0 & 10 & 5 & 1 & 10.6927 & 9.69274 & 10 & 10.6927 \\\\\n",
       "\t9 & 0 & 10 & 10 & 1 & 7.89396 & 6.89396 & 10 & 7.89396 \\\\\n",
       "\t10 & 1 & 5 & 10 & 1 & 21.5271 & 20.5271 & 5 & 21.5271 \\\\\n",
       "\t11 & 0 & 10 & 5 & 0 & 2.95424 & 1.95424 & 5 & 1.95424 \\\\\n",
       "\t12 & 0 & 10 & 5 & 0 & 10.1974 & 9.1974 & 5 & 9.1974 \\\\\n",
       "\t13 & 1 & 5 & 10 & 0 & 15.7909 & 14.7909 & 10 & 14.7909 \\\\\n",
       "\t14 & 1 & 10 & 5 & 0 & 9.08762 & 8.08762 & 5 & 8.08762 \\\\\n",
       "\t15 & 1 & 5 & 10 & 1 & 6.76762 & 5.76762 & 5 & 6.76762 \\\\\n",
       "\t16 & 0 & 10 & 10 & 1 & 12.5624 & 11.5624 & 10 & 12.5624 \\\\\n",
       "\t17 & 0 & 5 & 10 & 1 & 15.2815 & 14.2815 & 5 & 15.2815 \\\\\n",
       "\t18 & 0 & 10 & 10 & 0 & 1.88326 & 0.883255 & 10 & 0.883255 \\\\\n",
       "\t19 & 0 & 10 & 5 & 1 & 12.9766 & 11.9766 & 10 & 12.9766 \\\\\n",
       "\t20 & 1 & 5 & 10 & 1 & 15.3322 & 14.3322 & 5 & 15.3322 \\\\\n",
       "\t21 & 1 & 5 & 10 & 0 & 15.3341 & 14.3341 & 10 & 14.3341 \\\\\n",
       "\t22 & 0 & 10 & 5 & 0 & 4.53384 & 3.53384 & 5 & 3.53384 \\\\\n",
       "\t23 & 1 & 10 & 5 & 0 & 4.59962 & 3.59962 & 5 & 3.59962 \\\\\n",
       "\t24 & 1 & 5 & 10 & 1 & 8.15344 & 7.15344 & 5 & 8.15344 \\\\\n",
       "\t25 & 1 & 10 & 5 & 0 & 9.25813 & 8.25813 & 5 & 8.25813 \\\\\n",
       "\t26 & 0 & 5 & 10 & 0 & 17.9339 & 16.9339 & 10 & 16.9339 \\\\\n",
       "\t27 & 0 & 10 & 5 & 0 & 13.5364 & 12.5364 & 5 & 12.5364 \\\\\n",
       "\t28 & 0 & 10 & 5 & 0 & 3.86173 & 2.86173 & 5 & 2.86173 \\\\\n",
       "\t29 & 0 & 10 & 5 & 1 & 15.9072 & 14.9072 & 10 & 15.9072 \\\\\n",
       "\t30 & 0 & 10 & 10 & 1 & 16.7874 & 15.7874 & 10 & 16.7874 \\\\\n",
       "\t$\\dots$ & $\\dots$ & $\\dots$ & $\\dots$ & $\\dots$ & $\\dots$ & $\\dots$ & $\\dots$ & $\\dots$ \\\\\n",
       "\\end{tabular}\n"
      ],
      "text/plain": [
       "\u001b[1m10000×8 DataFrame\u001b[0m\n",
       "\u001b[1m   Row \u001b[0m│\u001b[1m G     \u001b[0m\u001b[1m S1    \u001b[0m\u001b[1m S0    \u001b[0m\u001b[1m D     \u001b[0m\u001b[1m Y1        \u001b[0m\u001b[1m Y0        \u001b[0m\u001b[1m S     \u001b[0m\u001b[1m Y         \u001b[0m\n",
       "\u001b[1m       \u001b[0m│\u001b[90m Bool  \u001b[0m\u001b[90m Int64 \u001b[0m\u001b[90m Int64 \u001b[0m\u001b[90m Bool  \u001b[0m\u001b[90m Float64   \u001b[0m\u001b[90m Float64   \u001b[0m\u001b[90m Int64 \u001b[0m\u001b[90m Float64   \u001b[0m\n",
       "───────┼────────────────────────────────────────────────────────────────────\n",
       "     1 │ false     10      5   true   5.83648    4.83648      10   5.83648\n",
       "     2 │ false      5      5  false   8.52246    7.52246       5   7.52246\n",
       "     3 │ false     10      5   true  -0.846811  -1.84681      10  -0.846811\n",
       "     4 │  true     10     10   true  13.0711    12.0711       10  13.0711\n",
       "     5 │  true     10      5   true  10.6765     9.67655      10  10.6765\n",
       "     6 │ false      5      5   true  12.9949    11.9949        5  12.9949\n",
       "     7 │ false     10      5  false  12.7561    11.7561        5  11.7561\n",
       "     8 │ false     10      5   true  10.6927     9.69274      10  10.6927\n",
       "     9 │ false     10     10   true   7.89396    6.89396      10   7.89396\n",
       "    10 │  true      5     10   true  21.5271    20.5271        5  21.5271\n",
       "    11 │ false     10      5  false   2.95424    1.95424       5   1.95424\n",
       "   ⋮   │   ⋮      ⋮      ⋮      ⋮        ⋮          ⋮        ⋮        ⋮\n",
       "  9991 │ false     10     10   true  11.0217    10.0217       10  11.0217\n",
       "  9992 │  true      5     10  false  14.3073    13.3073       10  13.3073\n",
       "  9993 │  true     10     10   true   7.45717    6.45717      10   7.45717\n",
       "  9994 │ false     10     10  false   9.43701    8.43701      10   8.43701\n",
       "  9995 │  true     10     10   true   6.61       5.61         10   6.61\n",
       "  9996 │  true     10      5   true   9.78648    8.78648      10   9.78648\n",
       "  9997 │  true      5     10   true  10.3117     9.31175       5  10.3117\n",
       "  9998 │ false     10      5  false  12.5623    11.5623        5  11.5623\n",
       "  9999 │ false      5     10   true  14.1898    13.1898        5  14.1898\n",
       " 10000 │ false     10      5   true   0.239788  -0.760212     10   0.239788\n",
       "\u001b[36m                                                           9979 rows omitted\u001b[0m"
      ]
     },
     "execution_count": 14,
     "metadata": {},
     "output_type": "execute_result"
    }
   ],
   "source": [
    "df2 = data_generation2(10000; H = 1, K = 1)"
   ]
  },
  {
   "cell_type": "code",
   "execution_count": 15,
   "metadata": {},
   "outputs": [
    {
     "name": "stderr",
     "output_type": "stream",
     "text": [
      "ERROR: syntax error\n",
      "ERROR: syntax error\n",
      "ERROR: syntax error\n",
      "ERROR: syntax error\n"
     ]
    }
   ],
   "source": [
    "df2 = data_generation2(1000; K = 1.5, H = 1.5)\n",
    "Ks = exp.(LinRange(0.0, 2, 10))\n",
    "plot(Ks, [compute_upper_Y1(df2; K = K, H = 1.5) - compute_lower_Y0(df2; K = K, H = 1.5) for K in Ks], xlim = (1, 6), label = \"lower bound\", lw = 3)\n",
    "plot!(Ks, [compute_lower_Y1(df2; K = K, H = 1.5) - compute_upper_Y0(df2; K = K, H = 1.5) for K in Ks], label = \"upper bound\", lw = 3)\n",
    "plot!(leg = :best)\n",
    "hline!([1], label = \"True ATE\")\n",
    "plot!(title = L\"One realization for $\\tau$ : true $H = 1.5, K = 1.5$ with $K$ varied$\")\n",
    "plot!(xlabel = L\"$K$\", ylabel = \"estimate\")\n",
    "plot!(size = (800, 800))\n",
    "savefig(\"fig1.png\")"
   ]
  },
  {
   "cell_type": "code",
   "execution_count": 22,
   "metadata": {},
   "outputs": [
    {
     "data": {
      "text/plain": [
       "0.9875"
      ]
     },
     "execution_count": 22,
     "metadata": {},
     "output_type": "execute_result"
    }
   ],
   "source": [
    "sp = 1.2\n",
    "upper_bound_τ = []\n",
    "oracle_τ = []\n",
    "lower_bound_τ = []\n",
    "\n",
    "for _ in 1:2000\n",
    "    df2 = data_generation2(500; K = sp, H = sp)\n",
    "    push!(upper_bound_τ, compute_upper_Y1(df2; K = sp, H = sp) - compute_lower_Y0(df2; K = sp, H = sp))\n",
    "    push!(lower_bound_τ, compute_lower_Y1(df2; K = sp, H = sp) - compute_upper_Y0(df2; K = sp, H = sp))\n",
    "    push!(oracle_τ, mean(df2[df2.G.==0, :Y1] - df2[df2.G.==0, :Y0]))\n",
    "end\n",
    "\n",
    "histogram(upper_bound_τ, bins = 50, alpha = 0.1, label = \"upper bound\")\n",
    "histogram!(lower_bound_τ, bins = 50, alpha = 0.1, label = \"lower bound\")\n",
    "vline!([1], label = L\"true $\\tau$\")\n",
    "plot!(xlabel = \"estimate\", ylabel = \"freq\", title = \"Histogram for estimates\", size = (800, 800))\n",
    "savefig(\"fig2.png\")\n",
    "\n",
    "sigma_l = std(lower_bound_τ)\n",
    "sigma_h = std(upper_bound_τ)\n",
    "\n",
    "mean(upper_bound_τ .+ 1.96 * sigma_h .> 1 .> lower_bound_τ .- 1.96 * sigma_l)"
   ]
  },
  {
   "cell_type": "code",
   "execution_count": 23,
   "metadata": {},
   "outputs": [
    {
     "data": {
      "text/plain": [
       "0.9905"
      ]
     },
     "execution_count": 23,
     "metadata": {},
     "output_type": "execute_result"
    }
   ],
   "source": [
    "sp = 1.2\n",
    "upper_bound_τ = []\n",
    "oracle_τ = []\n",
    "lower_bound_τ = []\n",
    "\n",
    "for _ in 1:2000\n",
    "    df2 = data_generation2(1000; K = sp, H = sp)\n",
    "    push!(upper_bound_τ, compute_upper_Y1(df2; K = sp, H = sp) - compute_lower_Y0(df2; K = sp, H = sp))\n",
    "    push!(lower_bound_τ, compute_lower_Y1(df2; K = sp, H = sp) - compute_upper_Y0(df2; K = sp, H = sp))\n",
    "    push!(oracle_τ, mean(df2[df2.G.==0, :Y1] - df2[df2.G.==0, :Y0]))\n",
    "end\n",
    "\n",
    "histogram(upper_bound_τ, bins = 50, alpha = 0.1, label = \"upper bound\")\n",
    "histogram!(lower_bound_τ, bins = 50, alpha = 0.1, label = \"lower bound\")\n",
    "vline!([1], label = L\"true $\\tau$\")\n",
    "plot!(xlabel = \"estimate\", ylabel = \"freq\", title = \"Histogram for estimates\", size = (800, 800))\n",
    "savefig(\"fig2.png\")\n",
    "\n",
    "sigma_l = std(lower_bound_τ)\n",
    "sigma_h = std(upper_bound_τ)\n",
    "\n",
    "mean(upper_bound_τ .+ 1.96 * sigma_h .> 1 .> lower_bound_τ .- 1.96 * sigma_l)"
   ]
  },
  {
   "cell_type": "code",
   "execution_count": 24,
   "metadata": {},
   "outputs": [
    {
     "data": {
      "text/plain": [
       "0.994"
      ]
     },
     "execution_count": 24,
     "metadata": {},
     "output_type": "execute_result"
    }
   ],
   "source": [
    "sp = 1.2\n",
    "upper_bound_τ = []\n",
    "oracle_τ = []\n",
    "lower_bound_τ = []\n",
    "\n",
    "for _ in 1:2000\n",
    "    df2 = data_generation2(2000; K = sp, H = sp)\n",
    "    push!(upper_bound_τ, compute_upper_Y1(df2; K = sp, H = sp) - compute_lower_Y0(df2; K = sp, H = sp))\n",
    "    push!(lower_bound_τ, compute_lower_Y1(df2; K = sp, H = sp) - compute_upper_Y0(df2; K = sp, H = sp))\n",
    "    push!(oracle_τ, mean(df2[df2.G.==0, :Y1] - df2[df2.G.==0, :Y0]))\n",
    "end\n",
    "\n",
    "histogram(upper_bound_τ, bins = 50, alpha = 0.1, label = \"upper bound\")\n",
    "histogram!(lower_bound_τ, bins = 50, alpha = 0.1, label = \"lower bound\")\n",
    "vline!([1], label = L\"true $\\tau$\")\n",
    "plot!(xlabel = \"estimate\", ylabel = \"freq\", title = \"Histogram for estimates\", size = (800, 800))\n",
    "savefig(\"fig2.png\")\n",
    "\n",
    "sigma_l = std(lower_bound_τ)\n",
    "sigma_h = std(upper_bound_τ)\n",
    "\n",
    "mean(upper_bound_τ .+ 1.96 * sigma_h .> 1 .> lower_bound_τ .- 1.96 * sigma_l)"
   ]
  },
  {
   "cell_type": "code",
   "execution_count": 25,
   "metadata": {},
   "outputs": [
    {
     "data": {
      "text/plain": [
       "0.951"
      ]
     },
     "execution_count": 25,
     "metadata": {},
     "output_type": "execute_result"
    }
   ],
   "source": [
    "sp = 1\n",
    "upper_bound_τ = []\n",
    "oracle_τ = []\n",
    "lower_bound_τ = []\n",
    "\n",
    "for _ in 1:2000\n",
    "    df2 = data_generation2(500; K = sp, H = sp)\n",
    "    push!(upper_bound_τ, compute_upper_Y1(df2; K = sp, H = sp) - compute_lower_Y0(df2; K = sp, H = sp))\n",
    "    push!(lower_bound_τ, compute_lower_Y1(df2; K = sp, H = sp) - compute_upper_Y0(df2; K = sp, H = sp))\n",
    "    push!(oracle_τ, mean(df2[df2.G.==0, :Y1] - df2[df2.G.==0, :Y0]))\n",
    "end\n",
    "\n",
    "histogram(upper_bound_τ, bins = 50, alpha = 0.1, label = \"upper bound\")\n",
    "histogram!(lower_bound_τ, bins = 50, alpha = 0.1, label = \"lower bound\")\n",
    "vline!([1], label = L\"true $\\tau$\")\n",
    "plot!(xlabel = \"estimate\", ylabel = \"freq\", title = \"Histogram for estimates\", size = (800, 800))\n",
    "savefig(\"fig2.png\")\n",
    "\n",
    "sigma_l = std(lower_bound_τ)\n",
    "sigma_h = std(upper_bound_τ)\n",
    "\n",
    "mean(upper_bound_τ .+ 1.96 * sigma_h .> 1 .> lower_bound_τ .- 1.96 * sigma_l)"
   ]
  },
  {
   "cell_type": "code",
   "execution_count": 27,
   "metadata": {},
   "outputs": [
    {
     "data": {
      "text/plain": [
       "0.949"
      ]
     },
     "execution_count": 27,
     "metadata": {},
     "output_type": "execute_result"
    }
   ],
   "source": [
    "sp = 1\n",
    "upper_bound_τ = []\n",
    "oracle_τ = []\n",
    "lower_bound_τ = []\n",
    "\n",
    "for _ in 1:2000\n",
    "    df2 = data_generation2(1000; K = sp, H = sp)\n",
    "    push!(upper_bound_τ, compute_upper_Y1(df2; K = sp, H = sp) - compute_lower_Y0(df2; K = sp, H = sp))\n",
    "    push!(lower_bound_τ, compute_lower_Y1(df2; K = sp, H = sp) - compute_upper_Y0(df2; K = sp, H = sp))\n",
    "    push!(oracle_τ, mean(df2[df2.G.==0, :Y1] - df2[df2.G.==0, :Y0]))\n",
    "end\n",
    "\n",
    "histogram(upper_bound_τ, bins = 50, alpha = 0.1, label = \"upper bound\")\n",
    "histogram!(lower_bound_τ, bins = 50, alpha = 0.1, label = \"lower bound\")\n",
    "vline!([1], label = L\"true $\\tau$\")\n",
    "plot!(xlabel = \"estimate\", ylabel = \"freq\", title = \"Histogram for estimates\", size = (800, 800))\n",
    "savefig(\"fig2.png\")\n",
    "\n",
    "sigma_l = std(lower_bound_τ)\n",
    "sigma_h = std(upper_bound_τ)\n",
    "\n",
    "mean(upper_bound_τ .+ 1.96 * sigma_h .> 1 .> lower_bound_τ .- 1.96 * sigma_l)"
   ]
  },
  {
   "cell_type": "code",
   "execution_count": 28,
   "metadata": {},
   "outputs": [
    {
     "data": {
      "text/plain": [
       "0.951"
      ]
     },
     "execution_count": 28,
     "metadata": {},
     "output_type": "execute_result"
    }
   ],
   "source": [
    "sp = 1\n",
    "upper_bound_τ = []\n",
    "oracle_τ = []\n",
    "lower_bound_τ = []\n",
    "\n",
    "for _ in 1:2000\n",
    "    df2 = data_generation2(2000; K = sp, H = sp)\n",
    "    push!(upper_bound_τ, compute_upper_Y1(df2; K = sp, H = sp) - compute_lower_Y0(df2; K = sp, H = sp))\n",
    "    push!(lower_bound_τ, compute_lower_Y1(df2; K = sp, H = sp) - compute_upper_Y0(df2; K = sp, H = sp))\n",
    "    push!(oracle_τ, mean(df2[df2.G.==0, :Y1] - df2[df2.G.==0, :Y0]))\n",
    "end\n",
    "\n",
    "histogram(upper_bound_τ, bins = 50, alpha = 0.1, label = \"upper bound\")\n",
    "histogram!(lower_bound_τ, bins = 50, alpha = 0.1, label = \"lower bound\")\n",
    "vline!([1], label = L\"true $\\tau$\")\n",
    "plot!(xlabel = \"estimate\", ylabel = \"freq\", title = \"Histogram for estimates\", size = (800, 800))\n",
    "savefig(\"fig2.png\")\n",
    "\n",
    "sigma_l = std(lower_bound_τ)\n",
    "sigma_h = std(upper_bound_τ)\n",
    "\n",
    "mean(upper_bound_τ .+ 1.96 * sigma_h .> 1 .> lower_bound_τ .- 1.96 * sigma_l)"
   ]
  },
  {
   "cell_type": "code",
   "execution_count": 26,
   "metadata": {},
   "outputs": [
    {
     "ename": "LoadError",
     "evalue": "InterruptException:",
     "output_type": "error",
     "traceback": [
      "InterruptException:",
      "",
      "Stacktrace:",
      "  [1] broadcasted",
      "    @ ./broadcast.jl:1317 [inlined]",
      "  [2] broadcasted(::Function, ::Base.Broadcast.Broadcasted{Base.Broadcast.DefaultArrayStyle{1}, Nothing, typeof(==), Tuple{BitVector, Int64}}, ::Base.Broadcast.Broadcasted{Base.Broadcast.DefaultArrayStyle{1}, Nothing, typeof(==), Tuple{BitVector, Int64}})",
      "    @ Base.Broadcast ./broadcast.jl:1315",
      "  [3] (::var\"#45#52\"{Int64, DataFrame, var\"#ψ#49\"{Float64}})(m::Float64)",
      "    @ Main ./In[9]:7",
      "  [4] (::Roots.Callable_Function{Val{1}, Val{false}, var\"#45#52\"{Int64, DataFrame, var\"#ψ#49\"{Float64}}, Nothing})(x::Float64)",
      "    @ Roots ~/.julia/packages/Roots/bSIXy/src/find_zero.jl:299",
      "  [5] update_state(M::AlefeldPotraShi, f::Roots.Callable_Function{Val{1}, Val{false}, var\"#45#52\"{Int64, DataFrame, var\"#ψ#49\"{Float64}}, Nothing}, state::Roots.AlefeldPotraShiState{Float64, Float64}, options::Roots.UnivariateZeroOptions{Float64, Float64, Float64, Float64}, l::Roots.NullTracks)",
      "    @ Roots ~/.julia/packages/Roots/bSIXy/src/bracketing.jl:649",
      "  [6] solve!(P::Roots.ZeroProblemIterator{AlefeldPotraShi, DataType, Roots.Callable_Function{Val{1}, Val{false}, var\"#45#52\"{Int64, DataFrame, var\"#ψ#49\"{Float64}}, Nothing}, Roots.AlefeldPotraShiState{Float64, Float64}, Roots.UnivariateZeroOptions{Float64, Float64, Float64, Float64}, Roots.NullTracks}; verbose::Bool)",
      "    @ Roots ~/.julia/packages/Roots/bSIXy/src/find_zero.jl:973",
      "  [7] solve!(P::Roots.ZeroProblemIterator{AlefeldPotraShi, DataType, Roots.Callable_Function{Val{1}, Val{false}, var\"#45#52\"{Int64, DataFrame, var\"#ψ#49\"{Float64}}, Nothing}, Roots.AlefeldPotraShiState{Float64, Float64}, Roots.UnivariateZeroOptions{Float64, Float64, Float64, Float64}, Roots.NullTracks})",
      "    @ Roots ~/.julia/packages/Roots/bSIXy/src/find_zero.jl:962",
      "  [8] solve!(𝐙::Roots.ZeroProblemIterator{Secant, AlefeldPotraShi, Roots.Callable_Function{Val{1}, Val{false}, var\"#45#52\"{Int64, DataFrame, var\"#ψ#49\"{Float64}}, Nothing}, Roots.UnivariateZeroState{Float64, Float64}, Roots.UnivariateZeroOptions{Float64, Float64, Float64, Float64}, Roots.NullTracks}; verbose::Bool)",
      "    @ Roots ~/.julia/packages/Roots/bSIXy/src/order0.jl:101",
      "  [9] solve(F::ZeroProblem{var\"#45#52\"{Int64, DataFrame, var\"#ψ#49\"{Float64}}, Float64}, args::Order0; verbose::Bool, kwargs::Base.Iterators.Pairs{Symbol, Union{Nothing, Roots.NullTracks}, Tuple{Symbol, Symbol}, NamedTuple{(:p, :tracks), Tuple{Nothing, Roots.NullTracks}}})",
      "    @ Roots ~/.julia/packages/Roots/bSIXy/src/find_zero.jl:996",
      " [10] find_zero(f::Function, x0::Float64, M::Order0; p::Nothing, verbose::Bool, tracks::Roots.NullTracks, kwargs::Base.Iterators.Pairs{Union{}, Union{}, Tuple{}, NamedTuple{(), Tuple{}}})",
      "    @ Roots ~/.julia/packages/Roots/bSIXy/src/find_zero.jl:709",
      " [11] find_zero",
      "    @ ~/.julia/packages/Roots/bSIXy/src/find_zero.jl:709 [inlined]",
      " [12] #find_zero#16",
      "    @ ~/.julia/packages/Roots/bSIXy/src/find_zero.jl:719 [inlined]",
      " [13] find_zero",
      "    @ ~/.julia/packages/Roots/bSIXy/src/find_zero.jl:719 [inlined]",
      " [14] lower2(m::Float64; K::Float64, H::Float64, df::DataFrame)",
      "    @ Main ./In[9]:10",
      " [15] #69",
      "    @ ./In[11]:8 [inlined]",
      " [16] (::Roots.Callable_Function{Val{1}, Val{false}, var\"#69#73\"{Float64, Float64, DataFrame}, Nothing})(x::Float64)",
      "    @ Roots ~/.julia/packages/Roots/bSIXy/src/find_zero.jl:299",
      " [17] init_state(M::Secant, F::Roots.Callable_Function{Val{1}, Val{false}, var\"#69#73\"{Float64, Float64, DataFrame}, Nothing}, x::Float64)",
      "    @ Roots ~/.julia/packages/Roots/bSIXy/src/derivative_free.jl:91",
      " [18] init(𝑭𝑿::ZeroProblem{var\"#69#73\"{Float64, Float64, DataFrame}, Float64}, M::Secant, N::AlefeldPotraShi; p::Nothing, verbose::Bool, tracks::Roots.NullTracks, kwargs::Base.Iterators.Pairs{Union{}, Union{}, Tuple{}, NamedTuple{(), Tuple{}}})",
      "    @ Roots ~/.julia/packages/Roots/bSIXy/src/order0.jl:52",
      " [19] #init#52",
      "    @ ~/.julia/packages/Roots/bSIXy/src/order0.jl:37 [inlined]",
      " [20] solve(F::ZeroProblem{var\"#69#73\"{Float64, Float64, DataFrame}, Float64}, args::Order0; verbose::Bool, kwargs::Base.Iterators.Pairs{Symbol, Union{Nothing, Roots.NullTracks}, Tuple{Symbol, Symbol}, NamedTuple{(:p, :tracks), Tuple{Nothing, Roots.NullTracks}}})",
      "    @ Roots ~/.julia/packages/Roots/bSIXy/src/find_zero.jl:996",
      " [21] find_zero(f::Function, x0::Float64, M::Order0; p::Nothing, verbose::Bool, tracks::Roots.NullTracks, kwargs::Base.Iterators.Pairs{Union{}, Union{}, Tuple{}, NamedTuple{(), Tuple{}}})",
      "    @ Roots ~/.julia/packages/Roots/bSIXy/src/find_zero.jl:709",
      " [22] find_zero",
      "    @ ~/.julia/packages/Roots/bSIXy/src/find_zero.jl:709 [inlined]",
      " [23] find_zero(f::Function, x0::Float64; kwargs::Base.Iterators.Pairs{Union{}, Union{}, Tuple{}, NamedTuple{(), Tuple{}}})",
      "    @ Roots ~/.julia/packages/Roots/bSIXy/src/find_zero.jl:719",
      " [24] find_zero",
      "    @ ~/.julia/packages/Roots/bSIXy/src/find_zero.jl:719 [inlined]",
      " [25] compute_lower_Y0(df::DataFrame; K::Float64, H::Float64)",
      "    @ Main ./In[11]:8",
      " [26] top-level scope",
      "    @ ./In[26]:8",
      " [27] eval",
      "    @ ./boot.jl:360 [inlined]",
      " [28] include_string(mapexpr::typeof(REPL.softscope), mod::Module, code::String, filename::String)",
      "    @ Base ./loading.jl:1116"
     ]
    }
   ],
   "source": [
    "upper_bound_Y0 = []\n",
    "oracle_Y0 = []\n",
    "lower_bound_Y0 = []\n",
    "\n",
    "for i in 1:500\n",
    "    df2 = data_generation2(800; K = 1.5, H = 1.5)\n",
    "    push!(upper_bound_Y0, compute_upper_Y0(df2; K = 1.5, H = 1.5))\n",
    "    push!(lower_bound_Y0, compute_lower_Y0(df2; K = 1.5, H = 1.5))\n",
    "    push!(oracle_Y0, mean(df2[df2.G.==0, :Y0]))\n",
    "end\n",
    "\n",
    "histogram(upper_bound_Y0, bins = 50, alpha = 0.1, label = \"upper bound\")\n",
    "histogram!(lower_bound_Y0, bins = 50, alpha = 0.1, label = \"lower bound\")\n",
    "vline!([mean(oracle_Y0)], label = L\"true $Y_{0}$\")"
   ]
  },
  {
   "cell_type": "code",
   "execution_count": 20,
   "metadata": {},
   "outputs": [
    {
     "data": {
      "image/svg+xml": "<?xml version=\"1.0\" encoding=\"utf-8\"?>\n<svg xmlns=\"http://www.w3.org/2000/svg\" xmlns:xlink=\"http://www.w3.org/1999/xlink\" width=\"600\" height=\"400\" viewBox=\"0 0 2400 1600\">\n<defs>\n  <clipPath id=\"clip760\">\n    <rect x=\"0\" y=\"0\" width=\"2400\" height=\"1600\"/>\n  </clipPath>\n</defs>\n<path clip-path=\"url(#clip760)\" d=\"\nM0 1600 L2400 1600 L2400 0 L0 0  Z\n  \" fill=\"#ffffff\" fill-rule=\"evenodd\" fill-opacity=\"1\"/>\n<defs>\n  <clipPath id=\"clip761\">\n    <rect x=\"480\" y=\"0\" width=\"1681\" height=\"1600\"/>\n  </clipPath>\n</defs>\n<defs>\n  <clipPath id=\"clip762\">\n    <rect x=\"140\" y=\"47\" width=\"2213\" height=\"1440\"/>\n  </clipPath>\n</defs>\n<path clip-path=\"url(#clip760)\" d=\"\nM140.696 1486.45 L2352.76 1486.45 L2352.76 47.2441 L140.696 47.2441  Z\n  \" fill=\"#ffffff\" fill-rule=\"evenodd\" fill-opacity=\"1\"/>\n<polyline clip-path=\"url(#clip762)\" style=\"stroke:#000000; stroke-linecap:butt; stroke-linejoin:round; stroke-width:2; stroke-opacity:0.1; fill:none\" points=\"\n  422.285,1486.45 422.285,47.2441 \n  \"/>\n<polyline clip-path=\"url(#clip762)\" style=\"stroke:#000000; stroke-linecap:butt; stroke-linejoin:round; stroke-width:2; stroke-opacity:0.1; fill:none\" points=\"\n  773.784,1486.45 773.784,47.2441 \n  \"/>\n<polyline clip-path=\"url(#clip762)\" style=\"stroke:#000000; stroke-linecap:butt; stroke-linejoin:round; stroke-width:2; stroke-opacity:0.1; fill:none\" points=\"\n  1125.28,1486.45 1125.28,47.2441 \n  \"/>\n<polyline clip-path=\"url(#clip762)\" style=\"stroke:#000000; stroke-linecap:butt; stroke-linejoin:round; stroke-width:2; stroke-opacity:0.1; fill:none\" points=\"\n  1476.78,1486.45 1476.78,47.2441 \n  \"/>\n<polyline clip-path=\"url(#clip762)\" style=\"stroke:#000000; stroke-linecap:butt; stroke-linejoin:round; stroke-width:2; stroke-opacity:0.1; fill:none\" points=\"\n  1828.28,1486.45 1828.28,47.2441 \n  \"/>\n<polyline clip-path=\"url(#clip762)\" style=\"stroke:#000000; stroke-linecap:butt; stroke-linejoin:round; stroke-width:2; stroke-opacity:0.1; fill:none\" points=\"\n  2179.78,1486.45 2179.78,47.2441 \n  \"/>\n<polyline clip-path=\"url(#clip760)\" style=\"stroke:#000000; stroke-linecap:butt; stroke-linejoin:round; stroke-width:4; stroke-opacity:1; fill:none\" points=\"\n  140.696,1486.45 2352.76,1486.45 \n  \"/>\n<polyline clip-path=\"url(#clip760)\" style=\"stroke:#000000; stroke-linecap:butt; stroke-linejoin:round; stroke-width:4; stroke-opacity:1; fill:none\" points=\"\n  422.285,1486.45 422.285,1467.55 \n  \"/>\n<polyline clip-path=\"url(#clip760)\" style=\"stroke:#000000; stroke-linecap:butt; stroke-linejoin:round; stroke-width:4; stroke-opacity:1; fill:none\" points=\"\n  773.784,1486.45 773.784,1467.55 \n  \"/>\n<polyline clip-path=\"url(#clip760)\" style=\"stroke:#000000; stroke-linecap:butt; stroke-linejoin:round; stroke-width:4; stroke-opacity:1; fill:none\" points=\"\n  1125.28,1486.45 1125.28,1467.55 \n  \"/>\n<polyline clip-path=\"url(#clip760)\" style=\"stroke:#000000; stroke-linecap:butt; stroke-linejoin:round; stroke-width:4; stroke-opacity:1; fill:none\" points=\"\n  1476.78,1486.45 1476.78,1467.55 \n  \"/>\n<polyline clip-path=\"url(#clip760)\" style=\"stroke:#000000; stroke-linecap:butt; stroke-linejoin:round; stroke-width:4; stroke-opacity:1; fill:none\" points=\"\n  1828.28,1486.45 1828.28,1467.55 \n  \"/>\n<polyline clip-path=\"url(#clip760)\" style=\"stroke:#000000; stroke-linecap:butt; stroke-linejoin:round; stroke-width:4; stroke-opacity:1; fill:none\" points=\"\n  2179.78,1486.45 2179.78,1467.55 \n  \"/>\n<path clip-path=\"url(#clip760)\" d=\"M399.623 1532.44 Q396.29 1532.44 394.368 1534.22 Q392.47 1536 392.47 1539.13 Q392.47 1542.25 394.368 1544.03 Q396.29 1545.82 399.623 1545.82 Q402.956 1545.82 404.878 1544.03 Q406.799 1542.23 406.799 1539.13 Q406.799 1536 404.878 1534.22 Q402.979 1532.44 399.623 1532.44 M394.947 1530.45 Q391.938 1529.7 390.248 1527.64 Q388.581 1525.58 388.581 1522.62 Q388.581 1518.48 391.521 1516.07 Q394.484 1513.66 399.623 1513.66 Q404.785 1513.66 407.725 1516.07 Q410.665 1518.48 410.665 1522.62 Q410.665 1525.58 408.975 1527.64 Q407.308 1529.7 404.322 1530.45 Q407.702 1531.23 409.577 1533.52 Q411.475 1535.82 411.475 1539.13 Q411.475 1544.15 408.396 1546.83 Q405.341 1549.52 399.623 1549.52 Q393.905 1549.52 390.827 1546.83 Q387.771 1544.15 387.771 1539.13 Q387.771 1535.82 389.669 1533.52 Q391.567 1531.23 394.947 1530.45 M393.234 1523.06 Q393.234 1525.75 394.901 1527.25 Q396.591 1528.76 399.623 1528.76 Q402.632 1528.76 404.322 1527.25 Q406.035 1525.75 406.035 1523.06 Q406.035 1520.38 404.322 1518.87 Q402.632 1517.37 399.623 1517.37 Q396.591 1517.37 394.901 1518.87 Q393.234 1520.38 393.234 1523.06 Z\" fill=\"#000000\" fill-rule=\"evenodd\" fill-opacity=\"1\" /><path clip-path=\"url(#clip760)\" d=\"M419.785 1542.97 L424.669 1542.97 L424.669 1548.85 L419.785 1548.85 L419.785 1542.97 Z\" fill=\"#000000\" fill-rule=\"evenodd\" fill-opacity=\"1\" /><path clip-path=\"url(#clip760)\" d=\"M444.854 1517.37 Q441.243 1517.37 439.414 1520.93 Q437.609 1524.47 437.609 1531.6 Q437.609 1538.71 439.414 1542.27 Q441.243 1545.82 444.854 1545.82 Q448.488 1545.82 450.294 1542.27 Q452.123 1538.71 452.123 1531.6 Q452.123 1524.47 450.294 1520.93 Q448.488 1517.37 444.854 1517.37 M444.854 1513.66 Q450.664 1513.66 453.72 1518.27 Q456.799 1522.85 456.799 1531.6 Q456.799 1540.33 453.72 1544.94 Q450.664 1549.52 444.854 1549.52 Q439.044 1549.52 435.965 1544.94 Q432.91 1540.33 432.91 1531.6 Q432.91 1522.85 435.965 1518.27 Q439.044 1513.66 444.854 1513.66 Z\" fill=\"#000000\" fill-rule=\"evenodd\" fill-opacity=\"1\" /><path clip-path=\"url(#clip760)\" d=\"M751.62 1532.44 Q748.286 1532.44 746.365 1534.22 Q744.467 1536 744.467 1539.13 Q744.467 1542.25 746.365 1544.03 Q748.286 1545.82 751.62 1545.82 Q754.953 1545.82 756.874 1544.03 Q758.796 1542.23 758.796 1539.13 Q758.796 1536 756.874 1534.22 Q754.976 1532.44 751.62 1532.44 M746.944 1530.45 Q743.934 1529.7 742.245 1527.64 Q740.578 1525.58 740.578 1522.62 Q740.578 1518.48 743.518 1516.07 Q746.481 1513.66 751.62 1513.66 Q756.782 1513.66 759.721 1516.07 Q762.661 1518.48 762.661 1522.62 Q762.661 1525.58 760.971 1527.64 Q759.305 1529.7 756.319 1530.45 Q759.698 1531.23 761.573 1533.52 Q763.471 1535.82 763.471 1539.13 Q763.471 1544.15 760.393 1546.83 Q757.337 1549.52 751.62 1549.52 Q745.902 1549.52 742.823 1546.83 Q739.768 1544.15 739.768 1539.13 Q739.768 1535.82 741.666 1533.52 Q743.564 1531.23 746.944 1530.45 M745.231 1523.06 Q745.231 1525.75 746.897 1527.25 Q748.587 1528.76 751.62 1528.76 Q754.629 1528.76 756.319 1527.25 Q758.032 1525.75 758.032 1523.06 Q758.032 1520.38 756.319 1518.87 Q754.629 1517.37 751.62 1517.37 Q748.587 1517.37 746.897 1518.87 Q745.231 1520.38 745.231 1523.06 Z\" fill=\"#000000\" fill-rule=\"evenodd\" fill-opacity=\"1\" /><path clip-path=\"url(#clip760)\" d=\"M771.782 1542.97 L776.666 1542.97 L776.666 1548.85 L771.782 1548.85 L771.782 1542.97 Z\" fill=\"#000000\" fill-rule=\"evenodd\" fill-opacity=\"1\" /><path clip-path=\"url(#clip760)\" d=\"M786.897 1514.29 L805.254 1514.29 L805.254 1518.22 L791.18 1518.22 L791.18 1526.7 Q792.198 1526.35 793.217 1526.19 Q794.235 1526 795.254 1526 Q801.041 1526 804.42 1529.17 Q807.8 1532.34 807.8 1537.76 Q807.8 1543.34 804.328 1546.44 Q800.855 1549.52 794.536 1549.52 Q792.36 1549.52 790.092 1549.15 Q787.846 1548.78 785.439 1548.04 L785.439 1543.34 Q787.522 1544.47 789.744 1545.03 Q791.967 1545.58 794.443 1545.58 Q798.448 1545.58 800.786 1543.48 Q803.124 1541.37 803.124 1537.76 Q803.124 1534.15 800.786 1532.04 Q798.448 1529.94 794.443 1529.94 Q792.568 1529.94 790.693 1530.35 Q788.842 1530.77 786.897 1531.65 L786.897 1514.29 Z\" fill=\"#000000\" fill-rule=\"evenodd\" fill-opacity=\"1\" /><path clip-path=\"url(#clip760)\" d=\"M1092.88 1548.13 L1092.88 1543.87 Q1094.63 1544.7 1096.44 1545.14 Q1098.25 1545.58 1099.98 1545.58 Q1104.61 1545.58 1107.04 1542.48 Q1109.5 1539.36 1109.84 1533.01 Q1108.5 1535.01 1106.44 1536.07 Q1104.38 1537.13 1101.88 1537.13 Q1096.7 1537.13 1093.66 1534.01 Q1090.65 1530.86 1090.65 1525.42 Q1090.65 1520.1 1093.8 1516.88 Q1096.95 1513.66 1102.18 1513.66 Q1108.18 1513.66 1111.32 1518.27 Q1114.5 1522.85 1114.5 1531.6 Q1114.5 1539.77 1110.61 1544.66 Q1106.74 1549.52 1100.19 1549.52 Q1098.43 1549.52 1096.63 1549.17 Q1094.82 1548.82 1092.88 1548.13 M1102.18 1533.48 Q1105.33 1533.48 1107.16 1531.32 Q1109.01 1529.17 1109.01 1525.42 Q1109.01 1521.7 1107.16 1519.54 Q1105.33 1517.37 1102.18 1517.37 Q1099.03 1517.37 1097.18 1519.54 Q1095.35 1521.7 1095.35 1525.42 Q1095.35 1529.17 1097.18 1531.32 Q1099.03 1533.48 1102.18 1533.48 Z\" fill=\"#000000\" fill-rule=\"evenodd\" fill-opacity=\"1\" /><path clip-path=\"url(#clip760)\" d=\"M1122.9 1542.97 L1127.78 1542.97 L1127.78 1548.85 L1122.9 1548.85 L1122.9 1542.97 Z\" fill=\"#000000\" fill-rule=\"evenodd\" fill-opacity=\"1\" /><path clip-path=\"url(#clip760)\" d=\"M1147.97 1517.37 Q1144.36 1517.37 1142.53 1520.93 Q1140.72 1524.47 1140.72 1531.6 Q1140.72 1538.71 1142.53 1542.27 Q1144.36 1545.82 1147.97 1545.82 Q1151.6 1545.82 1153.41 1542.27 Q1155.24 1538.71 1155.24 1531.6 Q1155.24 1524.47 1153.41 1520.93 Q1151.6 1517.37 1147.97 1517.37 M1147.97 1513.66 Q1153.78 1513.66 1156.83 1518.27 Q1159.91 1522.85 1159.91 1531.6 Q1159.91 1540.33 1156.83 1544.94 Q1153.78 1549.52 1147.97 1549.52 Q1142.16 1549.52 1139.08 1544.94 Q1136.02 1540.33 1136.02 1531.6 Q1136.02 1522.85 1139.08 1518.27 Q1142.16 1513.66 1147.97 1513.66 Z\" fill=\"#000000\" fill-rule=\"evenodd\" fill-opacity=\"1\" /><path clip-path=\"url(#clip760)\" d=\"M1444.87 1548.13 L1444.87 1543.87 Q1446.63 1544.7 1448.44 1545.14 Q1450.24 1545.58 1451.98 1545.58 Q1456.61 1545.58 1459.04 1542.48 Q1461.49 1539.36 1461.84 1533.01 Q1460.5 1535.01 1458.44 1536.07 Q1456.38 1537.13 1453.88 1537.13 Q1448.69 1537.13 1445.66 1534.01 Q1442.65 1530.86 1442.65 1525.42 Q1442.65 1520.1 1445.8 1516.88 Q1448.95 1513.66 1454.18 1513.66 Q1460.17 1513.66 1463.32 1518.27 Q1466.49 1522.85 1466.49 1531.6 Q1466.49 1539.77 1462.6 1544.66 Q1458.74 1549.52 1452.19 1549.52 Q1450.43 1549.52 1448.62 1549.17 Q1446.82 1548.82 1444.87 1548.13 M1454.18 1533.48 Q1457.33 1533.48 1459.15 1531.32 Q1461.01 1529.17 1461.01 1525.42 Q1461.01 1521.7 1459.15 1519.54 Q1457.33 1517.37 1454.18 1517.37 Q1451.03 1517.37 1449.18 1519.54 Q1447.35 1521.7 1447.35 1525.42 Q1447.35 1529.17 1449.18 1531.32 Q1451.03 1533.48 1454.18 1533.48 Z\" fill=\"#000000\" fill-rule=\"evenodd\" fill-opacity=\"1\" /><path clip-path=\"url(#clip760)\" d=\"M1474.9 1542.97 L1479.78 1542.97 L1479.78 1548.85 L1474.9 1548.85 L1474.9 1542.97 Z\" fill=\"#000000\" fill-rule=\"evenodd\" fill-opacity=\"1\" /><path clip-path=\"url(#clip760)\" d=\"M1490.01 1514.29 L1508.37 1514.29 L1508.37 1518.22 L1494.29 1518.22 L1494.29 1526.7 Q1495.31 1526.35 1496.33 1526.19 Q1497.35 1526 1498.37 1526 Q1504.15 1526 1507.53 1529.17 Q1510.91 1532.34 1510.91 1537.76 Q1510.91 1543.34 1507.44 1546.44 Q1503.97 1549.52 1497.65 1549.52 Q1495.47 1549.52 1493.21 1549.15 Q1490.96 1548.78 1488.55 1548.04 L1488.55 1543.34 Q1490.64 1544.47 1492.86 1545.03 Q1495.08 1545.58 1497.56 1545.58 Q1501.56 1545.58 1503.9 1543.48 Q1506.24 1541.37 1506.24 1537.76 Q1506.24 1534.15 1503.9 1532.04 Q1501.56 1529.94 1497.56 1529.94 Q1495.68 1529.94 1493.81 1530.35 Q1491.96 1530.77 1490.01 1531.65 L1490.01 1514.29 Z\" fill=\"#000000\" fill-rule=\"evenodd\" fill-opacity=\"1\" /><path clip-path=\"url(#clip760)\" d=\"M1780.35 1544.91 L1787.99 1544.91 L1787.99 1518.55 L1779.68 1520.21 L1779.68 1515.95 L1787.95 1514.29 L1792.62 1514.29 L1792.62 1544.91 L1800.26 1544.91 L1800.26 1548.85 L1780.35 1548.85 L1780.35 1544.91 Z\" fill=\"#000000\" fill-rule=\"evenodd\" fill-opacity=\"1\" /><path clip-path=\"url(#clip760)\" d=\"M1819.7 1517.37 Q1816.09 1517.37 1814.26 1520.93 Q1812.46 1524.47 1812.46 1531.6 Q1812.46 1538.71 1814.26 1542.27 Q1816.09 1545.82 1819.7 1545.82 Q1823.34 1545.82 1825.14 1542.27 Q1826.97 1538.71 1826.97 1531.6 Q1826.97 1524.47 1825.14 1520.93 Q1823.34 1517.37 1819.7 1517.37 M1819.7 1513.66 Q1825.51 1513.66 1828.57 1518.27 Q1831.65 1522.85 1831.65 1531.6 Q1831.65 1540.33 1828.57 1544.94 Q1825.51 1549.52 1819.7 1549.52 Q1813.89 1549.52 1810.82 1544.94 Q1807.76 1540.33 1807.76 1531.6 Q1807.76 1522.85 1810.82 1518.27 Q1813.89 1513.66 1819.7 1513.66 Z\" fill=\"#000000\" fill-rule=\"evenodd\" fill-opacity=\"1\" /><path clip-path=\"url(#clip760)\" d=\"M1839.87 1542.97 L1844.75 1542.97 L1844.75 1548.85 L1839.87 1548.85 L1839.87 1542.97 Z\" fill=\"#000000\" fill-rule=\"evenodd\" fill-opacity=\"1\" /><path clip-path=\"url(#clip760)\" d=\"M1864.94 1517.37 Q1861.32 1517.37 1859.5 1520.93 Q1857.69 1524.47 1857.69 1531.6 Q1857.69 1538.71 1859.5 1542.27 Q1861.32 1545.82 1864.94 1545.82 Q1868.57 1545.82 1870.38 1542.27 Q1872.2 1538.71 1872.2 1531.6 Q1872.2 1524.47 1870.38 1520.93 Q1868.57 1517.37 1864.94 1517.37 M1864.94 1513.66 Q1870.75 1513.66 1873.8 1518.27 Q1876.88 1522.85 1876.88 1531.6 Q1876.88 1540.33 1873.8 1544.94 Q1870.75 1549.52 1864.94 1549.52 Q1859.13 1549.52 1856.05 1544.94 Q1852.99 1540.33 1852.99 1531.6 Q1852.99 1522.85 1856.05 1518.27 Q1859.13 1513.66 1864.94 1513.66 Z\" fill=\"#000000\" fill-rule=\"evenodd\" fill-opacity=\"1\" /><path clip-path=\"url(#clip760)\" d=\"M2132.35 1544.91 L2139.99 1544.91 L2139.99 1518.55 L2131.68 1520.21 L2131.68 1515.95 L2139.94 1514.29 L2144.62 1514.29 L2144.62 1544.91 L2152.26 1544.91 L2152.26 1548.85 L2132.35 1548.85 L2132.35 1544.91 Z\" fill=\"#000000\" fill-rule=\"evenodd\" fill-opacity=\"1\" /><path clip-path=\"url(#clip760)\" d=\"M2171.7 1517.37 Q2168.09 1517.37 2166.26 1520.93 Q2164.46 1524.47 2164.46 1531.6 Q2164.46 1538.71 2166.26 1542.27 Q2168.09 1545.82 2171.7 1545.82 Q2175.34 1545.82 2177.14 1542.27 Q2178.97 1538.71 2178.97 1531.6 Q2178.97 1524.47 2177.14 1520.93 Q2175.34 1517.37 2171.7 1517.37 M2171.7 1513.66 Q2177.51 1513.66 2180.57 1518.27 Q2183.65 1522.85 2183.65 1531.6 Q2183.65 1540.33 2180.57 1544.94 Q2177.51 1549.52 2171.7 1549.52 Q2165.89 1549.52 2162.81 1544.94 Q2159.76 1540.33 2159.76 1531.6 Q2159.76 1522.85 2162.81 1518.27 Q2165.89 1513.66 2171.7 1513.66 Z\" fill=\"#000000\" fill-rule=\"evenodd\" fill-opacity=\"1\" /><path clip-path=\"url(#clip760)\" d=\"M2191.86 1542.97 L2196.75 1542.97 L2196.75 1548.85 L2191.86 1548.85 L2191.86 1542.97 Z\" fill=\"#000000\" fill-rule=\"evenodd\" fill-opacity=\"1\" /><path clip-path=\"url(#clip760)\" d=\"M2206.98 1514.29 L2225.34 1514.29 L2225.34 1518.22 L2211.26 1518.22 L2211.26 1526.7 Q2212.28 1526.35 2213.3 1526.19 Q2214.32 1526 2215.34 1526 Q2221.12 1526 2224.5 1529.17 Q2227.88 1532.34 2227.88 1537.76 Q2227.88 1543.34 2224.41 1546.44 Q2220.94 1549.52 2214.62 1549.52 Q2212.44 1549.52 2210.17 1549.15 Q2207.93 1548.78 2205.52 1548.04 L2205.52 1543.34 Q2207.6 1544.47 2209.83 1545.03 Q2212.05 1545.58 2214.52 1545.58 Q2218.53 1545.58 2220.87 1543.48 Q2223.21 1541.37 2223.21 1537.76 Q2223.21 1534.15 2220.87 1532.04 Q2218.53 1529.94 2214.52 1529.94 Q2212.65 1529.94 2210.77 1530.35 Q2208.92 1530.77 2206.98 1531.65 L2206.98 1514.29 Z\" fill=\"#000000\" fill-rule=\"evenodd\" fill-opacity=\"1\" /><polyline clip-path=\"url(#clip762)\" style=\"stroke:#000000; stroke-linecap:butt; stroke-linejoin:round; stroke-width:2; stroke-opacity:0.1; fill:none\" points=\"\n  140.696,1445.72 2352.76,1445.72 \n  \"/>\n<polyline clip-path=\"url(#clip762)\" style=\"stroke:#000000; stroke-linecap:butt; stroke-linejoin:round; stroke-width:2; stroke-opacity:0.1; fill:none\" points=\"\n  140.696,1088.42 2352.76,1088.42 \n  \"/>\n<polyline clip-path=\"url(#clip762)\" style=\"stroke:#000000; stroke-linecap:butt; stroke-linejoin:round; stroke-width:2; stroke-opacity:0.1; fill:none\" points=\"\n  140.696,731.116 2352.76,731.116 \n  \"/>\n<polyline clip-path=\"url(#clip762)\" style=\"stroke:#000000; stroke-linecap:butt; stroke-linejoin:round; stroke-width:2; stroke-opacity:0.1; fill:none\" points=\"\n  140.696,373.816 2352.76,373.816 \n  \"/>\n<polyline clip-path=\"url(#clip760)\" style=\"stroke:#000000; stroke-linecap:butt; stroke-linejoin:round; stroke-width:4; stroke-opacity:1; fill:none\" points=\"\n  140.696,1486.45 140.696,47.2441 \n  \"/>\n<polyline clip-path=\"url(#clip760)\" style=\"stroke:#000000; stroke-linecap:butt; stroke-linejoin:round; stroke-width:4; stroke-opacity:1; fill:none\" points=\"\n  140.696,1445.72 159.593,1445.72 \n  \"/>\n<polyline clip-path=\"url(#clip760)\" style=\"stroke:#000000; stroke-linecap:butt; stroke-linejoin:round; stroke-width:4; stroke-opacity:1; fill:none\" points=\"\n  140.696,1088.42 159.593,1088.42 \n  \"/>\n<polyline clip-path=\"url(#clip760)\" style=\"stroke:#000000; stroke-linecap:butt; stroke-linejoin:round; stroke-width:4; stroke-opacity:1; fill:none\" points=\"\n  140.696,731.116 159.593,731.116 \n  \"/>\n<polyline clip-path=\"url(#clip760)\" style=\"stroke:#000000; stroke-linecap:butt; stroke-linejoin:round; stroke-width:4; stroke-opacity:1; fill:none\" points=\"\n  140.696,373.816 159.593,373.816 \n  \"/>\n<path clip-path=\"url(#clip760)\" d=\"M92.7512 1431.51 Q89.1401 1431.51 87.3114 1435.08 Q85.5058 1438.62 85.5058 1445.75 Q85.5058 1452.86 87.3114 1456.42 Q89.1401 1459.96 92.7512 1459.96 Q96.3854 1459.96 98.1909 1456.42 Q100.02 1452.86 100.02 1445.75 Q100.02 1438.62 98.1909 1435.08 Q96.3854 1431.51 92.7512 1431.51 M92.7512 1427.81 Q98.5613 1427.81 101.617 1432.42 Q104.696 1437 104.696 1445.75 Q104.696 1454.48 101.617 1459.08 Q98.5613 1463.67 92.7512 1463.67 Q86.941 1463.67 83.8623 1459.08 Q80.8068 1454.48 80.8068 1445.75 Q80.8068 1437 83.8623 1432.42 Q86.941 1427.81 92.7512 1427.81 Z\" fill=\"#000000\" fill-rule=\"evenodd\" fill-opacity=\"1\" /><path clip-path=\"url(#clip760)\" d=\"M53.3995 1101.76 L61.0384 1101.76 L61.0384 1075.4 L52.7282 1077.06 L52.7282 1072.8 L60.9921 1071.14 L65.668 1071.14 L65.668 1101.76 L73.3068 1101.76 L73.3068 1105.7 L53.3995 1105.7 L53.3995 1101.76 Z\" fill=\"#000000\" fill-rule=\"evenodd\" fill-opacity=\"1\" /><path clip-path=\"url(#clip760)\" d=\"M92.7512 1074.21 Q89.1401 1074.21 87.3114 1077.78 Q85.5058 1081.32 85.5058 1088.45 Q85.5058 1095.56 87.3114 1099.12 Q89.1401 1102.66 92.7512 1102.66 Q96.3854 1102.66 98.1909 1099.12 Q100.02 1095.56 100.02 1088.45 Q100.02 1081.32 98.1909 1077.78 Q96.3854 1074.21 92.7512 1074.21 M92.7512 1070.51 Q98.5613 1070.51 101.617 1075.12 Q104.696 1079.7 104.696 1088.45 Q104.696 1097.18 101.617 1101.78 Q98.5613 1106.37 92.7512 1106.37 Q86.941 1106.37 83.8623 1101.78 Q80.8068 1097.18 80.8068 1088.45 Q80.8068 1079.7 83.8623 1075.12 Q86.941 1070.51 92.7512 1070.51 Z\" fill=\"#000000\" fill-rule=\"evenodd\" fill-opacity=\"1\" /><path clip-path=\"url(#clip760)\" d=\"M56.6171 744.461 L72.9365 744.461 L72.9365 748.396 L50.9921 748.396 L50.9921 744.461 Q53.6541 741.706 58.2375 737.077 Q62.8439 732.424 64.0245 731.081 Q66.2698 728.558 67.1494 726.822 Q68.0522 725.063 68.0522 723.373 Q68.0522 720.618 66.1078 718.882 Q64.1865 717.146 61.0847 717.146 Q58.8856 717.146 56.4319 717.91 Q54.0014 718.674 51.2236 720.225 L51.2236 715.503 Q54.0477 714.368 56.5014 713.79 Q58.955 713.211 60.9921 713.211 Q66.3624 713.211 69.5568 715.896 Q72.7513 718.581 72.7513 723.072 Q72.7513 725.202 71.9411 727.123 Q71.1541 729.021 69.0476 731.614 Q68.4689 732.285 65.367 735.503 Q62.2652 738.697 56.6171 744.461 Z\" fill=\"#000000\" fill-rule=\"evenodd\" fill-opacity=\"1\" /><path clip-path=\"url(#clip760)\" d=\"M92.7512 716.915 Q89.1401 716.915 87.3114 720.479 Q85.5058 724.021 85.5058 731.151 Q85.5058 738.257 87.3114 741.822 Q89.1401 745.364 92.7512 745.364 Q96.3854 745.364 98.1909 741.822 Q100.02 738.257 100.02 731.151 Q100.02 724.021 98.1909 720.479 Q96.3854 716.915 92.7512 716.915 M92.7512 713.211 Q98.5613 713.211 101.617 717.817 Q104.696 722.401 104.696 731.151 Q104.696 739.878 101.617 744.484 Q98.5613 749.067 92.7512 749.067 Q86.941 749.067 83.8623 744.484 Q80.8068 739.878 80.8068 731.151 Q80.8068 722.401 83.8623 717.817 Q86.941 713.211 92.7512 713.211 Z\" fill=\"#000000\" fill-rule=\"evenodd\" fill-opacity=\"1\" /><path clip-path=\"url(#clip760)\" d=\"M66.7559 372.462 Q70.1124 373.18 71.9874 375.448 Q73.8855 377.717 73.8855 381.05 Q73.8855 386.166 70.367 388.967 Q66.8485 391.767 60.3671 391.767 Q58.1912 391.767 55.8764 391.328 Q53.5847 390.911 51.131 390.054 L51.131 385.541 Q53.0754 386.675 55.3903 387.254 Q57.7051 387.832 60.2282 387.832 Q64.6263 387.832 66.918 386.096 Q69.2328 384.36 69.2328 381.05 Q69.2328 377.994 67.08 376.281 Q64.9504 374.545 61.131 374.545 L57.1032 374.545 L57.1032 370.703 L61.3161 370.703 Q64.7652 370.703 66.5939 369.337 Q68.4226 367.948 68.4226 365.356 Q68.4226 362.694 66.5245 361.281 Q64.6495 359.846 61.131 359.846 Q59.2097 359.846 57.0106 360.263 Q54.8115 360.68 52.1727 361.559 L52.1727 357.393 Q54.8347 356.652 57.1495 356.282 Q59.4875 355.911 61.5476 355.911 Q66.8717 355.911 69.9735 358.342 Q73.0753 360.749 73.0753 364.869 Q73.0753 367.74 71.4318 369.731 Q69.7883 371.698 66.7559 372.462 Z\" fill=\"#000000\" fill-rule=\"evenodd\" fill-opacity=\"1\" /><path clip-path=\"url(#clip760)\" d=\"M92.7512 359.615 Q89.1401 359.615 87.3114 363.18 Q85.5058 366.721 85.5058 373.851 Q85.5058 380.957 87.3114 384.522 Q89.1401 388.064 92.7512 388.064 Q96.3854 388.064 98.1909 384.522 Q100.02 380.957 100.02 373.851 Q100.02 366.721 98.1909 363.18 Q96.3854 359.615 92.7512 359.615 M92.7512 355.911 Q98.5613 355.911 101.617 360.518 Q104.696 365.101 104.696 373.851 Q104.696 382.578 101.617 387.184 Q98.5613 391.767 92.7512 391.767 Q86.941 391.767 83.8623 387.184 Q80.8068 382.578 80.8068 373.851 Q80.8068 365.101 83.8623 360.518 Q86.941 355.911 92.7512 355.911 Z\" fill=\"#000000\" fill-rule=\"evenodd\" fill-opacity=\"1\" /><path clip-path=\"url(#clip762)\" d=\"\nM914.383 1409.99 L914.383 1445.72 L949.533 1445.72 L949.533 1409.99 L914.383 1409.99 L914.383 1409.99  Z\n  \" fill=\"#009af9\" fill-rule=\"evenodd\" fill-opacity=\"0.1\"/>\n<polyline clip-path=\"url(#clip762)\" style=\"stroke:#000000; stroke-linecap:butt; stroke-linejoin:round; stroke-width:4; stroke-opacity:0.1; fill:none\" points=\"\n  914.383,1409.99 914.383,1445.72 949.533,1445.72 949.533,1409.99 914.383,1409.99 \n  \"/>\n<path clip-path=\"url(#clip762)\" d=\"\nM949.533 1445.72 L949.533 1445.72 L984.683 1445.72 L984.683 1445.72 L949.533 1445.72 L949.533 1445.72  Z\n  \" fill=\"#009af9\" fill-rule=\"evenodd\" fill-opacity=\"0.1\"/>\n<polyline clip-path=\"url(#clip762)\" style=\"stroke:#000000; stroke-linecap:butt; stroke-linejoin:round; stroke-width:4; stroke-opacity:0.1; fill:none\" points=\"\n  949.533,1445.72 949.533,1445.72 984.683,1445.72 949.533,1445.72 \n  \"/>\n<path clip-path=\"url(#clip762)\" d=\"\nM984.683 1374.26 L984.683 1445.72 L1019.83 1445.72 L1019.83 1374.26 L984.683 1374.26 L984.683 1374.26  Z\n  \" fill=\"#009af9\" fill-rule=\"evenodd\" fill-opacity=\"0.1\"/>\n<polyline clip-path=\"url(#clip762)\" style=\"stroke:#000000; stroke-linecap:butt; stroke-linejoin:round; stroke-width:4; stroke-opacity:0.1; fill:none\" points=\"\n  984.683,1374.26 984.683,1445.72 1019.83,1445.72 1019.83,1374.26 984.683,1374.26 \n  \"/>\n<path clip-path=\"url(#clip762)\" d=\"\nM1019.83 1338.53 L1019.83 1445.72 L1054.98 1445.72 L1054.98 1338.53 L1019.83 1338.53 L1019.83 1338.53  Z\n  \" fill=\"#009af9\" fill-rule=\"evenodd\" fill-opacity=\"0.1\"/>\n<polyline clip-path=\"url(#clip762)\" style=\"stroke:#000000; stroke-linecap:butt; stroke-linejoin:round; stroke-width:4; stroke-opacity:0.1; fill:none\" points=\"\n  1019.83,1338.53 1019.83,1445.72 1054.98,1445.72 1054.98,1338.53 1019.83,1338.53 \n  \"/>\n<path clip-path=\"url(#clip762)\" d=\"\nM1054.98 1409.99 L1054.98 1445.72 L1090.13 1445.72 L1090.13 1409.99 L1054.98 1409.99 L1054.98 1409.99  Z\n  \" fill=\"#009af9\" fill-rule=\"evenodd\" fill-opacity=\"0.1\"/>\n<polyline clip-path=\"url(#clip762)\" style=\"stroke:#000000; stroke-linecap:butt; stroke-linejoin:round; stroke-width:4; stroke-opacity:0.1; fill:none\" points=\"\n  1054.98,1409.99 1054.98,1445.72 1090.13,1445.72 1090.13,1409.99 1054.98,1409.99 \n  \"/>\n<path clip-path=\"url(#clip762)\" d=\"\nM1090.13 1195.61 L1090.13 1445.72 L1125.28 1445.72 L1125.28 1195.61 L1090.13 1195.61 L1090.13 1195.61  Z\n  \" fill=\"#009af9\" fill-rule=\"evenodd\" fill-opacity=\"0.1\"/>\n<polyline clip-path=\"url(#clip762)\" style=\"stroke:#000000; stroke-linecap:butt; stroke-linejoin:round; stroke-width:4; stroke-opacity:0.1; fill:none\" points=\"\n  1090.13,1195.61 1090.13,1445.72 1125.28,1445.72 1125.28,1195.61 1090.13,1195.61 \n  \"/>\n<path clip-path=\"url(#clip762)\" d=\"\nM1125.28 1231.34 L1125.28 1445.72 L1160.43 1445.72 L1160.43 1231.34 L1125.28 1231.34 L1125.28 1231.34  Z\n  \" fill=\"#009af9\" fill-rule=\"evenodd\" fill-opacity=\"0.1\"/>\n<polyline clip-path=\"url(#clip762)\" style=\"stroke:#000000; stroke-linecap:butt; stroke-linejoin:round; stroke-width:4; stroke-opacity:0.1; fill:none\" points=\"\n  1125.28,1231.34 1125.28,1445.72 1160.43,1445.72 1160.43,1231.34 1125.28,1231.34 \n  \"/>\n<path clip-path=\"url(#clip762)\" d=\"\nM1160.43 1124.15 L1160.43 1445.72 L1195.58 1445.72 L1195.58 1124.15 L1160.43 1124.15 L1160.43 1124.15  Z\n  \" fill=\"#009af9\" fill-rule=\"evenodd\" fill-opacity=\"0.1\"/>\n<polyline clip-path=\"url(#clip762)\" style=\"stroke:#000000; stroke-linecap:butt; stroke-linejoin:round; stroke-width:4; stroke-opacity:0.1; fill:none\" points=\"\n  1160.43,1124.15 1160.43,1445.72 1195.58,1445.72 1195.58,1124.15 1160.43,1124.15 \n  \"/>\n<path clip-path=\"url(#clip762)\" d=\"\nM1195.58 1159.88 L1195.58 1445.72 L1230.73 1445.72 L1230.73 1159.88 L1195.58 1159.88 L1195.58 1159.88  Z\n  \" fill=\"#009af9\" fill-rule=\"evenodd\" fill-opacity=\"0.1\"/>\n<polyline clip-path=\"url(#clip762)\" style=\"stroke:#000000; stroke-linecap:butt; stroke-linejoin:round; stroke-width:4; stroke-opacity:0.1; fill:none\" points=\"\n  1195.58,1159.88 1195.58,1445.72 1230.73,1445.72 1230.73,1159.88 1195.58,1159.88 \n  \"/>\n<path clip-path=\"url(#clip762)\" d=\"\nM1230.73 1016.96 L1230.73 1445.72 L1265.88 1445.72 L1265.88 1016.96 L1230.73 1016.96 L1230.73 1016.96  Z\n  \" fill=\"#009af9\" fill-rule=\"evenodd\" fill-opacity=\"0.1\"/>\n<polyline clip-path=\"url(#clip762)\" style=\"stroke:#000000; stroke-linecap:butt; stroke-linejoin:round; stroke-width:4; stroke-opacity:0.1; fill:none\" points=\"\n  1230.73,1016.96 1230.73,1445.72 1265.88,1445.72 1265.88,1016.96 1230.73,1016.96 \n  \"/>\n<path clip-path=\"url(#clip762)\" d=\"\nM1265.88 838.306 L1265.88 1445.72 L1301.03 1445.72 L1301.03 838.306 L1265.88 838.306 L1265.88 838.306  Z\n  \" fill=\"#009af9\" fill-rule=\"evenodd\" fill-opacity=\"0.1\"/>\n<polyline clip-path=\"url(#clip762)\" style=\"stroke:#000000; stroke-linecap:butt; stroke-linejoin:round; stroke-width:4; stroke-opacity:0.1; fill:none\" points=\"\n  1265.88,838.306 1265.88,1445.72 1301.03,1445.72 1301.03,838.306 1265.88,838.306 \n  \"/>\n<path clip-path=\"url(#clip762)\" d=\"\nM1301.03 874.036 L1301.03 1445.72 L1336.18 1445.72 L1336.18 874.036 L1301.03 874.036 L1301.03 874.036  Z\n  \" fill=\"#009af9\" fill-rule=\"evenodd\" fill-opacity=\"0.1\"/>\n<polyline clip-path=\"url(#clip762)\" style=\"stroke:#000000; stroke-linecap:butt; stroke-linejoin:round; stroke-width:4; stroke-opacity:0.1; fill:none\" points=\"\n  1301.03,874.036 1301.03,1445.72 1336.18,1445.72 1336.18,874.036 1301.03,874.036 \n  \"/>\n<path clip-path=\"url(#clip762)\" d=\"\nM1336.18 731.116 L1336.18 1445.72 L1371.33 1445.72 L1371.33 731.116 L1336.18 731.116 L1336.18 731.116  Z\n  \" fill=\"#009af9\" fill-rule=\"evenodd\" fill-opacity=\"0.1\"/>\n<polyline clip-path=\"url(#clip762)\" style=\"stroke:#000000; stroke-linecap:butt; stroke-linejoin:round; stroke-width:4; stroke-opacity:0.1; fill:none\" points=\"\n  1336.18,731.116 1336.18,1445.72 1371.33,1445.72 1371.33,731.116 1336.18,731.116 \n  \"/>\n<path clip-path=\"url(#clip762)\" d=\"\nM1371.33 802.576 L1371.33 1445.72 L1406.48 1445.72 L1406.48 802.576 L1371.33 802.576 L1371.33 802.576  Z\n  \" fill=\"#009af9\" fill-rule=\"evenodd\" fill-opacity=\"0.1\"/>\n<polyline clip-path=\"url(#clip762)\" style=\"stroke:#000000; stroke-linecap:butt; stroke-linejoin:round; stroke-width:4; stroke-opacity:0.1; fill:none\" points=\"\n  1371.33,802.576 1371.33,1445.72 1406.48,1445.72 1406.48,802.576 1371.33,802.576 \n  \"/>\n<path clip-path=\"url(#clip762)\" d=\"\nM1406.48 766.846 L1406.48 1445.72 L1441.63 1445.72 L1441.63 766.846 L1406.48 766.846 L1406.48 766.846  Z\n  \" fill=\"#009af9\" fill-rule=\"evenodd\" fill-opacity=\"0.1\"/>\n<polyline clip-path=\"url(#clip762)\" style=\"stroke:#000000; stroke-linecap:butt; stroke-linejoin:round; stroke-width:4; stroke-opacity:0.1; fill:none\" points=\"\n  1406.48,766.846 1406.48,1445.72 1441.63,1445.72 1441.63,766.846 1406.48,766.846 \n  \"/>\n<path clip-path=\"url(#clip762)\" d=\"\nM1441.63 695.386 L1441.63 1445.72 L1476.78 1445.72 L1476.78 695.386 L1441.63 695.386 L1441.63 695.386  Z\n  \" fill=\"#009af9\" fill-rule=\"evenodd\" fill-opacity=\"0.1\"/>\n<polyline clip-path=\"url(#clip762)\" style=\"stroke:#000000; stroke-linecap:butt; stroke-linejoin:round; stroke-width:4; stroke-opacity:0.1; fill:none\" points=\"\n  1441.63,695.386 1441.63,1445.72 1476.78,1445.72 1476.78,695.386 1441.63,695.386 \n  \"/>\n<path clip-path=\"url(#clip762)\" d=\"\nM1476.78 409.546 L1476.78 1445.72 L1511.93 1445.72 L1511.93 409.546 L1476.78 409.546 L1476.78 409.546  Z\n  \" fill=\"#009af9\" fill-rule=\"evenodd\" fill-opacity=\"0.1\"/>\n<polyline clip-path=\"url(#clip762)\" style=\"stroke:#000000; stroke-linecap:butt; stroke-linejoin:round; stroke-width:4; stroke-opacity:0.1; fill:none\" points=\"\n  1476.78,409.546 1476.78,1445.72 1511.93,1445.72 1511.93,409.546 1476.78,409.546 \n  \"/>\n<path clip-path=\"url(#clip762)\" d=\"\nM1511.93 87.9763 L1511.93 1445.72 L1547.08 1445.72 L1547.08 87.9763 L1511.93 87.9763 L1511.93 87.9763  Z\n  \" fill=\"#009af9\" fill-rule=\"evenodd\" fill-opacity=\"0.1\"/>\n<polyline clip-path=\"url(#clip762)\" style=\"stroke:#000000; stroke-linecap:butt; stroke-linejoin:round; stroke-width:4; stroke-opacity:0.1; fill:none\" points=\"\n  1511.93,87.9763 1511.93,1445.72 1547.08,1445.72 1547.08,87.9763 1511.93,87.9763 \n  \"/>\n<path clip-path=\"url(#clip762)\" d=\"\nM1547.08 623.926 L1547.08 1445.72 L1582.23 1445.72 L1582.23 623.926 L1547.08 623.926 L1547.08 623.926  Z\n  \" fill=\"#009af9\" fill-rule=\"evenodd\" fill-opacity=\"0.1\"/>\n<polyline clip-path=\"url(#clip762)\" style=\"stroke:#000000; stroke-linecap:butt; stroke-linejoin:round; stroke-width:4; stroke-opacity:0.1; fill:none\" points=\"\n  1547.08,623.926 1547.08,1445.72 1582.23,1445.72 1582.23,623.926 1547.08,623.926 \n  \"/>\n<path clip-path=\"url(#clip762)\" d=\"\nM1582.23 659.656 L1582.23 1445.72 L1617.38 1445.72 L1617.38 659.656 L1582.23 659.656 L1582.23 659.656  Z\n  \" fill=\"#009af9\" fill-rule=\"evenodd\" fill-opacity=\"0.1\"/>\n<polyline clip-path=\"url(#clip762)\" style=\"stroke:#000000; stroke-linecap:butt; stroke-linejoin:round; stroke-width:4; stroke-opacity:0.1; fill:none\" points=\"\n  1582.23,659.656 1582.23,1445.72 1617.38,1445.72 1617.38,659.656 1582.23,659.656 \n  \"/>\n<path clip-path=\"url(#clip762)\" d=\"\nM1617.38 266.626 L1617.38 1445.72 L1652.53 1445.72 L1652.53 266.626 L1617.38 266.626 L1617.38 266.626  Z\n  \" fill=\"#009af9\" fill-rule=\"evenodd\" fill-opacity=\"0.1\"/>\n<polyline clip-path=\"url(#clip762)\" style=\"stroke:#000000; stroke-linecap:butt; stroke-linejoin:round; stroke-width:4; stroke-opacity:0.1; fill:none\" points=\"\n  1617.38,266.626 1617.38,1445.72 1652.53,1445.72 1652.53,266.626 1617.38,266.626 \n  \"/>\n<path clip-path=\"url(#clip762)\" d=\"\nM1652.53 373.816 L1652.53 1445.72 L1687.68 1445.72 L1687.68 373.816 L1652.53 373.816 L1652.53 373.816  Z\n  \" fill=\"#009af9\" fill-rule=\"evenodd\" fill-opacity=\"0.1\"/>\n<polyline clip-path=\"url(#clip762)\" style=\"stroke:#000000; stroke-linecap:butt; stroke-linejoin:round; stroke-width:4; stroke-opacity:0.1; fill:none\" points=\"\n  1652.53,373.816 1652.53,1445.72 1687.68,1445.72 1687.68,373.816 1652.53,373.816 \n  \"/>\n<path clip-path=\"url(#clip762)\" d=\"\nM1687.68 552.466 L1687.68 1445.72 L1722.83 1445.72 L1722.83 552.466 L1687.68 552.466 L1687.68 552.466  Z\n  \" fill=\"#009af9\" fill-rule=\"evenodd\" fill-opacity=\"0.1\"/>\n<polyline clip-path=\"url(#clip762)\" style=\"stroke:#000000; stroke-linecap:butt; stroke-linejoin:round; stroke-width:4; stroke-opacity:0.1; fill:none\" points=\"\n  1687.68,552.466 1687.68,1445.72 1722.83,1445.72 1722.83,552.466 1687.68,552.466 \n  \"/>\n<path clip-path=\"url(#clip762)\" d=\"\nM1722.83 659.656 L1722.83 1445.72 L1757.98 1445.72 L1757.98 659.656 L1722.83 659.656 L1722.83 659.656  Z\n  \" fill=\"#009af9\" fill-rule=\"evenodd\" fill-opacity=\"0.1\"/>\n<polyline clip-path=\"url(#clip762)\" style=\"stroke:#000000; stroke-linecap:butt; stroke-linejoin:round; stroke-width:4; stroke-opacity:0.1; fill:none\" points=\"\n  1722.83,659.656 1722.83,1445.72 1757.98,1445.72 1757.98,659.656 1722.83,659.656 \n  \"/>\n<path clip-path=\"url(#clip762)\" d=\"\nM1757.98 659.656 L1757.98 1445.72 L1793.13 1445.72 L1793.13 659.656 L1757.98 659.656 L1757.98 659.656  Z\n  \" fill=\"#009af9\" fill-rule=\"evenodd\" fill-opacity=\"0.1\"/>\n<polyline clip-path=\"url(#clip762)\" style=\"stroke:#000000; stroke-linecap:butt; stroke-linejoin:round; stroke-width:4; stroke-opacity:0.1; fill:none\" points=\"\n  1757.98,659.656 1757.98,1445.72 1793.13,1445.72 1793.13,659.656 1757.98,659.656 \n  \"/>\n<path clip-path=\"url(#clip762)\" d=\"\nM1793.13 909.766 L1793.13 1445.72 L1828.28 1445.72 L1828.28 909.766 L1793.13 909.766 L1793.13 909.766  Z\n  \" fill=\"#009af9\" fill-rule=\"evenodd\" fill-opacity=\"0.1\"/>\n<polyline clip-path=\"url(#clip762)\" style=\"stroke:#000000; stroke-linecap:butt; stroke-linejoin:round; stroke-width:4; stroke-opacity:0.1; fill:none\" points=\"\n  1793.13,909.766 1793.13,1445.72 1828.28,1445.72 1828.28,909.766 1793.13,909.766 \n  \"/>\n<path clip-path=\"url(#clip762)\" d=\"\nM1828.28 909.766 L1828.28 1445.72 L1863.43 1445.72 L1863.43 909.766 L1828.28 909.766 L1828.28 909.766  Z\n  \" fill=\"#009af9\" fill-rule=\"evenodd\" fill-opacity=\"0.1\"/>\n<polyline clip-path=\"url(#clip762)\" style=\"stroke:#000000; stroke-linecap:butt; stroke-linejoin:round; stroke-width:4; stroke-opacity:0.1; fill:none\" points=\"\n  1828.28,909.766 1828.28,1445.72 1863.43,1445.72 1863.43,909.766 1828.28,909.766 \n  \"/>\n<path clip-path=\"url(#clip762)\" d=\"\nM1863.43 1052.69 L1863.43 1445.72 L1898.58 1445.72 L1898.58 1052.69 L1863.43 1052.69 L1863.43 1052.69  Z\n  \" fill=\"#009af9\" fill-rule=\"evenodd\" fill-opacity=\"0.1\"/>\n<polyline clip-path=\"url(#clip762)\" style=\"stroke:#000000; stroke-linecap:butt; stroke-linejoin:round; stroke-width:4; stroke-opacity:0.1; fill:none\" points=\"\n  1863.43,1052.69 1863.43,1445.72 1898.58,1445.72 1898.58,1052.69 1863.43,1052.69 \n  \"/>\n<path clip-path=\"url(#clip762)\" d=\"\nM1898.58 1159.88 L1898.58 1445.72 L1933.73 1445.72 L1933.73 1159.88 L1898.58 1159.88 L1898.58 1159.88  Z\n  \" fill=\"#009af9\" fill-rule=\"evenodd\" fill-opacity=\"0.1\"/>\n<polyline clip-path=\"url(#clip762)\" style=\"stroke:#000000; stroke-linecap:butt; stroke-linejoin:round; stroke-width:4; stroke-opacity:0.1; fill:none\" points=\"\n  1898.58,1159.88 1898.58,1445.72 1933.73,1445.72 1933.73,1159.88 1898.58,1159.88 \n  \"/>\n<path clip-path=\"url(#clip762)\" d=\"\nM1933.73 981.226 L1933.73 1445.72 L1968.88 1445.72 L1968.88 981.226 L1933.73 981.226 L1933.73 981.226  Z\n  \" fill=\"#009af9\" fill-rule=\"evenodd\" fill-opacity=\"0.1\"/>\n<polyline clip-path=\"url(#clip762)\" style=\"stroke:#000000; stroke-linecap:butt; stroke-linejoin:round; stroke-width:4; stroke-opacity:0.1; fill:none\" points=\"\n  1933.73,981.226 1933.73,1445.72 1968.88,1445.72 1968.88,981.226 1933.73,981.226 \n  \"/>\n<path clip-path=\"url(#clip762)\" d=\"\nM1968.88 1195.61 L1968.88 1445.72 L2004.03 1445.72 L2004.03 1195.61 L1968.88 1195.61 L1968.88 1195.61  Z\n  \" fill=\"#009af9\" fill-rule=\"evenodd\" fill-opacity=\"0.1\"/>\n<polyline clip-path=\"url(#clip762)\" style=\"stroke:#000000; stroke-linecap:butt; stroke-linejoin:round; stroke-width:4; stroke-opacity:0.1; fill:none\" points=\"\n  1968.88,1195.61 1968.88,1445.72 2004.03,1445.72 2004.03,1195.61 1968.88,1195.61 \n  \"/>\n<path clip-path=\"url(#clip762)\" d=\"\nM2004.03 1195.61 L2004.03 1445.72 L2039.18 1445.72 L2039.18 1195.61 L2004.03 1195.61 L2004.03 1195.61  Z\n  \" fill=\"#009af9\" fill-rule=\"evenodd\" fill-opacity=\"0.1\"/>\n<polyline clip-path=\"url(#clip762)\" style=\"stroke:#000000; stroke-linecap:butt; stroke-linejoin:round; stroke-width:4; stroke-opacity:0.1; fill:none\" points=\"\n  2004.03,1195.61 2004.03,1445.72 2039.18,1445.72 2039.18,1195.61 2004.03,1195.61 \n  \"/>\n<path clip-path=\"url(#clip762)\" d=\"\nM2039.18 1195.61 L2039.18 1445.72 L2074.33 1445.72 L2074.33 1195.61 L2039.18 1195.61 L2039.18 1195.61  Z\n  \" fill=\"#009af9\" fill-rule=\"evenodd\" fill-opacity=\"0.1\"/>\n<polyline clip-path=\"url(#clip762)\" style=\"stroke:#000000; stroke-linecap:butt; stroke-linejoin:round; stroke-width:4; stroke-opacity:0.1; fill:none\" points=\"\n  2039.18,1195.61 2039.18,1445.72 2074.33,1445.72 2074.33,1195.61 2039.18,1195.61 \n  \"/>\n<path clip-path=\"url(#clip762)\" d=\"\nM2074.33 1374.26 L2074.33 1445.72 L2109.48 1445.72 L2109.48 1374.26 L2074.33 1374.26 L2074.33 1374.26  Z\n  \" fill=\"#009af9\" fill-rule=\"evenodd\" fill-opacity=\"0.1\"/>\n<polyline clip-path=\"url(#clip762)\" style=\"stroke:#000000; stroke-linecap:butt; stroke-linejoin:round; stroke-width:4; stroke-opacity:0.1; fill:none\" points=\"\n  2074.33,1374.26 2074.33,1445.72 2109.48,1445.72 2109.48,1374.26 2074.33,1374.26 \n  \"/>\n<path clip-path=\"url(#clip762)\" d=\"\nM2109.48 1267.07 L2109.48 1445.72 L2144.63 1445.72 L2144.63 1267.07 L2109.48 1267.07 L2109.48 1267.07  Z\n  \" fill=\"#009af9\" fill-rule=\"evenodd\" fill-opacity=\"0.1\"/>\n<polyline clip-path=\"url(#clip762)\" style=\"stroke:#000000; stroke-linecap:butt; stroke-linejoin:round; stroke-width:4; stroke-opacity:0.1; fill:none\" points=\"\n  2109.48,1267.07 2109.48,1445.72 2144.63,1445.72 2144.63,1267.07 2109.48,1267.07 \n  \"/>\n<path clip-path=\"url(#clip762)\" d=\"\nM2144.63 1374.26 L2144.63 1445.72 L2179.78 1445.72 L2179.78 1374.26 L2144.63 1374.26 L2144.63 1374.26  Z\n  \" fill=\"#009af9\" fill-rule=\"evenodd\" fill-opacity=\"0.1\"/>\n<polyline clip-path=\"url(#clip762)\" style=\"stroke:#000000; stroke-linecap:butt; stroke-linejoin:round; stroke-width:4; stroke-opacity:0.1; fill:none\" points=\"\n  2144.63,1374.26 2144.63,1445.72 2179.78,1445.72 2179.78,1374.26 2144.63,1374.26 \n  \"/>\n<path clip-path=\"url(#clip762)\" d=\"\nM2179.78 1374.26 L2179.78 1445.72 L2214.93 1445.72 L2214.93 1374.26 L2179.78 1374.26 L2179.78 1374.26  Z\n  \" fill=\"#009af9\" fill-rule=\"evenodd\" fill-opacity=\"0.1\"/>\n<polyline clip-path=\"url(#clip762)\" style=\"stroke:#000000; stroke-linecap:butt; stroke-linejoin:round; stroke-width:4; stroke-opacity:0.1; fill:none\" points=\"\n  2179.78,1374.26 2179.78,1445.72 2214.93,1445.72 2214.93,1374.26 2179.78,1374.26 \n  \"/>\n<path clip-path=\"url(#clip762)\" d=\"\nM2214.93 1374.26 L2214.93 1445.72 L2250.08 1445.72 L2250.08 1374.26 L2214.93 1374.26 L2214.93 1374.26  Z\n  \" fill=\"#009af9\" fill-rule=\"evenodd\" fill-opacity=\"0.1\"/>\n<polyline clip-path=\"url(#clip762)\" style=\"stroke:#000000; stroke-linecap:butt; stroke-linejoin:round; stroke-width:4; stroke-opacity:0.1; fill:none\" points=\"\n  2214.93,1374.26 2214.93,1445.72 2250.08,1445.72 2250.08,1374.26 2214.93,1374.26 \n  \"/>\n<circle clip-path=\"url(#clip762)\" style=\"fill:#009af9; stroke:none; fill-opacity:0\" cx=\"931.958\" cy=\"1409.99\" r=\"2\"/>\n<circle clip-path=\"url(#clip762)\" style=\"fill:#009af9; stroke:none; fill-opacity:0\" cx=\"967.108\" cy=\"1445.72\" r=\"2\"/>\n<circle clip-path=\"url(#clip762)\" style=\"fill:#009af9; stroke:none; fill-opacity:0\" cx=\"1002.26\" cy=\"1374.26\" r=\"2\"/>\n<circle clip-path=\"url(#clip762)\" style=\"fill:#009af9; stroke:none; fill-opacity:0\" cx=\"1037.41\" cy=\"1338.53\" r=\"2\"/>\n<circle clip-path=\"url(#clip762)\" style=\"fill:#009af9; stroke:none; fill-opacity:0\" cx=\"1072.56\" cy=\"1409.99\" r=\"2\"/>\n<circle clip-path=\"url(#clip762)\" style=\"fill:#009af9; stroke:none; fill-opacity:0\" cx=\"1107.71\" cy=\"1195.61\" r=\"2\"/>\n<circle clip-path=\"url(#clip762)\" style=\"fill:#009af9; stroke:none; fill-opacity:0\" cx=\"1142.86\" cy=\"1231.34\" r=\"2\"/>\n<circle clip-path=\"url(#clip762)\" style=\"fill:#009af9; stroke:none; fill-opacity:0\" cx=\"1178.01\" cy=\"1124.15\" r=\"2\"/>\n<circle clip-path=\"url(#clip762)\" style=\"fill:#009af9; stroke:none; fill-opacity:0\" cx=\"1213.16\" cy=\"1159.88\" r=\"2\"/>\n<circle clip-path=\"url(#clip762)\" style=\"fill:#009af9; stroke:none; fill-opacity:0\" cx=\"1248.31\" cy=\"1016.96\" r=\"2\"/>\n<circle clip-path=\"url(#clip762)\" style=\"fill:#009af9; stroke:none; fill-opacity:0\" cx=\"1283.46\" cy=\"838.306\" r=\"2\"/>\n<circle clip-path=\"url(#clip762)\" style=\"fill:#009af9; stroke:none; fill-opacity:0\" cx=\"1318.61\" cy=\"874.036\" r=\"2\"/>\n<circle clip-path=\"url(#clip762)\" style=\"fill:#009af9; stroke:none; fill-opacity:0\" cx=\"1353.76\" cy=\"731.116\" r=\"2\"/>\n<circle clip-path=\"url(#clip762)\" style=\"fill:#009af9; stroke:none; fill-opacity:0\" cx=\"1388.91\" cy=\"802.576\" r=\"2\"/>\n<circle clip-path=\"url(#clip762)\" style=\"fill:#009af9; stroke:none; fill-opacity:0\" cx=\"1424.06\" cy=\"766.846\" r=\"2\"/>\n<circle clip-path=\"url(#clip762)\" style=\"fill:#009af9; stroke:none; fill-opacity:0\" cx=\"1459.21\" cy=\"695.386\" r=\"2\"/>\n<circle clip-path=\"url(#clip762)\" style=\"fill:#009af9; stroke:none; fill-opacity:0\" cx=\"1494.36\" cy=\"409.546\" r=\"2\"/>\n<circle clip-path=\"url(#clip762)\" style=\"fill:#009af9; stroke:none; fill-opacity:0\" cx=\"1529.51\" cy=\"87.9763\" r=\"2\"/>\n<circle clip-path=\"url(#clip762)\" style=\"fill:#009af9; stroke:none; fill-opacity:0\" cx=\"1564.66\" cy=\"623.926\" r=\"2\"/>\n<circle clip-path=\"url(#clip762)\" style=\"fill:#009af9; stroke:none; fill-opacity:0\" cx=\"1599.81\" cy=\"659.656\" r=\"2\"/>\n<circle clip-path=\"url(#clip762)\" style=\"fill:#009af9; stroke:none; fill-opacity:0\" cx=\"1634.96\" cy=\"266.626\" r=\"2\"/>\n<circle clip-path=\"url(#clip762)\" style=\"fill:#009af9; stroke:none; fill-opacity:0\" cx=\"1670.11\" cy=\"373.816\" r=\"2\"/>\n<circle clip-path=\"url(#clip762)\" style=\"fill:#009af9; stroke:none; fill-opacity:0\" cx=\"1705.26\" cy=\"552.466\" r=\"2\"/>\n<circle clip-path=\"url(#clip762)\" style=\"fill:#009af9; stroke:none; fill-opacity:0\" cx=\"1740.41\" cy=\"659.656\" r=\"2\"/>\n<circle clip-path=\"url(#clip762)\" style=\"fill:#009af9; stroke:none; fill-opacity:0\" cx=\"1775.56\" cy=\"659.656\" r=\"2\"/>\n<circle clip-path=\"url(#clip762)\" style=\"fill:#009af9; stroke:none; fill-opacity:0\" cx=\"1810.71\" cy=\"909.766\" r=\"2\"/>\n<circle clip-path=\"url(#clip762)\" style=\"fill:#009af9; stroke:none; fill-opacity:0\" cx=\"1845.86\" cy=\"909.766\" r=\"2\"/>\n<circle clip-path=\"url(#clip762)\" style=\"fill:#009af9; stroke:none; fill-opacity:0\" cx=\"1881.01\" cy=\"1052.69\" r=\"2\"/>\n<circle clip-path=\"url(#clip762)\" style=\"fill:#009af9; stroke:none; fill-opacity:0\" cx=\"1916.16\" cy=\"1159.88\" r=\"2\"/>\n<circle clip-path=\"url(#clip762)\" style=\"fill:#009af9; stroke:none; fill-opacity:0\" cx=\"1951.31\" cy=\"981.226\" r=\"2\"/>\n<circle clip-path=\"url(#clip762)\" style=\"fill:#009af9; stroke:none; fill-opacity:0\" cx=\"1986.46\" cy=\"1195.61\" r=\"2\"/>\n<circle clip-path=\"url(#clip762)\" style=\"fill:#009af9; stroke:none; fill-opacity:0\" cx=\"2021.61\" cy=\"1195.61\" r=\"2\"/>\n<circle clip-path=\"url(#clip762)\" style=\"fill:#009af9; stroke:none; fill-opacity:0\" cx=\"2056.76\" cy=\"1195.61\" r=\"2\"/>\n<circle clip-path=\"url(#clip762)\" style=\"fill:#009af9; stroke:none; fill-opacity:0\" cx=\"2091.91\" cy=\"1374.26\" r=\"2\"/>\n<circle clip-path=\"url(#clip762)\" style=\"fill:#009af9; stroke:none; fill-opacity:0\" cx=\"2127.05\" cy=\"1267.07\" r=\"2\"/>\n<circle clip-path=\"url(#clip762)\" style=\"fill:#009af9; stroke:none; fill-opacity:0\" cx=\"2162.2\" cy=\"1374.26\" r=\"2\"/>\n<circle clip-path=\"url(#clip762)\" style=\"fill:#009af9; stroke:none; fill-opacity:0\" cx=\"2197.35\" cy=\"1374.26\" r=\"2\"/>\n<circle clip-path=\"url(#clip762)\" style=\"fill:#009af9; stroke:none; fill-opacity:0\" cx=\"2232.5\" cy=\"1374.26\" r=\"2\"/>\n<path clip-path=\"url(#clip762)\" d=\"\nM246.535 1409.99 L246.535 1445.72 L281.685 1445.72 L281.685 1409.99 L246.535 1409.99 L246.535 1409.99  Z\n  \" fill=\"#e26f46\" fill-rule=\"evenodd\" fill-opacity=\"0.1\"/>\n<polyline clip-path=\"url(#clip762)\" style=\"stroke:#000000; stroke-linecap:butt; stroke-linejoin:round; stroke-width:4; stroke-opacity:0.1; fill:none\" points=\"\n  246.535,1409.99 246.535,1445.72 281.685,1445.72 281.685,1409.99 246.535,1409.99 \n  \"/>\n<path clip-path=\"url(#clip762)\" d=\"\nM281.685 1445.72 L281.685 1445.72 L316.835 1445.72 L316.835 1445.72 L281.685 1445.72 L281.685 1445.72  Z\n  \" fill=\"#e26f46\" fill-rule=\"evenodd\" fill-opacity=\"0.1\"/>\n<polyline clip-path=\"url(#clip762)\" style=\"stroke:#000000; stroke-linecap:butt; stroke-linejoin:round; stroke-width:4; stroke-opacity:0.1; fill:none\" points=\"\n  281.685,1445.72 281.685,1445.72 316.835,1445.72 281.685,1445.72 \n  \"/>\n<path clip-path=\"url(#clip762)\" d=\"\nM316.835 1445.72 L316.835 1445.72 L351.985 1445.72 L351.985 1445.72 L316.835 1445.72 L316.835 1445.72  Z\n  \" fill=\"#e26f46\" fill-rule=\"evenodd\" fill-opacity=\"0.1\"/>\n<polyline clip-path=\"url(#clip762)\" style=\"stroke:#000000; stroke-linecap:butt; stroke-linejoin:round; stroke-width:4; stroke-opacity:0.1; fill:none\" points=\"\n  316.835,1445.72 316.835,1445.72 351.985,1445.72 316.835,1445.72 \n  \"/>\n<path clip-path=\"url(#clip762)\" d=\"\nM351.985 1409.99 L351.985 1445.72 L387.135 1445.72 L387.135 1409.99 L351.985 1409.99 L351.985 1409.99  Z\n  \" fill=\"#e26f46\" fill-rule=\"evenodd\" fill-opacity=\"0.1\"/>\n<polyline clip-path=\"url(#clip762)\" style=\"stroke:#000000; stroke-linecap:butt; stroke-linejoin:round; stroke-width:4; stroke-opacity:0.1; fill:none\" points=\"\n  351.985,1409.99 351.985,1445.72 387.135,1445.72 387.135,1409.99 351.985,1409.99 \n  \"/>\n<path clip-path=\"url(#clip762)\" d=\"\nM387.135 1445.72 L387.135 1445.72 L422.285 1445.72 L422.285 1445.72 L387.135 1445.72 L387.135 1445.72  Z\n  \" fill=\"#e26f46\" fill-rule=\"evenodd\" fill-opacity=\"0.1\"/>\n<polyline clip-path=\"url(#clip762)\" style=\"stroke:#000000; stroke-linecap:butt; stroke-linejoin:round; stroke-width:4; stroke-opacity:0.1; fill:none\" points=\"\n  387.135,1445.72 387.135,1445.72 422.285,1445.72 387.135,1445.72 \n  \"/>\n<path clip-path=\"url(#clip762)\" d=\"\nM422.285 1338.53 L422.285 1445.72 L457.435 1445.72 L457.435 1338.53 L422.285 1338.53 L422.285 1338.53  Z\n  \" fill=\"#e26f46\" fill-rule=\"evenodd\" fill-opacity=\"0.1\"/>\n<polyline clip-path=\"url(#clip762)\" style=\"stroke:#000000; stroke-linecap:butt; stroke-linejoin:round; stroke-width:4; stroke-opacity:0.1; fill:none\" points=\"\n  422.285,1338.53 422.285,1445.72 457.435,1445.72 457.435,1338.53 422.285,1338.53 \n  \"/>\n<path clip-path=\"url(#clip762)\" d=\"\nM457.435 1231.34 L457.435 1445.72 L492.585 1445.72 L492.585 1231.34 L457.435 1231.34 L457.435 1231.34  Z\n  \" fill=\"#e26f46\" fill-rule=\"evenodd\" fill-opacity=\"0.1\"/>\n<polyline clip-path=\"url(#clip762)\" style=\"stroke:#000000; stroke-linecap:butt; stroke-linejoin:round; stroke-width:4; stroke-opacity:0.1; fill:none\" points=\"\n  457.435,1231.34 457.435,1445.72 492.585,1445.72 492.585,1231.34 457.435,1231.34 \n  \"/>\n<path clip-path=\"url(#clip762)\" d=\"\nM492.585 1338.53 L492.585 1445.72 L527.735 1445.72 L527.735 1338.53 L492.585 1338.53 L492.585 1338.53  Z\n  \" fill=\"#e26f46\" fill-rule=\"evenodd\" fill-opacity=\"0.1\"/>\n<polyline clip-path=\"url(#clip762)\" style=\"stroke:#000000; stroke-linecap:butt; stroke-linejoin:round; stroke-width:4; stroke-opacity:0.1; fill:none\" points=\"\n  492.585,1338.53 492.585,1445.72 527.735,1445.72 527.735,1338.53 492.585,1338.53 \n  \"/>\n<path clip-path=\"url(#clip762)\" d=\"\nM527.735 1338.53 L527.735 1445.72 L562.884 1445.72 L562.884 1338.53 L527.735 1338.53 L527.735 1338.53  Z\n  \" fill=\"#e26f46\" fill-rule=\"evenodd\" fill-opacity=\"0.1\"/>\n<polyline clip-path=\"url(#clip762)\" style=\"stroke:#000000; stroke-linecap:butt; stroke-linejoin:round; stroke-width:4; stroke-opacity:0.1; fill:none\" points=\"\n  527.735,1338.53 527.735,1445.72 562.884,1445.72 562.884,1338.53 527.735,1338.53 \n  \"/>\n<path clip-path=\"url(#clip762)\" d=\"\nM562.884 1338.53 L562.884 1445.72 L598.034 1445.72 L598.034 1338.53 L562.884 1338.53 L562.884 1338.53  Z\n  \" fill=\"#e26f46\" fill-rule=\"evenodd\" fill-opacity=\"0.1\"/>\n<polyline clip-path=\"url(#clip762)\" style=\"stroke:#000000; stroke-linecap:butt; stroke-linejoin:round; stroke-width:4; stroke-opacity:0.1; fill:none\" points=\"\n  562.884,1338.53 562.884,1445.72 598.034,1445.72 598.034,1338.53 562.884,1338.53 \n  \"/>\n<path clip-path=\"url(#clip762)\" d=\"\nM598.034 1124.15 L598.034 1445.72 L633.184 1445.72 L633.184 1124.15 L598.034 1124.15 L598.034 1124.15  Z\n  \" fill=\"#e26f46\" fill-rule=\"evenodd\" fill-opacity=\"0.1\"/>\n<polyline clip-path=\"url(#clip762)\" style=\"stroke:#000000; stroke-linecap:butt; stroke-linejoin:round; stroke-width:4; stroke-opacity:0.1; fill:none\" points=\"\n  598.034,1124.15 598.034,1445.72 633.184,1445.72 633.184,1124.15 598.034,1124.15 \n  \"/>\n<path clip-path=\"url(#clip762)\" d=\"\nM633.184 981.226 L633.184 1445.72 L668.334 1445.72 L668.334 981.226 L633.184 981.226 L633.184 981.226  Z\n  \" fill=\"#e26f46\" fill-rule=\"evenodd\" fill-opacity=\"0.1\"/>\n<polyline clip-path=\"url(#clip762)\" style=\"stroke:#000000; stroke-linecap:butt; stroke-linejoin:round; stroke-width:4; stroke-opacity:0.1; fill:none\" points=\"\n  633.184,981.226 633.184,1445.72 668.334,1445.72 668.334,981.226 633.184,981.226 \n  \"/>\n<path clip-path=\"url(#clip762)\" d=\"\nM668.334 945.496 L668.334 1445.72 L703.484 1445.72 L703.484 945.496 L668.334 945.496 L668.334 945.496  Z\n  \" fill=\"#e26f46\" fill-rule=\"evenodd\" fill-opacity=\"0.1\"/>\n<polyline clip-path=\"url(#clip762)\" style=\"stroke:#000000; stroke-linecap:butt; stroke-linejoin:round; stroke-width:4; stroke-opacity:0.1; fill:none\" points=\"\n  668.334,945.496 668.334,1445.72 703.484,1445.72 703.484,945.496 668.334,945.496 \n  \"/>\n<path clip-path=\"url(#clip762)\" d=\"\nM703.484 909.766 L703.484 1445.72 L738.634 1445.72 L738.634 909.766 L703.484 909.766 L703.484 909.766  Z\n  \" fill=\"#e26f46\" fill-rule=\"evenodd\" fill-opacity=\"0.1\"/>\n<polyline clip-path=\"url(#clip762)\" style=\"stroke:#000000; stroke-linecap:butt; stroke-linejoin:round; stroke-width:4; stroke-opacity:0.1; fill:none\" points=\"\n  703.484,909.766 703.484,1445.72 738.634,1445.72 738.634,909.766 703.484,909.766 \n  \"/>\n<path clip-path=\"url(#clip762)\" d=\"\nM738.634 695.386 L738.634 1445.72 L773.784 1445.72 L773.784 695.386 L738.634 695.386 L738.634 695.386  Z\n  \" fill=\"#e26f46\" fill-rule=\"evenodd\" fill-opacity=\"0.1\"/>\n<polyline clip-path=\"url(#clip762)\" style=\"stroke:#000000; stroke-linecap:butt; stroke-linejoin:round; stroke-width:4; stroke-opacity:0.1; fill:none\" points=\"\n  738.634,695.386 738.634,1445.72 773.784,1445.72 773.784,695.386 738.634,695.386 \n  \"/>\n<path clip-path=\"url(#clip762)\" d=\"\nM773.784 909.766 L773.784 1445.72 L808.934 1445.72 L808.934 909.766 L773.784 909.766 L773.784 909.766  Z\n  \" fill=\"#e26f46\" fill-rule=\"evenodd\" fill-opacity=\"0.1\"/>\n<polyline clip-path=\"url(#clip762)\" style=\"stroke:#000000; stroke-linecap:butt; stroke-linejoin:round; stroke-width:4; stroke-opacity:0.1; fill:none\" points=\"\n  773.784,909.766 773.784,1445.72 808.934,1445.72 808.934,909.766 773.784,909.766 \n  \"/>\n<path clip-path=\"url(#clip762)\" d=\"\nM808.934 588.196 L808.934 1445.72 L844.084 1445.72 L844.084 588.196 L808.934 588.196 L808.934 588.196  Z\n  \" fill=\"#e26f46\" fill-rule=\"evenodd\" fill-opacity=\"0.1\"/>\n<polyline clip-path=\"url(#clip762)\" style=\"stroke:#000000; stroke-linecap:butt; stroke-linejoin:round; stroke-width:4; stroke-opacity:0.1; fill:none\" points=\"\n  808.934,588.196 808.934,1445.72 844.084,1445.72 844.084,588.196 808.934,588.196 \n  \"/>\n<path clip-path=\"url(#clip762)\" d=\"\nM844.084 623.926 L844.084 1445.72 L879.234 1445.72 L879.234 623.926 L844.084 623.926 L844.084 623.926  Z\n  \" fill=\"#e26f46\" fill-rule=\"evenodd\" fill-opacity=\"0.1\"/>\n<polyline clip-path=\"url(#clip762)\" style=\"stroke:#000000; stroke-linecap:butt; stroke-linejoin:round; stroke-width:4; stroke-opacity:0.1; fill:none\" points=\"\n  844.084,623.926 844.084,1445.72 879.234,1445.72 879.234,623.926 844.084,623.926 \n  \"/>\n<path clip-path=\"url(#clip762)\" d=\"\nM879.234 623.926 L879.234 1445.72 L914.383 1445.72 L914.383 623.926 L879.234 623.926 L879.234 623.926  Z\n  \" fill=\"#e26f46\" fill-rule=\"evenodd\" fill-opacity=\"0.1\"/>\n<polyline clip-path=\"url(#clip762)\" style=\"stroke:#000000; stroke-linecap:butt; stroke-linejoin:round; stroke-width:4; stroke-opacity:0.1; fill:none\" points=\"\n  879.234,623.926 879.234,1445.72 914.383,1445.72 914.383,623.926 879.234,623.926 \n  \"/>\n<path clip-path=\"url(#clip762)\" d=\"\nM914.383 445.276 L914.383 1445.72 L949.533 1445.72 L949.533 445.276 L914.383 445.276 L914.383 445.276  Z\n  \" fill=\"#e26f46\" fill-rule=\"evenodd\" fill-opacity=\"0.1\"/>\n<polyline clip-path=\"url(#clip762)\" style=\"stroke:#000000; stroke-linecap:butt; stroke-linejoin:round; stroke-width:4; stroke-opacity:0.1; fill:none\" points=\"\n  914.383,445.276 914.383,1445.72 949.533,1445.72 949.533,445.276 914.383,445.276 \n  \"/>\n<path clip-path=\"url(#clip762)\" d=\"\nM949.533 588.196 L949.533 1445.72 L984.683 1445.72 L984.683 588.196 L949.533 588.196 L949.533 588.196  Z\n  \" fill=\"#e26f46\" fill-rule=\"evenodd\" fill-opacity=\"0.1\"/>\n<polyline clip-path=\"url(#clip762)\" style=\"stroke:#000000; stroke-linecap:butt; stroke-linejoin:round; stroke-width:4; stroke-opacity:0.1; fill:none\" points=\"\n  949.533,588.196 949.533,1445.72 984.683,1445.72 984.683,588.196 949.533,588.196 \n  \"/>\n<path clip-path=\"url(#clip762)\" d=\"\nM984.683 266.626 L984.683 1445.72 L1019.83 1445.72 L1019.83 266.626 L984.683 266.626 L984.683 266.626  Z\n  \" fill=\"#e26f46\" fill-rule=\"evenodd\" fill-opacity=\"0.1\"/>\n<polyline clip-path=\"url(#clip762)\" style=\"stroke:#000000; stroke-linecap:butt; stroke-linejoin:round; stroke-width:4; stroke-opacity:0.1; fill:none\" points=\"\n  984.683,266.626 984.683,1445.72 1019.83,1445.72 1019.83,266.626 984.683,266.626 \n  \"/>\n<path clip-path=\"url(#clip762)\" d=\"\nM1019.83 266.626 L1019.83 1445.72 L1054.98 1445.72 L1054.98 266.626 L1019.83 266.626 L1019.83 266.626  Z\n  \" fill=\"#e26f46\" fill-rule=\"evenodd\" fill-opacity=\"0.1\"/>\n<polyline clip-path=\"url(#clip762)\" style=\"stroke:#000000; stroke-linecap:butt; stroke-linejoin:round; stroke-width:4; stroke-opacity:0.1; fill:none\" points=\"\n  1019.83,266.626 1019.83,1445.72 1054.98,1445.72 1054.98,266.626 1019.83,266.626 \n  \"/>\n<path clip-path=\"url(#clip762)\" d=\"\nM1054.98 552.466 L1054.98 1445.72 L1090.13 1445.72 L1090.13 552.466 L1054.98 552.466 L1054.98 552.466  Z\n  \" fill=\"#e26f46\" fill-rule=\"evenodd\" fill-opacity=\"0.1\"/>\n<polyline clip-path=\"url(#clip762)\" style=\"stroke:#000000; stroke-linecap:butt; stroke-linejoin:round; stroke-width:4; stroke-opacity:0.1; fill:none\" points=\"\n  1054.98,552.466 1054.98,1445.72 1090.13,1445.72 1090.13,552.466 1054.98,552.466 \n  \"/>\n<path clip-path=\"url(#clip762)\" d=\"\nM1090.13 623.926 L1090.13 1445.72 L1125.28 1445.72 L1125.28 623.926 L1090.13 623.926 L1090.13 623.926  Z\n  \" fill=\"#e26f46\" fill-rule=\"evenodd\" fill-opacity=\"0.1\"/>\n<polyline clip-path=\"url(#clip762)\" style=\"stroke:#000000; stroke-linecap:butt; stroke-linejoin:round; stroke-width:4; stroke-opacity:0.1; fill:none\" points=\"\n  1090.13,623.926 1090.13,1445.72 1125.28,1445.72 1125.28,623.926 1090.13,623.926 \n  \"/>\n<path clip-path=\"url(#clip762)\" d=\"\nM1125.28 659.656 L1125.28 1445.72 L1160.43 1445.72 L1160.43 659.656 L1125.28 659.656 L1125.28 659.656  Z\n  \" fill=\"#e26f46\" fill-rule=\"evenodd\" fill-opacity=\"0.1\"/>\n<polyline clip-path=\"url(#clip762)\" style=\"stroke:#000000; stroke-linecap:butt; stroke-linejoin:round; stroke-width:4; stroke-opacity:0.1; fill:none\" points=\"\n  1125.28,659.656 1125.28,1445.72 1160.43,1445.72 1160.43,659.656 1125.28,659.656 \n  \"/>\n<path clip-path=\"url(#clip762)\" d=\"\nM1160.43 766.846 L1160.43 1445.72 L1195.58 1445.72 L1195.58 766.846 L1160.43 766.846 L1160.43 766.846  Z\n  \" fill=\"#e26f46\" fill-rule=\"evenodd\" fill-opacity=\"0.1\"/>\n<polyline clip-path=\"url(#clip762)\" style=\"stroke:#000000; stroke-linecap:butt; stroke-linejoin:round; stroke-width:4; stroke-opacity:0.1; fill:none\" points=\"\n  1160.43,766.846 1160.43,1445.72 1195.58,1445.72 1195.58,766.846 1160.43,766.846 \n  \"/>\n<path clip-path=\"url(#clip762)\" d=\"\nM1195.58 731.116 L1195.58 1445.72 L1230.73 1445.72 L1230.73 731.116 L1195.58 731.116 L1195.58 731.116  Z\n  \" fill=\"#e26f46\" fill-rule=\"evenodd\" fill-opacity=\"0.1\"/>\n<polyline clip-path=\"url(#clip762)\" style=\"stroke:#000000; stroke-linecap:butt; stroke-linejoin:round; stroke-width:4; stroke-opacity:0.1; fill:none\" points=\"\n  1195.58,731.116 1195.58,1445.72 1230.73,1445.72 1230.73,731.116 1195.58,731.116 \n  \"/>\n<path clip-path=\"url(#clip762)\" d=\"\nM1230.73 945.496 L1230.73 1445.72 L1265.88 1445.72 L1265.88 945.496 L1230.73 945.496 L1230.73 945.496  Z\n  \" fill=\"#e26f46\" fill-rule=\"evenodd\" fill-opacity=\"0.1\"/>\n<polyline clip-path=\"url(#clip762)\" style=\"stroke:#000000; stroke-linecap:butt; stroke-linejoin:round; stroke-width:4; stroke-opacity:0.1; fill:none\" points=\"\n  1230.73,945.496 1230.73,1445.72 1265.88,1445.72 1265.88,945.496 1230.73,945.496 \n  \"/>\n<path clip-path=\"url(#clip762)\" d=\"\nM1265.88 909.766 L1265.88 1445.72 L1301.03 1445.72 L1301.03 909.766 L1265.88 909.766 L1265.88 909.766  Z\n  \" fill=\"#e26f46\" fill-rule=\"evenodd\" fill-opacity=\"0.1\"/>\n<polyline clip-path=\"url(#clip762)\" style=\"stroke:#000000; stroke-linecap:butt; stroke-linejoin:round; stroke-width:4; stroke-opacity:0.1; fill:none\" points=\"\n  1265.88,909.766 1265.88,1445.72 1301.03,1445.72 1301.03,909.766 1265.88,909.766 \n  \"/>\n<path clip-path=\"url(#clip762)\" d=\"\nM1301.03 766.846 L1301.03 1445.72 L1336.18 1445.72 L1336.18 766.846 L1301.03 766.846 L1301.03 766.846  Z\n  \" fill=\"#e26f46\" fill-rule=\"evenodd\" fill-opacity=\"0.1\"/>\n<polyline clip-path=\"url(#clip762)\" style=\"stroke:#000000; stroke-linecap:butt; stroke-linejoin:round; stroke-width:4; stroke-opacity:0.1; fill:none\" points=\"\n  1301.03,766.846 1301.03,1445.72 1336.18,1445.72 1336.18,766.846 1301.03,766.846 \n  \"/>\n<path clip-path=\"url(#clip762)\" d=\"\nM1336.18 1016.96 L1336.18 1445.72 L1371.33 1445.72 L1371.33 1016.96 L1336.18 1016.96 L1336.18 1016.96  Z\n  \" fill=\"#e26f46\" fill-rule=\"evenodd\" fill-opacity=\"0.1\"/>\n<polyline clip-path=\"url(#clip762)\" style=\"stroke:#000000; stroke-linecap:butt; stroke-linejoin:round; stroke-width:4; stroke-opacity:0.1; fill:none\" points=\"\n  1336.18,1016.96 1336.18,1445.72 1371.33,1445.72 1371.33,1016.96 1336.18,1016.96 \n  \"/>\n<path clip-path=\"url(#clip762)\" d=\"\nM1371.33 945.496 L1371.33 1445.72 L1406.48 1445.72 L1406.48 945.496 L1371.33 945.496 L1371.33 945.496  Z\n  \" fill=\"#e26f46\" fill-rule=\"evenodd\" fill-opacity=\"0.1\"/>\n<polyline clip-path=\"url(#clip762)\" style=\"stroke:#000000; stroke-linecap:butt; stroke-linejoin:round; stroke-width:4; stroke-opacity:0.1; fill:none\" points=\"\n  1371.33,945.496 1371.33,1445.72 1406.48,1445.72 1406.48,945.496 1371.33,945.496 \n  \"/>\n<path clip-path=\"url(#clip762)\" d=\"\nM1406.48 1302.8 L1406.48 1445.72 L1441.63 1445.72 L1441.63 1302.8 L1406.48 1302.8 L1406.48 1302.8  Z\n  \" fill=\"#e26f46\" fill-rule=\"evenodd\" fill-opacity=\"0.1\"/>\n<polyline clip-path=\"url(#clip762)\" style=\"stroke:#000000; stroke-linecap:butt; stroke-linejoin:round; stroke-width:4; stroke-opacity:0.1; fill:none\" points=\"\n  1406.48,1302.8 1406.48,1445.72 1441.63,1445.72 1441.63,1302.8 1406.48,1302.8 \n  \"/>\n<path clip-path=\"url(#clip762)\" d=\"\nM1441.63 1338.53 L1441.63 1445.72 L1476.78 1445.72 L1476.78 1338.53 L1441.63 1338.53 L1441.63 1338.53  Z\n  \" fill=\"#e26f46\" fill-rule=\"evenodd\" fill-opacity=\"0.1\"/>\n<polyline clip-path=\"url(#clip762)\" style=\"stroke:#000000; stroke-linecap:butt; stroke-linejoin:round; stroke-width:4; stroke-opacity:0.1; fill:none\" points=\"\n  1441.63,1338.53 1441.63,1445.72 1476.78,1445.72 1476.78,1338.53 1441.63,1338.53 \n  \"/>\n<path clip-path=\"url(#clip762)\" d=\"\nM1476.78 1302.8 L1476.78 1445.72 L1511.93 1445.72 L1511.93 1302.8 L1476.78 1302.8 L1476.78 1302.8  Z\n  \" fill=\"#e26f46\" fill-rule=\"evenodd\" fill-opacity=\"0.1\"/>\n<polyline clip-path=\"url(#clip762)\" style=\"stroke:#000000; stroke-linecap:butt; stroke-linejoin:round; stroke-width:4; stroke-opacity:0.1; fill:none\" points=\"\n  1476.78,1302.8 1476.78,1445.72 1511.93,1445.72 1511.93,1302.8 1476.78,1302.8 \n  \"/>\n<path clip-path=\"url(#clip762)\" d=\"\nM1511.93 1302.8 L1511.93 1445.72 L1547.08 1445.72 L1547.08 1302.8 L1511.93 1302.8 L1511.93 1302.8  Z\n  \" fill=\"#e26f46\" fill-rule=\"evenodd\" fill-opacity=\"0.1\"/>\n<polyline clip-path=\"url(#clip762)\" style=\"stroke:#000000; stroke-linecap:butt; stroke-linejoin:round; stroke-width:4; stroke-opacity:0.1; fill:none\" points=\"\n  1511.93,1302.8 1511.93,1445.72 1547.08,1445.72 1547.08,1302.8 1511.93,1302.8 \n  \"/>\n<path clip-path=\"url(#clip762)\" d=\"\nM1547.08 1374.26 L1547.08 1445.72 L1582.23 1445.72 L1582.23 1374.26 L1547.08 1374.26 L1547.08 1374.26  Z\n  \" fill=\"#e26f46\" fill-rule=\"evenodd\" fill-opacity=\"0.1\"/>\n<polyline clip-path=\"url(#clip762)\" style=\"stroke:#000000; stroke-linecap:butt; stroke-linejoin:round; stroke-width:4; stroke-opacity:0.1; fill:none\" points=\"\n  1547.08,1374.26 1547.08,1445.72 1582.23,1445.72 1582.23,1374.26 1547.08,1374.26 \n  \"/>\n<path clip-path=\"url(#clip762)\" d=\"\nM1582.23 1374.26 L1582.23 1445.72 L1617.38 1445.72 L1617.38 1374.26 L1582.23 1374.26 L1582.23 1374.26  Z\n  \" fill=\"#e26f46\" fill-rule=\"evenodd\" fill-opacity=\"0.1\"/>\n<polyline clip-path=\"url(#clip762)\" style=\"stroke:#000000; stroke-linecap:butt; stroke-linejoin:round; stroke-width:4; stroke-opacity:0.1; fill:none\" points=\"\n  1582.23,1374.26 1582.23,1445.72 1617.38,1445.72 1617.38,1374.26 1582.23,1374.26 \n  \"/>\n<path clip-path=\"url(#clip762)\" d=\"\nM1617.38 1445.72 L1617.38 1445.72 L1652.53 1445.72 L1652.53 1445.72 L1617.38 1445.72 L1617.38 1445.72  Z\n  \" fill=\"#e26f46\" fill-rule=\"evenodd\" fill-opacity=\"0.1\"/>\n<polyline clip-path=\"url(#clip762)\" style=\"stroke:#000000; stroke-linecap:butt; stroke-linejoin:round; stroke-width:4; stroke-opacity:0.1; fill:none\" points=\"\n  1617.38,1445.72 1617.38,1445.72 1652.53,1445.72 1617.38,1445.72 \n  \"/>\n<path clip-path=\"url(#clip762)\" d=\"\nM1652.53 1338.53 L1652.53 1445.72 L1687.68 1445.72 L1687.68 1338.53 L1652.53 1338.53 L1652.53 1338.53  Z\n  \" fill=\"#e26f46\" fill-rule=\"evenodd\" fill-opacity=\"0.1\"/>\n<polyline clip-path=\"url(#clip762)\" style=\"stroke:#000000; stroke-linecap:butt; stroke-linejoin:round; stroke-width:4; stroke-opacity:0.1; fill:none\" points=\"\n  1652.53,1338.53 1652.53,1445.72 1687.68,1445.72 1687.68,1338.53 1652.53,1338.53 \n  \"/>\n<circle clip-path=\"url(#clip762)\" style=\"fill:#e26f46; stroke:none; fill-opacity:0\" cx=\"264.11\" cy=\"1409.99\" r=\"2\"/>\n<circle clip-path=\"url(#clip762)\" style=\"fill:#e26f46; stroke:none; fill-opacity:0\" cx=\"299.26\" cy=\"1445.72\" r=\"2\"/>\n<circle clip-path=\"url(#clip762)\" style=\"fill:#e26f46; stroke:none; fill-opacity:0\" cx=\"334.41\" cy=\"1445.72\" r=\"2\"/>\n<circle clip-path=\"url(#clip762)\" style=\"fill:#e26f46; stroke:none; fill-opacity:0\" cx=\"369.56\" cy=\"1409.99\" r=\"2\"/>\n<circle clip-path=\"url(#clip762)\" style=\"fill:#e26f46; stroke:none; fill-opacity:0\" cx=\"404.71\" cy=\"1445.72\" r=\"2\"/>\n<circle clip-path=\"url(#clip762)\" style=\"fill:#e26f46; stroke:none; fill-opacity:0\" cx=\"439.86\" cy=\"1338.53\" r=\"2\"/>\n<circle clip-path=\"url(#clip762)\" style=\"fill:#e26f46; stroke:none; fill-opacity:0\" cx=\"475.01\" cy=\"1231.34\" r=\"2\"/>\n<circle clip-path=\"url(#clip762)\" style=\"fill:#e26f46; stroke:none; fill-opacity:0\" cx=\"510.16\" cy=\"1338.53\" r=\"2\"/>\n<circle clip-path=\"url(#clip762)\" style=\"fill:#e26f46; stroke:none; fill-opacity:0\" cx=\"545.31\" cy=\"1338.53\" r=\"2\"/>\n<circle clip-path=\"url(#clip762)\" style=\"fill:#e26f46; stroke:none; fill-opacity:0\" cx=\"580.459\" cy=\"1338.53\" r=\"2\"/>\n<circle clip-path=\"url(#clip762)\" style=\"fill:#e26f46; stroke:none; fill-opacity:0\" cx=\"615.609\" cy=\"1124.15\" r=\"2\"/>\n<circle clip-path=\"url(#clip762)\" style=\"fill:#e26f46; stroke:none; fill-opacity:0\" cx=\"650.759\" cy=\"981.226\" r=\"2\"/>\n<circle clip-path=\"url(#clip762)\" style=\"fill:#e26f46; stroke:none; fill-opacity:0\" cx=\"685.909\" cy=\"945.496\" r=\"2\"/>\n<circle clip-path=\"url(#clip762)\" style=\"fill:#e26f46; stroke:none; fill-opacity:0\" cx=\"721.059\" cy=\"909.766\" r=\"2\"/>\n<circle clip-path=\"url(#clip762)\" style=\"fill:#e26f46; stroke:none; fill-opacity:0\" cx=\"756.209\" cy=\"695.386\" r=\"2\"/>\n<circle clip-path=\"url(#clip762)\" style=\"fill:#e26f46; stroke:none; fill-opacity:0\" cx=\"791.359\" cy=\"909.766\" r=\"2\"/>\n<circle clip-path=\"url(#clip762)\" style=\"fill:#e26f46; stroke:none; fill-opacity:0\" cx=\"826.509\" cy=\"588.196\" r=\"2\"/>\n<circle clip-path=\"url(#clip762)\" style=\"fill:#e26f46; stroke:none; fill-opacity:0\" cx=\"861.659\" cy=\"623.926\" r=\"2\"/>\n<circle clip-path=\"url(#clip762)\" style=\"fill:#e26f46; stroke:none; fill-opacity:0\" cx=\"896.808\" cy=\"623.926\" r=\"2\"/>\n<circle clip-path=\"url(#clip762)\" style=\"fill:#e26f46; stroke:none; fill-opacity:0\" cx=\"931.958\" cy=\"445.276\" r=\"2\"/>\n<circle clip-path=\"url(#clip762)\" style=\"fill:#e26f46; stroke:none; fill-opacity:0\" cx=\"967.108\" cy=\"588.196\" r=\"2\"/>\n<circle clip-path=\"url(#clip762)\" style=\"fill:#e26f46; stroke:none; fill-opacity:0\" cx=\"1002.26\" cy=\"266.626\" r=\"2\"/>\n<circle clip-path=\"url(#clip762)\" style=\"fill:#e26f46; stroke:none; fill-opacity:0\" cx=\"1037.41\" cy=\"266.626\" r=\"2\"/>\n<circle clip-path=\"url(#clip762)\" style=\"fill:#e26f46; stroke:none; fill-opacity:0\" cx=\"1072.56\" cy=\"552.466\" r=\"2\"/>\n<circle clip-path=\"url(#clip762)\" style=\"fill:#e26f46; stroke:none; fill-opacity:0\" cx=\"1107.71\" cy=\"623.926\" r=\"2\"/>\n<circle clip-path=\"url(#clip762)\" style=\"fill:#e26f46; stroke:none; fill-opacity:0\" cx=\"1142.86\" cy=\"659.656\" r=\"2\"/>\n<circle clip-path=\"url(#clip762)\" style=\"fill:#e26f46; stroke:none; fill-opacity:0\" cx=\"1178.01\" cy=\"766.846\" r=\"2\"/>\n<circle clip-path=\"url(#clip762)\" style=\"fill:#e26f46; stroke:none; fill-opacity:0\" cx=\"1213.16\" cy=\"731.116\" r=\"2\"/>\n<circle clip-path=\"url(#clip762)\" style=\"fill:#e26f46; stroke:none; fill-opacity:0\" cx=\"1248.31\" cy=\"945.496\" r=\"2\"/>\n<circle clip-path=\"url(#clip762)\" style=\"fill:#e26f46; stroke:none; fill-opacity:0\" cx=\"1283.46\" cy=\"909.766\" r=\"2\"/>\n<circle clip-path=\"url(#clip762)\" style=\"fill:#e26f46; stroke:none; fill-opacity:0\" cx=\"1318.61\" cy=\"766.846\" r=\"2\"/>\n<circle clip-path=\"url(#clip762)\" style=\"fill:#e26f46; stroke:none; fill-opacity:0\" cx=\"1353.76\" cy=\"1016.96\" r=\"2\"/>\n<circle clip-path=\"url(#clip762)\" style=\"fill:#e26f46; stroke:none; fill-opacity:0\" cx=\"1388.91\" cy=\"945.496\" r=\"2\"/>\n<circle clip-path=\"url(#clip762)\" style=\"fill:#e26f46; stroke:none; fill-opacity:0\" cx=\"1424.06\" cy=\"1302.8\" r=\"2\"/>\n<circle clip-path=\"url(#clip762)\" style=\"fill:#e26f46; stroke:none; fill-opacity:0\" cx=\"1459.21\" cy=\"1338.53\" r=\"2\"/>\n<circle clip-path=\"url(#clip762)\" style=\"fill:#e26f46; stroke:none; fill-opacity:0\" cx=\"1494.36\" cy=\"1302.8\" r=\"2\"/>\n<circle clip-path=\"url(#clip762)\" style=\"fill:#e26f46; stroke:none; fill-opacity:0\" cx=\"1529.51\" cy=\"1302.8\" r=\"2\"/>\n<circle clip-path=\"url(#clip762)\" style=\"fill:#e26f46; stroke:none; fill-opacity:0\" cx=\"1564.66\" cy=\"1374.26\" r=\"2\"/>\n<circle clip-path=\"url(#clip762)\" style=\"fill:#e26f46; stroke:none; fill-opacity:0\" cx=\"1599.81\" cy=\"1374.26\" r=\"2\"/>\n<circle clip-path=\"url(#clip762)\" style=\"fill:#e26f46; stroke:none; fill-opacity:0\" cx=\"1634.96\" cy=\"1445.72\" r=\"2\"/>\n<circle clip-path=\"url(#clip762)\" style=\"fill:#e26f46; stroke:none; fill-opacity:0\" cx=\"1670.11\" cy=\"1338.53\" r=\"2\"/>\n<polyline clip-path=\"url(#clip762)\" style=\"stroke:#3da44d; stroke-linecap:butt; stroke-linejoin:round; stroke-width:4; stroke-opacity:1; fill:none\" points=\"\n  1064.32,2925.65 1064.32,-1391.96 \n  \"/>\n<path clip-path=\"url(#clip760)\" d=\"\nM1738.33 302.578 L2279.02 302.578 L2279.02 95.2176 L1738.33 95.2176  Z\n  \" fill=\"#ffffff\" fill-rule=\"evenodd\" fill-opacity=\"1\"/>\n<polyline clip-path=\"url(#clip760)\" style=\"stroke:#000000; stroke-linecap:butt; stroke-linejoin:round; stroke-width:4; stroke-opacity:1; fill:none\" points=\"\n  1738.33,302.578 2279.02,302.578 2279.02,95.2176 1738.33,95.2176 1738.33,302.578 \n  \"/>\n<path clip-path=\"url(#clip760)\" d=\"\nM1762.91 167.794 L1910.38 167.794 L1910.38 126.322 L1762.91 126.322 L1762.91 167.794  Z\n  \" fill=\"#009af9\" fill-rule=\"evenodd\" fill-opacity=\"0.1\"/>\n<polyline clip-path=\"url(#clip760)\" style=\"stroke:#000000; stroke-linecap:butt; stroke-linejoin:round; stroke-width:4; stroke-opacity:1; fill:none\" points=\"\n  1762.91,167.794 1910.38,167.794 1910.38,126.322 1762.91,126.322 1762.91,167.794 \n  \"/>\n<path clip-path=\"url(#clip760)\" d=\"M1934.96 154.106 L1934.96 138.412 L1939.22 138.412 L1939.22 153.944 Q1939.22 157.625 1940.65 159.476 Q1942.09 161.305 1944.96 161.305 Q1948.41 161.305 1950.4 159.106 Q1952.41 156.907 1952.41 153.111 L1952.41 138.412 L1956.67 138.412 L1956.67 164.338 L1952.41 164.338 L1952.41 160.356 Q1950.86 162.717 1948.8 163.875 Q1946.76 165.009 1944.06 165.009 Q1939.59 165.009 1937.27 162.231 Q1934.96 159.453 1934.96 154.106 M1945.68 137.787 L1945.68 137.787 Z\" fill=\"#000000\" fill-rule=\"evenodd\" fill-opacity=\"1\" /><path clip-path=\"url(#clip760)\" d=\"M1969.56 160.449 L1969.56 174.199 L1965.28 174.199 L1965.28 138.412 L1969.56 138.412 L1969.56 142.347 Q1970.91 140.032 1972.94 138.921 Q1975 137.787 1977.85 137.787 Q1982.57 137.787 1985.51 141.537 Q1988.48 145.287 1988.48 151.398 Q1988.48 157.509 1985.51 161.259 Q1982.57 165.009 1977.85 165.009 Q1975 165.009 1972.94 163.898 Q1970.91 162.763 1969.56 160.449 M1984.05 151.398 Q1984.05 146.699 1982.11 144.037 Q1980.19 141.352 1976.81 141.352 Q1973.43 141.352 1971.49 144.037 Q1969.56 146.699 1969.56 151.398 Q1969.56 156.097 1971.49 158.782 Q1973.43 161.444 1976.81 161.444 Q1980.19 161.444 1982.11 158.782 Q1984.05 156.097 1984.05 151.398 Z\" fill=\"#000000\" fill-rule=\"evenodd\" fill-opacity=\"1\" /><path clip-path=\"url(#clip760)\" d=\"M1999.66 160.449 L1999.66 174.199 L1995.37 174.199 L1995.37 138.412 L1999.66 138.412 L1999.66 142.347 Q2001 140.032 2003.04 138.921 Q2005.1 137.787 2007.94 137.787 Q2012.67 137.787 2015.61 141.537 Q2018.57 145.287 2018.57 151.398 Q2018.57 157.509 2015.61 161.259 Q2012.67 165.009 2007.94 165.009 Q2005.1 165.009 2003.04 163.898 Q2001 162.763 1999.66 160.449 M2014.15 151.398 Q2014.15 146.699 2012.2 144.037 Q2010.28 141.352 2006.9 141.352 Q2003.52 141.352 2001.58 144.037 Q1999.66 146.699 1999.66 151.398 Q1999.66 156.097 2001.58 158.782 Q2003.52 161.444 2006.9 161.444 Q2010.28 161.444 2012.2 158.782 Q2014.15 156.097 2014.15 151.398 Z\" fill=\"#000000\" fill-rule=\"evenodd\" fill-opacity=\"1\" /><path clip-path=\"url(#clip760)\" d=\"M2047.8 150.31 L2047.8 152.393 L2028.22 152.393 Q2028.5 156.791 2030.86 159.106 Q2033.24 161.398 2037.48 161.398 Q2039.93 161.398 2042.23 160.796 Q2044.54 160.194 2046.81 158.99 L2046.81 163.018 Q2044.52 163.99 2042.11 164.5 Q2039.7 165.009 2037.23 165.009 Q2031.02 165.009 2027.39 161.398 Q2023.78 157.787 2023.78 151.629 Q2023.78 145.264 2027.2 141.537 Q2030.65 137.787 2036.49 137.787 Q2041.72 137.787 2044.75 141.166 Q2047.8 144.523 2047.8 150.31 M2043.55 149.06 Q2043.5 145.565 2041.58 143.481 Q2039.68 141.398 2036.53 141.398 Q2032.97 141.398 2030.81 143.412 Q2028.68 145.426 2028.36 149.083 L2043.55 149.06 Z\" fill=\"#000000\" fill-rule=\"evenodd\" fill-opacity=\"1\" /><path clip-path=\"url(#clip760)\" d=\"M2069.82 142.393 Q2069.1 141.977 2068.24 141.791 Q2067.41 141.583 2066.39 141.583 Q2062.78 141.583 2060.84 143.944 Q2058.92 146.282 2058.92 150.68 L2058.92 164.338 L2054.63 164.338 L2054.63 138.412 L2058.92 138.412 L2058.92 142.44 Q2060.26 140.078 2062.41 138.944 Q2064.56 137.787 2067.64 137.787 Q2068.08 137.787 2068.61 137.856 Q2069.15 137.903 2069.8 138.018 L2069.82 142.393 Z\" fill=\"#000000\" fill-rule=\"evenodd\" fill-opacity=\"1\" /><path clip-path=\"url(#clip760)\" d=\"M2107.97 151.398 Q2107.97 146.699 2106.02 144.037 Q2104.1 141.352 2100.72 141.352 Q2097.34 141.352 2095.4 144.037 Q2093.48 146.699 2093.48 151.398 Q2093.48 156.097 2095.4 158.782 Q2097.34 161.444 2100.72 161.444 Q2104.1 161.444 2106.02 158.782 Q2107.97 156.097 2107.97 151.398 M2093.48 142.347 Q2094.82 140.032 2096.86 138.921 Q2098.92 137.787 2101.76 137.787 Q2106.48 137.787 2109.42 141.537 Q2112.39 145.287 2112.39 151.398 Q2112.39 157.509 2109.42 161.259 Q2106.48 165.009 2101.76 165.009 Q2098.92 165.009 2096.86 163.898 Q2094.82 162.763 2093.48 160.449 L2093.48 164.338 L2089.19 164.338 L2089.19 128.319 L2093.48 128.319 L2093.48 142.347 Z\" fill=\"#000000\" fill-rule=\"evenodd\" fill-opacity=\"1\" /><path clip-path=\"url(#clip760)\" d=\"M2129.49 141.398 Q2126.07 141.398 2124.08 144.083 Q2122.09 146.745 2122.09 151.398 Q2122.09 156.051 2124.05 158.736 Q2126.04 161.398 2129.49 161.398 Q2132.9 161.398 2134.89 158.713 Q2136.88 156.027 2136.88 151.398 Q2136.88 146.791 2134.89 144.106 Q2132.9 141.398 2129.49 141.398 M2129.49 137.787 Q2135.05 137.787 2138.22 141.398 Q2141.39 145.009 2141.39 151.398 Q2141.39 157.764 2138.22 161.398 Q2135.05 165.009 2129.49 165.009 Q2123.92 165.009 2120.74 161.398 Q2117.6 157.764 2117.6 151.398 Q2117.6 145.009 2120.74 141.398 Q2123.92 137.787 2129.49 137.787 Z\" fill=\"#000000\" fill-rule=\"evenodd\" fill-opacity=\"1\" /><path clip-path=\"url(#clip760)\" d=\"M2148.01 154.106 L2148.01 138.412 L2152.27 138.412 L2152.27 153.944 Q2152.27 157.625 2153.71 159.476 Q2155.14 161.305 2158.01 161.305 Q2161.46 161.305 2163.45 159.106 Q2165.47 156.907 2165.47 153.111 L2165.47 138.412 L2169.73 138.412 L2169.73 164.338 L2165.47 164.338 L2165.47 160.356 Q2163.91 162.717 2161.85 163.875 Q2159.82 165.009 2157.11 165.009 Q2152.64 165.009 2150.33 162.231 Q2148.01 159.453 2148.01 154.106 M2158.73 137.787 L2158.73 137.787 Z\" fill=\"#000000\" fill-rule=\"evenodd\" fill-opacity=\"1\" /><path clip-path=\"url(#clip760)\" d=\"M2200.05 148.689 L2200.05 164.338 L2195.79 164.338 L2195.79 148.828 Q2195.79 145.148 2194.35 143.319 Q2192.92 141.49 2190.05 141.49 Q2186.6 141.49 2184.61 143.69 Q2182.62 145.889 2182.62 149.685 L2182.62 164.338 L2178.34 164.338 L2178.34 138.412 L2182.62 138.412 L2182.62 142.44 Q2184.15 140.102 2186.21 138.944 Q2188.29 137.787 2191 137.787 Q2195.47 137.787 2197.76 140.565 Q2200.05 143.319 2200.05 148.689 Z\" fill=\"#000000\" fill-rule=\"evenodd\" fill-opacity=\"1\" /><path clip-path=\"url(#clip760)\" d=\"M2225.6 142.347 L2225.6 128.319 L2229.86 128.319 L2229.86 164.338 L2225.6 164.338 L2225.6 160.449 Q2224.26 162.763 2222.2 163.898 Q2220.16 165.009 2217.29 165.009 Q2212.6 165.009 2209.63 161.259 Q2206.69 157.509 2206.69 151.398 Q2206.69 145.287 2209.63 141.537 Q2212.6 137.787 2217.29 137.787 Q2220.16 137.787 2222.2 138.921 Q2224.26 140.032 2225.6 142.347 M2211.09 151.398 Q2211.09 156.097 2213.01 158.782 Q2214.96 161.444 2218.34 161.444 Q2221.72 161.444 2223.66 158.782 Q2225.6 156.097 2225.6 151.398 Q2225.6 146.699 2223.66 144.037 Q2221.72 141.352 2218.34 141.352 Q2214.96 141.352 2213.01 144.037 Q2211.09 146.699 2211.09 151.398 Z\" fill=\"#000000\" fill-rule=\"evenodd\" fill-opacity=\"1\" /><path clip-path=\"url(#clip760)\" d=\"\nM1762.91 219.634 L1910.38 219.634 L1910.38 178.162 L1762.91 178.162 L1762.91 219.634  Z\n  \" fill=\"#e26f46\" fill-rule=\"evenodd\" fill-opacity=\"0.1\"/>\n<polyline clip-path=\"url(#clip760)\" style=\"stroke:#000000; stroke-linecap:butt; stroke-linejoin:round; stroke-width:4; stroke-opacity:1; fill:none\" points=\"\n  1762.91,219.634 1910.38,219.634 1910.38,178.162 1762.91,178.162 1762.91,219.634 \n  \"/>\n<path clip-path=\"url(#clip760)\" d=\"M1934.96 180.159 L1939.22 180.159 L1939.22 216.178 L1934.96 216.178 L1934.96 180.159 Z\" fill=\"#000000\" fill-rule=\"evenodd\" fill-opacity=\"1\" /><path clip-path=\"url(#clip760)\" d=\"M1958.18 193.238 Q1954.75 193.238 1952.76 195.923 Q1950.77 198.585 1950.77 203.238 Q1950.77 207.891 1952.74 210.576 Q1954.73 213.238 1958.18 213.238 Q1961.58 213.238 1963.57 210.553 Q1965.56 207.867 1965.56 203.238 Q1965.56 198.631 1963.57 195.946 Q1961.58 193.238 1958.18 193.238 M1958.18 189.627 Q1963.73 189.627 1966.9 193.238 Q1970.07 196.849 1970.07 203.238 Q1970.07 209.604 1966.9 213.238 Q1963.73 216.849 1958.18 216.849 Q1952.6 216.849 1949.43 213.238 Q1946.28 209.604 1946.28 203.238 Q1946.28 196.849 1949.43 193.238 Q1952.6 189.627 1958.18 189.627 Z\" fill=\"#000000\" fill-rule=\"evenodd\" fill-opacity=\"1\" /><path clip-path=\"url(#clip760)\" d=\"M1974.66 190.252 L1978.92 190.252 L1984.24 210.483 L1989.54 190.252 L1994.56 190.252 L1999.89 210.483 L2005.19 190.252 L2009.45 190.252 L2002.67 216.178 L1997.64 216.178 L1992.06 194.928 L1986.46 216.178 L1981.44 216.178 L1974.66 190.252 Z\" fill=\"#000000\" fill-rule=\"evenodd\" fill-opacity=\"1\" /><path clip-path=\"url(#clip760)\" d=\"M2038.08 202.15 L2038.08 204.233 L2018.5 204.233 Q2018.78 208.631 2021.14 210.946 Q2023.52 213.238 2027.76 213.238 Q2030.21 213.238 2032.5 212.636 Q2034.82 212.034 2037.09 210.83 L2037.09 214.858 Q2034.8 215.83 2032.39 216.34 Q2029.98 216.849 2027.5 216.849 Q2021.3 216.849 2017.67 213.238 Q2014.05 209.627 2014.05 203.469 Q2014.05 197.104 2017.48 193.377 Q2020.93 189.627 2026.76 189.627 Q2031.99 189.627 2035.03 193.006 Q2038.08 196.363 2038.08 202.15 M2033.82 200.9 Q2033.78 197.405 2031.86 195.321 Q2029.96 193.238 2026.81 193.238 Q2023.24 193.238 2021.09 195.252 Q2018.96 197.266 2018.64 200.923 L2033.82 200.9 Z\" fill=\"#000000\" fill-rule=\"evenodd\" fill-opacity=\"1\" /><path clip-path=\"url(#clip760)\" d=\"M2060.1 194.233 Q2059.38 193.817 2058.52 193.631 Q2057.69 193.423 2056.67 193.423 Q2053.06 193.423 2051.11 195.784 Q2049.19 198.122 2049.19 202.52 L2049.19 216.178 L2044.91 216.178 L2044.91 190.252 L2049.19 190.252 L2049.19 194.28 Q2050.54 191.918 2052.69 190.784 Q2054.84 189.627 2057.92 189.627 Q2058.36 189.627 2058.89 189.696 Q2059.42 189.743 2060.07 189.858 L2060.1 194.233 Z\" fill=\"#000000\" fill-rule=\"evenodd\" fill-opacity=\"1\" /><path clip-path=\"url(#clip760)\" d=\"M2098.24 203.238 Q2098.24 198.539 2096.3 195.877 Q2094.38 193.192 2091 193.192 Q2087.62 193.192 2085.67 195.877 Q2083.75 198.539 2083.75 203.238 Q2083.75 207.937 2085.67 210.622 Q2087.62 213.284 2091 213.284 Q2094.38 213.284 2096.3 210.622 Q2098.24 207.937 2098.24 203.238 M2083.75 194.187 Q2085.1 191.872 2087.13 190.761 Q2089.19 189.627 2092.04 189.627 Q2096.76 189.627 2099.7 193.377 Q2102.67 197.127 2102.67 203.238 Q2102.67 209.349 2099.7 213.099 Q2096.76 216.849 2092.04 216.849 Q2089.19 216.849 2087.13 215.738 Q2085.1 214.603 2083.75 212.289 L2083.75 216.178 L2079.47 216.178 L2079.47 180.159 L2083.75 180.159 L2083.75 194.187 Z\" fill=\"#000000\" fill-rule=\"evenodd\" fill-opacity=\"1\" /><path clip-path=\"url(#clip760)\" d=\"M2119.77 193.238 Q2116.35 193.238 2114.36 195.923 Q2112.36 198.585 2112.36 203.238 Q2112.36 207.891 2114.33 210.576 Q2116.32 213.238 2119.77 213.238 Q2123.17 213.238 2125.17 210.553 Q2127.16 207.867 2127.16 203.238 Q2127.16 198.631 2125.17 195.946 Q2123.17 193.238 2119.77 193.238 M2119.77 189.627 Q2125.33 189.627 2128.5 193.238 Q2131.67 196.849 2131.67 203.238 Q2131.67 209.604 2128.5 213.238 Q2125.33 216.849 2119.77 216.849 Q2114.19 216.849 2111.02 213.238 Q2107.87 209.604 2107.87 203.238 Q2107.87 196.849 2111.02 193.238 Q2114.19 189.627 2119.77 189.627 Z\" fill=\"#000000\" fill-rule=\"evenodd\" fill-opacity=\"1\" /><path clip-path=\"url(#clip760)\" d=\"M2138.29 205.946 L2138.29 190.252 L2142.55 190.252 L2142.55 205.784 Q2142.55 209.465 2143.98 211.316 Q2145.42 213.145 2148.29 213.145 Q2151.74 213.145 2153.73 210.946 Q2155.74 208.747 2155.74 204.951 L2155.74 190.252 L2160 190.252 L2160 216.178 L2155.74 216.178 L2155.74 212.196 Q2154.19 214.557 2152.13 215.715 Q2150.1 216.849 2147.39 216.849 Q2142.92 216.849 2140.6 214.071 Q2138.29 211.293 2138.29 205.946 M2149.01 189.627 L2149.01 189.627 Z\" fill=\"#000000\" fill-rule=\"evenodd\" fill-opacity=\"1\" /><path clip-path=\"url(#clip760)\" d=\"M2190.33 200.529 L2190.33 216.178 L2186.07 216.178 L2186.07 200.668 Q2186.07 196.988 2184.63 195.159 Q2183.2 193.33 2180.33 193.33 Q2176.88 193.33 2174.89 195.53 Q2172.9 197.729 2172.9 201.525 L2172.9 216.178 L2168.61 216.178 L2168.61 190.252 L2172.9 190.252 L2172.9 194.28 Q2174.42 191.942 2176.48 190.784 Q2178.57 189.627 2181.28 189.627 Q2185.74 189.627 2188.04 192.405 Q2190.33 195.159 2190.33 200.529 Z\" fill=\"#000000\" fill-rule=\"evenodd\" fill-opacity=\"1\" /><path clip-path=\"url(#clip760)\" d=\"M2215.88 194.187 L2215.88 180.159 L2220.14 180.159 L2220.14 216.178 L2215.88 216.178 L2215.88 212.289 Q2214.54 214.603 2212.48 215.738 Q2210.44 216.849 2207.57 216.849 Q2202.87 216.849 2199.91 213.099 Q2196.97 209.349 2196.97 203.238 Q2196.97 197.127 2199.91 193.377 Q2202.87 189.627 2207.57 189.627 Q2210.44 189.627 2212.48 190.761 Q2214.54 191.872 2215.88 194.187 M2201.37 203.238 Q2201.37 207.937 2203.29 210.622 Q2205.23 213.284 2208.61 213.284 Q2211.99 213.284 2213.94 210.622 Q2215.88 207.937 2215.88 203.238 Q2215.88 198.539 2213.94 195.877 Q2211.99 193.192 2208.61 193.192 Q2205.23 193.192 2203.29 195.877 Q2201.37 198.539 2201.37 203.238 Z\" fill=\"#000000\" fill-rule=\"evenodd\" fill-opacity=\"1\" /><polyline clip-path=\"url(#clip760)\" style=\"stroke:#3da44d; stroke-linecap:butt; stroke-linejoin:round; stroke-width:4; stroke-opacity:1; fill:none\" points=\"\n  1762.91,250.738 1910.38,250.738 \n  \"/>\n<path clip-path=\"url(#clip760)\" d=\"M1942.37 233.945 L1942.37 241.306 L1951.14 241.306 L1951.14 244.616 L1942.37 244.616 L1942.37 258.69 Q1942.37 261.861 1943.22 262.764 Q1944.1 263.667 1946.76 263.667 L1951.14 263.667 L1951.14 267.232 L1946.76 267.232 Q1941.83 267.232 1939.96 265.403 Q1938.08 263.551 1938.08 258.69 L1938.08 244.616 L1934.96 244.616 L1934.96 241.306 L1938.08 241.306 L1938.08 233.945 L1942.37 233.945 Z\" fill=\"#000000\" fill-rule=\"evenodd\" fill-opacity=\"1\" /><path clip-path=\"url(#clip760)\" d=\"M1971.76 245.287 Q1971.05 244.871 1970.19 244.685 Q1969.36 244.477 1968.34 244.477 Q1964.73 244.477 1962.78 246.838 Q1960.86 249.176 1960.86 253.574 L1960.86 267.232 L1956.58 267.232 L1956.58 241.306 L1960.86 241.306 L1960.86 245.334 Q1962.2 242.972 1964.36 241.838 Q1966.51 240.681 1969.59 240.681 Q1970.03 240.681 1970.56 240.75 Q1971.09 240.797 1971.74 240.912 L1971.76 245.287 Z\" fill=\"#000000\" fill-rule=\"evenodd\" fill-opacity=\"1\" /><path clip-path=\"url(#clip760)\" d=\"M1975.79 257 L1975.79 241.306 L1980.05 241.306 L1980.05 256.838 Q1980.05 260.519 1981.49 262.37 Q1982.92 264.199 1985.79 264.199 Q1989.24 264.199 1991.23 262 Q1993.24 259.801 1993.24 256.005 L1993.24 241.306 L1997.5 241.306 L1997.5 267.232 L1993.24 267.232 L1993.24 263.25 Q1991.69 265.611 1989.63 266.769 Q1987.6 267.903 1984.89 267.903 Q1980.42 267.903 1978.11 265.125 Q1975.79 262.347 1975.79 257 M1986.51 240.681 L1986.51 240.681 Z\" fill=\"#000000\" fill-rule=\"evenodd\" fill-opacity=\"1\" /><path clip-path=\"url(#clip760)\" d=\"M2028.45 253.204 L2028.45 255.287 L2008.87 255.287 Q2009.15 259.685 2011.51 262 Q2013.89 264.292 2018.13 264.292 Q2020.58 264.292 2022.87 263.69 Q2025.19 263.088 2027.46 261.884 L2027.46 265.912 Q2025.17 266.884 2022.76 267.394 Q2020.35 267.903 2017.87 267.903 Q2011.67 267.903 2008.04 264.292 Q2004.43 260.681 2004.43 254.523 Q2004.43 248.158 2007.85 244.431 Q2011.3 240.681 2017.13 240.681 Q2022.36 240.681 2025.4 244.06 Q2028.45 247.417 2028.45 253.204 M2024.19 251.954 Q2024.15 248.459 2022.23 246.375 Q2020.33 244.292 2017.18 244.292 Q2013.61 244.292 2011.46 246.306 Q2009.33 248.32 2009.01 251.977 L2024.19 251.954 Z\" fill=\"#000000\" fill-rule=\"evenodd\" fill-opacity=\"1\" /><path clip-path=\"url(#clip760)\" d=\"M2080.92 235.049 Q2080.92 235.354 2080.85 235.541 Q2080.8 235.728 2080.62 235.822 Q2080.45 235.892 2080.34 235.916 Q2080.24 235.939 2079.96 235.963 Q2078.81 236.056 2077.85 236.361 Q2076.89 236.642 2076.07 237.204 Q2075.28 237.766 2074.83 238.141 Q2074.41 238.516 2073.66 239.265 L2073 239.944 L2061.11 253.6 Q2060.68 254.068 2060.43 255.099 L2058.74 261.868 Q2058.08 264.679 2058.08 264.889 Q2058.08 265.311 2058.32 265.451 Q2058.58 265.569 2059.37 265.639 L2061.2 265.756 Q2062.28 265.756 2062.44 265.943 Q2062.53 266.06 2062.53 266.271 Q2062.53 266.716 2062.35 266.951 Q2062.18 267.161 2062.02 267.208 Q2061.88 267.232 2061.62 267.232 L2055.48 267.091 L2049.44 267.232 Q2048.76 267.232 2048.76 266.693 Q2048.76 266.342 2048.81 266.154 Q2048.88 265.943 2049.09 265.873 Q2049.3 265.779 2049.46 265.779 Q2049.63 265.756 2050.07 265.756 Q2051.15 265.733 2051.69 265.733 Q2052.25 265.709 2052.79 265.569 Q2053.33 265.428 2053.52 265.334 Q2053.73 265.217 2053.96 264.819 Q2054.22 264.397 2054.29 264.07 Q2054.38 263.742 2054.57 262.922 Q2054.76 262.196 2055.74 258.237 Q2056.73 254.279 2056.73 254.185 Q2056.73 253.928 2056.54 253.365 L2050.64 237.579 Q2050.38 236.876 2050.17 236.595 Q2049.96 236.314 2049.25 236.15 Q2048.55 235.963 2047.15 235.963 Q2046.75 235.963 2046.56 235.939 Q2046.37 235.916 2046.21 235.799 Q2046.05 235.682 2046.05 235.424 Q2046.05 234.979 2046.23 234.768 Q2046.42 234.534 2046.56 234.51 Q2046.72 234.464 2046.96 234.464 Q2047.54 234.464 2049.63 234.534 Q2051.71 234.604 2052.32 234.604 L2058.37 234.464 Q2059.09 234.464 2059.09 235.002 Q2059.09 235.658 2058.83 235.822 Q2058.58 235.963 2057.94 235.963 Q2055.11 235.963 2055.11 237.11 Q2055.11 237.251 2055.39 237.93 L2060.66 252.171 L2071.79 239.359 L2071.95 239.171 Q2072.09 238.984 2072.21 238.844 Q2072.33 238.703 2072.51 238.445 Q2072.7 238.188 2072.79 237.977 Q2072.91 237.766 2073 237.509 Q2073.1 237.251 2073.1 237.063 Q2073.1 236.712 2072.89 236.478 Q2072.68 236.22 2072.35 236.127 Q2072.02 236.033 2071.79 236.009 Q2071.55 235.963 2071.36 235.963 Q2070.64 235.963 2070.64 235.377 Q2070.64 234.955 2070.83 234.745 Q2071.01 234.51 2071.15 234.487 Q2071.32 234.464 2071.55 234.464 Q2072.33 234.464 2073.94 234.534 Q2075.56 234.604 2076.35 234.604 Q2077.01 234.604 2078.34 234.534 Q2079.68 234.464 2080.29 234.464 Q2080.92 234.464 2080.92 235.049 Z\" fill=\"#000000\" fill-rule=\"evenodd\" fill-opacity=\"1\" /><path clip-path=\"url(#clip760)\" d=\"M2085.7 261.354 L2085.7 260.305 Q2089.73 260.305 2091.81 258.157 Q2092.39 258.157 2092.48 258.288 Q2092.58 258.419 2092.58 259.026 L2092.58 277.865 Q2092.58 278.865 2093.07 279.176 Q2093.57 279.488 2095.71 279.488 L2096.78 279.488 L2096.78 280.521 Q2095.6 280.422 2091.34 280.422 Q2087.07 280.422 2085.91 280.521 L2085.91 279.488 L2086.98 279.488 Q2089.09 279.488 2089.6 279.193 Q2090.11 278.881 2090.11 277.865 L2090.11 260.469 Q2088.35 261.354 2085.7 261.354 Z\" fill=\"#000000\" fill-rule=\"evenodd\" fill-opacity=\"1\" /></svg>\n"
     },
     "execution_count": 20,
     "metadata": {},
     "output_type": "execute_result"
    }
   ],
   "source": [
    "upper_bound_Y1 = []\n",
    "oracle_Y1 = []\n",
    "lower_bound_Y1 = []\n",
    "\n",
    "for i in 1:500\n",
    "    df2 = data_generation2(800; K = 1.5, H = 1.5)\n",
    "    push!(upper_bound_Y1, compute_upper_Y1(df2; K = 1.5, H = 1.5))\n",
    "    push!(lower_bound_Y1, compute_lower_Y1(df2; K = 1.5, H = 1.5))\n",
    "    push!(oracle_Y1, mean(df2[df2.G.==0, :Y1]))\n",
    "end\n",
    "\n",
    "histogram(upper_bound_Y1, bins = 50, alpha = 0.1, label = \"upper bound\")\n",
    "histogram!(lower_bound_Y1, bins = 50, alpha = 0.1, label = \"lower bound\")\n",
    "vline!([mean(oracle_Y1)], label = L\"true $Y_{1}$\")"
   ]
  },
  {
   "cell_type": "code",
   "execution_count": null,
   "metadata": {},
   "outputs": [],
   "source": []
  }
 ],
 "metadata": {
  "kernelspec": {
   "display_name": "Julia 1.6.0",
   "language": "julia",
   "name": "julia-1.6"
  },
  "language_info": {
   "file_extension": ".jl",
   "mimetype": "application/julia",
   "name": "julia",
   "version": "1.6.2"
  },
  "orig_nbformat": 4
 },
 "nbformat": 4,
 "nbformat_minor": 2
}
